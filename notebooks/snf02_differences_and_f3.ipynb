{
 "cells": [
  {
   "cell_type": "markdown",
   "metadata": {},
   "source": [
    "In snf01, I only looked for the presence of non-ref.\n",
    "In this notebook, I will split it up into fixed/segregating sites for each pop, and how these sites segregate in other populations.\n",
    "To make sure that the signal is less due to sequencing errors, I will also require each site to have a non-ref count of 2 for each."
   ]
  },
  {
   "cell_type": "code",
   "execution_count": 1,
   "metadata": {},
   "outputs": [],
   "source": [
    "%run ../scripts/notebook_settings.py"
   ]
  },
  {
   "cell_type": "code",
   "execution_count": 2,
   "metadata": {},
   "outputs": [],
   "source": [
    "meta_data_samples = pd.read_table(\"../data/metadata_with_x_missing.txt\", sep=\" \")"
   ]
  },
  {
   "cell_type": "code",
   "execution_count": 3,
   "metadata": {},
   "outputs": [],
   "source": [
    "zarr_dir = \"/faststorage/project/baboondiversity/data/PG_panu3_zarr_12_03_2021/callset.zarr/chrX\"\n",
    "#Opening the zarr data\n",
    "callset = zarr.open_group(zarr_dir, mode=\"r\")\n",
    "gt = allel.GenotypeArray(callset[\"calldata/GT\"])"
   ]
  },
  {
   "cell_type": "markdown",
   "metadata": {},
   "source": [
    "Filter for sites"
   ]
  },
  {
   "cell_type": "code",
   "execution_count": 4,
   "metadata": {},
   "outputs": [
    {
     "name": "stdout",
     "output_type": "stream",
     "text": [
      "2560187 2923212 0.8758129755898648\n"
     ]
    }
   ],
   "source": [
    "ac = gt.count_alleles()[:] #Allele counts for each pos\n",
    "flt = (ac.max_allele() == 1)  & (ac[:, :2].min(axis=1) > 1) #Filter for biallelic and presence of alternate\n",
    "gf = gt.compress(flt, axis=0)\n",
    "pos = (callset[\"variants/POS\"][:]).compress(flt, axis=0)\n",
    "print(len(gf), len(gt), len(gf)/len(gt))"
   ]
  },
  {
   "cell_type": "markdown",
   "metadata": {},
   "source": [
    "4 % are not biallelic and 7 % is fixed for one state (alternate?)"
   ]
  },
  {
   "cell_type": "markdown",
   "metadata": {},
   "source": [
    "Picking the IDs to keep (using the clustering mentioned earlier)"
   ]
  },
  {
   "cell_type": "code",
   "execution_count": 5,
   "metadata": {},
   "outputs": [
    {
     "data": {
      "text/plain": [
       "{'Cynocephalus, Central Tanzania': array([  0,   1,  24,  25,  27,  35,  36,  37,  48,  61,  62,  63,  87,\n",
       "        177, 186, 197, 201, 202, 204, 205, 206]),\n",
       " 'Kindae, Zambia': array([  4,   5, 192, 213, 220, 221, 222, 223, 224]),\n",
       " 'Hamadryas, Ethiopia': array([  7, 130, 132, 133, 140, 142]),\n",
       " 'Anubis, Tanzania': array([ 10,  11,  14,  16,  17,  19,  20,  21,  22,  23,  30,  32,  33,\n",
       "         49,  50,  51,  52,  54,  55,  56,  76,  79,  83,  84,  85,  90,\n",
       "         91,  93,  95,  97,  99, 100, 101, 106, 107, 108, 109, 110, 112,\n",
       "        114, 115, 117, 118]),\n",
       " 'Cynocephalus, Western Tanzania': array([ 43, 104, 105]),\n",
       " 'Papio, Senegal': array([64, 65, 66, 67, 68]),\n",
       " 'Ursinus, Zambia': array([125, 126, 127]),\n",
       " 'Anubis, Ethiopia': array([153, 156, 158, 162, 168, 169, 170, 176])}"
      ]
     },
     "execution_count": 5,
     "metadata": {},
     "output_type": "execute_result"
    }
   ],
   "source": [
    "c_dir = {}\n",
    "for c in meta_data_samples.C_origin.unique():\n",
    "    IDs = meta_data_samples.loc[(meta_data_samples.C_origin == c)\n",
    "                                      & (meta_data_samples.Sex == \"F\")].callset_index.values\n",
    "    if len(IDs) > 1:\n",
    "        c_dir[c] = IDs\n",
    "c_dir"
   ]
  },
  {
   "cell_type": "markdown",
   "metadata": {},
   "source": [
    "Creating a dataframe with derived counts"
   ]
  },
  {
   "cell_type": "code",
   "execution_count": 6,
   "metadata": {},
   "outputs": [
    {
     "name": "stdout",
     "output_type": "stream",
     "text": [
      "Cynocephalus, Central Tanzania\n",
      "864233\n",
      "Kindae, Zambia\n",
      "578411\n",
      "Hamadryas, Ethiopia\n",
      "355074\n",
      "Anubis, Tanzania\n",
      "650231\n",
      "Cynocephalus, Western Tanzania\n",
      "547103\n",
      "Papio, Senegal\n",
      "185075\n",
      "Ursinus, Zambia\n",
      "410758\n",
      "Anubis, Ethiopia\n",
      "310132\n"
     ]
    }
   ],
   "source": [
    "df_cluster = pd.DataFrame()\n",
    "df_cluster[\"pos\"] = pos\n",
    "for c in c_dir:\n",
    "    print(c)\n",
    "    IDs = c_dir[c]\n",
    "    gt_c = gf.take(IDs, axis=1)\n",
    "    ac = gt_c.count_alleles()\n",
    "    df_cluster[c] = ac.take([1], axis=1) # Only containing derived\n",
    "    print(ac.is_variant().sum())"
   ]
  },
  {
   "cell_type": "code",
   "execution_count": 7,
   "metadata": {},
   "outputs": [
    {
     "data": {
      "text/plain": [
       "array([[ 0],\n",
       "       [ 0],\n",
       "       [ 6],\n",
       "       ...,\n",
       "       [ 0],\n",
       "       [ 0],\n",
       "       [14]], dtype=int32)"
      ]
     },
     "execution_count": 7,
     "metadata": {},
     "output_type": "execute_result"
    }
   ],
   "source": [
    "ac.take([1], axis=1)"
   ]
  },
  {
   "cell_type": "code",
   "execution_count": 8,
   "metadata": {},
   "outputs": [
    {
     "data": {
      "text/html": [
       "<div>\n",
       "<style scoped>\n",
       "    .dataframe tbody tr th:only-of-type {\n",
       "        vertical-align: middle;\n",
       "    }\n",
       "\n",
       "    .dataframe tbody tr th {\n",
       "        vertical-align: top;\n",
       "    }\n",
       "\n",
       "    .dataframe thead th {\n",
       "        text-align: right;\n",
       "    }\n",
       "</style>\n",
       "<table border=\"1\" class=\"dataframe\">\n",
       "  <thead>\n",
       "    <tr style=\"text-align: right;\">\n",
       "      <th></th>\n",
       "      <th>pos</th>\n",
       "      <th>Cynocephalus, Central Tanzania</th>\n",
       "      <th>Kindae, Zambia</th>\n",
       "      <th>Hamadryas, Ethiopia</th>\n",
       "      <th>Anubis, Tanzania</th>\n",
       "      <th>Cynocephalus, Western Tanzania</th>\n",
       "      <th>Papio, Senegal</th>\n",
       "      <th>Ursinus, Zambia</th>\n",
       "      <th>Anubis, Ethiopia</th>\n",
       "    </tr>\n",
       "  </thead>\n",
       "  <tbody>\n",
       "    <tr>\n",
       "      <th>0</th>\n",
       "      <td>37</td>\n",
       "      <td>30</td>\n",
       "      <td>1</td>\n",
       "      <td>0</td>\n",
       "      <td>14</td>\n",
       "      <td>4</td>\n",
       "      <td>8</td>\n",
       "      <td>6</td>\n",
       "      <td>0</td>\n",
       "    </tr>\n",
       "    <tr>\n",
       "      <th>1</th>\n",
       "      <td>57</td>\n",
       "      <td>17</td>\n",
       "      <td>1</td>\n",
       "      <td>0</td>\n",
       "      <td>11</td>\n",
       "      <td>4</td>\n",
       "      <td>0</td>\n",
       "      <td>6</td>\n",
       "      <td>0</td>\n",
       "    </tr>\n",
       "    <tr>\n",
       "      <th>2</th>\n",
       "      <td>157</td>\n",
       "      <td>2</td>\n",
       "      <td>7</td>\n",
       "      <td>10</td>\n",
       "      <td>45</td>\n",
       "      <td>2</td>\n",
       "      <td>0</td>\n",
       "      <td>1</td>\n",
       "      <td>6</td>\n",
       "    </tr>\n",
       "    <tr>\n",
       "      <th>3</th>\n",
       "      <td>170</td>\n",
       "      <td>6</td>\n",
       "      <td>0</td>\n",
       "      <td>0</td>\n",
       "      <td>3</td>\n",
       "      <td>2</td>\n",
       "      <td>0</td>\n",
       "      <td>0</td>\n",
       "      <td>0</td>\n",
       "    </tr>\n",
       "    <tr>\n",
       "      <th>4</th>\n",
       "      <td>216</td>\n",
       "      <td>0</td>\n",
       "      <td>0</td>\n",
       "      <td>0</td>\n",
       "      <td>0</td>\n",
       "      <td>0</td>\n",
       "      <td>0</td>\n",
       "      <td>0</td>\n",
       "      <td>0</td>\n",
       "    </tr>\n",
       "    <tr>\n",
       "      <th>...</th>\n",
       "      <td>...</td>\n",
       "      <td>...</td>\n",
       "      <td>...</td>\n",
       "      <td>...</td>\n",
       "      <td>...</td>\n",
       "      <td>...</td>\n",
       "      <td>...</td>\n",
       "      <td>...</td>\n",
       "      <td>...</td>\n",
       "    </tr>\n",
       "    <tr>\n",
       "      <th>2560182</th>\n",
       "      <td>143691503</td>\n",
       "      <td>0</td>\n",
       "      <td>0</td>\n",
       "      <td>0</td>\n",
       "      <td>0</td>\n",
       "      <td>0</td>\n",
       "      <td>0</td>\n",
       "      <td>0</td>\n",
       "      <td>0</td>\n",
       "    </tr>\n",
       "    <tr>\n",
       "      <th>2560183</th>\n",
       "      <td>143691509</td>\n",
       "      <td>0</td>\n",
       "      <td>0</td>\n",
       "      <td>0</td>\n",
       "      <td>0</td>\n",
       "      <td>0</td>\n",
       "      <td>0</td>\n",
       "      <td>0</td>\n",
       "      <td>0</td>\n",
       "    </tr>\n",
       "    <tr>\n",
       "      <th>2560184</th>\n",
       "      <td>143691526</td>\n",
       "      <td>0</td>\n",
       "      <td>0</td>\n",
       "      <td>0</td>\n",
       "      <td>0</td>\n",
       "      <td>0</td>\n",
       "      <td>0</td>\n",
       "      <td>0</td>\n",
       "      <td>0</td>\n",
       "    </tr>\n",
       "    <tr>\n",
       "      <th>2560185</th>\n",
       "      <td>143691548</td>\n",
       "      <td>0</td>\n",
       "      <td>0</td>\n",
       "      <td>0</td>\n",
       "      <td>0</td>\n",
       "      <td>0</td>\n",
       "      <td>0</td>\n",
       "      <td>0</td>\n",
       "      <td>0</td>\n",
       "    </tr>\n",
       "    <tr>\n",
       "      <th>2560186</th>\n",
       "      <td>143691566</td>\n",
       "      <td>40</td>\n",
       "      <td>15</td>\n",
       "      <td>11</td>\n",
       "      <td>82</td>\n",
       "      <td>6</td>\n",
       "      <td>10</td>\n",
       "      <td>3</td>\n",
       "      <td>14</td>\n",
       "    </tr>\n",
       "  </tbody>\n",
       "</table>\n",
       "<p>2560187 rows × 9 columns</p>\n",
       "</div>"
      ],
      "text/plain": [
       "               pos  Cynocephalus, Central Tanzania  Kindae, Zambia  \\\n",
       "0               37                              30               1   \n",
       "1               57                              17               1   \n",
       "2              157                               2               7   \n",
       "3              170                               6               0   \n",
       "4              216                               0               0   \n",
       "...            ...                             ...             ...   \n",
       "2560182  143691503                               0               0   \n",
       "2560183  143691509                               0               0   \n",
       "2560184  143691526                               0               0   \n",
       "2560185  143691548                               0               0   \n",
       "2560186  143691566                              40              15   \n",
       "\n",
       "         Hamadryas, Ethiopia  Anubis, Tanzania  \\\n",
       "0                          0                14   \n",
       "1                          0                11   \n",
       "2                         10                45   \n",
       "3                          0                 3   \n",
       "4                          0                 0   \n",
       "...                      ...               ...   \n",
       "2560182                    0                 0   \n",
       "2560183                    0                 0   \n",
       "2560184                    0                 0   \n",
       "2560185                    0                 0   \n",
       "2560186                   11                82   \n",
       "\n",
       "         Cynocephalus, Western Tanzania  Papio, Senegal  Ursinus, Zambia  \\\n",
       "0                                     4               8                6   \n",
       "1                                     4               0                6   \n",
       "2                                     2               0                1   \n",
       "3                                     2               0                0   \n",
       "4                                     0               0                0   \n",
       "...                                 ...             ...              ...   \n",
       "2560182                               0               0                0   \n",
       "2560183                               0               0                0   \n",
       "2560184                               0               0                0   \n",
       "2560185                               0               0                0   \n",
       "2560186                               6              10                3   \n",
       "\n",
       "         Anubis, Ethiopia  \n",
       "0                       0  \n",
       "1                       0  \n",
       "2                       6  \n",
       "3                       0  \n",
       "4                       0  \n",
       "...                   ...  \n",
       "2560182                 0  \n",
       "2560183                 0  \n",
       "2560184                 0  \n",
       "2560185                 0  \n",
       "2560186                14  \n",
       "\n",
       "[2560187 rows x 9 columns]"
      ]
     },
     "execution_count": 8,
     "metadata": {},
     "output_type": "execute_result"
    }
   ],
   "source": [
    "df_cluster"
   ]
  },
  {
   "cell_type": "markdown",
   "metadata": {},
   "source": [
    "For the first run, I will just look at anubis and hamadryas. Looking at cynocephalus and anubis will also be advisable"
   ]
  },
  {
   "cell_type": "code",
   "execution_count": 9,
   "metadata": {},
   "outputs": [],
   "source": [
    "df_haa = df_cluster.take([0, 3, 4, 8],axis=1)"
   ]
  },
  {
   "cell_type": "code",
   "execution_count": 10,
   "metadata": {},
   "outputs": [
    {
     "data": {
      "text/html": [
       "<div>\n",
       "<style scoped>\n",
       "    .dataframe tbody tr th:only-of-type {\n",
       "        vertical-align: middle;\n",
       "    }\n",
       "\n",
       "    .dataframe tbody tr th {\n",
       "        vertical-align: top;\n",
       "    }\n",
       "\n",
       "    .dataframe thead th {\n",
       "        text-align: right;\n",
       "    }\n",
       "</style>\n",
       "<table border=\"1\" class=\"dataframe\">\n",
       "  <thead>\n",
       "    <tr style=\"text-align: right;\">\n",
       "      <th></th>\n",
       "      <th>pos</th>\n",
       "      <th>Hamadryas, Ethiopia</th>\n",
       "      <th>Anubis, Tanzania</th>\n",
       "      <th>Anubis, Ethiopia</th>\n",
       "    </tr>\n",
       "  </thead>\n",
       "  <tbody>\n",
       "    <tr>\n",
       "      <th>0</th>\n",
       "      <td>37</td>\n",
       "      <td>0</td>\n",
       "      <td>14</td>\n",
       "      <td>0</td>\n",
       "    </tr>\n",
       "    <tr>\n",
       "      <th>1</th>\n",
       "      <td>57</td>\n",
       "      <td>0</td>\n",
       "      <td>11</td>\n",
       "      <td>0</td>\n",
       "    </tr>\n",
       "    <tr>\n",
       "      <th>2</th>\n",
       "      <td>157</td>\n",
       "      <td>10</td>\n",
       "      <td>45</td>\n",
       "      <td>6</td>\n",
       "    </tr>\n",
       "    <tr>\n",
       "      <th>3</th>\n",
       "      <td>170</td>\n",
       "      <td>0</td>\n",
       "      <td>3</td>\n",
       "      <td>0</td>\n",
       "    </tr>\n",
       "  </tbody>\n",
       "</table>\n",
       "</div>"
      ],
      "text/plain": [
       "   pos  Hamadryas, Ethiopia  Anubis, Tanzania  Anubis, Ethiopia\n",
       "0   37                    0                14                 0\n",
       "1   57                    0                11                 0\n",
       "2  157                   10                45                 6\n",
       "3  170                    0                 3                 0"
      ]
     },
     "execution_count": 10,
     "metadata": {},
     "output_type": "execute_result"
    }
   ],
   "source": [
    "df_haa.loc[df_haa.pos < 200]"
   ]
  },
  {
   "cell_type": "markdown",
   "metadata": {},
   "source": [
    "Number of sites with the four different derived cases"
   ]
  },
  {
   "cell_type": "code",
   "execution_count": 11,
   "metadata": {},
   "outputs": [
    {
     "data": {
      "text/plain": [
       "0    1657162\n",
       "1     633946\n",
       "3     143333\n",
       "2     125746\n",
       "dtype: int64"
      ]
     },
     "execution_count": 11,
     "metadata": {},
     "output_type": "execute_result"
    }
   ],
   "source": [
    "(df_haa.iloc[:,1:] > 0).sum(axis=1).value_counts()"
   ]
  },
  {
   "cell_type": "code",
   "execution_count": 12,
   "metadata": {},
   "outputs": [
    {
     "data": {
      "text/plain": [
       "<AxesSubplot:ylabel='Count'>"
      ]
     },
     "execution_count": 12,
     "metadata": {},
     "output_type": "execute_result"
    },
    {
     "data": {
      "image/png": "[encoded data removed]",
      "text/plain": [
       "<Figure size 432x288 with 1 Axes>"
      ]
     },
     "metadata": {},
     "output_type": "display_data"
    }
   ],
   "source": [
    "sns.histplot(x=(df_haa.iloc[:,1:] > 0).sum(axis=1))"
   ]
  },
  {
   "cell_type": "code",
   "execution_count": 13,
   "metadata": {},
   "outputs": [],
   "source": [
    "df_haa_2_derived = df_haa.loc[(df_haa.iloc[:,1:] > 0).sum(axis=1) == 2]"
   ]
  },
  {
   "cell_type": "code",
   "execution_count": 14,
   "metadata": {},
   "outputs": [
    {
     "name": "stdout",
     "output_type": "stream",
     "text": [
      "125746\n",
      "50494\n",
      "26554\n",
      "48698\n"
     ]
    }
   ],
   "source": [
    "print(len(df_haa_2_derived))\n",
    "print((df_haa_2_derived[\"Hamadryas, Ethiopia\"] == 0).sum())\n",
    "print((df_haa_2_derived[\"Anubis, Tanzania\"] == 0).sum())\n",
    "print((df_haa_2_derived[\"Anubis, Ethiopia\"] == 0).sum())"
   ]
  },
  {
   "cell_type": "markdown",
   "metadata": {},
   "source": [
    "The above observation is surprising - it might be due to the higher number of samples from Anubis in Tanzania.\n",
    "Trying to restrict it to more than 2"
   ]
  },
  {
   "cell_type": "code",
   "execution_count": 15,
   "metadata": {},
   "outputs": [],
   "source": [
    "df_haa_2_derived = df_haa.loc[(df_haa.iloc[:,1:] > 1).sum(axis=1) == 2]"
   ]
  },
  {
   "cell_type": "code",
   "execution_count": 16,
   "metadata": {},
   "outputs": [
    {
     "name": "stdout",
     "output_type": "stream",
     "text": [
      "110597\n",
      "35532\n",
      "13526\n",
      "37950\n"
     ]
    }
   ],
   "source": [
    "print(len(df_haa_2_derived))\n",
    "print((df_haa_2_derived[\"Hamadryas, Ethiopia\"] == 0).sum())\n",
    "print((df_haa_2_derived[\"Anubis, Tanzania\"] == 0).sum())\n",
    "print((df_haa_2_derived[\"Anubis, Ethiopia\"] == 0).sum())"
   ]
  },
  {
   "cell_type": "code",
   "execution_count": 17,
   "metadata": {},
   "outputs": [
    {
     "data": {
      "text/html": [
       "<div>\n",
       "<style scoped>\n",
       "    .dataframe tbody tr th:only-of-type {\n",
       "        vertical-align: middle;\n",
       "    }\n",
       "\n",
       "    .dataframe tbody tr th {\n",
       "        vertical-align: top;\n",
       "    }\n",
       "\n",
       "    .dataframe thead th {\n",
       "        text-align: right;\n",
       "    }\n",
       "</style>\n",
       "<table border=\"1\" class=\"dataframe\">\n",
       "  <thead>\n",
       "    <tr style=\"text-align: right;\">\n",
       "      <th></th>\n",
       "      <th>pos</th>\n",
       "      <th>Hamadryas, Ethiopia</th>\n",
       "      <th>Anubis, Tanzania</th>\n",
       "      <th>Anubis, Ethiopia</th>\n",
       "    </tr>\n",
       "  </thead>\n",
       "  <tbody>\n",
       "    <tr>\n",
       "      <th>364</th>\n",
       "      <td>10674</td>\n",
       "      <td>4</td>\n",
       "      <td>14</td>\n",
       "      <td>0</td>\n",
       "    </tr>\n",
       "    <tr>\n",
       "      <th>398</th>\n",
       "      <td>11544</td>\n",
       "      <td>6</td>\n",
       "      <td>24</td>\n",
       "      <td>0</td>\n",
       "    </tr>\n",
       "    <tr>\n",
       "      <th>409</th>\n",
       "      <td>11937</td>\n",
       "      <td>6</td>\n",
       "      <td>21</td>\n",
       "      <td>0</td>\n",
       "    </tr>\n",
       "    <tr>\n",
       "      <th>414</th>\n",
       "      <td>12062</td>\n",
       "      <td>6</td>\n",
       "      <td>14</td>\n",
       "      <td>0</td>\n",
       "    </tr>\n",
       "    <tr>\n",
       "      <th>436</th>\n",
       "      <td>12731</td>\n",
       "      <td>6</td>\n",
       "      <td>14</td>\n",
       "      <td>0</td>\n",
       "    </tr>\n",
       "    <tr>\n",
       "      <th>...</th>\n",
       "      <td>...</td>\n",
       "      <td>...</td>\n",
       "      <td>...</td>\n",
       "      <td>...</td>\n",
       "    </tr>\n",
       "    <tr>\n",
       "      <th>2559732</th>\n",
       "      <td>143661822</td>\n",
       "      <td>12</td>\n",
       "      <td>34</td>\n",
       "      <td>0</td>\n",
       "    </tr>\n",
       "    <tr>\n",
       "      <th>2560016</th>\n",
       "      <td>143677321</td>\n",
       "      <td>3</td>\n",
       "      <td>36</td>\n",
       "      <td>0</td>\n",
       "    </tr>\n",
       "    <tr>\n",
       "      <th>2560046</th>\n",
       "      <td>143678390</td>\n",
       "      <td>5</td>\n",
       "      <td>2</td>\n",
       "      <td>0</td>\n",
       "    </tr>\n",
       "    <tr>\n",
       "      <th>2560119</th>\n",
       "      <td>143683013</td>\n",
       "      <td>3</td>\n",
       "      <td>5</td>\n",
       "      <td>0</td>\n",
       "    </tr>\n",
       "    <tr>\n",
       "      <th>2560168</th>\n",
       "      <td>143689426</td>\n",
       "      <td>2</td>\n",
       "      <td>11</td>\n",
       "      <td>0</td>\n",
       "    </tr>\n",
       "  </tbody>\n",
       "</table>\n",
       "<p>37950 rows × 4 columns</p>\n",
       "</div>"
      ],
      "text/plain": [
       "               pos  Hamadryas, Ethiopia  Anubis, Tanzania  Anubis, Ethiopia\n",
       "364          10674                    4                14                 0\n",
       "398          11544                    6                24                 0\n",
       "409          11937                    6                21                 0\n",
       "414          12062                    6                14                 0\n",
       "436          12731                    6                14                 0\n",
       "...            ...                  ...               ...               ...\n",
       "2559732  143661822                   12                34                 0\n",
       "2560016  143677321                    3                36                 0\n",
       "2560046  143678390                    5                 2                 0\n",
       "2560119  143683013                    3                 5                 0\n",
       "2560168  143689426                    2                11                 0\n",
       "\n",
       "[37950 rows x 4 columns]"
      ]
     },
     "execution_count": 17,
     "metadata": {},
     "output_type": "execute_result"
    }
   ],
   "source": [
    "df_haa_2_derived.loc[df_haa_2_derived[\"Anubis, Ethiopia\"] == 0]"
   ]
  },
  {
   "cell_type": "markdown",
   "metadata": {},
   "source": [
    "A generalized chunk to handle this"
   ]
  },
  {
   "cell_type": "code",
   "execution_count": 18,
   "metadata": {},
   "outputs": [],
   "source": [
    "window_size = 100000\n",
    "donor1 = \"Cynocephalus, Central Tanzania\"\n",
    "donor2 = \"Anubis, Ethiopia\"\n",
    "recipient = \"Anubis, Tanzania\"\n",
    "df_three_way = df_cluster.filter(items = [\"pos\", donor1, donor2, recipient])\n",
    "df_2_derived = df_three_way.loc[(df_three_way.iloc[:,1:] > 0).sum(axis=1) == 2]\n",
    "windows = range(0, df_haa_2_derived.iloc[-1:].pos.values[0], 100000)\n",
    "windows[-1]\n",
    "df_derived_stats = pd.DataFrame()\n",
    "w_l = []\n",
    "d1 = []\n",
    "d2 = []\n",
    "for w_s in windows:\n",
    "    df_w = df_2_derived.loc[(df_2_derived.pos > w_s)\n",
    "                         & (df_2_derived.pos < w_s+window_size)]\n",
    "    mix2 = df_w.loc[df_w[donor1] == 0][recipient].sum()/len(c_dir[recipient])\n",
    "    mix1 = df_w.loc[df_w[donor2] == 0][recipient].sum()/len(c_dir[recipient])\n",
    "    if mix1 == 0 and mix2 == 0:\n",
    "        continue\n",
    "    w_l.append(w_s)\n",
    "    d1.append(mix1/(mix1+mix2))\n",
    "    d2.append(mix2/(mix1+mix2))\n",
    "df_derived_stats[\"start\"] = w_l\n",
    "df_derived_stats[\"donor1\"] = d1\n",
    "df_derived_stats[donor2] = d2\n",
    "df_derived_stats[\"chrom\"] = \"chrX\"\n",
    "df_derived_stats[\"pop\"] = recipient"
   ]
  },
  {
   "cell_type": "code",
   "execution_count": 19,
   "metadata": {},
   "outputs": [
    {
     "data": {
      "text/html": [
       "<div>\n",
       "<style scoped>\n",
       "    .dataframe tbody tr th:only-of-type {\n",
       "        vertical-align: middle;\n",
       "    }\n",
       "\n",
       "    .dataframe tbody tr th {\n",
       "        vertical-align: top;\n",
       "    }\n",
       "\n",
       "    .dataframe thead th {\n",
       "        text-align: right;\n",
       "    }\n",
       "</style>\n",
       "<table border=\"1\" class=\"dataframe\">\n",
       "  <thead>\n",
       "    <tr style=\"text-align: right;\">\n",
       "      <th></th>\n",
       "      <th>start</th>\n",
       "      <th>donor1</th>\n",
       "      <th>Anubis, Ethiopia</th>\n",
       "      <th>chrom</th>\n",
       "      <th>pop</th>\n",
       "    </tr>\n",
       "  </thead>\n",
       "  <tbody>\n",
       "    <tr>\n",
       "      <th>0</th>\n",
       "      <td>0</td>\n",
       "      <td>0.563795</td>\n",
       "      <td>0.436205</td>\n",
       "      <td>chrX</td>\n",
       "      <td>Anubis, Tanzania</td>\n",
       "    </tr>\n",
       "    <tr>\n",
       "      <th>1</th>\n",
       "      <td>100000</td>\n",
       "      <td>0.700739</td>\n",
       "      <td>0.299261</td>\n",
       "      <td>chrX</td>\n",
       "      <td>Anubis, Tanzania</td>\n",
       "    </tr>\n",
       "    <tr>\n",
       "      <th>2</th>\n",
       "      <td>200000</td>\n",
       "      <td>0.523746</td>\n",
       "      <td>0.476254</td>\n",
       "      <td>chrX</td>\n",
       "      <td>Anubis, Tanzania</td>\n",
       "    </tr>\n",
       "    <tr>\n",
       "      <th>3</th>\n",
       "      <td>300000</td>\n",
       "      <td>0.551188</td>\n",
       "      <td>0.448812</td>\n",
       "      <td>chrX</td>\n",
       "      <td>Anubis, Tanzania</td>\n",
       "    </tr>\n",
       "    <tr>\n",
       "      <th>4</th>\n",
       "      <td>400000</td>\n",
       "      <td>0.553600</td>\n",
       "      <td>0.446400</td>\n",
       "      <td>chrX</td>\n",
       "      <td>Anubis, Tanzania</td>\n",
       "    </tr>\n",
       "    <tr>\n",
       "      <th>...</th>\n",
       "      <td>...</td>\n",
       "      <td>...</td>\n",
       "      <td>...</td>\n",
       "      <td>...</td>\n",
       "      <td>...</td>\n",
       "    </tr>\n",
       "    <tr>\n",
       "      <th>1432</th>\n",
       "      <td>143200000</td>\n",
       "      <td>0.813210</td>\n",
       "      <td>0.186790</td>\n",
       "      <td>chrX</td>\n",
       "      <td>Anubis, Tanzania</td>\n",
       "    </tr>\n",
       "    <tr>\n",
       "      <th>1433</th>\n",
       "      <td>143300000</td>\n",
       "      <td>0.895397</td>\n",
       "      <td>0.104603</td>\n",
       "      <td>chrX</td>\n",
       "      <td>Anubis, Tanzania</td>\n",
       "    </tr>\n",
       "    <tr>\n",
       "      <th>1434</th>\n",
       "      <td>143400000</td>\n",
       "      <td>0.847188</td>\n",
       "      <td>0.152812</td>\n",
       "      <td>chrX</td>\n",
       "      <td>Anubis, Tanzania</td>\n",
       "    </tr>\n",
       "    <tr>\n",
       "      <th>1435</th>\n",
       "      <td>143500000</td>\n",
       "      <td>0.832847</td>\n",
       "      <td>0.167153</td>\n",
       "      <td>chrX</td>\n",
       "      <td>Anubis, Tanzania</td>\n",
       "    </tr>\n",
       "    <tr>\n",
       "      <th>1436</th>\n",
       "      <td>143600000</td>\n",
       "      <td>0.754073</td>\n",
       "      <td>0.245927</td>\n",
       "      <td>chrX</td>\n",
       "      <td>Anubis, Tanzania</td>\n",
       "    </tr>\n",
       "  </tbody>\n",
       "</table>\n",
       "<p>1437 rows × 5 columns</p>\n",
       "</div>"
      ],
      "text/plain": [
       "          start    donor1  Anubis, Ethiopia chrom               pop\n",
       "0             0  0.563795          0.436205  chrX  Anubis, Tanzania\n",
       "1        100000  0.700739          0.299261  chrX  Anubis, Tanzania\n",
       "2        200000  0.523746          0.476254  chrX  Anubis, Tanzania\n",
       "3        300000  0.551188          0.448812  chrX  Anubis, Tanzania\n",
       "4        400000  0.553600          0.446400  chrX  Anubis, Tanzania\n",
       "...         ...       ...               ...   ...               ...\n",
       "1432  143200000  0.813210          0.186790  chrX  Anubis, Tanzania\n",
       "1433  143300000  0.895397          0.104603  chrX  Anubis, Tanzania\n",
       "1434  143400000  0.847188          0.152812  chrX  Anubis, Tanzania\n",
       "1435  143500000  0.832847          0.167153  chrX  Anubis, Tanzania\n",
       "1436  143600000  0.754073          0.245927  chrX  Anubis, Tanzania\n",
       "\n",
       "[1437 rows x 5 columns]"
      ]
     },
     "execution_count": 19,
     "metadata": {},
     "output_type": "execute_result"
    }
   ],
   "source": [
    "df_derived_stats"
   ]
  },
  {
   "cell_type": "code",
   "execution_count": 20,
   "metadata": {},
   "outputs": [
    {
     "data": {
      "text/plain": [
       "<AxesSubplot:xlabel='donor1', ylabel='Count'>"
      ]
     },
     "execution_count": 20,
     "metadata": {},
     "output_type": "execute_result"
    },
    {
     "data": {
      "image/png": "[encoded data removed]",
      "text/plain": [
       "<Figure size 432x288 with 1 Axes>"
      ]
     },
     "metadata": {},
     "output_type": "display_data"
    }
   ],
   "source": [
    "sns.histplot(data=df_derived_stats, x=\"donor1\")"
   ]
  },
  {
   "cell_type": "code",
   "execution_count": 21,
   "metadata": {},
   "outputs": [
    {
     "data": {
      "image/png": "[encoded data removed]",
      "text/plain": [
       "<Figure size 1440x144 with 1 Axes>"
      ]
     },
     "metadata": {},
     "output_type": "display_data"
    }
   ],
   "source": [
    "fig = horizonplot(df_derived_stats, \"donor1\", width=1, col='chrom', row='pop', size=2, aspect=10, cut=1)"
   ]
  },
  {
   "cell_type": "code",
   "execution_count": 22,
   "metadata": {},
   "outputs": [
    {
     "data": {
      "image/png": "[encoded data removed]",
      "text/plain": [
       "<Figure size 1440x144 with 1 Axes>"
      ]
     },
     "metadata": {},
     "output_type": "display_data"
    }
   ],
   "source": [
    "fig = horizonplot(df_derived_stats, \"donor1\", width=1, col='chrom', row='pop', size=2, aspect=10, cut=1)"
   ]
  },
  {
   "cell_type": "code",
   "execution_count": 23,
   "metadata": {},
   "outputs": [
    {
     "data": {
      "text/plain": [
       "<AxesSubplot:xlabel='donor1', ylabel='Count'>"
      ]
     },
     "execution_count": 23,
     "metadata": {},
     "output_type": "execute_result"
    },
    {
     "data": {
      "image/png": "[encoded data removed]",
      "text/plain": [
       "<Figure size 432x288 with 1 Axes>"
      ]
     },
     "metadata": {},
     "output_type": "display_data"
    }
   ],
   "source": [
    "sns.histplot(data=df_derived_stats, x = \"donor1\")"
   ]
  },
  {
   "cell_type": "code",
   "execution_count": 24,
   "metadata": {},
   "outputs": [],
   "source": [
    "zarr_dir = \"/faststorage/project/baboondiversity/data/PG_panu3_zarr_12_03_2021/callset.zarr/chr8\"\n",
    "#Opening the zarr data\n",
    "callset = zarr.open_group(zarr_dir, mode=\"r\")\n",
    "gt = allel.GenotypeArray(callset[\"calldata/GT\"])"
   ]
  },
  {
   "cell_type": "code",
   "execution_count": 25,
   "metadata": {},
   "outputs": [
    {
     "name": "stdout",
     "output_type": "stream",
     "text": [
      "4022831 4992526 0.8057706659915241\n"
     ]
    }
   ],
   "source": [
    "ac = gt.count_alleles()[:] #Allele counts for each pos\n",
    "flt = (ac.max_allele() == 1)  & (ac[:, :2].min(axis=1) > 1) #Filter for biallelic and presence of alternate\n",
    "gf = gt.compress(flt, axis=0)\n",
    "pos = (callset[\"variants/POS\"][:]).compress(flt, axis=0)\n",
    "print(len(gf), len(gt), len(gf)/len(gt))"
   ]
  },
  {
   "cell_type": "code",
   "execution_count": 26,
   "metadata": {},
   "outputs": [
    {
     "name": "stdout",
     "output_type": "stream",
     "text": [
      "Cynocephalus, Central Tanzania\n",
      "1613853\n",
      "Kindae, Zambia\n",
      "1316040\n",
      "Hamadryas, Ethiopia\n",
      "731905\n",
      "Anubis, Tanzania\n",
      "1397503\n",
      "Cynocephalus, Western Tanzania\n",
      "1000197\n",
      "Papio, Senegal\n",
      "402140\n",
      "Ursinus, Zambia\n",
      "809635\n",
      "Anubis, Ethiopia\n",
      "759001\n"
     ]
    }
   ],
   "source": [
    "df_cluster = pd.DataFrame()\n",
    "df_cluster[\"pos\"] = pos\n",
    "for c in c_dir:\n",
    "    print(c)\n",
    "    IDs = c_dir[c]\n",
    "    gt_c = gf.take(IDs, axis=1)\n",
    "    ac = gt_c.count_alleles()\n",
    "    df_cluster[c] = ac.take([1], axis=1) # Only containing derived\n",
    "    print(ac.is_variant().sum())"
   ]
  },
  {
   "cell_type": "code",
   "execution_count": 47,
   "metadata": {},
   "outputs": [],
   "source": [
    "window_size = 1000000\n",
    "donor1 = \"Kindae, Zambia\" # \"Cynocephalus, Western Tanzania\" #\"Hamadryas, Ethiopia\" #\"Papio, Senegal\" # \"Cynocephalus, Central Tanzania\"\n",
    "donor2 = \"Anubis, Ethiopia\"\n",
    "recipient = \"Anubis, Tanzania\"\n",
    "df_three_way = df_cluster.filter(items = [\"pos\", donor1, donor2, recipient])\n",
    "df_2_derived = df_three_way.loc[(df_three_way.iloc[:,1:] > 0).sum(axis=1) == 2]\n",
    "windows = range(0, df_haa_2_derived.iloc[-1:].pos.values[0], 100000)\n",
    "windows[-1]\n",
    "df_derived_stats = pd.DataFrame()\n",
    "w_l = []\n",
    "d1 = []\n",
    "d2 = []\n",
    "for w_s in windows:\n",
    "    df_w = df_2_derived.loc[(df_2_derived.pos > w_s)\n",
    "                         & (df_2_derived.pos < w_s+window_size)]\n",
    "    mix2 = df_w.loc[df_w[donor1] == 0][recipient].sum()/len(c_dir[recipient])\n",
    "    mix1 = df_w.loc[df_w[donor2] == 0][recipient].sum()/len(c_dir[recipient])\n",
    "    if mix1 == 0 and mix2 == 0:\n",
    "        continue\n",
    "    w_l.append(w_s)\n",
    "    d1.append(mix1/(mix1+mix2))\n",
    "    d2.append(mix2/(mix1+mix2))\n",
    "df_derived_stats[\"start\"] = w_l\n",
    "df_derived_stats[\"donor1\"] = d1\n",
    "df_derived_stats[donor2] = d2\n",
    "df_derived_stats[\"chrom\"] = \"chr7\"\n",
    "df_derived_stats[\"pop\"] = recipient"
   ]
  },
  {
   "cell_type": "code",
   "execution_count": 48,
   "metadata": {},
   "outputs": [
    {
     "data": {
      "text/plain": [
       "0.3866230282080667"
      ]
     },
     "execution_count": 48,
     "metadata": {},
     "output_type": "execute_result"
    }
   ],
   "source": [
    "df_derived_stats[\"donor1\"].mean()"
   ]
  },
  {
   "cell_type": "code",
   "execution_count": 49,
   "metadata": {},
   "outputs": [
    {
     "data": {
      "image/png": "[encoded data removed]",
      "text/plain": [
       "<Figure size 1440x144 with 1 Axes>"
      ]
     },
     "metadata": {},
     "output_type": "display_data"
    }
   ],
   "source": [
    "fig = horizonplot(df_derived_stats, \"donor1\", width=1, col='chrom', row='pop', size=2, aspect=10, cut=1)"
   ]
  },
  {
   "cell_type": "markdown",
   "metadata": {},
   "source": [
    "Testing code - remove later"
   ]
  },
  {
   "cell_type": "code",
   "execution_count": 28,
   "metadata": {},
   "outputs": [
    {
     "data": {
      "text/plain": [
       "47797.11627906977"
      ]
     },
     "execution_count": 28,
     "metadata": {},
     "output_type": "execute_result"
    }
   ],
   "source": [
    "df_2_derived.loc[df_2_derived[donor1] == 0][recipient].sum()/len(c_dir[recipient])"
   ]
  },
  {
   "cell_type": "code",
   "execution_count": 29,
   "metadata": {},
   "outputs": [
    {
     "data": {
      "text/plain": [
       "48          1\n",
       "134        19\n",
       "242         4\n",
       "395         7\n",
       "459        17\n",
       "           ..\n",
       "4022666    12\n",
       "4022671    28\n",
       "4022714    11\n",
       "4022746     9\n",
       "4022775     7\n",
       "Name: Anubis, Tanzania, Length: 148780, dtype: int32"
      ]
     },
     "execution_count": 29,
     "metadata": {},
     "output_type": "execute_result"
    }
   ],
   "source": [
    "df_2_derived.loc[df_2_derived[donor1] == 0][recipient]"
   ]
  }
 ],
 "metadata": {
  "kernelspec": {
   "display_name": "Python 3",
   "language": "python",
   "name": "python3"
  },
  "language_info": {
   "codemirror_mode": {
    "name": "ipython",
    "version": 3
   },
   "file_extension": ".py",
   "mimetype": "text/x-python",
   "name": "python",
   "nbconvert_exporter": "python",
   "pygments_lexer": "ipython3",
   "version": "3.7.9"
  }
 },
 "nbformat": 4,
 "nbformat_minor": 4
}
