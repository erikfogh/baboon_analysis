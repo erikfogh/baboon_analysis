{
 "cells": [
  {
   "cell_type": "markdown",
   "metadata": {},
   "source": [
    "In this notebook, I look through the males, and verify that they are correct"
   ]
  },
  {
   "cell_type": "code",
   "execution_count": 1,
   "metadata": {},
   "outputs": [],
   "source": [
    "%run ../scripts/notebook_settings.py"
   ]
  },
  {
   "cell_type": "code",
   "execution_count": 2,
   "metadata": {},
   "outputs": [],
   "source": [
    "vcf_path = \"/faststorage/project/baboondiversity/people/eriks/baboon_first_analysis/hap_chrX.vcf.gz\""
   ]
  },
  {
   "cell_type": "code",
   "execution_count": 3,
   "metadata": {},
   "outputs": [],
   "source": [
    "meta_data_samples = pd.read_table(\"../data/metadata_with_x_missing.txt\", sep=\" \")"
   ]
  },
  {
   "cell_type": "markdown",
   "metadata": {},
   "source": [
    "Generating the index list for each species/gender combination."
   ]
  },
  {
   "cell_type": "code",
   "execution_count": 4,
   "metadata": {},
   "outputs": [
    {
     "data": {
      "text/plain": [
       "[26,\n",
       " 28,\n",
       " 34,\n",
       " 38,\n",
       " 39,\n",
       " 40,\n",
       " 41,\n",
       " 42,\n",
       " 44,\n",
       " 45,\n",
       " 46,\n",
       " 47,\n",
       " 59,\n",
       " 60,\n",
       " 94,\n",
       " 103,\n",
       " 119,\n",
       " 120,\n",
       " 121,\n",
       " 122,\n",
       " 123,\n",
       " 178,\n",
       " 179,\n",
       " 180,\n",
       " 184,\n",
       " 185,\n",
       " 187,\n",
       " 188,\n",
       " 189,\n",
       " 193,\n",
       " 194,\n",
       " 195,\n",
       " 196,\n",
       " 198,\n",
       " 199,\n",
       " 200,\n",
       " 203,\n",
       " 207,\n",
       " 2,\n",
       " 12,\n",
       " 13,\n",
       " 15,\n",
       " 18,\n",
       " 29,\n",
       " 31,\n",
       " 53,\n",
       " 57,\n",
       " 58,\n",
       " 77,\n",
       " 78,\n",
       " 80,\n",
       " 81,\n",
       " 82,\n",
       " 86,\n",
       " 88,\n",
       " 89,\n",
       " 92,\n",
       " 96,\n",
       " 98,\n",
       " 102,\n",
       " 111,\n",
       " 113,\n",
       " 116,\n",
       " 152,\n",
       " 154,\n",
       " 155,\n",
       " 157,\n",
       " 159,\n",
       " 160,\n",
       " 161,\n",
       " 163,\n",
       " 164,\n",
       " 165,\n",
       " 166,\n",
       " 167,\n",
       " 171,\n",
       " 172,\n",
       " 173,\n",
       " 174,\n",
       " 175,\n",
       " 181,\n",
       " 182,\n",
       " 183,\n",
       " 190,\n",
       " 191,\n",
       " 208,\n",
       " 209,\n",
       " 210,\n",
       " 211,\n",
       " 212,\n",
       " 214,\n",
       " 215,\n",
       " 216,\n",
       " 217,\n",
       " 218,\n",
       " 219,\n",
       " 225,\n",
       " 226,\n",
       " 8,\n",
       " 128,\n",
       " 129,\n",
       " 131,\n",
       " 134,\n",
       " 135,\n",
       " 136,\n",
       " 137,\n",
       " 138,\n",
       " 139,\n",
       " 141,\n",
       " 143,\n",
       " 144,\n",
       " 145,\n",
       " 146,\n",
       " 147,\n",
       " 148,\n",
       " 149,\n",
       " 150,\n",
       " 151,\n",
       " 69,\n",
       " 70,\n",
       " 71,\n",
       " 72,\n",
       " 73,\n",
       " 74,\n",
       " 75,\n",
       " 124]"
      ]
     },
     "execution_count": 4,
     "metadata": {},
     "output_type": "execute_result"
    }
   ],
   "source": [
    "meta_data_samples = pd.read_table(\"/faststorage/project/baboondiversity/people/eriks/baboon_first_analysis/data/metadata_with_x_missing.txt\", sep=\" \")\n",
    "d_d = {}\n",
    "index_list = []\n",
    "for species in meta_data_samples.Species.unique():\n",
    "    if species == \"gelada\":\n",
    "        continue\n",
    "    m_s = meta_data_samples.loc[meta_data_samples.Species == species]\n",
    "    d_d[species] = {}\n",
    "    for sex in [\"F\", \"M\"]:\n",
    "        i_s = m_s.loc[m_s.Sex ==sex].callset_index.values.tolist()\n",
    "        d_d[species][sex] = i_s\n",
    "        if sex==\"M\":\n",
    "            index_list.extend(i_s)\n",
    "index_list"
   ]
  },
  {
   "cell_type": "code",
   "execution_count": 5,
   "metadata": {},
   "outputs": [
    {
     "name": "stdout",
     "output_type": "stream",
     "text": [
      "cynocephalus\n",
      "anubis\n",
      "kindae\n",
      "hamadryas\n",
      "papio\n",
      "ursinus (grayfoot)\n"
     ]
    }
   ],
   "source": [
    "for species in meta_data_samples.Species.unique():\n",
    "    if species == \"gelada\":\n",
    "        continue\n",
    "    print(species)"
   ]
  },
  {
   "cell_type": "code",
   "execution_count": 6,
   "metadata": {},
   "outputs": [
    {
     "data": {
      "text/html": [
       "<div>\n",
       "<style scoped>\n",
       "    .dataframe tbody tr th:only-of-type {\n",
       "        vertical-align: middle;\n",
       "    }\n",
       "\n",
       "    .dataframe tbody tr th {\n",
       "        vertical-align: top;\n",
       "    }\n",
       "\n",
       "    .dataframe thead th {\n",
       "        text-align: right;\n",
       "    }\n",
       "</style>\n",
       "<table border=\"1\" class=\"dataframe\">\n",
       "  <thead>\n",
       "    <tr style=\"text-align: right;\">\n",
       "      <th></th>\n",
       "      <th>PGDP_ID</th>\n",
       "      <th>Provider_ID</th>\n",
       "      <th>Provider</th>\n",
       "      <th>Genus</th>\n",
       "      <th>Species</th>\n",
       "      <th>Origin</th>\n",
       "      <th>Sex</th>\n",
       "      <th>address</th>\n",
       "      <th>longitude</th>\n",
       "      <th>latitude</th>\n",
       "      <th>callset_index</th>\n",
       "      <th>C_origin</th>\n",
       "      <th>x_missing</th>\n",
       "    </tr>\n",
       "  </thead>\n",
       "  <tbody>\n",
       "    <tr>\n",
       "      <th>0</th>\n",
       "      <td>PD_0215</td>\n",
       "      <td>13RUM1130716</td>\n",
       "      <td>Knauf/Chuma/Roos</td>\n",
       "      <td>Papio</td>\n",
       "      <td>cynocephalus</td>\n",
       "      <td>Ruaha, Tanzania</td>\n",
       "      <td>M</td>\n",
       "      <td>Ruaha, Ulanga, Morogoro, Coastal Zone, Tanzania</td>\n",
       "      <td>36.714814</td>\n",
       "      <td>-8.895386</td>\n",
       "      <td>0</td>\n",
       "      <td>Cynocephalus, Central Tanzania</td>\n",
       "      <td>0.014343</td>\n",
       "    </tr>\n",
       "    <tr>\n",
       "      <th>1</th>\n",
       "      <td>PD_0217</td>\n",
       "      <td>17RUM5140716</td>\n",
       "      <td>Knauf/Chuma/Roos</td>\n",
       "      <td>Papio</td>\n",
       "      <td>cynocephalus</td>\n",
       "      <td>Ruaha, Tanzania</td>\n",
       "      <td>M</td>\n",
       "      <td>Ruaha, Ulanga, Morogoro, Coastal Zone, Tanzania</td>\n",
       "      <td>36.714814</td>\n",
       "      <td>-8.895386</td>\n",
       "      <td>1</td>\n",
       "      <td>Cynocephalus, Central Tanzania</td>\n",
       "      <td>0.015386</td>\n",
       "    </tr>\n",
       "    <tr>\n",
       "      <th>2</th>\n",
       "      <td>PD_0223</td>\n",
       "      <td>02UNM1220616</td>\n",
       "      <td>Knauf/Chuma/Roos</td>\n",
       "      <td>Papio</td>\n",
       "      <td>cynocephalus</td>\n",
       "      <td>Udzungwa, Tanzania</td>\n",
       "      <td>M</td>\n",
       "      <td>Udzungwa National Park, Iringa, Southern Highl...</td>\n",
       "      <td>36.725746</td>\n",
       "      <td>-7.805251</td>\n",
       "      <td>2</td>\n",
       "      <td>Cynocephalus, Central Tanzania</td>\n",
       "      <td>0.015105</td>\n",
       "    </tr>\n",
       "    <tr>\n",
       "      <th>3</th>\n",
       "      <td>PD_0227</td>\n",
       "      <td>27UNM1160317</td>\n",
       "      <td>Knauf/Chuma/Roos</td>\n",
       "      <td>Papio</td>\n",
       "      <td>cynocephalus</td>\n",
       "      <td>Udzungwa, Tanzania</td>\n",
       "      <td>M</td>\n",
       "      <td>Udzungwa National Park, Iringa, Southern Highl...</td>\n",
       "      <td>36.725746</td>\n",
       "      <td>-7.805251</td>\n",
       "      <td>3</td>\n",
       "      <td>Cynocephalus, Central Tanzania</td>\n",
       "      <td>0.014568</td>\n",
       "    </tr>\n",
       "    <tr>\n",
       "      <th>4</th>\n",
       "      <td>PD_0228</td>\n",
       "      <td>01MNM1300916</td>\n",
       "      <td>Knauf/Chuma/Roos</td>\n",
       "      <td>Papio</td>\n",
       "      <td>cynocephalus</td>\n",
       "      <td>Mahale, Tanzania</td>\n",
       "      <td>M</td>\n",
       "      <td>Mahale National Park, Kigoma, Western Zone, Ta...</td>\n",
       "      <td>29.883426</td>\n",
       "      <td>-6.203292</td>\n",
       "      <td>4</td>\n",
       "      <td>Cynocephalus, Western Tanzania</td>\n",
       "      <td>0.015121</td>\n",
       "    </tr>\n",
       "    <tr>\n",
       "      <th>...</th>\n",
       "      <td>...</td>\n",
       "      <td>...</td>\n",
       "      <td>...</td>\n",
       "      <td>...</td>\n",
       "      <td>...</td>\n",
       "      <td>...</td>\n",
       "      <td>...</td>\n",
       "      <td>...</td>\n",
       "      <td>...</td>\n",
       "      <td>...</td>\n",
       "      <td>...</td>\n",
       "      <td>...</td>\n",
       "      <td>...</td>\n",
       "    </tr>\n",
       "    <tr>\n",
       "      <th>121</th>\n",
       "      <td>PD_0398</td>\n",
       "      <td>T37</td>\n",
       "      <td>Zinner/Fischer</td>\n",
       "      <td>Papio</td>\n",
       "      <td>papio</td>\n",
       "      <td>Niokolo-Koba, Senegal</td>\n",
       "      <td>M</td>\n",
       "      <td>Niokolo Koba, Kédougou, Sénégal</td>\n",
       "      <td>-12.748341</td>\n",
       "      <td>13.078081</td>\n",
       "      <td>121</td>\n",
       "      <td>Papio, Senegal</td>\n",
       "      <td>0.012534</td>\n",
       "    </tr>\n",
       "    <tr>\n",
       "      <th>122</th>\n",
       "      <td>PD_0399</td>\n",
       "      <td>T49</td>\n",
       "      <td>Zinner/Fischer</td>\n",
       "      <td>Papio</td>\n",
       "      <td>papio</td>\n",
       "      <td>Niokolo-Koba, Senegal</td>\n",
       "      <td>M</td>\n",
       "      <td>Niokolo Koba, Kédougou, Sénégal</td>\n",
       "      <td>-12.748341</td>\n",
       "      <td>13.078081</td>\n",
       "      <td>122</td>\n",
       "      <td>Papio, Senegal</td>\n",
       "      <td>0.012503</td>\n",
       "    </tr>\n",
       "    <tr>\n",
       "      <th>123</th>\n",
       "      <td>PD_0400</td>\n",
       "      <td>T51</td>\n",
       "      <td>Zinner/Fischer</td>\n",
       "      <td>Papio</td>\n",
       "      <td>papio</td>\n",
       "      <td>Niokolo-Koba, Senegal</td>\n",
       "      <td>M</td>\n",
       "      <td>Niokolo Koba, Kédougou, Sénégal</td>\n",
       "      <td>-12.748341</td>\n",
       "      <td>13.078081</td>\n",
       "      <td>123</td>\n",
       "      <td>Papio, Senegal</td>\n",
       "      <td>0.011650</td>\n",
       "    </tr>\n",
       "    <tr>\n",
       "      <th>124</th>\n",
       "      <td>PD_0401</td>\n",
       "      <td>T66</td>\n",
       "      <td>Zinner/Fischer</td>\n",
       "      <td>Papio</td>\n",
       "      <td>papio</td>\n",
       "      <td>Niokolo-Koba, Senegal</td>\n",
       "      <td>M</td>\n",
       "      <td>Niokolo Koba, Kédougou, Sénégal</td>\n",
       "      <td>-12.748341</td>\n",
       "      <td>13.078081</td>\n",
       "      <td>124</td>\n",
       "      <td>Papio, Senegal</td>\n",
       "      <td>0.012213</td>\n",
       "    </tr>\n",
       "    <tr>\n",
       "      <th>125</th>\n",
       "      <td>PD_0692</td>\n",
       "      <td>35221_BZ12030</td>\n",
       "      <td>Rogers/Jolly/Phillips-Conroy</td>\n",
       "      <td>Papio</td>\n",
       "      <td>ursinus (grayfoot)</td>\n",
       "      <td>Dendro Park, Zambia</td>\n",
       "      <td>M</td>\n",
       "      <td>Dendro Balla Balla Safaris, Namwala, Zambia</td>\n",
       "      <td>26.062550</td>\n",
       "      <td>-16.145438</td>\n",
       "      <td>125</td>\n",
       "      <td>Ursinus, Zambia</td>\n",
       "      <td>0.014076</td>\n",
       "    </tr>\n",
       "  </tbody>\n",
       "</table>\n",
       "<p>126 rows × 13 columns</p>\n",
       "</div>"
      ],
      "text/plain": [
       "     PGDP_ID    Provider_ID                      Provider  Genus  \\\n",
       "0    PD_0215   13RUM1130716              Knauf/Chuma/Roos  Papio   \n",
       "1    PD_0217   17RUM5140716              Knauf/Chuma/Roos  Papio   \n",
       "2    PD_0223   02UNM1220616              Knauf/Chuma/Roos  Papio   \n",
       "3    PD_0227   27UNM1160317              Knauf/Chuma/Roos  Papio   \n",
       "4    PD_0228   01MNM1300916              Knauf/Chuma/Roos  Papio   \n",
       "..       ...            ...                           ...    ...   \n",
       "121  PD_0398            T37                Zinner/Fischer  Papio   \n",
       "122  PD_0399            T49                Zinner/Fischer  Papio   \n",
       "123  PD_0400            T51                Zinner/Fischer  Papio   \n",
       "124  PD_0401            T66                Zinner/Fischer  Papio   \n",
       "125  PD_0692  35221_BZ12030  Rogers/Jolly/Phillips-Conroy  Papio   \n",
       "\n",
       "                Species                 Origin Sex  \\\n",
       "0          cynocephalus        Ruaha, Tanzania   M   \n",
       "1          cynocephalus        Ruaha, Tanzania   M   \n",
       "2          cynocephalus     Udzungwa, Tanzania   M   \n",
       "3          cynocephalus     Udzungwa, Tanzania   M   \n",
       "4          cynocephalus       Mahale, Tanzania   M   \n",
       "..                  ...                    ...  ..   \n",
       "121               papio  Niokolo-Koba, Senegal   M   \n",
       "122               papio  Niokolo-Koba, Senegal   M   \n",
       "123               papio  Niokolo-Koba, Senegal   M   \n",
       "124               papio  Niokolo-Koba, Senegal   M   \n",
       "125  ursinus (grayfoot)    Dendro Park, Zambia   M   \n",
       "\n",
       "                                               address  longitude   latitude  \\\n",
       "0      Ruaha, Ulanga, Morogoro, Coastal Zone, Tanzania  36.714814  -8.895386   \n",
       "1      Ruaha, Ulanga, Morogoro, Coastal Zone, Tanzania  36.714814  -8.895386   \n",
       "2    Udzungwa National Park, Iringa, Southern Highl...  36.725746  -7.805251   \n",
       "3    Udzungwa National Park, Iringa, Southern Highl...  36.725746  -7.805251   \n",
       "4    Mahale National Park, Kigoma, Western Zone, Ta...  29.883426  -6.203292   \n",
       "..                                                 ...        ...        ...   \n",
       "121                    Niokolo Koba, Kédougou, Sénégal -12.748341  13.078081   \n",
       "122                    Niokolo Koba, Kédougou, Sénégal -12.748341  13.078081   \n",
       "123                    Niokolo Koba, Kédougou, Sénégal -12.748341  13.078081   \n",
       "124                    Niokolo Koba, Kédougou, Sénégal -12.748341  13.078081   \n",
       "125        Dendro Balla Balla Safaris, Namwala, Zambia  26.062550 -16.145438   \n",
       "\n",
       "     callset_index                        C_origin  x_missing  \n",
       "0                0  Cynocephalus, Central Tanzania   0.014343  \n",
       "1                1  Cynocephalus, Central Tanzania   0.015386  \n",
       "2                2  Cynocephalus, Central Tanzania   0.015105  \n",
       "3                3  Cynocephalus, Central Tanzania   0.014568  \n",
       "4                4  Cynocephalus, Western Tanzania   0.015121  \n",
       "..             ...                             ...        ...  \n",
       "121            121                  Papio, Senegal   0.012534  \n",
       "122            122                  Papio, Senegal   0.012503  \n",
       "123            123                  Papio, Senegal   0.011650  \n",
       "124            124                  Papio, Senegal   0.012213  \n",
       "125            125                 Ursinus, Zambia   0.014076  \n",
       "\n",
       "[126 rows x 13 columns]"
      ]
     },
     "execution_count": 6,
     "metadata": {},
     "output_type": "execute_result"
    }
   ],
   "source": [
    "meta_subset = meta_data_samples.loc[meta_data_samples.callset_index.isin(index_list)]\n",
    "meta_subset = meta_subset.reindex(index_list).reset_index(drop=True)\n",
    "meta_subset[\"callset_index\"] = list(range(len(meta_subset)))\n",
    "meta_subset"
   ]
  },
  {
   "cell_type": "code",
   "execution_count": 7,
   "metadata": {},
   "outputs": [],
   "source": [
    "meta_subset.to_csv(\"../data/metadata_only_males_species_ordering.txt\", sep = \" \", index=False)"
   ]
  },
  {
   "cell_type": "code",
   "execution_count": 8,
   "metadata": {},
   "outputs": [],
   "source": [
    "vcf = allel.read_vcf(vcf_path, numbers={\"calldata/GT\": 1})"
   ]
  },
  {
   "cell_type": "markdown",
   "metadata": {},
   "source": [
    "Fields in the vcf"
   ]
  },
  {
   "cell_type": "code",
   "execution_count": 9,
   "metadata": {},
   "outputs": [
    {
     "data": {
      "text/plain": [
       "dict_keys(['samples', 'calldata/GT', 'variants/ALT', 'variants/CHROM', 'variants/FILTER_PASS', 'variants/ID', 'variants/POS', 'variants/QUAL', 'variants/REF'])"
      ]
     },
     "execution_count": 9,
     "metadata": {},
     "output_type": "execute_result"
    }
   ],
   "source": [
    "vcf.keys()"
   ]
  },
  {
   "cell_type": "markdown",
   "metadata": {},
   "source": [
    "Checking that the keys are correctly indexed"
   ]
  },
  {
   "cell_type": "code",
   "execution_count": 10,
   "metadata": {},
   "outputs": [
    {
     "data": {
      "text/plain": [
       "'PD_0692'"
      ]
     },
     "execution_count": 10,
     "metadata": {},
     "output_type": "execute_result"
    }
   ],
   "source": [
    "vcf[\"samples\"].take(125)"
   ]
  },
  {
   "cell_type": "code",
   "execution_count": 11,
   "metadata": {},
   "outputs": [
    {
     "data": {
      "text/plain": [
       "array([       37,        57,       157, ..., 143691548, 143691549,\n",
       "       143691566], dtype=int32)"
      ]
     },
     "execution_count": 11,
     "metadata": {},
     "output_type": "execute_result"
    }
   ],
   "source": [
    "vcf[\"variants/POS\"]"
   ]
  },
  {
   "cell_type": "markdown",
   "metadata": {},
   "source": [
    "Picking the ursinus out"
   ]
  },
  {
   "cell_type": "code",
   "execution_count": 12,
   "metadata": {},
   "outputs": [
    {
     "data": {
      "text/html": [
       "<div class=\"allel allel-DisplayAs2D\"><span>&lt;HaplotypeArray shape=(2923212, 126) dtype=int8&gt;</span><table><thead><tr><th></th><th style=\"text-align: center\">0</th><th style=\"text-align: center\">1</th><th style=\"text-align: center\">2</th><th style=\"text-align: center\">3</th><th style=\"text-align: center\">4</th><th style=\"text-align: center\">...</th><th style=\"text-align: center\">121</th><th style=\"text-align: center\">122</th><th style=\"text-align: center\">123</th><th style=\"text-align: center\">124</th><th style=\"text-align: center\">125</th></tr></thead><tbody><tr><th style=\"text-align: center; background-color: white; border-right: 1px solid black; \">0</th><td style=\"text-align: center\">1</td><td style=\"text-align: center\">1</td><td style=\"text-align: center\">0</td><td style=\"text-align: center\">1</td><td style=\"text-align: center\">.</td><td style=\"text-align: center\">...</td><td style=\"text-align: center\">1</td><td style=\"text-align: center\">1</td><td style=\"text-align: center\">1</td><td style=\"text-align: center\">1</td><td style=\"text-align: center\">1</td></tr><tr><th style=\"text-align: center; background-color: white; border-right: 1px solid black; \">1</th><td style=\"text-align: center\">1</td><td style=\"text-align: center\">1</td><td style=\"text-align: center\">0</td><td style=\"text-align: center\">1</td><td style=\"text-align: center\">.</td><td style=\"text-align: center\">...</td><td style=\"text-align: center\">0</td><td style=\"text-align: center\">0</td><td style=\"text-align: center\">0</td><td style=\"text-align: center\">0</td><td style=\"text-align: center\">1</td></tr><tr><th style=\"text-align: center; background-color: white; border-right: 1px solid black; \">2</th><td style=\"text-align: center\">1</td><td style=\"text-align: center\">0</td><td style=\"text-align: center\">.</td><td style=\"text-align: center\">0</td><td style=\"text-align: center\">1</td><td style=\"text-align: center\">...</td><td style=\"text-align: center\">0</td><td style=\"text-align: center\">0</td><td style=\"text-align: center\">0</td><td style=\"text-align: center\">0</td><td style=\"text-align: center\">0</td></tr><tr><th style=\"text-align: center; background-color: white; border-right: 1px solid black; \">...</th><td style=\"text-align: center\" colspan=\"12\">...</td></tr><tr><th style=\"text-align: center; background-color: white; border-right: 1px solid black; \">2923209</th><td style=\"text-align: center\">0</td><td style=\"text-align: center\">0</td><td style=\"text-align: center\">0</td><td style=\"text-align: center\">0</td><td style=\"text-align: center\">0</td><td style=\"text-align: center\">...</td><td style=\"text-align: center\">0</td><td style=\"text-align: center\">0</td><td style=\"text-align: center\">0</td><td style=\"text-align: center\">0</td><td style=\"text-align: center\">0</td></tr><tr><th style=\"text-align: center; background-color: white; border-right: 1px solid black; \">2923210</th><td style=\"text-align: center\">0</td><td style=\"text-align: center\">0</td><td style=\"text-align: center\">0</td><td style=\"text-align: center\">0</td><td style=\"text-align: center\">0</td><td style=\"text-align: center\">...</td><td style=\"text-align: center\">0</td><td style=\"text-align: center\">0</td><td style=\"text-align: center\">0</td><td style=\"text-align: center\">0</td><td style=\"text-align: center\">0</td></tr><tr><th style=\"text-align: center; background-color: white; border-right: 1px solid black; \">2923211</th><td style=\"text-align: center\">1</td><td style=\"text-align: center\">1</td><td style=\"text-align: center\">1</td><td style=\"text-align: center\">1</td><td style=\"text-align: center\">1</td><td style=\"text-align: center\">...</td><td style=\"text-align: center\">1</td><td style=\"text-align: center\">1</td><td style=\"text-align: center\">1</td><td style=\"text-align: center\">1</td><td style=\"text-align: center\">1</td></tr></tbody></table></div>"
      ],
      "text/plain": [
       "<HaplotypeArray shape=(2923212, 126) dtype=int8>\n",
       "1 1 0 1 . ... 1 1 1 1 1\n",
       "1 1 0 1 . ... 0 0 0 0 1\n",
       "1 0 . 0 1 ... 0 0 0 0 0\n",
       "...\n",
       "0 0 0 0 0 ... 0 0 0 0 0\n",
       "0 0 0 0 0 ... 0 0 0 0 0\n",
       "1 1 1 1 1 ... 1 1 1 1 1"
      ]
     },
     "execution_count": 12,
     "metadata": {},
     "output_type": "execute_result"
    }
   ],
   "source": [
    "allel.HaplotypeArray(vcf[\"calldata/GT\"])"
   ]
  },
  {
   "cell_type": "code",
   "execution_count": 13,
   "metadata": {},
   "outputs": [],
   "source": [
    "ursinus_test = allel.HaplotypeArray(vcf[\"calldata/GT\"]).take([125], axis=1)"
   ]
  },
  {
   "cell_type": "code",
   "execution_count": 14,
   "metadata": {},
   "outputs": [
    {
     "data": {
      "text/html": [
       "<div class=\"allel allel-DisplayAs2D\"><span>&lt;HaplotypeArray shape=(2923212, 1) dtype=int8&gt;</span><table><thead><tr><th></th><th style=\"text-align: center\">0</th></tr></thead><tbody><tr><th style=\"text-align: center; background-color: white; border-right: 1px solid black; \">0</th><td style=\"text-align: center\">1</td></tr><tr><th style=\"text-align: center; background-color: white; border-right: 1px solid black; \">1</th><td style=\"text-align: center\">1</td></tr><tr><th style=\"text-align: center; background-color: white; border-right: 1px solid black; \">2</th><td style=\"text-align: center\">0</td></tr><tr><th style=\"text-align: center; background-color: white; border-right: 1px solid black; \">...</th><td style=\"text-align: center\" colspan=\"2\">...</td></tr><tr><th style=\"text-align: center; background-color: white; border-right: 1px solid black; \">2923209</th><td style=\"text-align: center\">0</td></tr><tr><th style=\"text-align: center; background-color: white; border-right: 1px solid black; \">2923210</th><td style=\"text-align: center\">0</td></tr><tr><th style=\"text-align: center; background-color: white; border-right: 1px solid black; \">2923211</th><td style=\"text-align: center\">1</td></tr></tbody></table></div>"
      ],
      "text/plain": [
       "<HaplotypeArray shape=(2923212, 1) dtype=int8>\n",
       "1\n",
       "1\n",
       "0\n",
       "...\n",
       "0\n",
       "0\n",
       "1"
      ]
     },
     "execution_count": 14,
     "metadata": {},
     "output_type": "execute_result"
    }
   ],
   "source": [
    "ursinus_test"
   ]
  },
  {
   "cell_type": "markdown",
   "metadata": {},
   "source": [
    "Checking the degree of heterozygosity for each individual"
   ]
  },
  {
   "cell_type": "markdown",
   "metadata": {},
   "source": [
    "Checking missingness"
   ]
  },
  {
   "cell_type": "code",
   "execution_count": 15,
   "metadata": {},
   "outputs": [
    {
     "data": {
      "text/plain": [
       "(array([56858]), array([327901]))"
      ]
     },
     "execution_count": 15,
     "metadata": {},
     "output_type": "execute_result"
    }
   ],
   "source": [
    "ursinus_test.is_missing().sum(axis=0), ursinus_test.is_alt().sum(axis=0)"
   ]
  },
  {
   "cell_type": "markdown",
   "metadata": {},
   "source": [
    "Code to subset for het sites."
   ]
  },
  {
   "cell_type": "code",
   "execution_count": 16,
   "metadata": {},
   "outputs": [
    {
     "ename": "TypeError",
     "evalue": "bad number of dimensions: expected 3; found 2",
     "output_type": "error",
     "traceback": [
      "\u001b[0;31m---------------------------------------------------------------------------\u001b[0m",
      "\u001b[0;31mTypeError\u001b[0m                                 Traceback (most recent call last)",
      "\u001b[0;32m<ipython-input-16-979665736f1d>\u001b[0m in \u001b[0;36m<module>\u001b[0;34m\u001b[0m\n\u001b[0;32m----> 1\u001b[0;31m \u001b[0mursinus_male\u001b[0m \u001b[0;34m=\u001b[0m \u001b[0mallel\u001b[0m\u001b[0;34m.\u001b[0m\u001b[0mGenotypeArray\u001b[0m\u001b[0;34m(\u001b[0m\u001b[0mvcf\u001b[0m\u001b[0;34m[\u001b[0m\u001b[0;34m\"calldata/GT\"\u001b[0m\u001b[0;34m]\u001b[0m\u001b[0;34m)\u001b[0m\u001b[0;34m.\u001b[0m\u001b[0mtake\u001b[0m\u001b[0;34m(\u001b[0m\u001b[0;34m[\u001b[0m\u001b[0;36m124\u001b[0m\u001b[0;34m]\u001b[0m\u001b[0;34m,\u001b[0m \u001b[0maxis\u001b[0m\u001b[0;34m=\u001b[0m\u001b[0;36m1\u001b[0m\u001b[0;34m)\u001b[0m\u001b[0;34m\u001b[0m\u001b[0;34m\u001b[0m\u001b[0m\n\u001b[0m\u001b[1;32m      2\u001b[0m \u001b[0mhet_or_not\u001b[0m \u001b[0;34m=\u001b[0m \u001b[0mursinus_male\u001b[0m\u001b[0;34m.\u001b[0m\u001b[0mis_het\u001b[0m\u001b[0;34m(\u001b[0m\u001b[0;34m)\u001b[0m\u001b[0;34m\u001b[0m\u001b[0;34m\u001b[0m\u001b[0m\n",
      "\u001b[0;32m~/miniconda3/envs/baboondiversity/lib/python3.7/site-packages/allel/model/ndarray.py\u001b[0m in \u001b[0;36m__init__\u001b[0;34m(self, data, copy, **kwargs)\u001b[0m\n\u001b[1;32m   1473\u001b[0m     \u001b[0;32mdef\u001b[0m \u001b[0m__init__\u001b[0m\u001b[0;34m(\u001b[0m\u001b[0mself\u001b[0m\u001b[0;34m,\u001b[0m \u001b[0mdata\u001b[0m\u001b[0;34m,\u001b[0m \u001b[0mcopy\u001b[0m\u001b[0;34m=\u001b[0m\u001b[0;32mFalse\u001b[0m\u001b[0;34m,\u001b[0m \u001b[0;34m**\u001b[0m\u001b[0mkwargs\u001b[0m\u001b[0;34m)\u001b[0m\u001b[0;34m:\u001b[0m\u001b[0;34m\u001b[0m\u001b[0;34m\u001b[0m\u001b[0m\n\u001b[1;32m   1474\u001b[0m         \u001b[0msuper\u001b[0m\u001b[0;34m(\u001b[0m\u001b[0mGenotypeArray\u001b[0m\u001b[0;34m,\u001b[0m \u001b[0mself\u001b[0m\u001b[0;34m)\u001b[0m\u001b[0;34m.\u001b[0m\u001b[0m__init__\u001b[0m\u001b[0;34m(\u001b[0m\u001b[0mdata\u001b[0m\u001b[0;34m,\u001b[0m \u001b[0mcopy\u001b[0m\u001b[0;34m=\u001b[0m\u001b[0mcopy\u001b[0m\u001b[0;34m,\u001b[0m \u001b[0;34m**\u001b[0m\u001b[0mkwargs\u001b[0m\u001b[0;34m)\u001b[0m\u001b[0;34m\u001b[0m\u001b[0;34m\u001b[0m\u001b[0m\n\u001b[0;32m-> 1475\u001b[0;31m         \u001b[0mcheck_ndim\u001b[0m\u001b[0;34m(\u001b[0m\u001b[0mself\u001b[0m\u001b[0;34m.\u001b[0m\u001b[0mvalues\u001b[0m\u001b[0;34m,\u001b[0m \u001b[0;36m3\u001b[0m\u001b[0;34m)\u001b[0m\u001b[0;34m\u001b[0m\u001b[0;34m\u001b[0m\u001b[0m\n\u001b[0m\u001b[1;32m   1476\u001b[0m \u001b[0;34m\u001b[0m\u001b[0m\n\u001b[1;32m   1477\u001b[0m     \u001b[0;32mdef\u001b[0m \u001b[0m__getitem__\u001b[0m\u001b[0;34m(\u001b[0m\u001b[0mself\u001b[0m\u001b[0;34m,\u001b[0m \u001b[0mitem\u001b[0m\u001b[0;34m)\u001b[0m\u001b[0;34m:\u001b[0m\u001b[0;34m\u001b[0m\u001b[0;34m\u001b[0m\u001b[0m\n",
      "\u001b[0;32m~/miniconda3/envs/baboondiversity/lib/python3.7/site-packages/allel/util.py\u001b[0m in \u001b[0;36mcheck_ndim\u001b[0;34m(a, ndim)\u001b[0m\n\u001b[1;32m     61\u001b[0m \u001b[0;32mdef\u001b[0m \u001b[0mcheck_ndim\u001b[0m\u001b[0;34m(\u001b[0m\u001b[0ma\u001b[0m\u001b[0;34m,\u001b[0m \u001b[0mndim\u001b[0m\u001b[0;34m)\u001b[0m\u001b[0;34m:\u001b[0m\u001b[0;34m\u001b[0m\u001b[0;34m\u001b[0m\u001b[0m\n\u001b[1;32m     62\u001b[0m     \u001b[0;32mif\u001b[0m \u001b[0ma\u001b[0m\u001b[0;34m.\u001b[0m\u001b[0mndim\u001b[0m \u001b[0;34m!=\u001b[0m \u001b[0mndim\u001b[0m\u001b[0;34m:\u001b[0m\u001b[0;34m\u001b[0m\u001b[0;34m\u001b[0m\u001b[0m\n\u001b[0;32m---> 63\u001b[0;31m         \u001b[0;32mraise\u001b[0m \u001b[0mTypeError\u001b[0m\u001b[0;34m(\u001b[0m\u001b[0;34m'bad number of dimensions: expected %s; found %s'\u001b[0m \u001b[0;34m%\u001b[0m \u001b[0;34m(\u001b[0m\u001b[0mndim\u001b[0m\u001b[0;34m,\u001b[0m \u001b[0ma\u001b[0m\u001b[0;34m.\u001b[0m\u001b[0mndim\u001b[0m\u001b[0;34m)\u001b[0m\u001b[0;34m)\u001b[0m\u001b[0;34m\u001b[0m\u001b[0;34m\u001b[0m\u001b[0m\n\u001b[0m\u001b[1;32m     64\u001b[0m \u001b[0;34m\u001b[0m\u001b[0m\n\u001b[1;32m     65\u001b[0m \u001b[0;34m\u001b[0m\u001b[0m\n",
      "\u001b[0;31mTypeError\u001b[0m: bad number of dimensions: expected 3; found 2"
     ]
    }
   ],
   "source": [
    "ursinus_male = allel.GenotypeArray(vcf[\"calldata/GT\"]).take([124], axis=1)\n",
    "het_or_not = ursinus_male.is_het()"
   ]
  },
  {
   "cell_type": "code",
   "execution_count": null,
   "metadata": {},
   "outputs": [],
   "source": [
    "het_or_not"
   ]
  },
  {
   "cell_type": "code",
   "execution_count": null,
   "metadata": {},
   "outputs": [],
   "source": [
    "if het_or_not.sum() > 0:\n",
    "    ursinus_test.compress(het_or_not.reshape(1,-1)[0])"
   ]
  },
  {
   "cell_type": "code",
   "execution_count": null,
   "metadata": {},
   "outputs": [],
   "source": [
    "alleles = set(([0, 1]))\n",
    "len(alleles)"
   ]
  },
  {
   "cell_type": "code",
   "execution_count": null,
   "metadata": {},
   "outputs": [],
   "source": [
    "(\"0/2\")[0]"
   ]
  },
  {
   "cell_type": "code",
   "execution_count": null,
   "metadata": {},
   "outputs": [],
   "source": [
    "calls = \"0/0\"\n",
    "alleles = set([calls[0], calls[2]])\n",
    "list(alleles)[0]"
   ]
  },
  {
   "cell_type": "code",
   "execution_count": null,
   "metadata": {},
   "outputs": [],
   "source": [
    "a, = alleles\n",
    "a"
   ]
  }
 ],
 "metadata": {
  "kernelspec": {
   "display_name": "Python 3",
   "language": "python",
   "name": "python3"
  },
  "language_info": {
   "codemirror_mode": {
    "name": "ipython",
    "version": 3
   },
   "file_extension": ".py",
   "mimetype": "text/x-python",
   "name": "python",
   "nbconvert_exporter": "python",
   "pygments_lexer": "ipython3",
   "version": "3.7.9"
  }
 },
 "nbformat": 4,
 "nbformat_minor": 4
}
