{
 "cells": [
  {
   "cell_type": "markdown",
   "metadata": {},
   "source": [
    "I have downloaded the ancestral state for papio as fasta files, and will in this notebook check that they seem correct (ancestral state being either ref or alt in the called files)"
   ]
  },
  {
   "cell_type": "code",
   "execution_count": 1,
   "metadata": {},
   "outputs": [],
   "source": [
    "%run ../scripts/notebook_settings.py"
   ]
  },
  {
   "cell_type": "code",
   "execution_count": 2,
   "metadata": {},
   "outputs": [],
   "source": [
    "meta_data_samples = pd.read_table(\"../data/metadata_with_x_missing.txt\", sep=\" \")"
   ]
  },
  {
   "cell_type": "markdown",
   "metadata": {},
   "source": [
    "Checking chrom 20, as it is the smallest and therefore quickest"
   ]
  },
  {
   "cell_type": "code",
   "execution_count": 3,
   "metadata": {},
   "outputs": [],
   "source": [
    "zarr_dir = \"/faststorage/project/baboondiversity/data/PG_panu3_zarr_12_03_2021/callset.zarr/chr20\"\n",
    "#Opening the zarr data\n",
    "callset = zarr.open_group(zarr_dir, mode=\"r\")\n",
    "gt = allel.GenotypeArray(callset[\"calldata/GT\"])"
   ]
  },
  {
   "cell_type": "code",
   "execution_count": 4,
   "metadata": {},
   "outputs": [
    {
     "data": {
      "application/vnd.jupyter.widget-view+json": {
       "model_id": "243842465b4e469c8e26df288f8071c2",
       "version_major": 2,
       "version_minor": 0
      },
      "text/plain": [
       "Tree(nodes=(Node(disabled=True, name='/', nodes=(Node(disabled=True, name='calldata', nodes=(Node(disabled=Tru…"
      ]
     },
     "metadata": {},
     "output_type": "display_data"
    }
   ],
   "source": [
    "callset.tree()"
   ]
  },
  {
   "cell_type": "code",
   "execution_count": 5,
   "metadata": {},
   "outputs": [],
   "source": [
    "ancestor_fa = \"/faststorage/project/baboondiversity/data/ancestral_state_panu3_23_04_2021/papio_anubis_ancestor_20.fa\""
   ]
  },
  {
   "cell_type": "code",
   "execution_count": 6,
   "metadata": {},
   "outputs": [
    {
     "name": "stdout",
     "output_type": "stream",
     "text": [
      "ANCESTOR_for_chromosome:Panu_3.0:20:1:72050622:1 72050622\n"
     ]
    }
   ],
   "source": [
    "from Bio import SeqIO\n",
    "\n",
    "fasta_sequences = SeqIO.parse(open(ancestor_fa),'fasta')\n",
    "for fasta in fasta_sequences:\n",
    "    name, sequence = fasta.id, str(fasta.seq)\n",
    "    print(name, len(sequence))"
   ]
  },
  {
   "cell_type": "code",
   "execution_count": 7,
   "metadata": {},
   "outputs": [
    {
     "name": "stdout",
     "output_type": "stream",
     "text": [
      "72048358 72050622\n"
     ]
    }
   ],
   "source": [
    "print(callset[\"variants/POS\"][-1], len(sequence)) # ancestor file slighly longer than last segregating site"
   ]
  },
  {
   "cell_type": "markdown",
   "metadata": {},
   "source": [
    "High confidence calls are capitalized, while low confidence are not. For this first test, I capitalize everything.\n",
    "Note that pos starts at 1, while when indexing into the fasta, you start at 0."
   ]
  },
  {
   "cell_type": "code",
   "execution_count": 8,
   "metadata": {},
   "outputs": [],
   "source": [
    "ancestor_list = []\n",
    "pos_list = []\n",
    "for i in callset[\"variants/POS\"][:]:\n",
    "    ancestor_list.append(sequence[i-1].upper())\n",
    "    pos_list.append(i)"
   ]
  },
  {
   "cell_type": "code",
   "execution_count": 9,
   "metadata": {},
   "outputs": [
    {
     "data": {
      "text/plain": [
       "0.06526563448422809"
      ]
     },
     "execution_count": 9,
     "metadata": {},
     "output_type": "execute_result"
    }
   ],
   "source": [
    "(ancestor_list.count(\".\")+ancestor_list.count(\"-\")+ancestor_list.count(\"N\"))/len(ancestor_list)"
   ]
  },
  {
   "cell_type": "code",
   "execution_count": 10,
   "metadata": {},
   "outputs": [
    {
     "data": {
      "text/plain": [
       "0.003889395211757354"
      ]
     },
     "execution_count": 10,
     "metadata": {},
     "output_type": "execute_result"
    }
   ],
   "source": [
    "ancestor_list.count(\"N\")/len(ancestor_list)"
   ]
  },
  {
   "cell_type": "code",
   "execution_count": 11,
   "metadata": {},
   "outputs": [
    {
     "data": {
      "text/plain": [
       "0.031613287901549346"
      ]
     },
     "execution_count": 11,
     "metadata": {},
     "output_type": "execute_result"
    }
   ],
   "source": [
    "ancestor_list.count(\"-\")/len(ancestor_list)"
   ]
  },
  {
   "cell_type": "markdown",
   "metadata": {},
   "source": [
    "Roughly 6 % of identified sites on chr20 is not typeable, with 0.17 being due to not being able to find support for a specific state, 3.1 % being indels and the rest not being covered in the EPO alignment"
   ]
  },
  {
   "cell_type": "code",
   "execution_count": 12,
   "metadata": {},
   "outputs": [],
   "source": [
    "ref_fit = (ancestor_list == callset[\"variants/REF\"][:]).sum()"
   ]
  },
  {
   "cell_type": "code",
   "execution_count": 13,
   "metadata": {},
   "outputs": [],
   "source": [
    "alt_fit = (ancestor_list == callset[\"/variants/ALT\"][:, 0]).sum()"
   ]
  },
  {
   "cell_type": "code",
   "execution_count": 14,
   "metadata": {},
   "outputs": [
    {
     "data": {
      "text/plain": [
       "(0.9289051071365263, 0.8221807614419518)"
      ]
     },
     "execution_count": 14,
     "metadata": {},
     "output_type": "execute_result"
    }
   ],
   "source": [
    "(ref_fit+alt_fit)/len(ancestor_list), ref_fit/len(ancestor_list)"
   ]
  },
  {
   "cell_type": "markdown",
   "metadata": {},
   "source": [
    "This comparision implicitly filters ref/alt which aren´t SNPs, as the ancestral state is checked as a single nucleotide"
   ]
  },
  {
   "cell_type": "code",
   "execution_count": 15,
   "metadata": {},
   "outputs": [],
   "source": [
    "ac = gt.count_alleles()"
   ]
  },
  {
   "cell_type": "code",
   "execution_count": 16,
   "metadata": {},
   "outputs": [
    {
     "data": {
      "text/plain": [
       "0.954285550579864"
      ]
     },
     "execution_count": 16,
     "metadata": {},
     "output_type": "execute_result"
    }
   ],
   "source": [
    "(ac.is_biallelic()).sum()/len(ac)"
   ]
  },
  {
   "cell_type": "code",
   "execution_count": 17,
   "metadata": {},
   "outputs": [
    {
     "data": {
      "text/plain": [
       "0"
      ]
     },
     "execution_count": 17,
     "metadata": {},
     "output_type": "execute_result"
    }
   ],
   "source": [
    "veclen = np.vectorize(len)\n",
    "(veclen(callset[\"/variants/ALT\"][:][:, 0]) != 1).sum()"
   ]
  },
  {
   "cell_type": "code",
   "execution_count": 18,
   "metadata": {},
   "outputs": [
    {
     "data": {
      "text/plain": [
       "0"
      ]
     },
     "execution_count": 18,
     "metadata": {},
     "output_type": "execute_result"
    }
   ],
   "source": [
    "veclen = np.vectorize(len)\n",
    "(veclen(callset[\"/variants/REF\"][:]) != 1).sum()"
   ]
  },
  {
   "cell_type": "code",
   "execution_count": 19,
   "metadata": {},
   "outputs": [],
   "source": [
    "zarr_path = '/faststorage/project/baboondiversity/data/PG_panu3_zarr_12_03_2021/callset.zarr/chr20'\n",
    "callset   = zarr.open_group(zarr_path, mode='r')"
   ]
  },
  {
   "cell_type": "code",
   "execution_count": 20,
   "metadata": {},
   "outputs": [],
   "source": [
    "from Bio import SeqIO\n",
    "mask_fasta = \"/home/eriks/primatediversity/people/erik/data/panu3_callability_mask/Panu_3.0_callability_mask_chr20.fa\"\n",
    "fasta_sequences = SeqIO.parse(open(mask_fasta),'fasta')\n",
    "for fasta in fasta_sequences:\n",
    "    name, mask_sequence = fasta.id, str(fasta.seq)\n",
    "pos_array = callset[\"variants/POS\"][:]\n",
    "bool_list = [0]*len(pos_array)\n",
    "for i in range(len(bool_list)):\n",
    "    pos = pos_array[i]\n",
    "    if mask_sequence[pos-1] != \"N\":\n",
    "        bool_list[i] = 1"
   ]
  },
  {
   "cell_type": "code",
   "execution_count": 21,
   "metadata": {},
   "outputs": [],
   "source": [
    "bool_array = np.array(bool_list, dtype=bool)"
   ]
  },
  {
   "cell_type": "code",
   "execution_count": 22,
   "metadata": {},
   "outputs": [
    {
     "data": {
      "text/plain": [
       "2578705"
      ]
     },
     "execution_count": 22,
     "metadata": {},
     "output_type": "execute_result"
    }
   ],
   "source": [
    "sum(bool_array)"
   ]
  },
  {
   "cell_type": "code",
   "execution_count": 23,
   "metadata": {},
   "outputs": [
    {
     "data": {
      "text/plain": [
       "100"
      ]
     },
     "execution_count": 23,
     "metadata": {},
     "output_type": "execute_result"
    }
   ],
   "source": [
    "len(bool_array[:100])"
   ]
  },
  {
   "cell_type": "markdown",
   "metadata": {},
   "source": [
    "Working on polarizing the map"
   ]
  },
  {
   "cell_type": "code",
   "execution_count": 24,
   "metadata": {},
   "outputs": [
    {
     "name": "stdout",
     "output_type": "stream",
     "text": [
      "ANCESTOR_for_chromosome:Panu_3.0:20:1:72050622:1 72050622\n"
     ]
    }
   ],
   "source": [
    "ancestor_fa = \"/faststorage/project/baboondiversity/data/ancestral_state_panu3_23_04_2021/papio_anubis_ancestor_20.fa\"\n",
    "from Bio import SeqIO\n",
    "\n",
    "fasta_sequences = SeqIO.parse(open(ancestor_fa),'fasta')\n",
    "for fasta in fasta_sequences:\n",
    "    name, sequence = fasta.id, str(fasta.seq)\n",
    "    print(name, len(sequence))"
   ]
  },
  {
   "cell_type": "code",
   "execution_count": 25,
   "metadata": {},
   "outputs": [],
   "source": [
    "##B.4\n",
    "def polarize_map(callset, ancestral_sequence):\n",
    "    '''\n",
    "    Input:\n",
    "        - chrom     : chromosome number\n",
    "        - callset   : Zarr object which directs to all the arrays\n",
    "    Output:\n",
    "        - mapping   : np array with the mapping array in order to polarize corerctly alleles accoring to AA_ensmbl\n",
    "    '''\n",
    "    ancestor_list = []\n",
    "    for i in callset[\"variants/POS\"][:]:\n",
    "        ancestor_list.append(ancestral_sequence[i-1].upper())\n",
    "    mapping    = np.array([[0, 1]]*(len(ancestor_list)))\n",
    "    ens_eq_alt = (ancestor_list == callset[\"variants/ALT\"][:, 0])\n",
    "    mapping[ens_eq_alt, 0] = 1\n",
    "    mapping[ens_eq_alt, 1] = 0\n",
    "    return mapping\n",
    "\n",
    "mapping = polarize_map(callset, sequence)"
   ]
  },
  {
   "cell_type": "code",
   "execution_count": 37,
   "metadata": {},
   "outputs": [
    {
     "data": {
      "text/plain": [
       "0.10672434569457451"
      ]
     },
     "execution_count": 37,
     "metadata": {},
     "output_type": "execute_result"
    }
   ],
   "source": [
    "(mapping[:,1] == [0]).sum()/len(mapping)"
   ]
  }
 ],
 "metadata": {
  "kernelspec": {
   "display_name": "Python 3",
   "language": "python",
   "name": "python3"
  },
  "language_info": {
   "codemirror_mode": {
    "name": "ipython",
    "version": 3
   },
   "file_extension": ".py",
   "mimetype": "text/x-python",
   "name": "python",
   "nbconvert_exporter": "python",
   "pygments_lexer": "ipython3",
   "version": "3.7.9"
  }
 },
 "nbformat": 4,
 "nbformat_minor": 4
}
