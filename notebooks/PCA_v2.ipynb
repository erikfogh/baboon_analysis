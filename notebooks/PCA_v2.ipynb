{
 "cells": [
  {
   "cell_type": "markdown",
   "metadata": {},
   "source": [
    "PCA based on scikit-allel, with some code taken from http://alimanfoo.github.io/2015/09/28/fast-pca.html \n",
    "\n",
    "#TODO: I have changed the matplotlib to inline from widget - this has broken the legend for the plots, so that has to be fixed."
   ]
  },
  {
   "cell_type": "code",
   "execution_count": 1,
   "metadata": {},
   "outputs": [],
   "source": [
    "#Initial configuration, probably overkill in imports.\n",
    "import sys, os, re\n",
    "import numpy as np\n",
    "import allel\n",
    "import zarr\n",
    "import dask\n",
    "import numcodecs\n",
    "import warnings\n",
    "from pathlib import Path\n",
    "\n",
    "#os.environ[\"MODIN_ENGINE\"] = \"ray\"\n",
    "\n",
    "#import modin.pandas as pd\n",
    "import pandas as pd\n",
    "\n",
    "%matplotlib widget\n",
    "from IPython.display import set_matplotlib_formats\n",
    "set_matplotlib_formats('retina', 'png')\n",
    "import matplotlib\n",
    "import matplotlib.pyplot as plt\n",
    "from matplotlib.colors import ListedColormap\n",
    "import seaborn as sns\n",
    "sns.set()\n",
    "sns.set_theme()\n",
    "sns.set_style(\"white\")\n",
    "sns.set_context(\"notebook\")"
   ]
  },
  {
   "cell_type": "code",
   "execution_count": 2,
   "metadata": {},
   "outputs": [
    {
     "data": {
      "text/html": [
       "<div>\n",
       "<style scoped>\n",
       "    .dataframe tbody tr th:only-of-type {\n",
       "        vertical-align: middle;\n",
       "    }\n",
       "\n",
       "    .dataframe tbody tr th {\n",
       "        vertical-align: top;\n",
       "    }\n",
       "\n",
       "    .dataframe thead th {\n",
       "        text-align: right;\n",
       "    }\n",
       "</style>\n",
       "<table border=\"1\" class=\"dataframe\">\n",
       "  <thead>\n",
       "    <tr style=\"text-align: right;\">\n",
       "      <th></th>\n",
       "      <th>Unnamed: 0</th>\n",
       "      <th>PGDP_ID</th>\n",
       "      <th>Provider_ID</th>\n",
       "      <th>Provider</th>\n",
       "      <th>Genus</th>\n",
       "      <th>Species</th>\n",
       "      <th>Origin</th>\n",
       "      <th>Sex</th>\n",
       "      <th>address</th>\n",
       "      <th>longitude</th>\n",
       "      <th>latitude</th>\n",
       "      <th>callset_index</th>\n",
       "    </tr>\n",
       "  </thead>\n",
       "  <tbody>\n",
       "    <tr>\n",
       "      <th>0</th>\n",
       "      <td>1</td>\n",
       "      <td>PD_0199</td>\n",
       "      <td>09SNF1101115</td>\n",
       "      <td>Knauf/Chuma/Roos</td>\n",
       "      <td>Papio</td>\n",
       "      <td>anubis</td>\n",
       "      <td>Serengeti, Tanzania</td>\n",
       "      <td>F</td>\n",
       "      <td>Serengeti, Mara, Lake Zone, Tanzania</td>\n",
       "      <td>34.742544</td>\n",
       "      <td>-1.996626</td>\n",
       "      <td>0</td>\n",
       "    </tr>\n",
       "    <tr>\n",
       "      <th>1</th>\n",
       "      <td>2</td>\n",
       "      <td>PD_0200</td>\n",
       "      <td>11SNF1101115</td>\n",
       "      <td>Knauf/Chuma/Roos</td>\n",
       "      <td>Papio</td>\n",
       "      <td>anubis</td>\n",
       "      <td>Serengeti, Tanzania</td>\n",
       "      <td>F</td>\n",
       "      <td>Serengeti, Mara, Lake Zone, Tanzania</td>\n",
       "      <td>34.742544</td>\n",
       "      <td>-1.996626</td>\n",
       "      <td>1</td>\n",
       "    </tr>\n",
       "    <tr>\n",
       "      <th>2</th>\n",
       "      <td>3</td>\n",
       "      <td>PD_0201</td>\n",
       "      <td>19SNM1131115</td>\n",
       "      <td>Knauf/Chuma/Roos</td>\n",
       "      <td>Papio</td>\n",
       "      <td>anubis</td>\n",
       "      <td>Serengeti, Tanzania</td>\n",
       "      <td>M</td>\n",
       "      <td>Serengeti, Mara, Lake Zone, Tanzania</td>\n",
       "      <td>34.742544</td>\n",
       "      <td>-1.996626</td>\n",
       "      <td>2</td>\n",
       "    </tr>\n",
       "    <tr>\n",
       "      <th>3</th>\n",
       "      <td>4</td>\n",
       "      <td>PD_0202</td>\n",
       "      <td>20SNF1131115</td>\n",
       "      <td>Knauf/Chuma/Roos</td>\n",
       "      <td>Papio</td>\n",
       "      <td>anubis</td>\n",
       "      <td>Serengeti, Tanzania</td>\n",
       "      <td>F</td>\n",
       "      <td>Serengeti, Mara, Lake Zone, Tanzania</td>\n",
       "      <td>34.742544</td>\n",
       "      <td>-1.996626</td>\n",
       "      <td>3</td>\n",
       "    </tr>\n",
       "    <tr>\n",
       "      <th>4</th>\n",
       "      <td>5</td>\n",
       "      <td>PD_0203</td>\n",
       "      <td>21SNF1151115</td>\n",
       "      <td>Knauf/Chuma/Roos</td>\n",
       "      <td>Papio</td>\n",
       "      <td>anubis</td>\n",
       "      <td>Serengeti, Tanzania</td>\n",
       "      <td>F</td>\n",
       "      <td>Serengeti, Mara, Lake Zone, Tanzania</td>\n",
       "      <td>34.742544</td>\n",
       "      <td>-1.996626</td>\n",
       "      <td>4</td>\n",
       "    </tr>\n",
       "    <tr>\n",
       "      <th>...</th>\n",
       "      <td>...</td>\n",
       "      <td>...</td>\n",
       "      <td>...</td>\n",
       "      <td>...</td>\n",
       "      <td>...</td>\n",
       "      <td>...</td>\n",
       "      <td>...</td>\n",
       "      <td>...</td>\n",
       "      <td>...</td>\n",
       "      <td>...</td>\n",
       "      <td>...</td>\n",
       "      <td>...</td>\n",
       "    </tr>\n",
       "    <tr>\n",
       "      <th>155</th>\n",
       "      <td>212</td>\n",
       "      <td>PD_0789</td>\n",
       "      <td>34417_BZ11064</td>\n",
       "      <td>Rogers/Jolly/Phillips-Conroy</td>\n",
       "      <td>Papio</td>\n",
       "      <td>kindae</td>\n",
       "      <td>Chunga, Zambia</td>\n",
       "      <td>F</td>\n",
       "      <td>Chunga, Mumbwa District, Central Province, Zambia</td>\n",
       "      <td>26.005210</td>\n",
       "      <td>-15.053557</td>\n",
       "      <td>155</td>\n",
       "    </tr>\n",
       "    <tr>\n",
       "      <th>156</th>\n",
       "      <td>213</td>\n",
       "      <td>PD_0790</td>\n",
       "      <td>34418_BZ11065</td>\n",
       "      <td>Rogers/Jolly/Phillips-Conroy</td>\n",
       "      <td>Papio</td>\n",
       "      <td>kindae</td>\n",
       "      <td>Chunga, Zambia</td>\n",
       "      <td>F</td>\n",
       "      <td>Chunga, Mumbwa District, Central Province, Zambia</td>\n",
       "      <td>26.005210</td>\n",
       "      <td>-15.053557</td>\n",
       "      <td>156</td>\n",
       "    </tr>\n",
       "    <tr>\n",
       "      <th>157</th>\n",
       "      <td>214</td>\n",
       "      <td>PD_0791</td>\n",
       "      <td>34419_BZ11066</td>\n",
       "      <td>Rogers/Jolly/Phillips-Conroy</td>\n",
       "      <td>Papio</td>\n",
       "      <td>kindae</td>\n",
       "      <td>Chunga, Zambia</td>\n",
       "      <td>F</td>\n",
       "      <td>Chunga, Mumbwa District, Central Province, Zambia</td>\n",
       "      <td>26.005210</td>\n",
       "      <td>-15.053557</td>\n",
       "      <td>157</td>\n",
       "    </tr>\n",
       "    <tr>\n",
       "      <th>158</th>\n",
       "      <td>215</td>\n",
       "      <td>PD_0792</td>\n",
       "      <td>34420_BZ11067</td>\n",
       "      <td>Rogers/Jolly/Phillips-Conroy</td>\n",
       "      <td>Papio</td>\n",
       "      <td>kindae</td>\n",
       "      <td>Chunga, Zambia</td>\n",
       "      <td>F</td>\n",
       "      <td>Chunga, Mumbwa District, Central Province, Zambia</td>\n",
       "      <td>26.005210</td>\n",
       "      <td>-15.053557</td>\n",
       "      <td>158</td>\n",
       "    </tr>\n",
       "    <tr>\n",
       "      <th>159</th>\n",
       "      <td>216</td>\n",
       "      <td>PD_0793</td>\n",
       "      <td>34422_BZ11070</td>\n",
       "      <td>Rogers/Jolly/Phillips-Conroy</td>\n",
       "      <td>Papio</td>\n",
       "      <td>kindae</td>\n",
       "      <td>Chunga, Zambia</td>\n",
       "      <td>M</td>\n",
       "      <td>Chunga, Mumbwa District, Central Province, Zambia</td>\n",
       "      <td>26.005210</td>\n",
       "      <td>-15.053557</td>\n",
       "      <td>159</td>\n",
       "    </tr>\n",
       "  </tbody>\n",
       "</table>\n",
       "<p>160 rows × 12 columns</p>\n",
       "</div>"
      ],
      "text/plain": [
       "     Unnamed: 0  PGDP_ID    Provider_ID                      Provider  Genus  \\\n",
       "0             1  PD_0199   09SNF1101115              Knauf/Chuma/Roos  Papio   \n",
       "1             2  PD_0200   11SNF1101115              Knauf/Chuma/Roos  Papio   \n",
       "2             3  PD_0201   19SNM1131115              Knauf/Chuma/Roos  Papio   \n",
       "3             4  PD_0202   20SNF1131115              Knauf/Chuma/Roos  Papio   \n",
       "4             5  PD_0203   21SNF1151115              Knauf/Chuma/Roos  Papio   \n",
       "..          ...      ...            ...                           ...    ...   \n",
       "155         212  PD_0789  34417_BZ11064  Rogers/Jolly/Phillips-Conroy  Papio   \n",
       "156         213  PD_0790  34418_BZ11065  Rogers/Jolly/Phillips-Conroy  Papio   \n",
       "157         214  PD_0791  34419_BZ11066  Rogers/Jolly/Phillips-Conroy  Papio   \n",
       "158         215  PD_0792  34420_BZ11067  Rogers/Jolly/Phillips-Conroy  Papio   \n",
       "159         216  PD_0793  34422_BZ11070  Rogers/Jolly/Phillips-Conroy  Papio   \n",
       "\n",
       "    Species               Origin Sex  \\\n",
       "0    anubis  Serengeti, Tanzania   F   \n",
       "1    anubis  Serengeti, Tanzania   F   \n",
       "2    anubis  Serengeti, Tanzania   M   \n",
       "3    anubis  Serengeti, Tanzania   F   \n",
       "4    anubis  Serengeti, Tanzania   F   \n",
       "..      ...                  ...  ..   \n",
       "155  kindae       Chunga, Zambia   F   \n",
       "156  kindae       Chunga, Zambia   F   \n",
       "157  kindae       Chunga, Zambia   F   \n",
       "158  kindae       Chunga, Zambia   F   \n",
       "159  kindae       Chunga, Zambia   M   \n",
       "\n",
       "                                               address  longitude   latitude  \\\n",
       "0                 Serengeti, Mara, Lake Zone, Tanzania  34.742544  -1.996626   \n",
       "1                 Serengeti, Mara, Lake Zone, Tanzania  34.742544  -1.996626   \n",
       "2                 Serengeti, Mara, Lake Zone, Tanzania  34.742544  -1.996626   \n",
       "3                 Serengeti, Mara, Lake Zone, Tanzania  34.742544  -1.996626   \n",
       "4                 Serengeti, Mara, Lake Zone, Tanzania  34.742544  -1.996626   \n",
       "..                                                 ...        ...        ...   \n",
       "155  Chunga, Mumbwa District, Central Province, Zambia  26.005210 -15.053557   \n",
       "156  Chunga, Mumbwa District, Central Province, Zambia  26.005210 -15.053557   \n",
       "157  Chunga, Mumbwa District, Central Province, Zambia  26.005210 -15.053557   \n",
       "158  Chunga, Mumbwa District, Central Province, Zambia  26.005210 -15.053557   \n",
       "159  Chunga, Mumbwa District, Central Province, Zambia  26.005210 -15.053557   \n",
       "\n",
       "     callset_index  \n",
       "0                0  \n",
       "1                1  \n",
       "2                2  \n",
       "3                3  \n",
       "4                4  \n",
       "..             ...  \n",
       "155            155  \n",
       "156            156  \n",
       "157            157  \n",
       "158            158  \n",
       "159            159  \n",
       "\n",
       "[160 rows x 12 columns]"
      ]
     },
     "execution_count": 2,
     "metadata": {},
     "output_type": "execute_result"
    }
   ],
   "source": [
    "meta_data_samples = pd.read_table(\"../data/meta_data_samples.txt\", sep = \" \")\n",
    "meta_data_samples"
   ]
  },
  {
   "cell_type": "code",
   "execution_count": 3,
   "metadata": {},
   "outputs": [
    {
     "data": {
      "application/vnd.jupyter.widget-view+json": {
       "model_id": "9960166265844ec390e0a45d71610ad4",
       "version_major": 2,
       "version_minor": 0
      },
      "text/plain": [
       "Tree(nodes=(Node(disabled=True, name='/', nodes=(Node(disabled=True, name='chr1', nodes=(Node(disabled=True, n…"
      ]
     },
     "metadata": {},
     "output_type": "display_data"
    }
   ],
   "source": [
    "#Opening the zarr data\n",
    "callset = zarr.open_group('/faststorage/project/primatediversity/people/kmt/baboon_flagship/steps/callset.zarr', mode='r')\n",
    "callset.tree(expand=False)"
   ]
  },
  {
   "cell_type": "code",
   "execution_count": 4,
   "metadata": {},
   "outputs": [],
   "source": [
    "#Functions from http://alimanfoo.github.io/2015/09/28/fast-pca.html \n",
    "def plot_ld(gn, title):\n",
    "    m = allel.rogers_huff_r(gn) ** 2\n",
    "    ax = allel.plot_pairwise_ld(m)\n",
    "    ax.set_title(title)\n",
    "\n",
    "def ld_prune(gn, size, step, threshold=.1, n_iter=1):\n",
    "    for i in range(n_iter):\n",
    "        loc_unlinked = allel.locate_unlinked(gn, size=size, step=step, threshold=threshold)\n",
    "        n = np.count_nonzero(loc_unlinked)\n",
    "        n_remove = gn.shape[0] - n\n",
    "        print('iteration', i+1, 'retaining', n, 'removing', n_remove, 'variants')\n",
    "        gn = gn.compress(loc_unlinked, axis=0)\n",
    "    return gn\n"
   ]
  },
  {
   "cell_type": "code",
   "execution_count": 5,
   "metadata": {},
   "outputs": [],
   "source": [
    "#Setting up a function to do a PCA for a specific input\n",
    "def pruning_and_pca(chrom, IDs, subsampling_n, size, n_iter):\n",
    "    print(\"Investigating {} with {} individuals\".format(chrom, len(IDs)))\n",
    "    gt_zarr = allel.GenotypeChunkedArray(callset[\"{}/calldata/GT\".format(chrom)]) #Loading in the zarr dataset\n",
    "    gt_zarr = gt_zarr.take(IDs, axis=1)\n",
    "    ac = gt_zarr.count_alleles()[:] #Allele counts for each pos\n",
    "    flt = (ac.max_allele() == 1) & (ac[:, :2].min(axis=1) > 1) #Filtering for biallelic \n",
    "    #and at least two individuals in the alt state\n",
    "    gf = gt_zarr.compress(flt, axis=0) #Applying filter\n",
    "    gn = gf.to_n_alt() #Transform genotype to number of non-ref alleles\n",
    "    if subsampling_n > len(gn):\n",
    "        subsampling_n = len(gn)-1\n",
    "    vidx = np.random.choice(gn.shape[0], subsampling_n, replace=False) #Random subsampling\n",
    "    vidx.sort()\n",
    "    gnr = gn.take(vidx, axis=0) #Applying the random subsample\n",
    "    gnu = ld_prune(gnr, size=size, step=200, threshold=.1, n_iter=n_iter) #Pruning based on LD\n",
    "    if len(gnu) > 150000:\n",
    "        print(\"Too large dataset for pca\")\n",
    "        return \"Too large dataset for pca\"\n",
    "    gnu = gnu[:] #Taking it out of chunked storage\n",
    "    coords1, model1 = allel.pca(gnu, n_components=10, scaler='patterson') #Running the pca\n",
    "    #The plotting solution in the example is inflexible, so I will try to make it through seaborn.\n",
    "    pca_df = pd.DataFrame()\n",
    "    c_transposed = coords1.transpose()\n",
    "    for i in range(len(c_transposed)):\n",
    "        pc = \"pc{}\".format(i+1)\n",
    "        pca_df[pc] = c_transposed[i]\n",
    "    pca_df_meta = pd.concat([pca_df, meta_data_samples.iloc[IDs].reset_index()], axis = 1, ignore_index=False)\n",
    "    return pca_df_meta"
   ]
  },
  {
   "cell_type": "code",
   "execution_count": 6,
   "metadata": {},
   "outputs": [
    {
     "name": "stdout",
     "output_type": "stream",
     "text": [
      "Investigating chrX with 63 individuals\n",
      "iteration 1 retaining 105204 removing 1525739 variants\n",
      "iteration 2 retaining 17080 removing 88124 variants\n"
     ]
    }
   ],
   "source": [
    "IDs = meta_data_samples.loc[(meta_data_samples.Sex == \"F\") & (meta_data_samples.PGDP_ID != \"PD_0202\")].callset_index.values\n",
    "pca_df = pruning_and_pca(\"chrX\", IDs, 3000000, 500, 2) #Make sure that enough variants are removed."
   ]
  },
  {
   "cell_type": "code",
   "execution_count": 7,
   "metadata": {
    "scrolled": true
   },
   "outputs": [
    {
     "data": {
      "application/vnd.jupyter.widget-view+json": {
       "model_id": "6479aa26be4d4eaa9378674c815df38b",
       "version_major": 2,
       "version_minor": 0
      },
      "text/plain": [
       "Canvas(toolbar=Toolbar(toolitems=[('Home', 'Reset original view', 'home', 'home'), ('Back', 'Back to previous …"
      ]
     },
     "metadata": {},
     "output_type": "display_data"
    }
   ],
   "source": [
    "scatter_sns = sns.scatterplot(data = pca_df, x=\"pc1\", y=\"pc2\", hue=\"Origin\")\n",
    "plt.legend(bbox_to_anchor=(1.05, 1), loc=2, borderaxespad=0.)\n",
    "fig = scatter_sns.get_figure()\n",
    "fig.savefig(\"../results/pca_plot_origin\")"
   ]
  },
  {
   "cell_type": "code",
   "execution_count": 8,
   "metadata": {},
   "outputs": [],
   "source": [
    "scatter_sns = sns.scatterplot(data = pca_df, x=\"pc1\", y=\"pc2\", hue=\"Species\")\n",
    "plt.legend(bbox_to_anchor=(1.05, 1), loc=2, borderaxespad=0.)\n",
    "fig = scatter_sns.get_figure()\n",
    "fig.savefig(\"../results/pca_plot_species\")"
   ]
  },
  {
   "cell_type": "code",
   "execution_count": 9,
   "metadata": {},
   "outputs": [
    {
     "data": {
      "text/plain": [
       "<matplotlib.legend.Legend at 0x2acfcb03d210>"
      ]
     },
     "execution_count": 9,
     "metadata": {},
     "output_type": "execute_result"
    }
   ],
   "source": [
    "sns.scatterplot(data = pca_df, x=\"pc3\", y=\"pc4\", hue=\"Species\", style=\"Sex\")\n",
    "plt.legend(bbox_to_anchor=(1.05, 1), loc=2, borderaxespad=0.)"
   ]
  },
  {
   "cell_type": "code",
   "execution_count": 10,
   "metadata": {},
   "outputs": [
    {
     "name": "stdout",
     "output_type": "stream",
     "text": [
      "Taking 10 from species anubis\n",
      "Taking 10 from species cynocephalus\n",
      "Taking 5 from species papio\n",
      "Taking 3 from species ursinus (grayfoot)\n",
      "Taking 5 from species hamadryas\n",
      "Taking 7 from species kindae\n"
     ]
    }
   ],
   "source": [
    "#Only taking 10 individuals per species.\n",
    "females = meta_data_samples.loc[(meta_data_samples.Sex == \"F\") & (meta_data_samples.PGDP_ID != \"PD_0202\")]\n",
    "IDs = []\n",
    "\n",
    "for species in meta_data_samples.Species.unique():\n",
    "    species_IDs = females.loc[females.Species == species]\n",
    "    n = min(10, len(species_IDs))\n",
    "    print(\"Taking {} from species {}\".format(n, species))\n",
    "    IDs.extend(np.random.choice(species_IDs.callset_index.values, n, replace=False))"
   ]
  },
  {
   "cell_type": "code",
   "execution_count": 11,
   "metadata": {},
   "outputs": [
    {
     "name": "stdout",
     "output_type": "stream",
     "text": [
      "Investigating chrX with 40 individuals\n",
      "iteration 1 retaining 113168 removing 1297662 variants\n",
      "iteration 2 retaining 16787 removing 96381 variants\n"
     ]
    }
   ],
   "source": [
    "pca_df = pruning_and_pca(\"chrX\", IDs, 3000000, 250, 2)"
   ]
  },
  {
   "cell_type": "code",
   "execution_count": 12,
   "metadata": {},
   "outputs": [],
   "source": [
    "scatter_sns = sns.scatterplot(data = pca_df, x=\"pc1\", y=\"pc2\", hue=\"Species\")\n",
    "plt.legend(bbox_to_anchor=(1.05, 1), loc=2, borderaxespad=0.)\n",
    "fig = scatter_sns.get_figure()\n",
    "fig.savefig(\"../results/pca_plot_species_5_IDs\")"
   ]
  },
  {
   "cell_type": "code",
   "execution_count": 13,
   "metadata": {},
   "outputs": [],
   "source": [
    "scatter_sns = sns.scatterplot(data = pca_df, x=\"pc1\", y=\"pc2\", hue=\"Origin\")\n",
    "plt.legend(bbox_to_anchor=(1.05, 1), loc=2, borderaxespad=0.)\n",
    "fig = scatter_sns.get_figure()\n",
    "fig.savefig(\"../results/pca_plot_origin_5_IDs\")"
   ]
  },
  {
   "cell_type": "code",
   "execution_count": 14,
   "metadata": {},
   "outputs": [
    {
     "name": "stdout",
     "output_type": "stream",
     "text": [
      "Taking 10 from species anubis\n",
      "Taking 10 from species cynocephalus\n",
      "Taking 10 from species papio\n",
      "Taking 4 from species ursinus (grayfoot)\n",
      "Taking 10 from species hamadryas\n",
      "Taking 10 from species kindae\n"
     ]
    }
   ],
   "source": [
    "#Only taking 10 individuals per species, here on chr7 and with males.\n",
    "IDs = []\n",
    "\n",
    "for species in meta_data_samples.Species.unique():\n",
    "    species_IDs = meta_data_samples.loc[meta_data_samples.Species == species]\n",
    "    n = min(10, len(species_IDs))\n",
    "    print(\"Taking {} from species {}\".format(n, species))\n",
    "    IDs.extend(np.random.choice(species_IDs.callset_index.values, n, replace=False))"
   ]
  },
  {
   "cell_type": "code",
   "execution_count": 15,
   "metadata": {},
   "outputs": [
    {
     "name": "stdout",
     "output_type": "stream",
     "text": [
      "Investigating chr7 with 54 individuals\n",
      "iteration 1 retaining 254932 removing 2466334 variants\n",
      "iteration 2 retaining 43278 removing 211654 variants\n"
     ]
    }
   ],
   "source": [
    "pca_df = pruning_and_pca(\"chr7\", IDs, 3000000, 250, 2)"
   ]
  },
  {
   "cell_type": "code",
   "execution_count": 16,
   "metadata": {},
   "outputs": [],
   "source": [
    "scatter_sns = sns.scatterplot(data = pca_df, x=\"pc1\", y=\"pc2\", hue=\"Species\")\n",
    "plt.legend(bbox_to_anchor=(1.05, 1), loc=2, borderaxespad=0.)\n",
    "fig = scatter_sns.get_figure()\n",
    "fig.savefig(\"../results/pca_plot_species_10_IDs_chr7\")"
   ]
  },
  {
   "cell_type": "code",
   "execution_count": 17,
   "metadata": {},
   "outputs": [],
   "source": [
    "scatter_sns = sns.scatterplot(data = pca_df, x=\"pc1\", y=\"pc2\", hue=\"Origin\")\n",
    "plt.legend(bbox_to_anchor=(1.05, 1), loc=2, borderaxespad=0.)\n",
    "fig = scatter_sns.get_figure()\n",
    "fig.savefig(\"../results/pca_plot_origin_10_IDs_chr7\")"
   ]
  },
  {
   "cell_type": "code",
   "execution_count": 18,
   "metadata": {},
   "outputs": [
    {
     "data": {
      "text/plain": [
       "<matplotlib.legend.Legend at 0x2acfca2d3750>"
      ]
     },
     "execution_count": 18,
     "metadata": {},
     "output_type": "execute_result"
    }
   ],
   "source": [
    "scatter_sns = sns.scatterplot(data = pca_df, x=\"pc3\", y=\"pc4\", hue=\"Species\")\n",
    "plt.legend(bbox_to_anchor=(1.05, 1), loc=2, borderaxespad=0.)"
   ]
  }
 ],
 "metadata": {
  "kernelspec": {
   "display_name": "Python 3",
   "language": "python",
   "name": "python3"
  },
  "language_info": {
   "codemirror_mode": {
    "name": "ipython",
    "version": 3
   },
   "file_extension": ".py",
   "mimetype": "text/x-python",
   "name": "python",
   "nbconvert_exporter": "python",
   "pygments_lexer": "ipython3",
   "version": "3.7.9"
  }
 },
 "nbformat": 4,
 "nbformat_minor": 4
}
