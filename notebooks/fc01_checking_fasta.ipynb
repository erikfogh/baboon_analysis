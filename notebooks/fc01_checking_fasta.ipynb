{
 "cells": [
  {
   "cell_type": "markdown",
   "metadata": {},
   "source": [
    "Checking papio fasta-files"
   ]
  },
  {
   "cell_type": "code",
   "execution_count": 1,
   "metadata": {},
   "outputs": [],
   "source": [
    "%run ../scripts/notebook_settings.py"
   ]
  },
  {
   "cell_type": "code",
   "execution_count": 2,
   "metadata": {},
   "outputs": [],
   "source": [
    "input_file = \"/home/eriks/primatediversity/people/erik/data/panu3_ref/Papio_anubis.Panu_3.0.dna.chromosome.X.fa\""
   ]
  },
  {
   "cell_type": "code",
   "execution_count": 3,
   "metadata": {},
   "outputs": [
    {
     "name": "stdout",
     "output_type": "stream",
     "text": [
      "X 143691637\n"
     ]
    }
   ],
   "source": [
    "from Bio import SeqIO\n",
    "\n",
    "fasta_sequences = SeqIO.parse(open(input_file),'fasta')\n",
    "for fasta in fasta_sequences:\n",
    "    name, sequence = fasta.id, str(fasta.seq)\n",
    "    print(name, len(sequence))"
   ]
  },
  {
   "cell_type": "code",
   "execution_count": 4,
   "metadata": {},
   "outputs": [],
   "source": [
    "mask_file = \"/home/eriks/primatediversity/people/erik/data/callmasks/cutoff_5_all_baboons_chrX_f_only_min_third.bed\""
   ]
  },
  {
   "cell_type": "code",
   "execution_count": 5,
   "metadata": {},
   "outputs": [],
   "source": [
    "df = pd.read_csv(mask_file, sep='\\t',\n",
    "                         comment='t', header=None, names=[\"chrom\", \"chromStart\", \"chromEnd\"])"
   ]
  },
  {
   "cell_type": "code",
   "execution_count": 6,
   "metadata": {},
   "outputs": [
    {
     "name": "stdout",
     "output_type": "stream",
     "text": [
      "X 143691637\n"
     ]
    }
   ],
   "source": [
    "from Bio import SeqIO\n",
    "\n",
    "fasta_sequences = SeqIO.parse(open(input_file),'fasta')\n",
    "for fasta in fasta_sequences:\n",
    "    name, sequence = fasta.id, str(fasta.seq)\n",
    "    print(name, len(sequence))"
   ]
  },
  {
   "cell_type": "code",
   "execution_count": 7,
   "metadata": {},
   "outputs": [
    {
     "data": {
      "text/plain": [
       "0.9146715754932906"
      ]
     },
     "execution_count": 7,
     "metadata": {},
     "output_type": "execute_result"
    }
   ],
   "source": [
    "(df.chromEnd.sum()-df.chromStart.sum())/len(sequence)"
   ]
  },
  {
   "cell_type": "code",
   "execution_count": 8,
   "metadata": {},
   "outputs": [
    {
     "data": {
      "text/html": [
       "<div>\n",
       "<style scoped>\n",
       "    .dataframe tbody tr th:only-of-type {\n",
       "        vertical-align: middle;\n",
       "    }\n",
       "\n",
       "    .dataframe tbody tr th {\n",
       "        vertical-align: top;\n",
       "    }\n",
       "\n",
       "    .dataframe thead th {\n",
       "        text-align: right;\n",
       "    }\n",
       "</style>\n",
       "<table border=\"1\" class=\"dataframe\">\n",
       "  <thead>\n",
       "    <tr style=\"text-align: right;\">\n",
       "      <th></th>\n",
       "      <th>chrom</th>\n",
       "      <th>chromStart</th>\n",
       "      <th>chromEnd</th>\n",
       "    </tr>\n",
       "  </thead>\n",
       "  <tbody>\n",
       "    <tr>\n",
       "      <th>0</th>\n",
       "      <td>chrX</td>\n",
       "      <td>210</td>\n",
       "      <td>235</td>\n",
       "    </tr>\n",
       "    <tr>\n",
       "      <th>1</th>\n",
       "      <td>chrX</td>\n",
       "      <td>235</td>\n",
       "      <td>236</td>\n",
       "    </tr>\n",
       "    <tr>\n",
       "      <th>2</th>\n",
       "      <td>chrX</td>\n",
       "      <td>236</td>\n",
       "      <td>239</td>\n",
       "    </tr>\n",
       "    <tr>\n",
       "      <th>3</th>\n",
       "      <td>chrX</td>\n",
       "      <td>239</td>\n",
       "      <td>240</td>\n",
       "    </tr>\n",
       "    <tr>\n",
       "      <th>4</th>\n",
       "      <td>chrX</td>\n",
       "      <td>240</td>\n",
       "      <td>244</td>\n",
       "    </tr>\n",
       "    <tr>\n",
       "      <th>...</th>\n",
       "      <td>...</td>\n",
       "      <td>...</td>\n",
       "      <td>...</td>\n",
       "    </tr>\n",
       "    <tr>\n",
       "      <th>6100120</th>\n",
       "      <td>chrX</td>\n",
       "      <td>143690743</td>\n",
       "      <td>143690746</td>\n",
       "    </tr>\n",
       "    <tr>\n",
       "      <th>6100121</th>\n",
       "      <td>chrX</td>\n",
       "      <td>143690747</td>\n",
       "      <td>143690749</td>\n",
       "    </tr>\n",
       "    <tr>\n",
       "      <th>6100122</th>\n",
       "      <td>chrX</td>\n",
       "      <td>143690750</td>\n",
       "      <td>143690756</td>\n",
       "    </tr>\n",
       "    <tr>\n",
       "      <th>6100123</th>\n",
       "      <td>chrX</td>\n",
       "      <td>143690756</td>\n",
       "      <td>143690759</td>\n",
       "    </tr>\n",
       "    <tr>\n",
       "      <th>6100124</th>\n",
       "      <td>chrX</td>\n",
       "      <td>143690759</td>\n",
       "      <td>143690772</td>\n",
       "    </tr>\n",
       "  </tbody>\n",
       "</table>\n",
       "<p>6100125 rows × 3 columns</p>\n",
       "</div>"
      ],
      "text/plain": [
       "        chrom  chromStart   chromEnd\n",
       "0        chrX         210        235\n",
       "1        chrX         235        236\n",
       "2        chrX         236        239\n",
       "3        chrX         239        240\n",
       "4        chrX         240        244\n",
       "...       ...         ...        ...\n",
       "6100120  chrX   143690743  143690746\n",
       "6100121  chrX   143690747  143690749\n",
       "6100122  chrX   143690750  143690756\n",
       "6100123  chrX   143690756  143690759\n",
       "6100124  chrX   143690759  143690772\n",
       "\n",
       "[6100125 rows x 3 columns]"
      ]
     },
     "execution_count": 8,
     "metadata": {},
     "output_type": "execute_result"
    }
   ],
   "source": [
    "df"
   ]
  },
  {
   "cell_type": "code",
   "execution_count": 9,
   "metadata": {},
   "outputs": [
    {
     "data": {
      "text/plain": [
       "0.006427813192774747"
      ]
     },
     "execution_count": 9,
     "metadata": {},
     "output_type": "execute_result"
    }
   ],
   "source": [
    "sequence.count(\"N\")/len(sequence)"
   ]
  },
  {
   "cell_type": "code",
   "execution_count": 10,
   "metadata": {},
   "outputs": [
    {
     "data": {
      "text/plain": [
       "923623"
      ]
     },
     "execution_count": 10,
     "metadata": {},
     "output_type": "execute_result"
    }
   ],
   "source": [
    "sequence.count(\"N\")"
   ]
  },
  {
   "cell_type": "code",
   "execution_count": 11,
   "metadata": {},
   "outputs": [
    {
     "data": {
      "text/plain": [
       "143691637"
      ]
     },
     "execution_count": 11,
     "metadata": {},
     "output_type": "execute_result"
    }
   ],
   "source": [
    "len(sequence)"
   ]
  },
  {
   "cell_type": "markdown",
   "metadata": {},
   "source": [
    "Generating genome length files"
   ]
  },
  {
   "cell_type": "code",
   "execution_count": 33,
   "metadata": {},
   "outputs": [],
   "source": [
    "dir_ref = \"/home/eriks/primatediversity/people/erik/data/panu3_ref/\"\n",
    "fa_name = \"Papio_anubis.Panu_3.0.dna.chromosome.{}.fa\"\n",
    "output_dir = \"/home/eriks/primatediversity/people/erik/data/panu3_callability_mask/\"\n",
    "\n",
    "chromosomes = [f'{x}' for x in range(1, 21)] + ['X']\n",
    "g_length = []\n",
    "chrom_name = []\n",
    "for chrom in chromosomes:\n",
    "    fasta_sequences = SeqIO.parse(open(dir_ref+fa_name.format(chrom)),'fasta')\n",
    "    for fasta in fasta_sequences:\n",
    "        name, sequence = fasta.id, str(fasta.seq)\n",
    "        g_length.append(len(sequence))\n",
    "        chrom_name.append(\"chr\"+chrom)"
   ]
  },
  {
   "cell_type": "code",
   "execution_count": 34,
   "metadata": {},
   "outputs": [],
   "source": [
    "dict_g = {\"chrom\": chrom_name, \"G\": g_length}\n",
    "pd.DataFrame(data=dict_g).to_csv(output_dir+\"genome_lengths\", sep='\\t', header=False, index=False)"
   ]
  },
  {
   "cell_type": "markdown",
   "metadata": {},
   "source": [
    "Generating the correct header for the fasta file"
   ]
  },
  {
   "cell_type": "code",
   "execution_count": 43,
   "metadata": {},
   "outputs": [],
   "source": [
    "for chrom in chromosomes:\n",
    "    with open(dir_ref+fa_name.format(chrom)) as original_file, open(output_dir+fa_name.format(chrom), 'w') as corrected:\n",
    "        records = SeqIO.parse(original_file, 'fasta')\n",
    "        for record in records:\n",
    "            record.id = \"chr{}\".format(chrom)\n",
    "            record.description = \"chr{}\".format(chrom)\n",
    "            SeqIO.write(record, corrected, 'fasta')"
   ]
  },
  {
   "cell_type": "markdown",
   "metadata": {},
   "source": [
    "Checking that the maskfasta works correctly."
   ]
  },
  {
   "cell_type": "code",
   "execution_count": 55,
   "metadata": {},
   "outputs": [],
   "source": [
    "mask_file = \"/home/eriks/primatediversity/people/erik/data/callmasks/cutoff_5_all_baboons_chr20_min_third.bed\"\n",
    "df = pd.read_csv(mask_file, sep='\\t',\n",
    "                         comment='t', header=None, names=[\"chrom\", \"chromStart\", \"chromEnd\"])\n"
   ]
  },
  {
   "cell_type": "code",
   "execution_count": 56,
   "metadata": {},
   "outputs": [
    {
     "name": "stdout",
     "output_type": "stream",
     "text": [
      "chr20 72050622\n"
     ]
    }
   ],
   "source": [
    "input_file = \"/home/eriks/primatediversity/people/erik/data/panu3_callability_mask/Panu_3.0_callability_mask_chr20.fa\"\n",
    "from Bio import SeqIO\n",
    "\n",
    "fasta_sequences = SeqIO.parse(open(input_file),'fasta')\n",
    "for fasta in fasta_sequences:\n",
    "    name, sequence = fasta.id, str(fasta.seq)\n",
    "    print(name, len(sequence))"
   ]
  },
  {
   "cell_type": "code",
   "execution_count": 61,
   "metadata": {},
   "outputs": [
    {
     "name": "stdout",
     "output_type": "stream",
     "text": [
      "ANCESTOR_for_chromosome:Panu_3.0:20:1:72050622:1 72050622\n"
     ]
    }
   ],
   "source": [
    "input_file = \"/faststorage/project/baboondiversity/data/ancestral_state_panu3_23_04_2021/papio_anubis_ancestor_20.fa\"\n",
    "from Bio import SeqIO\n",
    "\n",
    "fasta_sequences = SeqIO.parse(open(input_file),'fasta')\n",
    "for fasta in fasta_sequences:\n",
    "    name, sequence = fasta.id, str(fasta.seq)\n",
    "    print(name, len(sequence))"
   ]
  },
  {
   "cell_type": "code",
   "execution_count": 59,
   "metadata": {},
   "outputs": [
    {
     "data": {
      "text/plain": [
       "5495604"
      ]
     },
     "execution_count": 59,
     "metadata": {},
     "output_type": "execute_result"
    }
   ],
   "source": [
    "sequence.count(\"N\")"
   ]
  },
  {
   "cell_type": "code",
   "execution_count": 58,
   "metadata": {},
   "outputs": [
    {
     "data": {
      "text/plain": [
       "-5495604"
      ]
     },
     "execution_count": 58,
     "metadata": {},
     "output_type": "execute_result"
    }
   ],
   "source": [
    "(df.chromEnd.sum()-df.chromStart.sum())-len(sequence)"
   ]
  },
  {
   "cell_type": "code",
   "execution_count": null,
   "metadata": {},
   "outputs": [],
   "source": []
  },
  {
   "cell_type": "code",
   "execution_count": 54,
   "metadata": {},
   "outputs": [
    {
     "data": {
      "text/plain": [
       "array([ True, False, False,  True])"
      ]
     },
     "execution_count": 54,
     "metadata": {},
     "output_type": "execute_result"
    }
   ],
   "source": [
    "l = [True, False, False, True]\n",
    "np.array(l)"
   ]
  }
 ],
 "metadata": {
  "kernelspec": {
   "display_name": "Python 3",
   "language": "python",
   "name": "python3"
  },
  "language_info": {
   "codemirror_mode": {
    "name": "ipython",
    "version": 3
   },
   "file_extension": ".py",
   "mimetype": "text/x-python",
   "name": "python",
   "nbconvert_exporter": "python",
   "pygments_lexer": "ipython3",
   "version": "3.7.9"
  }
 },
 "nbformat": 4,
 "nbformat_minor": 4
}
