{
 "cells": [
  {
   "cell_type": "markdown",
   "metadata": {},
   "source": [
    "In this notebook, I will focus on the various callset parameters, such as DP to see why the number of het sites called in males appear."
   ]
  },
  {
   "cell_type": "code",
   "execution_count": 1,
   "metadata": {},
   "outputs": [
    {
     "data": {
      "text/plain": [
       "<dask.config.set at 0x2af1ff869290>"
      ]
     },
     "execution_count": 1,
     "metadata": {},
     "output_type": "execute_result"
    }
   ],
   "source": [
    "#Initial configuration, probably overkill in imports.\n",
    "import sys, os, re\n",
    "import numpy as np\n",
    "import pandas as pd\n",
    "import allel\n",
    "import zarr\n",
    "import dask\n",
    "import numcodecs\n",
    "import warnings\n",
    "from pathlib import Path\n",
    "\n",
    "\n",
    "%matplotlib inline\n",
    "from IPython.display import set_matplotlib_formats\n",
    "set_matplotlib_formats('retina', 'png')\n",
    "import matplotlib\n",
    "import matplotlib.pyplot as plt\n",
    "from matplotlib.colors import ListedColormap\n",
    "import seaborn as sns\n",
    "sns.set()\n",
    "sns.set_style(\"white\")\n",
    "sns.set_context(\"notebook\")\n",
    "\n",
    "#Dask setup\n",
    "from multiprocessing.pool import ThreadPool\n",
    "import dask\n",
    "dask.config.set(pool=ThreadPool(int(os.environ['SLURM_CPUS_PER_TASK'])))"
   ]
  },
  {
   "cell_type": "code",
   "execution_count": 2,
   "metadata": {},
   "outputs": [
    {
     "data": {
      "application/vnd.jupyter.widget-view+json": {
       "model_id": "7d9722cf733b4665b099ca9970d088cd",
       "version_major": 2,
       "version_minor": 0
      },
      "text/plain": [
       "Tree(nodes=(Node(disabled=True, name='/', nodes=(Node(disabled=True, name='chr1', nodes=(Node(disabled=True, n…"
      ]
     },
     "metadata": {},
     "output_type": "display_data"
    }
   ],
   "source": [
    "#Opening the zarr data\n",
    "callset = zarr.open_group('/faststorage/project/primatediversity/people/kmt/baboon_flagship/steps/callset.zarr', mode='r')\n",
    "callset.tree(expand=False)"
   ]
  },
  {
   "cell_type": "code",
   "execution_count": 3,
   "metadata": {},
   "outputs": [],
   "source": [
    "chromosomes = [f'chr{x}' for x in range(1, 21)] + ['chrX']\n",
    "meta_data = pd.read_excel('../data/Papio-Genomes_JR_120720_MR-CR-KM_geoloc.xlsx')\n",
    "baboon_samples = [x for x in meta_data.PGDP_ID if x.startswith('PD')] #  NB: to not get the SciAdvPaper samples\n",
    "#Meta data for the sample present in the zarr data structure - Kasper has removed some of the samples.\n",
    "samples_list = list(callset['chr1/samples'][:])\n",
    "meta_data_samples = meta_data.loc[meta_data.PGDP_ID.isin(samples_list)].copy()\n",
    "samples_callset_index = [samples_list.index(s) for s in meta_data_samples.PGDP_ID]\n",
    "meta_data_samples['callset_index'] = samples_callset_index"
   ]
  },
  {
   "cell_type": "code",
   "execution_count": 4,
   "metadata": {},
   "outputs": [
    {
     "data": {
      "text/html": [
       "<div>\n",
       "<style scoped>\n",
       "    .dataframe tbody tr th:only-of-type {\n",
       "        vertical-align: middle;\n",
       "    }\n",
       "\n",
       "    .dataframe tbody tr th {\n",
       "        vertical-align: top;\n",
       "    }\n",
       "\n",
       "    .dataframe thead th {\n",
       "        text-align: right;\n",
       "    }\n",
       "</style>\n",
       "<table border=\"1\" class=\"dataframe\">\n",
       "  <thead>\n",
       "    <tr style=\"text-align: right;\">\n",
       "      <th></th>\n",
       "      <th>Unnamed: 0</th>\n",
       "      <th>PGDP_ID</th>\n",
       "      <th>Provider_ID</th>\n",
       "      <th>Provider</th>\n",
       "      <th>Genus</th>\n",
       "      <th>Species</th>\n",
       "      <th>Origin</th>\n",
       "      <th>Sex</th>\n",
       "      <th>address</th>\n",
       "      <th>longitude</th>\n",
       "      <th>latitude</th>\n",
       "      <th>callset_index</th>\n",
       "    </tr>\n",
       "  </thead>\n",
       "  <tbody>\n",
       "    <tr>\n",
       "      <th>1</th>\n",
       "      <td>1</td>\n",
       "      <td>PD_0199</td>\n",
       "      <td>09SNF1101115</td>\n",
       "      <td>Knauf/Chuma/Roos</td>\n",
       "      <td>Papio</td>\n",
       "      <td>anubis</td>\n",
       "      <td>Serengeti, Tanzania</td>\n",
       "      <td>F</td>\n",
       "      <td>Serengeti, Mara, Lake Zone, Tanzania</td>\n",
       "      <td>34.742544</td>\n",
       "      <td>-1.996626</td>\n",
       "      <td>0</td>\n",
       "    </tr>\n",
       "    <tr>\n",
       "      <th>2</th>\n",
       "      <td>2</td>\n",
       "      <td>PD_0200</td>\n",
       "      <td>11SNF1101115</td>\n",
       "      <td>Knauf/Chuma/Roos</td>\n",
       "      <td>Papio</td>\n",
       "      <td>anubis</td>\n",
       "      <td>Serengeti, Tanzania</td>\n",
       "      <td>F</td>\n",
       "      <td>Serengeti, Mara, Lake Zone, Tanzania</td>\n",
       "      <td>34.742544</td>\n",
       "      <td>-1.996626</td>\n",
       "      <td>1</td>\n",
       "    </tr>\n",
       "    <tr>\n",
       "      <th>3</th>\n",
       "      <td>3</td>\n",
       "      <td>PD_0201</td>\n",
       "      <td>19SNM1131115</td>\n",
       "      <td>Knauf/Chuma/Roos</td>\n",
       "      <td>Papio</td>\n",
       "      <td>anubis</td>\n",
       "      <td>Serengeti, Tanzania</td>\n",
       "      <td>M</td>\n",
       "      <td>Serengeti, Mara, Lake Zone, Tanzania</td>\n",
       "      <td>34.742544</td>\n",
       "      <td>-1.996626</td>\n",
       "      <td>2</td>\n",
       "    </tr>\n",
       "    <tr>\n",
       "      <th>4</th>\n",
       "      <td>4</td>\n",
       "      <td>PD_0202</td>\n",
       "      <td>20SNF1131115</td>\n",
       "      <td>Knauf/Chuma/Roos</td>\n",
       "      <td>Papio</td>\n",
       "      <td>anubis</td>\n",
       "      <td>Serengeti, Tanzania</td>\n",
       "      <td>F</td>\n",
       "      <td>Serengeti, Mara, Lake Zone, Tanzania</td>\n",
       "      <td>34.742544</td>\n",
       "      <td>-1.996626</td>\n",
       "      <td>3</td>\n",
       "    </tr>\n",
       "    <tr>\n",
       "      <th>5</th>\n",
       "      <td>5</td>\n",
       "      <td>PD_0203</td>\n",
       "      <td>21SNF1151115</td>\n",
       "      <td>Knauf/Chuma/Roos</td>\n",
       "      <td>Papio</td>\n",
       "      <td>anubis</td>\n",
       "      <td>Serengeti, Tanzania</td>\n",
       "      <td>F</td>\n",
       "      <td>Serengeti, Mara, Lake Zone, Tanzania</td>\n",
       "      <td>34.742544</td>\n",
       "      <td>-1.996626</td>\n",
       "      <td>4</td>\n",
       "    </tr>\n",
       "    <tr>\n",
       "      <th>...</th>\n",
       "      <td>...</td>\n",
       "      <td>...</td>\n",
       "      <td>...</td>\n",
       "      <td>...</td>\n",
       "      <td>...</td>\n",
       "      <td>...</td>\n",
       "      <td>...</td>\n",
       "      <td>...</td>\n",
       "      <td>...</td>\n",
       "      <td>...</td>\n",
       "      <td>...</td>\n",
       "      <td>...</td>\n",
       "    </tr>\n",
       "    <tr>\n",
       "      <th>212</th>\n",
       "      <td>212</td>\n",
       "      <td>PD_0789</td>\n",
       "      <td>34417_BZ11064</td>\n",
       "      <td>Rogers/Jolly/Phillips-Conroy</td>\n",
       "      <td>Papio</td>\n",
       "      <td>kindae</td>\n",
       "      <td>Chunga, Zambia</td>\n",
       "      <td>F</td>\n",
       "      <td>Chunga, Mumbwa District, Central Province, Zambia</td>\n",
       "      <td>26.005210</td>\n",
       "      <td>-15.053557</td>\n",
       "      <td>155</td>\n",
       "    </tr>\n",
       "    <tr>\n",
       "      <th>213</th>\n",
       "      <td>213</td>\n",
       "      <td>PD_0790</td>\n",
       "      <td>34418_BZ11065</td>\n",
       "      <td>Rogers/Jolly/Phillips-Conroy</td>\n",
       "      <td>Papio</td>\n",
       "      <td>kindae</td>\n",
       "      <td>Chunga, Zambia</td>\n",
       "      <td>F</td>\n",
       "      <td>Chunga, Mumbwa District, Central Province, Zambia</td>\n",
       "      <td>26.005210</td>\n",
       "      <td>-15.053557</td>\n",
       "      <td>156</td>\n",
       "    </tr>\n",
       "    <tr>\n",
       "      <th>214</th>\n",
       "      <td>214</td>\n",
       "      <td>PD_0791</td>\n",
       "      <td>34419_BZ11066</td>\n",
       "      <td>Rogers/Jolly/Phillips-Conroy</td>\n",
       "      <td>Papio</td>\n",
       "      <td>kindae</td>\n",
       "      <td>Chunga, Zambia</td>\n",
       "      <td>F</td>\n",
       "      <td>Chunga, Mumbwa District, Central Province, Zambia</td>\n",
       "      <td>26.005210</td>\n",
       "      <td>-15.053557</td>\n",
       "      <td>157</td>\n",
       "    </tr>\n",
       "    <tr>\n",
       "      <th>215</th>\n",
       "      <td>215</td>\n",
       "      <td>PD_0792</td>\n",
       "      <td>34420_BZ11067</td>\n",
       "      <td>Rogers/Jolly/Phillips-Conroy</td>\n",
       "      <td>Papio</td>\n",
       "      <td>kindae</td>\n",
       "      <td>Chunga, Zambia</td>\n",
       "      <td>F</td>\n",
       "      <td>Chunga, Mumbwa District, Central Province, Zambia</td>\n",
       "      <td>26.005210</td>\n",
       "      <td>-15.053557</td>\n",
       "      <td>158</td>\n",
       "    </tr>\n",
       "    <tr>\n",
       "      <th>216</th>\n",
       "      <td>216</td>\n",
       "      <td>PD_0793</td>\n",
       "      <td>34422_BZ11070</td>\n",
       "      <td>Rogers/Jolly/Phillips-Conroy</td>\n",
       "      <td>Papio</td>\n",
       "      <td>kindae</td>\n",
       "      <td>Chunga, Zambia</td>\n",
       "      <td>M</td>\n",
       "      <td>Chunga, Mumbwa District, Central Province, Zambia</td>\n",
       "      <td>26.005210</td>\n",
       "      <td>-15.053557</td>\n",
       "      <td>159</td>\n",
       "    </tr>\n",
       "  </tbody>\n",
       "</table>\n",
       "<p>160 rows × 12 columns</p>\n",
       "</div>"
      ],
      "text/plain": [
       "     Unnamed: 0  PGDP_ID    Provider_ID                      Provider  Genus  \\\n",
       "1             1  PD_0199   09SNF1101115              Knauf/Chuma/Roos  Papio   \n",
       "2             2  PD_0200   11SNF1101115              Knauf/Chuma/Roos  Papio   \n",
       "3             3  PD_0201   19SNM1131115              Knauf/Chuma/Roos  Papio   \n",
       "4             4  PD_0202   20SNF1131115              Knauf/Chuma/Roos  Papio   \n",
       "5             5  PD_0203   21SNF1151115              Knauf/Chuma/Roos  Papio   \n",
       "..          ...      ...            ...                           ...    ...   \n",
       "212         212  PD_0789  34417_BZ11064  Rogers/Jolly/Phillips-Conroy  Papio   \n",
       "213         213  PD_0790  34418_BZ11065  Rogers/Jolly/Phillips-Conroy  Papio   \n",
       "214         214  PD_0791  34419_BZ11066  Rogers/Jolly/Phillips-Conroy  Papio   \n",
       "215         215  PD_0792  34420_BZ11067  Rogers/Jolly/Phillips-Conroy  Papio   \n",
       "216         216  PD_0793  34422_BZ11070  Rogers/Jolly/Phillips-Conroy  Papio   \n",
       "\n",
       "    Species               Origin Sex  \\\n",
       "1    anubis  Serengeti, Tanzania   F   \n",
       "2    anubis  Serengeti, Tanzania   F   \n",
       "3    anubis  Serengeti, Tanzania   M   \n",
       "4    anubis  Serengeti, Tanzania   F   \n",
       "5    anubis  Serengeti, Tanzania   F   \n",
       "..      ...                  ...  ..   \n",
       "212  kindae       Chunga, Zambia   F   \n",
       "213  kindae       Chunga, Zambia   F   \n",
       "214  kindae       Chunga, Zambia   F   \n",
       "215  kindae       Chunga, Zambia   F   \n",
       "216  kindae       Chunga, Zambia   M   \n",
       "\n",
       "                                               address  longitude   latitude  \\\n",
       "1                 Serengeti, Mara, Lake Zone, Tanzania  34.742544  -1.996626   \n",
       "2                 Serengeti, Mara, Lake Zone, Tanzania  34.742544  -1.996626   \n",
       "3                 Serengeti, Mara, Lake Zone, Tanzania  34.742544  -1.996626   \n",
       "4                 Serengeti, Mara, Lake Zone, Tanzania  34.742544  -1.996626   \n",
       "5                 Serengeti, Mara, Lake Zone, Tanzania  34.742544  -1.996626   \n",
       "..                                                 ...        ...        ...   \n",
       "212  Chunga, Mumbwa District, Central Province, Zambia  26.005210 -15.053557   \n",
       "213  Chunga, Mumbwa District, Central Province, Zambia  26.005210 -15.053557   \n",
       "214  Chunga, Mumbwa District, Central Province, Zambia  26.005210 -15.053557   \n",
       "215  Chunga, Mumbwa District, Central Province, Zambia  26.005210 -15.053557   \n",
       "216  Chunga, Mumbwa District, Central Province, Zambia  26.005210 -15.053557   \n",
       "\n",
       "     callset_index  \n",
       "1                0  \n",
       "2                1  \n",
       "3                2  \n",
       "4                3  \n",
       "5                4  \n",
       "..             ...  \n",
       "212            155  \n",
       "213            156  \n",
       "214            157  \n",
       "215            158  \n",
       "216            159  \n",
       "\n",
       "[160 rows x 12 columns]"
      ]
     },
     "execution_count": 4,
     "metadata": {},
     "output_type": "execute_result"
    }
   ],
   "source": [
    "meta_data_samples"
   ]
  },
  {
   "cell_type": "code",
   "execution_count": 12,
   "metadata": {},
   "outputs": [
    {
     "data": {
      "text/plain": [
       "{'calldata/DP': array([[12],\n",
       "        [17],\n",
       "        [18],\n",
       "        ...,\n",
       "        [21],\n",
       "        [21],\n",
       "        [20]], dtype=int16),\n",
       " 'calldata/GT': array([[[1, 1]],\n",
       " \n",
       "        [[1, 1]],\n",
       " \n",
       "        [[1, 1]],\n",
       " \n",
       "        ...,\n",
       " \n",
       "        [[1, 1]],\n",
       " \n",
       "        [[1, 1]],\n",
       " \n",
       "        [[1, 1]]], dtype=int8),\n",
       " 'variants/DP': array([12, 17, 18, ..., 21, 21, 20], dtype=int32)}"
      ]
     },
     "execution_count": 12,
     "metadata": {},
     "output_type": "execute_result"
    }
   ],
   "source": [
    "vcf_dir = \"/faststorage/project/primatediversity/data/variants/\"\n",
    "vcf_suffix = \".variable.filtered.HF.snps.vcf.gz\"\n",
    "metainfo = \"data/New_Papio.xlsx\"\n",
    "ID = ID = \"PD_0201\"\n",
    "callset_vcf_PD_0201 = allel.read_vcf(vcf_dir+ID+vcf_suffix, region=\"chrX\", fields=['calldata/GT', 'calldata/DP',\n",
    "                                                                    'variants/DP'])\n",
    "callset_vcf_PD_0201"
   ]
  },
  {
   "cell_type": "code",
   "execution_count": 13,
   "metadata": {},
   "outputs": [
    {
     "data": {
      "text/plain": [
       "{'calldata/DP': array([[21],\n",
       "        [28],\n",
       "        [29],\n",
       "        ...,\n",
       "        [31],\n",
       "        [27],\n",
       "        [22]], dtype=int16),\n",
       " 'calldata/GT': array([[[1, 1]],\n",
       " \n",
       "        [[1, 1]],\n",
       " \n",
       "        [[1, 1]],\n",
       " \n",
       "        ...,\n",
       " \n",
       "        [[0, 1]],\n",
       " \n",
       "        [[0, 1]],\n",
       " \n",
       "        [[0, 1]]], dtype=int8)}"
      ]
     },
     "execution_count": 13,
     "metadata": {},
     "output_type": "execute_result"
    }
   ],
   "source": [
    "ID = ID = \"PD_0202\"\n",
    "callset_vcf_PD_0202 = allel.read_vcf(vcf_dir+ID+vcf_suffix, region=\"chrX\", fields=['calldata/GT', 'calldata/DP'])\n",
    "callset_vcf_PD_0202"
   ]
  },
  {
   "cell_type": "code",
   "execution_count": 14,
   "metadata": {},
   "outputs": [
    {
     "name": "stdout",
     "output_type": "stream",
     "text": [
      "22329824\n",
      "21852002\n"
     ]
    }
   ],
   "source": [
    "#There is a difference between calldata DP and variants DP.\n",
    "#I am not an expert on mapping, so this seems be due to variation in read quality and mapping criteria.\n",
    "#To be consistent, i am going to use calldata, which is taken from the FORMAT field, and is the ones passing.\n",
    "print(callset_vcf_PD_0201['variants/DP'].sum())\n",
    "print(callset_vcf_PD_0201['calldata/DP'].sum())"
   ]
  },
  {
   "cell_type": "code",
   "execution_count": 41,
   "metadata": {},
   "outputs": [],
   "source": [
    "gt_PD_0201 = allel.GenotypeArray(callset_vcf_PD_0201[\"calldata/GT\"])\n",
    "gt_PD_0202 = allel.GenotypeArray(callset_vcf_PD_0202[\"calldata/GT\"])"
   ]
  },
  {
   "cell_type": "code",
   "execution_count": 42,
   "metadata": {},
   "outputs": [],
   "source": [
    "dp_201 = callset_vcf_PD_0201['calldata/DP']\n",
    "dp_202= callset_vcf_PD_0202['calldata/DP']"
   ]
  },
  {
   "cell_type": "code",
   "execution_count": 43,
   "metadata": {},
   "outputs": [
    {
     "name": "stdout",
     "output_type": "stream",
     "text": [
      "0\n",
      "100000\n",
      "200000\n",
      "300000\n",
      "400000\n",
      "500000\n",
      "600000\n",
      "700000\n",
      "800000\n",
      "900000\n",
      "1000000\n",
      "1100000\n",
      "1200000\n",
      "1300000\n",
      "0\n",
      "100000\n",
      "200000\n",
      "300000\n",
      "400000\n",
      "500000\n",
      "600000\n",
      "700000\n",
      "800000\n",
      "900000\n",
      "1000000\n",
      "1100000\n",
      "1200000\n",
      "1300000\n"
     ]
    }
   ],
   "source": [
    "#Analysis for 201, which is a male\n",
    "het_or_not = gt_PD_0201.is_het()\n",
    "het = []\n",
    "not_het = []\n",
    "for i in range(len(het_or_not)): #Changing it to index positions, the bool was troublesome.\n",
    "    if het_or_not[i] == True:\n",
    "        het.append(i)\n",
    "    else:\n",
    "        not_het.append(i)\n",
    "    if i % 100000 == 0:\n",
    "        print(i)\n",
    "hom = []\n",
    "hom_or_not = gt_PD_0201.is_hom()\n",
    "for i in range(len(hom_or_not)): #Changing it to index positions, the bool was troublesome.\n",
    "    if hom_or_not[i] == True:\n",
    "        hom.append(i)\n",
    "    if i % 100000 == 0:\n",
    "        print(i)\n",
    "\n",
    "het_sites = gt_PD_0201.take(het, axis = 0)\n",
    "hom_sites = gt_PD_0201.take(not_het, axis = 0)"
   ]
  },
  {
   "cell_type": "code",
   "execution_count": 44,
   "metadata": {},
   "outputs": [
    {
     "data": {
      "text/plain": [
       "dp    27.140836\n",
       "dtype: float64"
      ]
     },
     "execution_count": 44,
     "metadata": {},
     "output_type": "execute_result"
    },
    {
     "data": {
      "image/png": "[encoded data removed]",
      "text/plain": [
       "<Figure size 432x288 with 1 Axes>"
      ]
     },
     "metadata": {
      "image/png": {
       "height": 267,
       "width": 402
      }
     },
     "output_type": "display_data"
    }
   ],
   "source": [
    "dp_het = dp_201.take(het, axis = 0)\n",
    "dp_het =  pd.DataFrame(dp_het, columns = [\"dp\"])\n",
    "hist = sns.histplot(dp_het, x = \"dp\")\n",
    "dp_het.mean()"
   ]
  },
  {
   "cell_type": "code",
   "execution_count": 45,
   "metadata": {},
   "outputs": [
    {
     "data": {
      "text/plain": [
       "dp    16.249478\n",
       "dtype: float64"
      ]
     },
     "execution_count": 45,
     "metadata": {},
     "output_type": "execute_result"
    },
    {
     "data": {
      "image/png": "[encoded data removed]",
      "text/plain": [
       "<Figure size 432x288 with 1 Axes>"
      ]
     },
     "metadata": {
      "image/png": {
       "height": 267,
       "width": 416
      }
     },
     "output_type": "display_data"
    }
   ],
   "source": [
    "dp_hom = dp_201.take(hom, axis = 0)\n",
    "dp_hom =  pd.DataFrame(dp_hom, columns = [\"dp\"])\n",
    "hist = sns.histplot(dp_hom, x = \"dp\")\n",
    "dp_hom.mean()"
   ]
  },
  {
   "cell_type": "code",
   "execution_count": 46,
   "metadata": {},
   "outputs": [
    {
     "name": "stdout",
     "output_type": "stream",
     "text": [
      "0\n",
      "100000\n",
      "200000\n",
      "300000\n",
      "400000\n",
      "500000\n",
      "600000\n",
      "700000\n",
      "800000\n",
      "900000\n",
      "1000000\n",
      "1100000\n",
      "1200000\n",
      "1300000\n",
      "0\n",
      "100000\n",
      "200000\n",
      "300000\n",
      "400000\n",
      "500000\n",
      "600000\n",
      "700000\n",
      "800000\n",
      "900000\n",
      "1000000\n",
      "1100000\n",
      "1200000\n",
      "1300000\n"
     ]
    }
   ],
   "source": [
    "#Analysis for 202, which is a female\n",
    "het_or_not = gt_PD_0202.is_het()\n",
    "het = []\n",
    "not_het = []\n",
    "for i in range(len(het_or_not)): #Changing it to index positions, the bool was troublesome.\n",
    "    if het_or_not[i] == True:\n",
    "        het.append(i)\n",
    "    else:\n",
    "        not_het.append(i)\n",
    "    if i % 100000 == 0:\n",
    "        print(i)\n",
    "hom = []\n",
    "hom_or_not = gt_PD_0202.is_hom()\n",
    "for i in range(len(hom_or_not)): #Changing it to index positions, the bool was troublesome.\n",
    "    if hom_or_not[i] == True:\n",
    "        hom.append(i)\n",
    "    if i % 100000 == 0:\n",
    "        print(i)\n",
    "\n",
    "het_sites = gt_PD_0202.take(het, axis = 0)\n",
    "hom_sites = gt_PD_0202.take(not_het, axis = 0)"
   ]
  },
  {
   "cell_type": "code",
   "execution_count": 47,
   "metadata": {},
   "outputs": [
    {
     "data": {
      "text/plain": [
       "dp    32.008339\n",
       "dtype: float64"
      ]
     },
     "execution_count": 47,
     "metadata": {},
     "output_type": "execute_result"
    },
    {
     "data": {
      "image/png": "[encoded data removed]",
      "text/plain": [
       "<Figure size 432x288 with 1 Axes>"
      ]
     },
     "metadata": {
      "image/png": {
       "height": 267,
       "width": 402
      }
     },
     "output_type": "display_data"
    }
   ],
   "source": [
    "dp_het = dp_202.take(het, axis = 0)\n",
    "dp_het =  pd.DataFrame(dp_het, columns = [\"dp\"])\n",
    "hist = sns.histplot(dp_het, x = \"dp\")\n",
    "dp_het.mean()"
   ]
  },
  {
   "cell_type": "code",
   "execution_count": 48,
   "metadata": {},
   "outputs": [
    {
     "data": {
      "text/plain": [
       "dp    18.680925\n",
       "dtype: float64"
      ]
     },
     "execution_count": 48,
     "metadata": {},
     "output_type": "execute_result"
    },
    {
     "data": {
      "image/png": "[encoded data removed]",
      "text/plain": [
       "<Figure size 432x288 with 1 Axes>"
      ]
     },
     "metadata": {
      "image/png": {
       "height": 267,
       "width": 416
      }
     },
     "output_type": "display_data"
    }
   ],
   "source": [
    "dp_hom = dp_202.take(hom, axis = 0)\n",
    "dp_hom =  pd.DataFrame(dp_hom, columns = [\"dp\"])\n",
    "hist = sns.histplot(dp_hom, x = \"dp\")\n",
    "dp_hom.mean()"
   ]
  }
 ],
 "metadata": {
  "kernelspec": {
   "display_name": "Python 3",
   "language": "python",
   "name": "python3"
  },
  "language_info": {
   "codemirror_mode": {
    "name": "ipython",
    "version": 3
   },
   "file_extension": ".py",
   "mimetype": "text/x-python",
   "name": "python",
   "nbconvert_exporter": "python",
   "pygments_lexer": "ipython3",
   "version": "3.7.9"
  }
 },
 "nbformat": 4,
 "nbformat_minor": 4
}
