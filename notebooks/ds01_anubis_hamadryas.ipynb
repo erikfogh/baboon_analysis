{
 "cells": [
  {
   "cell_type": "markdown",
   "metadata": {},
   "source": [
    "First, I will look at the f3 statistic for the two anubis clusters and hamadryas"
   ]
  },
  {
   "cell_type": "code",
   "execution_count": 1,
   "metadata": {},
   "outputs": [],
   "source": [
    "%run ../scripts/notebook_settings.py"
   ]
  },
  {
   "cell_type": "code",
   "execution_count": 2,
   "metadata": {},
   "outputs": [],
   "source": [
    "meta_data_samples = pd.read_table(\"../data/metadata_with_x_missing.txt\", sep=\" \")"
   ]
  },
  {
   "cell_type": "code",
   "execution_count": 3,
   "metadata": {},
   "outputs": [],
   "source": [
    "zarr_dir = \"/faststorage/project/baboondiversity/data/PG_panu3_zarr_01_03_2021/callset.zarr/chrX\"\n",
    "#Opening the zarr data\n",
    "callset = zarr.open_group(zarr_dir, mode=\"r\")\n",
    "gt = allel.GenotypeArray(callset[\"calldata/GT\"])"
   ]
  },
  {
   "cell_type": "markdown",
   "metadata": {},
   "source": [
    "Picking the ID values, and then extracting the allele counts."
   ]
  },
  {
   "cell_type": "code",
   "execution_count": 4,
   "metadata": {},
   "outputs": [],
   "source": [
    "meta_data_samples_f = meta_data_samples.loc[meta_data_samples.Sex==\"F\"]\n",
    "anubis_t = meta_data_samples_f.loc[meta_data_samples_f.C_origin==\"Anubis, Tanzania\"].callset_index.values\n",
    "anubis_e = meta_data_samples_f.loc[meta_data_samples_f.C_origin==\"Anubis, Ethiopia\"].callset_index.values\n",
    "hamadryas = meta_data_samples_f.loc[meta_data_samples_f.C_origin==\"Hamadryas, Ethiopia\"].callset_index.values"
   ]
  },
  {
   "cell_type": "code",
   "execution_count": 5,
   "metadata": {},
   "outputs": [],
   "source": [
    "a_t_gt = gt.take(anubis_t, axis=1)\n",
    "a_e_gt = gt.take(anubis_e, axis=1)\n",
    "h_gt = gt.take(hamadryas, axis=1)"
   ]
  },
  {
   "cell_type": "code",
   "execution_count": 6,
   "metadata": {},
   "outputs": [],
   "source": [
    "a_t_ac = a_t_gt.count_alleles(max_allele=1)\n",
    "a_e_ac = a_e_gt.count_alleles(max_allele=1)\n",
    "h_ac = h_gt.count_alleles(max_allele=1)"
   ]
  },
  {
   "cell_type": "markdown",
   "metadata": {},
   "source": [
    "If there is no data in one species, f3 seems to fail (division by zero), so I remove all sites which has at least one part failing."
   ]
  },
  {
   "cell_type": "code",
   "execution_count": 7,
   "metadata": {},
   "outputs": [],
   "source": [
    "passing_sites = (a_t_ac.max_allele() >= 0) & (a_e_ac.max_allele() >= 0) & (h_ac.max_allele() >= 0)"
   ]
  },
  {
   "cell_type": "code",
   "execution_count": 8,
   "metadata": {},
   "outputs": [
    {
     "data": {
      "text/plain": [
       "(2917429, 2923212)"
      ]
     },
     "execution_count": 8,
     "metadata": {},
     "output_type": "execute_result"
    }
   ],
   "source": [
    "passing_sites.sum(), len(passing_sites)"
   ]
  },
  {
   "cell_type": "code",
   "execution_count": 9,
   "metadata": {},
   "outputs": [],
   "source": [
    "a_tanza = a_t_ac.compress(passing_sites)\n",
    "a_ethio = a_e_ac.compress(passing_sites)\n",
    "hama = h_ac.compress(passing_sites)"
   ]
  },
  {
   "cell_type": "code",
   "execution_count": 10,
   "metadata": {},
   "outputs": [
    {
     "data": {
      "text/html": [
       "<div class=\"allel allel-DisplayAs2D\"><span>&lt;AlleleCountsArray shape=(2917429, 2) dtype=int32&gt;</span><table><thead><tr><th></th><th style=\"text-align: center\">0</th><th style=\"text-align: center\">1</th></tr></thead><tbody><tr><th style=\"text-align: center; background-color: white; border-right: 1px solid black; \">0</th><td style=\"text-align: center\"> 9</td><td style=\"text-align: center\"> 5</td></tr><tr><th style=\"text-align: center; background-color: white; border-right: 1px solid black; \">1</th><td style=\"text-align: center\">13</td><td style=\"text-align: center\"> 1</td></tr><tr><th style=\"text-align: center; background-color: white; border-right: 1px solid black; \">2</th><td style=\"text-align: center\">13</td><td style=\"text-align: center\"> 3</td></tr><tr><th style=\"text-align: center; background-color: white; border-right: 1px solid black; \">...</th><td style=\"text-align: center\" colspan=\"3\">...</td></tr><tr><th style=\"text-align: center; background-color: white; border-right: 1px solid black; \">2917426</th><td style=\"text-align: center\">15</td><td style=\"text-align: center\"> 1</td></tr><tr><th style=\"text-align: center; background-color: white; border-right: 1px solid black; \">2917427</th><td style=\"text-align: center\">16</td><td style=\"text-align: center\"> 0</td></tr><tr><th style=\"text-align: center; background-color: white; border-right: 1px solid black; \">2917428</th><td style=\"text-align: center\"> 2</td><td style=\"text-align: center\">12</td></tr></tbody></table></div>"
      ],
      "text/plain": [
       "<AlleleCountsArray shape=(2917429, 2) dtype=int32>\n",
       " 9  5\n",
       "13  1\n",
       "13  3\n",
       "...\n",
       "15  1\n",
       "16  0\n",
       " 2 12"
      ]
     },
     "execution_count": 10,
     "metadata": {},
     "output_type": "execute_result"
    }
   ],
   "source": [
    "a_ethio"
   ]
  },
  {
   "cell_type": "markdown",
   "metadata": {},
   "source": [
    "Running f3 to understand it"
   ]
  },
  {
   "cell_type": "code",
   "execution_count": 11,
   "metadata": {},
   "outputs": [
    {
     "name": "stderr",
     "output_type": "stream",
     "text": [
      "/home/eriks/miniconda3/envs/baboondiversity/lib/python3.7/site-packages/allel/stats/admixture.py:38: RuntimeWarning: invalid value encountered in true_divide\n",
      "  x = (ac[:, 0] * ac[:, 1]) / (an * (an - 1))\n"
     ]
    },
    {
     "data": {
      "text/plain": [
       "(0.0033220321719259834,\n",
       " 0.001911566173410367,\n",
       " 1.7378588395918553,\n",
       " array([ 0.00983998,  0.00239837, -0.00310992,  0.00653446, -0.00028258,\n",
       "         0.00559179, -0.00419462,  0.01620842,  0.01295266,  0.01023891,\n",
       "        -0.00464308, -0.0038502 , -0.00663959,  0.00314143]),\n",
       " array([0.00275146, 0.00363458, 0.00397864, 0.00331653, 0.0038246 ,\n",
       "        0.00338791, 0.00407011, 0.00265646, 0.00282197, 0.00301654,\n",
       "        0.00411022, 0.00406228, 0.00425344, 0.00356539]))"
      ]
     },
     "execution_count": 11,
     "metadata": {},
     "output_type": "execute_result"
    }
   ],
   "source": [
    "allel.average_patterson_f3(a_tanza, hama, a_ethio, blen=200000)"
   ]
  },
  {
   "cell_type": "code",
   "execution_count": 12,
   "metadata": {},
   "outputs": [
    {
     "data": {
      "text/plain": [
       "0.06256437130714967"
      ]
     },
     "execution_count": 12,
     "metadata": {},
     "output_type": "execute_result"
    }
   ],
   "source": [
    "window_f3 = allel.moving_patterson_f3(a_ethio, a_tanza, hama, size=100000)\n",
    "window_f3.sum()/len(window_f3)"
   ]
  },
  {
   "cell_type": "code",
   "execution_count": 13,
   "metadata": {},
   "outputs": [
    {
     "data": {
      "text/plain": [
       "array([0.02680968, 0.01901463, 0.02685012, 0.05070943, 0.08008943,\n",
       "       0.06736456, 0.11325105, 0.05080349, 0.06946956, 0.05867349,\n",
       "       0.05673762, 0.06799025, 0.1034984 , 0.06253626, 0.06768592,\n",
       "       0.05535065, 0.05154545, 0.04433469, 0.04278694, 0.04034686,\n",
       "       0.06662292, 0.07922641, 0.06320956, 0.08574693, 0.08289608,\n",
       "       0.08554571, 0.06460797, 0.0609955 , 0.06966719])"
      ]
     },
     "execution_count": 13,
     "metadata": {},
     "output_type": "execute_result"
    }
   ],
   "source": [
    "window_f3"
   ]
  },
  {
   "cell_type": "markdown",
   "metadata": {},
   "source": [
    "Even though this seems to have variuos pitfalls, I will calculate f3 for each chrom and then compare them.\n",
    "It is both an option to compare f3 and the Z-score."
   ]
  },
  {
   "cell_type": "code",
   "execution_count": 14,
   "metadata": {},
   "outputs": [],
   "source": [
    "chromosomes = ['chr{}'.format(x) for x in range(1, 21)] + ['chrX']\n",
    "f3_list = []\n",
    "z_list = []\n",
    "size_list = []\n",
    "for chrom in chromosomes:\n",
    "    zarr_dir = f\"/faststorage/project/baboondiversity/data/PG_panu3_zarr_01_03_2021/callset.zarr/{chrom}\"\n",
    "    callset = zarr.open_group(zarr_dir, mode=\"r\")\n",
    "    gt = allel.GenotypeArray(callset[\"calldata/GT\"])\n",
    "    a_t_gt = gt.take(anubis_t, axis=1)\n",
    "    a_e_gt = gt.take(anubis_e, axis=1)\n",
    "    h_gt = gt.take(hamadryas, axis=1)\n",
    "    a_t_ac = a_t_gt.count_alleles(max_allele=1)\n",
    "    a_e_ac = a_e_gt.count_alleles(max_allele=1)\n",
    "    h_ac = h_gt.count_alleles(max_allele=1)\n",
    "    passing_sites = (a_t_ac.max_allele() >= 0) & (a_e_ac.max_allele() >= 0) & (h_ac.max_allele() >= 0)\n",
    "    a_tanza = a_t_ac.compress(passing_sites)\n",
    "    a_ethio = a_e_ac.compress(passing_sites)\n",
    "    hama = h_ac.compress(passing_sites)\n",
    "    f3_stats = allel.average_patterson_f3(a_tanza, hama, a_ethio, blen=200000)\n",
    "    f3_list.append(f3_stats[0])\n",
    "    z_list.append(f3_stats[2])\n",
    "    size_list.append(callset[\"variants/POS\"][-1])\n",
    "d={\"f3\": f3_list, \"Z\": z_list, \"chrsize\": size_list, \"chr\": chromosomes}\n",
    "f3_df = pd.DataFrame(data=d)"
   ]
  },
  {
   "cell_type": "code",
   "execution_count": 15,
   "metadata": {},
   "outputs": [],
   "source": [
    "f3_df[\"chromtype\"] = np.where(f3_df.chr==\"chrX\", \"chrX\", \"autosome\")"
   ]
  },
  {
   "cell_type": "code",
   "execution_count": 16,
   "metadata": {},
   "outputs": [
    {
     "data": {
      "text/plain": [
       "<AxesSubplot:xlabel='Z', ylabel='f3'>"
      ]
     },
     "execution_count": 16,
     "metadata": {},
     "output_type": "execute_result"
    },
    {
     "data": {
      "image/png": "[encoded data removed]",
      "text/plain": [
       "<Figure size 432x288 with 1 Axes>"
      ]
     },
     "metadata": {},
     "output_type": "display_data"
    }
   ],
   "source": [
    "sns.scatterplot(data=f3_df, x=\"Z\", y=\"f3\", hue=\"chromtype\")"
   ]
  },
  {
   "cell_type": "code",
   "execution_count": 17,
   "metadata": {},
   "outputs": [
    {
     "data": {
      "text/plain": [
       "<AxesSubplot:xlabel='f3', ylabel='chrsize'>"
      ]
     },
     "execution_count": 17,
     "metadata": {},
     "output_type": "execute_result"
    },
    {
     "data": {
      "image/png": "[encoded data removed]",
      "text/plain": [
       "<Figure size 432x288 with 1 Axes>"
      ]
     },
     "metadata": {},
     "output_type": "display_data"
    }
   ],
   "source": [
    "sns.scatterplot(data=f3_df, x=\"f3\", y=\"chrsize\", hue=\"chromtype\")"
   ]
  },
  {
   "cell_type": "code",
   "execution_count": 18,
   "metadata": {},
   "outputs": [
    {
     "data": {
      "text/plain": [
       "<AxesSubplot:xlabel='Z', ylabel='Count'>"
      ]
     },
     "execution_count": 18,
     "metadata": {},
     "output_type": "execute_result"
    },
    {
     "data": {
      "image/png": "[encoded data removed]",
      "text/plain": [
       "<Figure size 432x288 with 1 Axes>"
      ]
     },
     "metadata": {},
     "output_type": "display_data"
    }
   ],
   "source": [
    "sns.histplot(data=f3_df, x=\"Z\", hue=\"chromtype\", multiple=\"dodge\")"
   ]
  }
 ],
 "metadata": {
  "kernelspec": {
   "display_name": "Python 3",
   "language": "python",
   "name": "python3"
  },
  "language_info": {
   "codemirror_mode": {
    "name": "ipython",
    "version": 3
   },
   "file_extension": ".py",
   "mimetype": "text/x-python",
   "name": "python",
   "nbconvert_exporter": "python",
   "pygments_lexer": "ipython3",
   "version": "3.7.9"
  }
 },
 "nbformat": 4,
 "nbformat_minor": 4
}
