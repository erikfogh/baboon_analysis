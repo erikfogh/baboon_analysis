{
 "cells": [
  {
   "cell_type": "markdown",
   "metadata": {},
   "source": [
    "In this notebook, I will check the input to chromopainter/finestructure, as well as create some supporting files. "
   ]
  },
  {
   "cell_type": "code",
   "execution_count": 1,
   "metadata": {},
   "outputs": [],
   "source": [
    "%run ../scripts/notebook_settings.py"
   ]
  },
  {
   "cell_type": "code",
   "execution_count": 2,
   "metadata": {},
   "outputs": [],
   "source": [
    "meta_data_samples = pd.read_table(\"../data/metadata_with_x_missing.txt\", sep=\" \")\n",
    "vcf = \"/faststorage/project/baboondiversity/data/haploidified_chrX_males/hap_chrX_males.vcf.gz\""
   ]
  },
  {
   "cell_type": "code",
   "execution_count": 3,
   "metadata": {},
   "outputs": [],
   "source": [
    "callset = allel.read_vcf(vcf)"
   ]
  },
  {
   "cell_type": "code",
   "execution_count": 4,
   "metadata": {},
   "outputs": [],
   "source": [
    "individuals = callset[\"samples\"]"
   ]
  },
  {
   "cell_type": "code",
   "execution_count": 5,
   "metadata": {},
   "outputs": [
    {
     "data": {
      "text/plain": [
       "array(['PD_0215', 'PD_0217', 'PD_0223', 'PD_0227', 'PD_0228', 'PD_0229',\n",
       "       'PD_0230', 'PD_0231', 'PD_0233', 'PD_0234', 'PD_0235', 'PD_0236',\n",
       "       'PD_0268', 'PD_0269', 'PD_0637', 'PD_0658', 'PD_0687', 'PD_0688',\n",
       "       'PD_0689', 'PD_0690', 'PD_0691', 'PD_0746', 'PD_0747', 'PD_0748',\n",
       "       'PD_0752', 'PD_0753', 'PD_0755', 'PD_0756', 'PD_0757', 'PD_0761',\n",
       "       'PD_0762', 'PD_0763', 'PD_0764', 'PD_0766', 'PD_0767', 'PD_0768',\n",
       "       'PD_0771', 'PD_0775', 'Sci_30877', 'PD_0201', 'PD_0202', 'PD_0204',\n",
       "       'PD_0207', 'PD_0218', 'PD_0220', 'PD_0242', 'PD_0266', 'PD_0267',\n",
       "       'PD_0493', 'PD_0494', 'PD_0496', 'PD_0497', 'PD_0498', 'PD_0502',\n",
       "       'PD_0504', 'PD_0505', 'PD_0508', 'PD_0642', 'PD_0650', 'PD_0654',\n",
       "       'PD_0679', 'PD_0681', 'PD_0684', 'PD_0720', 'PD_0722', 'PD_0723',\n",
       "       'PD_0725', 'PD_0727', 'PD_0728', 'PD_0729', 'PD_0731', 'PD_0732',\n",
       "       'PD_0733', 'PD_0734', 'PD_0735', 'PD_0739', 'PD_0740', 'PD_0741',\n",
       "       'PD_0742', 'PD_0743', 'PD_0749', 'PD_0750', 'PD_0751', 'PD_0758',\n",
       "       'PD_0759', 'PD_0776', 'PD_0777', 'PD_0778', 'PD_0779', 'PD_0780',\n",
       "       'PD_0782', 'PD_0783', 'PD_0784', 'PD_0785', 'PD_0786', 'PD_0787',\n",
       "       'PD_0793', 'PD_0794_BAB', 'Sci_97124', 'PD_0696', 'PD_0697',\n",
       "       'PD_0699', 'PD_0702', 'PD_0703', 'PD_0704', 'PD_0705', 'PD_0706',\n",
       "       'PD_0707', 'PD_0709', 'PD_0711', 'PD_0712', 'PD_0713', 'PD_0714',\n",
       "       'PD_0715', 'PD_0716', 'PD_0717', 'PD_0718', 'PD_0719', 'PD_0395',\n",
       "       'PD_0396', 'PD_0397', 'PD_0398', 'PD_0399', 'PD_0400', 'PD_0401',\n",
       "       'PD_0692'], dtype=object)"
      ]
     },
     "execution_count": 5,
     "metadata": {},
     "output_type": "execute_result"
    }
   ],
   "source": [
    "individuals"
   ]
  },
  {
   "cell_type": "code",
   "execution_count": 34,
   "metadata": {},
   "outputs": [
    {
     "data": {
      "text/html": [
       "<div>\n",
       "<style scoped>\n",
       "    .dataframe tbody tr th:only-of-type {\n",
       "        vertical-align: middle;\n",
       "    }\n",
       "\n",
       "    .dataframe tbody tr th {\n",
       "        vertical-align: top;\n",
       "    }\n",
       "\n",
       "    .dataframe thead th {\n",
       "        text-align: right;\n",
       "    }\n",
       "</style>\n",
       "<table border=\"1\" class=\"dataframe\">\n",
       "  <thead>\n",
       "    <tr style=\"text-align: right;\">\n",
       "      <th></th>\n",
       "      <th>PGDP_ID</th>\n",
       "      <th>Provider_ID</th>\n",
       "      <th>Provider</th>\n",
       "      <th>Genus</th>\n",
       "      <th>Species</th>\n",
       "      <th>Origin</th>\n",
       "      <th>Sex</th>\n",
       "      <th>address</th>\n",
       "      <th>longitude</th>\n",
       "      <th>latitude</th>\n",
       "      <th>callset_index</th>\n",
       "      <th>C_origin</th>\n",
       "      <th>x_missing</th>\n",
       "    </tr>\n",
       "  </thead>\n",
       "  <tbody>\n",
       "    <tr>\n",
       "      <th>119</th>\n",
       "      <td>PD_0687</td>\n",
       "      <td>130 / 12MKM1150715</td>\n",
       "      <td>Knauf/Chuma/Roos</td>\n",
       "      <td>Papio</td>\n",
       "      <td>cynocephalus</td>\n",
       "      <td>Mikumi, Tanzania</td>\n",
       "      <td>M</td>\n",
       "      <td>Mikumi, Kilosa, Morogoro, Coastal Zone, Tanzania</td>\n",
       "      <td>36.977032</td>\n",
       "      <td>-7.404852</td>\n",
       "      <td>119</td>\n",
       "      <td>Cynocephalus, Central Tanzania</td>\n",
       "      <td>0.015864</td>\n",
       "    </tr>\n",
       "  </tbody>\n",
       "</table>\n",
       "</div>"
      ],
      "text/plain": [
       "     PGDP_ID         Provider_ID          Provider  Genus       Species  \\\n",
       "119  PD_0687  130 / 12MKM1150715  Knauf/Chuma/Roos  Papio  cynocephalus   \n",
       "\n",
       "               Origin Sex                                           address  \\\n",
       "119  Mikumi, Tanzania   M  Mikumi, Kilosa, Morogoro, Coastal Zone, Tanzania   \n",
       "\n",
       "     longitude  latitude  callset_index                        C_origin  \\\n",
       "119  36.977032 -7.404852            119  Cynocephalus, Central Tanzania   \n",
       "\n",
       "     x_missing  \n",
       "119   0.015864  "
      ]
     },
     "execution_count": 34,
     "metadata": {},
     "output_type": "execute_result"
    }
   ],
   "source": [
    "meta_data_samples.loc[(meta_data_samples.PGDP_ID == \"PD_0687\") & (meta_data_samples.Sex == \"M\")]"
   ]
  },
  {
   "cell_type": "code",
   "execution_count": 13,
   "metadata": {},
   "outputs": [
    {
     "data": {
      "text/html": [
       "<div>\n",
       "<style scoped>\n",
       "    .dataframe tbody tr th:only-of-type {\n",
       "        vertical-align: middle;\n",
       "    }\n",
       "\n",
       "    .dataframe tbody tr th {\n",
       "        vertical-align: top;\n",
       "    }\n",
       "\n",
       "    .dataframe thead th {\n",
       "        text-align: right;\n",
       "    }\n",
       "</style>\n",
       "<table border=\"1\" class=\"dataframe\">\n",
       "  <thead>\n",
       "    <tr style=\"text-align: right;\">\n",
       "      <th></th>\n",
       "      <th>PGDP_ID</th>\n",
       "      <th>Provider_ID</th>\n",
       "      <th>Provider</th>\n",
       "      <th>Genus</th>\n",
       "      <th>Species</th>\n",
       "      <th>Origin</th>\n",
       "      <th>Sex</th>\n",
       "      <th>address</th>\n",
       "      <th>longitude</th>\n",
       "      <th>latitude</th>\n",
       "      <th>callset_index</th>\n",
       "      <th>C_origin</th>\n",
       "      <th>x_missing</th>\n",
       "    </tr>\n",
       "  </thead>\n",
       "  <tbody>\n",
       "    <tr>\n",
       "      <th>26</th>\n",
       "      <td>PD_0215</td>\n",
       "      <td>13RUM1130716</td>\n",
       "      <td>Knauf/Chuma/Roos</td>\n",
       "      <td>Papio</td>\n",
       "      <td>cynocephalus</td>\n",
       "      <td>Ruaha, Tanzania</td>\n",
       "      <td>M</td>\n",
       "      <td>Ruaha, Ulanga, Morogoro, Coastal Zone, Tanzania</td>\n",
       "      <td>36.714814</td>\n",
       "      <td>-8.895386</td>\n",
       "      <td>26</td>\n",
       "      <td>Cynocephalus, Central Tanzania</td>\n",
       "      <td>0.014343</td>\n",
       "    </tr>\n",
       "    <tr>\n",
       "      <th>28</th>\n",
       "      <td>PD_0217</td>\n",
       "      <td>17RUM5140716</td>\n",
       "      <td>Knauf/Chuma/Roos</td>\n",
       "      <td>Papio</td>\n",
       "      <td>cynocephalus</td>\n",
       "      <td>Ruaha, Tanzania</td>\n",
       "      <td>M</td>\n",
       "      <td>Ruaha, Ulanga, Morogoro, Coastal Zone, Tanzania</td>\n",
       "      <td>36.714814</td>\n",
       "      <td>-8.895386</td>\n",
       "      <td>28</td>\n",
       "      <td>Cynocephalus, Central Tanzania</td>\n",
       "      <td>0.015386</td>\n",
       "    </tr>\n",
       "  </tbody>\n",
       "</table>\n",
       "</div>"
      ],
      "text/plain": [
       "    PGDP_ID   Provider_ID          Provider  Genus       Species  \\\n",
       "26  PD_0215  13RUM1130716  Knauf/Chuma/Roos  Papio  cynocephalus   \n",
       "28  PD_0217  17RUM5140716  Knauf/Chuma/Roos  Papio  cynocephalus   \n",
       "\n",
       "             Origin Sex                                          address  \\\n",
       "26  Ruaha, Tanzania   M  Ruaha, Ulanga, Morogoro, Coastal Zone, Tanzania   \n",
       "28  Ruaha, Tanzania   M  Ruaha, Ulanga, Morogoro, Coastal Zone, Tanzania   \n",
       "\n",
       "    longitude  latitude  callset_index                        C_origin  \\\n",
       "26  36.714814 -8.895386             26  Cynocephalus, Central Tanzania   \n",
       "28  36.714814 -8.895386             28  Cynocephalus, Central Tanzania   \n",
       "\n",
       "    x_missing  \n",
       "26   0.014343  \n",
       "28   0.015386  "
      ]
     },
     "execution_count": 13,
     "metadata": {},
     "output_type": "execute_result"
    }
   ],
   "source": [
    "meta_data_samples.loc[(meta_data_samples.Origin == \"Ruaha, Tanzania\") & (meta_data_samples.Sex == \"M\")]"
   ]
  },
  {
   "cell_type": "code",
   "execution_count": 16,
   "metadata": {},
   "outputs": [
    {
     "data": {
      "text/plain": [
       "array(['Cynocephalus, Central Tanzania', 'Anubis, Kenya',\n",
       "       'Kindae, Zambia', 'Gelada, Captive', 'Hamadryas, Ethiopia',\n",
       "       'Anubis, Tanzania', 'Cynocephalus, Western Tanzania',\n",
       "       'Papio, Senegal', 'Ursinus, Zambia', 'Anubis, Ethiopia'],\n",
       "      dtype=object)"
      ]
     },
     "execution_count": 16,
     "metadata": {},
     "output_type": "execute_result"
    }
   ],
   "source": [
    "meta_data_samples.C_origin.unique()"
   ]
  },
  {
   "cell_type": "code",
   "execution_count": 17,
   "metadata": {},
   "outputs": [
    {
     "data": {
      "text/plain": [
       "array(['Mikumi, Tanzania', 'Aberdare, Kenya', 'Chunga, Zambia', 'captive',\n",
       "       'Awash, Ethiopia', 'Serengeti, Tanzania', 'Arusha, Tanzania',\n",
       "       'Ngorongoro, Tanzania', 'Ruaha, Tanzania', 'Gombe, Tanzania',\n",
       "       'Udzungwa, Tanzania', 'Mahale, Tanzania', 'Katavi, Tanzania',\n",
       "       'Selous, Tanzania', 'Lake Manyara, Tanzania',\n",
       "       'Tarangire, Tanzania', 'Niokolo-Koba, Senegal',\n",
       "       'Issa Valley, Tanzania', 'Dendro Park, Zambia', 'Filoha, Ethiopia',\n",
       "       'Gog Woreda, Gambella region, Ethiopia'], dtype=object)"
      ]
     },
     "execution_count": 17,
     "metadata": {},
     "output_type": "execute_result"
    }
   ],
   "source": [
    "meta_data_samples.Origin.unique()"
   ]
  },
  {
   "cell_type": "code",
   "execution_count": 54,
   "metadata": {},
   "outputs": [],
   "source": [
    "pop_list = []\n",
    "inclusion_list = []\n",
    "for i in individuals:\n",
    "    if i[0] == \"S\":\n",
    "        i = i[4:]\n",
    "        inclusion_list.append(0)\n",
    "    else:\n",
    "        if meta_data_samples.loc[meta_data_samples.PGDP_ID == i][\"Species\"].values[0] == \"ursinus (grayfoot)\":\n",
    "            inclusion_list.append(0)\n",
    "        elif meta_data_samples.loc[meta_data_samples.PGDP_ID == i][\"Species\"].values[0] == \"papio\":\n",
    "            inclusion_list.append(0)\n",
    "        else:\n",
    "            inclusion_list.append(1)\n",
    "    t_pop = meta_data_samples.loc[meta_data_samples.PGDP_ID == i][\"Origin\"].values[0]\n",
    "    C_origin = meta_data_samples.loc[meta_data_samples.PGDP_ID == i][\"C_origin\"].values[0]\n",
    "    if t_pop == 'Mikumi, Tanzania' and i != \"PD_0687\":\n",
    "        t_pop = \"Cynocephalus_Mikumi\"\n",
    "    elif t_pop == 'Serengeti, Tanzania' or t_pop == 'Gombe, Tanzania':\n",
    "        t_pop = \"Anubis_Gombe_Serengeti\"\n",
    "    elif C_origin ==  'Cynocephalus, Central Tanzania':\n",
    "        t_pop = \"Cynocephalus_Ruaha_Udzungwa_Selous\"\n",
    "    elif C_origin == 'Anubis, Tanzania':\n",
    "        t_pop = \"Anubis_Tarangire_Ngorongoro_Manyara\"\n",
    "    else:\n",
    "        t_pop = C_origin.replace(\" \", \"_\").replace(\",\", \"\" )\n",
    "    pop_list.append(t_pop)"
   ]
  },
  {
   "cell_type": "code",
   "execution_count": 55,
   "metadata": {},
   "outputs": [
    {
     "data": {
      "text/plain": [
       "126"
      ]
     },
     "execution_count": 55,
     "metadata": {},
     "output_type": "execute_result"
    }
   ],
   "source": [
    "len(pop_list)"
   ]
  },
  {
   "cell_type": "markdown",
   "metadata": {},
   "source": [
    "#Old Version\n",
    "pop_list = []\n",
    "inclusion_list = []\n",
    "for i in individuals:\n",
    "    if i[0] == \"S\":\n",
    "        i = i[4:]\n",
    "        inclusion_list.append(0)    \n",
    "    else:\n",
    "        inclusion_list.append(1)    \n",
    "    if meta_data_samples.loc[meta_data_samples.PGDP_ID == i][\"Species\"].values[0] == \"ursinus (grayfoot)\":\n",
    "        pop_list.append(\"Ursinus\")\n",
    "    else:\n",
    "        t_pop = meta_data_samples.loc[meta_data_samples.PGDP_ID == i][\"C_origin\"].values[0]\n",
    "        t_pop = t_pop.replace(\" \", \"_\").replace(\",\", \"\" )\n",
    "        pop_list.append(t_pop)"
   ]
  },
  {
   "cell_type": "code",
   "execution_count": 56,
   "metadata": {},
   "outputs": [],
   "source": [
    "pop_df = pd.DataFrame()\n",
    "pop_df[\"ID\"] = individuals\n",
    "pop_df[\"population\"] = pop_list\n",
    "pop_df[\"inclusion\"] = inclusion_list"
   ]
  },
  {
   "cell_type": "code",
   "execution_count": 58,
   "metadata": {},
   "outputs": [],
   "source": [
    "pop_df.to_csv(\"/faststorage/project/baboondiversity/data/haploidified_chrX_males/idfile.ids\",\n",
    "              sep=\" \", header=False, index=False)"
   ]
  },
  {
   "cell_type": "code",
   "execution_count": 12,
   "metadata": {},
   "outputs": [],
   "source": [
    "meta_data_samples_Sci = meta_data_samples.copy()\n",
    "for i, row in meta_data_samples_Sci.iterrows():\n",
    "    if row.PGDP_ID[0] != \"P\":\n",
    "        meta_data_samples_Sci.at[i, \"PGDP_ID\"] = \"Sci_\"+str(row.PGDP_ID)"
   ]
  },
  {
   "cell_type": "code",
   "execution_count": 22,
   "metadata": {},
   "outputs": [
    {
     "data": {
      "text/html": [
       "<div>\n",
       "<style scoped>\n",
       "    .dataframe tbody tr th:only-of-type {\n",
       "        vertical-align: middle;\n",
       "    }\n",
       "\n",
       "    .dataframe tbody tr th {\n",
       "        vertical-align: top;\n",
       "    }\n",
       "\n",
       "    .dataframe thead th {\n",
       "        text-align: right;\n",
       "    }\n",
       "</style>\n",
       "<table border=\"1\" class=\"dataframe\">\n",
       "  <thead>\n",
       "    <tr style=\"text-align: right;\">\n",
       "      <th></th>\n",
       "      <th>PGDP_ID</th>\n",
       "      <th>Provider_ID</th>\n",
       "      <th>Provider</th>\n",
       "      <th>Genus</th>\n",
       "      <th>Species</th>\n",
       "      <th>Origin</th>\n",
       "      <th>Sex</th>\n",
       "      <th>address</th>\n",
       "      <th>longitude</th>\n",
       "      <th>latitude</th>\n",
       "      <th>callset_index</th>\n",
       "      <th>C_origin</th>\n",
       "      <th>x_missing</th>\n",
       "    </tr>\n",
       "  </thead>\n",
       "  <tbody>\n",
       "    <tr>\n",
       "      <th>8</th>\n",
       "      <td>Sci_97124</td>\n",
       "      <td>97124</td>\n",
       "      <td>Jolly/Phillips-Conroy</td>\n",
       "      <td>Papio</td>\n",
       "      <td>hamadryas</td>\n",
       "      <td>Awash, Ethiopia</td>\n",
       "      <td>M</td>\n",
       "      <td>አዋሽ / Awash, Zone 3, አፋር ክልል / Afar, ኢትዮጵያ</td>\n",
       "      <td>40.167674</td>\n",
       "      <td>8.992496</td>\n",
       "      <td>8</td>\n",
       "      <td>Hamadryas, Ethiopia</td>\n",
       "      <td>0.021821</td>\n",
       "    </tr>\n",
       "    <tr>\n",
       "      <th>9</th>\n",
       "      <td>PD_0067</td>\n",
       "      <td>1043</td>\n",
       "      <td>Roos</td>\n",
       "      <td>Theropithecus</td>\n",
       "      <td>gelada</td>\n",
       "      <td>captive</td>\n",
       "      <td>M</td>\n",
       "      <td>SDSU Captive Wildlife Research Facility, Brook...</td>\n",
       "      <td>-96.793280</td>\n",
       "      <td>44.334031</td>\n",
       "      <td>9</td>\n",
       "      <td>Gelada, Captive</td>\n",
       "      <td>0.024995</td>\n",
       "    </tr>\n",
       "    <tr>\n",
       "      <th>10</th>\n",
       "      <td>PD_0199</td>\n",
       "      <td>09SNF1101115</td>\n",
       "      <td>Knauf/Chuma/Roos</td>\n",
       "      <td>Papio</td>\n",
       "      <td>anubis</td>\n",
       "      <td>Serengeti, Tanzania</td>\n",
       "      <td>F</td>\n",
       "      <td>Serengeti, Mara, Lake Zone, Tanzania</td>\n",
       "      <td>34.742544</td>\n",
       "      <td>-1.996626</td>\n",
       "      <td>10</td>\n",
       "      <td>Anubis, Tanzania</td>\n",
       "      <td>0.003591</td>\n",
       "    </tr>\n",
       "  </tbody>\n",
       "</table>\n",
       "</div>"
      ],
      "text/plain": [
       "      PGDP_ID   Provider_ID               Provider          Genus    Species  \\\n",
       "8   Sci_97124         97124  Jolly/Phillips-Conroy          Papio  hamadryas   \n",
       "9     PD_0067          1043                   Roos  Theropithecus     gelada   \n",
       "10    PD_0199  09SNF1101115       Knauf/Chuma/Roos          Papio     anubis   \n",
       "\n",
       "                 Origin Sex  \\\n",
       "8       Awash, Ethiopia   M   \n",
       "9               captive   M   \n",
       "10  Serengeti, Tanzania   F   \n",
       "\n",
       "                                              address  longitude   latitude  \\\n",
       "8          አዋሽ / Awash, Zone 3, አፋር ክልል / Afar, ኢትዮጵያ  40.167674   8.992496   \n",
       "9   SDSU Captive Wildlife Research Facility, Brook... -96.793280  44.334031   \n",
       "10               Serengeti, Mara, Lake Zone, Tanzania  34.742544  -1.996626   \n",
       "\n",
       "    callset_index             C_origin  x_missing  \n",
       "8               8  Hamadryas, Ethiopia   0.021821  \n",
       "9               9      Gelada, Captive   0.024995  \n",
       "10             10     Anubis, Tanzania   0.003591  "
      ]
     },
     "execution_count": 22,
     "metadata": {},
     "output_type": "execute_result"
    }
   ],
   "source": [
    "meta_data_samples_Sci.to_csv(\"../data/metadata_Sci_included.txt\",\n",
    "              sep=\" \", header=False, index=False)\n",
    "meta_data_samples_Sci.iloc[8:11]"
   ]
  },
  {
   "cell_type": "markdown",
   "metadata": {},
   "source": [
    "Generating an idfile with all individuals"
   ]
  },
  {
   "cell_type": "code",
   "execution_count": 3,
   "metadata": {},
   "outputs": [],
   "source": [
    "zarr_dir = \"/faststorage/project/baboondiversity/data/PG_panu3_zarr_12_03_2021/callset.zarr/chr20\"\n",
    "#Opening the zarr data\n",
    "callset = zarr.open_group(zarr_dir, mode=\"r\")"
   ]
  },
  {
   "cell_type": "code",
   "execution_count": 4,
   "metadata": {},
   "outputs": [],
   "source": [
    "individuals = callset[\"samples\"][:]"
   ]
  },
  {
   "cell_type": "code",
   "execution_count": 5,
   "metadata": {},
   "outputs": [],
   "source": [
    "meta_data_samples_Sci = meta_data_samples.copy()\n",
    "for i, row in meta_data_samples_Sci.iterrows():\n",
    "    if row.PGDP_ID[0] != \"P\":\n",
    "        meta_data_samples_Sci.at[i, \"PGDP_ID\"] = \"Sci_\"+str(row.PGDP_ID)"
   ]
  },
  {
   "cell_type": "code",
   "execution_count": 11,
   "metadata": {},
   "outputs": [
    {
     "data": {
      "text/plain": [
       "array(['Sci_16066', 'Sci_16098', 'Sci_30877', 'Sci_30977', 'Sci_34449',\n",
       "       'Sci_34474', 'Sci_38168', 'Sci_97074', 'Sci_97124'], dtype=object)"
      ]
     },
     "execution_count": 11,
     "metadata": {},
     "output_type": "execute_result"
    }
   ],
   "source": [
    "meta_data_samples_Sci[:9].PGDP_ID.values"
   ]
  },
  {
   "cell_type": "markdown",
   "metadata": {},
   "source": [
    "Converting ldhat files to genetic maps.\n",
    "Assuming that effective population size for chrX is 25000."
   ]
  },
  {
   "cell_type": "code",
   "execution_count": 3,
   "metadata": {},
   "outputs": [],
   "source": [
    "ldhat_path = \"/faststorage/project/primatediversity/data/PG_baboons_pananu3_23_2_2021_ldhat/maps/chrX.map\"\n",
    "uniform_rec_path = \"/faststorage/project/baboondiversity/data/haploidified_chrX_males/uniform_rec.recombfile\"\n",
    "phase_file = \"/faststorage/project/baboondiversity/data/haploidified_chrX_males/chrX_v2.phase\""
   ]
  },
  {
   "cell_type": "code",
   "execution_count": 4,
   "metadata": {},
   "outputs": [],
   "source": [
    "ldhat_map = pd.read_csv(ldhat_path, sep=\"\\t\")\n",
    "uni_map = pd.read_csv(uniform_rec_path, sep=\" \")"
   ]
  },
  {
   "cell_type": "code",
   "execution_count": 5,
   "metadata": {},
   "outputs": [],
   "source": [
    "f=open(phase_file)\n",
    "lines=f.readlines()\n",
    "pos_line = lines[2]\n",
    "pos_list = [int(x) for x in pos_line.split(\" \")[1:]]\n",
    "f.close()"
   ]
  },
  {
   "cell_type": "code",
   "execution_count": 6,
   "metadata": {},
   "outputs": [
    {
     "data": {
      "text/html": [
       "<div>\n",
       "<style scoped>\n",
       "    .dataframe tbody tr th:only-of-type {\n",
       "        vertical-align: middle;\n",
       "    }\n",
       "\n",
       "    .dataframe tbody tr th {\n",
       "        vertical-align: top;\n",
       "    }\n",
       "\n",
       "    .dataframe thead th {\n",
       "        text-align: right;\n",
       "    }\n",
       "</style>\n",
       "<table border=\"1\" class=\"dataframe\">\n",
       "  <thead>\n",
       "    <tr style=\"text-align: right;\">\n",
       "      <th></th>\n",
       "      <th>POS</th>\n",
       "      <th>Mean_rho</th>\n",
       "      <th>Median_rho</th>\n",
       "      <th>L95</th>\n",
       "      <th>U95</th>\n",
       "    </tr>\n",
       "  </thead>\n",
       "  <tbody>\n",
       "    <tr>\n",
       "      <th>0</th>\n",
       "      <td>157</td>\n",
       "      <td>2.08310</td>\n",
       "      <td>2.07973</td>\n",
       "      <td>1.69130</td>\n",
       "      <td>2.45233</td>\n",
       "    </tr>\n",
       "    <tr>\n",
       "      <th>1</th>\n",
       "      <td>170</td>\n",
       "      <td>2.08542</td>\n",
       "      <td>2.08008</td>\n",
       "      <td>1.70064</td>\n",
       "      <td>2.44515</td>\n",
       "    </tr>\n",
       "    <tr>\n",
       "      <th>2</th>\n",
       "      <td>240</td>\n",
       "      <td>2.09169</td>\n",
       "      <td>2.08121</td>\n",
       "      <td>1.71609</td>\n",
       "      <td>2.44834</td>\n",
       "    </tr>\n",
       "    <tr>\n",
       "      <th>3</th>\n",
       "      <td>279</td>\n",
       "      <td>2.09265</td>\n",
       "      <td>2.08121</td>\n",
       "      <td>1.71767</td>\n",
       "      <td>2.44834</td>\n",
       "    </tr>\n",
       "    <tr>\n",
       "      <th>4</th>\n",
       "      <td>311</td>\n",
       "      <td>2.09261</td>\n",
       "      <td>2.08121</td>\n",
       "      <td>1.73304</td>\n",
       "      <td>2.44515</td>\n",
       "    </tr>\n",
       "    <tr>\n",
       "      <th>...</th>\n",
       "      <td>...</td>\n",
       "      <td>...</td>\n",
       "      <td>...</td>\n",
       "      <td>...</td>\n",
       "      <td>...</td>\n",
       "    </tr>\n",
       "    <tr>\n",
       "      <th>341637</th>\n",
       "      <td>143689426</td>\n",
       "      <td>0.55022</td>\n",
       "      <td>0.62866</td>\n",
       "      <td>0.02716</td>\n",
       "      <td>0.97126</td>\n",
       "    </tr>\n",
       "    <tr>\n",
       "      <th>341638</th>\n",
       "      <td>143691423</td>\n",
       "      <td>0.55087</td>\n",
       "      <td>0.62797</td>\n",
       "      <td>0.02716</td>\n",
       "      <td>0.97731</td>\n",
       "    </tr>\n",
       "    <tr>\n",
       "      <th>341639</th>\n",
       "      <td>143691435</td>\n",
       "      <td>0.55180</td>\n",
       "      <td>0.62794</td>\n",
       "      <td>0.02716</td>\n",
       "      <td>0.97868</td>\n",
       "    </tr>\n",
       "    <tr>\n",
       "      <th>341640</th>\n",
       "      <td>143691467</td>\n",
       "      <td>0.55218</td>\n",
       "      <td>0.62652</td>\n",
       "      <td>0.02716</td>\n",
       "      <td>0.97868</td>\n",
       "    </tr>\n",
       "    <tr>\n",
       "      <th>341641</th>\n",
       "      <td>143691502</td>\n",
       "      <td>NaN</td>\n",
       "      <td>NaN</td>\n",
       "      <td>NaN</td>\n",
       "      <td>NaN</td>\n",
       "    </tr>\n",
       "  </tbody>\n",
       "</table>\n",
       "<p>341642 rows × 5 columns</p>\n",
       "</div>"
      ],
      "text/plain": [
       "              POS  Mean_rho  Median_rho      L95      U95\n",
       "0             157   2.08310     2.07973  1.69130  2.45233\n",
       "1             170   2.08542     2.08008  1.70064  2.44515\n",
       "2             240   2.09169     2.08121  1.71609  2.44834\n",
       "3             279   2.09265     2.08121  1.71767  2.44834\n",
       "4             311   2.09261     2.08121  1.73304  2.44515\n",
       "...           ...       ...         ...      ...      ...\n",
       "341637  143689426   0.55022     0.62866  0.02716  0.97126\n",
       "341638  143691423   0.55087     0.62797  0.02716  0.97731\n",
       "341639  143691435   0.55180     0.62794  0.02716  0.97868\n",
       "341640  143691467   0.55218     0.62652  0.02716  0.97868\n",
       "341641  143691502       NaN         NaN      NaN      NaN\n",
       "\n",
       "[341642 rows x 5 columns]"
      ]
     },
     "execution_count": 6,
     "metadata": {},
     "output_type": "execute_result"
    }
   ],
   "source": [
    "ldhat_map"
   ]
  },
  {
   "cell_type": "code",
   "execution_count": 7,
   "metadata": {},
   "outputs": [
    {
     "data": {
      "text/html": [
       "<div>\n",
       "<style scoped>\n",
       "    .dataframe tbody tr th:only-of-type {\n",
       "        vertical-align: middle;\n",
       "    }\n",
       "\n",
       "    .dataframe tbody tr th {\n",
       "        vertical-align: top;\n",
       "    }\n",
       "\n",
       "    .dataframe thead th {\n",
       "        text-align: right;\n",
       "    }\n",
       "</style>\n",
       "<table border=\"1\" class=\"dataframe\">\n",
       "  <thead>\n",
       "    <tr style=\"text-align: right;\">\n",
       "      <th></th>\n",
       "      <th>start.pos</th>\n",
       "      <th>recom.rate.perbp</th>\n",
       "    </tr>\n",
       "  </thead>\n",
       "  <tbody>\n",
       "    <tr>\n",
       "      <th>0</th>\n",
       "      <td>37</td>\n",
       "      <td>1.000000e-07</td>\n",
       "    </tr>\n",
       "    <tr>\n",
       "      <th>1</th>\n",
       "      <td>57</td>\n",
       "      <td>1.000000e-07</td>\n",
       "    </tr>\n",
       "    <tr>\n",
       "      <th>2</th>\n",
       "      <td>157</td>\n",
       "      <td>1.000000e-07</td>\n",
       "    </tr>\n",
       "    <tr>\n",
       "      <th>3</th>\n",
       "      <td>170</td>\n",
       "      <td>1.000000e-07</td>\n",
       "    </tr>\n",
       "    <tr>\n",
       "      <th>4</th>\n",
       "      <td>216</td>\n",
       "      <td>1.000000e-07</td>\n",
       "    </tr>\n",
       "    <tr>\n",
       "      <th>...</th>\n",
       "      <td>...</td>\n",
       "      <td>...</td>\n",
       "    </tr>\n",
       "    <tr>\n",
       "      <th>2923207</th>\n",
       "      <td>143691509</td>\n",
       "      <td>1.000000e-07</td>\n",
       "    </tr>\n",
       "    <tr>\n",
       "      <th>2923208</th>\n",
       "      <td>143691526</td>\n",
       "      <td>1.000000e-07</td>\n",
       "    </tr>\n",
       "    <tr>\n",
       "      <th>2923209</th>\n",
       "      <td>143691548</td>\n",
       "      <td>1.000000e-07</td>\n",
       "    </tr>\n",
       "    <tr>\n",
       "      <th>2923210</th>\n",
       "      <td>143691549</td>\n",
       "      <td>1.000000e-07</td>\n",
       "    </tr>\n",
       "    <tr>\n",
       "      <th>2923211</th>\n",
       "      <td>143691566</td>\n",
       "      <td>0.000000e+00</td>\n",
       "    </tr>\n",
       "  </tbody>\n",
       "</table>\n",
       "<p>2923212 rows × 2 columns</p>\n",
       "</div>"
      ],
      "text/plain": [
       "         start.pos  recom.rate.perbp\n",
       "0               37      1.000000e-07\n",
       "1               57      1.000000e-07\n",
       "2              157      1.000000e-07\n",
       "3              170      1.000000e-07\n",
       "4              216      1.000000e-07\n",
       "...            ...               ...\n",
       "2923207  143691509      1.000000e-07\n",
       "2923208  143691526      1.000000e-07\n",
       "2923209  143691548      1.000000e-07\n",
       "2923210  143691549      1.000000e-07\n",
       "2923211  143691566      0.000000e+00\n",
       "\n",
       "[2923212 rows x 2 columns]"
      ]
     },
     "execution_count": 7,
     "metadata": {},
     "output_type": "execute_result"
    }
   ],
   "source": [
    "uni_map"
   ]
  },
  {
   "cell_type": "markdown",
   "metadata": {},
   "source": [
    "Math: Ldhat estimates it as 4*Ne*r/kb, and I want it in M/b.\n",
    "With an additional twist that ldhat does not have all positions present.\n",
    "I set Ne as 10000, but it could be many other sizes.\n",
    "This conversion is done by dividing by 4*Ne, and then also dividing by 1000 to go to bases."
   ]
  },
  {
   "cell_type": "code",
   "execution_count": 8,
   "metadata": {},
   "outputs": [],
   "source": [
    "ldhat_map[\"convert_r\"] = ldhat_map.Mean_rho/(4*10000*1000)"
   ]
  },
  {
   "cell_type": "markdown",
   "metadata": {},
   "source": [
    "Many positions are not present in the recombination map made by Juraj, so these spaces have to be filled."
   ]
  },
  {
   "cell_type": "code",
   "execution_count": 9,
   "metadata": {},
   "outputs": [],
   "source": [
    "ld_hat_i = 0\n",
    "ldhat_pos = ldhat_map[\"POS\"][0]\n",
    "ld_hat_prev_pos = 0\n",
    "last_ldhat = int(ldhat_map[\"POS\"][-2:-1])\n",
    "last_uni = int(uni_map[\"start.pos\"][-1:])\n",
    "recom_rate = []\n",
    "next_pos = 0\n",
    "for i, row in uni_map.iterrows():\n",
    "    current_pos = row[\"start.pos\"]\n",
    "    if current_pos >= ldhat_pos and current_pos < last_ldhat:\n",
    "        ld_hat_i += 1\n",
    "        ld_hat_prev_pos = ldhat_pos\n",
    "        ldhat_pos = ldhat_map[\"POS\"][ld_hat_i]\n",
    "    if last_uni == next_pos:\n",
    "        recom_rate.append(0)\n",
    "    else:\n",
    "        next_pos = uni_map[\"start.pos\"][i+1]\n",
    "        recom_rate.append(ldhat_map[\"convert_r\"][ld_hat_i]*(next_pos-current_pos)/(ldhat_pos-ld_hat_prev_pos))"
   ]
  },
  {
   "cell_type": "code",
   "execution_count": 10,
   "metadata": {},
   "outputs": [],
   "source": [
    "uni_map[\"recom_variable\"] = recom_rate"
   ]
  },
  {
   "cell_type": "code",
   "execution_count": 11,
   "metadata": {},
   "outputs": [
    {
     "data": {
      "text/plain": [
       "5.261494756899169e-10"
      ]
     },
     "execution_count": 11,
     "metadata": {},
     "output_type": "execute_result"
    }
   ],
   "source": [
    "uni_map[\"recom_variable\"].mean()"
   ]
  },
  {
   "cell_type": "code",
   "execution_count": 12,
   "metadata": {},
   "outputs": [],
   "source": [
    "uni_map.to_csv(\"/faststorage/project/baboondiversity/data/haploidified_chrX_males/approx_rec_all_pos.recombfile\",\n",
    "              sep=\" \", index=False, columns=[\"start.pos\", \"recom_variable\"])"
   ]
  },
  {
   "cell_type": "markdown",
   "metadata": {},
   "source": [
    "Now I have the opposite problem - when removing sites with missing state, the recombination file is too big.\n",
    "As always, it cannot just be subset, as you then begin missing some recombination."
   ]
  },
  {
   "cell_type": "code",
   "execution_count": 13,
   "metadata": {},
   "outputs": [
    {
     "data": {
      "text/plain": [
       "(2923212, 2440624, 0.8349117340788147)"
      ]
     },
     "execution_count": 13,
     "metadata": {},
     "output_type": "execute_result"
    }
   ],
   "source": [
    "len(uni_map), len(pos_list), len(pos_list)/len(uni_map)"
   ]
  },
  {
   "cell_type": "code",
   "execution_count": 14,
   "metadata": {},
   "outputs": [],
   "source": [
    "sum_recomb = []\n",
    "current_i = 0\n",
    "current_recomb = 0\n",
    "last_pos = pos_list[-1]\n",
    "for i, row in uni_map.loc[uni_map[\"start.pos\"] >= pos_list[0]].iterrows():\n",
    "    if pos_list[current_i+1] == last_pos:\n",
    "        sum_recomb.append(current_recomb)\n",
    "        sum_recomb.append(0)\n",
    "        break\n",
    "    if row[\"start.pos\"] >= pos_list[current_i+1]:\n",
    "        sum_recomb.append(current_recomb)\n",
    "        current_recomb = 0\n",
    "        current_i += 1\n",
    "    current_recomb += row.recom_variable"
   ]
  },
  {
   "cell_type": "code",
   "execution_count": 15,
   "metadata": {},
   "outputs": [
    {
     "data": {
      "text/plain": [
       "([7.47032142857143e-09,\n",
       "  1.1508994999999998e-07,\n",
       "  1.0649761363636362e-08,\n",
       "  1.124141477272727e-08,\n",
       "  5.6740924760497355e-08,\n",
       "  4.1947264573991034e-09],\n",
       " [216, 226, 311, 329, 348, 513, 531],\n",
       "     start.pos  recom.rate.perbp  recom_variable\n",
       " 4         216      1.000000e-07    7.470321e-09\n",
       " 5         226      1.000000e-07    1.045845e-08\n",
       " 6         240      1.000000e-07    5.231625e-08\n",
       " 7         279      1.000000e-07    1.634852e-09\n",
       " 8         280      1.000000e-07    1.961822e-08\n",
       " 9         292      1.000000e-07    3.106218e-08\n",
       " 10        311      1.000000e-07    5.916534e-10\n",
       " 11        312      1.000000e-07    1.005811e-08\n",
       " 12        329      1.000000e-07    1.124141e-08\n",
       " 13        348      1.000000e-07    3.017432e-08\n",
       " 14        399      1.000000e-07    4.194726e-09\n",
       " 15        417      1.000000e-07    9.321614e-09\n",
       " 16        457      1.000000e-07    1.305026e-08\n",
       " 17        513      1.000000e-07    4.194726e-09\n",
       " 18        531      1.000000e-07    9.321614e-10)"
      ]
     },
     "execution_count": 15,
     "metadata": {},
     "output_type": "execute_result"
    }
   ],
   "source": [
    "sum_recomb[:6], pos_list[:7], uni_map.loc[uni_map[\"start.pos\"] >= pos_list[0]][:15]"
   ]
  },
  {
   "cell_type": "code",
   "execution_count": 16,
   "metadata": {},
   "outputs": [
    {
     "data": {
      "text/plain": [
       "(2440624, 2440624)"
      ]
     },
     "execution_count": 16,
     "metadata": {},
     "output_type": "execute_result"
    }
   ],
   "source": [
    "len(pos_list), len(sum_recomb)"
   ]
  },
  {
   "cell_type": "code",
   "execution_count": 19,
   "metadata": {},
   "outputs": [
    {
     "data": {
      "text/plain": [
       "0.001537803003156008"
      ]
     },
     "execution_count": 19,
     "metadata": {},
     "output_type": "execute_result"
    }
   ],
   "source": [
    "sum(sum_recomb)"
   ]
  },
  {
   "cell_type": "code",
   "execution_count": 21,
   "metadata": {},
   "outputs": [],
   "source": [
    "sum_map = pd.DataFrame(data={\"start.pos\": pos_list, \"recom_variable\": sum_recomb})\n",
    "sum_map[\"recom_variable\"] = np.clip(sum_map[\"recom_variable\"], a_max=None, a_min=1.000000e-14)"
   ]
  },
  {
   "cell_type": "code",
   "execution_count": 23,
   "metadata": {},
   "outputs": [
    {
     "data": {
      "text/plain": [
       "0.0015378038297943347"
      ]
     },
     "execution_count": 23,
     "metadata": {},
     "output_type": "execute_result"
    }
   ],
   "source": [
    "sum(sum_map[\"recom_variable\"])"
   ]
  },
  {
   "cell_type": "code",
   "execution_count": 24,
   "metadata": {},
   "outputs": [
    {
     "data": {
      "text/plain": [
       "0.0015380464611304033"
      ]
     },
     "execution_count": 24,
     "metadata": {},
     "output_type": "execute_result"
    }
   ],
   "source": [
    "sum(uni_map[\"recom_variable\"])"
   ]
  },
  {
   "cell_type": "code",
   "execution_count": 17,
   "metadata": {},
   "outputs": [],
   "source": [
    "sum_map.to_csv(\"/faststorage/project/baboondiversity/data/haploidified_chrX_males/approx_rec_subset_pos.recombfile\",\n",
    "              sep=\" \", index=False, columns=[\"start.pos\", \"recom_variable\"])"
   ]
  },
  {
   "cell_type": "markdown",
   "metadata": {},
   "source": [
    "A couple of checks of the uni_map and sum_map"
   ]
  },
  {
   "cell_type": "code",
   "execution_count": null,
   "metadata": {},
   "outputs": [],
   "source": [
    "sns.histplot(data=sum_map, x=\"recom_variable\")"
   ]
  },
  {
   "cell_type": "code",
   "execution_count": null,
   "metadata": {},
   "outputs": [],
   "source": [
    "sns.histplot(data=uni_map, x=\"recom_variable\")"
   ]
  }
 ],
 "metadata": {
  "kernelspec": {
   "display_name": "Python 3",
   "language": "python",
   "name": "python3"
  },
  "language_info": {
   "codemirror_mode": {
    "name": "ipython",
    "version": 3
   },
   "file_extension": ".py",
   "mimetype": "text/x-python",
   "name": "python",
   "nbconvert_exporter": "python",
   "pygments_lexer": "ipython3",
   "version": "3.7.9"
  }
 },
 "nbformat": 4,
 "nbformat_minor": 4
}
