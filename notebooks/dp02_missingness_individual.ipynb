{
 "cells": [
  {
   "cell_type": "markdown",
   "metadata": {},
   "source": [
    "In this notebook, I will investigate the degree of missingness. First on the X, and then the autosomes."
   ]
  },
  {
   "cell_type": "code",
   "execution_count": 1,
   "metadata": {},
   "outputs": [],
   "source": [
    "%run ../scripts/notebook_settings.py"
   ]
  },
  {
   "cell_type": "code",
   "execution_count": 2,
   "metadata": {},
   "outputs": [],
   "source": [
    "meta_data_samples = pd.read_excel(\"../data/New_Papio.xlsx\")\n",
    "vcf_dir = \"/faststorage/project/primatediversity/data/PG_baboons_pananu3_23_2_2021/\"\n",
    "vcf_names = \"output.filtered.snps.{}.removed.AB.pass.vep.vcf.gz\"\n",
    "vcf_path = vcf_dir+vcf_names\n",
    "meta_data_samples = meta_data_samples.loc[meta_data_samples.Origin != \"captive\"]\n",
    "vcf_callset = allel.read_vcf(vcf_path.format(\"chrX\"), samples=meta_data_samples[\"PGDP_ID\"].tolist())"
   ]
  },
  {
   "cell_type": "markdown",
   "metadata": {},
   "source": [
    "Code burrowed from Kasper the make the callset_indexes."
   ]
  },
  {
   "cell_type": "code",
   "execution_count": 3,
   "metadata": {},
   "outputs": [
    {
     "data": {
      "text/html": [
       "<div>\n",
       "<style scoped>\n",
       "    .dataframe tbody tr th:only-of-type {\n",
       "        vertical-align: middle;\n",
       "    }\n",
       "\n",
       "    .dataframe tbody tr th {\n",
       "        vertical-align: top;\n",
       "    }\n",
       "\n",
       "    .dataframe thead th {\n",
       "        text-align: right;\n",
       "    }\n",
       "</style>\n",
       "<table border=\"1\" class=\"dataframe\">\n",
       "  <thead>\n",
       "    <tr style=\"text-align: right;\">\n",
       "      <th></th>\n",
       "      <th>PGDP_ID</th>\n",
       "      <th>Provider_ID</th>\n",
       "      <th>Provider</th>\n",
       "      <th>Genus</th>\n",
       "      <th>Species</th>\n",
       "      <th>Origin</th>\n",
       "      <th>Sex</th>\n",
       "      <th>callset_index</th>\n",
       "    </tr>\n",
       "  </thead>\n",
       "  <tbody>\n",
       "    <tr>\n",
       "      <th>1</th>\n",
       "      <td>PD_0199</td>\n",
       "      <td>09SNF1101115</td>\n",
       "      <td>Knauf/Chuma/Roos</td>\n",
       "      <td>Papio</td>\n",
       "      <td>anubis</td>\n",
       "      <td>Serengeti, Tanzania</td>\n",
       "      <td>F</td>\n",
       "      <td>0</td>\n",
       "    </tr>\n",
       "    <tr>\n",
       "      <th>2</th>\n",
       "      <td>PD_0200</td>\n",
       "      <td>11SNF1101115</td>\n",
       "      <td>Knauf/Chuma/Roos</td>\n",
       "      <td>Papio</td>\n",
       "      <td>anubis</td>\n",
       "      <td>Serengeti, Tanzania</td>\n",
       "      <td>F</td>\n",
       "      <td>1</td>\n",
       "    </tr>\n",
       "    <tr>\n",
       "      <th>3</th>\n",
       "      <td>PD_0201</td>\n",
       "      <td>19SNM1131115</td>\n",
       "      <td>Knauf/Chuma/Roos</td>\n",
       "      <td>Papio</td>\n",
       "      <td>anubis</td>\n",
       "      <td>Serengeti, Tanzania</td>\n",
       "      <td>M</td>\n",
       "      <td>2</td>\n",
       "    </tr>\n",
       "    <tr>\n",
       "      <th>4</th>\n",
       "      <td>PD_0202</td>\n",
       "      <td>20SNF1131115</td>\n",
       "      <td>Knauf/Chuma/Roos</td>\n",
       "      <td>Papio</td>\n",
       "      <td>anubis</td>\n",
       "      <td>Serengeti, Tanzania</td>\n",
       "      <td>F</td>\n",
       "      <td>3</td>\n",
       "    </tr>\n",
       "    <tr>\n",
       "      <th>5</th>\n",
       "      <td>PD_0203</td>\n",
       "      <td>21SNF1151115</td>\n",
       "      <td>Knauf/Chuma/Roos</td>\n",
       "      <td>Papio</td>\n",
       "      <td>anubis</td>\n",
       "      <td>Serengeti, Tanzania</td>\n",
       "      <td>F</td>\n",
       "      <td>4</td>\n",
       "    </tr>\n",
       "    <tr>\n",
       "      <th>...</th>\n",
       "      <td>...</td>\n",
       "      <td>...</td>\n",
       "      <td>...</td>\n",
       "      <td>...</td>\n",
       "      <td>...</td>\n",
       "      <td>...</td>\n",
       "      <td>...</td>\n",
       "      <td>...</td>\n",
       "    </tr>\n",
       "    <tr>\n",
       "      <th>213</th>\n",
       "      <td>PD_0790</td>\n",
       "      <td>34418_BZ11065</td>\n",
       "      <td>Rogers/Jolly/Phillips-Conroy</td>\n",
       "      <td>Papio</td>\n",
       "      <td>kindae</td>\n",
       "      <td>Chunga, Zambia</td>\n",
       "      <td>F</td>\n",
       "      <td>212</td>\n",
       "    </tr>\n",
       "    <tr>\n",
       "      <th>214</th>\n",
       "      <td>PD_0791</td>\n",
       "      <td>34419_BZ11066</td>\n",
       "      <td>Rogers/Jolly/Phillips-Conroy</td>\n",
       "      <td>Papio</td>\n",
       "      <td>kindae</td>\n",
       "      <td>Chunga, Zambia</td>\n",
       "      <td>F</td>\n",
       "      <td>213</td>\n",
       "    </tr>\n",
       "    <tr>\n",
       "      <th>215</th>\n",
       "      <td>PD_0792</td>\n",
       "      <td>34420_BZ11067</td>\n",
       "      <td>Rogers/Jolly/Phillips-Conroy</td>\n",
       "      <td>Papio</td>\n",
       "      <td>kindae</td>\n",
       "      <td>Chunga, Zambia</td>\n",
       "      <td>F</td>\n",
       "      <td>214</td>\n",
       "    </tr>\n",
       "    <tr>\n",
       "      <th>216</th>\n",
       "      <td>PD_0793</td>\n",
       "      <td>34422_BZ11070</td>\n",
       "      <td>Rogers/Jolly/Phillips-Conroy</td>\n",
       "      <td>Papio</td>\n",
       "      <td>kindae</td>\n",
       "      <td>Chunga, Zambia</td>\n",
       "      <td>M</td>\n",
       "      <td>215</td>\n",
       "    </tr>\n",
       "    <tr>\n",
       "      <th>217</th>\n",
       "      <td>PD_0794_BAB</td>\n",
       "      <td>34423_BZ11071</td>\n",
       "      <td>Rogers/Jolly/Phillips-Conroy</td>\n",
       "      <td>Papio</td>\n",
       "      <td>kindae</td>\n",
       "      <td>Chunga, Zambia</td>\n",
       "      <td>M</td>\n",
       "      <td>216</td>\n",
       "    </tr>\n",
       "  </tbody>\n",
       "</table>\n",
       "<p>217 rows × 8 columns</p>\n",
       "</div>"
      ],
      "text/plain": [
       "         PGDP_ID    Provider_ID                      Provider  Genus Species  \\\n",
       "1        PD_0199   09SNF1101115              Knauf/Chuma/Roos  Papio  anubis   \n",
       "2        PD_0200   11SNF1101115              Knauf/Chuma/Roos  Papio  anubis   \n",
       "3        PD_0201   19SNM1131115              Knauf/Chuma/Roos  Papio  anubis   \n",
       "4        PD_0202   20SNF1131115              Knauf/Chuma/Roos  Papio  anubis   \n",
       "5        PD_0203   21SNF1151115              Knauf/Chuma/Roos  Papio  anubis   \n",
       "..           ...            ...                           ...    ...     ...   \n",
       "213      PD_0790  34418_BZ11065  Rogers/Jolly/Phillips-Conroy  Papio  kindae   \n",
       "214      PD_0791  34419_BZ11066  Rogers/Jolly/Phillips-Conroy  Papio  kindae   \n",
       "215      PD_0792  34420_BZ11067  Rogers/Jolly/Phillips-Conroy  Papio  kindae   \n",
       "216      PD_0793  34422_BZ11070  Rogers/Jolly/Phillips-Conroy  Papio  kindae   \n",
       "217  PD_0794_BAB  34423_BZ11071  Rogers/Jolly/Phillips-Conroy  Papio  kindae   \n",
       "\n",
       "                  Origin Sex  callset_index  \n",
       "1    Serengeti, Tanzania   F              0  \n",
       "2    Serengeti, Tanzania   F              1  \n",
       "3    Serengeti, Tanzania   M              2  \n",
       "4    Serengeti, Tanzania   F              3  \n",
       "5    Serengeti, Tanzania   F              4  \n",
       "..                   ...  ..            ...  \n",
       "213       Chunga, Zambia   F            212  \n",
       "214       Chunga, Zambia   F            213  \n",
       "215       Chunga, Zambia   F            214  \n",
       "216       Chunga, Zambia   M            215  \n",
       "217       Chunga, Zambia   M            216  \n",
       "\n",
       "[217 rows x 8 columns]"
      ]
     },
     "execution_count": 3,
     "metadata": {},
     "output_type": "execute_result"
    }
   ],
   "source": [
    "samples_list = list(vcf_callset['samples'][:])\n",
    "samples_callset_index = [samples_list.index(s) for s in meta_data_samples.PGDP_ID]\n",
    "meta_data_samples['callset_index'] = samples_callset_index\n",
    "meta_data_samples"
   ]
  },
  {
   "cell_type": "markdown",
   "metadata": {},
   "source": [
    "Creating the gt dataframe"
   ]
  },
  {
   "cell_type": "code",
   "execution_count": 4,
   "metadata": {},
   "outputs": [],
   "source": [
    "gt = allel.GenotypeArray(vcf_callset[\"calldata/GT\"])"
   ]
  },
  {
   "cell_type": "markdown",
   "metadata": {},
   "source": [
    "Testing missingness per individual"
   ]
  },
  {
   "cell_type": "code",
   "execution_count": 5,
   "metadata": {},
   "outputs": [],
   "source": [
    "missingness = gt.is_missing()"
   ]
  },
  {
   "cell_type": "code",
   "execution_count": 6,
   "metadata": {},
   "outputs": [],
   "source": [
    "m_per_i = sum(missingness)\n",
    "total_sites = len(gt)"
   ]
  },
  {
   "cell_type": "code",
   "execution_count": 7,
   "metadata": {},
   "outputs": [],
   "source": [
    "d = {\"m\": m_per_i/total_sites, \"ID\": meta_data_samples[\"PGDP_ID\"], \"sex\": meta_data_samples[\"Sex\"]}\n",
    "m_df = pd.DataFrame(data=d)"
   ]
  },
  {
   "cell_type": "code",
   "execution_count": 8,
   "metadata": {},
   "outputs": [
    {
     "data": {
      "text/plain": [
       "<AxesSubplot:xlabel='m', ylabel='Count'>"
      ]
     },
     "execution_count": 8,
     "metadata": {},
     "output_type": "execute_result"
    },
    {
     "data": {
      "image/png": "[encoded data removed]",
      "text/plain": [
       "<Figure size 432x288 with 1 Axes>"
      ]
     },
     "metadata": {},
     "output_type": "display_data"
    }
   ],
   "source": [
    "sns.histplot(m_df, x=\"m\", hue=\"sex\", multiple=\"dodge\", bins=20)"
   ]
  },
  {
   "cell_type": "code",
   "execution_count": 9,
   "metadata": {},
   "outputs": [
    {
     "data": {
      "text/html": [
       "<div>\n",
       "<style scoped>\n",
       "    .dataframe tbody tr th:only-of-type {\n",
       "        vertical-align: middle;\n",
       "    }\n",
       "\n",
       "    .dataframe tbody tr th {\n",
       "        vertical-align: top;\n",
       "    }\n",
       "\n",
       "    .dataframe thead th {\n",
       "        text-align: right;\n",
       "    }\n",
       "</style>\n",
       "<table border=\"1\" class=\"dataframe\">\n",
       "  <thead>\n",
       "    <tr style=\"text-align: right;\">\n",
       "      <th></th>\n",
       "      <th>m</th>\n",
       "      <th>ID</th>\n",
       "      <th>sex</th>\n",
       "    </tr>\n",
       "  </thead>\n",
       "  <tbody>\n",
       "    <tr>\n",
       "      <th>113</th>\n",
       "      <td>0.016084</td>\n",
       "      <td>PD_0690</td>\n",
       "      <td>F</td>\n",
       "    </tr>\n",
       "  </tbody>\n",
       "</table>\n",
       "</div>"
      ],
      "text/plain": [
       "            m       ID sex\n",
       "113  0.016084  PD_0690   F"
      ]
     },
     "execution_count": 9,
     "metadata": {},
     "output_type": "execute_result"
    }
   ],
   "source": [
    "m_df.loc[(m_df.m > 0.015) & (m_df.sex == \"F\")]"
   ]
  },
  {
   "cell_type": "markdown",
   "metadata": {},
   "source": [
    "The two outliers (m=0.025 and f=0.015) are quite problematic.\n",
    "m=0.025 is the captive individual. f=0.015 is an individual Kasper previously removed from the zarr."
   ]
  },
  {
   "cell_type": "markdown",
   "metadata": {},
   "source": [
    "Checking the missingness on an autosome."
   ]
  },
  {
   "cell_type": "code",
   "execution_count": 10,
   "metadata": {},
   "outputs": [],
   "source": [
    "vcf_callset = allel.read_vcf(vcf_path.format(\"chr7\"), samples=meta_data_samples[\"PGDP_ID\"].tolist())\n",
    "gt = allel.GenotypeArray(vcf_callset[\"calldata/GT\"])"
   ]
  },
  {
   "cell_type": "code",
   "execution_count": 11,
   "metadata": {},
   "outputs": [
    {
     "data": {
      "text/plain": [
       "<AxesSubplot:xlabel='m', ylabel='Count'>"
      ]
     },
     "execution_count": 11,
     "metadata": {},
     "output_type": "execute_result"
    },
    {
     "data": {
      "image/png": "[encoded data removed]",
      "text/plain": [
       "<Figure size 432x288 with 1 Axes>"
      ]
     },
     "metadata": {},
     "output_type": "display_data"
    }
   ],
   "source": [
    "missingness = gt.is_missing()\n",
    "m_per_i = sum(missingness)\n",
    "total_sites = len(gt)\n",
    "d = {\"m\": m_per_i/total_sites, \"ID\": meta_data_samples[\"PGDP_ID\"], \"sex\": meta_data_samples[\"Sex\"]}\n",
    "m_chr7_df = pd.DataFrame(data=d)\n",
    "sns.histplot(m_chr7_df, x=\"m\", hue=\"sex\", multiple=\"dodge\", bins=20)"
   ]
  },
  {
   "cell_type": "code",
   "execution_count": 12,
   "metadata": {},
   "outputs": [
    {
     "data": {
      "text/html": [
       "<div>\n",
       "<style scoped>\n",
       "    .dataframe tbody tr th:only-of-type {\n",
       "        vertical-align: middle;\n",
       "    }\n",
       "\n",
       "    .dataframe tbody tr th {\n",
       "        vertical-align: top;\n",
       "    }\n",
       "\n",
       "    .dataframe thead th {\n",
       "        text-align: right;\n",
       "    }\n",
       "</style>\n",
       "<table border=\"1\" class=\"dataframe\">\n",
       "  <thead>\n",
       "    <tr style=\"text-align: right;\">\n",
       "      <th></th>\n",
       "      <th>m</th>\n",
       "      <th>ID</th>\n",
       "      <th>sex</th>\n",
       "    </tr>\n",
       "  </thead>\n",
       "  <tbody>\n",
       "    <tr>\n",
       "      <th>208</th>\n",
       "      <td>0.007416</td>\n",
       "      <td>PD_0785</td>\n",
       "      <td>M</td>\n",
       "    </tr>\n",
       "  </tbody>\n",
       "</table>\n",
       "</div>"
      ],
      "text/plain": [
       "            m       ID sex\n",
       "208  0.007416  PD_0785   M"
      ]
     },
     "execution_count": 12,
     "metadata": {},
     "output_type": "execute_result"
    }
   ],
   "source": [
    "m_chr7_df.loc[(m_chr7_df.m > 0.007) & (m_chr7_df.sex == \"M\")]"
   ]
  }
 ],
 "metadata": {
  "kernelspec": {
   "display_name": "Python 3",
   "language": "python",
   "name": "python3"
  },
  "language_info": {
   "codemirror_mode": {
    "name": "ipython",
    "version": 3
   },
   "file_extension": ".py",
   "mimetype": "text/x-python",
   "name": "python",
   "nbconvert_exporter": "python",
   "pygments_lexer": "ipython3",
   "version": "3.7.9"
  }
 },
 "nbformat": 4,
 "nbformat_minor": 4
}
