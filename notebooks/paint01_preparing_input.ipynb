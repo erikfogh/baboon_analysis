{
 "cells": [
  {
   "cell_type": "markdown",
   "metadata": {},
   "source": [
    "In this notebook, I will check the input to chromopainter/finestructure, as well as create some supporting files. "
   ]
  },
  {
   "cell_type": "code",
   "execution_count": 1,
   "metadata": {},
   "outputs": [],
   "source": [
    "%run ../scripts/notebook_settings.py"
   ]
  },
  {
   "cell_type": "code",
   "execution_count": 2,
   "metadata": {},
   "outputs": [],
   "source": [
    "meta_data_samples = pd.read_table(\"../data/metadata_with_x_missing.txt\", sep=\" \")\n",
    "vcf = \"/faststorage/project/baboondiversity/data/haploidified_chrX_males/hap_chrX_males.vcf.gz\""
   ]
  },
  {
   "cell_type": "code",
   "execution_count": 4,
   "metadata": {},
   "outputs": [
    {
     "data": {
      "text/html": [
       "<div>\n",
       "<style scoped>\n",
       "    .dataframe tbody tr th:only-of-type {\n",
       "        vertical-align: middle;\n",
       "    }\n",
       "\n",
       "    .dataframe tbody tr th {\n",
       "        vertical-align: top;\n",
       "    }\n",
       "\n",
       "    .dataframe thead th {\n",
       "        text-align: right;\n",
       "    }\n",
       "</style>\n",
       "<table border=\"1\" class=\"dataframe\">\n",
       "  <thead>\n",
       "    <tr style=\"text-align: right;\">\n",
       "      <th></th>\n",
       "      <th>PGDP_ID</th>\n",
       "      <th>Provider_ID</th>\n",
       "      <th>Provider</th>\n",
       "      <th>Genus</th>\n",
       "      <th>Species</th>\n",
       "      <th>Origin</th>\n",
       "      <th>Sex</th>\n",
       "      <th>address</th>\n",
       "      <th>longitude</th>\n",
       "      <th>latitude</th>\n",
       "      <th>callset_index</th>\n",
       "      <th>C_origin</th>\n",
       "      <th>x_missing</th>\n",
       "    </tr>\n",
       "  </thead>\n",
       "  <tbody>\n",
       "    <tr>\n",
       "      <th>26</th>\n",
       "      <td>PD_0215</td>\n",
       "      <td>13RUM1130716</td>\n",
       "      <td>Knauf/Chuma/Roos</td>\n",
       "      <td>Papio</td>\n",
       "      <td>cynocephalus</td>\n",
       "      <td>Ruaha, Tanzania</td>\n",
       "      <td>M</td>\n",
       "      <td>Ruaha, Ulanga, Morogoro, Coastal Zone, Tanzania</td>\n",
       "      <td>36.714814</td>\n",
       "      <td>-8.895386</td>\n",
       "      <td>26</td>\n",
       "      <td>Cynocephalus, Central Tanzania</td>\n",
       "      <td>0.014343</td>\n",
       "    </tr>\n",
       "  </tbody>\n",
       "</table>\n",
       "</div>"
      ],
      "text/plain": [
       "    PGDP_ID   Provider_ID          Provider  Genus       Species  \\\n",
       "26  PD_0215  13RUM1130716  Knauf/Chuma/Roos  Papio  cynocephalus   \n",
       "\n",
       "             Origin Sex                                          address  \\\n",
       "26  Ruaha, Tanzania   M  Ruaha, Ulanga, Morogoro, Coastal Zone, Tanzania   \n",
       "\n",
       "    longitude  latitude  callset_index                        C_origin  \\\n",
       "26  36.714814 -8.895386             26  Cynocephalus, Central Tanzania   \n",
       "\n",
       "    x_missing  \n",
       "26   0.014343  "
      ]
     },
     "execution_count": 4,
     "metadata": {},
     "output_type": "execute_result"
    }
   ],
   "source": [
    "meta_data_samples.loc[meta_data_samples.PGDP_ID == \"PD_0215\"]"
   ]
  },
  {
   "cell_type": "code",
   "execution_count": 3,
   "metadata": {},
   "outputs": [],
   "source": [
    "callset = allel.read_vcf(vcf)"
   ]
  },
  {
   "cell_type": "code",
   "execution_count": 4,
   "metadata": {},
   "outputs": [],
   "source": [
    "individuals = callset[\"samples\"]"
   ]
  },
  {
   "cell_type": "code",
   "execution_count": 5,
   "metadata": {},
   "outputs": [
    {
     "data": {
      "text/plain": [
       "array(['PD_0215', 'PD_0217', 'PD_0223', 'PD_0227', 'PD_0228', 'PD_0229',\n",
       "       'PD_0230', 'PD_0231', 'PD_0233', 'PD_0234', 'PD_0235', 'PD_0236',\n",
       "       'PD_0268', 'PD_0269', 'PD_0637', 'PD_0658', 'PD_0687', 'PD_0688',\n",
       "       'PD_0689', 'PD_0690', 'PD_0691', 'PD_0746', 'PD_0747', 'PD_0748',\n",
       "       'PD_0752', 'PD_0753', 'PD_0755', 'PD_0756', 'PD_0757', 'PD_0761',\n",
       "       'PD_0762', 'PD_0763', 'PD_0764', 'PD_0766', 'PD_0767', 'PD_0768',\n",
       "       'PD_0771', 'PD_0775', 'Sci_30877', 'PD_0201', 'PD_0202', 'PD_0204',\n",
       "       'PD_0207', 'PD_0218', 'PD_0220', 'PD_0242', 'PD_0266', 'PD_0267',\n",
       "       'PD_0493', 'PD_0494', 'PD_0496', 'PD_0497', 'PD_0498', 'PD_0502',\n",
       "       'PD_0504', 'PD_0505', 'PD_0508', 'PD_0642', 'PD_0650', 'PD_0654',\n",
       "       'PD_0679', 'PD_0681', 'PD_0684', 'PD_0720', 'PD_0722', 'PD_0723',\n",
       "       'PD_0725', 'PD_0727', 'PD_0728', 'PD_0729', 'PD_0731', 'PD_0732',\n",
       "       'PD_0733', 'PD_0734', 'PD_0735', 'PD_0739', 'PD_0740', 'PD_0741',\n",
       "       'PD_0742', 'PD_0743', 'PD_0749', 'PD_0750', 'PD_0751', 'PD_0758',\n",
       "       'PD_0759', 'PD_0776', 'PD_0777', 'PD_0778', 'PD_0779', 'PD_0780',\n",
       "       'PD_0782', 'PD_0783', 'PD_0784', 'PD_0785', 'PD_0786', 'PD_0787',\n",
       "       'PD_0793', 'PD_0794_BAB', 'Sci_97124', 'PD_0696', 'PD_0697',\n",
       "       'PD_0699', 'PD_0702', 'PD_0703', 'PD_0704', 'PD_0705', 'PD_0706',\n",
       "       'PD_0707', 'PD_0709', 'PD_0711', 'PD_0712', 'PD_0713', 'PD_0714',\n",
       "       'PD_0715', 'PD_0716', 'PD_0717', 'PD_0718', 'PD_0719', 'PD_0395',\n",
       "       'PD_0396', 'PD_0397', 'PD_0398', 'PD_0399', 'PD_0400', 'PD_0401',\n",
       "       'PD_0692'], dtype=object)"
      ]
     },
     "execution_count": 5,
     "metadata": {},
     "output_type": "execute_result"
    }
   ],
   "source": [
    "individuals"
   ]
  },
  {
   "cell_type": "code",
   "execution_count": 42,
   "metadata": {},
   "outputs": [
    {
     "data": {
      "text/html": [
       "<div>\n",
       "<style scoped>\n",
       "    .dataframe tbody tr th:only-of-type {\n",
       "        vertical-align: middle;\n",
       "    }\n",
       "\n",
       "    .dataframe tbody tr th {\n",
       "        vertical-align: top;\n",
       "    }\n",
       "\n",
       "    .dataframe thead th {\n",
       "        text-align: right;\n",
       "    }\n",
       "</style>\n",
       "<table border=\"1\" class=\"dataframe\">\n",
       "  <thead>\n",
       "    <tr style=\"text-align: right;\">\n",
       "      <th></th>\n",
       "      <th>PGDP_ID</th>\n",
       "      <th>Provider_ID</th>\n",
       "      <th>Provider</th>\n",
       "      <th>Genus</th>\n",
       "      <th>Species</th>\n",
       "      <th>Origin</th>\n",
       "      <th>Sex</th>\n",
       "      <th>address</th>\n",
       "      <th>longitude</th>\n",
       "      <th>latitude</th>\n",
       "      <th>callset_index</th>\n",
       "      <th>C_origin</th>\n",
       "      <th>x_missing</th>\n",
       "    </tr>\n",
       "  </thead>\n",
       "  <tbody>\n",
       "    <tr>\n",
       "      <th>119</th>\n",
       "      <td>PD_0687</td>\n",
       "      <td>130 / 12MKM1150715</td>\n",
       "      <td>Knauf/Chuma/Roos</td>\n",
       "      <td>Papio</td>\n",
       "      <td>cynocephalus</td>\n",
       "      <td>Mikumi, Tanzania</td>\n",
       "      <td>M</td>\n",
       "      <td>Mikumi, Kilosa, Morogoro, Coastal Zone, Tanzania</td>\n",
       "      <td>36.977032</td>\n",
       "      <td>-7.404852</td>\n",
       "      <td>119</td>\n",
       "      <td>Cynocephalus, Central Tanzania</td>\n",
       "      <td>0.015864</td>\n",
       "    </tr>\n",
       "  </tbody>\n",
       "</table>\n",
       "</div>"
      ],
      "text/plain": [
       "     PGDP_ID         Provider_ID          Provider  Genus       Species  \\\n",
       "119  PD_0687  130 / 12MKM1150715  Knauf/Chuma/Roos  Papio  cynocephalus   \n",
       "\n",
       "               Origin Sex                                           address  \\\n",
       "119  Mikumi, Tanzania   M  Mikumi, Kilosa, Morogoro, Coastal Zone, Tanzania   \n",
       "\n",
       "     longitude  latitude  callset_index                        C_origin  \\\n",
       "119  36.977032 -7.404852            119  Cynocephalus, Central Tanzania   \n",
       "\n",
       "     x_missing  \n",
       "119   0.015864  "
      ]
     },
     "execution_count": 42,
     "metadata": {},
     "output_type": "execute_result"
    }
   ],
   "source": [
    "meta_data_samples.loc[(meta_data_samples.PGDP_ID == \"PD_0687\") & (meta_data_samples.Sex == \"M\")]"
   ]
  },
  {
   "cell_type": "code",
   "execution_count": 43,
   "metadata": {},
   "outputs": [
    {
     "data": {
      "text/html": [
       "<div>\n",
       "<style scoped>\n",
       "    .dataframe tbody tr th:only-of-type {\n",
       "        vertical-align: middle;\n",
       "    }\n",
       "\n",
       "    .dataframe tbody tr th {\n",
       "        vertical-align: top;\n",
       "    }\n",
       "\n",
       "    .dataframe thead th {\n",
       "        text-align: right;\n",
       "    }\n",
       "</style>\n",
       "<table border=\"1\" class=\"dataframe\">\n",
       "  <thead>\n",
       "    <tr style=\"text-align: right;\">\n",
       "      <th></th>\n",
       "      <th>PGDP_ID</th>\n",
       "      <th>Provider_ID</th>\n",
       "      <th>Provider</th>\n",
       "      <th>Genus</th>\n",
       "      <th>Species</th>\n",
       "      <th>Origin</th>\n",
       "      <th>Sex</th>\n",
       "      <th>address</th>\n",
       "      <th>longitude</th>\n",
       "      <th>latitude</th>\n",
       "      <th>callset_index</th>\n",
       "      <th>C_origin</th>\n",
       "      <th>x_missing</th>\n",
       "    </tr>\n",
       "  </thead>\n",
       "  <tbody>\n",
       "    <tr>\n",
       "      <th>26</th>\n",
       "      <td>PD_0215</td>\n",
       "      <td>13RUM1130716</td>\n",
       "      <td>Knauf/Chuma/Roos</td>\n",
       "      <td>Papio</td>\n",
       "      <td>cynocephalus</td>\n",
       "      <td>Ruaha, Tanzania</td>\n",
       "      <td>M</td>\n",
       "      <td>Ruaha, Ulanga, Morogoro, Coastal Zone, Tanzania</td>\n",
       "      <td>36.714814</td>\n",
       "      <td>-8.895386</td>\n",
       "      <td>26</td>\n",
       "      <td>Cynocephalus, Central Tanzania</td>\n",
       "      <td>0.014343</td>\n",
       "    </tr>\n",
       "    <tr>\n",
       "      <th>28</th>\n",
       "      <td>PD_0217</td>\n",
       "      <td>17RUM5140716</td>\n",
       "      <td>Knauf/Chuma/Roos</td>\n",
       "      <td>Papio</td>\n",
       "      <td>cynocephalus</td>\n",
       "      <td>Ruaha, Tanzania</td>\n",
       "      <td>M</td>\n",
       "      <td>Ruaha, Ulanga, Morogoro, Coastal Zone, Tanzania</td>\n",
       "      <td>36.714814</td>\n",
       "      <td>-8.895386</td>\n",
       "      <td>28</td>\n",
       "      <td>Cynocephalus, Central Tanzania</td>\n",
       "      <td>0.015386</td>\n",
       "    </tr>\n",
       "  </tbody>\n",
       "</table>\n",
       "</div>"
      ],
      "text/plain": [
       "    PGDP_ID   Provider_ID          Provider  Genus       Species  \\\n",
       "26  PD_0215  13RUM1130716  Knauf/Chuma/Roos  Papio  cynocephalus   \n",
       "28  PD_0217  17RUM5140716  Knauf/Chuma/Roos  Papio  cynocephalus   \n",
       "\n",
       "             Origin Sex                                          address  \\\n",
       "26  Ruaha, Tanzania   M  Ruaha, Ulanga, Morogoro, Coastal Zone, Tanzania   \n",
       "28  Ruaha, Tanzania   M  Ruaha, Ulanga, Morogoro, Coastal Zone, Tanzania   \n",
       "\n",
       "    longitude  latitude  callset_index                        C_origin  \\\n",
       "26  36.714814 -8.895386             26  Cynocephalus, Central Tanzania   \n",
       "28  36.714814 -8.895386             28  Cynocephalus, Central Tanzania   \n",
       "\n",
       "    x_missing  \n",
       "26   0.014343  \n",
       "28   0.015386  "
      ]
     },
     "execution_count": 43,
     "metadata": {},
     "output_type": "execute_result"
    }
   ],
   "source": [
    "meta_data_samples.loc[(meta_data_samples.Origin == \"Ruaha, Tanzania\") & (meta_data_samples.Sex == \"M\")]"
   ]
  },
  {
   "cell_type": "code",
   "execution_count": 44,
   "metadata": {},
   "outputs": [
    {
     "data": {
      "text/plain": [
       "array(['Cynocephalus, Central Tanzania', 'Anubis, Kenya',\n",
       "       'Kindae, Zambia', 'Gelada, Captive', 'Hamadryas, Ethiopia',\n",
       "       'Anubis, Tanzania', 'Cynocephalus, Western Tanzania',\n",
       "       'Papio, Senegal', 'Ursinus, Zambia', 'Anubis, Ethiopia'],\n",
       "      dtype=object)"
      ]
     },
     "execution_count": 44,
     "metadata": {},
     "output_type": "execute_result"
    }
   ],
   "source": [
    "meta_data_samples.C_origin.unique()"
   ]
  },
  {
   "cell_type": "code",
   "execution_count": 45,
   "metadata": {},
   "outputs": [
    {
     "data": {
      "text/plain": [
       "array(['Mikumi, Tanzania', 'Aberdare, Kenya', 'Chunga, Zambia', 'captive',\n",
       "       'Awash, Ethiopia', 'Serengeti, Tanzania', 'Arusha, Tanzania',\n",
       "       'Ngorongoro, Tanzania', 'Ruaha, Tanzania', 'Gombe, Tanzania',\n",
       "       'Udzungwa, Tanzania', 'Mahale, Tanzania', 'Katavi, Tanzania',\n",
       "       'Selous, Tanzania', 'Lake Manyara, Tanzania',\n",
       "       'Tarangire, Tanzania', 'Niokolo-Koba, Senegal',\n",
       "       'Issa Valley, Tanzania', 'Dendro Park, Zambia', 'Filoha, Ethiopia',\n",
       "       'Gog Woreda, Gambella region, Ethiopia'], dtype=object)"
      ]
     },
     "execution_count": 45,
     "metadata": {},
     "output_type": "execute_result"
    }
   ],
   "source": [
    "meta_data_samples.Origin.unique()"
   ]
  },
  {
   "cell_type": "code",
   "execution_count": 6,
   "metadata": {},
   "outputs": [],
   "source": [
    "pop_list = []\n",
    "inclusion_list = []\n",
    "for i in individuals:\n",
    "    if i[0] == \"S\":\n",
    "        i = i[4:]\n",
    "        inclusion_list.append(0)\n",
    "    else:\n",
    "        if meta_data_samples.loc[meta_data_samples.PGDP_ID == i][\"Species\"].values[0] == \"ursinus (grayfoot)\":\n",
    "            inclusion_list.append(1)\n",
    "        elif i == \"PD_0687\":\n",
    "            inclusion_list.append(1)\n",
    "        elif meta_data_samples.loc[meta_data_samples.PGDP_ID == i][\"Species\"].values[0] == \"papio\":\n",
    "            inclusion_list.append(1)\n",
    "        else:\n",
    "            inclusion_list.append(1)\n",
    "    t_pop = meta_data_samples.loc[meta_data_samples.PGDP_ID == i][\"Origin\"].values[0]\n",
    "    C_origin = meta_data_samples.loc[meta_data_samples.PGDP_ID == i][\"C_origin\"].values[0]\n",
    "    if t_pop == 'Mikumi, Tanzania':\n",
    "        t_pop = \"Cynocephalus_Mikumi\"\n",
    "    elif t_pop == 'Serengeti, Tanzania' or t_pop == 'Gombe, Tanzania':\n",
    "        t_pop = \"Anubis_Gombe_Serengeti\"\n",
    "    elif C_origin ==  'Cynocephalus, Central Tanzania':\n",
    "        t_pop = \"Cynocephalus_Ruaha_Udzungwa_Selous\"\n",
    "    elif C_origin == 'Anubis, Tanzania':\n",
    "        t_pop = \"Anubis_Tarangire_Ngorongoro_Manyara\"\n",
    "    else:\n",
    "        t_pop = C_origin.replace(\" \", \"_\").replace(\",\", \"\" )\n",
    "    pop_list.append(t_pop)"
   ]
  },
  {
   "cell_type": "code",
   "execution_count": 82,
   "metadata": {},
   "outputs": [
    {
     "data": {
      "text/plain": [
       "126"
      ]
     },
     "execution_count": 82,
     "metadata": {},
     "output_type": "execute_result"
    }
   ],
   "source": [
    "len(pop_list)"
   ]
  },
  {
   "cell_type": "markdown",
   "metadata": {},
   "source": [
    "#Old Version\n",
    "pop_list = []\n",
    "inclusion_list = []\n",
    "for i in individuals:\n",
    "    if i[0] == \"S\":\n",
    "        i = i[4:]\n",
    "        inclusion_list.append(0)    \n",
    "    else:\n",
    "        inclusion_list.append(1)    \n",
    "    if meta_data_samples.loc[meta_data_samples.PGDP_ID == i][\"Species\"].values[0] == \"ursinus (grayfoot)\":\n",
    "        pop_list.append(\"Ursinus\")\n",
    "    else:\n",
    "        t_pop = meta_data_samples.loc[meta_data_samples.PGDP_ID == i][\"C_origin\"].values[0]\n",
    "        t_pop = t_pop.replace(\" \", \"_\").replace(\",\", \"\" )\n",
    "        pop_list.append(t_pop)"
   ]
  },
  {
   "cell_type": "code",
   "execution_count": 7,
   "metadata": {},
   "outputs": [],
   "source": [
    "pop_df = pd.DataFrame()\n",
    "pop_df[\"ID\"] = individuals\n",
    "pop_df[\"population\"] = pop_list\n",
    "pop_df[\"inclusion\"] = inclusion_list"
   ]
  },
  {
   "cell_type": "code",
   "execution_count": 84,
   "metadata": {},
   "outputs": [
    {
     "name": "stdout",
     "output_type": "stream",
     "text": [
      "12\n",
      "14\n",
      "17\n",
      "19\n",
      "21\n",
      "23\n",
      "25\n",
      "27\n",
      "29\n",
      "31\n",
      "33\n",
      "35\n",
      "37\n"
     ]
    }
   ],
   "source": [
    "#Subsampling Mikumi\n",
    "pop_df.loc[pop_df[\"population\"] == \"Cynocephalus_Mikumi\"]\n",
    "c = 0\n",
    "for i, row in pop_df.loc[pop_df[\"population\"] == \"Cynocephalus_Mikumi\"].iterrows():\n",
    "    if c%2 == 0:\n",
    "        pop_df.iloc[i, 2] = 0\n",
    "        print(i)\n",
    "    c += 1"
   ]
  },
  {
   "cell_type": "code",
   "execution_count": 10,
   "metadata": {},
   "outputs": [
    {
     "data": {
      "text/html": [
       "<div>\n",
       "<style scoped>\n",
       "    .dataframe tbody tr th:only-of-type {\n",
       "        vertical-align: middle;\n",
       "    }\n",
       "\n",
       "    .dataframe tbody tr th {\n",
       "        vertical-align: top;\n",
       "    }\n",
       "\n",
       "    .dataframe thead th {\n",
       "        text-align: right;\n",
       "    }\n",
       "</style>\n",
       "<table border=\"1\" class=\"dataframe\">\n",
       "  <thead>\n",
       "    <tr style=\"text-align: right;\">\n",
       "      <th></th>\n",
       "      <th>ID</th>\n",
       "      <th>population</th>\n",
       "      <th>inclusion</th>\n",
       "    </tr>\n",
       "  </thead>\n",
       "  <tbody>\n",
       "    <tr>\n",
       "      <th>0</th>\n",
       "      <td>PD_0215</td>\n",
       "      <td>Cynocephalus_Ruaha_Udzungwa_Selous</td>\n",
       "      <td>1</td>\n",
       "    </tr>\n",
       "    <tr>\n",
       "      <th>1</th>\n",
       "      <td>PD_0217</td>\n",
       "      <td>Cynocephalus_Ruaha_Udzungwa_Selous</td>\n",
       "      <td>1</td>\n",
       "    </tr>\n",
       "    <tr>\n",
       "      <th>2</th>\n",
       "      <td>PD_0223</td>\n",
       "      <td>Cynocephalus_Ruaha_Udzungwa_Selous</td>\n",
       "      <td>1</td>\n",
       "    </tr>\n",
       "    <tr>\n",
       "      <th>3</th>\n",
       "      <td>PD_0227</td>\n",
       "      <td>Cynocephalus_Ruaha_Udzungwa_Selous</td>\n",
       "      <td>1</td>\n",
       "    </tr>\n",
       "    <tr>\n",
       "      <th>4</th>\n",
       "      <td>PD_0228</td>\n",
       "      <td>Cynocephalus_Western_Tanzania</td>\n",
       "      <td>1</td>\n",
       "    </tr>\n",
       "    <tr>\n",
       "      <th>...</th>\n",
       "      <td>...</td>\n",
       "      <td>...</td>\n",
       "      <td>...</td>\n",
       "    </tr>\n",
       "    <tr>\n",
       "      <th>121</th>\n",
       "      <td>PD_0398</td>\n",
       "      <td>Papio_Senegal</td>\n",
       "      <td>1</td>\n",
       "    </tr>\n",
       "    <tr>\n",
       "      <th>122</th>\n",
       "      <td>PD_0399</td>\n",
       "      <td>Papio_Senegal</td>\n",
       "      <td>1</td>\n",
       "    </tr>\n",
       "    <tr>\n",
       "      <th>123</th>\n",
       "      <td>PD_0400</td>\n",
       "      <td>Papio_Senegal</td>\n",
       "      <td>1</td>\n",
       "    </tr>\n",
       "    <tr>\n",
       "      <th>124</th>\n",
       "      <td>PD_0401</td>\n",
       "      <td>Papio_Senegal</td>\n",
       "      <td>1</td>\n",
       "    </tr>\n",
       "    <tr>\n",
       "      <th>125</th>\n",
       "      <td>PD_0692</td>\n",
       "      <td>Ursinus_Zambia</td>\n",
       "      <td>1</td>\n",
       "    </tr>\n",
       "  </tbody>\n",
       "</table>\n",
       "<p>124 rows × 3 columns</p>\n",
       "</div>"
      ],
      "text/plain": [
       "          ID                          population  inclusion\n",
       "0    PD_0215  Cynocephalus_Ruaha_Udzungwa_Selous          1\n",
       "1    PD_0217  Cynocephalus_Ruaha_Udzungwa_Selous          1\n",
       "2    PD_0223  Cynocephalus_Ruaha_Udzungwa_Selous          1\n",
       "3    PD_0227  Cynocephalus_Ruaha_Udzungwa_Selous          1\n",
       "4    PD_0228       Cynocephalus_Western_Tanzania          1\n",
       "..       ...                                 ...        ...\n",
       "121  PD_0398                       Papio_Senegal          1\n",
       "122  PD_0399                       Papio_Senegal          1\n",
       "123  PD_0400                       Papio_Senegal          1\n",
       "124  PD_0401                       Papio_Senegal          1\n",
       "125  PD_0692                      Ursinus_Zambia          1\n",
       "\n",
       "[124 rows x 3 columns]"
      ]
     },
     "execution_count": 10,
     "metadata": {},
     "output_type": "execute_result"
    }
   ],
   "source": [
    "pop_df.loc[pop_df[\"inclusion\"] == 1]"
   ]
  },
  {
   "cell_type": "code",
   "execution_count": 11,
   "metadata": {},
   "outputs": [],
   "source": [
    "pop_df.to_csv(\"/faststorage/project/baboondiversity/data/haploidified_chrX_males/idfile_all_PD.ids\",\n",
    "              sep=\" \", header=False, index=False)"
   ]
  },
  {
   "cell_type": "code",
   "execution_count": 25,
   "metadata": {},
   "outputs": [],
   "source": [
    "meta_data_samples_Sci = meta_data_samples.copy()\n",
    "for i, row in meta_data_samples_Sci.iterrows():\n",
    "    if row.PGDP_ID[0] != \"P\":\n",
    "        meta_data_samples_Sci.at[i, \"PGDP_ID\"] = \"Sci_\"+str(row.PGDP_ID)"
   ]
  },
  {
   "cell_type": "code",
   "execution_count": 26,
   "metadata": {},
   "outputs": [
    {
     "data": {
      "text/html": [
       "<div>\n",
       "<style scoped>\n",
       "    .dataframe tbody tr th:only-of-type {\n",
       "        vertical-align: middle;\n",
       "    }\n",
       "\n",
       "    .dataframe tbody tr th {\n",
       "        vertical-align: top;\n",
       "    }\n",
       "\n",
       "    .dataframe thead th {\n",
       "        text-align: right;\n",
       "    }\n",
       "</style>\n",
       "<table border=\"1\" class=\"dataframe\">\n",
       "  <thead>\n",
       "    <tr style=\"text-align: right;\">\n",
       "      <th></th>\n",
       "      <th>PGDP_ID</th>\n",
       "      <th>Provider_ID</th>\n",
       "      <th>Provider</th>\n",
       "      <th>Genus</th>\n",
       "      <th>Species</th>\n",
       "      <th>Origin</th>\n",
       "      <th>Sex</th>\n",
       "      <th>address</th>\n",
       "      <th>longitude</th>\n",
       "      <th>latitude</th>\n",
       "      <th>callset_index</th>\n",
       "      <th>C_origin</th>\n",
       "      <th>x_missing</th>\n",
       "    </tr>\n",
       "  </thead>\n",
       "  <tbody>\n",
       "    <tr>\n",
       "      <th>8</th>\n",
       "      <td>Sci_97124</td>\n",
       "      <td>97124</td>\n",
       "      <td>Jolly/Phillips-Conroy</td>\n",
       "      <td>Papio</td>\n",
       "      <td>hamadryas</td>\n",
       "      <td>Awash, Ethiopia</td>\n",
       "      <td>M</td>\n",
       "      <td>አዋሽ / Awash, Zone 3, አፋር ክልል / Afar, ኢትዮጵያ</td>\n",
       "      <td>40.167674</td>\n",
       "      <td>8.992496</td>\n",
       "      <td>8</td>\n",
       "      <td>Hamadryas, Ethiopia</td>\n",
       "      <td>0.021821</td>\n",
       "    </tr>\n",
       "    <tr>\n",
       "      <th>9</th>\n",
       "      <td>PD_0067</td>\n",
       "      <td>1043</td>\n",
       "      <td>Roos</td>\n",
       "      <td>Theropithecus</td>\n",
       "      <td>gelada</td>\n",
       "      <td>captive</td>\n",
       "      <td>M</td>\n",
       "      <td>SDSU Captive Wildlife Research Facility, Brook...</td>\n",
       "      <td>-96.793280</td>\n",
       "      <td>44.334031</td>\n",
       "      <td>9</td>\n",
       "      <td>Gelada, Captive</td>\n",
       "      <td>0.024995</td>\n",
       "    </tr>\n",
       "    <tr>\n",
       "      <th>10</th>\n",
       "      <td>PD_0199</td>\n",
       "      <td>09SNF1101115</td>\n",
       "      <td>Knauf/Chuma/Roos</td>\n",
       "      <td>Papio</td>\n",
       "      <td>anubis</td>\n",
       "      <td>Serengeti, Tanzania</td>\n",
       "      <td>F</td>\n",
       "      <td>Serengeti, Mara, Lake Zone, Tanzania</td>\n",
       "      <td>34.742544</td>\n",
       "      <td>-1.996626</td>\n",
       "      <td>10</td>\n",
       "      <td>Anubis, Tanzania</td>\n",
       "      <td>0.003591</td>\n",
       "    </tr>\n",
       "  </tbody>\n",
       "</table>\n",
       "</div>"
      ],
      "text/plain": [
       "      PGDP_ID   Provider_ID               Provider          Genus    Species  \\\n",
       "8   Sci_97124         97124  Jolly/Phillips-Conroy          Papio  hamadryas   \n",
       "9     PD_0067          1043                   Roos  Theropithecus     gelada   \n",
       "10    PD_0199  09SNF1101115       Knauf/Chuma/Roos          Papio     anubis   \n",
       "\n",
       "                 Origin Sex  \\\n",
       "8       Awash, Ethiopia   M   \n",
       "9               captive   M   \n",
       "10  Serengeti, Tanzania   F   \n",
       "\n",
       "                                              address  longitude   latitude  \\\n",
       "8          አዋሽ / Awash, Zone 3, አፋር ክልል / Afar, ኢትዮጵያ  40.167674   8.992496   \n",
       "9   SDSU Captive Wildlife Research Facility, Brook... -96.793280  44.334031   \n",
       "10               Serengeti, Mara, Lake Zone, Tanzania  34.742544  -1.996626   \n",
       "\n",
       "    callset_index             C_origin  x_missing  \n",
       "8               8  Hamadryas, Ethiopia   0.021821  \n",
       "9               9      Gelada, Captive   0.024995  \n",
       "10             10     Anubis, Tanzania   0.003591  "
      ]
     },
     "execution_count": 26,
     "metadata": {},
     "output_type": "execute_result"
    }
   ],
   "source": [
    "meta_data_samples_Sci.to_csv(\"../data/metadata_Sci_included.txt\",\n",
    "              sep=\" \", header=False, index=False)\n",
    "meta_data_samples_Sci.iloc[8:11]"
   ]
  },
  {
   "cell_type": "markdown",
   "metadata": {},
   "source": [
    "Generating an idfile with all individuals"
   ]
  },
  {
   "cell_type": "code",
   "execution_count": 16,
   "metadata": {},
   "outputs": [],
   "source": [
    "vcf = \"/home/eriks/baboondiversity/data/fs_input_unlinked/chr20.vcf.gz\"\n",
    "callset = allel.read_vcf(vcf)"
   ]
  },
  {
   "cell_type": "code",
   "execution_count": 17,
   "metadata": {},
   "outputs": [],
   "source": [
    "individuals = callset[\"samples\"]"
   ]
  },
  {
   "cell_type": "code",
   "execution_count": 18,
   "metadata": {},
   "outputs": [],
   "source": [
    "pop_list = []\n",
    "inclusion_list = []\n",
    "for i in individuals:\n",
    "    if i[0] == \"S\":\n",
    "        i = i[4:]\n",
    "    inclusion_list.append(1)       \n",
    "    if meta_data_samples.loc[meta_data_samples.PGDP_ID == i][\"Species\"].values[0] == \"ursinus (grayfoot)\":\n",
    "        pop_list.append(\"Ursinus\")\n",
    "    else:\n",
    "        t_pop = meta_data_samples.loc[meta_data_samples.PGDP_ID == i][\"C_origin\"].values[0]\n",
    "        t_pop = t_pop.replace(\" \", \"_\").replace(\",\", \"\" )\n",
    "        pop_list.append(t_pop)"
   ]
  },
  {
   "cell_type": "code",
   "execution_count": 19,
   "metadata": {},
   "outputs": [],
   "source": [
    "pop_df = pd.DataFrame()\n",
    "pop_df[\"ID\"] = individuals\n",
    "pop_df[\"population\"] = pop_list\n",
    "pop_df[\"inclusion\"] = inclusion_list"
   ]
  },
  {
   "cell_type": "code",
   "execution_count": 20,
   "metadata": {},
   "outputs": [],
   "source": [
    "pop_df.to_csv(\"/faststorage/project/baboondiversity/data/haploidified_chrX_males/idfile_autosomes.ids\",\n",
    "              sep=\" \", header=False, index=False)"
   ]
  },
  {
   "cell_type": "markdown",
   "metadata": {},
   "source": [
    "Generalized setup to handle the input from Alan in the Phased chromosomes.\n",
    "Including both generating the idfile (should only be done once for all autosomes) and the recombination map based on Jurajs workflow. It will then be transformed based on the supplied conversion script."
   ]
  },
  {
   "cell_type": "code",
   "execution_count": 6,
   "metadata": {},
   "outputs": [
    {
     "name": "stdout",
     "output_type": "stream",
     "text": [
      "Mean cM/Mb 0.527365212250684\n",
      "Chromosome-wide 0.41073494827489554\n",
      "Finished  1\n",
      "Mean cM/Mb 0.4955170244219501\n",
      "Chromosome-wide 0.39511913750554123\n",
      "Finished  2\n",
      "Mean cM/Mb 0.5353990492388011\n",
      "Chromosome-wide 0.42942589053579927\n",
      "Finished  3\n",
      "Mean cM/Mb 0.7936917897288299\n",
      "Chromosome-wide 0.4875335491015923\n",
      "Finished  4\n",
      "Mean cM/Mb 0.49817048757815235\n",
      "Chromosome-wide 0.41310302351233674\n",
      "Finished  5\n",
      "Mean cM/Mb 0.5056773130869711\n",
      "Chromosome-wide 0.39994794964116387\n",
      "Finished  6\n",
      "Mean cM/Mb 0.5981077451202219\n",
      "Chromosome-wide 0.44288941169001583\n",
      "Finished  7\n",
      "Mean cM/Mb 0.6187395556563748\n",
      "Chromosome-wide 0.48990537808649187\n",
      "Finished  8\n",
      "Mean cM/Mb 0.6793714189197433\n",
      "Chromosome-wide 0.5132953198614009\n",
      "Finished  9\n",
      "Mean cM/Mb 0.7759862400037736\n",
      "Chromosome-wide 0.5696066241939366\n",
      "Finished  10\n",
      "Mean cM/Mb 0.5965674863242026\n",
      "Chromosome-wide 0.46602277334309405\n",
      "Finished  11\n",
      "Mean cM/Mb 0.5915431423807662\n",
      "Chromosome-wide 0.45477855142459767\n",
      "Finished  12\n",
      "Mean cM/Mb 0.672137286371548\n",
      "Chromosome-wide 0.5043452013730965\n",
      "Finished  13\n",
      "Mean cM/Mb 0.5898770387406176\n",
      "Chromosome-wide 0.44591220465774406\n",
      "Finished  14\n",
      "Mean cM/Mb 0.6609940693765826\n",
      "Chromosome-wide 0.4886937733678339\n",
      "Finished  15\n",
      "Mean cM/Mb 0.869562298831669\n",
      "Chromosome-wide 0.639013291115808\n",
      "Finished  16\n",
      "Mean cM/Mb 0.6763909884603945\n",
      "Chromosome-wide 0.5667045395744987\n",
      "Finished  17\n",
      "Mean cM/Mb 0.6855105483827819\n",
      "Chromosome-wide 0.5497361961702046\n",
      "Finished  18\n",
      "Mean cM/Mb 1.094284637928719\n",
      "Chromosome-wide 0.8185998317892891\n",
      "Finished  19\n",
      "Mean cM/Mb 0.7367390611848466\n",
      "Chromosome-wide 0.5734570363395771\n",
      "Finished  20\n",
      "Mean cM/Mb 0.5302001603047253\n",
      "Chromosome-wide 0.38891773835495624\n",
      "Finished  X\n"
     ]
    }
   ],
   "source": [
    "#vcf = \"/home/eriks/baboondiversity/data/PG_panu3_phased_chromosomes_4_7_2021/chr{}_phased_rehead.vcf.gz\"\n",
    "ldhat_path = \"/faststorage/project/primatediversity/data/PG_baboons_pananu3_23_2_2021_ldhat/maps0.01/chr{}.map\"\n",
    "Ne = 15000\n",
    "chromosome_numbers = ['{}'.format(x) for x in range(1, 21)] + ['X']\n",
    "\n",
    "for chrom in chromosome_numbers:\n",
    "    ldhat_map = pd.read_csv(ldhat_path.format(chrom), sep=\"\\t\")\n",
    "    if chrom == \"X\":\n",
    "        Ne = Ne/2\n",
    "    ldhat_map[\"COMBINED_rate(cM/Mb)\"] = ldhat_map.Mean_rho*1000*100/(4*Ne)\n",
    "    print(\"Mean cM/Mb\", ldhat_map[\"COMBINED_rate(cM/Mb)\"].mean())\n",
    "    ldhat_map[\"i_l\"] = np.append(ldhat_map[\"POS\"][1:], ldhat_map[\"POS\"][-1:])-ldhat_map[\"POS\"]\n",
    "    print(\"Chromosome-wide\", np.nansum(ldhat_map[\"i_l\"]*ldhat_map[\"COMBINED_rate(cM/Mb)\"])/sum(ldhat_map[\"POS\"][-1:]))\n",
    "    ldhat_map[\"chrom\"] = \"chr{}\".format(chrom)\n",
    "    df = (pd.DataFrame(data={\"chromosome\": ldhat_map[\"chrom\"], \"position\": ldhat_map[\"POS\"],\n",
    "                             \"COMBINED_rate(cM/Mb)\": ldhat_map[\"COMBINED_rate(cM/Mb)\"], \"pos_l\": ldhat_map[\"POS\"]}))\n",
    "    df[\"Genetic_Map(cM)\"] = (ldhat_map[\"i_l\"] *df[\"COMBINED_rate(cM/Mb)\"]/1000000).cumsum()\n",
    "    df.to_csv(\"/home/eriks/baboondiversity/data/PG_panu3_recombination_map/ldhat_conversion_chr{}_mmul.txt\".format(chrom),\n",
    "              sep=\" \", index=False, columns=[\"chromosome\", \"position\", \"COMBINED_rate(cM/Mb)\", \"Genetic_Map(cM)\"])\n",
    "    df[\"Genetic_Map(cM)\"] = df[\"Genetic_Map(cM)\"]/3\n",
    "    df[\"COMBINED_rate(cM/Mb)\"] = df[\"COMBINED_rate(cM/Mb)\"]/3\n",
    "    df.to_csv(\"/home/eriks/baboondiversity/data/PG_panu3_recombination_map/ldhat_conversion_chr{}_baboon.txt\".format(chrom),\n",
    "              sep=\" \", index=False, columns=[\"chromosome\", \"position\", \"COMBINED_rate(cM/Mb)\", \"Genetic_Map(cM)\"])\n",
    "    df[\"Genetic_Map(cM)\"] = df[\"Genetic_Map(cM)\"]*10\n",
    "    df[\"COMBINED_rate(cM/Mb)\"] = df[\"COMBINED_rate(cM/Mb)\"]*10\n",
    "    df.to_csv(\"/home/eriks/baboondiversity/data/PG_panu3_recombination_map/ldhat_conversion_chr{}_10x.txt\".format(chrom),\n",
    "              sep=\" \", index=False, columns=[\"chromosome\", \"position\", \"COMBINED_rate(cM/Mb)\", \"Genetic_Map(cM)\"])\n",
    "    print(\"Finished \", chrom)"
   ]
  },
  {
   "cell_type": "code",
   "execution_count": 28,
   "metadata": {},
   "outputs": [],
   "source": [
    "df_convert = pd.read_csv(\"/home/eriks/baboondiversity/data/PG_panu3_phased_chromosomes_4_7_2021/chr8.recombfile\", sep=\" \")"
   ]
  },
  {
   "cell_type": "code",
   "execution_count": 32,
   "metadata": {},
   "outputs": [
    {
     "data": {
      "text/plain": [
       "6.797623362539761e-09"
      ]
     },
     "execution_count": 32,
     "metadata": {},
     "output_type": "execute_result"
    }
   ],
   "source": [
    "df_convert[\"recom.rate.perbp\"].mean()"
   ]
  },
  {
   "cell_type": "code",
   "execution_count": 37,
   "metadata": {},
   "outputs": [
    {
     "data": {
      "text/html": [
       "<div>\n",
       "<style scoped>\n",
       "    .dataframe tbody tr th:only-of-type {\n",
       "        vertical-align: middle;\n",
       "    }\n",
       "\n",
       "    .dataframe tbody tr th {\n",
       "        vertical-align: top;\n",
       "    }\n",
       "\n",
       "    .dataframe thead th {\n",
       "        text-align: right;\n",
       "    }\n",
       "</style>\n",
       "<table border=\"1\" class=\"dataframe\">\n",
       "  <thead>\n",
       "    <tr style=\"text-align: right;\">\n",
       "      <th></th>\n",
       "      <th>chromosome</th>\n",
       "      <th>position</th>\n",
       "      <th>COMBINED_rate(cM/Mb)</th>\n",
       "      <th>pos_l</th>\n",
       "      <th>Genetic_Map(cM)</th>\n",
       "    </tr>\n",
       "  </thead>\n",
       "  <tbody>\n",
       "    <tr>\n",
       "      <th>0</th>\n",
       "      <td>chr8</td>\n",
       "      <td>4263</td>\n",
       "      <td>0.077113</td>\n",
       "      <td>4263</td>\n",
       "      <td>0.000387</td>\n",
       "    </tr>\n",
       "    <tr>\n",
       "      <th>1</th>\n",
       "      <td>chr8</td>\n",
       "      <td>9280</td>\n",
       "      <td>0.077287</td>\n",
       "      <td>9280</td>\n",
       "      <td>0.000390</td>\n",
       "    </tr>\n",
       "    <tr>\n",
       "      <th>2</th>\n",
       "      <td>chr8</td>\n",
       "      <td>9322</td>\n",
       "      <td>0.077287</td>\n",
       "      <td>9322</td>\n",
       "      <td>0.001654</td>\n",
       "    </tr>\n",
       "    <tr>\n",
       "      <th>3</th>\n",
       "      <td>chr8</td>\n",
       "      <td>25679</td>\n",
       "      <td>0.077287</td>\n",
       "      <td>25679</td>\n",
       "      <td>0.001656</td>\n",
       "    </tr>\n",
       "    <tr>\n",
       "      <th>4</th>\n",
       "      <td>chr8</td>\n",
       "      <td>25695</td>\n",
       "      <td>0.077287</td>\n",
       "      <td>25695</td>\n",
       "      <td>0.001659</td>\n",
       "    </tr>\n",
       "    <tr>\n",
       "      <th>...</th>\n",
       "      <td>...</td>\n",
       "      <td>...</td>\n",
       "      <td>...</td>\n",
       "      <td>...</td>\n",
       "      <td>...</td>\n",
       "    </tr>\n",
       "    <tr>\n",
       "      <th>789085</th>\n",
       "      <td>chr8</td>\n",
       "      <td>140344478</td>\n",
       "      <td>0.863962</td>\n",
       "      <td>140344478</td>\n",
       "      <td>51.565594</td>\n",
       "    </tr>\n",
       "    <tr>\n",
       "      <th>789086</th>\n",
       "      <td>chr8</td>\n",
       "      <td>140344489</td>\n",
       "      <td>0.894650</td>\n",
       "      <td>140344489</td>\n",
       "      <td>51.565628</td>\n",
       "    </tr>\n",
       "    <tr>\n",
       "      <th>789087</th>\n",
       "      <td>chr8</td>\n",
       "      <td>140344527</td>\n",
       "      <td>0.925000</td>\n",
       "      <td>140344527</td>\n",
       "      <td>51.565991</td>\n",
       "    </tr>\n",
       "    <tr>\n",
       "      <th>789088</th>\n",
       "      <td>chr8</td>\n",
       "      <td>140344920</td>\n",
       "      <td>0.923987</td>\n",
       "      <td>140344920</td>\n",
       "      <td>51.567331</td>\n",
       "    </tr>\n",
       "    <tr>\n",
       "      <th>789089</th>\n",
       "      <td>chr8</td>\n",
       "      <td>140346370</td>\n",
       "      <td>NaN</td>\n",
       "      <td>140346370</td>\n",
       "      <td>NaN</td>\n",
       "    </tr>\n",
       "  </tbody>\n",
       "</table>\n",
       "<p>789090 rows × 5 columns</p>\n",
       "</div>"
      ],
      "text/plain": [
       "       chromosome   position  COMBINED_rate(cM/Mb)      pos_l  Genetic_Map(cM)\n",
       "0            chr8       4263              0.077113       4263         0.000387\n",
       "1            chr8       9280              0.077287       9280         0.000390\n",
       "2            chr8       9322              0.077287       9322         0.001654\n",
       "3            chr8      25679              0.077287      25679         0.001656\n",
       "4            chr8      25695              0.077287      25695         0.001659\n",
       "...           ...        ...                   ...        ...              ...\n",
       "789085       chr8  140344478              0.863962  140344478        51.565594\n",
       "789086       chr8  140344489              0.894650  140344489        51.565628\n",
       "789087       chr8  140344527              0.925000  140344527        51.565991\n",
       "789088       chr8  140344920              0.923987  140344920        51.567331\n",
       "789089       chr8  140346370                   NaN  140346370              NaN\n",
       "\n",
       "[789090 rows x 5 columns]"
      ]
     },
     "execution_count": 37,
     "metadata": {},
     "output_type": "execute_result"
    }
   ],
   "source": [
    "df"
   ]
  },
  {
   "cell_type": "code",
   "execution_count": 27,
   "metadata": {},
   "outputs": [],
   "source": [
    "#Including all individuals\n",
    "pop_list = []\n",
    "inclusion_list = []\n",
    "for i in individuals:\n",
    "    if i[0] == \"S\":\n",
    "        i = i[4:]\n",
    "        inclusion_list.append(1)\n",
    "    else:\n",
    "        if meta_data_samples.loc[meta_data_samples.PGDP_ID == i][\"Species\"].values[0] == \"ursinus (grayfoot)\":\n",
    "            inclusion_list.append(1)\n",
    "        elif meta_data_samples.loc[meta_data_samples.PGDP_ID == i][\"Species\"].values[0] == \"papio\":\n",
    "            inclusion_list.append(1)\n",
    "        else:\n",
    "            inclusion_list.append(1)\n",
    "    t_pop = meta_data_samples.loc[meta_data_samples.PGDP_ID == i][\"Origin\"].values[0]\n",
    "    C_origin = meta_data_samples.loc[meta_data_samples.PGDP_ID == i][\"C_origin\"].values[0]\n",
    "    t_pop = C_origin.replace(\" \", \"_\").replace(\",\", \"\" )\n",
    "    pop_list.append(t_pop)"
   ]
  },
  {
   "cell_type": "code",
   "execution_count": 29,
   "metadata": {},
   "outputs": [
    {
     "data": {
      "text/html": [
       "<div>\n",
       "<style scoped>\n",
       "    .dataframe tbody tr th:only-of-type {\n",
       "        vertical-align: middle;\n",
       "    }\n",
       "\n",
       "    .dataframe tbody tr th {\n",
       "        vertical-align: top;\n",
       "    }\n",
       "\n",
       "    .dataframe thead th {\n",
       "        text-align: right;\n",
       "    }\n",
       "</style>\n",
       "<table border=\"1\" class=\"dataframe\">\n",
       "  <thead>\n",
       "    <tr style=\"text-align: right;\">\n",
       "      <th></th>\n",
       "      <th>ID</th>\n",
       "      <th>population</th>\n",
       "      <th>inclusion</th>\n",
       "    </tr>\n",
       "  </thead>\n",
       "  <tbody>\n",
       "    <tr>\n",
       "      <th>0</th>\n",
       "      <td>Sci_16066</td>\n",
       "      <td>Cynocephalus_Central_Tanzania</td>\n",
       "      <td>1</td>\n",
       "    </tr>\n",
       "    <tr>\n",
       "      <th>1</th>\n",
       "      <td>Sci_16098</td>\n",
       "      <td>Cynocephalus_Central_Tanzania</td>\n",
       "      <td>1</td>\n",
       "    </tr>\n",
       "    <tr>\n",
       "      <th>2</th>\n",
       "      <td>Sci_30877</td>\n",
       "      <td>Anubis_Kenya</td>\n",
       "      <td>1</td>\n",
       "    </tr>\n",
       "    <tr>\n",
       "      <th>3</th>\n",
       "      <td>Sci_30977</td>\n",
       "      <td>Anubis_Kenya</td>\n",
       "      <td>1</td>\n",
       "    </tr>\n",
       "    <tr>\n",
       "      <th>4</th>\n",
       "      <td>Sci_34449</td>\n",
       "      <td>Kindae_Zambia</td>\n",
       "      <td>1</td>\n",
       "    </tr>\n",
       "    <tr>\n",
       "      <th>...</th>\n",
       "      <td>...</td>\n",
       "      <td>...</td>\n",
       "      <td>...</td>\n",
       "    </tr>\n",
       "    <tr>\n",
       "      <th>222</th>\n",
       "      <td>PD_0790</td>\n",
       "      <td>Kindae_Zambia</td>\n",
       "      <td>1</td>\n",
       "    </tr>\n",
       "    <tr>\n",
       "      <th>223</th>\n",
       "      <td>PD_0791</td>\n",
       "      <td>Kindae_Zambia</td>\n",
       "      <td>1</td>\n",
       "    </tr>\n",
       "    <tr>\n",
       "      <th>224</th>\n",
       "      <td>PD_0792</td>\n",
       "      <td>Kindae_Zambia</td>\n",
       "      <td>1</td>\n",
       "    </tr>\n",
       "    <tr>\n",
       "      <th>225</th>\n",
       "      <td>PD_0793</td>\n",
       "      <td>Kindae_Zambia</td>\n",
       "      <td>1</td>\n",
       "    </tr>\n",
       "    <tr>\n",
       "      <th>226</th>\n",
       "      <td>PD_0794_BAB</td>\n",
       "      <td>Kindae_Zambia</td>\n",
       "      <td>1</td>\n",
       "    </tr>\n",
       "  </tbody>\n",
       "</table>\n",
       "<p>227 rows × 3 columns</p>\n",
       "</div>"
      ],
      "text/plain": [
       "              ID                     population  inclusion\n",
       "0      Sci_16066  Cynocephalus_Central_Tanzania          1\n",
       "1      Sci_16098  Cynocephalus_Central_Tanzania          1\n",
       "2      Sci_30877                   Anubis_Kenya          1\n",
       "3      Sci_30977                   Anubis_Kenya          1\n",
       "4      Sci_34449                  Kindae_Zambia          1\n",
       "..           ...                            ...        ...\n",
       "222      PD_0790                  Kindae_Zambia          1\n",
       "223      PD_0791                  Kindae_Zambia          1\n",
       "224      PD_0792                  Kindae_Zambia          1\n",
       "225      PD_0793                  Kindae_Zambia          1\n",
       "226  PD_0794_BAB                  Kindae_Zambia          1\n",
       "\n",
       "[227 rows x 3 columns]"
      ]
     },
     "execution_count": 29,
     "metadata": {},
     "output_type": "execute_result"
    }
   ],
   "source": [
    "pop_df = pd.DataFrame()\n",
    "pop_df[\"ID\"] = individuals\n",
    "pop_df[\"population\"] = pop_list\n",
    "pop_df[\"inclusion\"] = inclusion_list\n",
    "pop_df.to_csv(\"/home/eriks/baboondiversity/data/PG_panu3_phased_chromosomes_4_7_2021/all_IDs.ids\",\n",
    "              sep=\" \", header=False, index=False)\n",
    "pop_df"
   ]
  },
  {
   "cell_type": "markdown",
   "metadata": {},
   "source": [
    "Converting ldhat files to genetic maps.\n",
    "Assuming that effective population size for chrX is 10000."
   ]
  },
  {
   "cell_type": "code",
   "execution_count": 3,
   "metadata": {},
   "outputs": [],
   "source": [
    "ldhat_path = \"/faststorage/project/primatediversity/data/PG_baboons_pananu3_23_2_2021_ldhat/maps0.01/chrX.map\"\n",
    "uniform_rec_path = \"/faststorage/project/baboondiversity/data/haploidified_chrX_males/uniform_rec.recombfile\"\n",
    "phase_file = \"/faststorage/project/baboondiversity/data/haploidified_chrX_males/chrX_v3.phase\""
   ]
  },
  {
   "cell_type": "code",
   "execution_count": 4,
   "metadata": {},
   "outputs": [],
   "source": [
    "ldhat_map = pd.read_csv(ldhat_path, sep=\"\\t\")\n",
    "uni_map = pd.read_csv(uniform_rec_path, sep=\" \")"
   ]
  },
  {
   "cell_type": "code",
   "execution_count": 5,
   "metadata": {},
   "outputs": [],
   "source": [
    "f=open(phase_file)\n",
    "lines=f.readlines()\n",
    "pos_line = lines[2]\n",
    "pos_list = [int(x) for x in pos_line.split(\" \")[1:]]\n",
    "f.close()"
   ]
  },
  {
   "cell_type": "markdown",
   "metadata": {},
   "source": [
    "Uniform recombination maps"
   ]
  },
  {
   "cell_type": "code",
   "execution_count": 30,
   "metadata": {},
   "outputs": [],
   "source": [
    "uniform_map = pd.DataFrame(data={\"start.pos\": pos_list})"
   ]
  },
  {
   "cell_type": "code",
   "execution_count": 31,
   "metadata": {},
   "outputs": [],
   "source": [
    "uniform_map[\"recom_uniform\"] = 10/(100*1000000)"
   ]
  },
  {
   "cell_type": "code",
   "execution_count": 32,
   "metadata": {},
   "outputs": [],
   "source": [
    "uniform_map.to_csv(\"/faststorage/project/baboondiversity/data/haploidified_chrX_males/uniform_rec_10cM.recombfile\",\n",
    "              sep=\" \", index=False, columns=[\"start.pos\", \"recom_uniform\"])"
   ]
  },
  {
   "cell_type": "code",
   "execution_count": 33,
   "metadata": {},
   "outputs": [
    {
     "data": {
      "text/plain": [
       "0.4803550816522574"
      ]
     },
     "execution_count": 33,
     "metadata": {},
     "output_type": "execute_result"
    }
   ],
   "source": [
    "ldhat_map.loc[ldhat_map.POS < 1000000].Mean_rho.mean()"
   ]
  },
  {
   "cell_type": "code",
   "execution_count": 34,
   "metadata": {},
   "outputs": [
    {
     "data": {
      "text/plain": [
       "4.002959013768811e-09"
      ]
     },
     "execution_count": 34,
     "metadata": {},
     "output_type": "execute_result"
    }
   ],
   "source": [
    "#calculating the cM/Mb\n",
    "ldhat_map.loc[ldhat_map.POS < 1000000].Mean_rho.mean()*((100*1000/(4*30000))/(100*1000000))"
   ]
  },
  {
   "cell_type": "code",
   "execution_count": 35,
   "metadata": {},
   "outputs": [
    {
     "data": {
      "text/html": [
       "<div>\n",
       "<style scoped>\n",
       "    .dataframe tbody tr th:only-of-type {\n",
       "        vertical-align: middle;\n",
       "    }\n",
       "\n",
       "    .dataframe tbody tr th {\n",
       "        vertical-align: top;\n",
       "    }\n",
       "\n",
       "    .dataframe thead th {\n",
       "        text-align: right;\n",
       "    }\n",
       "</style>\n",
       "<table border=\"1\" class=\"dataframe\">\n",
       "  <thead>\n",
       "    <tr style=\"text-align: right;\">\n",
       "      <th></th>\n",
       "      <th>start.pos</th>\n",
       "      <th>recom.rate.perbp</th>\n",
       "    </tr>\n",
       "  </thead>\n",
       "  <tbody>\n",
       "    <tr>\n",
       "      <th>0</th>\n",
       "      <td>37</td>\n",
       "      <td>1.000000e-07</td>\n",
       "    </tr>\n",
       "    <tr>\n",
       "      <th>1</th>\n",
       "      <td>57</td>\n",
       "      <td>1.000000e-07</td>\n",
       "    </tr>\n",
       "    <tr>\n",
       "      <th>2</th>\n",
       "      <td>157</td>\n",
       "      <td>1.000000e-07</td>\n",
       "    </tr>\n",
       "    <tr>\n",
       "      <th>3</th>\n",
       "      <td>170</td>\n",
       "      <td>1.000000e-07</td>\n",
       "    </tr>\n",
       "    <tr>\n",
       "      <th>4</th>\n",
       "      <td>216</td>\n",
       "      <td>1.000000e-07</td>\n",
       "    </tr>\n",
       "    <tr>\n",
       "      <th>...</th>\n",
       "      <td>...</td>\n",
       "      <td>...</td>\n",
       "    </tr>\n",
       "    <tr>\n",
       "      <th>2923207</th>\n",
       "      <td>143691509</td>\n",
       "      <td>1.000000e-07</td>\n",
       "    </tr>\n",
       "    <tr>\n",
       "      <th>2923208</th>\n",
       "      <td>143691526</td>\n",
       "      <td>1.000000e-07</td>\n",
       "    </tr>\n",
       "    <tr>\n",
       "      <th>2923209</th>\n",
       "      <td>143691548</td>\n",
       "      <td>1.000000e-07</td>\n",
       "    </tr>\n",
       "    <tr>\n",
       "      <th>2923210</th>\n",
       "      <td>143691549</td>\n",
       "      <td>1.000000e-07</td>\n",
       "    </tr>\n",
       "    <tr>\n",
       "      <th>2923211</th>\n",
       "      <td>143691566</td>\n",
       "      <td>0.000000e+00</td>\n",
       "    </tr>\n",
       "  </tbody>\n",
       "</table>\n",
       "<p>2923212 rows × 2 columns</p>\n",
       "</div>"
      ],
      "text/plain": [
       "         start.pos  recom.rate.perbp\n",
       "0               37      1.000000e-07\n",
       "1               57      1.000000e-07\n",
       "2              157      1.000000e-07\n",
       "3              170      1.000000e-07\n",
       "4              216      1.000000e-07\n",
       "...            ...               ...\n",
       "2923207  143691509      1.000000e-07\n",
       "2923208  143691526      1.000000e-07\n",
       "2923209  143691548      1.000000e-07\n",
       "2923210  143691549      1.000000e-07\n",
       "2923211  143691566      0.000000e+00\n",
       "\n",
       "[2923212 rows x 2 columns]"
      ]
     },
     "execution_count": 35,
     "metadata": {},
     "output_type": "execute_result"
    }
   ],
   "source": [
    "uni_map"
   ]
  },
  {
   "cell_type": "markdown",
   "metadata": {},
   "source": [
    "Recombination maps based on ldhat"
   ]
  },
  {
   "cell_type": "markdown",
   "metadata": {},
   "source": [
    "Math: Ldhat estimates it as 4*Ne*r/kb, and I want it in M/b.\n",
    "With an additional twist that ldhat does not have all positions present.\n",
    "I set Ne as 20000 due to it being on chrX, but it could be many other sizes.\n",
    "Too low recombination rates seem to be troublesome for Globetrotter\n",
    "This conversion is done by dividing by 4*Ne, and then also dividing by 1000 to go to bases.\n",
    "#Note: Garrett Hellenthal has confirmed that it should be Morgans/Base"
   ]
  },
  {
   "cell_type": "code",
   "execution_count": 6,
   "metadata": {},
   "outputs": [],
   "source": [
    "ldhat_map[\"convert_r\"] = ldhat_map.Mean_rho/(4*20000*1000)\n",
    "#ldhat_map[\"convert_r\"] = ldhat_map.Mean_rho*((100*1000/(4*10000))/(100*1000000))"
   ]
  },
  {
   "cell_type": "code",
   "execution_count": 11,
   "metadata": {},
   "outputs": [],
   "source": [
    "ldhat_map[\"i_l\"] = np.append(ldhat_map[\"POS\"][1:], ldhat_map[\"POS\"][-1:])-ldhat_map[\"POS\"]\n",
    "ldhat_map[\"distance\"] = ldhat_map[\"i_l\"]*ldhat_map.convert_r"
   ]
  },
  {
   "cell_type": "code",
   "execution_count": 14,
   "metadata": {},
   "outputs": [
    {
     "data": {
      "text/html": [
       "<div>\n",
       "<style scoped>\n",
       "    .dataframe tbody tr th:only-of-type {\n",
       "        vertical-align: middle;\n",
       "    }\n",
       "\n",
       "    .dataframe tbody tr th {\n",
       "        vertical-align: top;\n",
       "    }\n",
       "\n",
       "    .dataframe thead th {\n",
       "        text-align: right;\n",
       "    }\n",
       "</style>\n",
       "<table border=\"1\" class=\"dataframe\">\n",
       "  <thead>\n",
       "    <tr style=\"text-align: right;\">\n",
       "      <th></th>\n",
       "      <th>POS</th>\n",
       "      <th>Mean_rho</th>\n",
       "      <th>Median_rho</th>\n",
       "      <th>L95</th>\n",
       "      <th>U95</th>\n",
       "      <th>convert_r</th>\n",
       "      <th>i_l</th>\n",
       "      <th>distance</th>\n",
       "    </tr>\n",
       "  </thead>\n",
       "  <tbody>\n",
       "    <tr>\n",
       "      <th>0</th>\n",
       "      <td>157</td>\n",
       "      <td>1.82583</td>\n",
       "      <td>1.78709</td>\n",
       "      <td>1.44281</td>\n",
       "      <td>2.33608</td>\n",
       "      <td>2.282287e-08</td>\n",
       "      <td>13</td>\n",
       "      <td>2.966974e-07</td>\n",
       "    </tr>\n",
       "    <tr>\n",
       "      <th>1</th>\n",
       "      <td>170</td>\n",
       "      <td>1.83073</td>\n",
       "      <td>1.78810</td>\n",
       "      <td>1.48110</td>\n",
       "      <td>2.32684</td>\n",
       "      <td>2.288412e-08</td>\n",
       "      <td>70</td>\n",
       "      <td>1.601889e-06</td>\n",
       "    </tr>\n",
       "    <tr>\n",
       "      <th>2</th>\n",
       "      <td>240</td>\n",
       "      <td>1.83536</td>\n",
       "      <td>1.78876</td>\n",
       "      <td>1.50047</td>\n",
       "      <td>2.32684</td>\n",
       "      <td>2.294200e-08</td>\n",
       "      <td>39</td>\n",
       "      <td>8.947380e-07</td>\n",
       "    </tr>\n",
       "    <tr>\n",
       "      <th>3</th>\n",
       "      <td>279</td>\n",
       "      <td>1.83078</td>\n",
       "      <td>1.78876</td>\n",
       "      <td>1.50353</td>\n",
       "      <td>2.27161</td>\n",
       "      <td>2.288475e-08</td>\n",
       "      <td>32</td>\n",
       "      <td>7.323120e-07</td>\n",
       "    </tr>\n",
       "    <tr>\n",
       "      <th>4</th>\n",
       "      <td>311</td>\n",
       "      <td>1.82137</td>\n",
       "      <td>1.78711</td>\n",
       "      <td>1.51127</td>\n",
       "      <td>2.20721</td>\n",
       "      <td>2.276713e-08</td>\n",
       "      <td>88</td>\n",
       "      <td>2.003507e-06</td>\n",
       "    </tr>\n",
       "    <tr>\n",
       "      <th>...</th>\n",
       "      <td>...</td>\n",
       "      <td>...</td>\n",
       "      <td>...</td>\n",
       "      <td>...</td>\n",
       "      <td>...</td>\n",
       "      <td>...</td>\n",
       "      <td>...</td>\n",
       "      <td>...</td>\n",
       "    </tr>\n",
       "    <tr>\n",
       "      <th>341637</th>\n",
       "      <td>143689426</td>\n",
       "      <td>0.54087</td>\n",
       "      <td>0.57928</td>\n",
       "      <td>0.04730</td>\n",
       "      <td>0.92660</td>\n",
       "      <td>6.760875e-09</td>\n",
       "      <td>1997</td>\n",
       "      <td>1.350147e-05</td>\n",
       "    </tr>\n",
       "    <tr>\n",
       "      <th>341638</th>\n",
       "      <td>143691423</td>\n",
       "      <td>0.54396</td>\n",
       "      <td>0.57928</td>\n",
       "      <td>0.04730</td>\n",
       "      <td>0.93693</td>\n",
       "      <td>6.799500e-09</td>\n",
       "      <td>12</td>\n",
       "      <td>8.159400e-08</td>\n",
       "    </tr>\n",
       "    <tr>\n",
       "      <th>341639</th>\n",
       "      <td>143691435</td>\n",
       "      <td>0.55005</td>\n",
       "      <td>0.57981</td>\n",
       "      <td>0.04752</td>\n",
       "      <td>0.94455</td>\n",
       "      <td>6.875625e-09</td>\n",
       "      <td>32</td>\n",
       "      <td>2.200200e-07</td>\n",
       "    </tr>\n",
       "    <tr>\n",
       "      <th>341640</th>\n",
       "      <td>143691467</td>\n",
       "      <td>0.55550</td>\n",
       "      <td>0.58136</td>\n",
       "      <td>0.04730</td>\n",
       "      <td>0.94920</td>\n",
       "      <td>6.943750e-09</td>\n",
       "      <td>35</td>\n",
       "      <td>2.430313e-07</td>\n",
       "    </tr>\n",
       "    <tr>\n",
       "      <th>341641</th>\n",
       "      <td>143691502</td>\n",
       "      <td>NaN</td>\n",
       "      <td>NaN</td>\n",
       "      <td>NaN</td>\n",
       "      <td>NaN</td>\n",
       "      <td>NaN</td>\n",
       "      <td>0</td>\n",
       "      <td>NaN</td>\n",
       "    </tr>\n",
       "  </tbody>\n",
       "</table>\n",
       "<p>341642 rows × 8 columns</p>\n",
       "</div>"
      ],
      "text/plain": [
       "              POS  Mean_rho  Median_rho      L95      U95     convert_r   i_l  \\\n",
       "0             157   1.82583     1.78709  1.44281  2.33608  2.282287e-08    13   \n",
       "1             170   1.83073     1.78810  1.48110  2.32684  2.288412e-08    70   \n",
       "2             240   1.83536     1.78876  1.50047  2.32684  2.294200e-08    39   \n",
       "3             279   1.83078     1.78876  1.50353  2.27161  2.288475e-08    32   \n",
       "4             311   1.82137     1.78711  1.51127  2.20721  2.276713e-08    88   \n",
       "...           ...       ...         ...      ...      ...           ...   ...   \n",
       "341637  143689426   0.54087     0.57928  0.04730  0.92660  6.760875e-09  1997   \n",
       "341638  143691423   0.54396     0.57928  0.04730  0.93693  6.799500e-09    12   \n",
       "341639  143691435   0.55005     0.57981  0.04752  0.94455  6.875625e-09    32   \n",
       "341640  143691467   0.55550     0.58136  0.04730  0.94920  6.943750e-09    35   \n",
       "341641  143691502       NaN         NaN      NaN      NaN           NaN     0   \n",
       "\n",
       "            distance  \n",
       "0       2.966974e-07  \n",
       "1       1.601889e-06  \n",
       "2       8.947380e-07  \n",
       "3       7.323120e-07  \n",
       "4       2.003507e-06  \n",
       "...              ...  \n",
       "341637  1.350147e-05  \n",
       "341638  8.159400e-08  \n",
       "341639  2.200200e-07  \n",
       "341640  2.430313e-07  \n",
       "341641           NaN  \n",
       "\n",
       "[341642 rows x 8 columns]"
      ]
     },
     "execution_count": 14,
     "metadata": {},
     "output_type": "execute_result"
    }
   ],
   "source": [
    "ldhat_map"
   ]
  },
  {
   "cell_type": "code",
   "execution_count": 13,
   "metadata": {},
   "outputs": [
    {
     "data": {
      "text/plain": [
       "0.20956565241999997"
      ]
     },
     "execution_count": 13,
     "metadata": {},
     "output_type": "execute_result"
    }
   ],
   "source": [
    "np.nansum(ldhat_map.distance)"
   ]
  },
  {
   "cell_type": "code",
   "execution_count": 9,
   "metadata": {},
   "outputs": [
    {
     "data": {
      "text/plain": [
       "0.198825060114272"
      ]
     },
     "execution_count": 9,
     "metadata": {},
     "output_type": "execute_result"
    }
   ],
   "source": [
    "ldhat_map.convert_r.mean()*100*1000000"
   ]
  },
  {
   "cell_type": "markdown",
   "metadata": {},
   "source": [
    "Many positions are not present in the recombination map made by Juraj, so these spaces have to be filled."
   ]
  },
  {
   "cell_type": "code",
   "execution_count": 9,
   "metadata": {},
   "outputs": [],
   "source": [
    "ld_hat_i = 0\n",
    "ldhat_pos = ldhat_map[\"POS\"][0]\n",
    "ld_hat_prev_pos = 0\n",
    "last_ldhat = int(ldhat_map[\"POS\"][-2:-1])\n",
    "last_uni = int(uni_map[\"start.pos\"][-1:])\n",
    "recom_rate = []\n",
    "next_pos = 0\n",
    "for i, row in uni_map.iterrows():\n",
    "    current_pos = row[\"start.pos\"]\n",
    "    if current_pos >= ldhat_pos and current_pos < last_ldhat:\n",
    "        ld_hat_i += 1\n",
    "        ld_hat_prev_pos = ldhat_pos\n",
    "        ldhat_pos = ldhat_map[\"POS\"][ld_hat_i]\n",
    "    if last_uni == next_pos:\n",
    "        recom_rate.append(0)\n",
    "    else:\n",
    "        next_pos = uni_map[\"start.pos\"][i+1]\n",
    "        recom_rate.append(ldhat_map[\"convert_r\"][ld_hat_i]) #*(next_pos-current_pos)/(ldhat_pos-ld_hat_prev_pos))\n",
    "        # Made an error by scaling the recombination rate, as it already is position scaled."
   ]
  },
  {
   "cell_type": "code",
   "execution_count": 10,
   "metadata": {},
   "outputs": [],
   "source": [
    "uni_map[\"recom_variable\"] = recom_rate"
   ]
  },
  {
   "cell_type": "code",
   "execution_count": 11,
   "metadata": {},
   "outputs": [
    {
     "data": {
      "text/plain": [
       "5.064152996429954e-09"
      ]
     },
     "execution_count": 11,
     "metadata": {},
     "output_type": "execute_result"
    }
   ],
   "source": [
    "uni_map[\"recom_variable\"].mean()"
   ]
  },
  {
   "cell_type": "markdown",
   "metadata": {},
   "source": [
    "uni_map.to_csv(\"/faststorage/project/baboondiversity/data/haploidified_chrX_males/approx_rec_all_pos_centimorgan.recombfile\",\n",
    "              sep=\" \", index=False, columns=[\"start.pos\", \"recom_variable\"])"
   ]
  },
  {
   "cell_type": "markdown",
   "metadata": {},
   "source": [
    "Now I have the opposite problem - when removing sites with missing state, the recombination file is too big.\n",
    "It can just be subset."
   ]
  },
  {
   "cell_type": "code",
   "execution_count": 12,
   "metadata": {},
   "outputs": [
    {
     "data": {
      "text/plain": [
       "(2923212, 2440624, 0.8349117340788147)"
      ]
     },
     "execution_count": 12,
     "metadata": {},
     "output_type": "execute_result"
    }
   ],
   "source": [
    "len(uni_map), len(pos_list), len(pos_list)/len(uni_map)"
   ]
  },
  {
   "cell_type": "markdown",
   "metadata": {},
   "source": [
    "#Alternative solution, shown below.\n",
    "sum_recomb = []\n",
    "current_i = 0\n",
    "current_recomb = 0\n",
    "last_pos = pos_list[-1]\n",
    "for i, row in uni_map.loc[uni_map[\"start.pos\"] >= pos_list[0]].iterrows():\n",
    "    if pos_list[current_i+1] == last_pos:\n",
    "        sum_recomb.append(current_recomb)\n",
    "        sum_recomb.append(0)\n",
    "        break\n",
    "    if row[\"start.pos\"] >= pos_list[current_i+1]:\n",
    "        sum_recomb.append(current_recomb)\n",
    "        current_recomb = 0\n",
    "        current_i += 1\n",
    "    current_recomb = row.recom_variable"
   ]
  },
  {
   "cell_type": "code",
   "execution_count": 13,
   "metadata": {},
   "outputs": [],
   "source": [
    "subset_map = uni_map.loc[uni_map[\"start.pos\"].isin(pos_list)]"
   ]
  },
  {
   "cell_type": "code",
   "execution_count": 14,
   "metadata": {},
   "outputs": [
    {
     "data": {
      "text/plain": [
       "(0.010594553426710939, 4.340919955989396e-09)"
      ]
     },
     "execution_count": 14,
     "metadata": {},
     "output_type": "execute_result"
    }
   ],
   "source": [
    "sum(subset_map[\"recom_variable\"]), (subset_map[\"recom_variable\"]).mean()"
   ]
  },
  {
   "cell_type": "code",
   "execution_count": 17,
   "metadata": {},
   "outputs": [
    {
     "name": "stderr",
     "output_type": "stream",
     "text": [
      "/home/eriks/miniconda3/envs/baboondiversity/lib/python3.7/site-packages/ipykernel_launcher.py:1: SettingWithCopyWarning: \n",
      "A value is trying to be set on a copy of a slice from a DataFrame.\n",
      "Try using .loc[row_indexer,col_indexer] = value instead\n",
      "\n",
      "See the caveats in the documentation: https://pandas.pydata.org/pandas-docs/stable/user_guide/indexing.html#returning-a-view-versus-a-copy\n",
      "  \"\"\"Entry point for launching an IPython kernel.\n"
     ]
    }
   ],
   "source": [
    "subset_map[\"p_l\"] = np.append(subset_map[\"start.pos\"][1:], subset_map[\"start.pos\"][-1:])-subset_map[\"start.pos\"]"
   ]
  },
  {
   "cell_type": "code",
   "execution_count": 22,
   "metadata": {},
   "outputs": [
    {
     "data": {
      "text/plain": [
       "array([4.68590834e-09])"
      ]
     },
     "execution_count": 22,
     "metadata": {},
     "output_type": "execute_result"
    }
   ],
   "source": [
    "np.nansum(subset_map[\"recom_variable\"]*subset_map[\"p_l\"])/subset_map[\"start.pos\"][-1:].values"
   ]
  },
  {
   "cell_type": "code",
   "execution_count": 15,
   "metadata": {},
   "outputs": [
    {
     "data": {
      "text/plain": [
       "(0.014803592809073812, 1.5e-11)"
      ]
     },
     "execution_count": 15,
     "metadata": {},
     "output_type": "execute_result"
    }
   ],
   "source": [
    "sum(uni_map[\"recom_variable\"]), (uni_map[\"recom_variable\"]).median()"
   ]
  },
  {
   "cell_type": "code",
   "execution_count": 32,
   "metadata": {},
   "outputs": [
    {
     "name": "stderr",
     "output_type": "stream",
     "text": [
      "/home/eriks/miniconda3/envs/baboondiversity/lib/python3.7/site-packages/ipykernel_launcher.py:2: SettingWithCopyWarning: \n",
      "A value is trying to be set on a copy of a slice from a DataFrame.\n",
      "Try using .loc[row_indexer,col_indexer] = value instead\n",
      "\n",
      "See the caveats in the documentation: https://pandas.pydata.org/pandas-docs/stable/user_guide/indexing.html#returning-a-view-versus-a-copy\n",
      "  \n"
     ]
    },
    {
     "data": {
      "text/plain": [
       "3.255689966992048e-08"
      ]
     },
     "execution_count": 32,
     "metadata": {},
     "output_type": "execute_result"
    }
   ],
   "source": [
    "#Scaling it up to a reasonable number\n",
    "#subset_map[\"recom_variable\"] = subset_map[\"recom_variable\"]*10\n",
    "#(subset_map[\"recom_variable\"]).mean()"
   ]
  },
  {
   "cell_type": "code",
   "execution_count": 37,
   "metadata": {},
   "outputs": [
    {
     "data": {
      "text/plain": [
       "(3.255689966992048e-08, 2.5e-08)"
      ]
     },
     "execution_count": 37,
     "metadata": {},
     "output_type": "execute_result"
    }
   ],
   "source": [
    "(subset_map[\"recom_variable\"]).mean(), 2.5/(100*1000000)"
   ]
  },
  {
   "cell_type": "code",
   "execution_count": 23,
   "metadata": {},
   "outputs": [],
   "source": [
    "subset_map.to_csv(\"/faststorage/project/baboondiversity/data/haploidified_chrX_males/mmulrate_chrX.recombfile\",\n",
    "              sep=\" \", index=False, columns=[\"start.pos\", \"recom_variable\"])"
   ]
  },
  {
   "cell_type": "code",
   "execution_count": 39,
   "metadata": {},
   "outputs": [
    {
     "data": {
      "text/plain": [
       "(      start.pos  recom.rate.perbp  recom_variable\n",
       " 1011      21875      1.000000e-07    4.528875e-08\n",
       " 1112      24167      1.000000e-07    4.859575e-08\n",
       " 1487      34160      1.000000e-07    3.757500e-10\n",
       " 1657      37427      1.000000e-07    5.564600e-08\n",
       " 1936      42626      1.000000e-07    2.522525e-08\n",
       " 1981      43213      1.000000e-07    2.528425e-08\n",
       " 2638      57077      1.000000e-07    2.545575e-08\n",
       " 3982      86997      1.000000e-07    3.300000e-11\n",
       " 4183      92909      1.000000e-07    3.912500e-10\n",
       " 4214      93651      1.000000e-07    3.912500e-10,\n",
       " [21875, 24167, 34160, 37427, 42626, 43213, 57077, 86997, 92909, 93651])"
      ]
     },
     "execution_count": 39,
     "metadata": {},
     "output_type": "execute_result"
    }
   ],
   "source": [
    "subset_map[:10], pos_list[:10]"
   ]
  },
  {
   "cell_type": "markdown",
   "metadata": {},
   "source": [
    "A couple of checks of the uni_map and sum_map"
   ]
  },
  {
   "cell_type": "code",
   "execution_count": 40,
   "metadata": {},
   "outputs": [
    {
     "ename": "NameError",
     "evalue": "name 'sum_map' is not defined",
     "output_type": "error",
     "traceback": [
      "\u001b[0;31m---------------------------------------------------------------------------\u001b[0m",
      "\u001b[0;31mNameError\u001b[0m                                 Traceback (most recent call last)",
      "\u001b[0;32m<ipython-input-40-6482f3b10000>\u001b[0m in \u001b[0;36m<module>\u001b[0;34m\u001b[0m\n\u001b[0;32m----> 1\u001b[0;31m \u001b[0msum\u001b[0m\u001b[0;34m(\u001b[0m\u001b[0msum_map\u001b[0m\u001b[0;34m.\u001b[0m\u001b[0mrecom_variable\u001b[0m \u001b[0;34m<=\u001b[0m \u001b[0;36m0.000000000000001\u001b[0m\u001b[0;34m)\u001b[0m\u001b[0;34m\u001b[0m\u001b[0;34m\u001b[0m\u001b[0m\n\u001b[0m",
      "\u001b[0;31mNameError\u001b[0m: name 'sum_map' is not defined"
     ]
    }
   ],
   "source": [
    "sum(sum_map.recom_variable <= 0.000000000000001)"
   ]
  },
  {
   "cell_type": "code",
   "execution_count": null,
   "metadata": {},
   "outputs": [],
   "source": [
    "uni_map"
   ]
  },
  {
   "cell_type": "code",
   "execution_count": null,
   "metadata": {},
   "outputs": [],
   "source": [
    "g = sns.histplot(data=subset_map[:100000000], x=\"recom_variable\", bins=np.logspace(np.log10(0.0000000000001),np.log10(0.0001), 50))\n",
    "g.set_xscale(\"log\")"
   ]
  },
  {
   "cell_type": "code",
   "execution_count": null,
   "metadata": {},
   "outputs": [],
   "source": [
    "subset_map[\"recom_variable\"].mean(), subset_map[\"recom_variable\"].median()"
   ]
  },
  {
   "cell_type": "markdown",
   "metadata": {},
   "source": [
    "New implementation to generate recombination rate files - setting the overall recombination rate to 0.5cM/Mb (or 0.45cM/Mb)"
   ]
  },
  {
   "cell_type": "code",
   "execution_count": 10,
   "metadata": {},
   "outputs": [],
   "source": [
    "ldhat_path = \"/home/eriks/baboondiversity/data/PG_panu3_recombination_map/chr{}.map\"\n",
    "uniform_rec_path = \"/faststorage/project/baboondiversity/data/haploidified_chrX_males/uniform_rec.recombfile\"\n",
    "phase_file = \"/faststorage/project/baboondiversity/data/haploidified_chrX_males/chrX_v3.phase\""
   ]
  },
  {
   "cell_type": "code",
   "execution_count": 11,
   "metadata": {},
   "outputs": [],
   "source": [
    "ldhat_map = pd.read_csv(ldhat_path.format(\"X\"), sep=\"\\t\")\n",
    "zarr_dir = \"/faststorage/project/baboondiversity/data/PG_panu3_zarr_12_03_2021/callset.zarr/chr{}\"\n",
    "#Opening the zarr data\n",
    "callset = zarr.open_group(zarr_dir.format(\"X\"), mode=\"r\")"
   ]
  },
  {
   "cell_type": "code",
   "execution_count": 13,
   "metadata": {},
   "outputs": [
    {
     "name": "stdout",
     "output_type": "stream",
     "text": [
      "Mean cM/Mb 0.2583413567496823\n",
      "Chromosome-wide 0.20062675773912964\n",
      "number of ldhat pos and SNP 789090 4992526\n",
      "Finished  8\n"
     ]
    }
   ],
   "source": [
    "Ne = 40000\n",
    "df_l = []\n",
    "chromosome_numbers = ['{}'.format(x) for x in range(1, 21)] + ['X']\n",
    "for chrom in [\"8\"]:\n",
    "    if chrom == \"X\":\n",
    "        Ne = Ne/2\n",
    "    ldhat_map = pd.read_csv(ldhat_path.format(chrom), sep=\"\\t\")\n",
    "    zarr_dir = \"/faststorage/project/baboondiversity/data/PG_panu3_zarr_12_03_2021/callset.zarr/chr{}\"\n",
    "    #Opening the zarr data\n",
    "    callset = zarr.open_group(zarr_dir.format(chrom), mode=\"r\")\n",
    "    pos_array = callset[\"variants/POS\"][:]\n",
    "    ldhat_map[\"cM/Mb_temp\"] = ldhat_map.Mean_rho*1000*100/(4*Ne)\n",
    "    print(\"Mean cM/Mb\", ldhat_map[\"cM/Mb_temp\"].mean())\n",
    "    ldhat_map[\"i_l\"] = np.append(ldhat_map[\"POS\"][1:], ldhat_map[\"POS\"][-1:])-ldhat_map[\"POS\"]\n",
    "    print(\"Chromosome-wide\", np.nansum(ldhat_map[\"i_l\"]*ldhat_map[\"cM/Mb_temp\"])/sum(ldhat_map[\"POS\"][-1:]))\n",
    "    print(\"number of ldhat pos and SNP\", len(ldhat_map), len(pos_array))\n",
    "    extended_recomb = []\n",
    "    i = 0\n",
    "    max_i = len(ldhat_map)-1\n",
    "    for pos in pos_array:\n",
    "        if i == max_i:\n",
    "            extended_recomb.append(ldhat_map[\"cM/Mb_temp\"][i-1])\n",
    "        elif pos >= ldhat_map[\"POS\"][i]:\n",
    "            i += 1\n",
    "            extended_recomb.append(ldhat_map[\"cM/Mb_temp\"][max(i-1, 0)])\n",
    "        else:\n",
    "            extended_recomb.append(ldhat_map[\"cM/Mb_temp\"][max(i-1, 0)])\n",
    "    pos_l = np.append(pos_array[1:], pos_array[-1:])-pos_array\n",
    "    df = (pd.DataFrame(data={\"position\": pos_array, \"COMBINED_rate(cM/Mb)\": extended_recomb, \"pos_l\": pos_l}))\n",
    "    df[\"chromosome\"] = \"chr{}\".format(chrom)\n",
    "    df[\"Genetic_Map(cM)\"] = (df[\"pos_l\"]*df[\"COMBINED_rate(cM/Mb)\"]/1000000).cumsum()\n",
    "    df.to_csv(\"/home/eriks/baboondiversity/data/PG_panu3_recombination_map/genetic_map_chr{}.txt\".format(chrom),\n",
    "              sep=\" \", index=False, columns=[\"chromosome\", \"position\", \"COMBINED_rate(cM/Mb)\", \"Genetic_Map(cM)\"])\n",
    "    df_l.append(df)\n",
    "    print(\"Finished \", chrom)"
   ]
  },
  {
   "cell_type": "code",
   "execution_count": 195,
   "metadata": {},
   "outputs": [
    {
     "data": {
      "text/plain": [
       "0           0.000082\n",
       "1           0.000089\n",
       "2           0.000795\n",
       "3           0.000922\n",
       "4           0.001138\n",
       "             ...    \n",
       "5497840    59.496744\n",
       "5497841    59.496746\n",
       "5497842    59.496756\n",
       "5497843    59.496800\n",
       "5497844    59.496800\n",
       "Length: 5497845, dtype: float64"
      ]
     },
     "execution_count": 195,
     "metadata": {},
     "output_type": "execute_result"
    }
   ],
   "source": [
    "(df_l[0][\"pos_l\"]*df_l[0][\"COMBINED_rate(cM/Mb)\"]/1000000).cumsum()"
   ]
  },
  {
   "cell_type": "code",
   "execution_count": 170,
   "metadata": {},
   "outputs": [
    {
     "data": {
      "text/plain": [
       "[None, None]"
      ]
     },
     "execution_count": 170,
     "metadata": {},
     "output_type": "execute_result"
    },
    {
     "data": {
      "image/png": "[encoded data removed]",
      "text/plain": [
       "<Figure size 432x288 with 1 Axes>"
      ]
     },
     "metadata": {
      "image/png": {
       "height": 270,
       "width": 394
      }
     },
     "output_type": "display_data"
    }
   ],
   "source": [
    "m = 2\n",
    "g = sns.histplot(x=df_l[0][\"COMBINED_rate(cM/Mb)\"][m*100000:(m+1)*200000], bins=np.logspace(np.log10(0.00001),np.log10(1000), 50))\n",
    "g.set(xscale=\"log\", yscale=\"log\")"
   ]
  },
  {
   "cell_type": "code",
   "execution_count": 105,
   "metadata": {},
   "outputs": [
    {
     "data": {
      "text/html": [
       "<div>\n",
       "<style scoped>\n",
       "    .dataframe tbody tr th:only-of-type {\n",
       "        vertical-align: middle;\n",
       "    }\n",
       "\n",
       "    .dataframe tbody tr th {\n",
       "        vertical-align: top;\n",
       "    }\n",
       "\n",
       "    .dataframe thead th {\n",
       "        text-align: right;\n",
       "    }\n",
       "</style>\n",
       "<table border=\"1\" class=\"dataframe\">\n",
       "  <thead>\n",
       "    <tr style=\"text-align: right;\">\n",
       "      <th></th>\n",
       "      <th>position</th>\n",
       "      <th>COMBINED_rate(cM/Mb)</th>\n",
       "    </tr>\n",
       "  </thead>\n",
       "  <tbody>\n",
       "    <tr>\n",
       "      <th>0</th>\n",
       "      <td>37</td>\n",
       "      <td>5.20775</td>\n",
       "    </tr>\n",
       "    <tr>\n",
       "      <th>1</th>\n",
       "      <td>57</td>\n",
       "      <td>5.20775</td>\n",
       "    </tr>\n",
       "    <tr>\n",
       "      <th>2</th>\n",
       "      <td>157</td>\n",
       "      <td>5.20775</td>\n",
       "    </tr>\n",
       "    <tr>\n",
       "      <th>3</th>\n",
       "      <td>170</td>\n",
       "      <td>5.21355</td>\n",
       "    </tr>\n",
       "    <tr>\n",
       "      <th>4</th>\n",
       "      <td>216</td>\n",
       "      <td>5.21355</td>\n",
       "    </tr>\n",
       "    <tr>\n",
       "      <th>...</th>\n",
       "      <td>...</td>\n",
       "      <td>...</td>\n",
       "    </tr>\n",
       "    <tr>\n",
       "      <th>2923207</th>\n",
       "      <td>143691509</td>\n",
       "      <td>NaN</td>\n",
       "    </tr>\n",
       "    <tr>\n",
       "      <th>2923208</th>\n",
       "      <td>143691526</td>\n",
       "      <td>NaN</td>\n",
       "    </tr>\n",
       "    <tr>\n",
       "      <th>2923209</th>\n",
       "      <td>143691548</td>\n",
       "      <td>NaN</td>\n",
       "    </tr>\n",
       "    <tr>\n",
       "      <th>2923210</th>\n",
       "      <td>143691549</td>\n",
       "      <td>NaN</td>\n",
       "    </tr>\n",
       "    <tr>\n",
       "      <th>2923211</th>\n",
       "      <td>143691566</td>\n",
       "      <td>NaN</td>\n",
       "    </tr>\n",
       "  </tbody>\n",
       "</table>\n",
       "<p>2923212 rows × 2 columns</p>\n",
       "</div>"
      ],
      "text/plain": [
       "          position  COMBINED_rate(cM/Mb)\n",
       "0               37               5.20775\n",
       "1               57               5.20775\n",
       "2              157               5.20775\n",
       "3              170               5.21355\n",
       "4              216               5.21355\n",
       "...            ...                   ...\n",
       "2923207  143691509                   NaN\n",
       "2923208  143691526                   NaN\n",
       "2923209  143691548                   NaN\n",
       "2923210  143691549                   NaN\n",
       "2923211  143691566                   NaN\n",
       "\n",
       "[2923212 rows x 2 columns]"
      ]
     },
     "execution_count": 105,
     "metadata": {},
     "output_type": "execute_result"
    }
   ],
   "source": [
    "df_l[1]"
   ]
  },
  {
   "cell_type": "code",
   "execution_count": 14,
   "metadata": {},
   "outputs": [
    {
     "data": {
      "application/vnd.jupyter.widget-view+json": {
       "model_id": "1c47b1b763f341229a47011b2c743595",
       "version_major": 2,
       "version_minor": 0
      },
      "text/plain": [
       "Tree(nodes=(Node(disabled=True, name='/', nodes=(Node(disabled=True, name='calldata', nodes=(Node(disabled=Tru…"
      ]
     },
     "metadata": {},
     "output_type": "display_data"
    }
   ],
   "source": [
    "callset.tree()"
   ]
  },
  {
   "cell_type": "code",
   "execution_count": 58,
   "metadata": {},
   "outputs": [],
   "source": [
    "ldhat_map[\"i_l\"] = np.append(ldhat_map[\"POS\"][1:], ldhat_map[\"POS\"][-1:])-ldhat_map[\"POS\"]"
   ]
  },
  {
   "cell_type": "code",
   "execution_count": 59,
   "metadata": {},
   "outputs": [
    {
     "data": {
      "text/plain": [
       "0.706137020654888"
      ]
     },
     "execution_count": 59,
     "metadata": {},
     "output_type": "execute_result"
    }
   ],
   "source": [
    "np.nansum(ldhat_map[\"i_l\"]*ldhat_map[\"cM/Mb_temp\"])/sum(ldhat_map[\"POS\"][-1:])"
   ]
  }
 ],
 "metadata": {
  "kernelspec": {
   "display_name": "Python 3",
   "language": "python",
   "name": "python3"
  },
  "language_info": {
   "codemirror_mode": {
    "name": "ipython",
    "version": 3
   },
   "file_extension": ".py",
   "mimetype": "text/x-python",
   "name": "python",
   "nbconvert_exporter": "python",
   "pygments_lexer": "ipython3",
   "version": "3.7.9"
  }
 },
 "nbformat": 4,
 "nbformat_minor": 4
}
