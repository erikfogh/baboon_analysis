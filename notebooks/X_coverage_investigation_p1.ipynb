{
 "cells": [
  {
   "cell_type": "code",
   "execution_count": 8,
   "metadata": {},
   "outputs": [
    {
     "data": {
      "text/plain": [
       "<dask.config.set at 0x2b59aa2aca90>"
      ]
     },
     "execution_count": 8,
     "metadata": {},
     "output_type": "execute_result"
    }
   ],
   "source": [
    "#Initial configuration, probably overkill in imports.\n",
    "import sys, os, re\n",
    "import numpy as np\n",
    "import pandas as pd\n",
    "import allel\n",
    "import zarr\n",
    "import dask\n",
    "import numcodecs\n",
    "import warnings\n",
    "from pathlib import Path\n",
    "\n",
    "\n",
    "%matplotlib inline\n",
    "from IPython.display import set_matplotlib_formats\n",
    "set_matplotlib_formats('retina', 'png')\n",
    "import matplotlib\n",
    "import matplotlib.pyplot as plt\n",
    "from matplotlib.colors import ListedColormap\n",
    "import seaborn as sns\n",
    "sns.set()\n",
    "sns.set_style(\"white\")\n",
    "sns.set_context(\"notebook\")\n",
    "\n",
    "#Dask setup\n",
    "from multiprocessing.pool import ThreadPool\n",
    "import dask\n",
    "dask.config.set(pool=ThreadPool(int(os.environ['SLURM_CPUS_PER_TASK'])))"
   ]
  },
  {
   "cell_type": "code",
   "execution_count": 9,
   "metadata": {},
   "outputs": [
    {
     "name": "stderr",
     "output_type": "stream",
     "text": [
      "IOPub message rate exceeded.\n",
      "The notebook server will temporarily stop sending output\n",
      "to the client in order to avoid crashing it.\n",
      "To change this limit, set the config variable\n",
      "`--NotebookApp.iopub_msg_rate_limit`.\n",
      "\n",
      "Current values:\n",
      "NotebookApp.iopub_msg_rate_limit=1000.0 (msgs/sec)\n",
      "NotebookApp.rate_limit_window=3.0 (secs)\n",
      "\n"
     ]
    }
   ],
   "source": [
    "#Opening the zarr data\n",
    "callset = zarr.open_group('/faststorage/project/primatediversity/people/kmt/baboon_flagship/steps/callset.zarr', mode='r')\n",
    "callset.tree(expand=False)"
   ]
  },
  {
   "cell_type": "code",
   "execution_count": 11,
   "metadata": {},
   "outputs": [],
   "source": [
    "chromosomes = [f'chr{x}' for x in range(1, 21)] + ['chrX']\n",
    "meta_data = pd.read_excel('../data/Papio-Genomes_JR_120720_MR-CR-KM_geoloc.xlsx')\n",
    "baboon_samples = [x for x in meta_data.PGDP_ID if x.startswith('PD')] #  NB: to not get the SciAdvPaper samples\n",
    "#Meta data for the sample present in the zarr data structure - Kasper has removed some of the samples.\n",
    "samples_list = list(callset['chr1/samples'][:])\n",
    "meta_data_samples = meta_data.loc[meta_data.PGDP_ID.isin(samples_list)].copy()\n",
    "samples_callset_index = [samples_list.index(s) for s in meta_data_samples.PGDP_ID]\n",
    "meta_data_samples['callset_index'] = samples_callset_index"
   ]
  },
  {
   "cell_type": "code",
   "execution_count": 12,
   "metadata": {},
   "outputs": [],
   "source": [
    "#Opening the tables generated in heterozygosity_windows\n",
    "het_counts_path = \"../steps/het_counts_windows_{}.txt\"\n",
    "callability_percentage_path = \"../steps/callability_windows_{}.txt\"\n",
    "het_list = []\n",
    "call_list = []\n",
    "for chrom in chromosomes:\n",
    "    df = pd.read_table(het_counts_path.format(chrom), sep = \" \")\n",
    "    het_list.append(df)\n",
    "    #df = pd.read_table(callability_percentage_path.format(chrom), sep = \" \")\n",
    "    #call_list.append(df)\n",
    "het_df = pd.concat(het_list, axis=0)\n",
    "#There are some columns with NaN, replacing those with 0\n",
    "het_df[\"het\"] = het_df[\"het\"].fillna(0)\n",
    "#Renaming columns to make horizonplot work\n",
    "het_df.rename(columns = {\"window\": \"start\", \"chr\": \"chrom\", \"PGDP_ID\": \"pop\"}, inplace=True)"
   ]
  },
  {
   "cell_type": "code",
   "execution_count": 13,
   "metadata": {},
   "outputs": [
    {
     "data": {
      "text/html": [
       "<div>\n",
       "<style scoped>\n",
       "    .dataframe tbody tr th:only-of-type {\n",
       "        vertical-align: middle;\n",
       "    }\n",
       "\n",
       "    .dataframe tbody tr th {\n",
       "        vertical-align: top;\n",
       "    }\n",
       "\n",
       "    .dataframe thead th {\n",
       "        text-align: right;\n",
       "    }\n",
       "</style>\n",
       "<table border=\"1\" class=\"dataframe\">\n",
       "  <thead>\n",
       "    <tr style=\"text-align: right;\">\n",
       "      <th></th>\n",
       "      <th>Unnamed: 0</th>\n",
       "      <th>PGDP_ID</th>\n",
       "      <th>Provider_ID</th>\n",
       "      <th>Provider</th>\n",
       "      <th>Genus</th>\n",
       "      <th>Species</th>\n",
       "      <th>Origin</th>\n",
       "      <th>Sex</th>\n",
       "      <th>address</th>\n",
       "      <th>longitude</th>\n",
       "      <th>latitude</th>\n",
       "      <th>callset_index</th>\n",
       "    </tr>\n",
       "  </thead>\n",
       "  <tbody>\n",
       "    <tr>\n",
       "      <th>1</th>\n",
       "      <td>1</td>\n",
       "      <td>PD_0199</td>\n",
       "      <td>09SNF1101115</td>\n",
       "      <td>Knauf/Chuma/Roos</td>\n",
       "      <td>Papio</td>\n",
       "      <td>anubis</td>\n",
       "      <td>Serengeti, Tanzania</td>\n",
       "      <td>F</td>\n",
       "      <td>Serengeti, Mara, Lake Zone, Tanzania</td>\n",
       "      <td>34.742544</td>\n",
       "      <td>-1.996626</td>\n",
       "      <td>0</td>\n",
       "    </tr>\n",
       "    <tr>\n",
       "      <th>2</th>\n",
       "      <td>2</td>\n",
       "      <td>PD_0200</td>\n",
       "      <td>11SNF1101115</td>\n",
       "      <td>Knauf/Chuma/Roos</td>\n",
       "      <td>Papio</td>\n",
       "      <td>anubis</td>\n",
       "      <td>Serengeti, Tanzania</td>\n",
       "      <td>F</td>\n",
       "      <td>Serengeti, Mara, Lake Zone, Tanzania</td>\n",
       "      <td>34.742544</td>\n",
       "      <td>-1.996626</td>\n",
       "      <td>1</td>\n",
       "    </tr>\n",
       "    <tr>\n",
       "      <th>3</th>\n",
       "      <td>3</td>\n",
       "      <td>PD_0201</td>\n",
       "      <td>19SNM1131115</td>\n",
       "      <td>Knauf/Chuma/Roos</td>\n",
       "      <td>Papio</td>\n",
       "      <td>anubis</td>\n",
       "      <td>Serengeti, Tanzania</td>\n",
       "      <td>M</td>\n",
       "      <td>Serengeti, Mara, Lake Zone, Tanzania</td>\n",
       "      <td>34.742544</td>\n",
       "      <td>-1.996626</td>\n",
       "      <td>2</td>\n",
       "    </tr>\n",
       "    <tr>\n",
       "      <th>4</th>\n",
       "      <td>4</td>\n",
       "      <td>PD_0202</td>\n",
       "      <td>20SNF1131115</td>\n",
       "      <td>Knauf/Chuma/Roos</td>\n",
       "      <td>Papio</td>\n",
       "      <td>anubis</td>\n",
       "      <td>Serengeti, Tanzania</td>\n",
       "      <td>F</td>\n",
       "      <td>Serengeti, Mara, Lake Zone, Tanzania</td>\n",
       "      <td>34.742544</td>\n",
       "      <td>-1.996626</td>\n",
       "      <td>3</td>\n",
       "    </tr>\n",
       "    <tr>\n",
       "      <th>5</th>\n",
       "      <td>5</td>\n",
       "      <td>PD_0203</td>\n",
       "      <td>21SNF1151115</td>\n",
       "      <td>Knauf/Chuma/Roos</td>\n",
       "      <td>Papio</td>\n",
       "      <td>anubis</td>\n",
       "      <td>Serengeti, Tanzania</td>\n",
       "      <td>F</td>\n",
       "      <td>Serengeti, Mara, Lake Zone, Tanzania</td>\n",
       "      <td>34.742544</td>\n",
       "      <td>-1.996626</td>\n",
       "      <td>4</td>\n",
       "    </tr>\n",
       "    <tr>\n",
       "      <th>...</th>\n",
       "      <td>...</td>\n",
       "      <td>...</td>\n",
       "      <td>...</td>\n",
       "      <td>...</td>\n",
       "      <td>...</td>\n",
       "      <td>...</td>\n",
       "      <td>...</td>\n",
       "      <td>...</td>\n",
       "      <td>...</td>\n",
       "      <td>...</td>\n",
       "      <td>...</td>\n",
       "      <td>...</td>\n",
       "    </tr>\n",
       "    <tr>\n",
       "      <th>212</th>\n",
       "      <td>212</td>\n",
       "      <td>PD_0789</td>\n",
       "      <td>34417_BZ11064</td>\n",
       "      <td>Rogers/Jolly/Phillips-Conroy</td>\n",
       "      <td>Papio</td>\n",
       "      <td>kindae</td>\n",
       "      <td>Chunga, Zambia</td>\n",
       "      <td>F</td>\n",
       "      <td>Chunga, Mumbwa District, Central Province, Zambia</td>\n",
       "      <td>26.005210</td>\n",
       "      <td>-15.053557</td>\n",
       "      <td>155</td>\n",
       "    </tr>\n",
       "    <tr>\n",
       "      <th>213</th>\n",
       "      <td>213</td>\n",
       "      <td>PD_0790</td>\n",
       "      <td>34418_BZ11065</td>\n",
       "      <td>Rogers/Jolly/Phillips-Conroy</td>\n",
       "      <td>Papio</td>\n",
       "      <td>kindae</td>\n",
       "      <td>Chunga, Zambia</td>\n",
       "      <td>F</td>\n",
       "      <td>Chunga, Mumbwa District, Central Province, Zambia</td>\n",
       "      <td>26.005210</td>\n",
       "      <td>-15.053557</td>\n",
       "      <td>156</td>\n",
       "    </tr>\n",
       "    <tr>\n",
       "      <th>214</th>\n",
       "      <td>214</td>\n",
       "      <td>PD_0791</td>\n",
       "      <td>34419_BZ11066</td>\n",
       "      <td>Rogers/Jolly/Phillips-Conroy</td>\n",
       "      <td>Papio</td>\n",
       "      <td>kindae</td>\n",
       "      <td>Chunga, Zambia</td>\n",
       "      <td>F</td>\n",
       "      <td>Chunga, Mumbwa District, Central Province, Zambia</td>\n",
       "      <td>26.005210</td>\n",
       "      <td>-15.053557</td>\n",
       "      <td>157</td>\n",
       "    </tr>\n",
       "    <tr>\n",
       "      <th>215</th>\n",
       "      <td>215</td>\n",
       "      <td>PD_0792</td>\n",
       "      <td>34420_BZ11067</td>\n",
       "      <td>Rogers/Jolly/Phillips-Conroy</td>\n",
       "      <td>Papio</td>\n",
       "      <td>kindae</td>\n",
       "      <td>Chunga, Zambia</td>\n",
       "      <td>F</td>\n",
       "      <td>Chunga, Mumbwa District, Central Province, Zambia</td>\n",
       "      <td>26.005210</td>\n",
       "      <td>-15.053557</td>\n",
       "      <td>158</td>\n",
       "    </tr>\n",
       "    <tr>\n",
       "      <th>216</th>\n",
       "      <td>216</td>\n",
       "      <td>PD_0793</td>\n",
       "      <td>34422_BZ11070</td>\n",
       "      <td>Rogers/Jolly/Phillips-Conroy</td>\n",
       "      <td>Papio</td>\n",
       "      <td>kindae</td>\n",
       "      <td>Chunga, Zambia</td>\n",
       "      <td>M</td>\n",
       "      <td>Chunga, Mumbwa District, Central Province, Zambia</td>\n",
       "      <td>26.005210</td>\n",
       "      <td>-15.053557</td>\n",
       "      <td>159</td>\n",
       "    </tr>\n",
       "  </tbody>\n",
       "</table>\n",
       "<p>160 rows × 12 columns</p>\n",
       "</div>"
      ],
      "text/plain": [
       "     Unnamed: 0  PGDP_ID    Provider_ID                      Provider  Genus  \\\n",
       "1             1  PD_0199   09SNF1101115              Knauf/Chuma/Roos  Papio   \n",
       "2             2  PD_0200   11SNF1101115              Knauf/Chuma/Roos  Papio   \n",
       "3             3  PD_0201   19SNM1131115              Knauf/Chuma/Roos  Papio   \n",
       "4             4  PD_0202   20SNF1131115              Knauf/Chuma/Roos  Papio   \n",
       "5             5  PD_0203   21SNF1151115              Knauf/Chuma/Roos  Papio   \n",
       "..          ...      ...            ...                           ...    ...   \n",
       "212         212  PD_0789  34417_BZ11064  Rogers/Jolly/Phillips-Conroy  Papio   \n",
       "213         213  PD_0790  34418_BZ11065  Rogers/Jolly/Phillips-Conroy  Papio   \n",
       "214         214  PD_0791  34419_BZ11066  Rogers/Jolly/Phillips-Conroy  Papio   \n",
       "215         215  PD_0792  34420_BZ11067  Rogers/Jolly/Phillips-Conroy  Papio   \n",
       "216         216  PD_0793  34422_BZ11070  Rogers/Jolly/Phillips-Conroy  Papio   \n",
       "\n",
       "    Species               Origin Sex  \\\n",
       "1    anubis  Serengeti, Tanzania   F   \n",
       "2    anubis  Serengeti, Tanzania   F   \n",
       "3    anubis  Serengeti, Tanzania   M   \n",
       "4    anubis  Serengeti, Tanzania   F   \n",
       "5    anubis  Serengeti, Tanzania   F   \n",
       "..      ...                  ...  ..   \n",
       "212  kindae       Chunga, Zambia   F   \n",
       "213  kindae       Chunga, Zambia   F   \n",
       "214  kindae       Chunga, Zambia   F   \n",
       "215  kindae       Chunga, Zambia   F   \n",
       "216  kindae       Chunga, Zambia   M   \n",
       "\n",
       "                                               address  longitude   latitude  \\\n",
       "1                 Serengeti, Mara, Lake Zone, Tanzania  34.742544  -1.996626   \n",
       "2                 Serengeti, Mara, Lake Zone, Tanzania  34.742544  -1.996626   \n",
       "3                 Serengeti, Mara, Lake Zone, Tanzania  34.742544  -1.996626   \n",
       "4                 Serengeti, Mara, Lake Zone, Tanzania  34.742544  -1.996626   \n",
       "5                 Serengeti, Mara, Lake Zone, Tanzania  34.742544  -1.996626   \n",
       "..                                                 ...        ...        ...   \n",
       "212  Chunga, Mumbwa District, Central Province, Zambia  26.005210 -15.053557   \n",
       "213  Chunga, Mumbwa District, Central Province, Zambia  26.005210 -15.053557   \n",
       "214  Chunga, Mumbwa District, Central Province, Zambia  26.005210 -15.053557   \n",
       "215  Chunga, Mumbwa District, Central Province, Zambia  26.005210 -15.053557   \n",
       "216  Chunga, Mumbwa District, Central Province, Zambia  26.005210 -15.053557   \n",
       "\n",
       "     callset_index  \n",
       "1                0  \n",
       "2                1  \n",
       "3                2  \n",
       "4                3  \n",
       "5                4  \n",
       "..             ...  \n",
       "212            155  \n",
       "213            156  \n",
       "214            157  \n",
       "215            158  \n",
       "216            159  \n",
       "\n",
       "[160 rows x 12 columns]"
      ]
     },
     "execution_count": 13,
     "metadata": {},
     "output_type": "execute_result"
    }
   ],
   "source": [
    "meta_data_samples"
   ]
  },
  {
   "cell_type": "code",
   "execution_count": 10,
   "metadata": {},
   "outputs": [
    {
     "name": "stdout",
     "output_type": "stream",
     "text": [
      "1\n",
      "2\n",
      "3\n",
      "4\n",
      "5\n",
      "6\n",
      "7\n",
      "8\n",
      "9\n",
      "10\n",
      "11\n",
      "12\n",
      "13\n",
      "14\n",
      "15\n",
      "16\n",
      "17\n",
      "18\n",
      "19\n",
      "20\n",
      "21\n",
      "22\n",
      "23\n",
      "24\n",
      "25\n",
      "26\n",
      "27\n",
      "28\n",
      "29\n",
      "30\n",
      "31\n",
      "32\n",
      "33\n",
      "34\n",
      "35\n",
      "36\n",
      "37\n",
      "38\n",
      "39\n",
      "40\n",
      "41\n",
      "42\n",
      "43\n",
      "44\n",
      "45\n",
      "46\n",
      "55\n",
      "56\n",
      "57\n",
      "58\n",
      "59\n",
      "60\n",
      "61\n",
      "62\n",
      "63\n",
      "64\n",
      "65\n",
      "66\n",
      "115\n",
      "116\n",
      "117\n",
      "118\n",
      "119\n",
      "120\n",
      "121\n",
      "122\n",
      "123\n",
      "124\n",
      "125\n",
      "126\n",
      "127\n",
      "128\n",
      "129\n",
      "130\n",
      "131\n",
      "132\n",
      "133\n",
      "134\n",
      "135\n",
      "136\n",
      "137\n",
      "138\n",
      "139\n",
      "140\n",
      "141\n",
      "142\n",
      "143\n",
      "144\n",
      "145\n",
      "146\n",
      "147\n",
      "148\n",
      "149\n",
      "150\n",
      "151\n",
      "152\n",
      "153\n",
      "154\n",
      "155\n",
      "156\n",
      "157\n",
      "158\n",
      "159\n",
      "160\n",
      "161\n",
      "162\n",
      "163\n",
      "164\n",
      "165\n",
      "166\n",
      "167\n",
      "168\n",
      "169\n",
      "170\n",
      "171\n",
      "172\n",
      "173\n",
      "174\n",
      "175\n",
      "176\n",
      "177\n",
      "178\n",
      "179\n",
      "180\n",
      "181\n",
      "182\n",
      "183\n",
      "184\n",
      "185\n",
      "186\n",
      "187\n",
      "188\n",
      "189\n",
      "190\n",
      "191\n",
      "192\n",
      "193\n",
      "194\n",
      "195\n",
      "196\n",
      "197\n",
      "198\n",
      "199\n",
      "200\n",
      "201\n",
      "202\n",
      "203\n",
      "204\n",
      "205\n",
      "206\n",
      "207\n",
      "208\n",
      "209\n",
      "210\n",
      "211\n",
      "212\n",
      "213\n",
      "214\n",
      "215\n",
      "216\n"
     ]
    }
   ],
   "source": [
    "#Checking that the vcf and the zarr dataset contains the same number of heterozygous sites on the X in a specific individual\n",
    "gt_zarr = callset[\"chr4/calldata/GT\"]\n",
    "gt = allel.GenotypeDaskArray(gt_zarr)\n",
    "#Using individual PD_0201\n",
    "x_zarr = []\n",
    "x_vcf = []\n",
    "id_list = []\n",
    "sex_list = []\n",
    "#Opening the vcf file to do the same\n",
    "vcf_dir = \"/faststorage/project/primatediversity/data/variants/\"\n",
    "vcf_suffix = \".variable.filtered.HF.snps.vcf.gz\"\n",
    "metainfo = \"data/New_Papio.xlsx\"\n",
    "#Changed to check all\n",
    "for index, individual in meta_data_samples.iterrows():\n",
    "    #zarr\n",
    "    ID = individual.PGDP_ID\n",
    "    id_list.append(ID)\n",
    "    sex_list.append(individual.Sex)\n",
    "    specific_individual = meta_data_samples[meta_data_samples.PGDP_ID == ID].callset_index.values\n",
    "    individual = (gt.take(specific_individual, axis=1))\n",
    "    x_zarr.append(individual.count_het())\n",
    "    \n",
    "    #vcf\n",
    "    vcf_callset = allel.read_vcf(vcf_dir+ID+vcf_suffix, region=\"chr4\")\n",
    "    vcf_gt = allel.GenotypeArray(vcf_callset[\"calldata/GT\"])\n",
    "    x_vcf.append(vcf_gt.count_het())\n",
    "    print(index)\n",
    "\n",
    "#So it can be seen that some sites are masked in the zarr dataset, but it has not added unknown sites.\n",
    "zarr_vs_vsf = pd.DataFrame(list(zip(id_list, sex_list, x_zarr, x_vcf)), columns = [\"PGDP_ID\", \"sex\", \"zarr_het\", \"vcf_het\"])\n",
    "zarr_vs_vsf.to_csv(\"../steps/zarr_vs_vcf_chr4.txt\", sep = \" \")"
   ]
  },
  {
   "cell_type": "code",
   "execution_count": 11,
   "metadata": {},
   "outputs": [
    {
     "data": {
      "text/html": [
       "<div>\n",
       "<style scoped>\n",
       "    .dataframe tbody tr th:only-of-type {\n",
       "        vertical-align: middle;\n",
       "    }\n",
       "\n",
       "    .dataframe tbody tr th {\n",
       "        vertical-align: top;\n",
       "    }\n",
       "\n",
       "    .dataframe thead th {\n",
       "        text-align: right;\n",
       "    }\n",
       "</style>\n",
       "<table border=\"1\" class=\"dataframe\">\n",
       "  <thead>\n",
       "    <tr style=\"text-align: right;\">\n",
       "      <th></th>\n",
       "      <th>PGDP_ID</th>\n",
       "      <th>sex</th>\n",
       "      <th>zarr_het</th>\n",
       "      <th>vcf_het</th>\n",
       "    </tr>\n",
       "  </thead>\n",
       "  <tbody>\n",
       "    <tr>\n",
       "      <th>0</th>\n",
       "      <td>PD_0199</td>\n",
       "      <td>F</td>\n",
       "      <td>314928</td>\n",
       "      <td>317158</td>\n",
       "    </tr>\n",
       "    <tr>\n",
       "      <th>1</th>\n",
       "      <td>PD_0200</td>\n",
       "      <td>F</td>\n",
       "      <td>311839</td>\n",
       "      <td>313901</td>\n",
       "    </tr>\n",
       "    <tr>\n",
       "      <th>2</th>\n",
       "      <td>PD_0201</td>\n",
       "      <td>M</td>\n",
       "      <td>327877</td>\n",
       "      <td>330222</td>\n",
       "    </tr>\n",
       "    <tr>\n",
       "      <th>3</th>\n",
       "      <td>PD_0202</td>\n",
       "      <td>F</td>\n",
       "      <td>317881</td>\n",
       "      <td>320148</td>\n",
       "    </tr>\n",
       "    <tr>\n",
       "      <th>4</th>\n",
       "      <td>PD_0203</td>\n",
       "      <td>F</td>\n",
       "      <td>315374</td>\n",
       "      <td>317375</td>\n",
       "    </tr>\n",
       "    <tr>\n",
       "      <th>...</th>\n",
       "      <td>...</td>\n",
       "      <td>...</td>\n",
       "      <td>...</td>\n",
       "      <td>...</td>\n",
       "    </tr>\n",
       "    <tr>\n",
       "      <th>155</th>\n",
       "      <td>PD_0789</td>\n",
       "      <td>F</td>\n",
       "      <td>330201</td>\n",
       "      <td>332568</td>\n",
       "    </tr>\n",
       "    <tr>\n",
       "      <th>156</th>\n",
       "      <td>PD_0790</td>\n",
       "      <td>F</td>\n",
       "      <td>479876</td>\n",
       "      <td>482990</td>\n",
       "    </tr>\n",
       "    <tr>\n",
       "      <th>157</th>\n",
       "      <td>PD_0791</td>\n",
       "      <td>F</td>\n",
       "      <td>462584</td>\n",
       "      <td>465927</td>\n",
       "    </tr>\n",
       "    <tr>\n",
       "      <th>158</th>\n",
       "      <td>PD_0792</td>\n",
       "      <td>F</td>\n",
       "      <td>464394</td>\n",
       "      <td>467772</td>\n",
       "    </tr>\n",
       "    <tr>\n",
       "      <th>159</th>\n",
       "      <td>PD_0793</td>\n",
       "      <td>M</td>\n",
       "      <td>467173</td>\n",
       "      <td>470336</td>\n",
       "    </tr>\n",
       "  </tbody>\n",
       "</table>\n",
       "<p>160 rows × 4 columns</p>\n",
       "</div>"
      ],
      "text/plain": [
       "     PGDP_ID sex  zarr_het  vcf_het\n",
       "0    PD_0199   F    314928   317158\n",
       "1    PD_0200   F    311839   313901\n",
       "2    PD_0201   M    327877   330222\n",
       "3    PD_0202   F    317881   320148\n",
       "4    PD_0203   F    315374   317375\n",
       "..       ...  ..       ...      ...\n",
       "155  PD_0789   F    330201   332568\n",
       "156  PD_0790   F    479876   482990\n",
       "157  PD_0791   F    462584   465927\n",
       "158  PD_0792   F    464394   467772\n",
       "159  PD_0793   M    467173   470336\n",
       "\n",
       "[160 rows x 4 columns]"
      ]
     },
     "execution_count": 11,
     "metadata": {},
     "output_type": "execute_result"
    }
   ],
   "source": [
    "#There is a difference on the X 4, and 20\n",
    "#There is not a difference on chr 4\n",
    "zarr_vs_vsf"
   ]
  },
  {
   "cell_type": "code",
   "execution_count": 12,
   "metadata": {},
   "outputs": [
    {
     "data": {
      "text/plain": [
       "0.9932356342534152"
      ]
     },
     "execution_count": 12,
     "metadata": {},
     "output_type": "execute_result"
    },
    {
     "data": {
      "image/png": "[encoded data removed]",
      "text/plain": [
       "<Figure size 432x288 with 1 Axes>"
      ]
     },
     "metadata": {
      "image/png": {
       "height": 267,
       "width": 417
      }
     },
     "output_type": "display_data"
    }
   ],
   "source": [
    "sns.scatterplot(data =zarr_vs_vsf, x = \"zarr_het\", y = \"vcf_het\", hue = \"sex\")\n",
    "sum(x_zarr)/sum(x_vcf)"
   ]
  },
  {
   "cell_type": "code",
   "execution_count": 5,
   "metadata": {},
   "outputs": [
    {
     "name": "stdout",
     "output_type": "stream",
     "text": [
      "3609325\n",
      "3609325\n"
     ]
    }
   ],
   "source": [
    "#Checking the sites that are removed from the zarr\n",
    "merged_vcfs = \"/faststorage/project/primatediversity/people/kmt/baboon_flagship/steps/merged_vcfs/\"\n",
    "vcf_callset = allel.read_vcf(merged_vcfs+\"chrX.vcf.gz\", region=\"chrX\")\n",
    "callset[\"chrX/variants/POS\"]\n",
    "vcf_callset[\"variants/POS\"]\n",
    "#\n",
    "print(len(vcf_callset[\"variants/POS\"])) #Are the same\n",
    "print(len(callset[\"chrX/variants/POS\"]))#Are the same"
   ]
  },
  {
   "cell_type": "code",
   "execution_count": 6,
   "metadata": {},
   "outputs": [],
   "source": [
    "#Checking for PD_0201\n",
    "ID = \"PD_0201\"\n",
    "gt_zarr = callset[\"chrX/calldata/GT\"]\n",
    "gt = allel.GenotypeDaskArray(gt_zarr)\n",
    "specific_individual = meta_data_samples[meta_data_samples.PGDP_ID == ID].callset_index.values\n",
    "individual = (gt.take(specific_individual, axis=1))\n",
    "zarr_het = individual.count_het()\n",
    "zarr_length = len(individual)"
   ]
  },
  {
   "cell_type": "code",
   "execution_count": 7,
   "metadata": {},
   "outputs": [],
   "source": [
    "#Merged vcf\n",
    "merged_vcfs = \"/faststorage/project/primatediversity/people/kmt/baboon_flagship/steps/merged_vcfs/\"\n",
    "merged_callset = allel.read_vcf(merged_vcfs+\"chrX.vcf.gz\", region=\"chrX\")\n",
    "merged_gt = allel.GenotypeArray(merged_callset[\"calldata/GT\"])\n",
    "individual_merged = (merged_gt.take(specific_individual, axis=1))\n",
    "merged_het = individual_merged.count_het()\n",
    "merged_length = len(individual_merged)"
   ]
  },
  {
   "cell_type": "code",
   "execution_count": 8,
   "metadata": {},
   "outputs": [],
   "source": [
    "#Individual vcf\n",
    "vcf_callset = allel.read_vcf(vcf_dir+ID+vcf_suffix, region=\"chrX\")\n",
    "vcf_gt = allel.GenotypeArray(vcf_callset[\"calldata/GT\"])\n",
    "vcf_het = vcf_gt.count_het()\n",
    "vcf_length = len(vcf_gt)"
   ]
  },
  {
   "cell_type": "code",
   "execution_count": 9,
   "metadata": {},
   "outputs": [
    {
     "name": "stdout",
     "output_type": "stream",
     "text": [
      "60873 61000 61000\n",
      "3609325 3609325 1303896\n"
     ]
    }
   ],
   "source": [
    "#There is a match between merged and vcf in heterozygosity, while there is a number of site match between zarr and merged.\n",
    "#This indicates that some part of the zarr creation process masks heterozygous sites.\n",
    "print(zarr_het, merged_het, vcf_het)\n",
    "print(zarr_length, merged_length, vcf_length)"
   ]
  },
  {
   "cell_type": "code",
   "execution_count": 10,
   "metadata": {},
   "outputs": [],
   "source": [
    "#Making an array and then comparing them to find sites which are masked.\n",
    "het_sites_zarr = individual.is_het().compute() #Need to use compute here\n",
    "het_sites_merged = individual_merged.is_het()"
   ]
  },
  {
   "cell_type": "code",
   "execution_count": 11,
   "metadata": {},
   "outputs": [
    {
     "name": "stdout",
     "output_type": "stream",
     "text": [
      "60873 61000\n"
     ]
    }
   ],
   "source": [
    "print(het_sites_zarr.sum(), het_sites_merged.sum())"
   ]
  },
  {
   "cell_type": "code",
   "execution_count": 12,
   "metadata": {},
   "outputs": [],
   "source": [
    "#Finding the index positions\n",
    "only_zarr = []\n",
    "only_merged = []\n",
    "for i in range(len(het_sites_zarr)):\n",
    "    if het_sites_zarr[i] != het_sites_merged[i]:\n",
    "        if het_sites_zarr[i] == True:\n",
    "            only_zarr.append(i)\n",
    "        else:\n",
    "            only_merged.append(i)"
   ]
  },
  {
   "cell_type": "code",
   "execution_count": 13,
   "metadata": {},
   "outputs": [
    {
     "name": "stdout",
     "output_type": "stream",
     "text": [
      "0\n",
      "127\n"
     ]
    }
   ],
   "source": [
    "print(len(only_zarr))\n",
    "print(len(only_merged))"
   ]
  },
  {
   "cell_type": "code",
   "execution_count": 14,
   "metadata": {},
   "outputs": [
    {
     "data": {
      "text/html": [
       "<div class=\"allel allel-DisplayAs2D\"><span>&lt;GenotypeDaskArray shape=(127, 1, 2) dtype=int8&gt;</span><table><thead><tr><th></th><th style=\"text-align: center\">0</th></tr></thead><tbody><tr><th style=\"text-align: center; background-color: white; border-right: 1px solid black; \">0</th><td style=\"text-align: center\">./.</td></tr><tr><th style=\"text-align: center; background-color: white; border-right: 1px solid black; \">1</th><td style=\"text-align: center\">./.</td></tr><tr><th style=\"text-align: center; background-color: white; border-right: 1px solid black; \">2</th><td style=\"text-align: center\">./.</td></tr><tr><th style=\"text-align: center; background-color: white; border-right: 1px solid black; \">...</th><td style=\"text-align: center\" colspan=\"2\">...</td></tr><tr><th style=\"text-align: center; background-color: white; border-right: 1px solid black; \">124</th><td style=\"text-align: center\">./.</td></tr><tr><th style=\"text-align: center; background-color: white; border-right: 1px solid black; \">125</th><td style=\"text-align: center\">./.</td></tr><tr><th style=\"text-align: center; background-color: white; border-right: 1px solid black; \">126</th><td style=\"text-align: center\">./.</td></tr></tbody></table></div>"
      ],
      "text/plain": [
       "<GenotypeDaskArray shape=(127, 1, 2) dtype=int8>"
      ]
     },
     "execution_count": 14,
     "metadata": {},
     "output_type": "execute_result"
    }
   ],
   "source": [
    "#As the merged and zarr have the same number of sites, this can be leveraged.\n",
    "(individual.take(only_merged, axis=0)) #All sites in the zarr are ./."
   ]
  },
  {
   "cell_type": "code",
   "execution_count": 15,
   "metadata": {},
   "outputs": [
    {
     "data": {
      "text/html": [
       "<div class=\"allel allel-DisplayAs2D\"><span>&lt;GenotypeArray shape=(127, 1, 2) dtype=int8&gt;</span><table><thead><tr><th></th><th style=\"text-align: center\">0</th></tr></thead><tbody><tr><th style=\"text-align: center; background-color: white; border-right: 1px solid black; \">0</th><td style=\"text-align: center\">0/1</td></tr><tr><th style=\"text-align: center; background-color: white; border-right: 1px solid black; \">1</th><td style=\"text-align: center\">0/1</td></tr><tr><th style=\"text-align: center; background-color: white; border-right: 1px solid black; \">2</th><td style=\"text-align: center\">0/1</td></tr><tr><th style=\"text-align: center; background-color: white; border-right: 1px solid black; \">...</th><td style=\"text-align: center\" colspan=\"2\">...</td></tr><tr><th style=\"text-align: center; background-color: white; border-right: 1px solid black; \">124</th><td style=\"text-align: center\">0/1</td></tr><tr><th style=\"text-align: center; background-color: white; border-right: 1px solid black; \">125</th><td style=\"text-align: center\">0/1</td></tr><tr><th style=\"text-align: center; background-color: white; border-right: 1px solid black; \">126</th><td style=\"text-align: center\">0/1</td></tr></tbody></table></div>"
      ],
      "text/plain": [
       "<GenotypeArray shape=(127, 1, 2) dtype=int8>\n",
       "0/1\n",
       "0/1\n",
       "0/1\n",
       "...\n",
       "0/1\n",
       "0/1\n",
       "0/1"
      ]
     },
     "execution_count": 15,
     "metadata": {},
     "output_type": "execute_result"
    }
   ],
   "source": [
    "(individual_merged.take(only_merged, axis=0)) #All sites in the merged is 0/1"
   ]
  },
  {
   "cell_type": "code",
   "execution_count": 16,
   "metadata": {},
   "outputs": [],
   "source": [
    "#Callability data\n",
    "called_interv = zarr.open_group('/faststorage/project/primatediversity/people/kmt/baboon_flagship/steps/called_interv.zarr', mode='r')\n",
    "#called_interv.tree(expand=False)"
   ]
  },
  {
   "cell_type": "code",
   "execution_count": 17,
   "metadata": {},
   "outputs": [],
   "source": [
    "ID = \"PD_0201\"\n",
    "pos = callset[\"chrX/variants/POS\"]\n",
    "pos_merged = [pos[i] for i in only_merged]"
   ]
  },
  {
   "cell_type": "code",
   "execution_count": 18,
   "metadata": {},
   "outputs": [
    {
     "data": {
      "text/plain": [
       "[108623,\n",
       " 539880,\n",
       " 741758,\n",
       " 741808,\n",
       " 1305292,\n",
       " 1412572,\n",
       " 1741041,\n",
       " 1781050,\n",
       " 1781062,\n",
       " 2044379,\n",
       " 2044382,\n",
       " 3190741,\n",
       " 3236753,\n",
       " 3446897,\n",
       " 4795850,\n",
       " 7789941,\n",
       " 10806656,\n",
       " 16044196,\n",
       " 25232596,\n",
       " 25256117,\n",
       " 25308958,\n",
       " 27099781,\n",
       " 27686514,\n",
       " 35678308,\n",
       " 36100691,\n",
       " 36460261,\n",
       " 36992522,\n",
       " 37226965,\n",
       " 38370609,\n",
       " 42141126,\n",
       " 44915686,\n",
       " 45295239,\n",
       " 45369774,\n",
       " 46451789,\n",
       " 47092615,\n",
       " 48248413,\n",
       " 49395560,\n",
       " 49395583,\n",
       " 49957984,\n",
       " 50023591,\n",
       " 50226700,\n",
       " 50616932,\n",
       " 51263439,\n",
       " 52673131,\n",
       " 53014698,\n",
       " 54779622,\n",
       " 54999108,\n",
       " 54999438,\n",
       " 55153039,\n",
       " 55562103,\n",
       " 56965264,\n",
       " 57073072,\n",
       " 57609565,\n",
       " 57609693,\n",
       " 58910419,\n",
       " 58977522,\n",
       " 59175174,\n",
       " 59217832,\n",
       " 59608145,\n",
       " 59609449,\n",
       " 59619060,\n",
       " 61225220,\n",
       " 61225242,\n",
       " 65534201,\n",
       " 66901627,\n",
       " 69468772,\n",
       " 70646749,\n",
       " 73696109,\n",
       " 75002287,\n",
       " 75129838,\n",
       " 78110590,\n",
       " 79831129,\n",
       " 82458949,\n",
       " 83021426,\n",
       " 89446040,\n",
       " 91593795,\n",
       " 91742519,\n",
       " 101583618,\n",
       " 108702328,\n",
       " 109743679,\n",
       " 111527015,\n",
       " 112521224,\n",
       " 112595857,\n",
       " 112595901,\n",
       " 113234396,\n",
       " 113811134,\n",
       " 116072026,\n",
       " 116159003,\n",
       " 116419688,\n",
       " 119173757,\n",
       " 119669246,\n",
       " 120496468,\n",
       " 121522945,\n",
       " 123762281,\n",
       " 125928965,\n",
       " 127293007,\n",
       " 131697160,\n",
       " 135553553,\n",
       " 136244308,\n",
       " 136584885,\n",
       " 137939314,\n",
       " 139224271,\n",
       " 140106477,\n",
       " 142771628,\n",
       " 144907954,\n",
       " 145296267,\n",
       " 145594423,\n",
       " 147853013,\n",
       " 148379670,\n",
       " 148402824,\n",
       " 148506806,\n",
       " 149560449,\n",
       " 152109102,\n",
       " 152109133,\n",
       " 152636556,\n",
       " 152650748,\n",
       " 152773482,\n",
       " 152820182,\n",
       " 152823978,\n",
       " 152899368,\n",
       " 152999939,\n",
       " 153007262,\n",
       " 153026993,\n",
       " 153108362,\n",
       " 153111046,\n",
       " 153299665,\n",
       " 153301262]"
      ]
     },
     "execution_count": 18,
     "metadata": {},
     "output_type": "execute_result"
    }
   ],
   "source": [
    "pos_merged"
   ]
  },
  {
   "cell_type": "code",
   "execution_count": 19,
   "metadata": {},
   "outputs": [
    {
     "data": {
      "text/plain": [
       "array([[      244,       469],\n",
       "       [      472,       474],\n",
       "       [      475,       476],\n",
       "       ...,\n",
       "       [153367932, 153367995],\n",
       "       [153368035, 153368039],\n",
       "       [153368040, 153368048]], dtype=int32)"
      ]
     },
     "execution_count": 19,
     "metadata": {},
     "output_type": "execute_result"
    }
   ],
   "source": [
    "called_interv[\"PD_0201/chrX\"][:]"
   ]
  },
  {
   "cell_type": "code",
   "execution_count": 20,
   "metadata": {},
   "outputs": [],
   "source": [
    "#Checking whether these sites are in called or uncalled intervs.\n",
    "called_interv[\"PD_0201/chrX\"][:]\n",
    "index = 0\n",
    "on_0 = []\n",
    "between = []\n",
    "on_1 = []\n",
    "interv_found = []\n",
    "for interv in called_interv[\"PD_0201/chrX\"][:]:\n",
    "    i0 = interv[0]\n",
    "    i1 = interv[1]\n",
    "    if index < len(pos_merged)-1:\n",
    "        while pos_merged[index] <= i1:\n",
    "            if pos_merged[index] < i0:\n",
    "                index += 1\n",
    "            elif pos_merged[index] == i0:\n",
    "                on_0.append(pos_merged[index])\n",
    "                index += 1\n",
    "                interv_found.append([i0, i1])\n",
    "            elif pos_merged[index] < i1:\n",
    "                between.append(pos_merged[index])\n",
    "                index += 1\n",
    "                interv_found.append([i0, i1])\n",
    "            elif pos_merged[index] == i1:\n",
    "                on_1.append(pos_merged[index])\n",
    "                index += 1\n",
    "                interv_found.append([i0, i1])\n",
    "#print(on_0, between, on_1)"
   ]
  },
  {
   "cell_type": "code",
   "execution_count": 28,
   "metadata": {},
   "outputs": [
    {
     "name": "stdout",
     "output_type": "stream",
     "text": [
      "[108623, 741758, 741808, 1305292, 1412572, 1741041, 1781050, 1781062, 2044379, 2044382, 3190741, 3236753, 3446897, 4795850, 7789941, 10806656, 16044196, 25232596, 25256117, 25308958, 27099781, 27686514, 35678308, 36100691, 36460261, 36992522, 37226965, 38370609, 42141126, 44915686, 45295239, 45369774, 46451789, 47092615, 48248413, 49395560, 49395583, 49957984, 50023591, 50226700, 50616932, 51263439, 52673131, 53014698, 54779622, 54999108, 54999438, 55153039, 55562103, 56965264, 57073072, 57609565, 57609693, 58910419, 58977522, 59175174, 59608145, 59609449, 59619060, 61225220, 61225242, 65534201, 66901627, 69468772, 70646749, 73696109, 75002287, 75129838, 78110590, 79831129, 82458949, 83021426, 89446040, 91593795, 91742519, 101583618, 108702328, 109743679, 111527015, 112521224, 112595857, 112595901, 113234396, 113811134, 116072026, 116159003, 116419688, 119173757, 119669246, 120496468, 121522945, 123762281, 125928965, 127293007, 131697160, 135553553, 136244308, 136584885, 137939314, 139224271, 140106477, 142771628, 144907954, 145296267, 145594423, 147853013, 148379670, 148402824, 148506806, 149560449, 152109102, 152109133, 152636556, 152650748, 152773482, 152820182, 152823978, 152899368, 152999939, 153007262, 153026993, 153108362, 153111046, 153299665] [] []\n",
      "[[108623, 108758], [741758, 741807], [741808, 741842], [1305292, 1305320], [1412572, 1412929], [1741041, 1741085], [1781050, 1781061], [1781062, 1781100], [2044379, 2044381], [2044382, 2044468], [3190741, 3191191], [3236753, 3236851], [3446897, 3447054], [4795850, 4795865], [7789941, 7789987], [10806656, 10806762], [16044196, 16044267], [25232596, 25232679], [25256117, 25257367], [25308958, 25309030], [27099781, 27099987], [27686514, 27686738], [35678308, 35678319], [36100691, 36100795], [36460261, 36460377], [36992522, 36992547], [37226965, 37227048], [38370609, 38370716], [42141126, 42141139], [44915686, 44915760], [45295239, 45295297], [45369774, 45369817], [46451789, 46451903], [47092615, 47092657], [48248413, 48248818], [49395560, 49395582], [49395583, 49395711], [49957984, 49958699], [50023591, 50024000], [50226700, 50226764], [50616932, 50616975], [51263439, 51263574], [52673131, 52673161], [53014698, 53014763], [54779622, 54779687], [54999108, 54999156], [54999438, 54999576], [55153039, 55153087], [55562103, 55562139], [56965264, 56965729], [57073072, 57073124], [57609565, 57609692], [57609693, 57609950], [58910419, 58910592], [58977522, 58977566], [59175174, 59175319], [59608145, 59608310], [59609449, 59609478], [59619060, 59619351], [61225220, 61225241], [61225242, 61225248], [65534201, 65534649], [66901627, 66901672], [69468772, 69468799], [70646749, 70646866], [73696109, 73696239], [75002287, 75002328], [75129838, 75130059], [78110590, 78110772], [79831129, 79831174], [82458949, 82459125], [83021426, 83021686], [89446040, 89446319], [91593795, 91594115], [91742519, 91743010], [101583618, 101583716], [108702328, 108702431], [109743679, 109743932], [111527015, 111527074], [112521224, 112521314], [112595857, 112595900], [112595901, 112596968], [113234396, 113234429], [113811134, 113811178], [116072026, 116072317], [116159003, 116159070], [116419688, 116419741], [119173757, 119173778], [119669246, 119669461], [120496468, 120496504], [121522945, 121523905], [123762281, 123762296], [125928965, 125929948], [127293007, 127293126], [131697160, 131697180], [135553553, 135553740], [136244308, 136244372], [136584885, 136585005], [137939314, 137939347], [139224271, 139224356], [140106477, 140106912], [142771628, 142771711], [144907954, 144908042], [145296267, 145296476], [145594423, 145594709], [147853013, 147853383], [148379670, 148379765], [148402824, 148402933], [148506806, 148506895], [149560449, 149561097], [152109102, 152109132], [152109133, 152110125], [152636556, 152636760], [152650748, 152652435], [152773482, 152773508], [152820182, 152820313], [152823978, 152824026], [152899368, 152899633], [152999939, 153000000], [153007262, 153008021], [153026993, 153027616], [153108362, 153108376], [153111046, 153111253], [153299665, 153299828], [153368040, 153368048]]\n"
     ]
    }
   ],
   "source": [
    "#interv_found\n",
    "print(on_0, between, on_1)\n",
    "print(interv_found)"
   ]
  },
  {
   "cell_type": "code",
   "execution_count": 22,
   "metadata": {},
   "outputs": [
    {
     "name": "stdout",
     "output_type": "stream",
     "text": [
      "PD_0200\n",
      "377326 chr1\n",
      "329329 chr2\n",
      "318347 chr3\n",
      "311839 chr4\n",
      "346092 chr5\n",
      "311169 chr6\n",
      "301073 chr7\n",
      "230915 chr8\n",
      "224691 chr9\n",
      "176083 chr10\n",
      "218946 chr11\n",
      "224816 chr12\n",
      "207608 chr13\n",
      "204241 chr14\n",
      "184155 chr15\n",
      "138960 chr16\n",
      "180197 chr17\n",
      "134541 chr18\n",
      "134498 chr19\n",
      "148744 chr20\n",
      "107773 chrX\n",
      "PD_0201\n",
      "365391 chr1\n",
      "320182 chr2\n",
      "339873 chr3\n",
      "327877 chr4\n",
      "341551 chr5\n",
      "316245 chr6\n",
      "289739 chr7\n",
      "274101 chr8\n",
      "241263 chr9\n",
      "180738 chr10\n",
      "220700 chr11\n",
      "228497 chr12\n",
      "212366 chr13\n",
      "205708 chr14\n",
      "195664 chr15\n",
      "134336 chr16\n",
      "183983 chr17\n",
      "139412 chr18\n",
      "126527 chr19\n",
      "144532 chr20\n",
      "59996 chrX\n"
     ]
    }
   ],
   "source": [
    "#Checking that chrX isnt called the wrong name.\n",
    "ID_list = [\"PD_0200\", \"PD_0201\"] #200 is F, 201 is M\n",
    "for ID in ID_list:\n",
    "    print(ID)\n",
    "    for chrom in chromosomes:\n",
    "        gt_zarr = callset[\"{}/calldata/GT\".format(chrom)]\n",
    "        gt = allel.GenotypeDaskArray(gt_zarr)\n",
    "        specific_individual = meta_data_samples[meta_data_samples.PGDP_ID == ID].callset_index.values\n",
    "        individual = (gt.take(specific_individual, axis=1))\n",
    "        print(individual.count_het(), chrom)"
   ]
  },
  {
   "cell_type": "code",
   "execution_count": 36,
   "metadata": {},
   "outputs": [
    {
     "name": "stdout",
     "output_type": "stream",
     "text": [
      "223616938\n",
      "[['chr1' 227556264]]\n",
      "196197264\n",
      "[['chr2' 192460366]]\n",
      "185288920\n",
      "[['chr3' 192294377]]\n",
      "169962085\n",
      "[['chr4' 170955103]]\n",
      "187314918\n",
      "[['chr5' 189454096]]\n",
      "179083632\n",
      "[['chr6' 181584905]]\n",
      "169868557\n",
      "[['chr7' 171882078]]\n",
      "145679099\n",
      "[['chr8' 146850525]]\n",
      "134123906\n",
      "[['chr9' 133195287]]\n",
      "99513955\n",
      "[['chr10' 96509753]]\n",
      "133065668\n",
      "[['chr11' 137757926]]\n",
      "130038526\n",
      "[['chr12' 132586672]]\n",
      "108736597\n",
      "[['chr13' 111193037]]\n",
      "128054866\n",
      "[['chr14' 130733371]]\n",
      "113280646\n",
      "[['chr15' 112612857]]\n",
      "79627028\n",
      "[['chr16' 80997621]]\n",
      "95429202\n",
      "[['chr17' 96864807]]\n",
      "74473779\n",
      "[['chr18' 75711847]]\n",
      "58315098\n",
      "[['chr19' 59248254]]\n",
      "77137320\n",
      "[['chr20' 78541002]]\n",
      "153366679\n",
      "[['chrX' 152835861]]\n"
     ]
    }
   ],
   "source": [
    "#Not a match between obverved chrom lengths and last variable position.\n",
    "chrom_length_all = pd.read_table(\"../data/macFas5.chrom.sizes.txt\", names = [\"chrom\", \"size\"])\n",
    "for chrom in chromosomes:\n",
    "    pos = callset[\"{}/variants/POS\".format(chrom)]\n",
    "    print(pos[-1])\n",
    "    print(chrom_length_all.loc[chrom_length_all.chrom == chrom].values)"
   ]
  },
  {
   "cell_type": "code",
   "execution_count": 24,
   "metadata": {},
   "outputs": [
    {
     "name": "stdout",
     "output_type": "stream",
     "text": [
      "389.5844155844156 147.5 533313.5124352771\n"
     ]
    },
    {
     "data": {
      "text/plain": [
       "<AxesSubplot:xlabel='window', ylabel='PD_0201'>"
      ]
     },
     "execution_count": 24,
     "metadata": {},
     "output_type": "execute_result"
    },
    {
     "data": {
      "image/png": "[encoded data removed]",
      "text/plain": [
       "<Figure size 432x288 with 1 Axes>"
      ]
     },
     "metadata": {
      "image/png": {
       "height": 267,
       "width": 411
      }
     },
     "output_type": "display_data"
    }
   ],
   "source": [
    "#Diving into PD_0201\n",
    "x_data = het_counts_windows.loc[het_counts_windows.chr == \"chrX\"]\n",
    "single_data = x_data[\"PD_0201\"]\n",
    "s_mean = single_data.mean()\n",
    "s_median = single_data.median()\n",
    "s_variance = single_data.var()\n",
    "print(s_mean, s_median, s_variance)\n",
    "sns.scatterplot(y = single_data, x =  x_data[\"window\"])"
   ]
  },
  {
   "cell_type": "code",
   "execution_count": 25,
   "metadata": {},
   "outputs": [
    {
     "data": {
      "text/plain": [
       "<AxesSubplot:xlabel='window', ylabel='PD_0201'>"
      ]
     },
     "execution_count": 25,
     "metadata": {},
     "output_type": "execute_result"
    },
    {
     "data": {
      "image/png": "[encoded data removed]",
      "text/plain": [
       "<Figure size 432x288 with 1 Axes>"
      ]
     },
     "metadata": {
      "image/png": {
       "height": 267,
       "width": 411
      }
     },
     "output_type": "display_data"
    }
   ],
   "source": [
    "#Is the heterozygosity mostly in the edges?\n",
    "sns.scatterplot(y = single_data, x =  x_data[\"window\"])\n",
    "#Answer: Yes, but there is also areas in the middle containing high heterozygosity, and most windows have some"
   ]
  },
  {
   "cell_type": "code",
   "execution_count": 26,
   "metadata": {},
   "outputs": [
    {
     "data": {
      "text/plain": [
       "2701    2044\n",
       "2702    2765\n",
       "2703    2135\n",
       "2704    2145\n",
       "2705    3774\n",
       "2706    4079\n",
       "2707    3913\n",
       "2708    1674\n",
       "2709      97\n",
       "2710      60\n",
       "Name: PD_0201, dtype: int64"
      ]
     },
     "execution_count": 26,
     "metadata": {},
     "output_type": "execute_result"
    }
   ],
   "source": [
    "#Finding the area in PD_0201 with most heterozygosity\n",
    "max_pos = single_data.values.argmax()\n",
    "single_data[:10]"
   ]
  },
  {
   "cell_type": "code",
   "execution_count": 168,
   "metadata": {},
   "outputs": [
    {
     "data": {
      "text/html": [
       "<div class=\"allel allel-DisplayAs2D\"><span>&lt;GenotypeDaskArray shape=(33376, 1, 2) dtype=int8&gt;</span><table><thead><tr><th></th><th style=\"text-align: center\">0</th></tr></thead><tbody><tr><th style=\"text-align: center; background-color: white; border-right: 1px solid black; \">0</th><td style=\"text-align: center\">0/0</td></tr><tr><th style=\"text-align: center; background-color: white; border-right: 1px solid black; \">1</th><td style=\"text-align: center\">0/0</td></tr><tr><th style=\"text-align: center; background-color: white; border-right: 1px solid black; \">2</th><td style=\"text-align: center\">0/0</td></tr><tr><th style=\"text-align: center; background-color: white; border-right: 1px solid black; \">...</th><td style=\"text-align: center\" colspan=\"2\">...</td></tr><tr><th style=\"text-align: center; background-color: white; border-right: 1px solid black; \">33373</th><td style=\"text-align: center\">0/0</td></tr><tr><th style=\"text-align: center; background-color: white; border-right: 1px solid black; \">33374</th><td style=\"text-align: center\">0/0</td></tr><tr><th style=\"text-align: center; background-color: white; border-right: 1px solid black; \">33375</th><td style=\"text-align: center\">0/0</td></tr></tbody></table></div>"
      ],
      "text/plain": [
       "<GenotypeDaskArray shape=(33376, 1, 2) dtype=int8>"
      ]
     },
     "execution_count": 168,
     "metadata": {},
     "output_type": "execute_result"
    }
   ],
   "source": [
    "#Investigating a small window to detect in which way it is weird.\n",
    "pos = allel.SortedIndex(callset[\"chrX/variants/POS\"])\n",
    "loc_region = pos.locate_range(5000000, 6000000)\n",
    "gt_zarr = callset[\"chrX/calldata/GT\"]\n",
    "gt_region = allel.GenotypeDaskArray(gt_zarr[loc_region])\n",
    "specific_individual = meta_data_samples[meta_data_samples.PGDP_ID == \"PD_0201\"].callset_index.values\n",
    "individual = gt_region.take(specific_individual, axis=1)\n",
    "individual\n",
    "#it is equivalent to what my table contained."
   ]
  },
  {
   "cell_type": "code",
   "execution_count": 185,
   "metadata": {},
   "outputs": [
    {
     "name": "stdout",
     "output_type": "stream",
     "text": [
      "0\n"
     ]
    },
    {
     "ename": "KeyboardInterrupt",
     "evalue": "",
     "output_type": "error",
     "traceback": [
      "\u001b[0;31m---------------------------------------------------------------------------\u001b[0m",
      "\u001b[0;31mKeyboardInterrupt\u001b[0m                         Traceback (most recent call last)",
      "\u001b[0;32m<ipython-input-185-770ae202ab45>\u001b[0m in \u001b[0;36m<module>\u001b[0;34m\u001b[0m\n\u001b[1;32m      4\u001b[0m \u001b[0mhet\u001b[0m \u001b[0;34m=\u001b[0m \u001b[0;34m[\u001b[0m\u001b[0;34m]\u001b[0m\u001b[0;34m\u001b[0m\u001b[0;34m\u001b[0m\u001b[0m\n\u001b[1;32m      5\u001b[0m \u001b[0;32mfor\u001b[0m \u001b[0mi\u001b[0m \u001b[0;32min\u001b[0m \u001b[0mrange\u001b[0m\u001b[0;34m(\u001b[0m\u001b[0mlen\u001b[0m\u001b[0;34m(\u001b[0m\u001b[0mhet_or_not\u001b[0m\u001b[0;34m)\u001b[0m\u001b[0;34m)\u001b[0m\u001b[0;34m:\u001b[0m \u001b[0;31m#Changing it to index positions, the bool was troublesome.\u001b[0m\u001b[0;34m\u001b[0m\u001b[0;34m\u001b[0m\u001b[0m\n\u001b[0;32m----> 6\u001b[0;31m     \u001b[0;32mif\u001b[0m \u001b[0mhet_or_not\u001b[0m\u001b[0;34m[\u001b[0m\u001b[0mi\u001b[0m\u001b[0;34m]\u001b[0m \u001b[0;34m==\u001b[0m \u001b[0;32mTrue\u001b[0m\u001b[0;34m:\u001b[0m\u001b[0;34m\u001b[0m\u001b[0;34m\u001b[0m\u001b[0m\n\u001b[0m\u001b[1;32m      7\u001b[0m         \u001b[0mhet\u001b[0m\u001b[0;34m.\u001b[0m\u001b[0mappend\u001b[0m\u001b[0;34m(\u001b[0m\u001b[0mi\u001b[0m\u001b[0;34m)\u001b[0m\u001b[0;34m\u001b[0m\u001b[0;34m\u001b[0m\u001b[0m\n\u001b[1;32m      8\u001b[0m \u001b[0mindividual\u001b[0m\u001b[0;34m.\u001b[0m\u001b[0mtake\u001b[0m\u001b[0;34m(\u001b[0m\u001b[0mhet\u001b[0m\u001b[0;34m,\u001b[0m \u001b[0maxis\u001b[0m \u001b[0;34m=\u001b[0m \u001b[0;36m0\u001b[0m\u001b[0;34m)\u001b[0m\u001b[0;34m\u001b[0m\u001b[0;34m\u001b[0m\u001b[0m\n",
      "\u001b[0;32m~/miniconda3/envs/baboondiversity/lib/python3.7/site-packages/dask/array/core.py\u001b[0m in \u001b[0;36m__bool__\u001b[0;34m(self)\u001b[0m\n\u001b[1;32m   1513\u001b[0m             )\n\u001b[1;32m   1514\u001b[0m         \u001b[0;32melse\u001b[0m\u001b[0;34m:\u001b[0m\u001b[0;34m\u001b[0m\u001b[0;34m\u001b[0m\u001b[0m\n\u001b[0;32m-> 1515\u001b[0;31m             \u001b[0;32mreturn\u001b[0m \u001b[0mbool\u001b[0m\u001b[0;34m(\u001b[0m\u001b[0mself\u001b[0m\u001b[0;34m.\u001b[0m\u001b[0mcompute\u001b[0m\u001b[0;34m(\u001b[0m\u001b[0;34m)\u001b[0m\u001b[0;34m)\u001b[0m\u001b[0;34m\u001b[0m\u001b[0;34m\u001b[0m\u001b[0m\n\u001b[0m\u001b[1;32m   1516\u001b[0m \u001b[0;34m\u001b[0m\u001b[0m\n\u001b[1;32m   1517\u001b[0m     \u001b[0m__nonzero__\u001b[0m \u001b[0;34m=\u001b[0m \u001b[0m__bool__\u001b[0m  \u001b[0;31m# python 2\u001b[0m\u001b[0;34m\u001b[0m\u001b[0;34m\u001b[0m\u001b[0m\n",
      "\u001b[0;32m~/miniconda3/envs/baboondiversity/lib/python3.7/site-packages/dask/base.py\u001b[0m in \u001b[0;36mcompute\u001b[0;34m(self, **kwargs)\u001b[0m\n\u001b[1;32m    165\u001b[0m         \u001b[0mdask\u001b[0m\u001b[0;34m.\u001b[0m\u001b[0mbase\u001b[0m\u001b[0;34m.\u001b[0m\u001b[0mcompute\u001b[0m\u001b[0;34m\u001b[0m\u001b[0;34m\u001b[0m\u001b[0m\n\u001b[1;32m    166\u001b[0m         \"\"\"\n\u001b[0;32m--> 167\u001b[0;31m         \u001b[0;34m(\u001b[0m\u001b[0mresult\u001b[0m\u001b[0;34m,\u001b[0m\u001b[0;34m)\u001b[0m \u001b[0;34m=\u001b[0m \u001b[0mcompute\u001b[0m\u001b[0;34m(\u001b[0m\u001b[0mself\u001b[0m\u001b[0;34m,\u001b[0m \u001b[0mtraverse\u001b[0m\u001b[0;34m=\u001b[0m\u001b[0;32mFalse\u001b[0m\u001b[0;34m,\u001b[0m \u001b[0;34m**\u001b[0m\u001b[0mkwargs\u001b[0m\u001b[0;34m)\u001b[0m\u001b[0;34m\u001b[0m\u001b[0;34m\u001b[0m\u001b[0m\n\u001b[0m\u001b[1;32m    168\u001b[0m         \u001b[0;32mreturn\u001b[0m \u001b[0mresult\u001b[0m\u001b[0;34m\u001b[0m\u001b[0;34m\u001b[0m\u001b[0m\n\u001b[1;32m    169\u001b[0m \u001b[0;34m\u001b[0m\u001b[0m\n",
      "\u001b[0;32m~/miniconda3/envs/baboondiversity/lib/python3.7/site-packages/dask/base.py\u001b[0m in \u001b[0;36mcompute\u001b[0;34m(*args, **kwargs)\u001b[0m\n\u001b[1;32m    450\u001b[0m         \u001b[0mpostcomputes\u001b[0m\u001b[0;34m.\u001b[0m\u001b[0mappend\u001b[0m\u001b[0;34m(\u001b[0m\u001b[0mx\u001b[0m\u001b[0;34m.\u001b[0m\u001b[0m__dask_postcompute__\u001b[0m\u001b[0;34m(\u001b[0m\u001b[0;34m)\u001b[0m\u001b[0;34m)\u001b[0m\u001b[0;34m\u001b[0m\u001b[0;34m\u001b[0m\u001b[0m\n\u001b[1;32m    451\u001b[0m \u001b[0;34m\u001b[0m\u001b[0m\n\u001b[0;32m--> 452\u001b[0;31m     \u001b[0mresults\u001b[0m \u001b[0;34m=\u001b[0m \u001b[0mschedule\u001b[0m\u001b[0;34m(\u001b[0m\u001b[0mdsk\u001b[0m\u001b[0;34m,\u001b[0m \u001b[0mkeys\u001b[0m\u001b[0;34m,\u001b[0m \u001b[0;34m**\u001b[0m\u001b[0mkwargs\u001b[0m\u001b[0;34m)\u001b[0m\u001b[0;34m\u001b[0m\u001b[0;34m\u001b[0m\u001b[0m\n\u001b[0m\u001b[1;32m    453\u001b[0m     \u001b[0;32mreturn\u001b[0m \u001b[0mrepack\u001b[0m\u001b[0;34m(\u001b[0m\u001b[0;34m[\u001b[0m\u001b[0mf\u001b[0m\u001b[0;34m(\u001b[0m\u001b[0mr\u001b[0m\u001b[0;34m,\u001b[0m \u001b[0;34m*\u001b[0m\u001b[0ma\u001b[0m\u001b[0;34m)\u001b[0m \u001b[0;32mfor\u001b[0m \u001b[0mr\u001b[0m\u001b[0;34m,\u001b[0m \u001b[0;34m(\u001b[0m\u001b[0mf\u001b[0m\u001b[0;34m,\u001b[0m \u001b[0ma\u001b[0m\u001b[0;34m)\u001b[0m \u001b[0;32min\u001b[0m \u001b[0mzip\u001b[0m\u001b[0;34m(\u001b[0m\u001b[0mresults\u001b[0m\u001b[0;34m,\u001b[0m \u001b[0mpostcomputes\u001b[0m\u001b[0;34m)\u001b[0m\u001b[0;34m]\u001b[0m\u001b[0;34m)\u001b[0m\u001b[0;34m\u001b[0m\u001b[0;34m\u001b[0m\u001b[0m\n\u001b[1;32m    454\u001b[0m \u001b[0;34m\u001b[0m\u001b[0m\n",
      "\u001b[0;32m~/miniconda3/envs/baboondiversity/lib/python3.7/site-packages/dask/threaded.py\u001b[0m in \u001b[0;36mget\u001b[0;34m(dsk, result, cache, num_workers, pool, **kwargs)\u001b[0m\n\u001b[1;32m     82\u001b[0m         \u001b[0mget_id\u001b[0m\u001b[0;34m=\u001b[0m\u001b[0m_thread_get_id\u001b[0m\u001b[0;34m,\u001b[0m\u001b[0;34m\u001b[0m\u001b[0;34m\u001b[0m\u001b[0m\n\u001b[1;32m     83\u001b[0m         \u001b[0mpack_exception\u001b[0m\u001b[0;34m=\u001b[0m\u001b[0mpack_exception\u001b[0m\u001b[0;34m,\u001b[0m\u001b[0;34m\u001b[0m\u001b[0;34m\u001b[0m\u001b[0m\n\u001b[0;32m---> 84\u001b[0;31m         \u001b[0;34m**\u001b[0m\u001b[0mkwargs\u001b[0m\u001b[0;34m\u001b[0m\u001b[0;34m\u001b[0m\u001b[0m\n\u001b[0m\u001b[1;32m     85\u001b[0m     )\n\u001b[1;32m     86\u001b[0m \u001b[0;34m\u001b[0m\u001b[0m\n",
      "\u001b[0;32m~/miniconda3/envs/baboondiversity/lib/python3.7/site-packages/dask/local.py\u001b[0m in \u001b[0;36mget_async\u001b[0;34m(apply_async, num_workers, dsk, result, cache, get_id, rerun_exceptions_locally, pack_exception, raise_exception, callbacks, dumps, loads, **kwargs)\u001b[0m\n\u001b[1;32m    473\u001b[0m             \u001b[0;31m# Main loop, wait on tasks to finish, insert new ones\u001b[0m\u001b[0;34m\u001b[0m\u001b[0;34m\u001b[0m\u001b[0;34m\u001b[0m\u001b[0m\n\u001b[1;32m    474\u001b[0m             \u001b[0;32mwhile\u001b[0m \u001b[0mstate\u001b[0m\u001b[0;34m[\u001b[0m\u001b[0;34m\"waiting\"\u001b[0m\u001b[0;34m]\u001b[0m \u001b[0;32mor\u001b[0m \u001b[0mstate\u001b[0m\u001b[0;34m[\u001b[0m\u001b[0;34m\"ready\"\u001b[0m\u001b[0;34m]\u001b[0m \u001b[0;32mor\u001b[0m \u001b[0mstate\u001b[0m\u001b[0;34m[\u001b[0m\u001b[0;34m\"running\"\u001b[0m\u001b[0;34m]\u001b[0m\u001b[0;34m:\u001b[0m\u001b[0;34m\u001b[0m\u001b[0;34m\u001b[0m\u001b[0m\n\u001b[0;32m--> 475\u001b[0;31m                 \u001b[0mkey\u001b[0m\u001b[0;34m,\u001b[0m \u001b[0mres_info\u001b[0m\u001b[0;34m,\u001b[0m \u001b[0mfailed\u001b[0m \u001b[0;34m=\u001b[0m \u001b[0mqueue_get\u001b[0m\u001b[0;34m(\u001b[0m\u001b[0mqueue\u001b[0m\u001b[0;34m)\u001b[0m\u001b[0;34m\u001b[0m\u001b[0;34m\u001b[0m\u001b[0m\n\u001b[0m\u001b[1;32m    476\u001b[0m                 \u001b[0;32mif\u001b[0m \u001b[0mfailed\u001b[0m\u001b[0;34m:\u001b[0m\u001b[0;34m\u001b[0m\u001b[0;34m\u001b[0m\u001b[0m\n\u001b[1;32m    477\u001b[0m                     \u001b[0mexc\u001b[0m\u001b[0;34m,\u001b[0m \u001b[0mtb\u001b[0m \u001b[0;34m=\u001b[0m \u001b[0mloads\u001b[0m\u001b[0;34m(\u001b[0m\u001b[0mres_info\u001b[0m\u001b[0;34m)\u001b[0m\u001b[0;34m\u001b[0m\u001b[0;34m\u001b[0m\u001b[0m\n",
      "\u001b[0;32m~/miniconda3/envs/baboondiversity/lib/python3.7/site-packages/dask/local.py\u001b[0m in \u001b[0;36mqueue_get\u001b[0;34m(q)\u001b[0m\n\u001b[1;32m    131\u001b[0m \u001b[0;34m\u001b[0m\u001b[0m\n\u001b[1;32m    132\u001b[0m     \u001b[0;32mdef\u001b[0m \u001b[0mqueue_get\u001b[0m\u001b[0;34m(\u001b[0m\u001b[0mq\u001b[0m\u001b[0;34m)\u001b[0m\u001b[0;34m:\u001b[0m\u001b[0;34m\u001b[0m\u001b[0;34m\u001b[0m\u001b[0m\n\u001b[0;32m--> 133\u001b[0;31m         \u001b[0;32mreturn\u001b[0m \u001b[0mq\u001b[0m\u001b[0;34m.\u001b[0m\u001b[0mget\u001b[0m\u001b[0;34m(\u001b[0m\u001b[0;34m)\u001b[0m\u001b[0;34m\u001b[0m\u001b[0;34m\u001b[0m\u001b[0m\n\u001b[0m\u001b[1;32m    134\u001b[0m \u001b[0;34m\u001b[0m\u001b[0m\n\u001b[1;32m    135\u001b[0m \u001b[0;34m\u001b[0m\u001b[0m\n",
      "\u001b[0;32m~/miniconda3/envs/baboondiversity/lib/python3.7/queue.py\u001b[0m in \u001b[0;36mget\u001b[0;34m(self, block, timeout)\u001b[0m\n\u001b[1;32m    168\u001b[0m             \u001b[0;32melif\u001b[0m \u001b[0mtimeout\u001b[0m \u001b[0;32mis\u001b[0m \u001b[0;32mNone\u001b[0m\u001b[0;34m:\u001b[0m\u001b[0;34m\u001b[0m\u001b[0;34m\u001b[0m\u001b[0m\n\u001b[1;32m    169\u001b[0m                 \u001b[0;32mwhile\u001b[0m \u001b[0;32mnot\u001b[0m \u001b[0mself\u001b[0m\u001b[0;34m.\u001b[0m\u001b[0m_qsize\u001b[0m\u001b[0;34m(\u001b[0m\u001b[0;34m)\u001b[0m\u001b[0;34m:\u001b[0m\u001b[0;34m\u001b[0m\u001b[0;34m\u001b[0m\u001b[0m\n\u001b[0;32m--> 170\u001b[0;31m                     \u001b[0mself\u001b[0m\u001b[0;34m.\u001b[0m\u001b[0mnot_empty\u001b[0m\u001b[0;34m.\u001b[0m\u001b[0mwait\u001b[0m\u001b[0;34m(\u001b[0m\u001b[0;34m)\u001b[0m\u001b[0;34m\u001b[0m\u001b[0;34m\u001b[0m\u001b[0m\n\u001b[0m\u001b[1;32m    171\u001b[0m             \u001b[0;32melif\u001b[0m \u001b[0mtimeout\u001b[0m \u001b[0;34m<\u001b[0m \u001b[0;36m0\u001b[0m\u001b[0;34m:\u001b[0m\u001b[0;34m\u001b[0m\u001b[0;34m\u001b[0m\u001b[0m\n\u001b[1;32m    172\u001b[0m                 \u001b[0;32mraise\u001b[0m \u001b[0mValueError\u001b[0m\u001b[0;34m(\u001b[0m\u001b[0;34m\"'timeout' must be a non-negative number\"\u001b[0m\u001b[0;34m)\u001b[0m\u001b[0;34m\u001b[0m\u001b[0;34m\u001b[0m\u001b[0m\n",
      "\u001b[0;32m~/miniconda3/envs/baboondiversity/lib/python3.7/threading.py\u001b[0m in \u001b[0;36mwait\u001b[0;34m(self, timeout)\u001b[0m\n\u001b[1;32m    294\u001b[0m         \u001b[0;32mtry\u001b[0m\u001b[0;34m:\u001b[0m    \u001b[0;31m# restore state no matter what (e.g., KeyboardInterrupt)\u001b[0m\u001b[0;34m\u001b[0m\u001b[0;34m\u001b[0m\u001b[0m\n\u001b[1;32m    295\u001b[0m             \u001b[0;32mif\u001b[0m \u001b[0mtimeout\u001b[0m \u001b[0;32mis\u001b[0m \u001b[0;32mNone\u001b[0m\u001b[0;34m:\u001b[0m\u001b[0;34m\u001b[0m\u001b[0;34m\u001b[0m\u001b[0m\n\u001b[0;32m--> 296\u001b[0;31m                 \u001b[0mwaiter\u001b[0m\u001b[0;34m.\u001b[0m\u001b[0macquire\u001b[0m\u001b[0;34m(\u001b[0m\u001b[0;34m)\u001b[0m\u001b[0;34m\u001b[0m\u001b[0;34m\u001b[0m\u001b[0m\n\u001b[0m\u001b[1;32m    297\u001b[0m                 \u001b[0mgotit\u001b[0m \u001b[0;34m=\u001b[0m \u001b[0;32mTrue\u001b[0m\u001b[0;34m\u001b[0m\u001b[0;34m\u001b[0m\u001b[0m\n\u001b[1;32m    298\u001b[0m             \u001b[0;32melse\u001b[0m\u001b[0;34m:\u001b[0m\u001b[0;34m\u001b[0m\u001b[0;34m\u001b[0m\u001b[0m\n",
      "\u001b[0;31mKeyboardInterrupt\u001b[0m: "
     ]
    }
   ],
   "source": [
    "#Manual check that heterozygous sites are detected.\n",
    "print(individual.count_het())\n",
    "het_or_not = individual.is_het()\n",
    "het = []\n",
    "for i in range(len(het_or_not)): #Changing it to index positions, the bool was troublesome.\n",
    "    if het_or_not[i] == True:\n",
    "        het.append(i)\n",
    "individual.take(het, axis = 0)"
   ]
  },
  {
   "cell_type": "code",
   "execution_count": 136,
   "metadata": {},
   "outputs": [
    {
     "data": {
      "text/plain": [
       "dict_keys(['samples', 'calldata/GT', 'variants/ALT', 'variants/CHROM', 'variants/FILTER_PASS', 'variants/ID', 'variants/POS', 'variants/QUAL', 'variants/REF'])"
      ]
     },
     "execution_count": 136,
     "metadata": {},
     "output_type": "execute_result"
    }
   ],
   "source": [
    "#Checking whether heterozygous sites on X in males have some kind of bias, such as abnormal depth.\n",
    "vcf_dir = \"/faststorage/project/primatediversity/data/variants/\"\n",
    "vcf_suffix = \".variable.filtered.HF.snps.vcf.gz\"\n",
    "metainfo = \"data/New_Papio.xlsx\"\n",
    "vcf_callset = allel.read_vcf(vcf_dir+\"PD_0201\"+vcf_suffix, region=\"chrX\")\n",
    "vcf_callset.keys()"
   ]
  },
  {
   "cell_type": "code",
   "execution_count": 137,
   "metadata": {},
   "outputs": [
    {
     "data": {
      "text/plain": [
       "array(['G', 'T', 'T', ..., 'T', 'C', 'A'], dtype=object)"
      ]
     },
     "execution_count": 137,
     "metadata": {},
     "output_type": "execute_result"
    }
   ],
   "source": [
    "vcf_callset[\"variants/REF\"]"
   ]
  },
  {
   "cell_type": "code",
   "execution_count": 138,
   "metadata": {},
   "outputs": [],
   "source": [
    "qual = vcf_callset[\"variants/QUAL\"]\n",
    "gt = allel.GenotypeArray(vcf_callset[\"calldata/GT\"])"
   ]
  },
  {
   "cell_type": "code",
   "execution_count": 139,
   "metadata": {},
   "outputs": [
    {
     "name": "stdout",
     "output_type": "stream",
     "text": [
      "0\n",
      "100000\n",
      "200000\n",
      "300000\n",
      "400000\n",
      "500000\n",
      "600000\n",
      "700000\n",
      "800000\n",
      "900000\n",
      "1000000\n",
      "1100000\n",
      "1200000\n",
      "1300000\n",
      "0\n",
      "100000\n",
      "200000\n",
      "300000\n",
      "400000\n",
      "500000\n",
      "600000\n",
      "700000\n",
      "800000\n",
      "900000\n",
      "1000000\n",
      "1100000\n",
      "1200000\n",
      "1300000\n"
     ]
    }
   ],
   "source": [
    "het_or_not = gt.is_het()\n",
    "het = []\n",
    "not_het = []\n",
    "for i in range(len(het_or_not)): #Changing it to index positions, the bool was troublesome.\n",
    "    if het_or_not[i] == True:\n",
    "        het.append(i)\n",
    "    else:\n",
    "        not_het.append(i)\n",
    "    if i % 100000 == 0:\n",
    "        print(i)\n",
    "hom = []\n",
    "hom_or_not = gt.is_hom()\n",
    "for i in range(len(hom_or_not)):\n",
    "    if hom_or_not[i] == True:\n",
    "        hom.append(i)\n",
    "    if i % 100000 == 0:\n",
    "        print(i)\n",
    "        \n",
    "het_sites = gt.take(het, axis = 0)\n",
    "hom_sites = gt.take(not_het, axis = 0)"
   ]
  },
  {
   "cell_type": "code",
   "execution_count": 140,
   "metadata": {},
   "outputs": [
    {
     "data": {
      "text/plain": [
       "1242896"
      ]
     },
     "execution_count": 140,
     "metadata": {},
     "output_type": "execute_result"
    }
   ],
   "source": [
    "hom_or_not = gt.is_hom()\n",
    "hom_or_not.sum()\n"
   ]
  },
  {
   "cell_type": "code",
   "execution_count": 141,
   "metadata": {},
   "outputs": [
    {
     "data": {
      "text/plain": [
       "379.66522"
      ]
     },
     "execution_count": 141,
     "metadata": {},
     "output_type": "execute_result"
    },
    {
     "data": {
      "image/png": "[encoded data removed]",
      "text/plain": [
       "<Figure size 432x288 with 1 Axes>"
      ]
     },
     "metadata": {
      "image/png": {
       "height": 267,
       "width": 402
      }
     },
     "output_type": "display_data"
    }
   ],
   "source": [
    "qual_het = qual.take(het, axis = 0)\n",
    "hist = sns.histplot(x = qual_het)\n",
    "hist.set(xlabel=\"Qual\")\n",
    "qual_het.mean()"
   ]
  },
  {
   "cell_type": "code",
   "execution_count": 142,
   "metadata": {},
   "outputs": [
    {
     "data": {
      "text/plain": [
       "[Text(0.5, 0, 'Qual')]"
      ]
     },
     "execution_count": 142,
     "metadata": {},
     "output_type": "execute_result"
    },
    {
     "data": {
      "image/png": "[encoded data removed]",
      "text/plain": [
       "<Figure size 432x288 with 1 Axes>"
      ]
     },
     "metadata": {
      "image/png": {
       "height": 269,
       "width": 409
      }
     },
     "output_type": "display_data"
    }
   ],
   "source": [
    "qual_not_het = qual.take(not_het, axis = 0)\n",
    "hist = sns.histplot(x = qual_not_het)\n",
    "hist.set(xlabel=\"Qual\")"
   ]
  },
  {
   "cell_type": "code",
   "execution_count": 143,
   "metadata": {},
   "outputs": [],
   "source": [
    "#Checking hom vs het with having the border regions removed.\n",
    "vcf_dir = \"/faststorage/project/primatediversity/data/variants/\"\n",
    "vcf_suffix = \".variable.filtered.HF.snps.vcf.gz\"\n",
    "metainfo = \"data/New_Papio.xlsx\"\n",
    "vcf_callset = allel.read_vcf(vcf_dir+\"PD_0201\"+vcf_suffix, region=\"chrX:10000000-150000000\")\n",
    "qual = vcf_callset[\"variants/QUAL\"]\n",
    "gt = allel.GenotypeArray(vcf_callset[\"calldata/GT\"])"
   ]
  },
  {
   "cell_type": "code",
   "execution_count": 144,
   "metadata": {},
   "outputs": [
    {
     "name": "stdout",
     "output_type": "stream",
     "text": [
      "0\n",
      "100000\n",
      "200000\n",
      "300000\n",
      "400000\n",
      "500000\n",
      "600000\n",
      "700000\n",
      "800000\n",
      "900000\n",
      "1000000\n",
      "1100000\n",
      "0\n",
      "100000\n",
      "200000\n",
      "300000\n",
      "400000\n",
      "500000\n",
      "600000\n",
      "700000\n",
      "800000\n",
      "900000\n",
      "1000000\n",
      "1100000\n"
     ]
    }
   ],
   "source": [
    "het_or_not = gt.is_het()\n",
    "het = []\n",
    "not_het = []\n",
    "for i in range(len(het_or_not)): #Changing it to index positions, the bool was troublesome.\n",
    "    if het_or_not[i] == True:\n",
    "        het.append(i)\n",
    "    else:\n",
    "        not_het.append(i)\n",
    "    if i % 100000 == 0:\n",
    "        print(i)\n",
    "hom = []\n",
    "hom_or_not = gt.is_hom()\n",
    "for i in range(len(hom_or_not)): #Changing it to index positions, the bool was troublesome.\n",
    "    if hom_or_not[i] == True:\n",
    "        hom.append(i)\n",
    "    if i % 100000 == 0:\n",
    "        print(i)"
   ]
  },
  {
   "cell_type": "code",
   "execution_count": 145,
   "metadata": {},
   "outputs": [
    {
     "data": {
      "text/plain": [
       "361.05988"
      ]
     },
     "execution_count": 145,
     "metadata": {},
     "output_type": "execute_result"
    },
    {
     "data": {
      "image/png": "[encoded data removed]",
      "text/plain": [
       "<Figure size 432x288 with 1 Axes>"
      ]
     },
     "metadata": {
      "image/png": {
       "height": 267,
       "width": 402
      }
     },
     "output_type": "display_data"
    }
   ],
   "source": [
    "qual_het = qual.take(het, axis = 0)\n",
    "hist = sns.histplot(x = qual_het)\n",
    "hist.set(xlabel=\"Qual\")\n",
    "qual_het.mean()"
   ]
  },
  {
   "cell_type": "code",
   "execution_count": 108,
   "metadata": {},
   "outputs": [
    {
     "data": {
      "text/plain": [
       "<AxesSubplot:ylabel='Count'>"
      ]
     },
     "execution_count": 108,
     "metadata": {},
     "output_type": "execute_result"
    },
    {
     "data": {
      "image/png": "[encoded data removed]",
      "text/plain": [
       "<Figure size 432x288 with 1 Axes>"
      ]
     },
     "metadata": {
      "image/png": {
       "height": 251,
       "width": 409
      }
     },
     "output_type": "display_data"
    }
   ],
   "source": [
    "qual_not_het = qual.take(not_het, axis = 0)\n",
    "sns.histplot(x = qual_not_het)"
   ]
  },
  {
   "cell_type": "code",
   "execution_count": 184,
   "metadata": {},
   "outputs": [
    {
     "ename": "KeyError",
     "evalue": "'chrX/calldata/GT'",
     "output_type": "error",
     "traceback": [
      "\u001b[0;31m---------------------------------------------------------------------------\u001b[0m",
      "\u001b[0;31mKeyError\u001b[0m                                  Traceback (most recent call last)",
      "\u001b[0;32m<ipython-input-184-ba76919a32d4>\u001b[0m in \u001b[0;36m<module>\u001b[0;34m\u001b[0m\n\u001b[1;32m      1\u001b[0m \u001b[0;31m#Using the data which is present for every individual, that is calldata\u001b[0m\u001b[0;34m\u001b[0m\u001b[0;34m\u001b[0m\u001b[0;34m\u001b[0m\u001b[0m\n\u001b[1;32m      2\u001b[0m \u001b[0;31m#And then looking at the stats for heterozygous sites vs all other sites.\u001b[0m\u001b[0;34m\u001b[0m\u001b[0;34m\u001b[0m\u001b[0;34m\u001b[0m\u001b[0m\n\u001b[0;32m----> 3\u001b[0;31m \u001b[0mgt_zarr\u001b[0m \u001b[0;34m=\u001b[0m \u001b[0mcallset\u001b[0m\u001b[0;34m[\u001b[0m\u001b[0;34m\"chrX/calldata/GT\"\u001b[0m\u001b[0;34m]\u001b[0m\u001b[0;34m\u001b[0m\u001b[0;34m\u001b[0m\u001b[0m\n\u001b[0m\u001b[1;32m      4\u001b[0m \u001b[0mgt\u001b[0m \u001b[0;34m=\u001b[0m \u001b[0mallel\u001b[0m\u001b[0;34m.\u001b[0m\u001b[0mGenotypeDaskArray\u001b[0m\u001b[0;34m(\u001b[0m\u001b[0mgt_zarr\u001b[0m\u001b[0;34m)\u001b[0m\u001b[0;34m\u001b[0m\u001b[0;34m\u001b[0m\u001b[0m\n\u001b[1;32m      5\u001b[0m \u001b[0mindividual\u001b[0m \u001b[0;34m=\u001b[0m \u001b[0mgt\u001b[0m\u001b[0;34m.\u001b[0m\u001b[0mtake\u001b[0m\u001b[0;34m(\u001b[0m\u001b[0mspecific_individual\u001b[0m\u001b[0;34m,\u001b[0m \u001b[0maxis\u001b[0m\u001b[0;34m=\u001b[0m\u001b[0;36m1\u001b[0m\u001b[0;34m)\u001b[0m\u001b[0;34m\u001b[0m\u001b[0;34m\u001b[0m\u001b[0m\n",
      "\u001b[0;32m~/miniconda3/envs/baboondiversity/lib/python3.7/site-packages/zarr/hierarchy.py\u001b[0m in \u001b[0;36m__getitem__\u001b[0;34m(self, item)\u001b[0m\n\u001b[1;32m    347\u001b[0m                          synchronizer=self._synchronizer)\n\u001b[1;32m    348\u001b[0m         \u001b[0;32melse\u001b[0m\u001b[0;34m:\u001b[0m\u001b[0;34m\u001b[0m\u001b[0;34m\u001b[0m\u001b[0m\n\u001b[0;32m--> 349\u001b[0;31m             \u001b[0;32mraise\u001b[0m \u001b[0mKeyError\u001b[0m\u001b[0;34m(\u001b[0m\u001b[0mitem\u001b[0m\u001b[0;34m)\u001b[0m\u001b[0;34m\u001b[0m\u001b[0;34m\u001b[0m\u001b[0m\n\u001b[0m\u001b[1;32m    350\u001b[0m \u001b[0;34m\u001b[0m\u001b[0m\n\u001b[1;32m    351\u001b[0m     \u001b[0;32mdef\u001b[0m \u001b[0m__setitem__\u001b[0m\u001b[0;34m(\u001b[0m\u001b[0mself\u001b[0m\u001b[0;34m,\u001b[0m \u001b[0mitem\u001b[0m\u001b[0;34m,\u001b[0m \u001b[0mvalue\u001b[0m\u001b[0;34m)\u001b[0m\u001b[0;34m:\u001b[0m\u001b[0;34m\u001b[0m\u001b[0;34m\u001b[0m\u001b[0m\n",
      "\u001b[0;31mKeyError\u001b[0m: 'chrX/calldata/GT'"
     ]
    }
   ],
   "source": [
    "#Using the data which is present for every individual, that is calldata\n",
    "#And then looking at the stats for heterozygous sites vs all other sites.\n",
    "gt_zarr = callset[\"chrX/calldata/GT\"]\n",
    "gt = allel.GenotypeDaskArray(gt_zarr)\n",
    "individual = gt.take(specific_individual, axis=1)\n",
    "het_or_not = individual.is_het()\n",
    "het = []\n",
    "not_het = []\n",
    "for i in range(len(het_or_not)): #Changing it to index positions, the bool was troublesome.\n",
    "    if het_or_not[i] == True:\n",
    "        het.append(i)\n",
    "    else:\n",
    "        not_het.append(i)\n",
    "    if i % 10000 == 0:\n",
    "        print(i)"
   ]
  },
  {
   "cell_type": "code",
   "execution_count": null,
   "metadata": {},
   "outputs": [],
   "source": [
    "#First looking at AD and DP\n",
    "ad_zarr = allel.GenotypeDaskArray(callset[\"chrX/calldata/AD\"])\n",
    "dp_zarr = allel.GenotypeDaskArray(callset[\"chrX/calldata/DP\"])\n",
    "ad_i = ad_zarr.take(specific_individual, axis=1)\n",
    "dp_i = dp_zarr.take(specific_individual, axis=1)"
   ]
  },
  {
   "cell_type": "code",
   "execution_count": 47,
   "metadata": {},
   "outputs": [],
   "source": [
    "#Plotting of raw heterozygosity\n",
    "x_data = het_counts_windows.loc[het_counts_windows.chr == \"chrX\"]\n",
    "x_count = []\n",
    "id_list = []\n",
    "sex_list = []\n",
    "for i, row in meta_data_samples.iterrows():\n",
    "    ID = row.PGDP_ID\n",
    "    x = x_data[ID]\n",
    "    x_count.append(x.sum())\n",
    "    id_list.append(ID)\n",
    "    sex_list.append(row.Sex)"
   ]
  },
  {
   "cell_type": "code",
   "execution_count": 70,
   "metadata": {},
   "outputs": [
    {
     "data": {
      "text/plain": [
       "<seaborn.axisgrid.FacetGrid at 0x2ac827c7fa90>"
      ]
     },
     "execution_count": 70,
     "metadata": {},
     "output_type": "execute_result"
    },
    {
     "data": {
      "image/png": "[encoded data removed]",
      "text/plain": [
       "<Figure size 409.1x360 with 1 Axes>"
      ]
     },
     "metadata": {
      "image/png": {
       "height": 348,
       "width": 404
      }
     },
     "output_type": "display_data"
    }
   ],
   "source": [
    "sns.displot(x = x_count, hue = sex_list, element = \"step\")"
   ]
  }
 ],
 "metadata": {
  "kernelspec": {
   "display_name": "Python 3",
   "language": "python",
   "name": "python3"
  },
  "language_info": {
   "codemirror_mode": {
    "name": "ipython",
    "version": 3
   },
   "file_extension": ".py",
   "mimetype": "text/x-python",
   "name": "python",
   "nbconvert_exporter": "python",
   "pygments_lexer": "ipython3",
   "version": "3.7.9"
  }
 },
 "nbformat": 4,
 "nbformat_minor": 4
}
