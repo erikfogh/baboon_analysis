{
 "cells": [
  {
   "cell_type": "markdown",
   "metadata": {},
   "source": [
    "In this notebook, I will investigate the het calls on the male X, and remove them based on the state present in females from the same species.\n",
    "I will adapt some of the code from Primatediversity_shared_het"
   ]
  },
  {
   "cell_type": "code",
   "execution_count": 1,
   "metadata": {},
   "outputs": [],
   "source": [
    "%run ../scripts/notebook_settings.py"
   ]
  },
  {
   "cell_type": "code",
   "execution_count": 2,
   "metadata": {},
   "outputs": [],
   "source": [
    "meta_data_samples = pd.read_table(\"../data/metadata_with_x_missing.txt\", sep=\" \")\n",
    "zarr_dir = \"/faststorage/project/baboondiversity/data/PG_panu3_zarr_12_03_2021/callset.zarr/chrX\"\n",
    "#Opening the zarr data\n",
    "callset = zarr.open_group(zarr_dir, mode=\"r\")\n",
    "gt = allel.GenotypeArray(callset[\"calldata/GT\"])"
   ]
  },
  {
   "cell_type": "code",
   "execution_count": 3,
   "metadata": {},
   "outputs": [
    {
     "data": {
      "text/html": [
       "<div>\n",
       "<style scoped>\n",
       "    .dataframe tbody tr th:only-of-type {\n",
       "        vertical-align: middle;\n",
       "    }\n",
       "\n",
       "    .dataframe tbody tr th {\n",
       "        vertical-align: top;\n",
       "    }\n",
       "\n",
       "    .dataframe thead th {\n",
       "        text-align: right;\n",
       "    }\n",
       "</style>\n",
       "<table border=\"1\" class=\"dataframe\">\n",
       "  <thead>\n",
       "    <tr style=\"text-align: right;\">\n",
       "      <th></th>\n",
       "      <th>PGDP_ID</th>\n",
       "      <th>Provider_ID</th>\n",
       "      <th>Provider</th>\n",
       "      <th>Genus</th>\n",
       "      <th>Species</th>\n",
       "      <th>Origin</th>\n",
       "      <th>Sex</th>\n",
       "      <th>address</th>\n",
       "      <th>longitude</th>\n",
       "      <th>latitude</th>\n",
       "      <th>callset_index</th>\n",
       "      <th>C_origin</th>\n",
       "      <th>x_missing</th>\n",
       "    </tr>\n",
       "  </thead>\n",
       "  <tbody>\n",
       "    <tr>\n",
       "      <th>124</th>\n",
       "      <td>PD_0692</td>\n",
       "      <td>35221_BZ12030</td>\n",
       "      <td>Rogers/Jolly/Phillips-Conroy</td>\n",
       "      <td>Papio</td>\n",
       "      <td>ursinus (grayfoot)</td>\n",
       "      <td>Dendro Park, Zambia</td>\n",
       "      <td>M</td>\n",
       "      <td>Dendro Balla Balla Safaris, Namwala, Zambia</td>\n",
       "      <td>26.06255</td>\n",
       "      <td>-16.145438</td>\n",
       "      <td>124</td>\n",
       "      <td>Ursinus, Zambia</td>\n",
       "      <td>0.014076</td>\n",
       "    </tr>\n",
       "    <tr>\n",
       "      <th>125</th>\n",
       "      <td>PD_0693</td>\n",
       "      <td>35225_BZ12031</td>\n",
       "      <td>Rogers/Jolly/Phillips-Conroy</td>\n",
       "      <td>Papio</td>\n",
       "      <td>ursinus (grayfoot)</td>\n",
       "      <td>Dendro Park, Zambia</td>\n",
       "      <td>F</td>\n",
       "      <td>Dendro Balla Balla Safaris, Namwala, Zambia</td>\n",
       "      <td>26.06255</td>\n",
       "      <td>-16.145438</td>\n",
       "      <td>125</td>\n",
       "      <td>Ursinus, Zambia</td>\n",
       "      <td>0.009636</td>\n",
       "    </tr>\n",
       "    <tr>\n",
       "      <th>126</th>\n",
       "      <td>PD_0694</td>\n",
       "      <td>35227_BZ12032</td>\n",
       "      <td>Rogers/Jolly/Phillips-Conroy</td>\n",
       "      <td>Papio</td>\n",
       "      <td>ursinus (grayfoot)</td>\n",
       "      <td>Dendro Park, Zambia</td>\n",
       "      <td>F</td>\n",
       "      <td>Dendro Balla Balla Safaris, Namwala, Zambia</td>\n",
       "      <td>26.06255</td>\n",
       "      <td>-16.145438</td>\n",
       "      <td>126</td>\n",
       "      <td>Ursinus, Zambia</td>\n",
       "      <td>0.009243</td>\n",
       "    </tr>\n",
       "    <tr>\n",
       "      <th>127</th>\n",
       "      <td>PD_0695</td>\n",
       "      <td>35229_BZ12033</td>\n",
       "      <td>Rogers/Jolly/Phillips-Conroy</td>\n",
       "      <td>Papio</td>\n",
       "      <td>ursinus (grayfoot)</td>\n",
       "      <td>Dendro Park, Zambia</td>\n",
       "      <td>F</td>\n",
       "      <td>Dendro Balla Balla Safaris, Namwala, Zambia</td>\n",
       "      <td>26.06255</td>\n",
       "      <td>-16.145438</td>\n",
       "      <td>127</td>\n",
       "      <td>Ursinus, Zambia</td>\n",
       "      <td>0.009191</td>\n",
       "    </tr>\n",
       "  </tbody>\n",
       "</table>\n",
       "</div>"
      ],
      "text/plain": [
       "     PGDP_ID    Provider_ID                      Provider  Genus  \\\n",
       "124  PD_0692  35221_BZ12030  Rogers/Jolly/Phillips-Conroy  Papio   \n",
       "125  PD_0693  35225_BZ12031  Rogers/Jolly/Phillips-Conroy  Papio   \n",
       "126  PD_0694  35227_BZ12032  Rogers/Jolly/Phillips-Conroy  Papio   \n",
       "127  PD_0695  35229_BZ12033  Rogers/Jolly/Phillips-Conroy  Papio   \n",
       "\n",
       "                Species               Origin Sex  \\\n",
       "124  ursinus (grayfoot)  Dendro Park, Zambia   M   \n",
       "125  ursinus (grayfoot)  Dendro Park, Zambia   F   \n",
       "126  ursinus (grayfoot)  Dendro Park, Zambia   F   \n",
       "127  ursinus (grayfoot)  Dendro Park, Zambia   F   \n",
       "\n",
       "                                         address  longitude   latitude  \\\n",
       "124  Dendro Balla Balla Safaris, Namwala, Zambia   26.06255 -16.145438   \n",
       "125  Dendro Balla Balla Safaris, Namwala, Zambia   26.06255 -16.145438   \n",
       "126  Dendro Balla Balla Safaris, Namwala, Zambia   26.06255 -16.145438   \n",
       "127  Dendro Balla Balla Safaris, Namwala, Zambia   26.06255 -16.145438   \n",
       "\n",
       "     callset_index         C_origin  x_missing  \n",
       "124            124  Ursinus, Zambia   0.014076  \n",
       "125            125  Ursinus, Zambia   0.009636  \n",
       "126            126  Ursinus, Zambia   0.009243  \n",
       "127            127  Ursinus, Zambia   0.009191  "
      ]
     },
     "execution_count": 3,
     "metadata": {},
     "output_type": "execute_result"
    }
   ],
   "source": [
    "meta_data_samples.loc[meta_data_samples.Species == \"ursinus (grayfoot)\"]"
   ]
  },
  {
   "cell_type": "code",
   "execution_count": 4,
   "metadata": {},
   "outputs": [],
   "source": [
    "def count_het_species(gt, species):\n",
    "    IDs = meta_data_samples.loc[meta_data_samples.Species == species].callset_index.values\n",
    "    females = meta_data_samples.loc[(meta_data_samples.Species == species)\n",
    "                                    & (meta_data_samples.Sex == \"F\")].callset_index.values\n",
    "    males = meta_data_samples.loc[(meta_data_samples.Species == species)\n",
    "                                    & (meta_data_samples.Sex == \"M\")].callset_index.values\n",
    "    gt_f = gt.take(females, axis=1)\n",
    "    gt_m = gt.take(males, axis=1)\n",
    "    f_het = gt_f.is_het()\n",
    "    m_het = gt_m.is_het()\n",
    "    matrix = np.zeros((len(males)+1, len(females)+1))\n",
    "    m_sum = m_het.sum(axis=1)\n",
    "    f_sum = f_het.sum(axis=1)\n",
    "    for i in range(len(m_sum)):\n",
    "        matrix[m_sum[i], f_sum[i]] += 1\n",
    "    print(species)\n",
    "    print(\"{} males and {} females\".format(len(males), len(females)))\n",
    "    print(\"Out of {} sites, {} are present in males,\".format(matrix.sum(), sum(matrix.sum(axis=1)[1:])/matrix.sum()))\n",
    "    print(\"{} are in females\".format(sum(matrix.sum(axis=0)[1:])/matrix.sum()))\n",
    "    print(\"With {} of male sites overlapping\".format(matrix[1:, 1:].sum()/sum(matrix.sum(axis=1)[1:])))\n",
    "    print(\"{} sites are het in all\".format(matrix[len(males), len(females)]/matrix.sum()))\n",
    "    return matrix"
   ]
  },
  {
   "cell_type": "code",
   "execution_count": 5,
   "metadata": {},
   "outputs": [
    {
     "name": "stdout",
     "output_type": "stream",
     "text": [
      "cynocephalus\n",
      "38 males and 24 females\n",
      "Out of 2923212.0 sites, 0.08423405486841187 are present in males,\n",
      "0.3749060964445959 are in females\n",
      "With 0.3710413671548202 of male sites overlapping\n",
      "0.0012883088876208774 sites are het in all\n",
      "anubis\n",
      "42 males and 52 females\n",
      "Out of 2923212.0 sites, 0.07334124244153349 are present in males,\n",
      "0.29615060419839545 are in females\n",
      "With 0.31978338743982987 of male sites overlapping\n",
      "0.001240416363917499 sites are het in all\n",
      "kindae\n",
      "18 males and 9 females\n",
      "Out of 2923212.0 sites, 0.06085668778042783 are present in males,\n",
      "0.17061677360383032 are in females\n",
      "With 0.2319488243196906 of male sites overlapping\n",
      "0.0018226526163685698 sites are het in all\n",
      "gelada\n",
      "2 males and 0 females\n",
      "Out of 2923212.0 sites, 0.046292229232775456 are present in males,\n",
      "0.0 are in females\n",
      "With 0.0 of male sites overlapping\n",
      "0.031158191742507897 sites are het in all\n",
      "hamadryas\n",
      "20 males and 6 females\n",
      "Out of 2923212.0 sites, 0.05886504297327734 are present in males,\n",
      "0.110604020508947 are in females\n",
      "With 0.206485544094145 of male sites overlapping\n",
      "0.0018797815553575998 sites are het in all\n",
      "papio\n",
      "7 males and 5 females\n",
      "Out of 2923212.0 sites, 0.04994027118115279 are present in males,\n",
      "0.025535267370276258 are in females\n",
      "With 0.140273724877728 of male sites overlapping\n",
      "0.0028851824636735206 sites are het in all\n",
      "ursinus (grayfoot)\n",
      "1 males and 3 females\n",
      "Out of 2923212.0 sites, 0.03266885877589446 are present in males,\n",
      "0.0832789411099845 are in females\n",
      "With 0.16335420637081405 of male sites overlapping\n",
      "0.0034978646776217394 sites are het in all\n"
     ]
    },
    {
     "data": {
      "text/plain": [
       "array([[2599872.,  137074.,   73899.,   16869.],\n",
       "       [  79898.,    2734.,    2641.,   10225.]])"
      ]
     },
     "execution_count": 5,
     "metadata": {},
     "output_type": "execute_result"
    }
   ],
   "source": [
    "for species in meta_data_samples.Species.unique():\n",
    "    df = count_het_species(gt, species)\n",
    "df"
   ]
  },
  {
   "cell_type": "markdown",
   "metadata": {},
   "source": [
    "Now I remove the putative PAR."
   ]
  },
  {
   "cell_type": "code",
   "execution_count": 6,
   "metadata": {},
   "outputs": [],
   "source": [
    "callset = zarr.open_group(zarr_dir, mode=\"r\")\n",
    "gt_zarr = callset[\"calldata/GT\"]\n",
    "pos = allel.SortedIndex(callset['variants/POS'])\n",
    "loc_region = pos.locate_range(2500000, 140000000)\n",
    "gt_nonpar = allel.GenotypeArray(gt_zarr[loc_region])"
   ]
  },
  {
   "cell_type": "code",
   "execution_count": 7,
   "metadata": {},
   "outputs": [
    {
     "data": {
      "text/html": [
       "<div class=\"allel allel-DisplayAs2D\"><span>&lt;GenotypeArray shape=(2774845, 227, 2) dtype=int8&gt;</span><table><thead><tr><th></th><th style=\"text-align: center\">0</th><th style=\"text-align: center\">1</th><th style=\"text-align: center\">2</th><th style=\"text-align: center\">3</th><th style=\"text-align: center\">4</th><th style=\"text-align: center\">...</th><th style=\"text-align: center\">222</th><th style=\"text-align: center\">223</th><th style=\"text-align: center\">224</th><th style=\"text-align: center\">225</th><th style=\"text-align: center\">226</th></tr></thead><tbody><tr><th style=\"text-align: center; background-color: white; border-right: 1px solid black; \">0</th><td style=\"text-align: center\">0/0</td><td style=\"text-align: center\">0/0</td><td style=\"text-align: center\">0/0</td><td style=\"text-align: center\">0/0</td><td style=\"text-align: center\">0/0</td><td style=\"text-align: center\">...</td><td style=\"text-align: center\">0/0</td><td style=\"text-align: center\">0/0</td><td style=\"text-align: center\">0/0</td><td style=\"text-align: center\">0/0</td><td style=\"text-align: center\">0/0</td></tr><tr><th style=\"text-align: center; background-color: white; border-right: 1px solid black; \">1</th><td style=\"text-align: center\">0/0</td><td style=\"text-align: center\">0/0</td><td style=\"text-align: center\">0/0</td><td style=\"text-align: center\">0/0</td><td style=\"text-align: center\">0/0</td><td style=\"text-align: center\">...</td><td style=\"text-align: center\">0/0</td><td style=\"text-align: center\">0/0</td><td style=\"text-align: center\">0/0</td><td style=\"text-align: center\">0/0</td><td style=\"text-align: center\">0/0</td></tr><tr><th style=\"text-align: center; background-color: white; border-right: 1px solid black; \">2</th><td style=\"text-align: center\">1/1</td><td style=\"text-align: center\">1/1</td><td style=\"text-align: center\">0/0</td><td style=\"text-align: center\">0/0</td><td style=\"text-align: center\">1/1</td><td style=\"text-align: center\">...</td><td style=\"text-align: center\">1/1</td><td style=\"text-align: center\">1/1</td><td style=\"text-align: center\">1/1</td><td style=\"text-align: center\">1/1</td><td style=\"text-align: center\">1/1</td></tr><tr><th style=\"text-align: center; background-color: white; border-right: 1px solid black; \">...</th><td style=\"text-align: center\" colspan=\"12\">...</td></tr><tr><th style=\"text-align: center; background-color: white; border-right: 1px solid black; \">2774842</th><td style=\"text-align: center\">0/0</td><td style=\"text-align: center\">0/0</td><td style=\"text-align: center\">0/0</td><td style=\"text-align: center\">0/0</td><td style=\"text-align: center\">0/0</td><td style=\"text-align: center\">...</td><td style=\"text-align: center\">0/0</td><td style=\"text-align: center\">0/0</td><td style=\"text-align: center\">0/0</td><td style=\"text-align: center\">0/0</td><td style=\"text-align: center\">0/0</td></tr><tr><th style=\"text-align: center; background-color: white; border-right: 1px solid black; \">2774843</th><td style=\"text-align: center\">0/0</td><td style=\"text-align: center\">0/0</td><td style=\"text-align: center\">0/0</td><td style=\"text-align: center\">0/0</td><td style=\"text-align: center\">0/0</td><td style=\"text-align: center\">...</td><td style=\"text-align: center\">0/0</td><td style=\"text-align: center\">0/0</td><td style=\"text-align: center\">0/0</td><td style=\"text-align: center\">0/0</td><td style=\"text-align: center\">0/0</td></tr><tr><th style=\"text-align: center; background-color: white; border-right: 1px solid black; \">2774844</th><td style=\"text-align: center\">0/0</td><td style=\"text-align: center\">0/0</td><td style=\"text-align: center\">0/0</td><td style=\"text-align: center\">0/0</td><td style=\"text-align: center\">0/0</td><td style=\"text-align: center\">...</td><td style=\"text-align: center\">0/0</td><td style=\"text-align: center\">0/0</td><td style=\"text-align: center\">0/0</td><td style=\"text-align: center\">0/0</td><td style=\"text-align: center\">0/0</td></tr></tbody></table></div>"
      ],
      "text/plain": [
       "<GenotypeArray shape=(2774845, 227, 2) dtype=int8>\n",
       "0/0 0/0 0/0 0/0 0/0 ... 0/0 0/0 0/0 0/0 0/0\n",
       "0/0 0/0 0/0 0/0 0/0 ... 0/0 0/0 0/0 0/0 0/0\n",
       "1/1 1/1 0/0 0/0 1/1 ... 1/1 1/1 1/1 1/1 1/1\n",
       "...\n",
       "0/0 0/0 0/0 0/0 0/0 ... 0/0 0/0 0/0 0/0 0/0\n",
       "0/0 0/0 0/0 0/0 0/0 ... 0/0 0/0 0/0 0/0 0/0\n",
       "0/0 0/0 0/0 0/0 0/0 ... 0/0 0/0 0/0 0/0 0/0"
      ]
     },
     "execution_count": 7,
     "metadata": {},
     "output_type": "execute_result"
    }
   ],
   "source": [
    "gt_nonpar"
   ]
  },
  {
   "cell_type": "code",
   "execution_count": 8,
   "metadata": {},
   "outputs": [
    {
     "data": {
      "text/plain": [
       "2923212"
      ]
     },
     "execution_count": 8,
     "metadata": {},
     "output_type": "execute_result"
    }
   ],
   "source": [
    "len(gt)"
   ]
  },
  {
   "cell_type": "code",
   "execution_count": 9,
   "metadata": {},
   "outputs": [
    {
     "name": "stdout",
     "output_type": "stream",
     "text": [
      "cynocephalus\n",
      "38 males and 24 females\n",
      "Out of 2774845.0 sites, 0.07232728314554507 are present in males,\n",
      "0.38014303501637026 are in females\n",
      "With 0.4039024001355277 of male sites overlapping\n",
      "0.001236825840722635 sites are het in all\n",
      "anubis\n",
      "42 males and 52 females\n",
      "Out of 2774845.0 sites, 0.062125632242521656 are present in males,\n",
      "0.29948123228504653 are in females\n",
      "With 0.34951185980544003 of male sites overlapping\n",
      "0.0011957424648944355 sites are het in all\n",
      "kindae\n",
      "18 males and 9 females\n",
      "Out of 2774845.0 sites, 0.05066084772302597 are present in males,\n",
      "0.1738197989437248 are in females\n",
      "With 0.26005861597996816 of male sites overlapping\n",
      "0.0017337905360479595 sites are het in all\n",
      "gelada\n",
      "2 males and 0 females\n",
      "Out of 2774845.0 sites, 0.038015096338714416 are present in males,\n",
      "0.0 are in females\n",
      "With 0.0 of male sites overlapping\n",
      "0.024557407711061338 sites are het in all\n",
      "hamadryas\n",
      "20 males and 6 females\n",
      "Out of 2774845.0 sites, 0.04971881312289515 are present in males,\n",
      "0.11216806704518631 are in females\n",
      "With 0.22828749945637206 of male sites overlapping\n",
      "0.001813434624276311 sites are het in all\n",
      "papio\n",
      "7 males and 5 females\n",
      "Out of 2774845.0 sites, 0.0411875257897288 are present in males,\n",
      "0.02556286927738306 are in females\n",
      "With 0.16363779541338186 of male sites overlapping\n",
      "0.002784299663584813 sites are het in all\n",
      "ursinus (grayfoot)\n",
      "1 males and 3 females\n",
      "Out of 2774845.0 sites, 0.025453313608507864 are present in males,\n",
      "0.08465770160135071 are in females\n",
      "With 0.19700123178864207 of male sites overlapping\n",
      "0.0033515385544057416 sites are het in all\n"
     ]
    }
   ],
   "source": [
    "for species in meta_data_samples.Species.unique():\n",
    "    df = count_het_species(gt_nonpar, species)"
   ]
  },
  {
   "cell_type": "markdown",
   "metadata": {},
   "source": [
    "Removing PAR actually increases overlap, but it decreases the percentage of sites with male het."
   ]
  },
  {
   "cell_type": "code",
   "execution_count": 10,
   "metadata": {},
   "outputs": [
    {
     "name": "stdout",
     "output_type": "stream",
     "text": [
      "kindae\n",
      "18 males and 9 females\n",
      "Out of 2774845.0 sites, 0.05066084772302597 are present in males,\n",
      "0.1738197989437248 are in females\n",
      "With 0.26005861597996816 of male sites overlapping\n",
      "0.0017337905360479595 sites are het in all\n"
     ]
    }
   ],
   "source": [
    "df = count_het_species(gt_nonpar, \"kindae\")"
   ]
  },
  {
   "cell_type": "markdown",
   "metadata": {},
   "source": [
    "Now, I will create a \"reference\" allele count for each female population, and then go through the males one by one to decide on the states for each site."
   ]
  },
  {
   "cell_type": "code",
   "execution_count": 32,
   "metadata": {},
   "outputs": [],
   "source": [
    "def state_decision(gt, species, meta_data_samples):\n",
    "    females = meta_data_samples.loc[(meta_data_samples.Species == species)\n",
    "                                    & (meta_data_samples.Sex == \"F\")].callset_index.values\n",
    "    males = meta_data_samples.loc[(meta_data_samples.Species == species)\n",
    "                                    & (meta_data_samples.Sex == \"M\")].callset_index.values\n",
    "    gt_f = gt.take(females, axis=1)\n",
    "    ac_f = gt_f.count_alleles()\n",
    "    allelism_f = np.reshape(ac_f.allelism()==1, (-1,1))\n",
    "    #reshape is needed to make sure they have the same np dimensions\n",
    "    print(species)\n",
    "    print(\"Total sites:\", len(ac_f))\n",
    "    print(\"Variants in all females: \", ac_f.is_variant().sum())\n",
    "    gt_all_males = gt.take(males, axis=1)\n",
    "    avg_het = gt_all_males.count_het()/len(males)\n",
    "    avg_share = []\n",
    "    avg_removed = []\n",
    "    gt_list = []\n",
    "    for ID in males:\n",
    "        gt_m = gt.take([ID], axis=1)\n",
    "        het_state = gt_m.is_het()\n",
    "        variable_sites = gt_m.count_called().sum()-gt_m.is_hom_ref().sum()\n",
    "        #print(\"Variants in male: {}, of which {} are het\".format(\n",
    "        #    variable_sites, het_state.sum()/variable_sites))\n",
    "        het_males_fixed_females = het_state & allelism_f\n",
    "        #print(\"\"\"Fixed female: {}, Het sites in male {}, percentage {}\"\"\".format(\n",
    "        #het_males_fixed_females.sum(), het_state.sum(), het_males_fixed_females.sum()/het_state.sum()))\n",
    "        avg_share.append(het_males_fixed_females.sum()/het_state.sum())\n",
    "        mask = het_state & (allelism_f==False)\n",
    "        #print(\"Removed {} sites due to the masking\".format((het_state & (allelism_f==False)).sum()))\n",
    "        avg_removed.append((het_state & (allelism_f==False)).sum()/variable_sites)\n",
    "        gt_m.mask = mask\n",
    "        gt_m.fill_masked(value=-1, copy=False)\n",
    "        max_alt = ac_f.max_allele()\n",
    "        for i in range(max_alt.max()):\n",
    "            alt_bool = np.reshape((max_alt==i), (-1,1)) & het_males_fixed_females\n",
    "            #print(\"{} sites in state {}\".format(alt_bool.sum(), i))\n",
    "            mask = alt_bool\n",
    "            gt_m.mask = mask\n",
    "            gt_m.fill_masked(value=i, copy=False)\n",
    "        gt_list.append(gt_m)\n",
    "    print(\"Average number of het sites in males {}, percentage which can be assigned {}. {} % removed\".format(\n",
    "        avg_het, sum(avg_share)/len(avg_share), sum(avg_removed)/len(avg_removed)))\n",
    "    return gt_list, males"
   ]
  },
  {
   "cell_type": "code",
   "execution_count": 33,
   "metadata": {},
   "outputs": [
    {
     "name": "stdout",
     "output_type": "stream",
     "text": [
      "cynocephalus\n",
      "Total sites: 2774845\n",
      "Variants in all females:  1148230\n",
      "Average number of het sites in males 82461.55263157895, percentage which can be assigned 0.7513595583489419. 0.051860247922123355 % removed\n",
      "anubis\n",
      "Total sites: 2774845\n",
      "Variants in all females:  868622\n",
      "Average number of het sites in males 78082.40476190476, percentage which can be assigned 0.787317395119363. 0.07961099324261323 % removed\n",
      "kindae\n",
      "Total sites: 2774845\n",
      "Variants in all females:  644275\n",
      "Average number of het sites in males 77530.27777777778, percentage which can be assigned 0.7941003308380515. 0.04144962992820496 % removed\n",
      "hamadryas\n",
      "Total sites: 2774845\n",
      "Variants in all females:  402723\n",
      "Average number of het sites in males 77614.7, percentage which can be assigned 0.8099701154531418. 0.05499559336200936 % removed\n",
      "papio\n",
      "Total sites: 2774845\n",
      "Variants in all females:  216557\n",
      "Average number of het sites in males 78701.71428571429, percentage which can be assigned 0.8287346751569187. 0.0558674547842538 % removed\n",
      "ursinus (grayfoot)\n",
      "Total sites: 2774845\n",
      "Variants in all females:  465119\n",
      "Average number of het sites in males 70629.0, percentage which can be assigned 0.8020643078622096. 0.03626731972054967 % removed\n"
     ]
    }
   ],
   "source": [
    "gt_list = []\n",
    "ID_list = []\n",
    "for species in meta_data_samples.Species.unique():\n",
    "    if species == \"gelada\":\n",
    "        continue\n",
    "    gts, filter_IDs = state_decision(gt_nonpar, species, meta_data_samples)\n",
    "    gt_list.extend(gts)\n",
    "    ID_list.extend(filter_IDs)\n",
    "np_merged = np.concatenate(gt_list, axis=1)\n",
    "gt_merged = allel.GenotypeArray(np_merged)"
   ]
  },
  {
   "cell_type": "code",
   "execution_count": 13,
   "metadata": {},
   "outputs": [
    {
     "data": {
      "text/html": [
       "<div class=\"allel allel-DisplayAs2D\"><span>&lt;GenotypeArray shape=(2774845, 126, 2) dtype=int8&gt;</span><table><thead><tr><th></th><th style=\"text-align: center\">0</th><th style=\"text-align: center\">1</th><th style=\"text-align: center\">2</th><th style=\"text-align: center\">3</th><th style=\"text-align: center\">4</th><th style=\"text-align: center\">...</th><th style=\"text-align: center\">121</th><th style=\"text-align: center\">122</th><th style=\"text-align: center\">123</th><th style=\"text-align: center\">124</th><th style=\"text-align: center\">125</th></tr></thead><tbody><tr><th style=\"text-align: center; background-color: white; border-right: 1px solid black; \">0</th><td style=\"text-align: center\">0/0</td><td style=\"text-align: center\">0/0</td><td style=\"text-align: center\">0/0</td><td style=\"text-align: center\">0/0</td><td style=\"text-align: center\">0/0</td><td style=\"text-align: center\">...</td><td style=\"text-align: center\">0/0</td><td style=\"text-align: center\">0/0</td><td style=\"text-align: center\">0/0</td><td style=\"text-align: center\">0/0</td><td style=\"text-align: center\">1/1</td></tr><tr><th style=\"text-align: center; background-color: white; border-right: 1px solid black; \">1</th><td style=\"text-align: center\">0/0</td><td style=\"text-align: center\">0/0</td><td style=\"text-align: center\">0/0</td><td style=\"text-align: center\">0/0</td><td style=\"text-align: center\">0/0</td><td style=\"text-align: center\">...</td><td style=\"text-align: center\">0/0</td><td style=\"text-align: center\">0/0</td><td style=\"text-align: center\">0/0</td><td style=\"text-align: center\">0/0</td><td style=\"text-align: center\">0/0</td></tr><tr><th style=\"text-align: center; background-color: white; border-right: 1px solid black; \">2</th><td style=\"text-align: center\">1/1</td><td style=\"text-align: center\">1/1</td><td style=\"text-align: center\">1/1</td><td style=\"text-align: center\">1/1</td><td style=\"text-align: center\">1/1</td><td style=\"text-align: center\">...</td><td style=\"text-align: center\">0/0</td><td style=\"text-align: center\">0/0</td><td style=\"text-align: center\">0/0</td><td style=\"text-align: center\">0/0</td><td style=\"text-align: center\">1/1</td></tr><tr><th style=\"text-align: center; background-color: white; border-right: 1px solid black; \">...</th><td style=\"text-align: center\" colspan=\"12\">...</td></tr><tr><th style=\"text-align: center; background-color: white; border-right: 1px solid black; \">2774842</th><td style=\"text-align: center\">0/0</td><td style=\"text-align: center\">0/0</td><td style=\"text-align: center\">0/0</td><td style=\"text-align: center\">0/0</td><td style=\"text-align: center\">0/0</td><td style=\"text-align: center\">...</td><td style=\"text-align: center\">0/0</td><td style=\"text-align: center\">0/0</td><td style=\"text-align: center\">0/0</td><td style=\"text-align: center\">0/0</td><td style=\"text-align: center\">0/0</td></tr><tr><th style=\"text-align: center; background-color: white; border-right: 1px solid black; \">2774843</th><td style=\"text-align: center\">0/0</td><td style=\"text-align: center\">0/0</td><td style=\"text-align: center\">0/0</td><td style=\"text-align: center\">0/0</td><td style=\"text-align: center\">0/0</td><td style=\"text-align: center\">...</td><td style=\"text-align: center\">0/0</td><td style=\"text-align: center\">0/0</td><td style=\"text-align: center\">0/0</td><td style=\"text-align: center\">0/0</td><td style=\"text-align: center\">0/0</td></tr><tr><th style=\"text-align: center; background-color: white; border-right: 1px solid black; \">2774844</th><td style=\"text-align: center\">0/0</td><td style=\"text-align: center\">1/1</td><td style=\"text-align: center\">0/0</td><td style=\"text-align: center\">0/0</td><td style=\"text-align: center\">0/0</td><td style=\"text-align: center\">...</td><td style=\"text-align: center\">0/0</td><td style=\"text-align: center\">0/0</td><td style=\"text-align: center\">0/0</td><td style=\"text-align: center\">0/0</td><td style=\"text-align: center\">0/0</td></tr></tbody></table></div>"
      ],
      "text/plain": [
       "<GenotypeArray shape=(2774845, 126, 2) dtype=int8>\n",
       "0/0 0/0 0/0 0/0 0/0 ... 0/0 0/0 0/0 0/0 1/1\n",
       "0/0 0/0 0/0 0/0 0/0 ... 0/0 0/0 0/0 0/0 0/0\n",
       "1/1 1/1 1/1 1/1 1/1 ... 0/0 0/0 0/0 0/0 1/1\n",
       "...\n",
       "0/0 0/0 0/0 0/0 0/0 ... 0/0 0/0 0/0 0/0 0/0\n",
       "0/0 0/0 0/0 0/0 0/0 ... 0/0 0/0 0/0 0/0 0/0\n",
       "0/0 1/1 0/0 0/0 0/0 ... 0/0 0/0 0/0 0/0 0/0"
      ]
     },
     "execution_count": 13,
     "metadata": {},
     "output_type": "execute_result"
    }
   ],
   "source": [
    "gt_merged"
   ]
  },
  {
   "cell_type": "code",
   "execution_count": 14,
   "metadata": {},
   "outputs": [],
   "source": [
    "ht_merged = gt_merged.haploidify_samples()"
   ]
  },
  {
   "cell_type": "code",
   "execution_count": 15,
   "metadata": {},
   "outputs": [
    {
     "data": {
      "text/html": [
       "<div>\n",
       "<style scoped>\n",
       "    .dataframe tbody tr th:only-of-type {\n",
       "        vertical-align: middle;\n",
       "    }\n",
       "\n",
       "    .dataframe tbody tr th {\n",
       "        vertical-align: top;\n",
       "    }\n",
       "\n",
       "    .dataframe thead th {\n",
       "        text-align: right;\n",
       "    }\n",
       "</style>\n",
       "<table border=\"1\" class=\"dataframe\">\n",
       "  <thead>\n",
       "    <tr style=\"text-align: right;\">\n",
       "      <th></th>\n",
       "      <th>PGDP_ID</th>\n",
       "      <th>Provider_ID</th>\n",
       "      <th>Provider</th>\n",
       "      <th>Genus</th>\n",
       "      <th>Species</th>\n",
       "      <th>Origin</th>\n",
       "      <th>Sex</th>\n",
       "      <th>address</th>\n",
       "      <th>longitude</th>\n",
       "      <th>latitude</th>\n",
       "      <th>callset_index</th>\n",
       "      <th>C_origin</th>\n",
       "      <th>x_missing</th>\n",
       "    </tr>\n",
       "  </thead>\n",
       "  <tbody>\n",
       "    <tr>\n",
       "      <th>0</th>\n",
       "      <td>PD_0215</td>\n",
       "      <td>13RUM1130716</td>\n",
       "      <td>Knauf/Chuma/Roos</td>\n",
       "      <td>Papio</td>\n",
       "      <td>cynocephalus</td>\n",
       "      <td>Ruaha, Tanzania</td>\n",
       "      <td>M</td>\n",
       "      <td>Ruaha, Ulanga, Morogoro, Coastal Zone, Tanzania</td>\n",
       "      <td>36.714814</td>\n",
       "      <td>-8.895386</td>\n",
       "      <td>0</td>\n",
       "      <td>Cynocephalus, Central Tanzania</td>\n",
       "      <td>0.014343</td>\n",
       "    </tr>\n",
       "    <tr>\n",
       "      <th>1</th>\n",
       "      <td>PD_0217</td>\n",
       "      <td>17RUM5140716</td>\n",
       "      <td>Knauf/Chuma/Roos</td>\n",
       "      <td>Papio</td>\n",
       "      <td>cynocephalus</td>\n",
       "      <td>Ruaha, Tanzania</td>\n",
       "      <td>M</td>\n",
       "      <td>Ruaha, Ulanga, Morogoro, Coastal Zone, Tanzania</td>\n",
       "      <td>36.714814</td>\n",
       "      <td>-8.895386</td>\n",
       "      <td>1</td>\n",
       "      <td>Cynocephalus, Central Tanzania</td>\n",
       "      <td>0.015386</td>\n",
       "    </tr>\n",
       "    <tr>\n",
       "      <th>2</th>\n",
       "      <td>PD_0223</td>\n",
       "      <td>02UNM1220616</td>\n",
       "      <td>Knauf/Chuma/Roos</td>\n",
       "      <td>Papio</td>\n",
       "      <td>cynocephalus</td>\n",
       "      <td>Udzungwa, Tanzania</td>\n",
       "      <td>M</td>\n",
       "      <td>Udzungwa National Park, Iringa, Southern Highl...</td>\n",
       "      <td>36.725746</td>\n",
       "      <td>-7.805251</td>\n",
       "      <td>2</td>\n",
       "      <td>Cynocephalus, Central Tanzania</td>\n",
       "      <td>0.015105</td>\n",
       "    </tr>\n",
       "    <tr>\n",
       "      <th>3</th>\n",
       "      <td>PD_0227</td>\n",
       "      <td>27UNM1160317</td>\n",
       "      <td>Knauf/Chuma/Roos</td>\n",
       "      <td>Papio</td>\n",
       "      <td>cynocephalus</td>\n",
       "      <td>Udzungwa, Tanzania</td>\n",
       "      <td>M</td>\n",
       "      <td>Udzungwa National Park, Iringa, Southern Highl...</td>\n",
       "      <td>36.725746</td>\n",
       "      <td>-7.805251</td>\n",
       "      <td>3</td>\n",
       "      <td>Cynocephalus, Central Tanzania</td>\n",
       "      <td>0.014568</td>\n",
       "    </tr>\n",
       "    <tr>\n",
       "      <th>4</th>\n",
       "      <td>PD_0228</td>\n",
       "      <td>01MNM1300916</td>\n",
       "      <td>Knauf/Chuma/Roos</td>\n",
       "      <td>Papio</td>\n",
       "      <td>cynocephalus</td>\n",
       "      <td>Mahale, Tanzania</td>\n",
       "      <td>M</td>\n",
       "      <td>Mahale National Park, Kigoma, Western Zone, Ta...</td>\n",
       "      <td>29.883426</td>\n",
       "      <td>-6.203292</td>\n",
       "      <td>4</td>\n",
       "      <td>Cynocephalus, Western Tanzania</td>\n",
       "      <td>0.015121</td>\n",
       "    </tr>\n",
       "    <tr>\n",
       "      <th>...</th>\n",
       "      <td>...</td>\n",
       "      <td>...</td>\n",
       "      <td>...</td>\n",
       "      <td>...</td>\n",
       "      <td>...</td>\n",
       "      <td>...</td>\n",
       "      <td>...</td>\n",
       "      <td>...</td>\n",
       "      <td>...</td>\n",
       "      <td>...</td>\n",
       "      <td>...</td>\n",
       "      <td>...</td>\n",
       "      <td>...</td>\n",
       "    </tr>\n",
       "    <tr>\n",
       "      <th>121</th>\n",
       "      <td>PD_0398</td>\n",
       "      <td>T37</td>\n",
       "      <td>Zinner/Fischer</td>\n",
       "      <td>Papio</td>\n",
       "      <td>papio</td>\n",
       "      <td>Niokolo-Koba, Senegal</td>\n",
       "      <td>M</td>\n",
       "      <td>Niokolo Koba, Kédougou, Sénégal</td>\n",
       "      <td>-12.748341</td>\n",
       "      <td>13.078081</td>\n",
       "      <td>121</td>\n",
       "      <td>Papio, Senegal</td>\n",
       "      <td>0.012534</td>\n",
       "    </tr>\n",
       "    <tr>\n",
       "      <th>122</th>\n",
       "      <td>PD_0399</td>\n",
       "      <td>T49</td>\n",
       "      <td>Zinner/Fischer</td>\n",
       "      <td>Papio</td>\n",
       "      <td>papio</td>\n",
       "      <td>Niokolo-Koba, Senegal</td>\n",
       "      <td>M</td>\n",
       "      <td>Niokolo Koba, Kédougou, Sénégal</td>\n",
       "      <td>-12.748341</td>\n",
       "      <td>13.078081</td>\n",
       "      <td>122</td>\n",
       "      <td>Papio, Senegal</td>\n",
       "      <td>0.012503</td>\n",
       "    </tr>\n",
       "    <tr>\n",
       "      <th>123</th>\n",
       "      <td>PD_0400</td>\n",
       "      <td>T51</td>\n",
       "      <td>Zinner/Fischer</td>\n",
       "      <td>Papio</td>\n",
       "      <td>papio</td>\n",
       "      <td>Niokolo-Koba, Senegal</td>\n",
       "      <td>M</td>\n",
       "      <td>Niokolo Koba, Kédougou, Sénégal</td>\n",
       "      <td>-12.748341</td>\n",
       "      <td>13.078081</td>\n",
       "      <td>123</td>\n",
       "      <td>Papio, Senegal</td>\n",
       "      <td>0.011650</td>\n",
       "    </tr>\n",
       "    <tr>\n",
       "      <th>124</th>\n",
       "      <td>PD_0401</td>\n",
       "      <td>T66</td>\n",
       "      <td>Zinner/Fischer</td>\n",
       "      <td>Papio</td>\n",
       "      <td>papio</td>\n",
       "      <td>Niokolo-Koba, Senegal</td>\n",
       "      <td>M</td>\n",
       "      <td>Niokolo Koba, Kédougou, Sénégal</td>\n",
       "      <td>-12.748341</td>\n",
       "      <td>13.078081</td>\n",
       "      <td>124</td>\n",
       "      <td>Papio, Senegal</td>\n",
       "      <td>0.012213</td>\n",
       "    </tr>\n",
       "    <tr>\n",
       "      <th>125</th>\n",
       "      <td>PD_0692</td>\n",
       "      <td>35221_BZ12030</td>\n",
       "      <td>Rogers/Jolly/Phillips-Conroy</td>\n",
       "      <td>Papio</td>\n",
       "      <td>ursinus (grayfoot)</td>\n",
       "      <td>Dendro Park, Zambia</td>\n",
       "      <td>M</td>\n",
       "      <td>Dendro Balla Balla Safaris, Namwala, Zambia</td>\n",
       "      <td>26.062550</td>\n",
       "      <td>-16.145438</td>\n",
       "      <td>125</td>\n",
       "      <td>Ursinus, Zambia</td>\n",
       "      <td>0.014076</td>\n",
       "    </tr>\n",
       "  </tbody>\n",
       "</table>\n",
       "<p>126 rows × 13 columns</p>\n",
       "</div>"
      ],
      "text/plain": [
       "     PGDP_ID    Provider_ID                      Provider  Genus  \\\n",
       "0    PD_0215   13RUM1130716              Knauf/Chuma/Roos  Papio   \n",
       "1    PD_0217   17RUM5140716              Knauf/Chuma/Roos  Papio   \n",
       "2    PD_0223   02UNM1220616              Knauf/Chuma/Roos  Papio   \n",
       "3    PD_0227   27UNM1160317              Knauf/Chuma/Roos  Papio   \n",
       "4    PD_0228   01MNM1300916              Knauf/Chuma/Roos  Papio   \n",
       "..       ...            ...                           ...    ...   \n",
       "121  PD_0398            T37                Zinner/Fischer  Papio   \n",
       "122  PD_0399            T49                Zinner/Fischer  Papio   \n",
       "123  PD_0400            T51                Zinner/Fischer  Papio   \n",
       "124  PD_0401            T66                Zinner/Fischer  Papio   \n",
       "125  PD_0692  35221_BZ12030  Rogers/Jolly/Phillips-Conroy  Papio   \n",
       "\n",
       "                Species                 Origin Sex  \\\n",
       "0          cynocephalus        Ruaha, Tanzania   M   \n",
       "1          cynocephalus        Ruaha, Tanzania   M   \n",
       "2          cynocephalus     Udzungwa, Tanzania   M   \n",
       "3          cynocephalus     Udzungwa, Tanzania   M   \n",
       "4          cynocephalus       Mahale, Tanzania   M   \n",
       "..                  ...                    ...  ..   \n",
       "121               papio  Niokolo-Koba, Senegal   M   \n",
       "122               papio  Niokolo-Koba, Senegal   M   \n",
       "123               papio  Niokolo-Koba, Senegal   M   \n",
       "124               papio  Niokolo-Koba, Senegal   M   \n",
       "125  ursinus (grayfoot)    Dendro Park, Zambia   M   \n",
       "\n",
       "                                               address  longitude   latitude  \\\n",
       "0      Ruaha, Ulanga, Morogoro, Coastal Zone, Tanzania  36.714814  -8.895386   \n",
       "1      Ruaha, Ulanga, Morogoro, Coastal Zone, Tanzania  36.714814  -8.895386   \n",
       "2    Udzungwa National Park, Iringa, Southern Highl...  36.725746  -7.805251   \n",
       "3    Udzungwa National Park, Iringa, Southern Highl...  36.725746  -7.805251   \n",
       "4    Mahale National Park, Kigoma, Western Zone, Ta...  29.883426  -6.203292   \n",
       "..                                                 ...        ...        ...   \n",
       "121                    Niokolo Koba, Kédougou, Sénégal -12.748341  13.078081   \n",
       "122                    Niokolo Koba, Kédougou, Sénégal -12.748341  13.078081   \n",
       "123                    Niokolo Koba, Kédougou, Sénégal -12.748341  13.078081   \n",
       "124                    Niokolo Koba, Kédougou, Sénégal -12.748341  13.078081   \n",
       "125        Dendro Balla Balla Safaris, Namwala, Zambia  26.062550 -16.145438   \n",
       "\n",
       "     callset_index                        C_origin  x_missing  \n",
       "0                0  Cynocephalus, Central Tanzania   0.014343  \n",
       "1                1  Cynocephalus, Central Tanzania   0.015386  \n",
       "2                2  Cynocephalus, Central Tanzania   0.015105  \n",
       "3                3  Cynocephalus, Central Tanzania   0.014568  \n",
       "4                4  Cynocephalus, Western Tanzania   0.015121  \n",
       "..             ...                             ...        ...  \n",
       "121            121                  Papio, Senegal   0.012534  \n",
       "122            122                  Papio, Senegal   0.012503  \n",
       "123            123                  Papio, Senegal   0.011650  \n",
       "124            124                  Papio, Senegal   0.012213  \n",
       "125            125                 Ursinus, Zambia   0.014076  \n",
       "\n",
       "[126 rows x 13 columns]"
      ]
     },
     "execution_count": 15,
     "metadata": {},
     "output_type": "execute_result"
    }
   ],
   "source": [
    "meta_subset = meta_data_samples.loc[meta_data_samples.callset_index.isin(ID_list)]\n",
    "meta_subset = meta_subset.reindex(ID_list).reset_index(drop=True)\n",
    "meta_subset[\"callset_index\"] = list(range(len(meta_subset)))\n",
    "meta_subset"
   ]
  },
  {
   "cell_type": "markdown",
   "metadata": {},
   "source": [
    "Checking that each gt is unique, and verify that all seems correct."
   ]
  },
  {
   "cell_type": "code",
   "execution_count": 16,
   "metadata": {},
   "outputs": [
    {
     "data": {
      "text/plain": [
       "[26,\n",
       " 28,\n",
       " 34,\n",
       " 38,\n",
       " 39,\n",
       " 40,\n",
       " 41,\n",
       " 42,\n",
       " 44,\n",
       " 45,\n",
       " 46,\n",
       " 47,\n",
       " 59,\n",
       " 60,\n",
       " 94,\n",
       " 103,\n",
       " 119,\n",
       " 120,\n",
       " 121,\n",
       " 122,\n",
       " 123,\n",
       " 178,\n",
       " 179,\n",
       " 180,\n",
       " 184,\n",
       " 185,\n",
       " 187,\n",
       " 188,\n",
       " 189,\n",
       " 193,\n",
       " 194,\n",
       " 195,\n",
       " 196,\n",
       " 198,\n",
       " 199,\n",
       " 200,\n",
       " 203,\n",
       " 207,\n",
       " 2,\n",
       " 12,\n",
       " 13,\n",
       " 15,\n",
       " 18,\n",
       " 29,\n",
       " 31,\n",
       " 53,\n",
       " 57,\n",
       " 58,\n",
       " 77,\n",
       " 78,\n",
       " 80,\n",
       " 81,\n",
       " 82,\n",
       " 86,\n",
       " 88,\n",
       " 89,\n",
       " 92,\n",
       " 96,\n",
       " 98,\n",
       " 102,\n",
       " 111,\n",
       " 113,\n",
       " 116,\n",
       " 152,\n",
       " 154,\n",
       " 155,\n",
       " 157,\n",
       " 159,\n",
       " 160,\n",
       " 161,\n",
       " 163,\n",
       " 164,\n",
       " 165,\n",
       " 166,\n",
       " 167,\n",
       " 171,\n",
       " 172,\n",
       " 173,\n",
       " 174,\n",
       " 175,\n",
       " 181,\n",
       " 182,\n",
       " 183,\n",
       " 190,\n",
       " 191,\n",
       " 208,\n",
       " 209,\n",
       " 210,\n",
       " 211,\n",
       " 212,\n",
       " 214,\n",
       " 215,\n",
       " 216,\n",
       " 217,\n",
       " 218,\n",
       " 219,\n",
       " 225,\n",
       " 226,\n",
       " 8,\n",
       " 128,\n",
       " 129,\n",
       " 131,\n",
       " 134,\n",
       " 135,\n",
       " 136,\n",
       " 137,\n",
       " 138,\n",
       " 139,\n",
       " 141,\n",
       " 143,\n",
       " 144,\n",
       " 145,\n",
       " 146,\n",
       " 147,\n",
       " 148,\n",
       " 149,\n",
       " 150,\n",
       " 151,\n",
       " 69,\n",
       " 70,\n",
       " 71,\n",
       " 72,\n",
       " 73,\n",
       " 74,\n",
       " 75,\n",
       " 124]"
      ]
     },
     "execution_count": 16,
     "metadata": {},
     "output_type": "execute_result"
    }
   ],
   "source": [
    "ID_list"
   ]
  },
  {
   "cell_type": "code",
   "execution_count": 17,
   "metadata": {},
   "outputs": [],
   "source": [
    "ursinus_male = gt_merged.take([125],axis=1)"
   ]
  },
  {
   "cell_type": "code",
   "execution_count": 18,
   "metadata": {},
   "outputs": [
    {
     "data": {
      "text/plain": [
       "array([[ True],\n",
       "       [False],\n",
       "       [ True],\n",
       "       ...,\n",
       "       [False],\n",
       "       [False],\n",
       "       [False]])"
      ]
     },
     "execution_count": 18,
     "metadata": {},
     "output_type": "execute_result"
    }
   ],
   "source": [
    "ursinus_male.is_hom_alt()"
   ]
  },
  {
   "cell_type": "code",
   "execution_count": 19,
   "metadata": {},
   "outputs": [],
   "source": [
    "ursinus_females = gt_nonpar.take([125, 126, 127], axis=1)"
   ]
  },
  {
   "cell_type": "code",
   "execution_count": 20,
   "metadata": {},
   "outputs": [
    {
     "data": {
      "text/html": [
       "<div class=\"allel allel-DisplayAs2D\"><span>&lt;GenotypeArray shape=(2774845, 3, 2) dtype=int8&gt;</span><table><thead><tr><th></th><th style=\"text-align: center\">0</th><th style=\"text-align: center\">1</th><th style=\"text-align: center\">2</th></tr></thead><tbody><tr><th style=\"text-align: center; background-color: white; border-right: 1px solid black; \">0</th><td style=\"text-align: center\">0/1</td><td style=\"text-align: center\">0/1</td><td style=\"text-align: center\">0/1</td></tr><tr><th style=\"text-align: center; background-color: white; border-right: 1px solid black; \">1</th><td style=\"text-align: center\">0/0</td><td style=\"text-align: center\">0/0</td><td style=\"text-align: center\">0/0</td></tr><tr><th style=\"text-align: center; background-color: white; border-right: 1px solid black; \">2</th><td style=\"text-align: center\">1/1</td><td style=\"text-align: center\">1/1</td><td style=\"text-align: center\">1/1</td></tr><tr><th style=\"text-align: center; background-color: white; border-right: 1px solid black; \">...</th><td style=\"text-align: center\" colspan=\"4\">...</td></tr><tr><th style=\"text-align: center; background-color: white; border-right: 1px solid black; \">2774842</th><td style=\"text-align: center\">0/0</td><td style=\"text-align: center\">0/0</td><td style=\"text-align: center\">./.</td></tr><tr><th style=\"text-align: center; background-color: white; border-right: 1px solid black; \">2774843</th><td style=\"text-align: center\">0/0</td><td style=\"text-align: center\">0/0</td><td style=\"text-align: center\">./.</td></tr><tr><th style=\"text-align: center; background-color: white; border-right: 1px solid black; \">2774844</th><td style=\"text-align: center\">0/0</td><td style=\"text-align: center\">0/0</td><td style=\"text-align: center\">./.</td></tr></tbody></table></div>"
      ],
      "text/plain": [
       "<GenotypeArray shape=(2774845, 3, 2) dtype=int8>\n",
       "0/1 0/1 0/1\n",
       "0/0 0/0 0/0\n",
       "1/1 1/1 1/1\n",
       "...\n",
       "0/0 0/0 ./.\n",
       "0/0 0/0 ./.\n",
       "0/0 0/0 ./."
      ]
     },
     "execution_count": 20,
     "metadata": {},
     "output_type": "execute_result"
    }
   ],
   "source": [
    "ursinus_females"
   ]
  },
  {
   "cell_type": "code",
   "execution_count": 21,
   "metadata": {},
   "outputs": [
    {
     "name": "stdout",
     "output_type": "stream",
     "text": [
      "294436\n",
      "191592\n"
     ]
    }
   ],
   "source": [
    "print(gt_merged.take([1], axis=1).count_hom_alt())\n",
    "c = gt_merged.take([1], axis=1).is_hom_alt() & gt_merged.take([2], axis=1).is_hom_alt()\n",
    "print(c.sum())"
   ]
  },
  {
   "cell_type": "code",
   "execution_count": 22,
   "metadata": {},
   "outputs": [
    {
     "data": {
      "text/plain": [
       "2774845.0"
      ]
     },
     "execution_count": 22,
     "metadata": {},
     "output_type": "execute_result"
    }
   ],
   "source": [
    "(gt_merged.count_hom_alt()+gt_merged.count_hom_ref()+gt_merged.count_missing())/len(ID_list)"
   ]
  },
  {
   "cell_type": "markdown",
   "metadata": {},
   "source": [
    "Setting up the columns for the vcf.\n",
    "allel.write_vcf cannot handle sample data currently, so that is out of the question for creating the full vcf"
   ]
  },
  {
   "cell_type": "code",
   "execution_count": 23,
   "metadata": {},
   "outputs": [
    {
     "data": {
      "application/vnd.jupyter.widget-view+json": {
       "model_id": "6732ba9f6424441d98eb14acced827ff",
       "version_major": 2,
       "version_minor": 0
      },
      "text/plain": [
       "Tree(nodes=(Node(disabled=True, name='/', nodes=(Node(disabled=True, name='calldata', nodes=(Node(disabled=Tru…"
      ]
     },
     "metadata": {},
     "output_type": "display_data"
    }
   ],
   "source": [
    "callset.tree()"
   ]
  },
  {
   "cell_type": "code",
   "execution_count": 24,
   "metadata": {},
   "outputs": [],
   "source": [
    "chrom = callset[\"variants/CHROM\"][loc_region]\n",
    "pos = callset[\"variants/POS\"][loc_region]\n",
    "#variant_id = callset[\"variants/ID\"][loc_region]\n",
    "ref = callset[\"variants/REF\"][loc_region]\n",
    "alt = callset[\"variants/ALT\"][loc_region]\n",
    "qual = callset[\"variants/QUAL\"][loc_region]\n",
    "filter_pass = callset[\"variants/FILTER_PASS\"][loc_region]"
   ]
  },
  {
   "cell_type": "code",
   "execution_count": 25,
   "metadata": {},
   "outputs": [
    {
     "data": {
      "text/plain": [
       "array([['A', '', ''],\n",
       "       ['G', '', ''],\n",
       "       ['T', '', ''],\n",
       "       ...,\n",
       "       ['A', '', ''],\n",
       "       ['A', '', ''],\n",
       "       ['T', '', '']], dtype=object)"
      ]
     },
     "execution_count": 25,
     "metadata": {},
     "output_type": "execute_result"
    }
   ],
   "source": [
    "alt"
   ]
  },
  {
   "cell_type": "code",
   "execution_count": 26,
   "metadata": {},
   "outputs": [],
   "source": [
    "columns = [chrom, pos, ref, alt, qual, filter_pass]\n",
    "records = list(zip(*columns))\n",
    "dtype = [('CHROM', 'S4'),\n",
    "         (\"POS\", \"u4\"),\n",
    "         (\"REF\", \"S1\"),\n",
    "         (\"ALT\", (\"S1\", 3)),\n",
    "         (\"QUAL\", \"f4\"),\n",
    "         (\"FILTER_PASS\", bool)]\n",
    "vt = allel.VariantTable(records, dtype=dtype)"
   ]
  },
  {
   "cell_type": "code",
   "execution_count": 27,
   "metadata": {},
   "outputs": [
    {
     "data": {
      "text/html": [
       "<div class=\"allel allel-DisplayAsTable\"><span>&lt;VariantTable shape=(2774845,) dtype=(numpy.record, [('CHROM', 'S4'), ('POS', '&lt;u4'), ('REF', 'S1'), ('ALT', 'S1', (3,)), ('QUAL', '&lt;f4'), ('FILTER_PASS', '?')])&gt;</span><table><thead><tr><th></th><th style=\"text-align: center\">CHROM</th><th style=\"text-align: center\">POS</th><th style=\"text-align: center\">REF</th><th style=\"text-align: center\">ALT</th><th style=\"text-align: center\">QUAL</th><th style=\"text-align: center\">FILTER_PASS</th></tr></thead><tbody><tr><th style=\"text-align: center; background-color: white; border-right: 1px solid black; \">0</th><td style=\"text-align: center\">b'chrX'</td><td style=\"text-align: center\">2500022</td><td style=\"text-align: center\">b'G'</td><td style=\"text-align: center\">[b'A' b'' b'']</td><td style=\"text-align: center\">4637.71</td><td style=\"text-align: center\">True</td></tr><tr><th style=\"text-align: center; background-color: white; border-right: 1px solid black; \">1</th><td style=\"text-align: center\">b'chrX'</td><td style=\"text-align: center\">2500091</td><td style=\"text-align: center\">b'T'</td><td style=\"text-align: center\">[b'G' b'' b'']</td><td style=\"text-align: center\">735.52</td><td style=\"text-align: center\">True</td></tr><tr><th style=\"text-align: center; background-color: white; border-right: 1px solid black; \">2</th><td style=\"text-align: center\">b'chrX'</td><td style=\"text-align: center\">2500194</td><td style=\"text-align: center\">b'G'</td><td style=\"text-align: center\">[b'T' b'' b'']</td><td style=\"text-align: center\">107936.72</td><td style=\"text-align: center\">True</td></tr><tr><th style=\"text-align: center; background-color: white; border-right: 1px solid black; \">...</th><td style=\"text-align: center\" colspan=\"7\">...</td></tr><tr><th style=\"text-align: center; background-color: white; border-right: 1px solid black; \">2774842</th><td style=\"text-align: center\">b'chrX'</td><td style=\"text-align: center\">139999889</td><td style=\"text-align: center\">b'G'</td><td style=\"text-align: center\">[b'A' b'' b'']</td><td style=\"text-align: center\">884.66</td><td style=\"text-align: center\">True</td></tr><tr><th style=\"text-align: center; background-color: white; border-right: 1px solid black; \">2774843</th><td style=\"text-align: center\">b'chrX'</td><td style=\"text-align: center\">139999944</td><td style=\"text-align: center\">b'G'</td><td style=\"text-align: center\">[b'A' b'' b'']</td><td style=\"text-align: center\">11669.72</td><td style=\"text-align: center\">True</td></tr><tr><th style=\"text-align: center; background-color: white; border-right: 1px solid black; \">2774844</th><td style=\"text-align: center\">b'chrX'</td><td style=\"text-align: center\">139999992</td><td style=\"text-align: center\">b'C'</td><td style=\"text-align: center\">[b'T' b'' b'']</td><td style=\"text-align: center\">13322.75</td><td style=\"text-align: center\">True</td></tr></tbody></table></div>"
      ],
      "text/plain": [
       "<VariantTable shape=(2774845,) dtype=(numpy.record, [('CHROM', 'S4'), ('POS', '<u4'), ('REF', 'S1'), ('ALT', 'S1', (3,)), ('QUAL', '<f4'), ('FILTER_PASS', '?')])>\n",
       "[(b'chrX',   2500022, b'G', [b'A', b'', b''],   4637.71,  True)\n",
       " (b'chrX',   2500091, b'T', [b'G', b'', b''],    735.52,  True)\n",
       " (b'chrX',   2500194, b'G', [b'T', b'', b''], 107936.72,  True) ...\n",
       " (b'chrX', 139999889, b'G', [b'A', b'', b''],    884.66,  True)\n",
       " (b'chrX', 139999944, b'G', [b'A', b'', b''],  11669.72,  True)\n",
       " (b'chrX', 139999992, b'C', [b'T', b'', b''],  13322.75,  True)]"
      ]
     },
     "execution_count": 27,
     "metadata": {},
     "output_type": "execute_result"
    }
   ],
   "source": [
    "vt"
   ]
  },
  {
   "cell_type": "code",
   "execution_count": 28,
   "metadata": {},
   "outputs": [],
   "source": [
    "vt.to_vcf(\"test.vcf\")"
   ]
  },
  {
   "cell_type": "code",
   "execution_count": 29,
   "metadata": {},
   "outputs": [],
   "source": [
    "test_vcf = allel.read_vcf(\"test.vcf\")"
   ]
  },
  {
   "cell_type": "code",
   "execution_count": 30,
   "metadata": {},
   "outputs": [
    {
     "data": {
      "text/plain": [
       "{'variants/ALT': array([['A', '', ''],\n",
       "        ['G', '', ''],\n",
       "        ['T', '', ''],\n",
       "        ...,\n",
       "        ['A', '', ''],\n",
       "        ['A', '', ''],\n",
       "        ['T', '', '']], dtype=object),\n",
       " 'variants/CHROM': array(['chrX', 'chrX', 'chrX', ..., 'chrX', 'chrX', 'chrX'], dtype=object),\n",
       " 'variants/FILTER_PASS': array([ True,  True,  True, ...,  True,  True,  True]),\n",
       " 'variants/ID': array(['.', '.', '.', ..., '.', '.', '.'], dtype=object),\n",
       " 'variants/POS': array([  2500022,   2500091,   2500194, ..., 139999889, 139999944,\n",
       "        139999992], dtype=int32),\n",
       " 'variants/QUAL': array([  4637.71,    735.52, 107936.72, ...,    884.66,  11669.72,\n",
       "         13322.75], dtype=float32),\n",
       " 'variants/REF': array(['G', 'T', 'G', ..., 'G', 'G', 'C'], dtype=object)}"
      ]
     },
     "execution_count": 30,
     "metadata": {},
     "output_type": "execute_result"
    }
   ],
   "source": [
    "test_vcf"
   ]
  }
 ],
 "metadata": {
  "kernelspec": {
   "display_name": "Python 3",
   "language": "python",
   "name": "python3"
  },
  "language_info": {
   "codemirror_mode": {
    "name": "ipython",
    "version": 3
   },
   "file_extension": ".py",
   "mimetype": "text/x-python",
   "name": "python",
   "nbconvert_exporter": "python",
   "pygments_lexer": "ipython3",
   "version": "3.7.9"
  }
 },
 "nbformat": 4,
 "nbformat_minor": 4
}
