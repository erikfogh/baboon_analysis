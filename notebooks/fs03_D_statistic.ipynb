{
 "cells": [
  {
   "cell_type": "markdown",
   "metadata": {},
   "source": [
    "Pattersons D, also known as ABBA-BABA"
   ]
  },
  {
   "cell_type": "code",
   "execution_count": 3,
   "metadata": {},
   "outputs": [],
   "source": [
    "%run ../scripts/notebook_settings.py"
   ]
  },
  {
   "cell_type": "code",
   "execution_count": 4,
   "metadata": {},
   "outputs": [],
   "source": [
    "meta_data_samples = pd.read_table(\"../data/metadata_with_x_missing.txt\", sep=\" \")"
   ]
  },
  {
   "cell_type": "code",
   "execution_count": 13,
   "metadata": {},
   "outputs": [],
   "source": [
    "chrom_number = \"X\"\n",
    "zarr_dir = \"/faststorage/project/baboondiversity/data/PG_panu3_zarr_12_03_2021/callset.zarr/chr{}\".format(chrom_number)\n",
    "ancestor = \"/faststorage/project/baboondiversity/data/ancestral_state_panu3_23_04_2021/papio_anubis_ancestor_{}.fa\".format(chrom_number)\n",
    "fasta_sequences = SeqIO.parse(open(ancestor),'fasta')\n",
    "for fasta in fasta_sequences:\n",
    "    name, ancestral_sequence = fasta.id, str(fasta.seq)\n",
    "#Opening the zarr data\n",
    "callset = zarr.open_group(zarr_dir, mode=\"r\")\n",
    "gt = allel.GenotypeArray(callset[\"calldata/GT\"])\n",
    "ancestor_list = []\n",
    "for i in callset[\"variants/POS\"][:]:\n",
    "    ancestor_list.append(ancestral_sequence[i-1].upper())\n",
    "mapping = np.array([[0, 1]]*(len(ancestor_list)))\n",
    "ens_eq_alt = (ancestor_list == callset[\"variants/ALT\"][:, 0])\n",
    "mapping[ens_eq_alt, 0] = 1\n",
    "mapping[ens_eq_alt, 1] = 0\n",
    "gt = gt.map_alleles(mapping)"
   ]
  },
  {
   "cell_type": "code",
   "execution_count": 5,
   "metadata": {},
   "outputs": [],
   "source": [
    "g_gt = gt.take(meta_data_samples.loc[(meta_data_samples.C_origin == \"Gelada, Captive\")].callset_index.values, axis=1).count_alleles(max_allele=1)\n",
    "c_gt = gt.take(meta_data_samples.loc[(meta_data_samples.C_origin == \"Cynocephalus, Western Tanzania\") &\n",
    "                                    (meta_data_samples.Sex == \"F\")].callset_index.values, axis=1).count_alleles(max_allele=1)\n",
    "at_gt = gt.take(meta_data_samples.loc[(meta_data_samples.C_origin == \"Anubis, Tanzania\") &\n",
    "                                    (meta_data_samples.Sex == \"F\")].callset_index.values, axis=1).count_alleles(max_allele=1)\n",
    "ae_gt = gt.take(meta_data_samples.loc[(meta_data_samples.C_origin == \"Anubis, Ethiopia\") &\n",
    "                                    (meta_data_samples.Sex == \"F\")].callset_index.values, axis=1).count_alleles(max_allele=1)"
   ]
  },
  {
   "cell_type": "markdown",
   "metadata": {},
   "source": [
    "Checking number of fixed derived"
   ]
  },
  {
   "cell_type": "code",
   "execution_count": 33,
   "metadata": {},
   "outputs": [
    {
     "name": "stdout",
     "output_type": "stream",
     "text": [
      "621824 146902\n",
      "4.232917182883828\n",
      "0.1131032249908828 0.026719923897454367\n"
     ]
    }
   ],
   "source": [
    "gt_1 = g_gt\n",
    "gt_2 = c_gt\n",
    "print((gt_1[:,1] == max(gt_1[0])).sum(), (gt_2[:,1] == max(gt_2[0])).sum())\n",
    "print((gt_1[:,1] == max(gt_1[0])).sum()/(gt_2[:,1] == max(gt_2[0])).sum())\n",
    "print((gt_1[:,1] == max(gt_1[0])).sum()/len(gt_1), (gt_2[:,1] == max(gt_2[0])).sum()/len(gt_2))"
   ]
  },
  {
   "cell_type": "markdown",
   "metadata": {},
   "source": [
    "Test run of pattersons D"
   ]
  },
  {
   "cell_type": "code",
   "execution_count": 35,
   "metadata": {},
   "outputs": [
    {
     "data": {
      "text/plain": [
       "(0.03668886208756559,\n",
       " 0.00571479027060781,\n",
       " 6.419983997709064,\n",
       " array([ 0.05017886,  0.02604349,  0.07959185,  0.04439586,  0.05102975,\n",
       "         0.02904733,  0.07640909,  0.02156721,  0.10021685,  0.05983958,\n",
       "         0.02006108,  0.03065706,  0.02606431,  0.00325188, -0.02102752,\n",
       "         0.08507698,  0.02198469,  0.07058022, -0.01284491,  0.010923  ,\n",
       "        -0.02072962,  0.08145699,  0.03741384,  0.05966424,  0.02898341,\n",
       "         0.01735572,  0.05362085]),\n",
       " array([0.03624879, 0.03749728, 0.03526062, 0.03666376, 0.03648235,\n",
       "        0.0371778 , 0.03575167, 0.03746522, 0.03477626, 0.03585363,\n",
       "        0.03762268, 0.03721146, 0.03737553, 0.03913675, 0.03876084,\n",
       "        0.03558924, 0.03754206, 0.03565046, 0.03843214, 0.03788482,\n",
       "        0.03857869, 0.03569169, 0.03689577, 0.0357531 , 0.03721347,\n",
       "        0.03774661, 0.03648213]))"
      ]
     },
     "execution_count": 35,
     "metadata": {},
     "output_type": "execute_result"
    }
   ],
   "source": [
    "allel.average_patterson_d(ae_gt, at_gt, c_gt, g_gt, blen=200000)"
   ]
  },
  {
   "cell_type": "markdown",
   "metadata": {},
   "source": [
    "Going through all the combinations - some will be nonsensical, and will probably have extreme values"
   ]
  },
  {
   "cell_type": "code",
   "execution_count": 71,
   "metadata": {},
   "outputs": [],
   "source": [
    "g_ac = gt.take(meta_data_samples.loc[meta_data_samples.C_origin == \"Gelada, Captive\"].callset_index.values, axis=1).count_alleles(max_allele=1)\n",
    "def d_run(a, b, c):\n",
    "    a_ids = meta_data_samples.loc[meta_data_samples.C_origin == a].callset_index.values\n",
    "    b_ids = meta_data_samples.loc[meta_data_samples.C_origin == b].callset_index.values\n",
    "    c_ids = meta_data_samples.loc[meta_data_samples.C_origin == c].callset_index.values\n",
    "    a_ac = gt.take(a_ids, axis=1).count_alleles(max_allele=1)\n",
    "    b_ac = gt.take(b_ids, axis=1).count_alleles(max_allele=1)\n",
    "    c_ac = gt.take(c_ids, axis=1).count_alleles(max_allele=1)\n",
    "    d_stats = allel.average_patterson_d(a_ac, b_ac, c_ac, g_ac, blen=100000)\n",
    "    return d_stats"
   ]
  },
  {
   "cell_type": "code",
   "execution_count": 72,
   "metadata": {},
   "outputs": [
    {
     "data": {
      "text/plain": [
       "(-0.5568032998239841,\n",
       " 0.011973432190821158,\n",
       " -46.50323240238751,\n",
       " array([-0.47196533, -0.52570409, -0.43525658, -0.50860516, -0.54576901,\n",
       "        -0.61846808, -0.61919392, -0.54343227, -0.69211758, -0.59881867,\n",
       "        -0.61956153, -0.54571553, -0.59897754, -0.66672801, -0.62746093,\n",
       "        -0.54772662, -0.64094975, -0.6057339 , -0.48614933, -0.49820103,\n",
       "        -0.54596622, -0.50589118, -0.47810812, -0.55318969, -0.62958458,\n",
       "        -0.42574974, -0.30843046, -0.43074854, -0.59718109, -0.65404412,\n",
       "        -0.70612274, -0.66648715, -0.54842598, -0.54008195, -0.51262218,\n",
       "        -0.53584383, -0.64606657, -0.55876795, -0.5444864 , -0.47600541,\n",
       "        -0.59377419, -0.48190191, -0.63526054, -0.66052506, -0.55882106,\n",
       "        -0.57169824, -0.49760187, -0.42879788, -0.57087856, -0.59589112,\n",
       "        -0.55325559, -0.56273248, -0.67218172, -0.71382837]),\n",
       " array([-0.56089576, -0.5594626 , -0.56155249, -0.55997636, -0.55909128,\n",
       "        -0.5576264 , -0.55781631, -0.55911024, -0.55626083, -0.5580875 ,\n",
       "        -0.55758205, -0.55905572, -0.55813627, -0.55694843, -0.5574986 ,\n",
       "        -0.55904726, -0.55731072, -0.55795212, -0.56023511, -0.55992267,\n",
       "        -0.55907134, -0.55974651, -0.56046106, -0.55893879, -0.55753969,\n",
       "        -0.56130131, -0.56560536, -0.56124058, -0.55812624, -0.55710512,\n",
       "        -0.5560132 , -0.55697638, -0.55902609, -0.55920969, -0.55963075,\n",
       "        -0.55924202, -0.55734879, -0.55883181, -0.5590898 , -0.56011125,\n",
       "        -0.55827412, -0.55978024, -0.55749624, -0.55711227, -0.55883088,\n",
       "        -0.55856867, -0.56008027, -0.5613732 , -0.55858133, -0.55810274,\n",
       "        -0.55893618, -0.55874204, -0.55685356, -0.55602831]))"
      ]
     },
     "execution_count": 72,
     "metadata": {},
     "output_type": "execute_result"
    }
   ],
   "source": [
    "d_run('Cynocephalus, Western Tanzania', 'Anubis, Tanzania', 'Anubis, Ethiopia')"
   ]
  },
  {
   "cell_type": "code",
   "execution_count": 78,
   "metadata": {},
   "outputs": [],
   "source": [
    "origin_list = []\n",
    "s_list = []\n",
    "for origin in meta_data_samples.C_origin.unique():\n",
    "    ss = meta_data_samples.loc[meta_data_samples.C_origin == origin]\n",
    "    if len(ss) > 4 and origin != \"Papio, Senegal\" and origin != \"Ursinus, Zambia\":\n",
    "        origin_list.append(origin)\n",
    "        s_list.append(ss.Species.unique()[0])"
   ]
  },
  {
   "cell_type": "code",
   "execution_count": 79,
   "metadata": {},
   "outputs": [
    {
     "name": "stdout",
     "output_type": "stream",
     "text": [
      "0\n",
      "1\n",
      "2\n",
      "3\n",
      "4\n",
      "5\n"
     ]
    }
   ],
   "source": [
    "a_l = []\n",
    "b_l = []\n",
    "c_l = []\n",
    "dbranch_l = []\n",
    "z_l = []\n",
    "\n",
    "for i in range(len(origin_list)):\n",
    "    for j in range(i):\n",
    "        for x in origin_list:\n",
    "            if x != origin_list[i] and x != origin_list[j]:\n",
    "                d_stats = d_run(x, origin_list[i], origin_list[j])\n",
    "                a_l.append(x)\n",
    "                b_l.append(origin_list[i])\n",
    "                c_l.append(origin_list[j])\n",
    "                dbranch_l.append(d_stats[0])\n",
    "                z_l.append(d_stats[2])\n",
    "    print(i)\n",
    "d = {\"a\": a_l, \"b\": b_l, \"c\": c_l, \"d_stat\": dbranch_l, \"z-score\": z_l}\n",
    "df_f3 = pd.DataFrame(data=d)"
   ]
  },
  {
   "cell_type": "markdown",
   "metadata": {},
   "source": [
    "Just to recap - negative values indicate gene flow from c to b, while positive values indicate flow from c to a.\n",
    "Values close to 0 indicate that no gene flow has occured between c/d and a/b.\n",
    "Therefore, only check observations with 1 sign of z-scores.\n",
    "They will be symmetric, and which does not fit the known phylogeny.\n",
    "The sign is the opposite of the canonical definition, but this is due to the calculation method implemented in scikit-allel."
   ]
  },
  {
   "cell_type": "code",
   "execution_count": 80,
   "metadata": {},
   "outputs": [
    {
     "data": {
      "text/html": [
       "<div>\n",
       "<style scoped>\n",
       "    .dataframe tbody tr th:only-of-type {\n",
       "        vertical-align: middle;\n",
       "    }\n",
       "\n",
       "    .dataframe tbody tr th {\n",
       "        vertical-align: top;\n",
       "    }\n",
       "\n",
       "    .dataframe thead th {\n",
       "        text-align: right;\n",
       "    }\n",
       "</style>\n",
       "<table border=\"1\" class=\"dataframe\">\n",
       "  <thead>\n",
       "    <tr style=\"text-align: right;\">\n",
       "      <th></th>\n",
       "      <th>a</th>\n",
       "      <th>b</th>\n",
       "      <th>c</th>\n",
       "      <th>d_stat</th>\n",
       "      <th>z-score</th>\n",
       "    </tr>\n",
       "  </thead>\n",
       "  <tbody>\n",
       "    <tr>\n",
       "      <th>52</th>\n",
       "      <td>Cynocephalus, Central Tanzania</td>\n",
       "      <td>Anubis, Ethiopia</td>\n",
       "      <td>Anubis, Tanzania</td>\n",
       "      <td>-0.586513</td>\n",
       "      <td>-58.789670</td>\n",
       "    </tr>\n",
       "    <tr>\n",
       "      <th>53</th>\n",
       "      <td>Kindae, Zambia</td>\n",
       "      <td>Anubis, Ethiopia</td>\n",
       "      <td>Anubis, Tanzania</td>\n",
       "      <td>-0.597344</td>\n",
       "      <td>-54.512451</td>\n",
       "    </tr>\n",
       "    <tr>\n",
       "      <th>48</th>\n",
       "      <td>Cynocephalus, Central Tanzania</td>\n",
       "      <td>Anubis, Ethiopia</td>\n",
       "      <td>Hamadryas, Ethiopia</td>\n",
       "      <td>-0.467446</td>\n",
       "      <td>-49.257895</td>\n",
       "    </tr>\n",
       "    <tr>\n",
       "      <th>49</th>\n",
       "      <td>Kindae, Zambia</td>\n",
       "      <td>Anubis, Ethiopia</td>\n",
       "      <td>Hamadryas, Ethiopia</td>\n",
       "      <td>-0.449542</td>\n",
       "      <td>-48.955326</td>\n",
       "    </tr>\n",
       "    <tr>\n",
       "      <th>55</th>\n",
       "      <td>Cynocephalus, Western Tanzania</td>\n",
       "      <td>Anubis, Ethiopia</td>\n",
       "      <td>Anubis, Tanzania</td>\n",
       "      <td>-0.530008</td>\n",
       "      <td>-45.310923</td>\n",
       "    </tr>\n",
       "    <tr>\n",
       "      <th>51</th>\n",
       "      <td>Cynocephalus, Western Tanzania</td>\n",
       "      <td>Anubis, Ethiopia</td>\n",
       "      <td>Hamadryas, Ethiopia</td>\n",
       "      <td>-0.422121</td>\n",
       "      <td>-42.709875</td>\n",
       "    </tr>\n",
       "    <tr>\n",
       "      <th>20</th>\n",
       "      <td>Cynocephalus, Central Tanzania</td>\n",
       "      <td>Anubis, Tanzania</td>\n",
       "      <td>Hamadryas, Ethiopia</td>\n",
       "      <td>-0.423130</td>\n",
       "      <td>-39.270640</td>\n",
       "    </tr>\n",
       "    <tr>\n",
       "      <th>21</th>\n",
       "      <td>Kindae, Zambia</td>\n",
       "      <td>Anubis, Tanzania</td>\n",
       "      <td>Hamadryas, Ethiopia</td>\n",
       "      <td>-0.402573</td>\n",
       "      <td>-38.093067</td>\n",
       "    </tr>\n",
       "    <tr>\n",
       "      <th>54</th>\n",
       "      <td>Hamadryas, Ethiopia</td>\n",
       "      <td>Anubis, Ethiopia</td>\n",
       "      <td>Anubis, Tanzania</td>\n",
       "      <td>-0.382147</td>\n",
       "      <td>-33.002250</td>\n",
       "    </tr>\n",
       "    <tr>\n",
       "      <th>22</th>\n",
       "      <td>Cynocephalus, Western Tanzania</td>\n",
       "      <td>Anubis, Tanzania</td>\n",
       "      <td>Hamadryas, Ethiopia</td>\n",
       "      <td>-0.369959</td>\n",
       "      <td>-32.718145</td>\n",
       "    </tr>\n",
       "    <tr>\n",
       "      <th>29</th>\n",
       "      <td>Hamadryas, Ethiopia</td>\n",
       "      <td>Cynocephalus, Western Tanzania</td>\n",
       "      <td>Kindae, Zambia</td>\n",
       "      <td>-0.253156</td>\n",
       "      <td>-29.524738</td>\n",
       "    </tr>\n",
       "    <tr>\n",
       "      <th>31</th>\n",
       "      <td>Anubis, Ethiopia</td>\n",
       "      <td>Cynocephalus, Western Tanzania</td>\n",
       "      <td>Kindae, Zambia</td>\n",
       "      <td>-0.250103</td>\n",
       "      <td>-28.010508</td>\n",
       "    </tr>\n",
       "    <tr>\n",
       "      <th>30</th>\n",
       "      <td>Anubis, Tanzania</td>\n",
       "      <td>Cynocephalus, Western Tanzania</td>\n",
       "      <td>Kindae, Zambia</td>\n",
       "      <td>-0.236915</td>\n",
       "      <td>-26.754278</td>\n",
       "    </tr>\n",
       "    <tr>\n",
       "      <th>25</th>\n",
       "      <td>Hamadryas, Ethiopia</td>\n",
       "      <td>Cynocephalus, Western Tanzania</td>\n",
       "      <td>Cynocephalus, Central Tanzania</td>\n",
       "      <td>-0.178251</td>\n",
       "      <td>-24.730959</td>\n",
       "    </tr>\n",
       "    <tr>\n",
       "      <th>28</th>\n",
       "      <td>Cynocephalus, Central Tanzania</td>\n",
       "      <td>Cynocephalus, Western Tanzania</td>\n",
       "      <td>Kindae, Zambia</td>\n",
       "      <td>-0.153748</td>\n",
       "      <td>-22.885561</td>\n",
       "    </tr>\n",
       "    <tr>\n",
       "      <th>27</th>\n",
       "      <td>Anubis, Ethiopia</td>\n",
       "      <td>Cynocephalus, Western Tanzania</td>\n",
       "      <td>Cynocephalus, Central Tanzania</td>\n",
       "      <td>-0.156600</td>\n",
       "      <td>-19.372314</td>\n",
       "    </tr>\n",
       "    <tr>\n",
       "      <th>37</th>\n",
       "      <td>Kindae, Zambia</td>\n",
       "      <td>Cynocephalus, Western Tanzania</td>\n",
       "      <td>Anubis, Tanzania</td>\n",
       "      <td>-0.146825</td>\n",
       "      <td>-19.157263</td>\n",
       "    </tr>\n",
       "    <tr>\n",
       "      <th>26</th>\n",
       "      <td>Anubis, Tanzania</td>\n",
       "      <td>Cynocephalus, Western Tanzania</td>\n",
       "      <td>Cynocephalus, Central Tanzania</td>\n",
       "      <td>-0.126363</td>\n",
       "      <td>-17.946286</td>\n",
       "    </tr>\n",
       "    <tr>\n",
       "      <th>0</th>\n",
       "      <td>Hamadryas, Ethiopia</td>\n",
       "      <td>Kindae, Zambia</td>\n",
       "      <td>Cynocephalus, Central Tanzania</td>\n",
       "      <td>-0.131770</td>\n",
       "      <td>-15.842033</td>\n",
       "    </tr>\n",
       "    <tr>\n",
       "      <th>36</th>\n",
       "      <td>Cynocephalus, Central Tanzania</td>\n",
       "      <td>Cynocephalus, Western Tanzania</td>\n",
       "      <td>Anubis, Tanzania</td>\n",
       "      <td>-0.131807</td>\n",
       "      <td>-15.015768</td>\n",
       "    </tr>\n",
       "    <tr>\n",
       "      <th>33</th>\n",
       "      <td>Kindae, Zambia</td>\n",
       "      <td>Cynocephalus, Western Tanzania</td>\n",
       "      <td>Hamadryas, Ethiopia</td>\n",
       "      <td>-0.079116</td>\n",
       "      <td>-13.859995</td>\n",
       "    </tr>\n",
       "    <tr>\n",
       "      <th>50</th>\n",
       "      <td>Anubis, Tanzania</td>\n",
       "      <td>Anubis, Ethiopia</td>\n",
       "      <td>Hamadryas, Ethiopia</td>\n",
       "      <td>-0.109842</td>\n",
       "      <td>-13.319836</td>\n",
       "    </tr>\n",
       "    <tr>\n",
       "      <th>32</th>\n",
       "      <td>Cynocephalus, Central Tanzania</td>\n",
       "      <td>Cynocephalus, Western Tanzania</td>\n",
       "      <td>Hamadryas, Ethiopia</td>\n",
       "      <td>-0.100064</td>\n",
       "      <td>-12.850076</td>\n",
       "    </tr>\n",
       "    <tr>\n",
       "      <th>3</th>\n",
       "      <td>Anubis, Ethiopia</td>\n",
       "      <td>Kindae, Zambia</td>\n",
       "      <td>Cynocephalus, Central Tanzania</td>\n",
       "      <td>-0.105467</td>\n",
       "      <td>-11.435761</td>\n",
       "    </tr>\n",
       "    <tr>\n",
       "      <th>58</th>\n",
       "      <td>Hamadryas, Ethiopia</td>\n",
       "      <td>Anubis, Ethiopia</td>\n",
       "      <td>Cynocephalus, Western Tanzania</td>\n",
       "      <td>-0.101976</td>\n",
       "      <td>-10.741314</td>\n",
       "    </tr>\n",
       "    <tr>\n",
       "      <th>13</th>\n",
       "      <td>Hamadryas, Ethiopia</td>\n",
       "      <td>Anubis, Tanzania</td>\n",
       "      <td>Cynocephalus, Central Tanzania</td>\n",
       "      <td>-0.079166</td>\n",
       "      <td>-9.474944</td>\n",
       "    </tr>\n",
       "    <tr>\n",
       "      <th>1</th>\n",
       "      <td>Anubis, Tanzania</td>\n",
       "      <td>Kindae, Zambia</td>\n",
       "      <td>Cynocephalus, Central Tanzania</td>\n",
       "      <td>-0.076769</td>\n",
       "      <td>-8.962945</td>\n",
       "    </tr>\n",
       "    <tr>\n",
       "      <th>24</th>\n",
       "      <td>Kindae, Zambia</td>\n",
       "      <td>Cynocephalus, Western Tanzania</td>\n",
       "      <td>Cynocephalus, Central Tanzania</td>\n",
       "      <td>-0.048369</td>\n",
       "      <td>-8.834117</td>\n",
       "    </tr>\n",
       "    <tr>\n",
       "      <th>15</th>\n",
       "      <td>Anubis, Ethiopia</td>\n",
       "      <td>Anubis, Tanzania</td>\n",
       "      <td>Cynocephalus, Central Tanzania</td>\n",
       "      <td>-0.055625</td>\n",
       "      <td>-8.772373</td>\n",
       "    </tr>\n",
       "    <tr>\n",
       "      <th>17</th>\n",
       "      <td>Hamadryas, Ethiopia</td>\n",
       "      <td>Anubis, Tanzania</td>\n",
       "      <td>Kindae, Zambia</td>\n",
       "      <td>-0.040288</td>\n",
       "      <td>-5.034501</td>\n",
       "    </tr>\n",
       "    <tr>\n",
       "      <th>19</th>\n",
       "      <td>Anubis, Ethiopia</td>\n",
       "      <td>Anubis, Tanzania</td>\n",
       "      <td>Kindae, Zambia</td>\n",
       "      <td>-0.029413</td>\n",
       "      <td>-4.694883</td>\n",
       "    </tr>\n",
       "    <tr>\n",
       "      <th>41</th>\n",
       "      <td>Hamadryas, Ethiopia</td>\n",
       "      <td>Anubis, Ethiopia</td>\n",
       "      <td>Cynocephalus, Central Tanzania</td>\n",
       "      <td>-0.041663</td>\n",
       "      <td>-3.911337</td>\n",
       "    </tr>\n",
       "    <tr>\n",
       "      <th>45</th>\n",
       "      <td>Hamadryas, Ethiopia</td>\n",
       "      <td>Anubis, Ethiopia</td>\n",
       "      <td>Kindae, Zambia</td>\n",
       "      <td>-0.020210</td>\n",
       "      <td>-2.055082</td>\n",
       "    </tr>\n",
       "  </tbody>\n",
       "</table>\n",
       "</div>"
      ],
      "text/plain": [
       "                                 a                               b  \\\n",
       "52  Cynocephalus, Central Tanzania                Anubis, Ethiopia   \n",
       "53                  Kindae, Zambia                Anubis, Ethiopia   \n",
       "48  Cynocephalus, Central Tanzania                Anubis, Ethiopia   \n",
       "49                  Kindae, Zambia                Anubis, Ethiopia   \n",
       "55  Cynocephalus, Western Tanzania                Anubis, Ethiopia   \n",
       "51  Cynocephalus, Western Tanzania                Anubis, Ethiopia   \n",
       "20  Cynocephalus, Central Tanzania                Anubis, Tanzania   \n",
       "21                  Kindae, Zambia                Anubis, Tanzania   \n",
       "54             Hamadryas, Ethiopia                Anubis, Ethiopia   \n",
       "22  Cynocephalus, Western Tanzania                Anubis, Tanzania   \n",
       "29             Hamadryas, Ethiopia  Cynocephalus, Western Tanzania   \n",
       "31                Anubis, Ethiopia  Cynocephalus, Western Tanzania   \n",
       "30                Anubis, Tanzania  Cynocephalus, Western Tanzania   \n",
       "25             Hamadryas, Ethiopia  Cynocephalus, Western Tanzania   \n",
       "28  Cynocephalus, Central Tanzania  Cynocephalus, Western Tanzania   \n",
       "27                Anubis, Ethiopia  Cynocephalus, Western Tanzania   \n",
       "37                  Kindae, Zambia  Cynocephalus, Western Tanzania   \n",
       "26                Anubis, Tanzania  Cynocephalus, Western Tanzania   \n",
       "0              Hamadryas, Ethiopia                  Kindae, Zambia   \n",
       "36  Cynocephalus, Central Tanzania  Cynocephalus, Western Tanzania   \n",
       "33                  Kindae, Zambia  Cynocephalus, Western Tanzania   \n",
       "50                Anubis, Tanzania                Anubis, Ethiopia   \n",
       "32  Cynocephalus, Central Tanzania  Cynocephalus, Western Tanzania   \n",
       "3                 Anubis, Ethiopia                  Kindae, Zambia   \n",
       "58             Hamadryas, Ethiopia                Anubis, Ethiopia   \n",
       "13             Hamadryas, Ethiopia                Anubis, Tanzania   \n",
       "1                 Anubis, Tanzania                  Kindae, Zambia   \n",
       "24                  Kindae, Zambia  Cynocephalus, Western Tanzania   \n",
       "15                Anubis, Ethiopia                Anubis, Tanzania   \n",
       "17             Hamadryas, Ethiopia                Anubis, Tanzania   \n",
       "19                Anubis, Ethiopia                Anubis, Tanzania   \n",
       "41             Hamadryas, Ethiopia                Anubis, Ethiopia   \n",
       "45             Hamadryas, Ethiopia                Anubis, Ethiopia   \n",
       "\n",
       "                                 c    d_stat    z-score  \n",
       "52                Anubis, Tanzania -0.586513 -58.789670  \n",
       "53                Anubis, Tanzania -0.597344 -54.512451  \n",
       "48             Hamadryas, Ethiopia -0.467446 -49.257895  \n",
       "49             Hamadryas, Ethiopia -0.449542 -48.955326  \n",
       "55                Anubis, Tanzania -0.530008 -45.310923  \n",
       "51             Hamadryas, Ethiopia -0.422121 -42.709875  \n",
       "20             Hamadryas, Ethiopia -0.423130 -39.270640  \n",
       "21             Hamadryas, Ethiopia -0.402573 -38.093067  \n",
       "54                Anubis, Tanzania -0.382147 -33.002250  \n",
       "22             Hamadryas, Ethiopia -0.369959 -32.718145  \n",
       "29                  Kindae, Zambia -0.253156 -29.524738  \n",
       "31                  Kindae, Zambia -0.250103 -28.010508  \n",
       "30                  Kindae, Zambia -0.236915 -26.754278  \n",
       "25  Cynocephalus, Central Tanzania -0.178251 -24.730959  \n",
       "28                  Kindae, Zambia -0.153748 -22.885561  \n",
       "27  Cynocephalus, Central Tanzania -0.156600 -19.372314  \n",
       "37                Anubis, Tanzania -0.146825 -19.157263  \n",
       "26  Cynocephalus, Central Tanzania -0.126363 -17.946286  \n",
       "0   Cynocephalus, Central Tanzania -0.131770 -15.842033  \n",
       "36                Anubis, Tanzania -0.131807 -15.015768  \n",
       "33             Hamadryas, Ethiopia -0.079116 -13.859995  \n",
       "50             Hamadryas, Ethiopia -0.109842 -13.319836  \n",
       "32             Hamadryas, Ethiopia -0.100064 -12.850076  \n",
       "3   Cynocephalus, Central Tanzania -0.105467 -11.435761  \n",
       "58  Cynocephalus, Western Tanzania -0.101976 -10.741314  \n",
       "13  Cynocephalus, Central Tanzania -0.079166  -9.474944  \n",
       "1   Cynocephalus, Central Tanzania -0.076769  -8.962945  \n",
       "24  Cynocephalus, Central Tanzania -0.048369  -8.834117  \n",
       "15  Cynocephalus, Central Tanzania -0.055625  -8.772373  \n",
       "17                  Kindae, Zambia -0.040288  -5.034501  \n",
       "19                  Kindae, Zambia -0.029413  -4.694883  \n",
       "41  Cynocephalus, Central Tanzania -0.041663  -3.911337  \n",
       "45                  Kindae, Zambia -0.020210  -2.055082  "
      ]
     },
     "execution_count": 80,
     "metadata": {},
     "output_type": "execute_result"
    }
   ],
   "source": [
    "df_f3.loc[df_f3[\"z-score\"] < 0].sort_values([\"z-score\"])"
   ]
  },
  {
   "cell_type": "code",
   "execution_count": 14,
   "metadata": {},
   "outputs": [
    {
     "data": {
      "text/plain": [
       "5.707044123719205"
      ]
     },
     "execution_count": 14,
     "metadata": {},
     "output_type": "execute_result"
    }
   ],
   "source": [
    "df_f3[\"z-score\"].mean()"
   ]
  },
  {
   "cell_type": "markdown",
   "metadata": {},
   "source": [
    "Running it for all chromosomes in the Anubis Tanzania, Anubis Ethiopia, Hamadryas Ethiopia configuration."
   ]
  },
  {
   "cell_type": "code",
   "execution_count": 16,
   "metadata": {},
   "outputs": [],
   "source": [
    "def d_run_chrom(a, b, c, chrom_number):\n",
    "    #Opening data\n",
    "    ancestor = \"/faststorage/project/baboondiversity/data/ancestral_state_panu3_23_04_2021/papio_anubis_ancestor_{}.fa\".format(chrom_number)\n",
    "    zarr_dir = \"/faststorage/project/baboondiversity/data/PG_panu3_zarr_12_03_2021/callset.zarr/chr{}\".format(chrom_number)\n",
    "    fasta_sequences = SeqIO.parse(open(ancestor),'fasta')\n",
    "    for fasta in fasta_sequences:\n",
    "        name, ancestral_sequence = fasta.id, str(fasta.seq)\n",
    "    callset = zarr.open_group(zarr_dir, mode=\"r\")\n",
    "    gt = allel.GenotypeArray(callset[\"calldata/GT\"])\n",
    "    #Polarization of gt\n",
    "    ancestor_list = []\n",
    "    for i in callset[\"variants/POS\"][:]:\n",
    "        ancestor_list.append(ancestral_sequence[i-1].upper())\n",
    "    mapping = np.array([[0, 1]]*(len(ancestor_list)))\n",
    "    ens_eq_alt = (ancestor_list == callset[\"variants/ALT\"][:, 0])\n",
    "    mapping[ens_eq_alt, 0] = 1\n",
    "    mapping[ens_eq_alt, 1] = 0\n",
    "    gt = gt.map_alleles(mapping)\n",
    "    g_ac = gt.take(meta_data_samples.loc[meta_data_samples.C_origin == \"Gelada, Captive\"].callset_index.values, axis=1).count_alleles(max_allele=1)\n",
    "    a_ids = meta_data_samples.loc[meta_data_samples.C_origin == a].callset_index.values\n",
    "    b_ids = meta_data_samples.loc[meta_data_samples.C_origin == b].callset_index.values\n",
    "    c_ids = meta_data_samples.loc[meta_data_samples.C_origin == c].callset_index.values\n",
    "    a_ac = gt.take(a_ids, axis=1).count_alleles(max_allele=1)\n",
    "    b_ac = gt.take(b_ids, axis=1).count_alleles(max_allele=1)\n",
    "    c_ac = gt.take(c_ids, axis=1).count_alleles(max_allele=1)\n",
    "    d_stats = allel.average_patterson_d(a_ac, b_ac, c_ac, g_ac, blen=100000)\n",
    "    return d_stats"
   ]
  },
  {
   "cell_type": "code",
   "execution_count": 17,
   "metadata": {},
   "outputs": [
    {
     "name": "stdout",
     "output_type": "stream",
     "text": [
      "1\n",
      "2\n",
      "3\n",
      "4\n",
      "5\n",
      "6\n",
      "7\n",
      "8\n",
      "9\n",
      "10\n",
      "11\n",
      "12\n",
      "13\n",
      "14\n",
      "15\n",
      "16\n",
      "17\n",
      "18\n",
      "19\n",
      "20\n",
      "X\n"
     ]
    }
   ],
   "source": [
    "chromosome_numbers = ['{}'.format(x) for x in range(1, 21)] + ['X']\n",
    "dbranch_l = []\n",
    "z_l = []\n",
    "\n",
    "for chrom in chromosome_numbers:\n",
    "    d_stats = d_run_chrom(\"Anubis, Tanzania\", \"Anubis, Ethiopia\", \"Hamadryas, Ethiopia\", chrom)\n",
    "    dbranch_l.append(d_stats[0])\n",
    "    z_l.append(d_stats[2])\n",
    "    print(chrom)\n",
    "d = {\"d_stat\": dbranch_l, \"z-score\": z_l, \"chrom\": chromosome_numbers}\n",
    "df_d_aah = pd.DataFrame(data=d)"
   ]
  },
  {
   "cell_type": "code",
   "execution_count": 18,
   "metadata": {},
   "outputs": [],
   "source": [
    "df_d_aah[\"chr_type\"] = [\"autosome\"]*20+[\"chrX\"]"
   ]
  },
  {
   "cell_type": "code",
   "execution_count": 30,
   "metadata": {},
   "outputs": [
    {
     "data": {
      "text/html": [
       "<div>\n",
       "<style scoped>\n",
       "    .dataframe tbody tr th:only-of-type {\n",
       "        vertical-align: middle;\n",
       "    }\n",
       "\n",
       "    .dataframe tbody tr th {\n",
       "        vertical-align: top;\n",
       "    }\n",
       "\n",
       "    .dataframe thead th {\n",
       "        text-align: right;\n",
       "    }\n",
       "</style>\n",
       "<table border=\"1\" class=\"dataframe\">\n",
       "  <thead>\n",
       "    <tr style=\"text-align: right;\">\n",
       "      <th></th>\n",
       "      <th>d_stat</th>\n",
       "      <th>z-score</th>\n",
       "      <th>chrom</th>\n",
       "      <th>chr_type</th>\n",
       "    </tr>\n",
       "  </thead>\n",
       "  <tbody>\n",
       "    <tr>\n",
       "      <th>0</th>\n",
       "      <td>-0.116903</td>\n",
       "      <td>-15.452708</td>\n",
       "      <td>1</td>\n",
       "      <td>autosome</td>\n",
       "    </tr>\n",
       "    <tr>\n",
       "      <th>1</th>\n",
       "      <td>-0.107715</td>\n",
       "      <td>-13.669258</td>\n",
       "      <td>2</td>\n",
       "      <td>autosome</td>\n",
       "    </tr>\n",
       "    <tr>\n",
       "      <th>2</th>\n",
       "      <td>-0.106159</td>\n",
       "      <td>-15.894883</td>\n",
       "      <td>3</td>\n",
       "      <td>autosome</td>\n",
       "    </tr>\n",
       "    <tr>\n",
       "      <th>3</th>\n",
       "      <td>-0.140632</td>\n",
       "      <td>-21.736847</td>\n",
       "      <td>4</td>\n",
       "      <td>autosome</td>\n",
       "    </tr>\n",
       "    <tr>\n",
       "      <th>4</th>\n",
       "      <td>-0.114713</td>\n",
       "      <td>-17.112460</td>\n",
       "      <td>5</td>\n",
       "      <td>autosome</td>\n",
       "    </tr>\n",
       "    <tr>\n",
       "      <th>5</th>\n",
       "      <td>-0.101599</td>\n",
       "      <td>-13.275655</td>\n",
       "      <td>6</td>\n",
       "      <td>autosome</td>\n",
       "    </tr>\n",
       "    <tr>\n",
       "      <th>6</th>\n",
       "      <td>-0.109842</td>\n",
       "      <td>-13.319836</td>\n",
       "      <td>7</td>\n",
       "      <td>autosome</td>\n",
       "    </tr>\n",
       "    <tr>\n",
       "      <th>7</th>\n",
       "      <td>-0.128353</td>\n",
       "      <td>-22.180162</td>\n",
       "      <td>8</td>\n",
       "      <td>autosome</td>\n",
       "    </tr>\n",
       "    <tr>\n",
       "      <th>8</th>\n",
       "      <td>-0.112728</td>\n",
       "      <td>-17.849226</td>\n",
       "      <td>9</td>\n",
       "      <td>autosome</td>\n",
       "    </tr>\n",
       "    <tr>\n",
       "      <th>9</th>\n",
       "      <td>-0.107194</td>\n",
       "      <td>-11.882384</td>\n",
       "      <td>10</td>\n",
       "      <td>autosome</td>\n",
       "    </tr>\n",
       "    <tr>\n",
       "      <th>10</th>\n",
       "      <td>-0.108387</td>\n",
       "      <td>-10.992051</td>\n",
       "      <td>11</td>\n",
       "      <td>autosome</td>\n",
       "    </tr>\n",
       "    <tr>\n",
       "      <th>11</th>\n",
       "      <td>-0.107282</td>\n",
       "      <td>-13.612828</td>\n",
       "      <td>12</td>\n",
       "      <td>autosome</td>\n",
       "    </tr>\n",
       "    <tr>\n",
       "      <th>12</th>\n",
       "      <td>-0.101263</td>\n",
       "      <td>-8.687970</td>\n",
       "      <td>13</td>\n",
       "      <td>autosome</td>\n",
       "    </tr>\n",
       "    <tr>\n",
       "      <th>13</th>\n",
       "      <td>-0.105635</td>\n",
       "      <td>-14.299966</td>\n",
       "      <td>14</td>\n",
       "      <td>autosome</td>\n",
       "    </tr>\n",
       "    <tr>\n",
       "      <th>14</th>\n",
       "      <td>-0.118005</td>\n",
       "      <td>-12.495115</td>\n",
       "      <td>15</td>\n",
       "      <td>autosome</td>\n",
       "    </tr>\n",
       "    <tr>\n",
       "      <th>15</th>\n",
       "      <td>-0.110288</td>\n",
       "      <td>-12.664439</td>\n",
       "      <td>16</td>\n",
       "      <td>autosome</td>\n",
       "    </tr>\n",
       "    <tr>\n",
       "      <th>16</th>\n",
       "      <td>-0.113438</td>\n",
       "      <td>-13.134763</td>\n",
       "      <td>17</td>\n",
       "      <td>autosome</td>\n",
       "    </tr>\n",
       "    <tr>\n",
       "      <th>17</th>\n",
       "      <td>-0.118530</td>\n",
       "      <td>-11.901976</td>\n",
       "      <td>18</td>\n",
       "      <td>autosome</td>\n",
       "    </tr>\n",
       "    <tr>\n",
       "      <th>18</th>\n",
       "      <td>-0.133903</td>\n",
       "      <td>-12.764290</td>\n",
       "      <td>19</td>\n",
       "      <td>autosome</td>\n",
       "    </tr>\n",
       "    <tr>\n",
       "      <th>19</th>\n",
       "      <td>-0.122809</td>\n",
       "      <td>-10.887640</td>\n",
       "      <td>20</td>\n",
       "      <td>autosome</td>\n",
       "    </tr>\n",
       "    <tr>\n",
       "      <th>20</th>\n",
       "      <td>-0.136183</td>\n",
       "      <td>-3.729179</td>\n",
       "      <td>X</td>\n",
       "      <td>chrX</td>\n",
       "    </tr>\n",
       "  </tbody>\n",
       "</table>\n",
       "</div>"
      ],
      "text/plain": [
       "      d_stat    z-score chrom  chr_type\n",
       "0  -0.116903 -15.452708     1  autosome\n",
       "1  -0.107715 -13.669258     2  autosome\n",
       "2  -0.106159 -15.894883     3  autosome\n",
       "3  -0.140632 -21.736847     4  autosome\n",
       "4  -0.114713 -17.112460     5  autosome\n",
       "5  -0.101599 -13.275655     6  autosome\n",
       "6  -0.109842 -13.319836     7  autosome\n",
       "7  -0.128353 -22.180162     8  autosome\n",
       "8  -0.112728 -17.849226     9  autosome\n",
       "9  -0.107194 -11.882384    10  autosome\n",
       "10 -0.108387 -10.992051    11  autosome\n",
       "11 -0.107282 -13.612828    12  autosome\n",
       "12 -0.101263  -8.687970    13  autosome\n",
       "13 -0.105635 -14.299966    14  autosome\n",
       "14 -0.118005 -12.495115    15  autosome\n",
       "15 -0.110288 -12.664439    16  autosome\n",
       "16 -0.113438 -13.134763    17  autosome\n",
       "17 -0.118530 -11.901976    18  autosome\n",
       "18 -0.133903 -12.764290    19  autosome\n",
       "19 -0.122809 -10.887640    20  autosome\n",
       "20 -0.136183  -3.729179     X      chrX"
      ]
     },
     "execution_count": 30,
     "metadata": {},
     "output_type": "execute_result"
    }
   ],
   "source": [
    "df_d_aah"
   ]
  },
  {
   "cell_type": "code",
   "execution_count": 19,
   "metadata": {},
   "outputs": [
    {
     "data": {
      "text/plain": [
       "<AxesSubplot:xlabel='z-score', ylabel='Count'>"
      ]
     },
     "execution_count": 19,
     "metadata": {},
     "output_type": "execute_result"
    },
    {
     "data": {
      "image/png": "[encoded data removed]",
      "text/plain": [
       "<Figure size 432x288 with 1 Axes>"
      ]
     },
     "metadata": {},
     "output_type": "display_data"
    }
   ],
   "source": [
    "sns.histplot(df_d_aah, x=\"z-score\", hue=\"chr_type\")"
   ]
  },
  {
   "cell_type": "code",
   "execution_count": 29,
   "metadata": {},
   "outputs": [
    {
     "data": {
      "text/plain": [
       "<AxesSubplot:xlabel='d_stat', ylabel='z-score'>"
      ]
     },
     "execution_count": 29,
     "metadata": {},
     "output_type": "execute_result"
    },
    {
     "data": {
      "image/png": "[encoded data removed]",
      "text/plain": [
       "<Figure size 432x288 with 1 Axes>"
      ]
     },
     "metadata": {},
     "output_type": "display_data"
    }
   ],
   "source": [
    "sns.scatterplot(data=df_d_aah, x=\"d_stat\", y=\"z-score\", hue=\"chr_type\")"
   ]
  },
  {
   "cell_type": "markdown",
   "metadata": {},
   "source": [
    "I want to be sure that no confounding happens due to males, so I restrict this part to females only (except for Gelada, which is 2 males)"
   ]
  },
  {
   "cell_type": "code",
   "execution_count": 5,
   "metadata": {},
   "outputs": [],
   "source": [
    "meta_data_samples_f = meta_data_samples.loc[meta_data_samples.Sex == \"F\"]"
   ]
  },
  {
   "cell_type": "code",
   "execution_count": 8,
   "metadata": {},
   "outputs": [],
   "source": [
    "def d_windowed_run_chrom(a, b, c, chrom_number):\n",
    "    #Opening data\n",
    "    ancestor = \"/faststorage/project/baboondiversity/data/ancestral_state_panu3_23_04_2021/papio_anubis_ancestor_{}.fa\".format(chrom_number)\n",
    "    zarr_dir = \"/faststorage/project/baboondiversity/data/PG_panu3_zarr_12_03_2021/callset.zarr/chr{}\".format(chrom_number)\n",
    "    fasta_sequences = SeqIO.parse(open(ancestor),'fasta')\n",
    "    for fasta in fasta_sequences:\n",
    "        name, ancestral_sequence = fasta.id, str(fasta.seq)\n",
    "    callset = zarr.open_group(zarr_dir, mode=\"r\")\n",
    "    gt = allel.GenotypeArray(callset[\"calldata/GT\"])\n",
    "    #Polarization of gt\n",
    "    ancestor_list = []\n",
    "    for i in callset[\"variants/POS\"][:]:\n",
    "        ancestor_list.append(ancestral_sequence[i-1].upper())\n",
    "    mapping = np.array([[0, 1]]*(len(ancestor_list)))\n",
    "    ens_eq_alt = (ancestor_list == callset[\"variants/ALT\"][:, 0])\n",
    "    mapping[ens_eq_alt, 0] = 1\n",
    "    mapping[ens_eq_alt, 1] = 0\n",
    "    gt = gt.map_alleles(mapping)\n",
    "    #Removing sites in which a gelada is het\n",
    "    gt_gelada = gt.take(meta_data_samples.loc[meta_data_samples.C_origin == \"Gelada, Captive\"].callset_index.values, axis=1)\n",
    "    gt = gt.compress(gt_gelada.is_het().sum(axis=1) == 0)\n",
    "    #Getting allele counts\n",
    "    g_ac = gt.count_alleles(max_allele=1)\n",
    "    a_ids = meta_data_samples_f.loc[meta_data_samples_f.C_origin == a].callset_index.values\n",
    "    b_ids = meta_data_samples_f.loc[meta_data_samples_f.C_origin == b].callset_index.values\n",
    "    c_ids = meta_data_samples_f.loc[meta_data_samples_f.C_origin == c].callset_index.values\n",
    "    a_ac = gt.take(a_ids, axis=1).count_alleles(max_allele=1)\n",
    "    b_ac = gt.take(b_ids, axis=1).count_alleles(max_allele=1)\n",
    "    c_ac = gt.take(c_ids, axis=1).count_alleles(max_allele=1)\n",
    "    d_stats = allel.moving_patterson_d(a_ac, b_ac, c_ac, g_ac, size=100000)\n",
    "    return d_stats"
   ]
  },
  {
   "cell_type": "code",
   "execution_count": 9,
   "metadata": {},
   "outputs": [
    {
     "name": "stdout",
     "output_type": "stream",
     "text": [
      "2\n",
      "7\n",
      "20\n",
      "X\n"
     ]
    }
   ],
   "source": [
    "chromosome_numbers = ['{}'.format(x) for x in range(1, 21)] + ['X']\n",
    "df_list = []\n",
    "\n",
    "for chrom in [\"2\", \"7\", \"20\", \"X\"]:\n",
    "    print(chrom)\n",
    "    chrom_df = pd.DataFrame()\n",
    "    d_stats = d_windowed_run_chrom(\"Anubis, Tanzania\", \"Anubis, Ethiopia\", \"Hamadryas, Ethiopia\", chrom)\n",
    "    chrom_df[\"d\"] = d_stats\n",
    "    chrom_df[\"chrom\"] = chrom\n",
    "    if chrom == \"X\":\n",
    "        chrom_df[\"chromtype\"] = \"X\"\n",
    "    else:\n",
    "        chrom_df[\"chromtype\"] = \"autosome\"\n",
    "    chrom_df[\"window\"] = [x+1 for x in range(len(chrom_df))]\n",
    "    df_list.append(chrom_df)\n",
    "window_d_df = pd.concat(df_list)"
   ]
  },
  {
   "cell_type": "code",
   "execution_count": 39,
   "metadata": {},
   "outputs": [
    {
     "data": {
      "text/plain": [
       "-0.203059625666825"
      ]
     },
     "execution_count": 39,
     "metadata": {},
     "output_type": "execute_result"
    }
   ],
   "source": [
    "window_d_df.loc[window_d_df.chrom == \"X\"][\"d\"].mean()"
   ]
  },
  {
   "cell_type": "code",
   "execution_count": 40,
   "metadata": {},
   "outputs": [
    {
     "data": {
      "text/plain": [
       "-0.11417106422677116"
      ]
     },
     "execution_count": 40,
     "metadata": {},
     "output_type": "execute_result"
    }
   ],
   "source": [
    "window_d_df.loc[window_d_df.chrom != \"X\"][\"d\"].mean()"
   ]
  },
  {
   "cell_type": "code",
   "execution_count": 41,
   "metadata": {},
   "outputs": [
    {
     "data": {
      "text/plain": [
       "<AxesSubplot:xlabel='d', ylabel='Count'>"
      ]
     },
     "execution_count": 41,
     "metadata": {},
     "output_type": "execute_result"
    },
    {
     "data": {
      "image/png": "[encoded data removed]",
      "text/plain": [
       "<Figure size 432x288 with 1 Axes>"
      ]
     },
     "metadata": {},
     "output_type": "display_data"
    }
   ],
   "source": [
    "sns.histplot(window_d_df, x=\"d\", hue=\"chromtype\", multiple=\"dodge\")"
   ]
  },
  {
   "cell_type": "markdown",
   "metadata": {},
   "source": [
    "Implementing f^d from https://academic.oup.com/mbe/article/32/1/244/2925550#74386645\n",
    "This just requires minimal modification from Pattersons D, which is that instead of having the denominator be the max freq of b or c."
   ]
  },
  {
   "cell_type": "code",
   "execution_count": 33,
   "metadata": {},
   "outputs": [],
   "source": [
    "def f_hat_d(aca, acb, acc, acd):\n",
    "    a = aca.to_frequencies()[:, 1]\n",
    "    b = acb.to_frequencies()[:, 1]\n",
    "    c = acc.to_frequencies()[:, 1]\n",
    "    d = acd.to_frequencies()[:, 1]\n",
    "    num = (a - b) * (c - d)\n",
    "    max_bc = np.maximum(b, c)\n",
    "    den = (a + max_bc - (2 * a * max_bc)) * (max_bc + d - (2 * max_bc * d))\n",
    "\n",
    "    return num, den"
   ]
  },
  {
   "cell_type": "code",
   "execution_count": 34,
   "metadata": {},
   "outputs": [],
   "source": [
    "f_hat_est = f_hat_d(ae_gt, at_gt, c_gt, g_gt)"
   ]
  },
  {
   "cell_type": "code",
   "execution_count": 35,
   "metadata": {},
   "outputs": [
    {
     "data": {
      "text/plain": [
       "-0.016242646502747878"
      ]
     },
     "execution_count": 35,
     "metadata": {},
     "output_type": "execute_result"
    }
   ],
   "source": [
    "np.nansum(f_hat_est[0])/np.nansum(f_hat_est[1])"
   ]
  },
  {
   "cell_type": "code",
   "execution_count": 14,
   "metadata": {},
   "outputs": [],
   "source": [
    "g_gt = gt.take(meta_data_samples.loc[(meta_data_samples.C_origin == \"Gelada, Captive\")].callset_index.values, axis=1).count_alleles(max_allele=1)\n",
    "c_gt = gt.take(meta_data_samples.loc[(meta_data_samples.C_origin == \"Cynocephalus, Western Tanzania\") &\n",
    "                                    (meta_data_samples.Sex == \"F\")].callset_index.values, axis=1).count_alleles(max_allele=1)\n",
    "at_gt = gt.take(meta_data_samples.loc[(meta_data_samples.C_origin == \"Anubis, Tanzania\") &\n",
    "                                    (meta_data_samples.Sex == \"F\")].callset_index.values, axis=1).count_alleles(max_allele=1)\n",
    "ae_gt = gt.take(meta_data_samples.loc[(meta_data_samples.C_origin == \"Anubis, Ethiopia\") &\n",
    "                                    (meta_data_samples.Sex == \"F\")].callset_index.values, axis=1).count_alleles(max_allele=1)"
   ]
  },
  {
   "cell_type": "code",
   "execution_count": 46,
   "metadata": {},
   "outputs": [],
   "source": [
    "gt_gelada = gt.take(meta_data_samples.loc[(meta_data_samples.C_origin == \"Gelada, Captive\")].callset_index.values, axis=1)"
   ]
  },
  {
   "cell_type": "code",
   "execution_count": 56,
   "metadata": {},
   "outputs": [],
   "source": [
    "gt_no_het_gelada = gt.compress(gt_gelada.is_het().sum(axis=1) == 0)"
   ]
  }
 ],
 "metadata": {
  "kernelspec": {
   "display_name": "Python 3",
   "language": "python",
   "name": "python3"
  },
  "language_info": {
   "codemirror_mode": {
    "name": "ipython",
    "version": 3
   },
   "file_extension": ".py",
   "mimetype": "text/x-python",
   "name": "python",
   "nbconvert_exporter": "python",
   "pygments_lexer": "ipython3",
   "version": "3.7.9"
  }
 },
 "nbformat": 4,
 "nbformat_minor": 4
}
