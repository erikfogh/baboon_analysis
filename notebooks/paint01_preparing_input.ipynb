{
 "cells": [
  {
   "cell_type": "markdown",
   "metadata": {},
   "source": [
    "In this notebook, I will check the input to chromopainter/finestructure, as well as create some supporting files. "
   ]
  },
  {
   "cell_type": "code",
   "execution_count": 1,
   "metadata": {},
   "outputs": [
    {
     "name": "stderr",
     "output_type": "stream",
     "text": [
      "/faststorage/project/baboondiversity/people/eriks/baboon_first_analysis/scripts/notebook_settings_lean.py:7: DeprecationWarning: `set_matplotlib_formats` is deprecated since IPython 7.23, directly use `matplotlib_inline.backend_inline.set_matplotlib_formats()`\n",
      "  set_matplotlib_formats('retina', 'png')\n"
     ]
    }
   ],
   "source": [
    "%run ../scripts/notebook_settings_lean.py\n",
    "meta_data_samples = pd.read_table(\"../data/metadata_with_x_missing.txt\", sep=\" \")"
   ]
  },
  {
   "cell_type": "code",
   "execution_count": 4,
   "metadata": {},
   "outputs": [],
   "source": [
    "phase_file = \"/faststorage/project/baboondiversity/data/haploidified_chrX_males/chrX_v3.phase\"\n",
    "read_phase = pd.read_csv(phase_file)\n",
    "#vcf = \"/faststorage/project/baboondiversity/data/haploidified_chrX_males/hap_chrX_males.vcf.gz\""
   ]
  },
  {
   "cell_type": "code",
   "execution_count": 5,
   "metadata": {},
   "outputs": [
    {
     "data": {
      "text/plain": [
       "'1,2,3,4,5,6,7,8,9,10,11,12,13,14,15,16,17,18,19,20,X'"
      ]
     },
     "execution_count": 5,
     "metadata": {},
     "output_type": "execute_result"
    }
   ],
   "source": [
    "chromosome_numbers = ['{}'.format(x) for x in range(1, 21)] + ['X']\n",
    "\",\".join(chromosome_numbers)"
   ]
  },
  {
   "cell_type": "markdown",
   "metadata": {},
   "source": [
    "First, an implementation to create a preliminary population list - the most recent implementation is in paint05, where I create it based on fineSTRUCTURE results."
   ]
  },
  {
   "cell_type": "code",
   "execution_count": 6,
   "metadata": {},
   "outputs": [
    {
     "ename": "NameError",
     "evalue": "name 'allel' is not defined",
     "output_type": "error",
     "traceback": [
      "\u001b[0;31m---------------------------------------------------------------------------\u001b[0m",
      "\u001b[0;31mNameError\u001b[0m                                 Traceback (most recent call last)",
      "Input \u001b[0;32mIn [6]\u001b[0m, in \u001b[0;36m<cell line: 1>\u001b[0;34m()\u001b[0m\n\u001b[0;32m----> 1\u001b[0m callset \u001b[38;5;241m=\u001b[39m \u001b[43mallel\u001b[49m\u001b[38;5;241m.\u001b[39mread_vcf(vcf)\n",
      "\u001b[0;31mNameError\u001b[0m: name 'allel' is not defined"
     ]
    }
   ],
   "source": [
    "callset = allel.read_vcf(vcf)"
   ]
  },
  {
   "cell_type": "code",
   "execution_count": null,
   "metadata": {},
   "outputs": [],
   "source": [
    "individuals = callset[\"samples\"]"
   ]
  },
  {
   "cell_type": "code",
   "execution_count": null,
   "metadata": {},
   "outputs": [],
   "source": [
    "individuals"
   ]
  },
  {
   "cell_type": "markdown",
   "metadata": {},
   "source": [
    "Chromopainter id/pop list"
   ]
  },
  {
   "cell_type": "code",
   "execution_count": 7,
   "metadata": {},
   "outputs": [
    {
     "data": {
      "text/plain": [
       "array(['Mikumi, Tanzania', 'Aberdare, Kenya', 'Chunga, Zambia', 'captive',\n",
       "       'Awash, Ethiopia', 'Serengeti, Tanzania', 'Arusha, Tanzania',\n",
       "       'Ngorongoro, Tanzania', 'Ruaha, Tanzania', 'Gombe, Tanzania',\n",
       "       'Udzungwa, Tanzania', 'Mahale, Tanzania', 'Katavi, Tanzania',\n",
       "       'Selous, Tanzania', 'Lake Manyara, Tanzania',\n",
       "       'Tarangire, Tanzania', 'Niokolo-Koba, Senegal',\n",
       "       'Issa Valley, Tanzania', 'Dendro Park, Zambia', 'Filoha, Ethiopia',\n",
       "       'Gog Woreda, Gambella region, Ethiopia'], dtype=object)"
      ]
     },
     "execution_count": 7,
     "metadata": {},
     "output_type": "execute_result"
    }
   ],
   "source": [
    "meta_data_samples.Origin.unique()"
   ]
  },
  {
   "cell_type": "code",
   "execution_count": 8,
   "metadata": {},
   "outputs": [
    {
     "ename": "NameError",
     "evalue": "name 'individuals' is not defined",
     "output_type": "error",
     "traceback": [
      "\u001b[0;31m---------------------------------------------------------------------------\u001b[0m",
      "\u001b[0;31mNameError\u001b[0m                                 Traceback (most recent call last)",
      "Input \u001b[0;32mIn [8]\u001b[0m, in \u001b[0;36m<cell line: 3>\u001b[0;34m()\u001b[0m\n\u001b[1;32m      1\u001b[0m pop_list \u001b[38;5;241m=\u001b[39m []\n\u001b[1;32m      2\u001b[0m inclusion_list \u001b[38;5;241m=\u001b[39m []\n\u001b[0;32m----> 3\u001b[0m \u001b[38;5;28;01mfor\u001b[39;00m i \u001b[38;5;129;01min\u001b[39;00m \u001b[43mindividuals\u001b[49m:\n\u001b[1;32m      4\u001b[0m     \u001b[38;5;28;01mif\u001b[39;00m i[\u001b[38;5;241m0\u001b[39m] \u001b[38;5;241m==\u001b[39m \u001b[38;5;124m\"\u001b[39m\u001b[38;5;124mS\u001b[39m\u001b[38;5;124m\"\u001b[39m:\n\u001b[1;32m      5\u001b[0m         i \u001b[38;5;241m=\u001b[39m i[\u001b[38;5;241m4\u001b[39m:]\n",
      "\u001b[0;31mNameError\u001b[0m: name 'individuals' is not defined"
     ]
    }
   ],
   "source": [
    "pop_list = []\n",
    "inclusion_list = []\n",
    "for i in individuals:\n",
    "    if i[0] == \"S\":\n",
    "        i = i[4:]\n",
    "    t_pop = meta_data_samples.loc[meta_data_samples.PGDP_ID == i][\"Origin\"].values[0]\n",
    "    C_origin = meta_data_samples.loc[meta_data_samples.PGDP_ID == i][\"C_origin\"].values[0]\n",
    "    if C_origin != \"Anubis, Kenya\":\n",
    "        inclusion_list.append(1)\n",
    "    else:\n",
    "        inclusion_list.append(0)\n",
    "    t_pop = C_origin.replace(\" \", \"_\").replace(\",\", \"\" )\n",
    "    pop_list.append(t_pop)"
   ]
  },
  {
   "cell_type": "code",
   "execution_count": null,
   "metadata": {},
   "outputs": [],
   "source": [
    "len(pop_list)"
   ]
  },
  {
   "cell_type": "code",
   "execution_count": null,
   "metadata": {},
   "outputs": [],
   "source": [
    "pop_df = pd.DataFrame()\n",
    "pop_df[\"ID\"] = individuals\n",
    "pop_df[\"population\"] = pop_list\n",
    "pop_df[\"inclusion\"] = inclusion_list"
   ]
  },
  {
   "cell_type": "code",
   "execution_count": null,
   "metadata": {},
   "outputs": [],
   "source": [
    "pop_df.loc[pop_df[\"inclusion\"] == 0]"
   ]
  },
  {
   "cell_type": "code",
   "execution_count": null,
   "metadata": {},
   "outputs": [],
   "source": [
    "pop_df.to_csv(\"/faststorage/project/baboondiversity/data/haploidified_chrX_males/idfile_males_8_cluster.ids\",\n",
    "              sep=\" \", header=False, index=False)"
   ]
  },
  {
   "cell_type": "code",
   "execution_count": null,
   "metadata": {},
   "outputs": [],
   "source": [
    "meta_data_samples_Sci = meta_data_samples.copy()\n",
    "for i, row in meta_data_samples_Sci.iterrows():\n",
    "    if row.PGDP_ID[0] != \"P\":\n",
    "        meta_data_samples_Sci.at[i, \"PGDP_ID\"] = \"Sci_\"+str(row.PGDP_ID)"
   ]
  },
  {
   "cell_type": "code",
   "execution_count": null,
   "metadata": {},
   "outputs": [],
   "source": [
    "meta_data_samples_Sci.to_csv(\"../data/metadata_Sci_included.txt\",\n",
    "              sep=\" \", header=False, index=False)\n",
    "meta_data_samples_Sci.iloc[8:11]"
   ]
  },
  {
   "cell_type": "markdown",
   "metadata": {},
   "source": [
    "Generating an idfile with all individuals"
   ]
  },
  {
   "cell_type": "code",
   "execution_count": null,
   "metadata": {},
   "outputs": [],
   "source": [
    "vcf = \"/home/eriks/baboondiversity/data/fs_input_unlinked/chr20.vcf.gz\"\n",
    "callset = allel.read_vcf(vcf)"
   ]
  },
  {
   "cell_type": "code",
   "execution_count": null,
   "metadata": {},
   "outputs": [],
   "source": [
    "individuals = callset[\"samples\"]"
   ]
  },
  {
   "cell_type": "code",
   "execution_count": null,
   "metadata": {},
   "outputs": [],
   "source": [
    "pop_list = []\n",
    "inclusion_list = []\n",
    "for i in individuals:\n",
    "    if i[0] == \"S\":\n",
    "        i = i[4:]\n",
    "    inclusion_list.append(1)       \n",
    "    if meta_data_samples.loc[meta_data_samples.PGDP_ID == i][\"Species\"].values[0] == \"ursinus (grayfoot)\":\n",
    "        pop_list.append(\"Ursinus\")\n",
    "    else:\n",
    "        t_pop = meta_data_samples.loc[meta_data_samples.PGDP_ID == i][\"C_origin\"].values[0]\n",
    "        t_pop = t_pop.replace(\" \", \"_\").replace(\",\", \"\" )\n",
    "        pop_list.append(t_pop)"
   ]
  },
  {
   "cell_type": "code",
   "execution_count": null,
   "metadata": {},
   "outputs": [],
   "source": [
    "pop_df = pd.DataFrame()\n",
    "pop_df[\"ID\"] = individuals\n",
    "pop_df[\"population\"] = pop_list\n",
    "pop_df[\"inclusion\"] = inclusion_list"
   ]
  },
  {
   "cell_type": "code",
   "execution_count": null,
   "metadata": {},
   "outputs": [],
   "source": [
    "pop_df.to_csv(\"/faststorage/project/baboondiversity/data/haploidified_chrX_males/idfile_autosomes.ids\",\n",
    "              sep=\" \", header=False, index=False)"
   ]
  },
  {
   "cell_type": "markdown",
   "metadata": {},
   "source": [
    "Relate pop list"
   ]
  },
  {
   "cell_type": "code",
   "execution_count": 9,
   "metadata": {},
   "outputs": [],
   "source": [
    "#Sampling loc version\n",
    "id_list = []\n",
    "pop_list = []\n",
    "group_list = []\n",
    "sex_list = []\n",
    "for i, row in meta_data_samples.iterrows():\n",
    "    if row.PGDP_ID[0] != \"P\":\n",
    "        id_list.append(\"Sci_\"+row.PGDP_ID)\n",
    "    else:\n",
    "        id_list.append(row.PGDP_ID)\n",
    "    pop_list.append(\"\".join([x[:3] for x in row.Origin.split(\", \")]))\n",
    "    group_list.append(row.C_origin)\n",
    "    if row.Sex == \"F\":\n",
    "        sex_list.append(\"female\")\n",
    "    else:\n",
    "        sex_list.append(\"male\")"
   ]
  },
  {
   "cell_type": "code",
   "execution_count": 10,
   "metadata": {},
   "outputs": [],
   "source": [
    "#8 Cluster version\n",
    "id_list = []\n",
    "pop_list = []\n",
    "group_list = []\n",
    "sex_list = []\n",
    "for i, row in meta_data_samples.iterrows():\n",
    "    if row.PGDP_ID[0] != \"P\":\n",
    "        id_list.append(\"Sci_\"+row.PGDP_ID)\n",
    "    else:\n",
    "        id_list.append(row.PGDP_ID)\n",
    "    pop_list.append(row.C_origin)\n",
    "    group_list.append(row.C_origin)\n",
    "    if row.Sex == \"F\":\n",
    "        sex_list.append(\"female\")\n",
    "    else:\n",
    "        sex_list.append(\"male\")"
   ]
  },
  {
   "cell_type": "code",
   "execution_count": 11,
   "metadata": {},
   "outputs": [],
   "source": [
    "df_relate_pop = pd.DataFrame({\"ID\": id_list, \"POP\": pop_list, \"GROUP\": group_list, \"SEX\": sex_list})"
   ]
  },
  {
   "cell_type": "code",
   "execution_count": 12,
   "metadata": {},
   "outputs": [
    {
     "data": {
      "text/html": [
       "<div>\n",
       "<style scoped>\n",
       "    .dataframe tbody tr th:only-of-type {\n",
       "        vertical-align: middle;\n",
       "    }\n",
       "\n",
       "    .dataframe tbody tr th {\n",
       "        vertical-align: top;\n",
       "    }\n",
       "\n",
       "    .dataframe thead th {\n",
       "        text-align: right;\n",
       "    }\n",
       "</style>\n",
       "<table border=\"1\" class=\"dataframe\">\n",
       "  <thead>\n",
       "    <tr style=\"text-align: right;\">\n",
       "      <th></th>\n",
       "      <th>ID</th>\n",
       "      <th>POP</th>\n",
       "      <th>GROUP</th>\n",
       "      <th>SEX</th>\n",
       "    </tr>\n",
       "  </thead>\n",
       "  <tbody>\n",
       "    <tr>\n",
       "      <th>0</th>\n",
       "      <td>Sci_16066</td>\n",
       "      <td>Cynocephalus, Central Tanzania</td>\n",
       "      <td>Cynocephalus, Central Tanzania</td>\n",
       "      <td>female</td>\n",
       "    </tr>\n",
       "    <tr>\n",
       "      <th>1</th>\n",
       "      <td>Sci_16098</td>\n",
       "      <td>Cynocephalus, Central Tanzania</td>\n",
       "      <td>Cynocephalus, Central Tanzania</td>\n",
       "      <td>female</td>\n",
       "    </tr>\n",
       "    <tr>\n",
       "      <th>2</th>\n",
       "      <td>Sci_30877</td>\n",
       "      <td>Anubis, Kenya</td>\n",
       "      <td>Anubis, Kenya</td>\n",
       "      <td>male</td>\n",
       "    </tr>\n",
       "    <tr>\n",
       "      <th>3</th>\n",
       "      <td>Sci_30977</td>\n",
       "      <td>Anubis, Kenya</td>\n",
       "      <td>Anubis, Kenya</td>\n",
       "      <td>female</td>\n",
       "    </tr>\n",
       "    <tr>\n",
       "      <th>4</th>\n",
       "      <td>Sci_34449</td>\n",
       "      <td>Kindae, Zambia</td>\n",
       "      <td>Kindae, Zambia</td>\n",
       "      <td>female</td>\n",
       "    </tr>\n",
       "    <tr>\n",
       "      <th>...</th>\n",
       "      <td>...</td>\n",
       "      <td>...</td>\n",
       "      <td>...</td>\n",
       "      <td>...</td>\n",
       "    </tr>\n",
       "    <tr>\n",
       "      <th>222</th>\n",
       "      <td>PD_0790</td>\n",
       "      <td>Kindae, Zambia</td>\n",
       "      <td>Kindae, Zambia</td>\n",
       "      <td>female</td>\n",
       "    </tr>\n",
       "    <tr>\n",
       "      <th>223</th>\n",
       "      <td>PD_0791</td>\n",
       "      <td>Kindae, Zambia</td>\n",
       "      <td>Kindae, Zambia</td>\n",
       "      <td>female</td>\n",
       "    </tr>\n",
       "    <tr>\n",
       "      <th>224</th>\n",
       "      <td>PD_0792</td>\n",
       "      <td>Kindae, Zambia</td>\n",
       "      <td>Kindae, Zambia</td>\n",
       "      <td>female</td>\n",
       "    </tr>\n",
       "    <tr>\n",
       "      <th>225</th>\n",
       "      <td>PD_0793</td>\n",
       "      <td>Kindae, Zambia</td>\n",
       "      <td>Kindae, Zambia</td>\n",
       "      <td>male</td>\n",
       "    </tr>\n",
       "    <tr>\n",
       "      <th>226</th>\n",
       "      <td>PD_0794_BAB</td>\n",
       "      <td>Kindae, Zambia</td>\n",
       "      <td>Kindae, Zambia</td>\n",
       "      <td>male</td>\n",
       "    </tr>\n",
       "  </tbody>\n",
       "</table>\n",
       "<p>227 rows × 4 columns</p>\n",
       "</div>"
      ],
      "text/plain": [
       "              ID                             POP  \\\n",
       "0      Sci_16066  Cynocephalus, Central Tanzania   \n",
       "1      Sci_16098  Cynocephalus, Central Tanzania   \n",
       "2      Sci_30877                   Anubis, Kenya   \n",
       "3      Sci_30977                   Anubis, Kenya   \n",
       "4      Sci_34449                  Kindae, Zambia   \n",
       "..           ...                             ...   \n",
       "222      PD_0790                  Kindae, Zambia   \n",
       "223      PD_0791                  Kindae, Zambia   \n",
       "224      PD_0792                  Kindae, Zambia   \n",
       "225      PD_0793                  Kindae, Zambia   \n",
       "226  PD_0794_BAB                  Kindae, Zambia   \n",
       "\n",
       "                              GROUP     SEX  \n",
       "0    Cynocephalus, Central Tanzania  female  \n",
       "1    Cynocephalus, Central Tanzania  female  \n",
       "2                     Anubis, Kenya    male  \n",
       "3                     Anubis, Kenya  female  \n",
       "4                    Kindae, Zambia  female  \n",
       "..                              ...     ...  \n",
       "222                  Kindae, Zambia  female  \n",
       "223                  Kindae, Zambia  female  \n",
       "224                  Kindae, Zambia  female  \n",
       "225                  Kindae, Zambia    male  \n",
       "226                  Kindae, Zambia    male  \n",
       "\n",
       "[227 rows x 4 columns]"
      ]
     },
     "execution_count": 12,
     "metadata": {},
     "output_type": "execute_result"
    }
   ],
   "source": [
    "df_relate_pop"
   ]
  },
  {
   "cell_type": "code",
   "execution_count": 16,
   "metadata": {},
   "outputs": [],
   "source": [
    "relate_map = {\"Cynocephalus, Central Tanzania\": \"Eastern Yellow\", \"Anubis, Kenya\": \"Kenyan Olive\",\n",
    "              \"Kindae, Zambia\": \"Kindae\", \"Gelada, Captive\": \"Gelada\", \"Hamadryas, Ethiopia\": \"Hamadryas\",\n",
    "              \"Anubis, Tanzania\": \"Tanzanian Olive\", \"Cynocephalus, Western Tanzania\": \"Western Yellow\",\n",
    "              \"Papio, Senegal\": \"Papio\", \"Ursinus, Zambia\": \"Chacma\", \"Anubis, Ethiopia\": \"Ethiopian Olive\"}"
   ]
  },
  {
   "cell_type": "code",
   "execution_count": 17,
   "metadata": {},
   "outputs": [],
   "source": [
    "df_relate_pop[\"POP\"] = df_relate_pop[\"POP\"].map(relate_map)\n",
    "df_relate_pop[\"GROUP\"] = df_relate_pop[\"GROUP\"].map(relate_map)"
   ]
  },
  {
   "cell_type": "code",
   "execution_count": 21,
   "metadata": {},
   "outputs": [],
   "source": [
    "df_relate_pop.to_csv(\"/home/eriks/baboondiversity/people/eriks/second_analysis_baboons/data/pops/all_inds_8cluster.sample\", sep=\" \")"
   ]
  },
  {
   "cell_type": "code",
   "execution_count": 23,
   "metadata": {},
   "outputs": [],
   "source": [
    "df_relate_pop.loc[(df_relate_pop.SEX == \"female\")\n",
    "                  & (df_relate_pop.POP != \"Kenyan Olive\")].to_csv(\"/home/eriks/baboondiversity/people/eriks/second_analysis_baboons/data/pops/all_females_8cluster.sample\", sep=\" \")"
   ]
  },
  {
   "cell_type": "markdown",
   "metadata": {},
   "source": [
    "Generalized setup to handle the input from Alan in the Phased chromosomes.\n",
    "Including both generating the idfile (should only be done once for all autosomes) and the recombination map based on Jurajs workflow. It will then be transformed based on the supplied conversion script.\n",
    "As an update, I am going to use SMC++ to estimate the Ne for the anubis baboons on each chrom, to make the maps more accurate."
   ]
  },
  {
   "cell_type": "code",
   "execution_count": 28,
   "metadata": {},
   "outputs": [
    {
     "name": "stdout",
     "output_type": "stream",
     "text": [
      "7473.349352945704 17097.121092364443\n",
      "7273.326606927247 14029.500469998282\n",
      "7039.5754246358665 14756.665870468743\n",
      "5742.725356297606 16439.430909852552\n",
      "5844.058234334789 16311.35801727351\n",
      "4760.756025311925 14734.676544474505\n",
      "4598.321117073024 14468.506808106898\n",
      "4877.819465580731 12815.759200288914\n",
      "4913.575637351899 12823.73029306598\n",
      "5305.133409768961 14667.04802756907\n",
      "5270.552431947253 14691.951496081092\n",
      "5114.902213552136 14725.99552141701\n",
      "4719.5310790306 12669.60728499769\n",
      "5025.989372581273 14494.624867967754\n",
      "5054.82032093501 14578.93663951652\n",
      "4903.9243458556775 12758.09157634804\n",
      "5080.564921783044 14550.63476622679\n",
      "5043.102879091637 14473.86726954616\n",
      "4926.281466167146 12822.958527635743\n",
      "5129.683847878929 14632.977968603689\n",
      "4963.957869099318 12516.989159437499\n"
     ]
    }
   ],
   "source": [
    "chromosome_numbers = ['{}'.format(x) for x in range(1, 21)] + ['X']\n",
    "hist_path = \"../software/smcpp_workflow/chr{}a_st_smallplot.csv\"\n",
    "Ne_dict = {}\n",
    "for chrom in chromosome_numbers:\n",
    "    pop_hist = pd.read_csv(hist_path.format(chrom))\n",
    "    harm_Ne = 1000000\n",
    "    denom_Ne = 0\n",
    "    minimal_Ne = harm_Ne\n",
    "    for i, row in pop_hist.iterrows():\n",
    "        if row.x/6 < harm_Ne:\n",
    "            denom_Ne += (pop_hist.iloc[i+1].x-row.x)/row.y\n",
    "            harm_Ne = 1/(denom_Ne/pop_hist.iloc[i+1].x)\n",
    "            minimal_Ne = min(minimal_Ne, harm_Ne)\n",
    "    Ne_dict[chrom] = harm_Ne\n",
    "    print(minimal_Ne, harm_Ne)"
   ]
  },
  {
   "cell_type": "code",
   "execution_count": 16,
   "metadata": {},
   "outputs": [
    {
     "data": {
      "text/plain": [
       "4092.5012155205086"
      ]
     },
     "execution_count": 16,
     "metadata": {},
     "output_type": "execute_result"
    }
   ],
   "source": [
    "#Calculating the harmonic mean based on chr8 and chr2\n",
    "8976.660682226211/((1/(3.5409727524577397)+1/(2.8595209468869247)+1/(2.2281460431700073)+1/(1.6299446499608925)+ \n",
    "   1/(0.9971551117394005)+1/(0.6836458906780845)+1/(1.934691292087296)+1/(2.0455731540092916))/8)\n",
    "8976.660682226211/((1/(3.6120776873676523)+1/(3.123235380059445)+1/(2.6965802356305666)+1/(2.300463108174445)+ \n",
    "   1/(1.6831561133199526)+1/(0.7702407917227159)+1/(0.07237968762893712)+1/(2.290864951232619))/8)\n",
    "#0.6836458906780845*9000"
   ]
  },
  {
   "cell_type": "code",
   "execution_count": 3,
   "metadata": {},
   "outputs": [
    {
     "name": "stdout",
     "output_type": "stream",
     "text": [
      "Mean cM/Mb 0.9888097729700316\n",
      "Chromosome-wide 0.7701280280154288\n",
      "Finished  1\n",
      "Mean cM/Mb 0.9290944207911565\n",
      "Chromosome-wide 0.7408483828228898\n",
      "Finished  2\n",
      "Mean cM/Mb 1.0038732173227523\n",
      "Chromosome-wide 0.8051735447546238\n",
      "Finished  3\n",
      "Mean cM/Mb 1.4881721057415567\n",
      "Chromosome-wide 0.9141254045654853\n",
      "Finished  4\n",
      "Mean cM/Mb 0.9340696642090354\n",
      "Chromosome-wide 0.7745681690856315\n",
      "Finished  5\n",
      "Mean cM/Mb 0.9481449620380716\n",
      "Chromosome-wide 0.7499024055771824\n",
      "Finished  6\n",
      "Mean cM/Mb 1.1214520221004156\n",
      "Chromosome-wide 0.8304176469187802\n",
      "Finished  7\n",
      "Mean cM/Mb 1.1601366668557036\n",
      "Chromosome-wide 0.9185725839121722\n",
      "Finished  8\n",
      "Mean cM/Mb 1.2738214104745194\n",
      "Chromosome-wide 0.9624287247401264\n",
      "Finished  9\n",
      "Mean cM/Mb 1.4549742000070756\n",
      "Chromosome-wide 1.0680124203636314\n",
      "Finished  10\n",
      "Mean cM/Mb 1.11856403685788\n",
      "Chromosome-wide 0.8737927000183012\n",
      "Finished  11\n",
      "Mean cM/Mb 1.109143391963936\n",
      "Chromosome-wide 0.8527097839211211\n",
      "Finished  12\n",
      "Mean cM/Mb 1.2602574119466523\n",
      "Chromosome-wide 0.9456472525745562\n",
      "Finished  13\n",
      "Mean cM/Mb 1.1060194476386584\n",
      "Chromosome-wide 0.83608538373327\n",
      "Finished  14\n",
      "Mean cM/Mb 1.2393638800810929\n",
      "Chromosome-wide 0.9163008250646884\n",
      "Finished  15\n",
      "Mean cM/Mb 1.6304293103093785\n",
      "Chromosome-wide 1.1981499208421393\n",
      "Finished  16\n",
      "Mean cM/Mb 1.268233103363239\n",
      "Chromosome-wide 1.062571011702185\n",
      "Finished  17\n",
      "Mean cM/Mb 1.2853322782177161\n",
      "Chromosome-wide 1.0307553678191337\n",
      "Finished  18\n",
      "Mean cM/Mb 2.0517836961163476\n",
      "Chromosome-wide 1.5348746846049168\n",
      "Finished  19\n",
      "Mean cM/Mb 1.3813857397215878\n",
      "Chromosome-wide 1.0752319431367072\n",
      "Finished  20\n",
      "Mean cM/Mb 0.9941253005713597\n",
      "Chromosome-wide 0.729220759415543\n",
      "Finished  X\n"
     ]
    }
   ],
   "source": [
    "#vcf = \"/home/eriks/baboondiversity/data/PG_panu3_phased_chromosomes_4_7_2021/chr{}_phased_rehead.vcf.gz\"\n",
    "ldhat_path = \"/faststorage/project/primatediversity/data/PG_baboons_pananu3_23_2_2021_ldhat/maps0.01/chr{}.map\"\n",
    "Ne = 8000\n",
    "chromosome_numbers = ['{}'.format(x) for x in range(1, 21)] + ['X']\n",
    "\n",
    "for chrom in chromosome_numbers:\n",
    "    ldhat_map = pd.read_csv(ldhat_path.format(chrom), sep=\"\\t\")\n",
    "    if chrom == \"X\":\n",
    "        Ne = Ne/1.5\n",
    "    ldhat_map[\"COMBINED_rate(cM/Mb)\"] = ldhat_map.Mean_rho*1000*100/(4*Ne)\n",
    "    print(\"Mean cM/Mb\", ldhat_map[\"COMBINED_rate(cM/Mb)\"].mean())\n",
    "    ldhat_map[\"i_l\"] = np.append(ldhat_map[\"POS\"][1:], ldhat_map[\"POS\"][-1:])-ldhat_map[\"POS\"]\n",
    "    print(\"Chromosome-wide\", np.nansum(ldhat_map[\"i_l\"]*ldhat_map[\"COMBINED_rate(cM/Mb)\"])/sum(ldhat_map[\"POS\"][-1:]))\n",
    "    ldhat_map[\"chrom\"] = \"chr{}\".format(chrom)\n",
    "    df = (pd.DataFrame(data={\"chromosome\": ldhat_map[\"chrom\"], \"position\": ldhat_map[\"POS\"],\n",
    "                             \"COMBINED_rate(cM/Mb)\": ldhat_map[\"COMBINED_rate(cM/Mb)\"], \"pos_l\": ldhat_map[\"POS\"]}))\n",
    "    df[\"Genetic_Map(cM)\"] = (ldhat_map[\"i_l\"] *df[\"COMBINED_rate(cM/Mb)\"]/1000000).cumsum()\n",
    "    df.to_csv(\"/home/eriks/baboondiversity/data/PG_panu3_recombination_map/ldhat_conversion_chr{}_updated.txt\".format(chrom),\n",
    "              sep=\" \", index=False, columns=[\"chromosome\", \"position\", \"COMBINED_rate(cM/Mb)\", \"Genetic_Map(cM)\"])\n",
    "    #df[\"Genetic_Map(cM)\"] = df[\"Genetic_Map(cM)\"]/3\n",
    "    #df[\"COMBINED_rate(cM/Mb)\"] = df[\"COMBINED_rate(cM/Mb)\"]/3\n",
    "    #df.to_csv(\"/home/eriks/baboondiversity/data/PG_panu3_recombination_map/ldhat_conversion_chr{}_baboon.txt\".format(chrom),\n",
    "    #          sep=\" \", index=False, columns=[\"chromosome\", \"position\", \"COMBINED_rate(cM/Mb)\", \"Genetic_Map(cM)\"])\n",
    "    #df[\"Genetic_Map(cM)\"] = df[\"Genetic_Map(cM)\"]*10\n",
    "    #df[\"COMBINED_rate(cM/Mb)\"] = df[\"COMBINED_rate(cM/Mb)\"]*10\n",
    "    #df.to_csv(\"/home/eriks/baboondiversity/data/PG_panu3_recombination_map/ldhat_conversion_chr{}_10x.txt\".format(chrom),\n",
    "    #          sep=\" \", index=False, columns=[\"chromosome\", \"position\", \"COMBINED_rate(cM/Mb)\", \"Genetic_Map(cM)\"])\n",
    "    print(\"Finished \", chrom)"
   ]
  },
  {
   "cell_type": "code",
   "execution_count": 28,
   "metadata": {},
   "outputs": [],
   "source": [
    "df_convert = pd.read_csv(\"/home/eriks/baboondiversity/data/PG_panu3_phased_chromosomes_4_7_2021/chr8.recombfile\", sep=\" \")"
   ]
  },
  {
   "cell_type": "code",
   "execution_count": 32,
   "metadata": {},
   "outputs": [
    {
     "data": {
      "text/plain": [
       "6.797623362539761e-09"
      ]
     },
     "execution_count": 32,
     "metadata": {},
     "output_type": "execute_result"
    }
   ],
   "source": [
    "df_convert[\"recom.rate.perbp\"].mean()"
   ]
  },
  {
   "cell_type": "code",
   "execution_count": 15,
   "metadata": {},
   "outputs": [],
   "source": [
    "chromosome_numbers = ['{}'.format(x) for x in range(1, 21)] + ['X']\n",
    "total_cM = 0\n",
    "for chrom in chromosome_numbers:\n",
    "    df = pd.read_csv(\"/home/eriks/baboondiversity/data/PG_panu3_recombination_map/ldhat_conversion_chr{}_mmul.txt\".format(chrom),\n",
    "            sep=\" \")\n",
    "    total_cM += df[\"Genetic_Map(cM)\"].max()"
   ]
  },
  {
   "cell_type": "code",
   "execution_count": 20,
   "metadata": {},
   "outputs": [
    {
     "data": {
      "text/plain": [
       "2.140690081996641"
      ]
     },
     "execution_count": 20,
     "metadata": {},
     "output_type": "execute_result"
    }
   ],
   "source": [
    "scaling_factor = 2754/total_cM #As reported in https://www.sciencedirect.com/science/article/pii/S0888754306001017\n",
    "scaling_factor"
   ]
  },
  {
   "cell_type": "code",
   "execution_count": 26,
   "metadata": {},
   "outputs": [],
   "source": [
    "for chrom in chromosome_numbers:\n",
    "    df = pd.read_csv(\"/home/eriks/baboondiversity/data/PG_panu3_recombination_map/ldhat_conversion_chr{}_mmul.txt\".format(chrom),\n",
    "            sep=\" \")\n",
    "    df.iloc[:,2:] = df.iloc[:,2:]*scaling_factor\n",
    "    df.to_csv(\"/home/eriks/baboondiversity/data/PG_panu3_recombination_map/ldhat_conversion_chr{}_scaled.txt\".format(chrom),\n",
    "              sep=\" \", index=False, columns=[\"chromosome\", \"position\", \"COMBINED_rate(cM/Mb)\", \"Genetic_Map(cM)\"])"
   ]
  },
  {
   "cell_type": "code",
   "execution_count": 27,
   "metadata": {},
   "outputs": [
    {
     "data": {
      "text/html": [
       "<div>\n",
       "<style scoped>\n",
       "    .dataframe tbody tr th:only-of-type {\n",
       "        vertical-align: middle;\n",
       "    }\n",
       "\n",
       "    .dataframe tbody tr th {\n",
       "        vertical-align: top;\n",
       "    }\n",
       "\n",
       "    .dataframe thead th {\n",
       "        text-align: right;\n",
       "    }\n",
       "</style>\n",
       "<table border=\"1\" class=\"dataframe\">\n",
       "  <thead>\n",
       "    <tr style=\"text-align: right;\">\n",
       "      <th></th>\n",
       "      <th>chromosome</th>\n",
       "      <th>position</th>\n",
       "      <th>COMBINED_rate(cM/Mb)</th>\n",
       "      <th>Genetic_Map(cM)</th>\n",
       "    </tr>\n",
       "  </thead>\n",
       "  <tbody>\n",
       "    <tr>\n",
       "      <th>0</th>\n",
       "      <td>chrX</td>\n",
       "      <td>157</td>\n",
       "      <td>13.028454</td>\n",
       "      <td>0.000169</td>\n",
       "    </tr>\n",
       "    <tr>\n",
       "      <th>1</th>\n",
       "      <td>chrX</td>\n",
       "      <td>170</td>\n",
       "      <td>13.063419</td>\n",
       "      <td>0.001084</td>\n",
       "    </tr>\n",
       "    <tr>\n",
       "      <th>2</th>\n",
       "      <td>chrX</td>\n",
       "      <td>240</td>\n",
       "      <td>13.096456</td>\n",
       "      <td>0.001595</td>\n",
       "    </tr>\n",
       "    <tr>\n",
       "      <th>3</th>\n",
       "      <td>chrX</td>\n",
       "      <td>279</td>\n",
       "      <td>13.063775</td>\n",
       "      <td>0.002013</td>\n",
       "    </tr>\n",
       "    <tr>\n",
       "      <th>4</th>\n",
       "      <td>chrX</td>\n",
       "      <td>311</td>\n",
       "      <td>12.996629</td>\n",
       "      <td>0.003156</td>\n",
       "    </tr>\n",
       "    <tr>\n",
       "      <th>...</th>\n",
       "      <td>...</td>\n",
       "      <td>...</td>\n",
       "      <td>...</td>\n",
       "      <td>...</td>\n",
       "    </tr>\n",
       "    <tr>\n",
       "      <th>341637</th>\n",
       "      <td>chrX</td>\n",
       "      <td>143689426</td>\n",
       "      <td>3.859450</td>\n",
       "      <td>119.630386</td>\n",
       "    </tr>\n",
       "    <tr>\n",
       "      <th>341638</th>\n",
       "      <td>chrX</td>\n",
       "      <td>143691423</td>\n",
       "      <td>3.881499</td>\n",
       "      <td>119.630433</td>\n",
       "    </tr>\n",
       "    <tr>\n",
       "      <th>341639</th>\n",
       "      <td>chrX</td>\n",
       "      <td>143691435</td>\n",
       "      <td>3.924955</td>\n",
       "      <td>119.630558</td>\n",
       "    </tr>\n",
       "    <tr>\n",
       "      <th>341640</th>\n",
       "      <td>chrX</td>\n",
       "      <td>143691467</td>\n",
       "      <td>3.963844</td>\n",
       "      <td>119.630697</td>\n",
       "    </tr>\n",
       "    <tr>\n",
       "      <th>341641</th>\n",
       "      <td>chrX</td>\n",
       "      <td>143691502</td>\n",
       "      <td>NaN</td>\n",
       "      <td>NaN</td>\n",
       "    </tr>\n",
       "  </tbody>\n",
       "</table>\n",
       "<p>341642 rows × 4 columns</p>\n",
       "</div>"
      ],
      "text/plain": [
       "       chromosome   position  COMBINED_rate(cM/Mb)  Genetic_Map(cM)\n",
       "0            chrX        157             13.028454         0.000169\n",
       "1            chrX        170             13.063419         0.001084\n",
       "2            chrX        240             13.096456         0.001595\n",
       "3            chrX        279             13.063775         0.002013\n",
       "4            chrX        311             12.996629         0.003156\n",
       "...           ...        ...                   ...              ...\n",
       "341637       chrX  143689426              3.859450       119.630386\n",
       "341638       chrX  143691423              3.881499       119.630433\n",
       "341639       chrX  143691435              3.924955       119.630558\n",
       "341640       chrX  143691467              3.963844       119.630697\n",
       "341641       chrX  143691502                   NaN              NaN\n",
       "\n",
       "[341642 rows x 4 columns]"
      ]
     },
     "execution_count": 27,
     "metadata": {},
     "output_type": "execute_result"
    }
   ],
   "source": [
    "df"
   ]
  },
  {
   "cell_type": "code",
   "execution_count": 27,
   "metadata": {},
   "outputs": [],
   "source": [
    "#Including all individuals. paint05 has the updated clusters\n",
    "pop_list = []\n",
    "inclusion_list = []\n",
    "for i in individuals:\n",
    "    if i[0] == \"S\":\n",
    "        i = i[4:]\n",
    "        inclusion_list.append(1)\n",
    "    else:\n",
    "        if meta_data_samples.loc[meta_data_samples.PGDP_ID == i][\"Species\"].values[0] == \"ursinus (grayfoot)\":\n",
    "            inclusion_list.append(1)\n",
    "        elif meta_data_samples.loc[meta_data_samples.PGDP_ID == i][\"Species\"].values[0] == \"papio\":\n",
    "            inclusion_list.append(1)\n",
    "        else:\n",
    "            inclusion_list.append(1)\n",
    "    t_pop = meta_data_samples.loc[meta_data_samples.PGDP_ID == i][\"Origin\"].values[0]\n",
    "    C_origin = meta_data_samples.loc[meta_data_samples.PGDP_ID == i][\"C_origin\"].values[0]\n",
    "    t_pop = C_origin.replace(\" \", \"_\").replace(\",\", \"\" )\n",
    "    pop_list.append(t_pop)"
   ]
  },
  {
   "cell_type": "code",
   "execution_count": 29,
   "metadata": {},
   "outputs": [
    {
     "data": {
      "text/html": [
       "<div>\n",
       "<style scoped>\n",
       "    .dataframe tbody tr th:only-of-type {\n",
       "        vertical-align: middle;\n",
       "    }\n",
       "\n",
       "    .dataframe tbody tr th {\n",
       "        vertical-align: top;\n",
       "    }\n",
       "\n",
       "    .dataframe thead th {\n",
       "        text-align: right;\n",
       "    }\n",
       "</style>\n",
       "<table border=\"1\" class=\"dataframe\">\n",
       "  <thead>\n",
       "    <tr style=\"text-align: right;\">\n",
       "      <th></th>\n",
       "      <th>ID</th>\n",
       "      <th>population</th>\n",
       "      <th>inclusion</th>\n",
       "    </tr>\n",
       "  </thead>\n",
       "  <tbody>\n",
       "    <tr>\n",
       "      <th>0</th>\n",
       "      <td>Sci_16066</td>\n",
       "      <td>Cynocephalus_Central_Tanzania</td>\n",
       "      <td>1</td>\n",
       "    </tr>\n",
       "    <tr>\n",
       "      <th>1</th>\n",
       "      <td>Sci_16098</td>\n",
       "      <td>Cynocephalus_Central_Tanzania</td>\n",
       "      <td>1</td>\n",
       "    </tr>\n",
       "    <tr>\n",
       "      <th>2</th>\n",
       "      <td>Sci_30877</td>\n",
       "      <td>Anubis_Kenya</td>\n",
       "      <td>1</td>\n",
       "    </tr>\n",
       "    <tr>\n",
       "      <th>3</th>\n",
       "      <td>Sci_30977</td>\n",
       "      <td>Anubis_Kenya</td>\n",
       "      <td>1</td>\n",
       "    </tr>\n",
       "    <tr>\n",
       "      <th>4</th>\n",
       "      <td>Sci_34449</td>\n",
       "      <td>Kindae_Zambia</td>\n",
       "      <td>1</td>\n",
       "    </tr>\n",
       "    <tr>\n",
       "      <th>...</th>\n",
       "      <td>...</td>\n",
       "      <td>...</td>\n",
       "      <td>...</td>\n",
       "    </tr>\n",
       "    <tr>\n",
       "      <th>222</th>\n",
       "      <td>PD_0790</td>\n",
       "      <td>Kindae_Zambia</td>\n",
       "      <td>1</td>\n",
       "    </tr>\n",
       "    <tr>\n",
       "      <th>223</th>\n",
       "      <td>PD_0791</td>\n",
       "      <td>Kindae_Zambia</td>\n",
       "      <td>1</td>\n",
       "    </tr>\n",
       "    <tr>\n",
       "      <th>224</th>\n",
       "      <td>PD_0792</td>\n",
       "      <td>Kindae_Zambia</td>\n",
       "      <td>1</td>\n",
       "    </tr>\n",
       "    <tr>\n",
       "      <th>225</th>\n",
       "      <td>PD_0793</td>\n",
       "      <td>Kindae_Zambia</td>\n",
       "      <td>1</td>\n",
       "    </tr>\n",
       "    <tr>\n",
       "      <th>226</th>\n",
       "      <td>PD_0794_BAB</td>\n",
       "      <td>Kindae_Zambia</td>\n",
       "      <td>1</td>\n",
       "    </tr>\n",
       "  </tbody>\n",
       "</table>\n",
       "<p>227 rows × 3 columns</p>\n",
       "</div>"
      ],
      "text/plain": [
       "              ID                     population  inclusion\n",
       "0      Sci_16066  Cynocephalus_Central_Tanzania          1\n",
       "1      Sci_16098  Cynocephalus_Central_Tanzania          1\n",
       "2      Sci_30877                   Anubis_Kenya          1\n",
       "3      Sci_30977                   Anubis_Kenya          1\n",
       "4      Sci_34449                  Kindae_Zambia          1\n",
       "..           ...                            ...        ...\n",
       "222      PD_0790                  Kindae_Zambia          1\n",
       "223      PD_0791                  Kindae_Zambia          1\n",
       "224      PD_0792                  Kindae_Zambia          1\n",
       "225      PD_0793                  Kindae_Zambia          1\n",
       "226  PD_0794_BAB                  Kindae_Zambia          1\n",
       "\n",
       "[227 rows x 3 columns]"
      ]
     },
     "execution_count": 29,
     "metadata": {},
     "output_type": "execute_result"
    }
   ],
   "source": [
    "pop_df = pd.DataFrame()\n",
    "pop_df[\"ID\"] = individuals\n",
    "pop_df[\"population\"] = pop_list\n",
    "pop_df[\"inclusion\"] = inclusion_list\n",
    "pop_df.to_csv(\"/home/eriks/baboondiversity/data/PG_panu3_phased_chromosomes_4_7_2021/all_IDs.ids\",\n",
    "              sep=\" \", header=False, index=False)\n",
    "pop_df"
   ]
  },
  {
   "cell_type": "markdown",
   "metadata": {},
   "source": [
    "Converting ldhat files to genetic maps.\n",
    "Assuming that effective population size for chrX is 10000."
   ]
  },
  {
   "cell_type": "code",
   "execution_count": 3,
   "metadata": {},
   "outputs": [],
   "source": [
    "ldhat_path = \"/faststorage/project/primatediversity/data/PG_baboons_pananu3_23_2_2021_ldhat/maps0.01/chrX.map\"\n",
    "uniform_rec_path = \"/faststorage/project/baboondiversity/data/haploidified_chrX_males/uniform_rec.recombfile\"\n",
    "phase_file = \"/faststorage/project/baboondiversity/data/haploidified_chrX_males/chrX_v3.phase\""
   ]
  },
  {
   "cell_type": "code",
   "execution_count": 4,
   "metadata": {},
   "outputs": [],
   "source": [
    "ldhat_map = pd.read_csv(ldhat_path, sep=\"\\t\")\n",
    "uni_map = pd.read_csv(uniform_rec_path, sep=\" \")"
   ]
  },
  {
   "cell_type": "code",
   "execution_count": 5,
   "metadata": {},
   "outputs": [],
   "source": [
    "f=open(phase_file)\n",
    "lines=f.readlines()\n",
    "pos_line = lines[2]\n",
    "pos_list = [int(x) for x in pos_line.split(\" \")[1:]]\n",
    "f.close()"
   ]
  },
  {
   "cell_type": "markdown",
   "metadata": {},
   "source": [
    "Uniform recombination maps"
   ]
  },
  {
   "cell_type": "code",
   "execution_count": 30,
   "metadata": {},
   "outputs": [],
   "source": [
    "uniform_map = pd.DataFrame(data={\"start.pos\": pos_list})"
   ]
  },
  {
   "cell_type": "code",
   "execution_count": 31,
   "metadata": {},
   "outputs": [],
   "source": [
    "uniform_map[\"recom_uniform\"] = 10/(100*1000000)"
   ]
  },
  {
   "cell_type": "code",
   "execution_count": 32,
   "metadata": {},
   "outputs": [],
   "source": [
    "uniform_map.to_csv(\"/faststorage/project/baboondiversity/data/haploidified_chrX_males/uniform_rec_10cM.recombfile\",\n",
    "              sep=\" \", index=False, columns=[\"start.pos\", \"recom_uniform\"])"
   ]
  },
  {
   "cell_type": "code",
   "execution_count": 33,
   "metadata": {},
   "outputs": [
    {
     "data": {
      "text/plain": [
       "0.4803550816522574"
      ]
     },
     "execution_count": 33,
     "metadata": {},
     "output_type": "execute_result"
    }
   ],
   "source": [
    "ldhat_map.loc[ldhat_map.POS < 1000000].Mean_rho.mean()"
   ]
  },
  {
   "cell_type": "code",
   "execution_count": 34,
   "metadata": {},
   "outputs": [
    {
     "data": {
      "text/plain": [
       "4.002959013768811e-09"
      ]
     },
     "execution_count": 34,
     "metadata": {},
     "output_type": "execute_result"
    }
   ],
   "source": [
    "#calculating the cM/Mb\n",
    "ldhat_map.loc[ldhat_map.POS < 1000000].Mean_rho.mean()*((100*1000/(4*30000))/(100*1000000))"
   ]
  },
  {
   "cell_type": "code",
   "execution_count": 35,
   "metadata": {},
   "outputs": [
    {
     "data": {
      "text/html": [
       "<div>\n",
       "<style scoped>\n",
       "    .dataframe tbody tr th:only-of-type {\n",
       "        vertical-align: middle;\n",
       "    }\n",
       "\n",
       "    .dataframe tbody tr th {\n",
       "        vertical-align: top;\n",
       "    }\n",
       "\n",
       "    .dataframe thead th {\n",
       "        text-align: right;\n",
       "    }\n",
       "</style>\n",
       "<table border=\"1\" class=\"dataframe\">\n",
       "  <thead>\n",
       "    <tr style=\"text-align: right;\">\n",
       "      <th></th>\n",
       "      <th>start.pos</th>\n",
       "      <th>recom.rate.perbp</th>\n",
       "    </tr>\n",
       "  </thead>\n",
       "  <tbody>\n",
       "    <tr>\n",
       "      <th>0</th>\n",
       "      <td>37</td>\n",
       "      <td>1.000000e-07</td>\n",
       "    </tr>\n",
       "    <tr>\n",
       "      <th>1</th>\n",
       "      <td>57</td>\n",
       "      <td>1.000000e-07</td>\n",
       "    </tr>\n",
       "    <tr>\n",
       "      <th>2</th>\n",
       "      <td>157</td>\n",
       "      <td>1.000000e-07</td>\n",
       "    </tr>\n",
       "    <tr>\n",
       "      <th>3</th>\n",
       "      <td>170</td>\n",
       "      <td>1.000000e-07</td>\n",
       "    </tr>\n",
       "    <tr>\n",
       "      <th>4</th>\n",
       "      <td>216</td>\n",
       "      <td>1.000000e-07</td>\n",
       "    </tr>\n",
       "    <tr>\n",
       "      <th>...</th>\n",
       "      <td>...</td>\n",
       "      <td>...</td>\n",
       "    </tr>\n",
       "    <tr>\n",
       "      <th>2923207</th>\n",
       "      <td>143691509</td>\n",
       "      <td>1.000000e-07</td>\n",
       "    </tr>\n",
       "    <tr>\n",
       "      <th>2923208</th>\n",
       "      <td>143691526</td>\n",
       "      <td>1.000000e-07</td>\n",
       "    </tr>\n",
       "    <tr>\n",
       "      <th>2923209</th>\n",
       "      <td>143691548</td>\n",
       "      <td>1.000000e-07</td>\n",
       "    </tr>\n",
       "    <tr>\n",
       "      <th>2923210</th>\n",
       "      <td>143691549</td>\n",
       "      <td>1.000000e-07</td>\n",
       "    </tr>\n",
       "    <tr>\n",
       "      <th>2923211</th>\n",
       "      <td>143691566</td>\n",
       "      <td>0.000000e+00</td>\n",
       "    </tr>\n",
       "  </tbody>\n",
       "</table>\n",
       "<p>2923212 rows × 2 columns</p>\n",
       "</div>"
      ],
      "text/plain": [
       "         start.pos  recom.rate.perbp\n",
       "0               37      1.000000e-07\n",
       "1               57      1.000000e-07\n",
       "2              157      1.000000e-07\n",
       "3              170      1.000000e-07\n",
       "4              216      1.000000e-07\n",
       "...            ...               ...\n",
       "2923207  143691509      1.000000e-07\n",
       "2923208  143691526      1.000000e-07\n",
       "2923209  143691548      1.000000e-07\n",
       "2923210  143691549      1.000000e-07\n",
       "2923211  143691566      0.000000e+00\n",
       "\n",
       "[2923212 rows x 2 columns]"
      ]
     },
     "execution_count": 35,
     "metadata": {},
     "output_type": "execute_result"
    }
   ],
   "source": [
    "uni_map"
   ]
  },
  {
   "cell_type": "markdown",
   "metadata": {},
   "source": [
    "Recombination maps based on ldhat"
   ]
  },
  {
   "cell_type": "markdown",
   "metadata": {},
   "source": [
    "Math: Ldhat estimates it as 4*Ne*r/kb, and I want it in M/b.\n",
    "With an additional twist that ldhat does not have all positions present.\n",
    "I set Ne as 20000 due to it being on chrX, but it could be many other sizes.\n",
    "Too low recombination rates seem to be troublesome for Globetrotter\n",
    "This conversion is done by dividing by 4*Ne, and then also dividing by 1000 to go to bases.\n",
    "#Note: Garrett Hellenthal has confirmed that it should be Morgans/Base"
   ]
  },
  {
   "cell_type": "code",
   "execution_count": 6,
   "metadata": {},
   "outputs": [],
   "source": [
    "ldhat_map[\"convert_r\"] = ldhat_map.Mean_rho/(4*20000*1000)\n",
    "#ldhat_map[\"convert_r\"] = ldhat_map.Mean_rho*((100*1000/(4*10000))/(100*1000000))"
   ]
  },
  {
   "cell_type": "code",
   "execution_count": 11,
   "metadata": {},
   "outputs": [],
   "source": [
    "ldhat_map[\"i_l\"] = np.append(ldhat_map[\"POS\"][1:], ldhat_map[\"POS\"][-1:])-ldhat_map[\"POS\"]\n",
    "ldhat_map[\"distance\"] = ldhat_map[\"i_l\"]*ldhat_map.convert_r"
   ]
  },
  {
   "cell_type": "code",
   "execution_count": 14,
   "metadata": {},
   "outputs": [
    {
     "data": {
      "text/html": [
       "<div>\n",
       "<style scoped>\n",
       "    .dataframe tbody tr th:only-of-type {\n",
       "        vertical-align: middle;\n",
       "    }\n",
       "\n",
       "    .dataframe tbody tr th {\n",
       "        vertical-align: top;\n",
       "    }\n",
       "\n",
       "    .dataframe thead th {\n",
       "        text-align: right;\n",
       "    }\n",
       "</style>\n",
       "<table border=\"1\" class=\"dataframe\">\n",
       "  <thead>\n",
       "    <tr style=\"text-align: right;\">\n",
       "      <th></th>\n",
       "      <th>POS</th>\n",
       "      <th>Mean_rho</th>\n",
       "      <th>Median_rho</th>\n",
       "      <th>L95</th>\n",
       "      <th>U95</th>\n",
       "      <th>convert_r</th>\n",
       "      <th>i_l</th>\n",
       "      <th>distance</th>\n",
       "    </tr>\n",
       "  </thead>\n",
       "  <tbody>\n",
       "    <tr>\n",
       "      <th>0</th>\n",
       "      <td>157</td>\n",
       "      <td>1.82583</td>\n",
       "      <td>1.78709</td>\n",
       "      <td>1.44281</td>\n",
       "      <td>2.33608</td>\n",
       "      <td>2.282287e-08</td>\n",
       "      <td>13</td>\n",
       "      <td>2.966974e-07</td>\n",
       "    </tr>\n",
       "    <tr>\n",
       "      <th>1</th>\n",
       "      <td>170</td>\n",
       "      <td>1.83073</td>\n",
       "      <td>1.78810</td>\n",
       "      <td>1.48110</td>\n",
       "      <td>2.32684</td>\n",
       "      <td>2.288412e-08</td>\n",
       "      <td>70</td>\n",
       "      <td>1.601889e-06</td>\n",
       "    </tr>\n",
       "    <tr>\n",
       "      <th>2</th>\n",
       "      <td>240</td>\n",
       "      <td>1.83536</td>\n",
       "      <td>1.78876</td>\n",
       "      <td>1.50047</td>\n",
       "      <td>2.32684</td>\n",
       "      <td>2.294200e-08</td>\n",
       "      <td>39</td>\n",
       "      <td>8.947380e-07</td>\n",
       "    </tr>\n",
       "    <tr>\n",
       "      <th>3</th>\n",
       "      <td>279</td>\n",
       "      <td>1.83078</td>\n",
       "      <td>1.78876</td>\n",
       "      <td>1.50353</td>\n",
       "      <td>2.27161</td>\n",
       "      <td>2.288475e-08</td>\n",
       "      <td>32</td>\n",
       "      <td>7.323120e-07</td>\n",
       "    </tr>\n",
       "    <tr>\n",
       "      <th>4</th>\n",
       "      <td>311</td>\n",
       "      <td>1.82137</td>\n",
       "      <td>1.78711</td>\n",
       "      <td>1.51127</td>\n",
       "      <td>2.20721</td>\n",
       "      <td>2.276713e-08</td>\n",
       "      <td>88</td>\n",
       "      <td>2.003507e-06</td>\n",
       "    </tr>\n",
       "    <tr>\n",
       "      <th>...</th>\n",
       "      <td>...</td>\n",
       "      <td>...</td>\n",
       "      <td>...</td>\n",
       "      <td>...</td>\n",
       "      <td>...</td>\n",
       "      <td>...</td>\n",
       "      <td>...</td>\n",
       "      <td>...</td>\n",
       "    </tr>\n",
       "    <tr>\n",
       "      <th>341637</th>\n",
       "      <td>143689426</td>\n",
       "      <td>0.54087</td>\n",
       "      <td>0.57928</td>\n",
       "      <td>0.04730</td>\n",
       "      <td>0.92660</td>\n",
       "      <td>6.760875e-09</td>\n",
       "      <td>1997</td>\n",
       "      <td>1.350147e-05</td>\n",
       "    </tr>\n",
       "    <tr>\n",
       "      <th>341638</th>\n",
       "      <td>143691423</td>\n",
       "      <td>0.54396</td>\n",
       "      <td>0.57928</td>\n",
       "      <td>0.04730</td>\n",
       "      <td>0.93693</td>\n",
       "      <td>6.799500e-09</td>\n",
       "      <td>12</td>\n",
       "      <td>8.159400e-08</td>\n",
       "    </tr>\n",
       "    <tr>\n",
       "      <th>341639</th>\n",
       "      <td>143691435</td>\n",
       "      <td>0.55005</td>\n",
       "      <td>0.57981</td>\n",
       "      <td>0.04752</td>\n",
       "      <td>0.94455</td>\n",
       "      <td>6.875625e-09</td>\n",
       "      <td>32</td>\n",
       "      <td>2.200200e-07</td>\n",
       "    </tr>\n",
       "    <tr>\n",
       "      <th>341640</th>\n",
       "      <td>143691467</td>\n",
       "      <td>0.55550</td>\n",
       "      <td>0.58136</td>\n",
       "      <td>0.04730</td>\n",
       "      <td>0.94920</td>\n",
       "      <td>6.943750e-09</td>\n",
       "      <td>35</td>\n",
       "      <td>2.430313e-07</td>\n",
       "    </tr>\n",
       "    <tr>\n",
       "      <th>341641</th>\n",
       "      <td>143691502</td>\n",
       "      <td>NaN</td>\n",
       "      <td>NaN</td>\n",
       "      <td>NaN</td>\n",
       "      <td>NaN</td>\n",
       "      <td>NaN</td>\n",
       "      <td>0</td>\n",
       "      <td>NaN</td>\n",
       "    </tr>\n",
       "  </tbody>\n",
       "</table>\n",
       "<p>341642 rows × 8 columns</p>\n",
       "</div>"
      ],
      "text/plain": [
       "              POS  Mean_rho  Median_rho      L95      U95     convert_r   i_l  \\\n",
       "0             157   1.82583     1.78709  1.44281  2.33608  2.282287e-08    13   \n",
       "1             170   1.83073     1.78810  1.48110  2.32684  2.288412e-08    70   \n",
       "2             240   1.83536     1.78876  1.50047  2.32684  2.294200e-08    39   \n",
       "3             279   1.83078     1.78876  1.50353  2.27161  2.288475e-08    32   \n",
       "4             311   1.82137     1.78711  1.51127  2.20721  2.276713e-08    88   \n",
       "...           ...       ...         ...      ...      ...           ...   ...   \n",
       "341637  143689426   0.54087     0.57928  0.04730  0.92660  6.760875e-09  1997   \n",
       "341638  143691423   0.54396     0.57928  0.04730  0.93693  6.799500e-09    12   \n",
       "341639  143691435   0.55005     0.57981  0.04752  0.94455  6.875625e-09    32   \n",
       "341640  143691467   0.55550     0.58136  0.04730  0.94920  6.943750e-09    35   \n",
       "341641  143691502       NaN         NaN      NaN      NaN           NaN     0   \n",
       "\n",
       "            distance  \n",
       "0       2.966974e-07  \n",
       "1       1.601889e-06  \n",
       "2       8.947380e-07  \n",
       "3       7.323120e-07  \n",
       "4       2.003507e-06  \n",
       "...              ...  \n",
       "341637  1.350147e-05  \n",
       "341638  8.159400e-08  \n",
       "341639  2.200200e-07  \n",
       "341640  2.430313e-07  \n",
       "341641           NaN  \n",
       "\n",
       "[341642 rows x 8 columns]"
      ]
     },
     "execution_count": 14,
     "metadata": {},
     "output_type": "execute_result"
    }
   ],
   "source": [
    "ldhat_map"
   ]
  },
  {
   "cell_type": "code",
   "execution_count": 13,
   "metadata": {},
   "outputs": [
    {
     "data": {
      "text/plain": [
       "0.20956565241999997"
      ]
     },
     "execution_count": 13,
     "metadata": {},
     "output_type": "execute_result"
    }
   ],
   "source": [
    "np.nansum(ldhat_map.distance)"
   ]
  },
  {
   "cell_type": "code",
   "execution_count": 9,
   "metadata": {},
   "outputs": [
    {
     "data": {
      "text/plain": [
       "0.198825060114272"
      ]
     },
     "execution_count": 9,
     "metadata": {},
     "output_type": "execute_result"
    }
   ],
   "source": [
    "ldhat_map.convert_r.mean()*100*1000000"
   ]
  },
  {
   "cell_type": "markdown",
   "metadata": {},
   "source": [
    "Many positions are not present in the recombination map made by Juraj, so these spaces have to be filled."
   ]
  },
  {
   "cell_type": "code",
   "execution_count": 9,
   "metadata": {},
   "outputs": [],
   "source": [
    "ld_hat_i = 0\n",
    "ldhat_pos = ldhat_map[\"POS\"][0]\n",
    "ld_hat_prev_pos = 0\n",
    "last_ldhat = int(ldhat_map[\"POS\"][-2:-1])\n",
    "last_uni = int(uni_map[\"start.pos\"][-1:])\n",
    "recom_rate = []\n",
    "next_pos = 0\n",
    "for i, row in uni_map.iterrows():\n",
    "    current_pos = row[\"start.pos\"]\n",
    "    if current_pos >= ldhat_pos and current_pos < last_ldhat:\n",
    "        ld_hat_i += 1\n",
    "        ld_hat_prev_pos = ldhat_pos\n",
    "        ldhat_pos = ldhat_map[\"POS\"][ld_hat_i]\n",
    "    if last_uni == next_pos:\n",
    "        recom_rate.append(0)\n",
    "    else:\n",
    "        next_pos = uni_map[\"start.pos\"][i+1]\n",
    "        recom_rate.append(ldhat_map[\"convert_r\"][ld_hat_i]) #*(next_pos-current_pos)/(ldhat_pos-ld_hat_prev_pos))\n",
    "        # Made an error by scaling the recombination rate, as it already is position scaled."
   ]
  },
  {
   "cell_type": "code",
   "execution_count": 10,
   "metadata": {},
   "outputs": [],
   "source": [
    "uni_map[\"recom_variable\"] = recom_rate"
   ]
  },
  {
   "cell_type": "code",
   "execution_count": 11,
   "metadata": {},
   "outputs": [
    {
     "data": {
      "text/plain": [
       "5.064152996429954e-09"
      ]
     },
     "execution_count": 11,
     "metadata": {},
     "output_type": "execute_result"
    }
   ],
   "source": [
    "uni_map[\"recom_variable\"].mean()"
   ]
  },
  {
   "cell_type": "markdown",
   "metadata": {},
   "source": [
    "uni_map.to_csv(\"/faststorage/project/baboondiversity/data/haploidified_chrX_males/approx_rec_all_pos_centimorgan.recombfile\",\n",
    "              sep=\" \", index=False, columns=[\"start.pos\", \"recom_variable\"])"
   ]
  },
  {
   "cell_type": "markdown",
   "metadata": {},
   "source": [
    "Now I have the opposite problem - when removing sites with missing state, the recombination file is too big.\n",
    "It can just be subset."
   ]
  },
  {
   "cell_type": "code",
   "execution_count": 12,
   "metadata": {},
   "outputs": [
    {
     "data": {
      "text/plain": [
       "(2923212, 2440624, 0.8349117340788147)"
      ]
     },
     "execution_count": 12,
     "metadata": {},
     "output_type": "execute_result"
    }
   ],
   "source": [
    "len(uni_map), len(pos_list), len(pos_list)/len(uni_map)"
   ]
  },
  {
   "cell_type": "markdown",
   "metadata": {},
   "source": [
    "#Alternative solution, shown below.\n",
    "sum_recomb = []\n",
    "current_i = 0\n",
    "current_recomb = 0\n",
    "last_pos = pos_list[-1]\n",
    "for i, row in uni_map.loc[uni_map[\"start.pos\"] >= pos_list[0]].iterrows():\n",
    "    if pos_list[current_i+1] == last_pos:\n",
    "        sum_recomb.append(current_recomb)\n",
    "        sum_recomb.append(0)\n",
    "        break\n",
    "    if row[\"start.pos\"] >= pos_list[current_i+1]:\n",
    "        sum_recomb.append(current_recomb)\n",
    "        current_recomb = 0\n",
    "        current_i += 1\n",
    "    current_recomb = row.recom_variable"
   ]
  },
  {
   "cell_type": "code",
   "execution_count": 13,
   "metadata": {},
   "outputs": [],
   "source": [
    "subset_map = uni_map.loc[uni_map[\"start.pos\"].isin(pos_list)]"
   ]
  },
  {
   "cell_type": "code",
   "execution_count": 14,
   "metadata": {},
   "outputs": [
    {
     "data": {
      "text/plain": [
       "(0.010594553426710939, 4.340919955989396e-09)"
      ]
     },
     "execution_count": 14,
     "metadata": {},
     "output_type": "execute_result"
    }
   ],
   "source": [
    "sum(subset_map[\"recom_variable\"]), (subset_map[\"recom_variable\"]).mean()"
   ]
  },
  {
   "cell_type": "code",
   "execution_count": 17,
   "metadata": {},
   "outputs": [
    {
     "name": "stderr",
     "output_type": "stream",
     "text": [
      "/home/eriks/miniconda3/envs/baboondiversity/lib/python3.7/site-packages/ipykernel_launcher.py:1: SettingWithCopyWarning: \n",
      "A value is trying to be set on a copy of a slice from a DataFrame.\n",
      "Try using .loc[row_indexer,col_indexer] = value instead\n",
      "\n",
      "See the caveats in the documentation: https://pandas.pydata.org/pandas-docs/stable/user_guide/indexing.html#returning-a-view-versus-a-copy\n",
      "  \"\"\"Entry point for launching an IPython kernel.\n"
     ]
    }
   ],
   "source": [
    "subset_map[\"p_l\"] = np.append(subset_map[\"start.pos\"][1:], subset_map[\"start.pos\"][-1:])-subset_map[\"start.pos\"]"
   ]
  },
  {
   "cell_type": "code",
   "execution_count": 22,
   "metadata": {},
   "outputs": [
    {
     "data": {
      "text/plain": [
       "array([4.68590834e-09])"
      ]
     },
     "execution_count": 22,
     "metadata": {},
     "output_type": "execute_result"
    }
   ],
   "source": [
    "np.nansum(subset_map[\"recom_variable\"]*subset_map[\"p_l\"])/subset_map[\"start.pos\"][-1:].values"
   ]
  },
  {
   "cell_type": "code",
   "execution_count": 15,
   "metadata": {},
   "outputs": [
    {
     "data": {
      "text/plain": [
       "(0.014803592809073812, 1.5e-11)"
      ]
     },
     "execution_count": 15,
     "metadata": {},
     "output_type": "execute_result"
    }
   ],
   "source": [
    "sum(uni_map[\"recom_variable\"]), (uni_map[\"recom_variable\"]).median()"
   ]
  },
  {
   "cell_type": "code",
   "execution_count": 32,
   "metadata": {},
   "outputs": [
    {
     "name": "stderr",
     "output_type": "stream",
     "text": [
      "/home/eriks/miniconda3/envs/baboondiversity/lib/python3.7/site-packages/ipykernel_launcher.py:2: SettingWithCopyWarning: \n",
      "A value is trying to be set on a copy of a slice from a DataFrame.\n",
      "Try using .loc[row_indexer,col_indexer] = value instead\n",
      "\n",
      "See the caveats in the documentation: https://pandas.pydata.org/pandas-docs/stable/user_guide/indexing.html#returning-a-view-versus-a-copy\n",
      "  \n"
     ]
    },
    {
     "data": {
      "text/plain": [
       "3.255689966992048e-08"
      ]
     },
     "execution_count": 32,
     "metadata": {},
     "output_type": "execute_result"
    }
   ],
   "source": [
    "#Scaling it up to a reasonable number\n",
    "#subset_map[\"recom_variable\"] = subset_map[\"recom_variable\"]*10\n",
    "#(subset_map[\"recom_variable\"]).mean()"
   ]
  },
  {
   "cell_type": "code",
   "execution_count": 37,
   "metadata": {},
   "outputs": [
    {
     "data": {
      "text/plain": [
       "(3.255689966992048e-08, 2.5e-08)"
      ]
     },
     "execution_count": 37,
     "metadata": {},
     "output_type": "execute_result"
    }
   ],
   "source": [
    "(subset_map[\"recom_variable\"]).mean(), 2.5/(100*1000000)"
   ]
  },
  {
   "cell_type": "code",
   "execution_count": 23,
   "metadata": {},
   "outputs": [],
   "source": [
    "subset_map.to_csv(\"/faststorage/project/baboondiversity/data/haploidified_chrX_males/mmulrate_chrX.recombfile\",\n",
    "              sep=\" \", index=False, columns=[\"start.pos\", \"recom_variable\"])"
   ]
  },
  {
   "cell_type": "code",
   "execution_count": 39,
   "metadata": {},
   "outputs": [
    {
     "data": {
      "text/plain": [
       "(      start.pos  recom.rate.perbp  recom_variable\n",
       " 1011      21875      1.000000e-07    4.528875e-08\n",
       " 1112      24167      1.000000e-07    4.859575e-08\n",
       " 1487      34160      1.000000e-07    3.757500e-10\n",
       " 1657      37427      1.000000e-07    5.564600e-08\n",
       " 1936      42626      1.000000e-07    2.522525e-08\n",
       " 1981      43213      1.000000e-07    2.528425e-08\n",
       " 2638      57077      1.000000e-07    2.545575e-08\n",
       " 3982      86997      1.000000e-07    3.300000e-11\n",
       " 4183      92909      1.000000e-07    3.912500e-10\n",
       " 4214      93651      1.000000e-07    3.912500e-10,\n",
       " [21875, 24167, 34160, 37427, 42626, 43213, 57077, 86997, 92909, 93651])"
      ]
     },
     "execution_count": 39,
     "metadata": {},
     "output_type": "execute_result"
    }
   ],
   "source": [
    "subset_map[:10], pos_list[:10]"
   ]
  },
  {
   "cell_type": "markdown",
   "metadata": {},
   "source": [
    "A couple of checks of the uni_map and sum_map"
   ]
  },
  {
   "cell_type": "code",
   "execution_count": 40,
   "metadata": {},
   "outputs": [
    {
     "ename": "NameError",
     "evalue": "name 'sum_map' is not defined",
     "output_type": "error",
     "traceback": [
      "\u001b[0;31m---------------------------------------------------------------------------\u001b[0m",
      "\u001b[0;31mNameError\u001b[0m                                 Traceback (most recent call last)",
      "\u001b[0;32m<ipython-input-40-6482f3b10000>\u001b[0m in \u001b[0;36m<module>\u001b[0;34m\u001b[0m\n\u001b[0;32m----> 1\u001b[0;31m \u001b[0msum\u001b[0m\u001b[0;34m(\u001b[0m\u001b[0msum_map\u001b[0m\u001b[0;34m.\u001b[0m\u001b[0mrecom_variable\u001b[0m \u001b[0;34m<=\u001b[0m \u001b[0;36m0.000000000000001\u001b[0m\u001b[0;34m)\u001b[0m\u001b[0;34m\u001b[0m\u001b[0;34m\u001b[0m\u001b[0m\n\u001b[0m",
      "\u001b[0;31mNameError\u001b[0m: name 'sum_map' is not defined"
     ]
    }
   ],
   "source": [
    "sum(sum_map.recom_variable <= 0.000000000000001)"
   ]
  },
  {
   "cell_type": "code",
   "execution_count": null,
   "metadata": {},
   "outputs": [],
   "source": [
    "uni_map"
   ]
  },
  {
   "cell_type": "code",
   "execution_count": null,
   "metadata": {},
   "outputs": [],
   "source": [
    "g = sns.histplot(data=subset_map[:100000000], x=\"recom_variable\", bins=np.logspace(np.log10(0.0000000000001),np.log10(0.0001), 50))\n",
    "g.set_xscale(\"log\")"
   ]
  },
  {
   "cell_type": "code",
   "execution_count": null,
   "metadata": {},
   "outputs": [],
   "source": [
    "subset_map[\"recom_variable\"].mean(), subset_map[\"recom_variable\"].median()"
   ]
  },
  {
   "cell_type": "markdown",
   "metadata": {},
   "source": [
    "New implementation to generate recombination rate files - setting the overall recombination rate to 0.5cM/Mb (or 0.45cM/Mb).\n",
    "Updated to use positions in the phase files"
   ]
  },
  {
   "cell_type": "code",
   "execution_count": 11,
   "metadata": {},
   "outputs": [],
   "source": [
    "ldhat_path = \"/home/eriks/baboondiversity/data/PG_panu3_recombination_map/chr{}.map\"\n",
    "\n",
    "phase_file = \"/home/eriks/baboondiversity/data/PG_panu3_phased_chromosomes_4_7_2021/chrX/chrX.females.v2.phase\""
   ]
  },
  {
   "cell_type": "code",
   "execution_count": 12,
   "metadata": {},
   "outputs": [],
   "source": [
    "read_phase = pd.read_csv(phase_file)"
   ]
  },
  {
   "cell_type": "code",
   "execution_count": 13,
   "metadata": {},
   "outputs": [
    {
     "data": {
      "text/html": [
       "<div>\n",
       "<style scoped>\n",
       "    .dataframe tbody tr th:only-of-type {\n",
       "        vertical-align: middle;\n",
       "    }\n",
       "\n",
       "    .dataframe tbody tr th {\n",
       "        vertical-align: top;\n",
       "    }\n",
       "\n",
       "    .dataframe thead th {\n",
       "        text-align: right;\n",
       "    }\n",
       "</style>\n",
       "<table border=\"1\" class=\"dataframe\">\n",
       "  <thead>\n",
       "    <tr style=\"text-align: right;\">\n",
       "      <th></th>\n",
       "      <th>196</th>\n",
       "    </tr>\n",
       "  </thead>\n",
       "  <tbody>\n",
       "    <tr>\n",
       "      <th>0</th>\n",
       "      <td>2806137</td>\n",
       "    </tr>\n",
       "    <tr>\n",
       "      <th>1</th>\n",
       "      <td>P 37 57 157 170 216 226 240 279 280 292 311 31...</td>\n",
       "    </tr>\n",
       "    <tr>\n",
       "      <th>2</th>\n",
       "      <td>0001111101111111011111111111111111111111111111...</td>\n",
       "    </tr>\n",
       "    <tr>\n",
       "      <th>3</th>\n",
       "      <td>0011111111111111111111111111111111111111111111...</td>\n",
       "    </tr>\n",
       "    <tr>\n",
       "      <th>4</th>\n",
       "      <td>0011111111111110111111111111011111111111111111...</td>\n",
       "    </tr>\n",
       "    <tr>\n",
       "      <th>...</th>\n",
       "      <td>...</td>\n",
       "    </tr>\n",
       "    <tr>\n",
       "      <th>193</th>\n",
       "      <td>1111110111111111111111111111111111111111111111...</td>\n",
       "    </tr>\n",
       "    <tr>\n",
       "      <th>194</th>\n",
       "      <td>1111110111111101111111111111111111111111111111...</td>\n",
       "    </tr>\n",
       "    <tr>\n",
       "      <th>195</th>\n",
       "      <td>1111111111111111111111111111111111111111111111...</td>\n",
       "    </tr>\n",
       "    <tr>\n",
       "      <th>196</th>\n",
       "      <td>1101110111111101111111111111111011110111111111...</td>\n",
       "    </tr>\n",
       "    <tr>\n",
       "      <th>197</th>\n",
       "      <td>1111111111111111111111111111111111111111111111...</td>\n",
       "    </tr>\n",
       "  </tbody>\n",
       "</table>\n",
       "<p>198 rows × 1 columns</p>\n",
       "</div>"
      ],
      "text/plain": [
       "                                                   196\n",
       "0                                              2806137\n",
       "1    P 37 57 157 170 216 226 240 279 280 292 311 31...\n",
       "2    0001111101111111011111111111111111111111111111...\n",
       "3    0011111111111111111111111111111111111111111111...\n",
       "4    0011111111111110111111111111011111111111111111...\n",
       "..                                                 ...\n",
       "193  1111110111111111111111111111111111111111111111...\n",
       "194  1111110111111101111111111111111111111111111111...\n",
       "195  1111111111111111111111111111111111111111111111...\n",
       "196  1101110111111101111111111111111011110111111111...\n",
       "197  1111111111111111111111111111111111111111111111...\n",
       "\n",
       "[198 rows x 1 columns]"
      ]
     },
     "execution_count": 13,
     "metadata": {},
     "output_type": "execute_result"
    }
   ],
   "source": [
    "read_phase"
   ]
  },
  {
   "cell_type": "code",
   "execution_count": 10,
   "metadata": {},
   "outputs": [
    {
     "data": {
      "text/html": [
       "<div>\n",
       "<style scoped>\n",
       "    .dataframe tbody tr th:only-of-type {\n",
       "        vertical-align: middle;\n",
       "    }\n",
       "\n",
       "    .dataframe tbody tr th {\n",
       "        vertical-align: top;\n",
       "    }\n",
       "\n",
       "    .dataframe thead th {\n",
       "        text-align: right;\n",
       "    }\n",
       "</style>\n",
       "<table border=\"1\" class=\"dataframe\">\n",
       "  <thead>\n",
       "    <tr style=\"text-align: right;\">\n",
       "      <th></th>\n",
       "      <th>196</th>\n",
       "    </tr>\n",
       "  </thead>\n",
       "  <tbody>\n",
       "    <tr>\n",
       "      <th>0</th>\n",
       "      <td>1489312</td>\n",
       "    </tr>\n",
       "    <tr>\n",
       "      <th>1</th>\n",
       "      <td>P 19 73 149 236 283 437 450 471 501 732 822 85...</td>\n",
       "    </tr>\n",
       "    <tr>\n",
       "      <th>2</th>\n",
       "      <td>1111011111001111111111111111111111111111111110...</td>\n",
       "    </tr>\n",
       "    <tr>\n",
       "      <th>3</th>\n",
       "      <td>1111111111111111111111111111111111111111111111...</td>\n",
       "    </tr>\n",
       "    <tr>\n",
       "      <th>4</th>\n",
       "      <td>1111011111111111111111111111111111111111111111...</td>\n",
       "    </tr>\n",
       "    <tr>\n",
       "      <th>...</th>\n",
       "      <td>...</td>\n",
       "    </tr>\n",
       "    <tr>\n",
       "      <th>193</th>\n",
       "      <td>1111111111111111101111111111111111111111111111...</td>\n",
       "    </tr>\n",
       "    <tr>\n",
       "      <th>194</th>\n",
       "      <td>1111111110111111111111111110111101111111111111...</td>\n",
       "    </tr>\n",
       "    <tr>\n",
       "      <th>195</th>\n",
       "      <td>1111111111111111111111111111111101111111111111...</td>\n",
       "    </tr>\n",
       "    <tr>\n",
       "      <th>196</th>\n",
       "      <td>1011111111111111101111111110111111101111111111...</td>\n",
       "    </tr>\n",
       "    <tr>\n",
       "      <th>197</th>\n",
       "      <td>1111111111111111111111111111111111111111111111...</td>\n",
       "    </tr>\n",
       "  </tbody>\n",
       "</table>\n",
       "<p>198 rows × 1 columns</p>\n",
       "</div>"
      ],
      "text/plain": [
       "                                                   196\n",
       "0                                              1489312\n",
       "1    P 19 73 149 236 283 437 450 471 501 732 822 85...\n",
       "2    1111011111001111111111111111111111111111111110...\n",
       "3    1111111111111111111111111111111111111111111111...\n",
       "4    1111011111111111111111111111111111111111111111...\n",
       "..                                                 ...\n",
       "193  1111111111111111101111111111111111111111111111...\n",
       "194  1111111110111111111111111110111101111111111111...\n",
       "195  1111111111111111111111111111111101111111111111...\n",
       "196  1011111111111111101111111110111111101111111111...\n",
       "197  1111111111111111111111111111111111111111111111...\n",
       "\n",
       "[198 rows x 1 columns]"
      ]
     },
     "execution_count": 10,
     "metadata": {},
     "output_type": "execute_result"
    }
   ],
   "source": [
    "phase_file = \"/home/eriks/baboondiversity/data/PG_panu3_phased_chromosomes_4_7_2021/chr20/chr20.females.phase\"\n",
    "read_phase_20 = pd.read_csv(phase_file)\n",
    "read_phase_20"
   ]
  },
  {
   "cell_type": "code",
   "execution_count": 3,
   "metadata": {},
   "outputs": [
    {
     "name": "stdout",
     "output_type": "stream",
     "text": [
      "Mean cM/Mb 1.1081500395853456\n",
      "Chromosome-wide 0.8466533749967489\n",
      "number of ldhat pos and SNP 1103319 7250857\n",
      "Size of chromosome:  184.11208639592877\n",
      "Finished  1\n",
      "Mean cM/Mb 1.0445364659277043\n",
      "Chromosome-wide 0.8182253607261428\n",
      "number of ldhat pos and SNP 992346 6391700\n",
      "Size of chromosome:  154.05922389395948\n",
      "Finished  2\n",
      "Mean cM/Mb 1.1233773554727262\n",
      "Chromosome-wide 0.8826712758186103\n",
      "number of ldhat pos and SNP 949293 6303321\n",
      "Size of chromosome:  160.07422060481807\n",
      "Finished  3\n",
      "Mean cM/Mb 1.6689784176780764\n",
      "Chromosome-wide 1.0065437077960786\n",
      "number of ldhat pos and SNP 954803 5846808\n",
      "Size of chromosome:  167.16145866411682\n",
      "Finished  4\n",
      "Mean cM/Mb 1.0527068834966349\n",
      "Chromosome-wide 0.8532896739047849\n",
      "number of ldhat pos and SNP 1035958 6672340\n",
      "Size of chromosome:  156.7852466968261\n",
      "Finished  5\n",
      "Mean cM/Mb 1.0653967997714047\n",
      "Chromosome-wide 0.8260949000200527\n",
      "number of ldhat pos and SNP 915293 6101232\n",
      "Size of chromosome:  144.8952998028145\n",
      "Finished  6\n",
      "Mean cM/Mb 1.2570424871228825\n",
      "Chromosome-wide 0.9130931933458123\n",
      "number of ldhat pos and SNP 852994 5497845\n",
      "Size of chromosome:  148.74200080782038\n",
      "Finished  7\n",
      "Mean cM/Mb 1.291706783748178\n",
      "Chromosome-wide 1.0031337886956477\n",
      "number of ldhat pos and SNP 789090 4992526\n",
      "Size of chromosome:  140.78658805541693\n",
      "Finished  8\n",
      "Mean cM/Mb 1.4217262263996098\n",
      "Chromosome-wide 1.0566115331330526\n",
      "number of ldhat pos and SNP 710215 4413448\n",
      "Size of chromosome:  132.91040400675328\n",
      "Finished  9\n",
      "Mean cM/Mb 1.6176641570631636\n",
      "Chromosome-wide 1.167801869070945\n",
      "number of ldhat pos and SNP 501732 3265543\n",
      "Size of chromosome:  106.66150408541952\n",
      "Finished  10\n",
      "Mean cM/Mb 1.2493144177788333\n",
      "Chromosome-wide 0.9564647440805336\n",
      "number of ldhat pos and SNP 692648 4514250\n",
      "Size of chromosome:  127.17192042623016\n",
      "Finished  11\n",
      "Mean cM/Mb 1.2380134451444456\n",
      "Chromosome-wide 0.9342455933472459\n",
      "number of ldhat pos and SNP 680135 4393550\n",
      "Size of chromosome:  119.86555070331023\n",
      "Finished  12\n",
      "Mean cM/Mb 1.401705771986961\n",
      "Chromosome-wide 1.0326429291334065\n",
      "number of ldhat pos and SNP 555190 3659423\n",
      "Size of chromosome:  108.42068674918231\n",
      "Finished  13\n",
      "Mean cM/Mb 1.2375720214523143\n",
      "Chromosome-wide 0.9170238717831042\n",
      "number of ldhat pos and SNP 632438 4219995\n",
      "Size of chromosome:  114.18179114655607\n",
      "Finished  14\n",
      "Mean cM/Mb 1.3772337274651512\n",
      "Chromosome-wide 1.000826382989968\n",
      "number of ldhat pos and SNP 567128 3728324\n",
      "Size of chromosome:  108.14251563413524\n",
      "Finished  15\n",
      "Mean cM/Mb 1.8021595438824485\n",
      "Chromosome-wide 1.3010919248232555\n",
      "number of ldhat pos and SNP 389103 2633567\n",
      "Size of chromosome:  97.5328924020463\n",
      "Finished  16\n",
      "Mean cM/Mb 1.4048884501386325\n",
      "Chromosome-wide 1.156511777205329\n",
      "number of ldhat pos and SNP 532226 3451313\n",
      "Size of chromosome:  105.76954506008182\n",
      "Finished  17\n",
      "Mean cM/Mb 1.4345600489271264\n",
      "Chromosome-wide 1.1281059483136886\n",
      "number of ldhat pos and SNP 416158 2682519\n",
      "Size of chromosome:  81.81711228779926\n",
      "Finished  18\n",
      "Mean cM/Mb 2.272656734478633\n",
      "Chromosome-wide 1.6664796069235384\n",
      "number of ldhat pos and SNP 300324 2028906\n",
      "Size of chromosome:  85.63579694903378\n",
      "Finished  19\n",
      "Mean cM/Mb 1.5270245590957532\n",
      "Chromosome-wide 1.1694902115147143\n",
      "number of ldhat pos and SNP 398798 2792465\n",
      "Size of chromosome:  84.2590123377163\n",
      "Finished  20\n",
      "Mean cM/Mb 0.8440965954573236\n",
      "Chromosome-wide 0.5985395787292063\n",
      "number of ldhat pos and SNP 341642 2923212\n",
      "Size of chromosome:  86.0063884717931\n",
      "Finished  X\n"
     ]
    }
   ],
   "source": [
    "Ne = 8000\n",
    "df_l = []\n",
    "chromosome_numbers = ['{}'.format(x) for x in range(1, 21)] + ['X']\n",
    "chrom_sizes = []\n",
    "for chrom in chromosome_numbers:\n",
    "    if chrom == \"X\":\n",
    "        Ne = Ne/1.5\n",
    "    ldhat_map = pd.read_csv(ldhat_path.format(chrom), sep=\"\\t\")\n",
    "    zarr_dir = \"/faststorage/project/baboondiversity/data/PG_panu3_zarr_12_03_2021/callset.zarr/chr{}\"\n",
    "    #Opening the zarr data\n",
    "    callset = zarr.open_group(zarr_dir.format(chrom), mode=\"r\")\n",
    "    pos_array = callset[\"variants/POS\"][:]\n",
    "    ldhat_map[\"cM/Mb_temp\"] = ldhat_map.Mean_rho*1000*100/(4*Ne)\n",
    "    print(\"Mean cM/Mb\", ldhat_map[\"cM/Mb_temp\"].mean())\n",
    "    ldhat_map[\"i_l\"] = np.append(ldhat_map[\"POS\"][1:], ldhat_map[\"POS\"][-1:])-ldhat_map[\"POS\"]\n",
    "    print(\"Chromosome-wide\", np.nansum(ldhat_map[\"i_l\"]*ldhat_map[\"cM/Mb_temp\"])/sum(ldhat_map[\"POS\"][-1:]))\n",
    "    print(\"Number of ldhat pos and SNP\", len(ldhat_map), len(pos_array))\n",
    "    extended_recomb = []\n",
    "    i = 0\n",
    "    max_i = len(ldhat_map)-1\n",
    "    for pos in pos_array:\n",
    "        if i == max_i:\n",
    "            extended_recomb.append(ldhat_map[\"cM/Mb_temp\"][i-1])\n",
    "        elif pos >= ldhat_map[\"POS\"][i]:\n",
    "            i += 1\n",
    "            extended_recomb.append(ldhat_map[\"cM/Mb_temp\"][max(i-1, 0)])\n",
    "        else:\n",
    "            extended_recomb.append(ldhat_map[\"cM/Mb_temp\"][max(i-1, 0)])\n",
    "    pos_l = np.append(pos_array[1:], pos_array[-1:])-pos_array\n",
    "    df = (pd.DataFrame(data={\"position\": pos_array, \"COMBINED_rate(cM/Mb)\": extended_recomb, \"pos_l\": pos_l}))\n",
    "    df[\"chromosome\"] = \"chr{}\".format(chrom)\n",
    "    df[\"Genetic_Map(cM)\"] = (df[\"pos_l\"]*df[\"COMBINED_rate(cM/Mb)\"]/1000000).cumsum()\n",
    "    chrom_size = df[\"Genetic_Map(cM)\"].max()\n",
    "    print(\"Size of chromosome: \", chrom_size)\n",
    "    chrom_sizes.append(chrom_size)\n",
    "    df.to_csv(\"/home/eriks/baboondiversity/data/PG_panu3_recombination_map/genetic_map_chr{}.txt\".format(chrom),\n",
    "              sep=\" \", index=False, columns=[\"chromosome\", \"position\", \"COMBINED_rate(cM/Mb)\", \"Genetic_Map(cM)\"])\n",
    "    df_l.append(df)\n",
    "    print(\"Finished \", chrom)"
   ]
  },
  {
   "cell_type": "code",
   "execution_count": 48,
   "metadata": {},
   "outputs": [
    {
     "data": {
      "text/plain": [
       "0           0.000195\n",
       "1           0.001172\n",
       "2           0.001299\n",
       "3           0.001748\n",
       "4           0.001846\n",
       "             ...    \n",
       "2923207    86.006285\n",
       "2923208    86.006342\n",
       "2923209    86.006344\n",
       "2923210    86.006388\n",
       "2923211    86.006388\n",
       "Length: 2923212, dtype: float64"
      ]
     },
     "execution_count": 48,
     "metadata": {},
     "output_type": "execute_result"
    }
   ],
   "source": [
    "(df_l[20][\"pos_l\"]*df_l[20][\"COMBINED_rate(cM/Mb)\"]/1000000).cumsum()"
   ]
  },
  {
   "cell_type": "markdown",
   "metadata": {},
   "source": [
    "A quick workflow to handle rfmix."
   ]
  },
  {
   "cell_type": "code",
   "execution_count": 3,
   "metadata": {},
   "outputs": [],
   "source": [
    "chromosome_numbers = ['{}'.format(x) for x in range(1, 21)] + ['X']\n",
    "input_path = \"/home/eriks/baboondiversity/data/PG_panu3_recombination_map/genetic_map_chr{}.txt\"\n",
    "g_map_l = []\n",
    "for chrom in chromosome_numbers:\n",
    "    genetic_map = pd.read_csv(input_path.format(chrom), sep=\" \")\n",
    "    g_map_l.append(genetic_map)"
   ]
  },
  {
   "cell_type": "code",
   "execution_count": 4,
   "metadata": {},
   "outputs": [],
   "source": [
    "genetic_map_all = pd.concat(g_map_l)"
   ]
  },
  {
   "cell_type": "code",
   "execution_count": 5,
   "metadata": {},
   "outputs": [],
   "source": [
    "rfmix_dir = \"/home/eriks/baboondiversity/data/PG_panu3_phased_chromosomes_4_7_2021/rfmix_input/\"\n",
    "genetic_map_all = genetic_map_all.reindex(columns=[\"chromosome\", \"position\",\n",
    "                                                   \"Genetic_Map(cM)\", \"COMBINED_rate(cM/Mb)\"])"
   ]
  },
  {
   "cell_type": "code",
   "execution_count": 6,
   "metadata": {},
   "outputs": [
    {
     "data": {
      "text/html": [
       "<div>\n",
       "<style scoped>\n",
       "    .dataframe tbody tr th:only-of-type {\n",
       "        vertical-align: middle;\n",
       "    }\n",
       "\n",
       "    .dataframe tbody tr th {\n",
       "        vertical-align: top;\n",
       "    }\n",
       "\n",
       "    .dataframe thead th {\n",
       "        text-align: right;\n",
       "    }\n",
       "</style>\n",
       "<table border=\"1\" class=\"dataframe\">\n",
       "  <thead>\n",
       "    <tr style=\"text-align: right;\">\n",
       "      <th></th>\n",
       "      <th>chromosome</th>\n",
       "      <th>position</th>\n",
       "      <th>Genetic_Map(cM)</th>\n",
       "      <th>COMBINED_rate(cM/Mb)</th>\n",
       "    </tr>\n",
       "  </thead>\n",
       "  <tbody>\n",
       "    <tr>\n",
       "      <th>0</th>\n",
       "      <td>chr1</td>\n",
       "      <td>106</td>\n",
       "      <td>0.000018</td>\n",
       "      <td>0.330531</td>\n",
       "    </tr>\n",
       "    <tr>\n",
       "      <th>1</th>\n",
       "      <td>chr1</td>\n",
       "      <td>160</td>\n",
       "      <td>0.000022</td>\n",
       "      <td>0.330531</td>\n",
       "    </tr>\n",
       "    <tr>\n",
       "      <th>2</th>\n",
       "      <td>chr1</td>\n",
       "      <td>173</td>\n",
       "      <td>0.000027</td>\n",
       "      <td>0.330531</td>\n",
       "    </tr>\n",
       "    <tr>\n",
       "      <th>3</th>\n",
       "      <td>chr1</td>\n",
       "      <td>188</td>\n",
       "      <td>0.000046</td>\n",
       "      <td>0.330531</td>\n",
       "    </tr>\n",
       "    <tr>\n",
       "      <th>4</th>\n",
       "      <td>chr1</td>\n",
       "      <td>244</td>\n",
       "      <td>0.000046</td>\n",
       "      <td>0.330531</td>\n",
       "    </tr>\n",
       "    <tr>\n",
       "      <th>...</th>\n",
       "      <td>...</td>\n",
       "      <td>...</td>\n",
       "      <td>...</td>\n",
       "      <td>...</td>\n",
       "    </tr>\n",
       "    <tr>\n",
       "      <th>2923207</th>\n",
       "      <td>chrX</td>\n",
       "      <td>143691509</td>\n",
       "      <td>86.006285</td>\n",
       "      <td>2.588344</td>\n",
       "    </tr>\n",
       "    <tr>\n",
       "      <th>2923208</th>\n",
       "      <td>chrX</td>\n",
       "      <td>143691526</td>\n",
       "      <td>86.006342</td>\n",
       "      <td>2.588344</td>\n",
       "    </tr>\n",
       "    <tr>\n",
       "      <th>2923209</th>\n",
       "      <td>chrX</td>\n",
       "      <td>143691548</td>\n",
       "      <td>86.006344</td>\n",
       "      <td>2.588344</td>\n",
       "    </tr>\n",
       "    <tr>\n",
       "      <th>2923210</th>\n",
       "      <td>chrX</td>\n",
       "      <td>143691549</td>\n",
       "      <td>86.006388</td>\n",
       "      <td>2.588344</td>\n",
       "    </tr>\n",
       "    <tr>\n",
       "      <th>2923211</th>\n",
       "      <td>chrX</td>\n",
       "      <td>143691566</td>\n",
       "      <td>86.006388</td>\n",
       "      <td>2.588344</td>\n",
       "    </tr>\n",
       "  </tbody>\n",
       "</table>\n",
       "<p>93763144 rows × 4 columns</p>\n",
       "</div>"
      ],
      "text/plain": [
       "        chromosome   position  Genetic_Map(cM)  COMBINED_rate(cM/Mb)\n",
       "0             chr1        106         0.000018              0.330531\n",
       "1             chr1        160         0.000022              0.330531\n",
       "2             chr1        173         0.000027              0.330531\n",
       "3             chr1        188         0.000046              0.330531\n",
       "4             chr1        244         0.000046              0.330531\n",
       "...            ...        ...              ...                   ...\n",
       "2923207       chrX  143691509        86.006285              2.588344\n",
       "2923208       chrX  143691526        86.006342              2.588344\n",
       "2923209       chrX  143691548        86.006344              2.588344\n",
       "2923210       chrX  143691549        86.006388              2.588344\n",
       "2923211       chrX  143691566        86.006388              2.588344\n",
       "\n",
       "[93763144 rows x 4 columns]"
      ]
     },
     "execution_count": 6,
     "metadata": {},
     "output_type": "execute_result"
    }
   ],
   "source": [
    "genetic_map_all"
   ]
  },
  {
   "cell_type": "code",
   "execution_count": 8,
   "metadata": {},
   "outputs": [],
   "source": [
    "genetic_map_all.to_csv(rfmix_dir+\"all_chr_recombination_map.txt\", sep=\"\\t\", index=False)"
   ]
  },
  {
   "cell_type": "code",
   "execution_count": 9,
   "metadata": {},
   "outputs": [
    {
     "data": {
      "text/html": [
       "<div>\n",
       "<style scoped>\n",
       "    .dataframe tbody tr th:only-of-type {\n",
       "        vertical-align: middle;\n",
       "    }\n",
       "\n",
       "    .dataframe tbody tr th {\n",
       "        vertical-align: top;\n",
       "    }\n",
       "\n",
       "    .dataframe thead th {\n",
       "        text-align: right;\n",
       "    }\n",
       "</style>\n",
       "<table border=\"1\" class=\"dataframe\">\n",
       "  <thead>\n",
       "    <tr style=\"text-align: right;\">\n",
       "      <th></th>\n",
       "      <th>chromosome</th>\n",
       "      <th>position</th>\n",
       "      <th>Genetic_Map(cM)</th>\n",
       "      <th>COMBINED_rate(cM/Mb)</th>\n",
       "    </tr>\n",
       "  </thead>\n",
       "  <tbody>\n",
       "    <tr>\n",
       "      <th>0</th>\n",
       "      <td>chr1</td>\n",
       "      <td>106</td>\n",
       "      <td>0.000018</td>\n",
       "      <td>0.330531</td>\n",
       "    </tr>\n",
       "    <tr>\n",
       "      <th>1</th>\n",
       "      <td>chr1</td>\n",
       "      <td>160</td>\n",
       "      <td>0.000022</td>\n",
       "      <td>0.330531</td>\n",
       "    </tr>\n",
       "    <tr>\n",
       "      <th>2</th>\n",
       "      <td>chr1</td>\n",
       "      <td>173</td>\n",
       "      <td>0.000027</td>\n",
       "      <td>0.330531</td>\n",
       "    </tr>\n",
       "    <tr>\n",
       "      <th>3</th>\n",
       "      <td>chr1</td>\n",
       "      <td>188</td>\n",
       "      <td>0.000046</td>\n",
       "      <td>0.330531</td>\n",
       "    </tr>\n",
       "    <tr>\n",
       "      <th>4</th>\n",
       "      <td>chr1</td>\n",
       "      <td>244</td>\n",
       "      <td>0.000046</td>\n",
       "      <td>0.330531</td>\n",
       "    </tr>\n",
       "    <tr>\n",
       "      <th>...</th>\n",
       "      <td>...</td>\n",
       "      <td>...</td>\n",
       "      <td>...</td>\n",
       "      <td>...</td>\n",
       "    </tr>\n",
       "    <tr>\n",
       "      <th>2792460</th>\n",
       "      <td>chr20</td>\n",
       "      <td>72046365</td>\n",
       "      <td>84.258820</td>\n",
       "      <td>0.099375</td>\n",
       "    </tr>\n",
       "    <tr>\n",
       "      <th>2792461</th>\n",
       "      <td>chr20</td>\n",
       "      <td>72046419</td>\n",
       "      <td>84.258822</td>\n",
       "      <td>0.099375</td>\n",
       "    </tr>\n",
       "    <tr>\n",
       "      <th>2792462</th>\n",
       "      <td>chr20</td>\n",
       "      <td>72046439</td>\n",
       "      <td>84.258836</td>\n",
       "      <td>0.099375</td>\n",
       "    </tr>\n",
       "    <tr>\n",
       "      <th>2792463</th>\n",
       "      <td>chr20</td>\n",
       "      <td>72046588</td>\n",
       "      <td>84.259012</td>\n",
       "      <td>0.099375</td>\n",
       "    </tr>\n",
       "    <tr>\n",
       "      <th>2792464</th>\n",
       "      <td>chr20</td>\n",
       "      <td>72048358</td>\n",
       "      <td>84.259012</td>\n",
       "      <td>0.099375</td>\n",
       "    </tr>\n",
       "  </tbody>\n",
       "</table>\n",
       "<p>90839932 rows × 4 columns</p>\n",
       "</div>"
      ],
      "text/plain": [
       "        chromosome  position  Genetic_Map(cM)  COMBINED_rate(cM/Mb)\n",
       "0             chr1       106         0.000018              0.330531\n",
       "1             chr1       160         0.000022              0.330531\n",
       "2             chr1       173         0.000027              0.330531\n",
       "3             chr1       188         0.000046              0.330531\n",
       "4             chr1       244         0.000046              0.330531\n",
       "...            ...       ...              ...                   ...\n",
       "2792460      chr20  72046365        84.258820              0.099375\n",
       "2792461      chr20  72046419        84.258822              0.099375\n",
       "2792462      chr20  72046439        84.258836              0.099375\n",
       "2792463      chr20  72046588        84.259012              0.099375\n",
       "2792464      chr20  72048358        84.259012              0.099375\n",
       "\n",
       "[90839932 rows x 4 columns]"
      ]
     },
     "execution_count": 9,
     "metadata": {},
     "output_type": "execute_result"
    }
   ],
   "source": [
    "autosome_map = genetic_map_all.loc[genetic_map_all.chromosome != \"chrX\"]\n",
    "autosome_map"
   ]
  },
  {
   "cell_type": "code",
   "execution_count": 10,
   "metadata": {},
   "outputs": [],
   "source": [
    "autosome_map.to_csv(rfmix_dir+\"autosome_recombination_map.txt\", sep=\"\\t\", index=False)"
   ]
  },
  {
   "cell_type": "markdown",
   "metadata": {},
   "source": [
    "Also have to alter the masks to work with Relate"
   ]
  },
  {
   "cell_type": "code",
   "execution_count": 80,
   "metadata": {},
   "outputs": [
    {
     "name": "stdout",
     "output_type": "stream",
     "text": [
      "3624316\n",
      "3138061\n",
      "3022311\n",
      "2767908\n",
      "3062372\n",
      "2923338\n",
      "2714999\n",
      "2339112\n",
      "2096417\n",
      "1522169\n",
      "2216008\n",
      "2138163\n",
      "1749835\n",
      "2075221\n",
      "1800821\n",
      "1249360\n",
      "1523322\n",
      "1208837\n",
      "856460\n",
      "1200845\n",
      "2394862\n"
     ]
    }
   ],
   "source": [
    "path_to_mask = \"/home/eriks/baboondiversity/data/callability_panu3_26_04_2021/Panu_3.0_callability_mask_chr{}.fa\"\n",
    "chromosome_numbers = ['{}'.format(x) for x in range(1, 21)] + ['X']\n",
    "for chrom in chromosome_numbers:\n",
    "    line_l = 0\n",
    "    with open(path_to_mask.format(chrom)) as f:\n",
    "        o = open(\"/home/eriks/baboondiversity/data/callability_panu3_26_04_2021/panu3.npmask.chr{}.fa\".format(chrom), \"w\")\n",
    "        for line in f:\n",
    "            if line_l != 0:\n",
    "                l = \"\".join([x if x == \"N\" else \"P\" for x in line[:-1]])+\"\\n\"\n",
    "            else:\n",
    "                l = line\n",
    "            o.write(l)\n",
    "            line_l += 1\n",
    "    o.close()\n",
    "    print(line_l)"
   ]
  }
 ],
 "metadata": {
  "kernelspec": {
   "display_name": "Python 3 (ipykernel)",
   "language": "python",
   "name": "python3"
  },
  "language_info": {
   "codemirror_mode": {
    "name": "ipython",
    "version": 3
   },
   "file_extension": ".py",
   "mimetype": "text/x-python",
   "name": "python",
   "nbconvert_exporter": "python",
   "pygments_lexer": "ipython3",
   "version": "3.7.12"
  }
 },
 "nbformat": 4,
 "nbformat_minor": 4
}
