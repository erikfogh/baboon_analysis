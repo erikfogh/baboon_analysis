{
 "cells": [
  {
   "cell_type": "markdown",
   "metadata": {},
   "source": [
    "In this notebook, I will convert the vcfs to zarr storage.\n",
    "I only take PD individuals that are not captive.\n",
    "\n",
    "# Update\n",
    "I have chosen to run this as a workflow in gwf, as it is easier to parallelize there."
   ]
  },
  {
   "cell_type": "code",
   "execution_count": 1,
   "metadata": {},
   "outputs": [],
   "source": [
    "%run ../scripts/notebook_settings.py"
   ]
  },
  {
   "cell_type": "code",
   "execution_count": 12,
   "metadata": {},
   "outputs": [],
   "source": [
    "meta_data_samples = pd.read_excel(\"../data/New_Papio.xlsx\")\n",
    "vcf_dir = \"/faststorage/project/primatediversity/data/PG_baboons_pananu3_23_2_2021/\"\n",
    "zarr_dir = \"/faststorage/project/baboondiversity/data/PG_panu3_zarr_01_03_2021\"\n",
    "vcf_names = \"output.filtered.snps.{}.removed.AB.pass.vep.vcf.gz\"\n",
    "vcf_path = vcf_dir+vcf_names\n",
    "meta_data_samples = meta_data_samples.loc[meta_data_samples.Origin != \"captive\"]\n",
    "chromosomes = [f'chr{x}' for x in range(1, 21)] + ['chrX']"
   ]
  },
  {
   "cell_type": "markdown",
   "metadata": {},
   "source": [
    "Conversion from vcf to zarr"
   ]
  },
  {
   "cell_type": "markdown",
   "metadata": {},
   "source": [
    "allel.vcf_to_zarr(vcf_path.format(\"chrX\"), zarr_dir+\"/chrX.zarr\", \n",
    "                  samples=meta_data_samples[\"PGDP_ID\"].tolist(),\n",
    "                  fields='*', overwrite=False)"
   ]
  },
  {
   "cell_type": "markdown",
   "metadata": {},
   "source": [
    "autosomes = [f'chr{x}' for x in range(1, 21)]"
   ]
  },
  {
   "cell_type": "markdown",
   "metadata": {},
   "source": [
    "Handling the autosomes would be a better idea in a gwf script, but it could be done like this:"
   ]
  },
  {
   "cell_type": "markdown",
   "metadata": {},
   "source": [
    "for chrom in [f'chr{x}' for x in range(1, 21)]:\n",
    "    allel.vcf_to_zarr(vcf_path.format(chrom), zarr_dir+\"/{}.zarr\".format(chrom), \n",
    "                  samples=meta_data_samples[\"PGDP_ID\"].tolist(),\n",
    "                  fields='*', overwrite=False)\n",
    "    print(chrom)"
   ]
  }
 ],
 "metadata": {
  "kernelspec": {
   "display_name": "Python 3",
   "language": "python",
   "name": "python3"
  },
  "language_info": {
   "codemirror_mode": {
    "name": "ipython",
    "version": 3
   },
   "file_extension": ".py",
   "mimetype": "text/x-python",
   "name": "python",
   "nbconvert_exporter": "python",
   "pygments_lexer": "ipython3",
   "version": "3.7.9"
  }
 },
 "nbformat": 4,
 "nbformat_minor": 4
}
