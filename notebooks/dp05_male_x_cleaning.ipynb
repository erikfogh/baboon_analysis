{
 "cells": [
  {
   "cell_type": "markdown",
   "metadata": {},
   "source": [
    "In this notebook, I will investigate the het calls on the male X, and remove them based on the state present in females from the same species.\n",
    "I will adapt some of the code from Primatediversity_shared_het"
   ]
  },
  {
   "cell_type": "code",
   "execution_count": 1,
   "metadata": {},
   "outputs": [],
   "source": [
    "%run ../scripts/notebook_settings.py"
   ]
  },
  {
   "cell_type": "code",
   "execution_count": 2,
   "metadata": {},
   "outputs": [],
   "source": [
    "meta_data_samples = pd.read_table(\"../data/metadata_with_x_missing.txt\", sep=\" \")\n",
    "zarr_dir = \"/faststorage/project/baboondiversity/data/PG_panu3_zarr_12_03_2021/callset.zarr/chrX\"\n",
    "#Opening the zarr data\n",
    "callset = zarr.open_group(zarr_dir, mode=\"r\")\n",
    "gt = allel.GenotypeArray(callset[\"calldata/GT\"])"
   ]
  },
  {
   "cell_type": "code",
   "execution_count": 3,
   "metadata": {},
   "outputs": [],
   "source": [
    "def count_het_species(gt, species):\n",
    "    IDs = meta_data_samples.loc[meta_data_samples.Species == species].callset_index.values\n",
    "    females = meta_data_samples.loc[(meta_data_samples.Species == species)\n",
    "                                    & (meta_data_samples.Sex == \"F\")].callset_index.values\n",
    "    males = meta_data_samples.loc[(meta_data_samples.Species == species)\n",
    "                                    & (meta_data_samples.Sex == \"M\")].callset_index.values\n",
    "    gt_f = gt.take(females, axis=1)\n",
    "    gt_m = gt.take(males, axis=1)\n",
    "    f_het = gt_f.is_het()\n",
    "    m_het = gt_m.is_het()\n",
    "    matrix = np.zeros((len(males)+1, len(females)+1))\n",
    "    m_sum = m_het.sum(axis=1)\n",
    "    f_sum = f_het.sum(axis=1)\n",
    "    for i in range(len(m_sum)):\n",
    "        matrix[m_sum[i], f_sum[i]] += 1\n",
    "    print(species)\n",
    "    print(\"{} males and {} females\".format(len(males), len(females)))\n",
    "    print(\"Out of {} sites, {} are present in males,\".format(matrix.sum(), sum(matrix.sum(axis=1)[1:])/matrix.sum()))\n",
    "    print(\"{} are in females\".format(sum(matrix.sum(axis=0)[1:])/matrix.sum()))\n",
    "    print(\"With {} of male sites overlapping\".format(matrix[1:, 1:].sum()/sum(matrix.sum(axis=1)[1:])))\n",
    "    print(\"{} sites are het in all\".format(matrix[len(males), len(females)]/matrix.sum()))\n",
    "    return matrix"
   ]
  },
  {
   "cell_type": "code",
   "execution_count": 4,
   "metadata": {},
   "outputs": [
    {
     "name": "stdout",
     "output_type": "stream",
     "text": [
      "cynocephalus\n",
      "38 males and 24 females\n",
      "Out of 2923212.0 sites, 0.08423405486841187 are present in males,\n",
      "0.3749060964445959 are in females\n",
      "With 0.3710413671548202 of male sites overlapping\n",
      "0.0012883088876208774 sites are het in all\n",
      "anubis\n",
      "42 males and 52 females\n",
      "Out of 2923212.0 sites, 0.07334124244153349 are present in males,\n",
      "0.29615060419839545 are in females\n",
      "With 0.31978338743982987 of male sites overlapping\n",
      "0.001240416363917499 sites are het in all\n",
      "kindae\n",
      "18 males and 9 females\n",
      "Out of 2923212.0 sites, 0.06085668778042783 are present in males,\n",
      "0.17061677360383032 are in females\n",
      "With 0.2319488243196906 of male sites overlapping\n",
      "0.0018226526163685698 sites are het in all\n",
      "gelada\n",
      "2 males and 0 females\n",
      "Out of 2923212.0 sites, 0.046292229232775456 are present in males,\n",
      "0.0 are in females\n",
      "With 0.0 of male sites overlapping\n",
      "0.031158191742507897 sites are het in all\n",
      "hamadryas\n",
      "20 males and 6 females\n",
      "Out of 2923212.0 sites, 0.05886504297327734 are present in males,\n",
      "0.110604020508947 are in females\n",
      "With 0.206485544094145 of male sites overlapping\n",
      "0.0018797815553575998 sites are het in all\n",
      "papio\n",
      "7 males and 5 females\n",
      "Out of 2923212.0 sites, 0.04994027118115279 are present in males,\n",
      "0.025535267370276258 are in females\n",
      "With 0.140273724877728 of male sites overlapping\n",
      "0.0028851824636735206 sites are het in all\n",
      "ursinus (grayfoot)\n",
      "1 males and 3 females\n",
      "Out of 2923212.0 sites, 0.03266885877589446 are present in males,\n",
      "0.0832789411099845 are in females\n",
      "With 0.16335420637081405 of male sites overlapping\n",
      "0.0034978646776217394 sites are het in all\n"
     ]
    },
    {
     "data": {
      "text/plain": [
       "array([[2599872.,  137074.,   73899.,   16869.],\n",
       "       [  79898.,    2734.,    2641.,   10225.]])"
      ]
     },
     "execution_count": 4,
     "metadata": {},
     "output_type": "execute_result"
    }
   ],
   "source": [
    "for species in meta_data_samples.Species.unique():\n",
    "    df = count_het_species(gt, species)\n",
    "df"
   ]
  },
  {
   "cell_type": "markdown",
   "metadata": {},
   "source": [
    "Now I remove the putative PAR."
   ]
  },
  {
   "cell_type": "code",
   "execution_count": 13,
   "metadata": {},
   "outputs": [],
   "source": [
    "callset = zarr.open_group(zarr_dir, mode=\"r\")\n",
    "gt_zarr = callset[\"calldata/GT\"]\n",
    "pos = allel.SortedIndex(callset['variants/POS'])\n",
    "loc_region = pos.locate_range(2500000, 140000000)\n",
    "gt_nonpar = allel.GenotypeArray(gt_zarr[loc_region])"
   ]
  },
  {
   "cell_type": "code",
   "execution_count": 11,
   "metadata": {},
   "outputs": [
    {
     "data": {
      "text/html": [
       "<div class=\"allel allel-DisplayAs2D\"><span>&lt;GenotypeArray shape=(2655059, 227, 2) dtype=int8&gt;</span><table><thead><tr><th></th><th style=\"text-align: center\">0</th><th style=\"text-align: center\">1</th><th style=\"text-align: center\">2</th><th style=\"text-align: center\">3</th><th style=\"text-align: center\">4</th><th style=\"text-align: center\">...</th><th style=\"text-align: center\">222</th><th style=\"text-align: center\">223</th><th style=\"text-align: center\">224</th><th style=\"text-align: center\">225</th><th style=\"text-align: center\">226</th></tr></thead><tbody><tr><th style=\"text-align: center; background-color: white; border-right: 1px solid black; \">0</th><td style=\"text-align: center\">0/0</td><td style=\"text-align: center\">0/0</td><td style=\"text-align: center\">0/1</td><td style=\"text-align: center\">0/0</td><td style=\"text-align: center\">0/0</td><td style=\"text-align: center\">...</td><td style=\"text-align: center\">0/0</td><td style=\"text-align: center\">0/0</td><td style=\"text-align: center\">0/0</td><td style=\"text-align: center\">0/1</td><td style=\"text-align: center\">0/1</td></tr><tr><th style=\"text-align: center; background-color: white; border-right: 1px solid black; \">1</th><td style=\"text-align: center\">0/0</td><td style=\"text-align: center\">0/0</td><td style=\"text-align: center\">0/0</td><td style=\"text-align: center\">0/0</td><td style=\"text-align: center\">0/0</td><td style=\"text-align: center\">...</td><td style=\"text-align: center\">0/0</td><td style=\"text-align: center\">0/0</td><td style=\"text-align: center\">0/0</td><td style=\"text-align: center\">0/0</td><td style=\"text-align: center\">0/0</td></tr><tr><th style=\"text-align: center; background-color: white; border-right: 1px solid black; \">2</th><td style=\"text-align: center\">0/0</td><td style=\"text-align: center\">0/0</td><td style=\"text-align: center\">0/1</td><td style=\"text-align: center\">0/0</td><td style=\"text-align: center\">0/0</td><td style=\"text-align: center\">...</td><td style=\"text-align: center\">0/0</td><td style=\"text-align: center\">0/0</td><td style=\"text-align: center\">0/0</td><td style=\"text-align: center\">0/1</td><td style=\"text-align: center\">0/1</td></tr><tr><th style=\"text-align: center; background-color: white; border-right: 1px solid black; \">...</th><td style=\"text-align: center\" colspan=\"12\">...</td></tr><tr><th style=\"text-align: center; background-color: white; border-right: 1px solid black; \">2655056</th><td style=\"text-align: center\">0/0</td><td style=\"text-align: center\">0/0</td><td style=\"text-align: center\">0/0</td><td style=\"text-align: center\">0/0</td><td style=\"text-align: center\">0/0</td><td style=\"text-align: center\">...</td><td style=\"text-align: center\">0/0</td><td style=\"text-align: center\">0/0</td><td style=\"text-align: center\">0/0</td><td style=\"text-align: center\">0/0</td><td style=\"text-align: center\">0/0</td></tr><tr><th style=\"text-align: center; background-color: white; border-right: 1px solid black; \">2655057</th><td style=\"text-align: center\">0/0</td><td style=\"text-align: center\">0/0</td><td style=\"text-align: center\">0/0</td><td style=\"text-align: center\">0/0</td><td style=\"text-align: center\">0/0</td><td style=\"text-align: center\">...</td><td style=\"text-align: center\">0/0</td><td style=\"text-align: center\">0/0</td><td style=\"text-align: center\">0/0</td><td style=\"text-align: center\">0/0</td><td style=\"text-align: center\">0/0</td></tr><tr><th style=\"text-align: center; background-color: white; border-right: 1px solid black; \">2655058</th><td style=\"text-align: center\">0/0</td><td style=\"text-align: center\">0/0</td><td style=\"text-align: center\">0/0</td><td style=\"text-align: center\">0/0</td><td style=\"text-align: center\">0/0</td><td style=\"text-align: center\">...</td><td style=\"text-align: center\">0/0</td><td style=\"text-align: center\">0/0</td><td style=\"text-align: center\">0/0</td><td style=\"text-align: center\">0/0</td><td style=\"text-align: center\">0/0</td></tr></tbody></table></div>"
      ],
      "text/plain": [
       "<GenotypeArray shape=(2655059, 227, 2) dtype=int8>\n",
       "0/0 0/0 0/1 0/0 0/0 ... 0/0 0/0 0/0 0/1 0/1\n",
       "0/0 0/0 0/0 0/0 0/0 ... 0/0 0/0 0/0 0/0 0/0\n",
       "0/0 0/0 0/1 0/0 0/0 ... 0/0 0/0 0/0 0/1 0/1\n",
       "...\n",
       "0/0 0/0 0/0 0/0 0/0 ... 0/0 0/0 0/0 0/0 0/0\n",
       "0/0 0/0 0/0 0/0 0/0 ... 0/0 0/0 0/0 0/0 0/0\n",
       "0/0 0/0 0/0 0/0 0/0 ... 0/0 0/0 0/0 0/0 0/0"
      ]
     },
     "execution_count": 11,
     "metadata": {},
     "output_type": "execute_result"
    }
   ],
   "source": [
    "gt_nonpar"
   ]
  },
  {
   "cell_type": "code",
   "execution_count": 7,
   "metadata": {},
   "outputs": [
    {
     "data": {
      "text/plain": [
       "2923212"
      ]
     },
     "execution_count": 7,
     "metadata": {},
     "output_type": "execute_result"
    }
   ],
   "source": [
    "len(gt)"
   ]
  },
  {
   "cell_type": "code",
   "execution_count": 14,
   "metadata": {},
   "outputs": [
    {
     "name": "stdout",
     "output_type": "stream",
     "text": [
      "cynocephalus\n",
      "38 males and 24 females\n",
      "Out of 2774845.0 sites, 0.07232728314554507 are present in males,\n",
      "0.38014303501637026 are in females\n",
      "With 0.4039024001355277 of male sites overlapping\n",
      "0.001236825840722635 sites are het in all\n",
      "anubis\n",
      "42 males and 52 females\n",
      "Out of 2774845.0 sites, 0.062125632242521656 are present in males,\n",
      "0.29948123228504653 are in females\n",
      "With 0.34951185980544003 of male sites overlapping\n",
      "0.0011957424648944355 sites are het in all\n",
      "kindae\n",
      "18 males and 9 females\n",
      "Out of 2774845.0 sites, 0.05066084772302597 are present in males,\n",
      "0.1738197989437248 are in females\n",
      "With 0.26005861597996816 of male sites overlapping\n",
      "0.0017337905360479595 sites are het in all\n",
      "gelada\n",
      "2 males and 0 females\n",
      "Out of 2774845.0 sites, 0.038015096338714416 are present in males,\n",
      "0.0 are in females\n",
      "With 0.0 of male sites overlapping\n",
      "0.024557407711061338 sites are het in all\n",
      "hamadryas\n",
      "20 males and 6 females\n",
      "Out of 2774845.0 sites, 0.04971881312289515 are present in males,\n",
      "0.11216806704518631 are in females\n",
      "With 0.22828749945637206 of male sites overlapping\n",
      "0.001813434624276311 sites are het in all\n",
      "papio\n",
      "7 males and 5 females\n",
      "Out of 2774845.0 sites, 0.0411875257897288 are present in males,\n",
      "0.02556286927738306 are in females\n",
      "With 0.16363779541338186 of male sites overlapping\n",
      "0.002784299663584813 sites are het in all\n",
      "ursinus (grayfoot)\n",
      "1 males and 3 females\n",
      "Out of 2774845.0 sites, 0.025453313608507864 are present in males,\n",
      "0.08465770160135071 are in females\n",
      "With 0.19700123178864207 of male sites overlapping\n",
      "0.0033515385544057416 sites are het in all\n"
     ]
    }
   ],
   "source": [
    "for species in meta_data_samples.Species.unique():\n",
    "    df = count_het_species(gt_nonpar, species)"
   ]
  },
  {
   "cell_type": "markdown",
   "metadata": {},
   "source": [
    "Removing PAR actually increases overlap, but it decreases the percentage of sites with male het."
   ]
  },
  {
   "cell_type": "code",
   "execution_count": 9,
   "metadata": {},
   "outputs": [
    {
     "name": "stdout",
     "output_type": "stream",
     "text": [
      "kindae\n",
      "18 males and 9 females\n",
      "Out of 2774845.0 sites, 0.05066084772302597 are present in males,\n",
      "0.1738197989437248 are in females\n",
      "With 0.26005861597996816 of male sites overlapping\n",
      "0.0017337905360479595 sites are het in all\n"
     ]
    }
   ],
   "source": [
    "df = count_het_species(gt_nonpar, \"kindae\")"
   ]
  },
  {
   "cell_type": "markdown",
   "metadata": {},
   "source": [
    "Now, I will create a \"reference\" allele count for each female population, and then go through the males one by one to decide on the states for each site."
   ]
  },
  {
   "cell_type": "code",
   "execution_count": 107,
   "metadata": {},
   "outputs": [],
   "source": [
    "def state_decision(gt, species, meta_data_samples):\n",
    "    females = meta_data_samples.loc[(meta_data_samples.Species == species)\n",
    "                                    & (meta_data_samples.Sex == \"F\")].callset_index.values\n",
    "    males = meta_data_samples.loc[(meta_data_samples.Species == species)\n",
    "                                    & (meta_data_samples.Sex == \"M\")].callset_index.values\n",
    "    gt_f = gt.take(females, axis=1)\n",
    "    ac_f = gt_f.count_alleles()\n",
    "    allelism_f = np.reshape(ac_f.allelism()==1, (-1,1))\n",
    "    #reshape is needed to make sure they have the same np dimensions\n",
    "    print(\"Total sites:\", len(ac_f))\n",
    "    print(\"Variants in all females: \", ac_f.is_variant().sum())\n",
    "    for ID in males:\n",
    "        gt_m = gt.take([ID], axis=1)\n",
    "        print(\"Variants in male: \", gt_m.count_called().sum()-gt_m.is_hom_ref().sum())\n",
    "        het_state = gt_m.is_het()\n",
    "        het_males_fixed_females = het_state & allelism_f\n",
    "        print(\"\"\"Fixed female: {}, Het sites in male {}, percentage {}\"\"\".format(\n",
    "        het_males_fixed_females.sum(), het_state.sum(), het_males_fixed_females.sum()/het_state.sum()))\n",
    "        print()"
   ]
  },
  {
   "cell_type": "code",
   "execution_count": 108,
   "metadata": {},
   "outputs": [
    {
     "name": "stdout",
     "output_type": "stream",
     "text": [
      "Total sites: 2774845\n",
      "Variants in all females:  465119\n",
      "Variants in male:  385471\n",
      "Fixed female: 56649, Het sites in male 70629, percentage 0.8020643078622096\n",
      "240762\n"
     ]
    }
   ],
   "source": [
    "state_decision(gt_nonpar, \"ursinus (grayfoot)\", meta_data_samples)"
   ]
  },
  {
   "cell_type": "code",
   "execution_count": 16,
   "metadata": {},
   "outputs": [
    {
     "data": {
      "application/vnd.jupyter.widget-view+json": {
       "model_id": "fdeb4169e204435c99fde54c36d77c96",
       "version_major": 2,
       "version_minor": 0
      },
      "text/plain": [
       "Tree(nodes=(Node(disabled=True, name='/', nodes=(Node(disabled=True, name='calldata', nodes=(Node(disabled=Tru…"
      ]
     },
     "metadata": {},
     "output_type": "display_data"
    }
   ],
   "source": [
    "callset.tree()"
   ]
  }
 ],
 "metadata": {
  "kernelspec": {
   "display_name": "Python 3",
   "language": "python",
   "name": "python3"
  },
  "language_info": {
   "codemirror_mode": {
    "name": "ipython",
    "version": 3
   },
   "file_extension": ".py",
   "mimetype": "text/x-python",
   "name": "python",
   "nbconvert_exporter": "python",
   "pygments_lexer": "ipython3",
   "version": "3.7.9"
  }
 },
 "nbformat": 4,
 "nbformat_minor": 4
}
