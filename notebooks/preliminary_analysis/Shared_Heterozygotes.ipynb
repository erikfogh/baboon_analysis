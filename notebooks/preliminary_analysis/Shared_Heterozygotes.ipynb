{
 "cells": [
  {
   "cell_type": "code",
   "execution_count": 1,
   "metadata": {},
   "outputs": [],
   "source": [
    "#Initial configuration, probably overkill in imports.\n",
    "import sys, os, re\n",
    "import numpy as np\n",
    "import allel\n",
    "import zarr\n",
    "import dask\n",
    "import numcodecs\n",
    "import warnings\n",
    "from pathlib import Path\n",
    "\n",
    "#os.environ[\"MODIN_ENGINE\"] = \"ray\"\n",
    "\n",
    "#import modin.pandas as pd\n",
    "import pandas as pd\n",
    "\n",
    "%matplotlib inline\n",
    "from IPython.display import set_matplotlib_formats\n",
    "set_matplotlib_formats('retina', 'png')\n",
    "import matplotlib\n",
    "import matplotlib.pyplot as plt\n",
    "from matplotlib.colors import ListedColormap\n",
    "from horizonplot import horizonplot\n",
    "import seaborn as sns\n",
    "sns.set()\n",
    "sns.set_theme()\n",
    "sns.set_style(\"white\")\n",
    "sns.set_context(\"notebook\")"
   ]
  },
  {
   "cell_type": "code",
   "execution_count": 2,
   "metadata": {},
   "outputs": [],
   "source": [
    "meta_data_samples = pd.read_table(\"../data/meta_data_samples.txt\", sep = \" \")"
   ]
  },
  {
   "cell_type": "code",
   "execution_count": 3,
   "metadata": {},
   "outputs": [
    {
     "data": {
      "application/vnd.jupyter.widget-view+json": {
       "model_id": "3785b3ba19e546c8876d13a1b802b7b8",
       "version_major": 2,
       "version_minor": 0
      },
      "text/plain": [
       "Tree(nodes=(Node(disabled=True, name='/', nodes=(Node(disabled=True, name='chr1', nodes=(Node(disabled=True, n…"
      ]
     },
     "metadata": {},
     "output_type": "display_data"
    }
   ],
   "source": [
    "#Opening the zarr data\n",
    "callset = zarr.open_group('/faststorage/project/primatediversity/people/kmt/baboon_flagship/steps/callset.zarr', mode='r')\n",
    "callset.tree(expand=False)"
   ]
  },
  {
   "cell_type": "code",
   "execution_count": 4,
   "metadata": {},
   "outputs": [],
   "source": [
    "females = meta_data_samples.loc[(meta_data_samples.Sex == \"F\")& (meta_data_samples.PGDP_ID != \"PD_0202\")].callset_index.values\n",
    "males = meta_data_samples.loc[(meta_data_samples.Sex == \"M\")].callset_index.values"
   ]
  },
  {
   "cell_type": "code",
   "execution_count": 5,
   "metadata": {},
   "outputs": [
    {
     "name": "stdout",
     "output_type": "stream",
     "text": [
      "96 63\n"
     ]
    }
   ],
   "source": [
    "print(len(males), len(females))"
   ]
  },
  {
   "cell_type": "code",
   "execution_count": 6,
   "metadata": {},
   "outputs": [],
   "source": [
    "pos = allel.SortedIndex(callset['chrX/variants/POS'])\n",
    "loc_region = pos.locate_range(3000000, 152000000)"
   ]
  },
  {
   "cell_type": "code",
   "execution_count": 7,
   "metadata": {},
   "outputs": [],
   "source": [
    "gt_zarr = callset[\"chrX/calldata/GT\"]\n",
    "gt = allel.GenotypeArray(gt_zarr[loc_region])"
   ]
  },
  {
   "cell_type": "code",
   "execution_count": 8,
   "metadata": {},
   "outputs": [],
   "source": [
    "gt_females = (gt.take(females, axis=1))\n",
    "gt_males = (gt.take(males, axis=1))\n",
    "ac_female = gt_females.count_alleles(max_allele=1)[:]\n",
    "ac_male = gt_males.count_alleles(max_allele=1)[:]"
   ]
  },
  {
   "cell_type": "code",
   "execution_count": 9,
   "metadata": {},
   "outputs": [],
   "source": [
    "het_females = allel.GenotypeAlleleCounts(ac_female).is_het()\n",
    "het_males = allel.GenotypeAlleleCounts(ac_male).is_het()"
   ]
  },
  {
   "cell_type": "code",
   "execution_count": 10,
   "metadata": {},
   "outputs": [
    {
     "name": "stdout",
     "output_type": "stream",
     "text": [
      "3411081 3411081\n"
     ]
    }
   ],
   "source": [
    "print(len(het_males), len(het_females))"
   ]
  },
  {
   "cell_type": "code",
   "execution_count": 11,
   "metadata": {},
   "outputs": [],
   "source": [
    "union = np.logical_and(\n",
    "    np.logical_and(het_males != False, het_females != False),\n",
    "    het_males == het_females).sum()"
   ]
  },
  {
   "cell_type": "code",
   "execution_count": 12,
   "metadata": {},
   "outputs": [
    {
     "name": "stdout",
     "output_type": "stream",
     "text": [
      "2098496 1967201 1527420\n"
     ]
    }
   ],
   "source": [
    "#Number of het sites on the X\n",
    "print(het_males.sum(), het_females.sum(), union)\n",
    "# 2256621 and 2106141"
   ]
  },
  {
   "cell_type": "code",
   "execution_count": 13,
   "metadata": {},
   "outputs": [
    {
     "name": "stdout",
     "output_type": "stream",
     "text": [
      "410490 81273\n",
      "0.20866703504115747 0.03872916603129098\n"
     ]
    }
   ],
   "source": [
    "#Number of singletons\n",
    "print(ac_female.count_singleton(), ac_male.count_singleton())\n",
    "print(ac_female.count_singleton()/het_females.sum(), ac_male.count_singleton()/het_males.sum())"
   ]
  },
  {
   "cell_type": "code",
   "execution_count": 14,
   "metadata": {},
   "outputs": [
    {
     "name": "stdout",
     "output_type": "stream",
     "text": [
      "237653 441792\n",
      "0.12080768564066408 0.21052792094909878\n"
     ]
    }
   ],
   "source": [
    "#Number of doubletons\n",
    "print(ac_female.count_doubleton(), ac_male.count_doubleton())\n",
    "print(ac_female.count_doubleton()/het_females.sum(), ac_male.count_doubleton()/het_males.sum())"
   ]
  },
  {
   "cell_type": "code",
   "execution_count": 15,
   "metadata": {},
   "outputs": [
    {
     "name": "stdout",
     "output_type": "stream",
     "text": [
      "3411081\n"
     ]
    }
   ],
   "source": [
    "#male_list = het_males.tolist()\n",
    "#female_list = het_females.tolist()\n",
    "print(len(het_males))"
   ]
  },
  {
   "cell_type": "code",
   "execution_count": 16,
   "metadata": {},
   "outputs": [],
   "source": [
    "union = 0\n",
    "male_unique = 0\n",
    "female_unique = 0\n",
    "no_het = 0\n",
    "for i in range(len(het_females)):\n",
    "    if het_males[i] == True and het_females[i] == True:\n",
    "        union += 1\n",
    "    elif het_females[i] == True:\n",
    "        female_unique += 1\n",
    "    elif het_males[i] == True:\n",
    "        male_unique += 1\n",
    "    else:\n",
    "        no_het += 1"
   ]
  },
  {
   "cell_type": "code",
   "execution_count": 17,
   "metadata": {},
   "outputs": [
    {
     "name": "stdout",
     "output_type": "stream",
     "text": [
      "1527420 571076 439781 872804\n"
     ]
    }
   ],
   "source": [
    "print(union, male_unique, female_unique, no_het)"
   ]
  },
  {
   "cell_type": "code",
   "execution_count": 18,
   "metadata": {},
   "outputs": [
    {
     "name": "stdout",
     "output_type": "stream",
     "text": [
      "0.7278641465125499 % of male het calls are not male unique\n",
      "0.27213585348745006 % of male het calls are male unique\n",
      "0.2235567184034575 % of female het calls are female unique\n"
     ]
    }
   ],
   "source": [
    "print(\"{} % of male het calls are not male unique\".format(union/het_males.sum()))\n",
    "print(\"{} % of male het calls are male unique\".format(male_unique/het_males.sum()))\n",
    "print(\"{} % of female het calls are female unique\".format(female_unique/het_females.sum()))"
   ]
  },
  {
   "cell_type": "code",
   "execution_count": 28,
   "metadata": {},
   "outputs": [],
   "source": [
    "#Looking at het for all males\n",
    "all_het_males = gt_males.compress(het_males, axis=0)"
   ]
  },
  {
   "cell_type": "code",
   "execution_count": 138,
   "metadata": {},
   "outputs": [],
   "source": [
    "het_l=[0]*all_het_males.n_samples\n",
    "c_l = list(range(all_het_males.n_samples))\n",
    "for i in range(len(all_het_males)):\n",
    "    c = all_het_males[i].count_het()\n",
    "    het_l[c-1] += 1"
   ]
  },
  {
   "cell_type": "code",
   "execution_count": 53,
   "metadata": {},
   "outputs": [
    {
     "data": {
      "text/plain": [
       "0.8684238616609229"
      ]
     },
     "execution_count": 53,
     "metadata": {},
     "output_type": "execute_result"
    }
   ],
   "source": [
    "het_l[all_het_males.n_samples-1]/het_males.sum() #86,8 % are het in all males, indicating fixed differences"
   ]
  },
  {
   "cell_type": "code",
   "execution_count": 61,
   "metadata": {},
   "outputs": [],
   "source": [
    "d={\"het_l\": het_l, \"i\": c_l}\n",
    "df_males = pd.DataFrame(data=d)"
   ]
  },
  {
   "cell_type": "code",
   "execution_count": 69,
   "metadata": {},
   "outputs": [],
   "source": [
    "df_males[\"het_percentage\"]= df_males[\"het_l\"]/het_males.sum()"
   ]
  },
  {
   "cell_type": "code",
   "execution_count": 71,
   "metadata": {},
   "outputs": [
    {
     "data": {
      "text/html": [
       "<div>\n",
       "<style scoped>\n",
       "    .dataframe tbody tr th:only-of-type {\n",
       "        vertical-align: middle;\n",
       "    }\n",
       "\n",
       "    .dataframe tbody tr th {\n",
       "        vertical-align: top;\n",
       "    }\n",
       "\n",
       "    .dataframe thead th {\n",
       "        text-align: right;\n",
       "    }\n",
       "</style>\n",
       "<table border=\"1\" class=\"dataframe\">\n",
       "  <thead>\n",
       "    <tr style=\"text-align: right;\">\n",
       "      <th></th>\n",
       "      <th>het_l</th>\n",
       "      <th>i</th>\n",
       "      <th>het_percentage</th>\n",
       "    </tr>\n",
       "  </thead>\n",
       "  <tbody>\n",
       "    <tr>\n",
       "      <th>0</th>\n",
       "      <td>0.044802</td>\n",
       "      <td>0</td>\n",
       "      <td>2.134939e-08</td>\n",
       "    </tr>\n",
       "    <tr>\n",
       "      <th>1</th>\n",
       "      <td>0.016397</td>\n",
       "      <td>1</td>\n",
       "      <td>7.813910e-09</td>\n",
       "    </tr>\n",
       "    <tr>\n",
       "      <th>2</th>\n",
       "      <td>0.009303</td>\n",
       "      <td>2</td>\n",
       "      <td>4.433105e-09</td>\n",
       "    </tr>\n",
       "    <tr>\n",
       "      <th>3</th>\n",
       "      <td>0.006110</td>\n",
       "      <td>3</td>\n",
       "      <td>2.911652e-09</td>\n",
       "    </tr>\n",
       "    <tr>\n",
       "      <th>4</th>\n",
       "      <td>0.004491</td>\n",
       "      <td>4</td>\n",
       "      <td>2.140026e-09</td>\n",
       "    </tr>\n",
       "    <tr>\n",
       "      <th>...</th>\n",
       "      <td>...</td>\n",
       "      <td>...</td>\n",
       "      <td>...</td>\n",
       "    </tr>\n",
       "    <tr>\n",
       "      <th>91</th>\n",
       "      <td>0.000434</td>\n",
       "      <td>91</td>\n",
       "      <td>2.068722e-10</td>\n",
       "    </tr>\n",
       "    <tr>\n",
       "      <th>92</th>\n",
       "      <td>0.000584</td>\n",
       "      <td>92</td>\n",
       "      <td>2.781761e-10</td>\n",
       "    </tr>\n",
       "    <tr>\n",
       "      <th>93</th>\n",
       "      <td>0.000508</td>\n",
       "      <td>93</td>\n",
       "      <td>2.422971e-10</td>\n",
       "    </tr>\n",
       "    <tr>\n",
       "      <th>94</th>\n",
       "      <td>0.000671</td>\n",
       "      <td>94</td>\n",
       "      <td>3.199593e-10</td>\n",
       "    </tr>\n",
       "    <tr>\n",
       "      <th>95</th>\n",
       "      <td>0.868424</td>\n",
       "      <td>95</td>\n",
       "      <td>4.138316e-07</td>\n",
       "    </tr>\n",
       "  </tbody>\n",
       "</table>\n",
       "<p>96 rows × 3 columns</p>\n",
       "</div>"
      ],
      "text/plain": [
       "       het_l   i  het_percentage\n",
       "0   0.044802   0    2.134939e-08\n",
       "1   0.016397   1    7.813910e-09\n",
       "2   0.009303   2    4.433105e-09\n",
       "3   0.006110   3    2.911652e-09\n",
       "4   0.004491   4    2.140026e-09\n",
       "..       ...  ..             ...\n",
       "91  0.000434  91    2.068722e-10\n",
       "92  0.000584  92    2.781761e-10\n",
       "93  0.000508  93    2.422971e-10\n",
       "94  0.000671  94    3.199593e-10\n",
       "95  0.868424  95    4.138316e-07\n",
       "\n",
       "[96 rows x 3 columns]"
      ]
     },
     "execution_count": 71,
     "metadata": {},
     "output_type": "execute_result"
    }
   ],
   "source": [
    "df_males"
   ]
  },
  {
   "cell_type": "code",
   "execution_count": 70,
   "metadata": {},
   "outputs": [
    {
     "data": {
      "text/plain": [
       "<AxesSubplot:xlabel='i', ylabel='het_percentage'>"
      ]
     },
     "execution_count": 70,
     "metadata": {},
     "output_type": "execute_result"
    },
    {
     "data": {
      "image/png": "[encoded data removed]",
      "text/plain": [
       "<Figure size 432x288 with 1 Axes>"
      ]
     },
     "metadata": {
      "image/png": {
       "height": 278,
       "width": 382
      }
     },
     "output_type": "display_data"
    }
   ],
   "source": [
    "sns.scatterplot(data = df_males, x=\"i\", y=\"het_percentage\")"
   ]
  },
  {
   "cell_type": "code",
   "execution_count": 54,
   "metadata": {},
   "outputs": [],
   "source": [
    "#Doing the same for females\n",
    "all_het_females = gt_females.compress(het_females, axis=0)"
   ]
  },
  {
   "cell_type": "code",
   "execution_count": 56,
   "metadata": {},
   "outputs": [],
   "source": [
    "#Doing the same for females\n",
    "all_het_females = gt_females.compress(het_females, axis=0)\n",
    "het_l_females=[0]*all_het_females.n_samples\n",
    "c_l_females = list(range(all_het_females.n_samples))\n",
    "for i in range(len(all_het_females)):\n",
    "    c = all_het_females[i].count_het()\n",
    "    het_l_females[c-1] += 1"
   ]
  },
  {
   "cell_type": "code",
   "execution_count": 72,
   "metadata": {},
   "outputs": [
    {
     "data": {
      "text/plain": [
       "0.08463192119158133"
      ]
     },
     "execution_count": 72,
     "metadata": {},
     "output_type": "execute_result"
    }
   ],
   "source": [
    "het_l_females[all_het_females.n_samples-1]/het_females.sum()"
   ]
  },
  {
   "cell_type": "code",
   "execution_count": 77,
   "metadata": {},
   "outputs": [
    {
     "name": "stdout",
     "output_type": "stream",
     "text": [
      "63 63\n"
     ]
    }
   ],
   "source": [
    "print(len(het_l_females), len(c_l_females))"
   ]
  },
  {
   "cell_type": "code",
   "execution_count": 80,
   "metadata": {},
   "outputs": [],
   "source": [
    "d={\"het_l\": het_l_females, \"i\": c_l_females}\n",
    "df_females = pd.DataFrame(data=d)\n",
    "df_females[\"het_percentage\"]= df_females[\"het_l\"]/het_females.sum()"
   ]
  },
  {
   "cell_type": "code",
   "execution_count": 82,
   "metadata": {},
   "outputs": [
    {
     "data": {
      "text/html": [
       "<div>\n",
       "<style scoped>\n",
       "    .dataframe tbody tr th:only-of-type {\n",
       "        vertical-align: middle;\n",
       "    }\n",
       "\n",
       "    .dataframe tbody tr th {\n",
       "        vertical-align: top;\n",
       "    }\n",
       "\n",
       "    .dataframe thead th {\n",
       "        text-align: right;\n",
       "    }\n",
       "</style>\n",
       "<table border=\"1\" class=\"dataframe\">\n",
       "  <thead>\n",
       "    <tr style=\"text-align: right;\">\n",
       "      <th></th>\n",
       "      <th>het_l</th>\n",
       "      <th>i</th>\n",
       "      <th>het_percentage</th>\n",
       "    </tr>\n",
       "  </thead>\n",
       "  <tbody>\n",
       "    <tr>\n",
       "      <th>0</th>\n",
       "      <td>523595</td>\n",
       "      <td>0</td>\n",
       "      <td>0.266162</td>\n",
       "    </tr>\n",
       "    <tr>\n",
       "      <th>1</th>\n",
       "      <td>321364</td>\n",
       "      <td>1</td>\n",
       "      <td>0.163361</td>\n",
       "    </tr>\n",
       "    <tr>\n",
       "      <th>2</th>\n",
       "      <td>209309</td>\n",
       "      <td>2</td>\n",
       "      <td>0.106399</td>\n",
       "    </tr>\n",
       "    <tr>\n",
       "      <th>3</th>\n",
       "      <td>151813</td>\n",
       "      <td>3</td>\n",
       "      <td>0.077172</td>\n",
       "    </tr>\n",
       "    <tr>\n",
       "      <th>4</th>\n",
       "      <td>119854</td>\n",
       "      <td>4</td>\n",
       "      <td>0.060926</td>\n",
       "    </tr>\n",
       "    <tr>\n",
       "      <th>...</th>\n",
       "      <td>...</td>\n",
       "      <td>...</td>\n",
       "      <td>...</td>\n",
       "    </tr>\n",
       "    <tr>\n",
       "      <th>58</th>\n",
       "      <td>207</td>\n",
       "      <td>58</td>\n",
       "      <td>0.000105</td>\n",
       "    </tr>\n",
       "    <tr>\n",
       "      <th>59</th>\n",
       "      <td>175</td>\n",
       "      <td>59</td>\n",
       "      <td>0.000089</td>\n",
       "    </tr>\n",
       "    <tr>\n",
       "      <th>60</th>\n",
       "      <td>133</td>\n",
       "      <td>60</td>\n",
       "      <td>0.000068</td>\n",
       "    </tr>\n",
       "    <tr>\n",
       "      <th>61</th>\n",
       "      <td>97</td>\n",
       "      <td>61</td>\n",
       "      <td>0.000049</td>\n",
       "    </tr>\n",
       "    <tr>\n",
       "      <th>62</th>\n",
       "      <td>166488</td>\n",
       "      <td>62</td>\n",
       "      <td>0.084632</td>\n",
       "    </tr>\n",
       "  </tbody>\n",
       "</table>\n",
       "<p>63 rows × 3 columns</p>\n",
       "</div>"
      ],
      "text/plain": [
       "     het_l   i  het_percentage\n",
       "0   523595   0        0.266162\n",
       "1   321364   1        0.163361\n",
       "2   209309   2        0.106399\n",
       "3   151813   3        0.077172\n",
       "4   119854   4        0.060926\n",
       "..     ...  ..             ...\n",
       "58     207  58        0.000105\n",
       "59     175  59        0.000089\n",
       "60     133  60        0.000068\n",
       "61      97  61        0.000049\n",
       "62  166488  62        0.084632\n",
       "\n",
       "[63 rows x 3 columns]"
      ]
     },
     "execution_count": 82,
     "metadata": {},
     "output_type": "execute_result"
    }
   ],
   "source": [
    "df_females"
   ]
  },
  {
   "cell_type": "code",
   "execution_count": 81,
   "metadata": {},
   "outputs": [
    {
     "data": {
      "text/plain": [
       "<AxesSubplot:xlabel='i', ylabel='het_percentage'>"
      ]
     },
     "execution_count": 81,
     "metadata": {},
     "output_type": "execute_result"
    },
    {
     "data": {
      "image/png": "[encoded data removed]",
      "text/plain": [
       "<Figure size 432x288 with 1 Axes>"
      ]
     },
     "metadata": {
      "image/png": {
       "height": 267,
       "width": 399
      }
     },
     "output_type": "display_data"
    }
   ],
   "source": [
    "sns.scatterplot(data = df_females, x=\"i\", y=\"het_percentage\")"
   ]
  },
  {
   "cell_type": "markdown",
   "metadata": {},
   "source": [
    "#There is something weird with the numbers (all should have the least shared hets)\n",
    "#I think it is a problem with is_het or count_het,\n",
    "#so I will check that by looking at all individuals in papio individually\n",
    "\n",
    "papio = meta_data_samples.loc[(meta_data_samples.Species == \"papio\") & \n",
    "                                  (meta_data_samples.Sex == \"M\")].callset_index.values\n",
    "for i in papio:\n",
    "    gt_i = gt.take([i]+[1], axis=1)\n",
    "    ac = gt_i.count_alleles(max_allele=1)[:]\n",
    "    het_i = allel.GenotypeAlleleCounts(ac).is_het()\n",
    "    all_het_i = gt_i.compress(het_i, axis=0)\n",
    "    het_l=[0]*gt_i.n_samples\n",
    "    c_l = list(range(gt_i.n_samples))\n",
    "    for i in range(len(all_het_i)):\n",
    "        c = all_het_i[i].count_het()\n",
    "        het_l[c-1] += 1\n",
    "    print(het_l)\n",
    "    print(het_l[gt_i.n_samples-1], sum(het_l), het_l[gt_i.n_samples-1]/sum(het_l))\n",
    "#It is hard for me to visually detect what goes wrong - is_het and count_het both seem to work as expected\n",
    "#Answer: Is_het was based on allele counts, and therefore took alleles with 1ref/1alt as het.\n",
    "#Saving this code for posteority\n"
   ]
  },
  {
   "cell_type": "code",
   "execution_count": 198,
   "metadata": {},
   "outputs": [
    {
     "name": "stdout",
     "output_type": "stream",
     "text": [
      "[1671094, 49682, 17879, 10262, 7226, 5310, 4126, 3654, 2963, 2794, 2451, 2318, 2172, 2248, 2148, 2165, 2130, 2129, 2354, 2663, 2817, 3539, 4387, 7978]\n",
      "1816489 0.054871212902782074\n",
      "anubis\n",
      "[2010016, 68565, 23875, 13452, 9488, 7104, 5303, 4559, 3569, 3275, 3021, 2852, 2593, 2459, 2238, 2234, 2059, 1806, 1779, 1815, 1823, 1967, 1889, 1800, 2020, 2115, 2171, 2565, 2946, 4829]\n",
      "2196187 0.0259385188885487\n",
      "cynocephalus\n",
      "[1377838, 32501, 13888, 9353, 8074, 7124, 7873, 16414]\n",
      "1473065 0.17236708076490911\n",
      "papio\n",
      "[1175415, 39504]\n",
      "1214919 1.0\n",
      "ursinus (grayfoot)\n",
      "[1562706, 37124, 15020, 9128, 6147, 4897, 3791, 3344, 2999, 2750, 2716, 2553, 2395, 2622, 2546, 2605, 3028, 3569, 4770, 10618]\n",
      "1685328 0.08659131314119815\n",
      "hamadryas\n",
      "[1626271, 30869, 12945, 8008, 6602, 5012, 4157, 3557, 3262, 2784, 2722, 2810, 2682, 2787, 3027, 3815, 3677, 8003]\n",
      "1732990 0.07499133237755226\n",
      "kindae\n",
      "[2692725, 93377, 33640, 18983, 12431, 9131, 7253, 6202, 4896, 4220, 3624, 3147, 2854, 2630, 2277, 2078, 1968, 1816, 1706, 1656, 1493, 1289, 1312, 1235, 1250, 981, 1081, 1077, 975, 946, 911, 935, 787, 737, 759, 714, 721, 737, 689, 759, 705, 711, 691, 659, 658, 637, 603, 623, 606, 716, 973, 590, 550, 594, 624, 578, 553, 631, 584, 585, 578, 588, 587, 598, 659, 550, 520, 548, 526, 562, 492, 471, 475, 525, 553, 473, 533, 488, 536, 574, 570, 597, 702, 708, 667, 675, 714, 721, 741, 811, 774, 854, 895, 1210, 1053, 1396, 1922]\n",
      "2964719 0.007066332345566446\n",
      "all\n"
     ]
    }
   ],
   "source": [
    "#Function to look at shared heterozygosity across species, male\n",
    "n = []\n",
    "all_het = []\n",
    "species_l = meta_data_samples.Species.unique().tolist()\n",
    "species_l.append(\"all\")\n",
    "d_spectrum = {}\n",
    "for species in species_l:\n",
    "    #Filtering for individuals\n",
    "    if species == \"all\":\n",
    "        s = meta_data_samples.loc[(meta_data_samples.Sex == \"M\")].callset_index.values\n",
    "    else:\n",
    "        s = meta_data_samples.loc[(meta_data_samples.Species == species) & \n",
    "                                  (meta_data_samples.Sex == \"M\")].callset_index.values\n",
    "    gt_species = gt.take(s, axis=1)\n",
    "    #Filtering for biallelic\n",
    "    ac = gt_species.count_alleles()[:]\n",
    "    flt = (ac.max_allele() == 1)\n",
    "    gf = gt_species.compress(flt, axis=0)\n",
    "    #is_het returns a 2x2 ndarray, for each pos/indvididual combination. True=het.\n",
    "    het_or_not = gf.is_het()\n",
    "    het_l=[0]*(gt_species.n_samples+1)\n",
    "    c_l = list(range(gt_species.n_samples+1))\n",
    "    for i in range(len(het_or_not)):\n",
    "        c = het_or_not[i].sum()\n",
    "        het_l[c] += 1\n",
    "    n.append(gt_species.n_samples)\n",
    "    print(het_l)\n",
    "    d_spectrum[species+\"_M\"] = het_l\n",
    "    print(sum(het_l), het_l[gt_species.n_samples]/sum(het_l[1:]))\n",
    "    all_het.append(het_l[gt_species.n_samples]/sum(het_l[1:]))\n",
    "    print(species)\n",
    "d={\"shared_het\": all_het, \"n_individuals\": n, \"species\": species_l}\n",
    "df_species_male = pd.DataFrame(data=d)\n",
    "df_species_male[\"sex\"]=\"M\""
   ]
  },
  {
   "cell_type": "code",
   "execution_count": 194,
   "metadata": {},
   "outputs": [
    {
     "data": {
      "text/plain": [
       "<AxesSubplot:xlabel='n_individuals', ylabel='shared_het'>"
      ]
     },
     "execution_count": 194,
     "metadata": {},
     "output_type": "execute_result"
    },
    {
     "data": {
      "image/png": "[encoded data removed]",
      "text/plain": [
       "<Figure size 432x288 with 1 Axes>"
      ]
     },
     "metadata": {
      "image/png": {
       "height": 267,
       "width": 400
      }
     },
     "output_type": "display_data"
    }
   ],
   "source": [
    "sns.scatterplot(data = df_species_male, x=\"n_individuals\", y=\"shared_het\", hue=\"species\")"
   ]
  },
  {
   "cell_type": "code",
   "execution_count": 211,
   "metadata": {},
   "outputs": [
    {
     "data": {
      "text/plain": [
       "<AxesSubplot:xlabel='i', ylabel='het_counts'>"
      ]
     },
     "execution_count": 211,
     "metadata": {},
     "output_type": "execute_result"
    },
    {
     "data": {
      "image/png": "[encoded data removed]",
      "text/plain": [
       "<Figure size 432x288 with 1 Axes>"
      ]
     },
     "metadata": {
      "image/png": {
       "height": 267,
       "width": 407
      }
     },
     "output_type": "display_data"
    }
   ],
   "source": [
    "df_cyn = {\"het_counts\": d_spectrum[\"cynocephalus_M\"][4:], \"i\": list(range(4, len(d_spectrum[\"cynocephalus_M\"])))}\n",
    "df_cyn = pd.DataFrame(data=df_cyn)\n",
    "sns.scatterplot(data = df_cyn, x=\"i\", y=\"het_counts\")"
   ]
  },
  {
   "cell_type": "code",
   "execution_count": 199,
   "metadata": {},
   "outputs": [
    {
     "name": "stdout",
     "output_type": "stream",
     "text": [
      "[1246355, 253437, 141070, 84961, 58795, 47690, 41033, 32099, 26019, 19661, 13539, 9595, 6819, 4947, 3010, 2093, 1452, 1189, 1013, 1000, 968, 850, 874, 815, 755, 732, 629, 377]\n",
      "2001777 0.0004990588042180397\n",
      "anubis\n",
      "[1210389, 320754, 155849, 103411, 81482, 69501, 57102, 45991, 32465, 19605, 10830, 5003, 2640, 1782, 1387, 1073, 678]\n",
      "2119942 0.0007454211024536229\n",
      "cynocephalus\n",
      "[1356474, 43435, 23511, 15071, 8721, 3763]\n",
      "1450975 0.039819684447783624\n",
      "papio\n",
      "[1289643, 140972, 76265, 22136]\n",
      "1529016 0.09247492407247267\n",
      "ursinus (grayfoot)\n",
      "[1294739, 138774, 84501, 47806, 21165, 5769]\n",
      "1592754 0.01935808600238243\n",
      "hamadryas\n",
      "[1243379, 140834, 123661, 85869, 50261, 24958, 10904, 4467]\n",
      "1684333 0.010130308376837493\n",
      "kindae\n",
      "[1233415, 522985, 319945, 207982, 150537, 118759, 94024, 77472, 61649, 49106, 38028, 28926, 23128, 17359, 13927, 10986, 8664, 7103, 5433, 4360, 3462, 2709, 2190, 1644, 1417, 1196, 1039, 938, 814, 716, 712, 615, 526, 534, 528, 481, 491, 447, 453, 416, 456, 427, 386, 360, 396, 360, 341, 331, 330, 314, 331, 308, 287, 315, 272, 252, 273, 261, 237, 203, 171, 130, 94, 38]\n",
      "3021989 2.1245975844443674e-05\n",
      "all\n"
     ]
    }
   ],
   "source": [
    "#Same code, but for females\n",
    "n = []\n",
    "het = []\n",
    "\n",
    "for species in species_l:\n",
    "    if species == \"all\":\n",
    "        s = meta_data_samples.loc[(meta_data_samples.Sex == \"F\") &\n",
    "                                  (meta_data_samples.PGDP_ID != \"PD_0202\")].callset_index.values\n",
    "    else:\n",
    "        s = meta_data_samples.loc[(meta_data_samples.Species == species) & \n",
    "                                  (meta_data_samples.Sex == \"F\") &\n",
    "                                  (meta_data_samples.PGDP_ID != \"PD_0202\")].callset_index.values\n",
    "    gt_species = gt.take(s, axis=1)\n",
    "    #Filtering for biallelic\n",
    "    ac = gt_species.count_alleles()[:]\n",
    "    flt = (ac.max_allele() == 1)\n",
    "    gf = gt_species.compress(flt, axis=0)\n",
    "    #is_het returns a 2x2 ndarray, for each pos/indvididual combination. True=het.\n",
    "    het_or_not = gf.is_het()\n",
    "    het_l=[0]*(gt_species.n_samples+1)\n",
    "    c_l = list(range(gt_species.n_samples+1))\n",
    "    for i in range(len(het_or_not)):\n",
    "        c = het_or_not[i].sum()\n",
    "        het_l[c] += 1\n",
    "    n.append(gt_species.n_samples)\n",
    "    print(het_l)\n",
    "    d_spectrum[species+\"_F\"] = het_l\n",
    "    print(sum(het_l), het_l[gt_species.n_samples]/sum(het_l[1:]))\n",
    "    het.append(het_l[gt_species.n_samples]/sum(het_l[1:]))\n",
    "    print(species)\n",
    "d={\"shared_het\": het, \"n_individuals\": n, \"species\": species_l}\n",
    "df_species_female = pd.DataFrame(data=d)\n",
    "df_species_female[\"sex\"]=\"F\""
   ]
  },
  {
   "cell_type": "code",
   "execution_count": 192,
   "metadata": {},
   "outputs": [
    {
     "data": {
      "text/plain": [
       "<AxesSubplot:xlabel='n_individuals', ylabel='shared_het'>"
      ]
     },
     "execution_count": 192,
     "metadata": {},
     "output_type": "execute_result"
    },
    {
     "data": {
      "image/png": "[encoded data removed]",
      "text/plain": [
       "<Figure size 432x288 with 1 Axes>"
      ]
     },
     "metadata": {
      "image/png": {
       "height": 267,
       "width": 399
      }
     },
     "output_type": "display_data"
    }
   ],
   "source": [
    "sns.scatterplot(data = df_species_female, x=\"n_individuals\", y=\"shared_het\", hue=\"species\")"
   ]
  }
 ],
 "metadata": {
  "kernelspec": {
   "display_name": "Python 3",
   "language": "python",
   "name": "python3"
  },
  "language_info": {
   "codemirror_mode": {
    "name": "ipython",
    "version": 3
   },
   "file_extension": ".py",
   "mimetype": "text/x-python",
   "name": "python",
   "nbconvert_exporter": "python",
   "pygments_lexer": "ipython3",
   "version": "3.7.9"
  }
 },
 "nbformat": 4,
 "nbformat_minor": 4
}
