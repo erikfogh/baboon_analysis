{
 "cells": [
  {
   "cell_type": "markdown",
   "metadata": {},
   "source": [
    "In this notebook, I will investigate the degree of missingness. First on the X, and then the autosomes.\n",
    "Then, I will look at various other measures to identify whether other sites should be removed, such as HW-filtering."
   ]
  },
  {
   "cell_type": "code",
   "execution_count": 1,
   "metadata": {},
   "outputs": [],
   "source": [
    "%run ../scripts/notebook_settings.py"
   ]
  },
  {
   "cell_type": "code",
   "execution_count": 2,
   "metadata": {},
   "outputs": [],
   "source": [
    "zarr_dir = \"/faststorage/project/baboondiversity/data/PG_panu3_zarr_12_03_2021/callset.zarr/chrX\"\n",
    "#Opening the zarr data\n",
    "callset = zarr.open_group(zarr_dir, mode=\"r\")\n",
    "meta_data_samples = pd.read_table(\"../data/metadata_with_x_missing.txt\", sep=\" \")"
   ]
  },
  {
   "cell_type": "markdown",
   "metadata": {},
   "source": [
    "Creating the gt dataframe"
   ]
  },
  {
   "cell_type": "code",
   "execution_count": 3,
   "metadata": {},
   "outputs": [],
   "source": [
    "gt = allel.GenotypeArray(callset[\"calldata/GT\"])\n",
    "n_s = len(callset[\"samples\"]) #number of samples"
   ]
  },
  {
   "cell_type": "markdown",
   "metadata": {},
   "source": [
    "Calculating and plotting missingness"
   ]
  },
  {
   "cell_type": "code",
   "execution_count": 4,
   "metadata": {},
   "outputs": [],
   "source": [
    "missingness = gt.is_missing()"
   ]
  },
  {
   "cell_type": "code",
   "execution_count": 5,
   "metadata": {},
   "outputs": [],
   "source": [
    "m_per_s = missingness.sum(axis=1)"
   ]
  },
  {
   "cell_type": "code",
   "execution_count": 6,
   "metadata": {},
   "outputs": [],
   "source": [
    "d = {\"m\": m_per_s, \"pos\": callset[\"variants/POS\"]}\n",
    "m_df = pd.DataFrame(data=d)"
   ]
  },
  {
   "cell_type": "code",
   "execution_count": 7,
   "metadata": {},
   "outputs": [
    {
     "data": {
      "image/png": "[encoded data removed]",
      "text/plain": [
       "<Figure size 432x288 with 1 Axes>"
      ]
     },
     "metadata": {},
     "output_type": "display_data"
    }
   ],
   "source": [
    "g = sns.histplot(m_df, x=\"m\")\n",
    "g.set_yscale(\"log\")"
   ]
  },
  {
   "cell_type": "code",
   "execution_count": 8,
   "metadata": {
    "scrolled": true
   },
   "outputs": [
    {
     "data": {
      "text/plain": [
       "0.9862880283742678"
      ]
     },
     "execution_count": 8,
     "metadata": {},
     "output_type": "execute_result"
    }
   ],
   "source": [
    "len(m_df.loc[m_df.m == n_s]) #0 sites with no calls, as all individuals are present now.\n",
    "len(m_df.loc[m_df.m == 0]) #2522608 sites with no missing\n",
    "len(m_df.loc[m_df.m == 0])/len(m_df) #0.862 of sites has no missing\n",
    "len(m_df.loc[m_df.m <= n_s*0.1])/len(m_df) #0.973 of sites has less than 10 % missing\n",
    "len(m_df.loc[m_df.m <= n_s*0.2])/len(m_df) #0.986 of sites has less than 20 % missing"
   ]
  },
  {
   "cell_type": "markdown",
   "metadata": {},
   "source": [
    "Same analysis, now on chr7"
   ]
  },
  {
   "cell_type": "code",
   "execution_count": 9,
   "metadata": {},
   "outputs": [],
   "source": [
    "zarr_dir = \"/faststorage/project/baboondiversity/data/PG_panu3_zarr_01_03_2021/callset.zarr/chr7\"\n",
    "meta_data_samples = pd.read_table(\"../data/metadata_with_x_missing.txt\", sep=\" \")\n",
    "#Opening the zarr data\n",
    "callset = zarr.open_group(zarr_dir, mode='r')\n",
    "gt = allel.GenotypeArray(callset[\"calldata/GT\"])\n",
    "n_s = len(callset[\"samples\"]) #number of samples\n",
    "missingness = gt.is_missing()\n",
    "m_per_s = missingness.sum(axis=1)\n",
    "d = {\"m\": m_per_s, \"pos\": callset[\"variants/POS\"]}\n",
    "m_chr7_df = pd.DataFrame(data=d)"
   ]
  },
  {
   "cell_type": "code",
   "execution_count": 10,
   "metadata": {},
   "outputs": [
    {
     "data": {
      "image/png": "[encoded data removed]",
      "text/plain": [
       "<Figure size 432x288 with 1 Axes>"
      ]
     },
     "metadata": {},
     "output_type": "display_data"
    }
   ],
   "source": [
    "g = sns.histplot(m_chr7_df, x=\"m\")\n",
    "g.set_yscale(\"log\")"
   ]
  },
  {
   "cell_type": "markdown",
   "metadata": {},
   "source": [
    "Repeating X analysis based on zarr, and with the newer metadata generated in dp01"
   ]
  },
  {
   "cell_type": "code",
   "execution_count": 22,
   "metadata": {},
   "outputs": [],
   "source": [
    "zarr_dir = \"/faststorage/project/baboondiversity/data/PG_panu3_zarr_12_03_2021/callset.zarr/chrX\"\n",
    "meta_data_samples = pd.read_table(\"../data/metadata_with_x_missing.txt\", sep=\" \")\n",
    "#Opening the zarr data\n",
    "callset = zarr.open_group(zarr_dir, mode='r')\n",
    "gt = allel.GenotypeArray(callset[\"calldata/GT\"])"
   ]
  },
  {
   "cell_type": "code",
   "execution_count": 23,
   "metadata": {},
   "outputs": [],
   "source": [
    "n_s = len(callset[\"samples\"]) #number of samples\n",
    "missingness = gt.is_missing()\n",
    "m_per_s = missingness.sum(axis=1)\n",
    "d = {\"m\": m_per_s, \"pos\": callset[\"variants/POS\"]}\n",
    "m_zarr_df = pd.DataFrame(data=d)"
   ]
  },
  {
   "cell_type": "code",
   "execution_count": 24,
   "metadata": {},
   "outputs": [
    {
     "data": {
      "image/png": "[encoded data removed]",
      "text/plain": [
       "<Figure size 432x288 with 1 Axes>"
      ]
     },
     "metadata": {},
     "output_type": "display_data"
    }
   ],
   "source": [
    "g = sns.histplot(m_zarr_df, x=\"m\")\n",
    "g.set_yscale(\"log\")"
   ]
  },
  {
   "cell_type": "code",
   "execution_count": 27,
   "metadata": {},
   "outputs": [
    {
     "data": {
      "text/plain": [
       "0.9581963265065961"
      ]
     },
     "execution_count": 27,
     "metadata": {},
     "output_type": "execute_result"
    }
   ],
   "source": [
    "len(m_zarr_df.loc[m_zarr_df.m <= n_s*0.1])/len(m_zarr_df) #0.973 again\n",
    "len(m_zarr_df.loc[m_zarr_df.m <= n_s*0.05])/len(m_zarr_df) #0.958"
   ]
  },
  {
   "cell_type": "markdown",
   "metadata": {},
   "source": [
    "Now only with females and less than 1 % missing\n",
    "I notice now that I misread dp02 by a factor of 10 - the highest degree of missingness is 1,6 %, not 16 %"
   ]
  },
  {
   "cell_type": "code",
   "execution_count": 28,
   "metadata": {},
   "outputs": [
    {
     "data": {
      "text/plain": [
       "(0.0221632916121034, 99)"
      ]
     },
     "execution_count": 28,
     "metadata": {},
     "output_type": "execute_result"
    }
   ],
   "source": [
    "females = meta_data_samples.loc[(meta_data_samples.Sex == \"F\")]\n",
    "max(females[\"x_missing\"]), len(females)"
   ]
  },
  {
   "cell_type": "code",
   "execution_count": 29,
   "metadata": {},
   "outputs": [
    {
     "data": {
      "text/html": [
       "<div>\n",
       "<style scoped>\n",
       "    .dataframe tbody tr th:only-of-type {\n",
       "        vertical-align: middle;\n",
       "    }\n",
       "\n",
       "    .dataframe tbody tr th {\n",
       "        vertical-align: top;\n",
       "    }\n",
       "\n",
       "    .dataframe thead th {\n",
       "        text-align: right;\n",
       "    }\n",
       "</style>\n",
       "<table border=\"1\" class=\"dataframe\">\n",
       "  <thead>\n",
       "    <tr style=\"text-align: right;\">\n",
       "      <th></th>\n",
       "      <th>PGDP_ID</th>\n",
       "      <th>Provider_ID</th>\n",
       "      <th>Provider</th>\n",
       "      <th>Genus</th>\n",
       "      <th>Species</th>\n",
       "      <th>Origin</th>\n",
       "      <th>Sex</th>\n",
       "      <th>address</th>\n",
       "      <th>longitude</th>\n",
       "      <th>latitude</th>\n",
       "      <th>callset_index</th>\n",
       "      <th>C_origin</th>\n",
       "      <th>x_missing</th>\n",
       "    </tr>\n",
       "  </thead>\n",
       "  <tbody>\n",
       "    <tr>\n",
       "      <th>0</th>\n",
       "      <td>16066</td>\n",
       "      <td>16066_3130</td>\n",
       "      <td>Rogers</td>\n",
       "      <td>Papio</td>\n",
       "      <td>cynocephalus</td>\n",
       "      <td>Mikumi, Tanzania</td>\n",
       "      <td>F</td>\n",
       "      <td>Mikumi, Kilosa, Morogoro, Coastal Zone, Tanzania</td>\n",
       "      <td>36.977032</td>\n",
       "      <td>-7.404852</td>\n",
       "      <td>0</td>\n",
       "      <td>Cynocephalus, Central Tanzania</td>\n",
       "      <td>0.013908</td>\n",
       "    </tr>\n",
       "    <tr>\n",
       "      <th>1</th>\n",
       "      <td>16098</td>\n",
       "      <td>16098_5026</td>\n",
       "      <td>Rogers</td>\n",
       "      <td>Papio</td>\n",
       "      <td>cynocephalus</td>\n",
       "      <td>Mikumi, Tanzania</td>\n",
       "      <td>F</td>\n",
       "      <td>Mikumi, Kilosa, Morogoro, Coastal Zone, Tanzania</td>\n",
       "      <td>36.977032</td>\n",
       "      <td>-7.404852</td>\n",
       "      <td>1</td>\n",
       "      <td>Cynocephalus, Central Tanzania</td>\n",
       "      <td>0.013826</td>\n",
       "    </tr>\n",
       "    <tr>\n",
       "      <th>4</th>\n",
       "      <td>34449</td>\n",
       "      <td>34449_BZ11022</td>\n",
       "      <td>Rogers/Jolly/Phillips-Conroy</td>\n",
       "      <td>Papio</td>\n",
       "      <td>kindae</td>\n",
       "      <td>Chunga, Zambia</td>\n",
       "      <td>F</td>\n",
       "      <td>Chunga, Mumbwa District, Central Province, Zambia</td>\n",
       "      <td>26.005210</td>\n",
       "      <td>-15.053557</td>\n",
       "      <td>4</td>\n",
       "      <td>Kindae, Zambia</td>\n",
       "      <td>0.013498</td>\n",
       "    </tr>\n",
       "    <tr>\n",
       "      <th>5</th>\n",
       "      <td>34474</td>\n",
       "      <td>34474_BZ11050</td>\n",
       "      <td>Rogers/Jolly/Phillips-Conroy</td>\n",
       "      <td>Papio</td>\n",
       "      <td>kindae</td>\n",
       "      <td>Chunga, Zambia</td>\n",
       "      <td>F</td>\n",
       "      <td>Chunga, Mumbwa District, Central Province, Zambia</td>\n",
       "      <td>26.005210</td>\n",
       "      <td>-15.053557</td>\n",
       "      <td>5</td>\n",
       "      <td>Kindae, Zambia</td>\n",
       "      <td>0.013767</td>\n",
       "    </tr>\n",
       "    <tr>\n",
       "      <th>6</th>\n",
       "      <td>38168</td>\n",
       "      <td>38168_891096</td>\n",
       "      <td>Jolly/Bronx Zoo</td>\n",
       "      <td>Theropithecus</td>\n",
       "      <td>gelada</td>\n",
       "      <td>captive</td>\n",
       "      <td>F</td>\n",
       "      <td>SDSU Captive Wildlife Research Facility, Brook...</td>\n",
       "      <td>-96.793280</td>\n",
       "      <td>44.334031</td>\n",
       "      <td>6</td>\n",
       "      <td>Gelada, Captive</td>\n",
       "      <td>0.022163</td>\n",
       "    </tr>\n",
       "    <tr>\n",
       "      <th>...</th>\n",
       "      <td>...</td>\n",
       "      <td>...</td>\n",
       "      <td>...</td>\n",
       "      <td>...</td>\n",
       "      <td>...</td>\n",
       "      <td>...</td>\n",
       "      <td>...</td>\n",
       "      <td>...</td>\n",
       "      <td>...</td>\n",
       "      <td>...</td>\n",
       "      <td>...</td>\n",
       "      <td>...</td>\n",
       "      <td>...</td>\n",
       "    </tr>\n",
       "    <tr>\n",
       "      <th>220</th>\n",
       "      <td>PD_0788</td>\n",
       "      <td>34413_BZ11060</td>\n",
       "      <td>Rogers/Jolly/Phillips-Conroy</td>\n",
       "      <td>Papio</td>\n",
       "      <td>kindae</td>\n",
       "      <td>Chunga, Zambia</td>\n",
       "      <td>F</td>\n",
       "      <td>Chunga, Mumbwa District, Central Province, Zambia</td>\n",
       "      <td>26.005210</td>\n",
       "      <td>-15.053557</td>\n",
       "      <td>220</td>\n",
       "      <td>Kindae, Zambia</td>\n",
       "      <td>0.010075</td>\n",
       "    </tr>\n",
       "    <tr>\n",
       "      <th>221</th>\n",
       "      <td>PD_0789</td>\n",
       "      <td>34417_BZ11064</td>\n",
       "      <td>Rogers/Jolly/Phillips-Conroy</td>\n",
       "      <td>Papio</td>\n",
       "      <td>kindae</td>\n",
       "      <td>Chunga, Zambia</td>\n",
       "      <td>F</td>\n",
       "      <td>Chunga, Mumbwa District, Central Province, Zambia</td>\n",
       "      <td>26.005210</td>\n",
       "      <td>-15.053557</td>\n",
       "      <td>221</td>\n",
       "      <td>Kindae, Zambia</td>\n",
       "      <td>0.010196</td>\n",
       "    </tr>\n",
       "    <tr>\n",
       "      <th>222</th>\n",
       "      <td>PD_0790</td>\n",
       "      <td>34418_BZ11065</td>\n",
       "      <td>Rogers/Jolly/Phillips-Conroy</td>\n",
       "      <td>Papio</td>\n",
       "      <td>kindae</td>\n",
       "      <td>Chunga, Zambia</td>\n",
       "      <td>F</td>\n",
       "      <td>Chunga, Mumbwa District, Central Province, Zambia</td>\n",
       "      <td>26.005210</td>\n",
       "      <td>-15.053557</td>\n",
       "      <td>222</td>\n",
       "      <td>Kindae, Zambia</td>\n",
       "      <td>0.009835</td>\n",
       "    </tr>\n",
       "    <tr>\n",
       "      <th>223</th>\n",
       "      <td>PD_0791</td>\n",
       "      <td>34419_BZ11066</td>\n",
       "      <td>Rogers/Jolly/Phillips-Conroy</td>\n",
       "      <td>Papio</td>\n",
       "      <td>kindae</td>\n",
       "      <td>Chunga, Zambia</td>\n",
       "      <td>F</td>\n",
       "      <td>Chunga, Mumbwa District, Central Province, Zambia</td>\n",
       "      <td>26.005210</td>\n",
       "      <td>-15.053557</td>\n",
       "      <td>223</td>\n",
       "      <td>Kindae, Zambia</td>\n",
       "      <td>0.009672</td>\n",
       "    </tr>\n",
       "    <tr>\n",
       "      <th>224</th>\n",
       "      <td>PD_0792</td>\n",
       "      <td>34420_BZ11067</td>\n",
       "      <td>Rogers/Jolly/Phillips-Conroy</td>\n",
       "      <td>Papio</td>\n",
       "      <td>kindae</td>\n",
       "      <td>Chunga, Zambia</td>\n",
       "      <td>F</td>\n",
       "      <td>Chunga, Mumbwa District, Central Province, Zambia</td>\n",
       "      <td>26.005210</td>\n",
       "      <td>-15.053557</td>\n",
       "      <td>224</td>\n",
       "      <td>Kindae, Zambia</td>\n",
       "      <td>0.010119</td>\n",
       "    </tr>\n",
       "  </tbody>\n",
       "</table>\n",
       "<p>99 rows × 13 columns</p>\n",
       "</div>"
      ],
      "text/plain": [
       "     PGDP_ID    Provider_ID                      Provider           Genus  \\\n",
       "0      16066     16066_3130                        Rogers           Papio   \n",
       "1      16098     16098_5026                        Rogers           Papio   \n",
       "4      34449  34449_BZ11022  Rogers/Jolly/Phillips-Conroy           Papio   \n",
       "5      34474  34474_BZ11050  Rogers/Jolly/Phillips-Conroy           Papio   \n",
       "6      38168   38168_891096               Jolly/Bronx Zoo  Theropithecus    \n",
       "..       ...            ...                           ...             ...   \n",
       "220  PD_0788  34413_BZ11060  Rogers/Jolly/Phillips-Conroy           Papio   \n",
       "221  PD_0789  34417_BZ11064  Rogers/Jolly/Phillips-Conroy           Papio   \n",
       "222  PD_0790  34418_BZ11065  Rogers/Jolly/Phillips-Conroy           Papio   \n",
       "223  PD_0791  34419_BZ11066  Rogers/Jolly/Phillips-Conroy           Papio   \n",
       "224  PD_0792  34420_BZ11067  Rogers/Jolly/Phillips-Conroy           Papio   \n",
       "\n",
       "          Species            Origin Sex  \\\n",
       "0    cynocephalus  Mikumi, Tanzania   F   \n",
       "1    cynocephalus  Mikumi, Tanzania   F   \n",
       "4          kindae    Chunga, Zambia   F   \n",
       "5          kindae    Chunga, Zambia   F   \n",
       "6          gelada           captive   F   \n",
       "..            ...               ...  ..   \n",
       "220        kindae    Chunga, Zambia   F   \n",
       "221        kindae    Chunga, Zambia   F   \n",
       "222        kindae    Chunga, Zambia   F   \n",
       "223        kindae    Chunga, Zambia   F   \n",
       "224        kindae    Chunga, Zambia   F   \n",
       "\n",
       "                                               address  longitude   latitude  \\\n",
       "0     Mikumi, Kilosa, Morogoro, Coastal Zone, Tanzania  36.977032  -7.404852   \n",
       "1     Mikumi, Kilosa, Morogoro, Coastal Zone, Tanzania  36.977032  -7.404852   \n",
       "4    Chunga, Mumbwa District, Central Province, Zambia  26.005210 -15.053557   \n",
       "5    Chunga, Mumbwa District, Central Province, Zambia  26.005210 -15.053557   \n",
       "6    SDSU Captive Wildlife Research Facility, Brook... -96.793280  44.334031   \n",
       "..                                                 ...        ...        ...   \n",
       "220  Chunga, Mumbwa District, Central Province, Zambia  26.005210 -15.053557   \n",
       "221  Chunga, Mumbwa District, Central Province, Zambia  26.005210 -15.053557   \n",
       "222  Chunga, Mumbwa District, Central Province, Zambia  26.005210 -15.053557   \n",
       "223  Chunga, Mumbwa District, Central Province, Zambia  26.005210 -15.053557   \n",
       "224  Chunga, Mumbwa District, Central Province, Zambia  26.005210 -15.053557   \n",
       "\n",
       "     callset_index                        C_origin  x_missing  \n",
       "0                0  Cynocephalus, Central Tanzania   0.013908  \n",
       "1                1  Cynocephalus, Central Tanzania   0.013826  \n",
       "4                4                  Kindae, Zambia   0.013498  \n",
       "5                5                  Kindae, Zambia   0.013767  \n",
       "6                6                 Gelada, Captive   0.022163  \n",
       "..             ...                             ...        ...  \n",
       "220            220                  Kindae, Zambia   0.010075  \n",
       "221            221                  Kindae, Zambia   0.010196  \n",
       "222            222                  Kindae, Zambia   0.009835  \n",
       "223            223                  Kindae, Zambia   0.009672  \n",
       "224            224                  Kindae, Zambia   0.010119  \n",
       "\n",
       "[99 rows x 13 columns]"
      ]
     },
     "execution_count": 29,
     "metadata": {},
     "output_type": "execute_result"
    }
   ],
   "source": [
    "females"
   ]
  },
  {
   "cell_type": "code",
   "execution_count": 30,
   "metadata": {},
   "outputs": [
    {
     "data": {
      "text/plain": [
       "89"
      ]
     },
     "execution_count": 30,
     "metadata": {},
     "output_type": "execute_result"
    }
   ],
   "source": [
    "IDs = (meta_data_samples.loc[(meta_data_samples.x_missing <= 0.01)\n",
    "                             & (meta_data_samples.Sex == \"F\")]).callset_index.values\n",
    "len(IDs)"
   ]
  },
  {
   "cell_type": "code",
   "execution_count": 31,
   "metadata": {},
   "outputs": [
    {
     "data": {
      "text/html": [
       "<div class=\"allel allel-DisplayAs2D\"><span>&lt;GenotypeArray shape=(2923212, 227, 2) dtype=int8&gt;</span><table><thead><tr><th></th><th style=\"text-align: center\">0</th><th style=\"text-align: center\">1</th><th style=\"text-align: center\">2</th><th style=\"text-align: center\">3</th><th style=\"text-align: center\">4</th><th style=\"text-align: center\">...</th><th style=\"text-align: center\">222</th><th style=\"text-align: center\">223</th><th style=\"text-align: center\">224</th><th style=\"text-align: center\">225</th><th style=\"text-align: center\">226</th></tr></thead><tbody><tr><th style=\"text-align: center; background-color: white; border-right: 1px solid black; \">0</th><td style=\"text-align: center\">1/1</td><td style=\"text-align: center\">1/1</td><td style=\"text-align: center\">0/0</td><td style=\"text-align: center\">./.</td><td style=\"text-align: center\">0/0</td><td style=\"text-align: center\">...</td><td style=\"text-align: center\">0/0</td><td style=\"text-align: center\">0/0</td><td style=\"text-align: center\">./.</td><td style=\"text-align: center\">0/1</td><td style=\"text-align: center\">0/1</td></tr><tr><th style=\"text-align: center; background-color: white; border-right: 1px solid black; \">1</th><td style=\"text-align: center\">1/1</td><td style=\"text-align: center\">0/1</td><td style=\"text-align: center\">0/0</td><td style=\"text-align: center\">./.</td><td style=\"text-align: center\">0/0</td><td style=\"text-align: center\">...</td><td style=\"text-align: center\">0/0</td><td style=\"text-align: center\">0/0</td><td style=\"text-align: center\">./.</td><td style=\"text-align: center\">0/1</td><td style=\"text-align: center\">0/1</td></tr><tr><th style=\"text-align: center; background-color: white; border-right: 1px solid black; \">2</th><td style=\"text-align: center\">0/1</td><td style=\"text-align: center\">0/0</td><td style=\"text-align: center\">0/0</td><td style=\"text-align: center\">1/1</td><td style=\"text-align: center\">0/0</td><td style=\"text-align: center\">...</td><td style=\"text-align: center\">0/1</td><td style=\"text-align: center\">0/0</td><td style=\"text-align: center\">0/1</td><td style=\"text-align: center\">0/0</td><td style=\"text-align: center\">0/0</td></tr><tr><th style=\"text-align: center; background-color: white; border-right: 1px solid black; \">...</th><td style=\"text-align: center\" colspan=\"12\">...</td></tr><tr><th style=\"text-align: center; background-color: white; border-right: 1px solid black; \">2923209</th><td style=\"text-align: center\">0/0</td><td style=\"text-align: center\">0/0</td><td style=\"text-align: center\">0/0</td><td style=\"text-align: center\">0/0</td><td style=\"text-align: center\">0/0</td><td style=\"text-align: center\">...</td><td style=\"text-align: center\">0/0</td><td style=\"text-align: center\">0/0</td><td style=\"text-align: center\">0/0</td><td style=\"text-align: center\">0/0</td><td style=\"text-align: center\">0/0</td></tr><tr><th style=\"text-align: center; background-color: white; border-right: 1px solid black; \">2923210</th><td style=\"text-align: center\">0/0</td><td style=\"text-align: center\">0/0</td><td style=\"text-align: center\">0/0</td><td style=\"text-align: center\">0/0</td><td style=\"text-align: center\">0/0</td><td style=\"text-align: center\">...</td><td style=\"text-align: center\">0/0</td><td style=\"text-align: center\">0/0</td><td style=\"text-align: center\">0/0</td><td style=\"text-align: center\">0/0</td><td style=\"text-align: center\">0/0</td></tr><tr><th style=\"text-align: center; background-color: white; border-right: 1px solid black; \">2923211</th><td style=\"text-align: center\">./.</td><td style=\"text-align: center\">1/1</td><td style=\"text-align: center\">0/1</td><td style=\"text-align: center\">1/1</td><td style=\"text-align: center\">1/1</td><td style=\"text-align: center\">...</td><td style=\"text-align: center\">1/1</td><td style=\"text-align: center\">1/1</td><td style=\"text-align: center\">./.</td><td style=\"text-align: center\">1/1</td><td style=\"text-align: center\">1/1</td></tr></tbody></table></div>"
      ],
      "text/plain": [
       "<GenotypeArray shape=(2923212, 227, 2) dtype=int8>\n",
       "1/1 1/1 0/0 ./. 0/0 ... 0/0 0/0 ./. 0/1 0/1\n",
       "1/1 0/1 0/0 ./. 0/0 ... 0/0 0/0 ./. 0/1 0/1\n",
       "0/1 0/0 0/0 1/1 0/0 ... 0/1 0/0 0/1 0/0 0/0\n",
       "...\n",
       "0/0 0/0 0/0 0/0 0/0 ... 0/0 0/0 0/0 0/0 0/0\n",
       "0/0 0/0 0/0 0/0 0/0 ... 0/0 0/0 0/0 0/0 0/0\n",
       "./. 1/1 0/1 1/1 1/1 ... 1/1 1/1 ./. 1/1 1/1"
      ]
     },
     "execution_count": 31,
     "metadata": {},
     "output_type": "execute_result"
    }
   ],
   "source": [
    "gt"
   ]
  },
  {
   "cell_type": "code",
   "execution_count": 32,
   "metadata": {},
   "outputs": [],
   "source": [
    "gt_females = gt.take(IDs, axis=1)"
   ]
  },
  {
   "cell_type": "code",
   "execution_count": 33,
   "metadata": {},
   "outputs": [],
   "source": [
    "n_s = len(IDs) #number of samples\n",
    "missingness = gt_females.is_missing()\n",
    "m_per_s = missingness.sum(axis=1)\n",
    "d = {\"m\": m_per_s, \"pos\": callset[\"variants/POS\"]}\n",
    "m_zarr_f_df = pd.DataFrame(data=d)"
   ]
  },
  {
   "cell_type": "code",
   "execution_count": 34,
   "metadata": {},
   "outputs": [
    {
     "data": {
      "image/png": "[encoded data removed]",
      "text/plain": [
       "<Figure size 432x288 with 1 Axes>"
      ]
     },
     "metadata": {},
     "output_type": "display_data"
    }
   ],
   "source": [
    "g = sns.histplot(m_zarr_f_df, x=\"m\")\n",
    "g.set_yscale(\"log\")"
   ]
  },
  {
   "cell_type": "code",
   "execution_count": 35,
   "metadata": {},
   "outputs": [
    {
     "data": {
      "text/plain": [
       "(0.9852378137473436, 0.9765336896537097)"
      ]
     },
     "execution_count": 35,
     "metadata": {},
     "output_type": "execute_result"
    }
   ],
   "source": [
    "len(m_zarr_f_df.loc[m_zarr_f_df.m <= n_s*0.1])/len(m_zarr_df),len(m_zarr_f_df.loc[m_zarr_f_df.m <= n_s*0.05])/len(m_zarr_df) #0.96"
   ]
  },
  {
   "cell_type": "markdown",
   "metadata": {},
   "source": [
    "Picking out the sites to keep:"
   ]
  },
  {
   "cell_type": "code",
   "execution_count": 36,
   "metadata": {},
   "outputs": [
    {
     "data": {
      "text/plain": [
       "2923212"
      ]
     },
     "execution_count": 36,
     "metadata": {},
     "output_type": "execute_result"
    }
   ],
   "source": [
    "len(m_per_s <= n_s*0.05) #2923212, all sites as it is a boolean"
   ]
  },
  {
   "cell_type": "code",
   "execution_count": 38,
   "metadata": {},
   "outputs": [
    {
     "data": {
      "text/plain": [
       "2854615"
      ]
     },
     "execution_count": 38,
     "metadata": {},
     "output_type": "execute_result"
    }
   ],
   "source": [
    "len(np.nonzero(m_per_s <= n_s*0.05)[0]) #2854615 sites"
   ]
  },
  {
   "cell_type": "code",
   "execution_count": null,
   "metadata": {},
   "outputs": [],
   "source": [
    "len(np.nonzero(m_per_s <= n_s*0.05)[0])/len(m_per_s <= n_s*0.05)"
   ]
  },
  {
   "cell_type": "markdown",
   "metadata": {},
   "source": [
    "To avoid saving too many intermediate files, I am also going to do the rest of the site filtering in this notebook.\n",
    "First, looking into the inbreeding coefficient."
   ]
  },
  {
   "cell_type": "code",
   "execution_count": null,
   "metadata": {},
   "outputs": [],
   "source": [
    "gt_missing_filter = gt_females.take(np.nonzero(m_per_s <= n_s*0.05)[0])\n",
    "gt_missing_filter"
   ]
  },
  {
   "cell_type": "code",
   "execution_count": null,
   "metadata": {},
   "outputs": [],
   "source": [
    "obs_het = allel.heterozygosity_observed(gt_females)"
   ]
  },
  {
   "cell_type": "markdown",
   "metadata": {},
   "source": [
    "Quick simulation to check the expected distribution of coefficients given true allele freq of 0.5:"
   ]
  },
  {
   "cell_type": "code",
   "execution_count": null,
   "metadata": {},
   "outputs": [],
   "source": [
    "sim_het = np.random.binomial(n_s, 0.5, 10000000)/n_s #n_s is the number of samples\n",
    "sim_inbreed = 1-sim_het/0.5"
   ]
  },
  {
   "cell_type": "code",
   "execution_count": null,
   "metadata": {},
   "outputs": [],
   "source": [
    "d = {\"sim_inbreed\": sim_inbreed}\n",
    "sim = pd.DataFrame(data=d)\n",
    "g = sns.histplot(sim, x=\"sim_inbreed\", bins=n_s)"
   ]
  },
  {
   "cell_type": "code",
   "execution_count": null,
   "metadata": {},
   "outputs": [],
   "source": [
    "sim[\"sim_inbreed\"].quantile(0.005)"
   ]
  },
  {
   "cell_type": "markdown",
   "metadata": {},
   "source": [
    "Fill determines what to do when expected heterozygosity = 0, which means that the site is invariant.\n",
    "I can set the inbreeding to be -2 there, but choose to set it as 0 to not filter those sites. For shared variants, fixed derived has some interests."
   ]
  },
  {
   "cell_type": "code",
   "execution_count": null,
   "metadata": {},
   "outputs": [],
   "source": [
    "inbreeding = allel.inbreeding_coefficient(gt_females, fill=0)"
   ]
  },
  {
   "cell_type": "code",
   "execution_count": null,
   "metadata": {},
   "outputs": [],
   "source": [
    "d = {\"inbreeding\": inbreeding}\n",
    "hw_df = pd.DataFrame(data=d)"
   ]
  },
  {
   "cell_type": "code",
   "execution_count": null,
   "metadata": {},
   "outputs": [],
   "source": [
    "g = sns.histplot(hw_df, x=\"inbreeding\", bins=25)\n",
    "g.set_yscale(\"log\")"
   ]
  },
  {
   "cell_type": "code",
   "execution_count": null,
   "metadata": {},
   "outputs": [],
   "source": [
    "sub_hw = hw_df.loc[(hw_df.inbreeding > -0.3) & (hw_df.inbreeding < 0.3)]\n",
    "g = sns.histplot(sub_hw, x=\"inbreeding\", bins=25)\n",
    "g.set_yscale(\"log\")"
   ]
  },
  {
   "cell_type": "code",
   "execution_count": null,
   "metadata": {},
   "outputs": [],
   "source": [
    "sum((inbreeding > -0.3) & (inbreeding <= 1))/len(inbreeding)"
   ]
  },
  {
   "cell_type": "code",
   "execution_count": null,
   "metadata": {},
   "outputs": [],
   "source": [
    "sum(inbreeding > -0.3)"
   ]
  },
  {
   "cell_type": "code",
   "execution_count": null,
   "metadata": {},
   "outputs": [],
   "source": [
    "kept_i = np.nonzero((m_per_s <= n_s*0.05) & (inbreeding > -0.3))[0]\n",
    "len(kept_i)/len(inbreeding)"
   ]
  },
  {
   "cell_type": "code",
   "execution_count": null,
   "metadata": {},
   "outputs": [],
   "source": [
    "np.save(\"../data/kept_pos_x_female\", kept_i)"
   ]
  },
  {
   "cell_type": "markdown",
   "metadata": {},
   "source": [
    "As a last check, here is how it looks when investigating inbreeding after having removed missing:"
   ]
  },
  {
   "cell_type": "code",
   "execution_count": null,
   "metadata": {},
   "outputs": [],
   "source": [
    "inbreeding = allel.inbreeding_coefficient(gt_missing_filter, fill=0)\n",
    "d = {\"inbreeding\": inbreeding}\n",
    "hw_df = pd.DataFrame(data=d)\n",
    "g = sns.histplot(hw_df, x=\"inbreeding\", bins=25)\n",
    "g.set_yscale(\"log\")"
   ]
  }
 ],
 "metadata": {
  "kernelspec": {
   "display_name": "Python 3",
   "language": "python",
   "name": "python3"
  },
  "language_info": {
   "codemirror_mode": {
    "name": "ipython",
    "version": 3
   },
   "file_extension": ".py",
   "mimetype": "text/x-python",
   "name": "python",
   "nbconvert_exporter": "python",
   "pygments_lexer": "ipython3",
   "version": "3.7.9"
  }
 },
 "nbformat": 4,
 "nbformat_minor": 4
}
