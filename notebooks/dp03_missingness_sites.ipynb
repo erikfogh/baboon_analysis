{
 "cells": [
  {
   "cell_type": "markdown",
   "metadata": {},
   "source": [
    "In this notebook, I will investigate the degree of missingness. First on the X, and then the autosomes."
   ]
  },
  {
   "cell_type": "code",
   "execution_count": 2,
   "metadata": {},
   "outputs": [],
   "source": [
    "%run ../scripts/notebook_settings.py"
   ]
  },
  {
   "cell_type": "code",
   "execution_count": 3,
   "metadata": {},
   "outputs": [],
   "source": [
    "meta_data_samples = pd.read_excel(\"../data/New_Papio.xlsx\")\n",
    "vcf_dir = \"/faststorage/project/primatediversity/data/PG_baboons_pananu3_23_2_2021/\"\n",
    "vcf_names = \"output.filtered.snps.{}.removed.AB.pass.vep.vcf.gz\"\n",
    "vcf_path = vcf_dir+vcf_names\n",
    "meta_data_samples = meta_data_samples.loc[meta_data_samples.Origin != \"captive\"] #Removing captive individual\n",
    "vcf_callset = allel.read_vcf(vcf_path.format(\"chrX\"), samples=meta_data_samples[\"PGDP_ID\"].tolist())"
   ]
  },
  {
   "cell_type": "markdown",
   "metadata": {},
   "source": [
    "Code burrowed from Kasper the make the callset_indexes."
   ]
  },
  {
   "cell_type": "code",
   "execution_count": 3,
   "metadata": {},
   "outputs": [
    {
     "data": {
      "text/html": [
       "<div>\n",
       "<style scoped>\n",
       "    .dataframe tbody tr th:only-of-type {\n",
       "        vertical-align: middle;\n",
       "    }\n",
       "\n",
       "    .dataframe tbody tr th {\n",
       "        vertical-align: top;\n",
       "    }\n",
       "\n",
       "    .dataframe thead th {\n",
       "        text-align: right;\n",
       "    }\n",
       "</style>\n",
       "<table border=\"1\" class=\"dataframe\">\n",
       "  <thead>\n",
       "    <tr style=\"text-align: right;\">\n",
       "      <th></th>\n",
       "      <th>PGDP_ID</th>\n",
       "      <th>Provider_ID</th>\n",
       "      <th>Provider</th>\n",
       "      <th>Genus</th>\n",
       "      <th>Species</th>\n",
       "      <th>Origin</th>\n",
       "      <th>Sex</th>\n",
       "      <th>callset_index</th>\n",
       "    </tr>\n",
       "  </thead>\n",
       "  <tbody>\n",
       "    <tr>\n",
       "      <th>1</th>\n",
       "      <td>PD_0199</td>\n",
       "      <td>09SNF1101115</td>\n",
       "      <td>Knauf/Chuma/Roos</td>\n",
       "      <td>Papio</td>\n",
       "      <td>anubis</td>\n",
       "      <td>Serengeti, Tanzania</td>\n",
       "      <td>F</td>\n",
       "      <td>0</td>\n",
       "    </tr>\n",
       "    <tr>\n",
       "      <th>2</th>\n",
       "      <td>PD_0200</td>\n",
       "      <td>11SNF1101115</td>\n",
       "      <td>Knauf/Chuma/Roos</td>\n",
       "      <td>Papio</td>\n",
       "      <td>anubis</td>\n",
       "      <td>Serengeti, Tanzania</td>\n",
       "      <td>F</td>\n",
       "      <td>1</td>\n",
       "    </tr>\n",
       "    <tr>\n",
       "      <th>3</th>\n",
       "      <td>PD_0201</td>\n",
       "      <td>19SNM1131115</td>\n",
       "      <td>Knauf/Chuma/Roos</td>\n",
       "      <td>Papio</td>\n",
       "      <td>anubis</td>\n",
       "      <td>Serengeti, Tanzania</td>\n",
       "      <td>M</td>\n",
       "      <td>2</td>\n",
       "    </tr>\n",
       "    <tr>\n",
       "      <th>4</th>\n",
       "      <td>PD_0202</td>\n",
       "      <td>20SNF1131115</td>\n",
       "      <td>Knauf/Chuma/Roos</td>\n",
       "      <td>Papio</td>\n",
       "      <td>anubis</td>\n",
       "      <td>Serengeti, Tanzania</td>\n",
       "      <td>F</td>\n",
       "      <td>3</td>\n",
       "    </tr>\n",
       "    <tr>\n",
       "      <th>5</th>\n",
       "      <td>PD_0203</td>\n",
       "      <td>21SNF1151115</td>\n",
       "      <td>Knauf/Chuma/Roos</td>\n",
       "      <td>Papio</td>\n",
       "      <td>anubis</td>\n",
       "      <td>Serengeti, Tanzania</td>\n",
       "      <td>F</td>\n",
       "      <td>4</td>\n",
       "    </tr>\n",
       "    <tr>\n",
       "      <th>...</th>\n",
       "      <td>...</td>\n",
       "      <td>...</td>\n",
       "      <td>...</td>\n",
       "      <td>...</td>\n",
       "      <td>...</td>\n",
       "      <td>...</td>\n",
       "      <td>...</td>\n",
       "      <td>...</td>\n",
       "    </tr>\n",
       "    <tr>\n",
       "      <th>213</th>\n",
       "      <td>PD_0790</td>\n",
       "      <td>34418_BZ11065</td>\n",
       "      <td>Rogers/Jolly/Phillips-Conroy</td>\n",
       "      <td>Papio</td>\n",
       "      <td>kindae</td>\n",
       "      <td>Chunga, Zambia</td>\n",
       "      <td>F</td>\n",
       "      <td>212</td>\n",
       "    </tr>\n",
       "    <tr>\n",
       "      <th>214</th>\n",
       "      <td>PD_0791</td>\n",
       "      <td>34419_BZ11066</td>\n",
       "      <td>Rogers/Jolly/Phillips-Conroy</td>\n",
       "      <td>Papio</td>\n",
       "      <td>kindae</td>\n",
       "      <td>Chunga, Zambia</td>\n",
       "      <td>F</td>\n",
       "      <td>213</td>\n",
       "    </tr>\n",
       "    <tr>\n",
       "      <th>215</th>\n",
       "      <td>PD_0792</td>\n",
       "      <td>34420_BZ11067</td>\n",
       "      <td>Rogers/Jolly/Phillips-Conroy</td>\n",
       "      <td>Papio</td>\n",
       "      <td>kindae</td>\n",
       "      <td>Chunga, Zambia</td>\n",
       "      <td>F</td>\n",
       "      <td>214</td>\n",
       "    </tr>\n",
       "    <tr>\n",
       "      <th>216</th>\n",
       "      <td>PD_0793</td>\n",
       "      <td>34422_BZ11070</td>\n",
       "      <td>Rogers/Jolly/Phillips-Conroy</td>\n",
       "      <td>Papio</td>\n",
       "      <td>kindae</td>\n",
       "      <td>Chunga, Zambia</td>\n",
       "      <td>M</td>\n",
       "      <td>215</td>\n",
       "    </tr>\n",
       "    <tr>\n",
       "      <th>217</th>\n",
       "      <td>PD_0794_BAB</td>\n",
       "      <td>34423_BZ11071</td>\n",
       "      <td>Rogers/Jolly/Phillips-Conroy</td>\n",
       "      <td>Papio</td>\n",
       "      <td>kindae</td>\n",
       "      <td>Chunga, Zambia</td>\n",
       "      <td>M</td>\n",
       "      <td>216</td>\n",
       "    </tr>\n",
       "  </tbody>\n",
       "</table>\n",
       "<p>217 rows × 8 columns</p>\n",
       "</div>"
      ],
      "text/plain": [
       "         PGDP_ID    Provider_ID                      Provider  Genus Species  \\\n",
       "1        PD_0199   09SNF1101115              Knauf/Chuma/Roos  Papio  anubis   \n",
       "2        PD_0200   11SNF1101115              Knauf/Chuma/Roos  Papio  anubis   \n",
       "3        PD_0201   19SNM1131115              Knauf/Chuma/Roos  Papio  anubis   \n",
       "4        PD_0202   20SNF1131115              Knauf/Chuma/Roos  Papio  anubis   \n",
       "5        PD_0203   21SNF1151115              Knauf/Chuma/Roos  Papio  anubis   \n",
       "..           ...            ...                           ...    ...     ...   \n",
       "213      PD_0790  34418_BZ11065  Rogers/Jolly/Phillips-Conroy  Papio  kindae   \n",
       "214      PD_0791  34419_BZ11066  Rogers/Jolly/Phillips-Conroy  Papio  kindae   \n",
       "215      PD_0792  34420_BZ11067  Rogers/Jolly/Phillips-Conroy  Papio  kindae   \n",
       "216      PD_0793  34422_BZ11070  Rogers/Jolly/Phillips-Conroy  Papio  kindae   \n",
       "217  PD_0794_BAB  34423_BZ11071  Rogers/Jolly/Phillips-Conroy  Papio  kindae   \n",
       "\n",
       "                  Origin Sex  callset_index  \n",
       "1    Serengeti, Tanzania   F              0  \n",
       "2    Serengeti, Tanzania   F              1  \n",
       "3    Serengeti, Tanzania   M              2  \n",
       "4    Serengeti, Tanzania   F              3  \n",
       "5    Serengeti, Tanzania   F              4  \n",
       "..                   ...  ..            ...  \n",
       "213       Chunga, Zambia   F            212  \n",
       "214       Chunga, Zambia   F            213  \n",
       "215       Chunga, Zambia   F            214  \n",
       "216       Chunga, Zambia   M            215  \n",
       "217       Chunga, Zambia   M            216  \n",
       "\n",
       "[217 rows x 8 columns]"
      ]
     },
     "execution_count": 3,
     "metadata": {},
     "output_type": "execute_result"
    }
   ],
   "source": [
    "samples_list = list(vcf_callset['samples'][:])\n",
    "samples_callset_index = [samples_list.index(s) for s in meta_data_samples.PGDP_ID]\n",
    "meta_data_samples['callset_index'] = samples_callset_index\n",
    "meta_data_samples"
   ]
  },
  {
   "cell_type": "markdown",
   "metadata": {},
   "source": [
    "Creating the gt dataframe"
   ]
  },
  {
   "cell_type": "code",
   "execution_count": 4,
   "metadata": {},
   "outputs": [],
   "source": [
    "gt = allel.GenotypeArray(vcf_callset[\"calldata/GT\"])\n",
    "n_s = len(vcf_callset[\"samples\"]) #number of samples"
   ]
  },
  {
   "cell_type": "markdown",
   "metadata": {},
   "source": [
    "Calculating and plotting missingness"
   ]
  },
  {
   "cell_type": "code",
   "execution_count": 5,
   "metadata": {},
   "outputs": [],
   "source": [
    "missingness = gt.is_missing()"
   ]
  },
  {
   "cell_type": "code",
   "execution_count": 6,
   "metadata": {},
   "outputs": [],
   "source": [
    "m_per_s = missingness.sum(axis=1)"
   ]
  },
  {
   "cell_type": "code",
   "execution_count": 7,
   "metadata": {},
   "outputs": [],
   "source": [
    "d = {\"m\": m_per_s, \"pos\": vcf_callset[\"variants/POS\"]}\n",
    "m_df = pd.DataFrame(data=d)"
   ]
  },
  {
   "cell_type": "code",
   "execution_count": 8,
   "metadata": {},
   "outputs": [
    {
     "data": {
      "image/png": "[encoded data removed]",
      "text/plain": [
       "<Figure size 432x288 with 1 Axes>"
      ]
     },
     "metadata": {},
     "output_type": "display_data"
    }
   ],
   "source": [
    "g = sns.histplot(m_df, x=\"m\")\n",
    "g.set_yscale(\"log\")"
   ]
  },
  {
   "cell_type": "code",
   "execution_count": 22,
   "metadata": {
    "scrolled": true
   },
   "outputs": [
    {
     "data": {
      "text/plain": [
       "0.9864005758049706"
      ]
     },
     "execution_count": 22,
     "metadata": {},
     "output_type": "execute_result"
    }
   ],
   "source": [
    "len(m_df.loc[m_df.m == n_s]) #99 sites with no calls, comes from the captive/old individuals\n",
    "len(m_df.loc[m_df.m == 0]) #2572788 sites with no missing\n",
    "len(m_df.loc[m_df.m == 0])/len(m_df) #0.880 of sites has no missing\n",
    "len(m_df.loc[m_df.m <= n_s*0.1])/len(m_df) #0.973 of sites has less than 10 % missing\n",
    "len(m_df.loc[m_df.m <= n_s*0.2])/len(m_df) #0.986 of sites has less than 20 % missing"
   ]
  },
  {
   "cell_type": "markdown",
   "metadata": {},
   "source": [
    "Same analysis, now on chr7"
   ]
  },
  {
   "cell_type": "code",
   "execution_count": 4,
   "metadata": {},
   "outputs": [],
   "source": [
    "vcf_callset = allel.read_vcf(vcf_path.format(\"chr7\"), samples=meta_data_samples[\"PGDP_ID\"].tolist())\n",
    "gt = allel.GenotypeArray(vcf_callset[\"calldata/GT\"])\n",
    "n_s = len(vcf_callset[\"samples\"]) #number of samples\n",
    "missingness = gt.is_missing()\n",
    "m_per_s = missingness.sum(axis=1)\n",
    "d = {\"m\": m_per_s, \"pos\": vcf_callset[\"variants/POS\"]}\n",
    "m_chr7_df = pd.DataFrame(data=d)"
   ]
  },
  {
   "cell_type": "code",
   "execution_count": 5,
   "metadata": {},
   "outputs": [
    {
     "data": {
      "image/png": "[encoded data removed]",
      "text/plain": [
       "<Figure size 432x288 with 1 Axes>"
      ]
     },
     "metadata": {},
     "output_type": "display_data"
    }
   ],
   "source": [
    "g = sns.histplot(m_chr7_df, x=\"m\")\n",
    "g.set_yscale(\"log\")"
   ]
  },
  {
   "cell_type": "markdown",
   "metadata": {},
   "source": [
    "Repeating X analysis based on zarr, and with the newer metadata generated in dp01"
   ]
  },
  {
   "cell_type": "code",
   "execution_count": 14,
   "metadata": {},
   "outputs": [],
   "source": [
    "zarr_dir = \"/faststorage/project/baboondiversity/data/PG_panu3_zarr_01_03_2021/callset.zarr/chrX\"\n",
    "meta_data_samples = pd.read_table(\"../data/metadata_with_x_missing.txt\", sep=\" \")\n",
    "#Opening the zarr data\n",
    "callset = zarr.open_group(zarr_dir, mode='r')\n",
    "gt = allel.GenotypeArray(callset[\"calldata/GT\"])"
   ]
  },
  {
   "cell_type": "code",
   "execution_count": 8,
   "metadata": {},
   "outputs": [],
   "source": [
    "n_s = len(callset[\"samples\"]) #number of samples\n",
    "missingness = gt.is_missing()\n",
    "m_per_s = missingness.sum(axis=1)\n",
    "d = {\"m\": m_per_s, \"pos\": callset[\"variants/POS\"]}\n",
    "m_zarr_df = pd.DataFrame(data=d)"
   ]
  },
  {
   "cell_type": "code",
   "execution_count": 9,
   "metadata": {},
   "outputs": [
    {
     "data": {
      "image/png": "[encoded data removed]",
      "text/plain": [
       "<Figure size 432x288 with 1 Axes>"
      ]
     },
     "metadata": {},
     "output_type": "display_data"
    }
   ],
   "source": [
    "g = sns.histplot(m_zarr_df, x=\"m\")\n",
    "g.set_yscale(\"log\")"
   ]
  },
  {
   "cell_type": "code",
   "execution_count": 11,
   "metadata": {},
   "outputs": [
    {
     "data": {
      "text/plain": [
       "0.9580468334147506"
      ]
     },
     "execution_count": 11,
     "metadata": {},
     "output_type": "execute_result"
    }
   ],
   "source": [
    "len(m_zarr_df.loc[m_zarr_df.m <= n_s*0.1])/len(m_zarr_df) #0.973 again\n",
    "len(m_zarr_df.loc[m_zarr_df.m <= n_s*0.05])/len(m_zarr_df) #0.958"
   ]
  },
  {
   "cell_type": "markdown",
   "metadata": {},
   "source": [
    "Now only with females and less than 10 % missing\n",
    "I notice now that I misread dp02 by a factor of 10 - the highest degree of missingness is 1,6 %, not 16 %"
   ]
  },
  {
   "cell_type": "code",
   "execution_count": 33,
   "metadata": {},
   "outputs": [
    {
     "data": {
      "text/plain": [
       "(0.016083677817414543, 95)"
      ]
     },
     "execution_count": 33,
     "metadata": {},
     "output_type": "execute_result"
    }
   ],
   "source": [
    "females = meta_data_samples.loc[(meta_data_samples.Sex == \"F\")]\n",
    "max(females[\"x_missing\"]), len(females)"
   ]
  },
  {
   "cell_type": "code",
   "execution_count": 30,
   "metadata": {},
   "outputs": [
    {
     "data": {
      "text/plain": [
       "95"
      ]
     },
     "execution_count": 30,
     "metadata": {},
     "output_type": "execute_result"
    }
   ],
   "source": [
    "IDs = (meta_data_samples.loc[(meta_data_samples.x_missing <= 0.05)\n",
    "                             & (meta_data_samples.Sex == \"F\")]).callset_index.values\n",
    "len(IDs)"
   ]
  },
  {
   "cell_type": "code",
   "execution_count": 44,
   "metadata": {},
   "outputs": [],
   "source": [
    "gt_females = gt.take(IDs, axis=1)"
   ]
  },
  {
   "cell_type": "code",
   "execution_count": 48,
   "metadata": {},
   "outputs": [],
   "source": [
    "n_s = len(IDs) #number of samples\n",
    "missingness = gt_females.is_missing()\n",
    "m_per_s = missingness.sum(axis=1)\n",
    "d = {\"m\": m_per_s, \"pos\": callset[\"variants/POS\"]}\n",
    "m_zarr_f_df = pd.DataFrame(data=d)"
   ]
  },
  {
   "cell_type": "code",
   "execution_count": 49,
   "metadata": {},
   "outputs": [
    {
     "data": {
      "image/png": "[encoded data removed]",
      "text/plain": [
       "<Figure size 432x288 with 1 Axes>"
      ]
     },
     "metadata": {},
     "output_type": "display_data"
    }
   ],
   "source": [
    "g = sns.histplot(m_zarr_f_df, x=\"m\")\n",
    "g.set_yscale(\"log\")"
   ]
  },
  {
   "cell_type": "code",
   "execution_count": 52,
   "metadata": {},
   "outputs": [
    {
     "data": {
      "text/plain": [
       "0.9605232189796703"
      ]
     },
     "execution_count": 52,
     "metadata": {},
     "output_type": "execute_result"
    }
   ],
   "source": [
    "len(m_zarr_f_df.loc[m_zarr_f_df.m <= n_s*0.1])/len(m_zarr_df) #0.976 again\n",
    "len(m_zarr_f_df.loc[m_zarr_f_df.m <= n_s*0.05])/len(m_zarr_df) #0.96"
   ]
  },
  {
   "cell_type": "markdown",
   "metadata": {},
   "source": [
    "Picking out the sites to keep:\n",
    "sites = "
   ]
  }
 ],
 "metadata": {
  "kernelspec": {
   "display_name": "Python 3",
   "language": "python",
   "name": "python3"
  },
  "language_info": {
   "codemirror_mode": {
    "name": "ipython",
    "version": 3
   },
   "file_extension": ".py",
   "mimetype": "text/x-python",
   "name": "python",
   "nbconvert_exporter": "python",
   "pygments_lexer": "ipython3",
   "version": "3.7.9"
  }
 },
 "nbformat": 4,
 "nbformat_minor": 4
}
