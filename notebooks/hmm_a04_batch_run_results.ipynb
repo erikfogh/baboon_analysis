{
 "cells": [
  {
   "cell_type": "markdown",
   "metadata": {},
   "source": [
    "Batch calculation of archaic introgression in papio and anubis"
   ]
  },
  {
   "cell_type": "code",
   "execution_count": 1,
   "metadata": {},
   "outputs": [],
   "source": [
    "%run ../scripts/notebook_settings.py"
   ]
  },
  {
   "cell_type": "code",
   "execution_count": 2,
   "metadata": {},
   "outputs": [],
   "source": [
    "meta_data_samples = pd.read_table(\"../data/metadata_with_x_missing.txt\", sep=\" \")\n",
    "chromosome_numbers = ['{}'.format(x) for x in range(1, 21)] + ['X']"
   ]
  },
  {
   "cell_type": "code",
   "execution_count": 3,
   "metadata": {},
   "outputs": [
    {
     "data": {
      "text/html": [
       "<div>\n",
       "<style scoped>\n",
       "    .dataframe tbody tr th:only-of-type {\n",
       "        vertical-align: middle;\n",
       "    }\n",
       "\n",
       "    .dataframe tbody tr th {\n",
       "        vertical-align: top;\n",
       "    }\n",
       "\n",
       "    .dataframe thead th {\n",
       "        text-align: right;\n",
       "    }\n",
       "</style>\n",
       "<table border=\"1\" class=\"dataframe\">\n",
       "  <thead>\n",
       "    <tr style=\"text-align: right;\">\n",
       "      <th></th>\n",
       "      <th>PGDP_ID</th>\n",
       "      <th>Provider_ID</th>\n",
       "      <th>Provider</th>\n",
       "      <th>Genus</th>\n",
       "      <th>Species</th>\n",
       "      <th>Origin</th>\n",
       "      <th>Sex</th>\n",
       "      <th>address</th>\n",
       "      <th>longitude</th>\n",
       "      <th>latitude</th>\n",
       "      <th>callset_index</th>\n",
       "      <th>C_origin</th>\n",
       "      <th>x_missing</th>\n",
       "    </tr>\n",
       "  </thead>\n",
       "  <tbody>\n",
       "    <tr>\n",
       "      <th>9</th>\n",
       "      <td>PD_0067</td>\n",
       "      <td>1043</td>\n",
       "      <td>Roos</td>\n",
       "      <td>Theropithecus</td>\n",
       "      <td>gelada</td>\n",
       "      <td>captive</td>\n",
       "      <td>M</td>\n",
       "      <td>SDSU Captive Wildlife Research Facility, Brook...</td>\n",
       "      <td>-96.793280</td>\n",
       "      <td>44.334031</td>\n",
       "      <td>9</td>\n",
       "      <td>Gelada, Captive</td>\n",
       "      <td>0.024995</td>\n",
       "    </tr>\n",
       "    <tr>\n",
       "      <th>10</th>\n",
       "      <td>PD_0199</td>\n",
       "      <td>09SNF1101115</td>\n",
       "      <td>Knauf/Chuma/Roos</td>\n",
       "      <td>Papio</td>\n",
       "      <td>anubis</td>\n",
       "      <td>Serengeti, Tanzania</td>\n",
       "      <td>F</td>\n",
       "      <td>Serengeti, Mara, Lake Zone, Tanzania</td>\n",
       "      <td>34.742544</td>\n",
       "      <td>-1.996626</td>\n",
       "      <td>10</td>\n",
       "      <td>Anubis, Tanzania</td>\n",
       "      <td>0.003591</td>\n",
       "    </tr>\n",
       "    <tr>\n",
       "      <th>11</th>\n",
       "      <td>PD_0200</td>\n",
       "      <td>11SNF1101115</td>\n",
       "      <td>Knauf/Chuma/Roos</td>\n",
       "      <td>Papio</td>\n",
       "      <td>anubis</td>\n",
       "      <td>Serengeti, Tanzania</td>\n",
       "      <td>F</td>\n",
       "      <td>Serengeti, Mara, Lake Zone, Tanzania</td>\n",
       "      <td>34.742544</td>\n",
       "      <td>-1.996626</td>\n",
       "      <td>11</td>\n",
       "      <td>Anubis, Tanzania</td>\n",
       "      <td>0.004100</td>\n",
       "    </tr>\n",
       "    <tr>\n",
       "      <th>12</th>\n",
       "      <td>PD_0201</td>\n",
       "      <td>19SNM1131115</td>\n",
       "      <td>Knauf/Chuma/Roos</td>\n",
       "      <td>Papio</td>\n",
       "      <td>anubis</td>\n",
       "      <td>Serengeti, Tanzania</td>\n",
       "      <td>M</td>\n",
       "      <td>Serengeti, Mara, Lake Zone, Tanzania</td>\n",
       "      <td>34.742544</td>\n",
       "      <td>-1.996626</td>\n",
       "      <td>12</td>\n",
       "      <td>Anubis, Tanzania</td>\n",
       "      <td>0.010000</td>\n",
       "    </tr>\n",
       "    <tr>\n",
       "      <th>13</th>\n",
       "      <td>PD_0202</td>\n",
       "      <td>20SNF1131115</td>\n",
       "      <td>Knauf/Chuma/Roos</td>\n",
       "      <td>Papio</td>\n",
       "      <td>anubis</td>\n",
       "      <td>Serengeti, Tanzania</td>\n",
       "      <td>M</td>\n",
       "      <td>Serengeti, Mara, Lake Zone, Tanzania</td>\n",
       "      <td>34.742544</td>\n",
       "      <td>-1.996626</td>\n",
       "      <td>13</td>\n",
       "      <td>Anubis, Tanzania</td>\n",
       "      <td>0.010041</td>\n",
       "    </tr>\n",
       "    <tr>\n",
       "      <th>...</th>\n",
       "      <td>...</td>\n",
       "      <td>...</td>\n",
       "      <td>...</td>\n",
       "      <td>...</td>\n",
       "      <td>...</td>\n",
       "      <td>...</td>\n",
       "      <td>...</td>\n",
       "      <td>...</td>\n",
       "      <td>...</td>\n",
       "      <td>...</td>\n",
       "      <td>...</td>\n",
       "      <td>...</td>\n",
       "      <td>...</td>\n",
       "    </tr>\n",
       "    <tr>\n",
       "      <th>222</th>\n",
       "      <td>PD_0790</td>\n",
       "      <td>34418_BZ11065</td>\n",
       "      <td>Rogers/Jolly/Phillips-Conroy</td>\n",
       "      <td>Papio</td>\n",
       "      <td>kindae</td>\n",
       "      <td>Chunga, Zambia</td>\n",
       "      <td>F</td>\n",
       "      <td>Chunga, Mumbwa District, Central Province, Zambia</td>\n",
       "      <td>26.005210</td>\n",
       "      <td>-15.053557</td>\n",
       "      <td>222</td>\n",
       "      <td>Kindae, Zambia</td>\n",
       "      <td>0.009835</td>\n",
       "    </tr>\n",
       "    <tr>\n",
       "      <th>223</th>\n",
       "      <td>PD_0791</td>\n",
       "      <td>34419_BZ11066</td>\n",
       "      <td>Rogers/Jolly/Phillips-Conroy</td>\n",
       "      <td>Papio</td>\n",
       "      <td>kindae</td>\n",
       "      <td>Chunga, Zambia</td>\n",
       "      <td>F</td>\n",
       "      <td>Chunga, Mumbwa District, Central Province, Zambia</td>\n",
       "      <td>26.005210</td>\n",
       "      <td>-15.053557</td>\n",
       "      <td>223</td>\n",
       "      <td>Kindae, Zambia</td>\n",
       "      <td>0.009672</td>\n",
       "    </tr>\n",
       "    <tr>\n",
       "      <th>224</th>\n",
       "      <td>PD_0792</td>\n",
       "      <td>34420_BZ11067</td>\n",
       "      <td>Rogers/Jolly/Phillips-Conroy</td>\n",
       "      <td>Papio</td>\n",
       "      <td>kindae</td>\n",
       "      <td>Chunga, Zambia</td>\n",
       "      <td>F</td>\n",
       "      <td>Chunga, Mumbwa District, Central Province, Zambia</td>\n",
       "      <td>26.005210</td>\n",
       "      <td>-15.053557</td>\n",
       "      <td>224</td>\n",
       "      <td>Kindae, Zambia</td>\n",
       "      <td>0.010119</td>\n",
       "    </tr>\n",
       "    <tr>\n",
       "      <th>225</th>\n",
       "      <td>PD_0793</td>\n",
       "      <td>34422_BZ11070</td>\n",
       "      <td>Rogers/Jolly/Phillips-Conroy</td>\n",
       "      <td>Papio</td>\n",
       "      <td>kindae</td>\n",
       "      <td>Chunga, Zambia</td>\n",
       "      <td>M</td>\n",
       "      <td>Chunga, Mumbwa District, Central Province, Zambia</td>\n",
       "      <td>26.005210</td>\n",
       "      <td>-15.053557</td>\n",
       "      <td>225</td>\n",
       "      <td>Kindae, Zambia</td>\n",
       "      <td>0.014323</td>\n",
       "    </tr>\n",
       "    <tr>\n",
       "      <th>226</th>\n",
       "      <td>PD_0794_BAB</td>\n",
       "      <td>34423_BZ11071</td>\n",
       "      <td>Rogers/Jolly/Phillips-Conroy</td>\n",
       "      <td>Papio</td>\n",
       "      <td>kindae</td>\n",
       "      <td>Chunga, Zambia</td>\n",
       "      <td>M</td>\n",
       "      <td>Chunga, Mumbwa District, Central Province, Zambia</td>\n",
       "      <td>26.005210</td>\n",
       "      <td>-15.053557</td>\n",
       "      <td>226</td>\n",
       "      <td>Kindae, Zambia</td>\n",
       "      <td>0.014964</td>\n",
       "    </tr>\n",
       "  </tbody>\n",
       "</table>\n",
       "<p>218 rows × 13 columns</p>\n",
       "</div>"
      ],
      "text/plain": [
       "         PGDP_ID    Provider_ID                      Provider          Genus  \\\n",
       "9        PD_0067           1043                          Roos  Theropithecus   \n",
       "10       PD_0199   09SNF1101115              Knauf/Chuma/Roos          Papio   \n",
       "11       PD_0200   11SNF1101115              Knauf/Chuma/Roos          Papio   \n",
       "12       PD_0201   19SNM1131115              Knauf/Chuma/Roos          Papio   \n",
       "13       PD_0202   20SNF1131115              Knauf/Chuma/Roos          Papio   \n",
       "..           ...            ...                           ...            ...   \n",
       "222      PD_0790  34418_BZ11065  Rogers/Jolly/Phillips-Conroy          Papio   \n",
       "223      PD_0791  34419_BZ11066  Rogers/Jolly/Phillips-Conroy          Papio   \n",
       "224      PD_0792  34420_BZ11067  Rogers/Jolly/Phillips-Conroy          Papio   \n",
       "225      PD_0793  34422_BZ11070  Rogers/Jolly/Phillips-Conroy          Papio   \n",
       "226  PD_0794_BAB  34423_BZ11071  Rogers/Jolly/Phillips-Conroy          Papio   \n",
       "\n",
       "    Species               Origin Sex  \\\n",
       "9    gelada              captive   M   \n",
       "10   anubis  Serengeti, Tanzania   F   \n",
       "11   anubis  Serengeti, Tanzania   F   \n",
       "12   anubis  Serengeti, Tanzania   M   \n",
       "13   anubis  Serengeti, Tanzania   M   \n",
       "..      ...                  ...  ..   \n",
       "222  kindae       Chunga, Zambia   F   \n",
       "223  kindae       Chunga, Zambia   F   \n",
       "224  kindae       Chunga, Zambia   F   \n",
       "225  kindae       Chunga, Zambia   M   \n",
       "226  kindae       Chunga, Zambia   M   \n",
       "\n",
       "                                               address  longitude   latitude  \\\n",
       "9    SDSU Captive Wildlife Research Facility, Brook... -96.793280  44.334031   \n",
       "10                Serengeti, Mara, Lake Zone, Tanzania  34.742544  -1.996626   \n",
       "11                Serengeti, Mara, Lake Zone, Tanzania  34.742544  -1.996626   \n",
       "12                Serengeti, Mara, Lake Zone, Tanzania  34.742544  -1.996626   \n",
       "13                Serengeti, Mara, Lake Zone, Tanzania  34.742544  -1.996626   \n",
       "..                                                 ...        ...        ...   \n",
       "222  Chunga, Mumbwa District, Central Province, Zambia  26.005210 -15.053557   \n",
       "223  Chunga, Mumbwa District, Central Province, Zambia  26.005210 -15.053557   \n",
       "224  Chunga, Mumbwa District, Central Province, Zambia  26.005210 -15.053557   \n",
       "225  Chunga, Mumbwa District, Central Province, Zambia  26.005210 -15.053557   \n",
       "226  Chunga, Mumbwa District, Central Province, Zambia  26.005210 -15.053557   \n",
       "\n",
       "     callset_index          C_origin  x_missing  \n",
       "9                9   Gelada, Captive   0.024995  \n",
       "10              10  Anubis, Tanzania   0.003591  \n",
       "11              11  Anubis, Tanzania   0.004100  \n",
       "12              12  Anubis, Tanzania   0.010000  \n",
       "13              13  Anubis, Tanzania   0.010041  \n",
       "..             ...               ...        ...  \n",
       "222            222    Kindae, Zambia   0.009835  \n",
       "223            223    Kindae, Zambia   0.009672  \n",
       "224            224    Kindae, Zambia   0.010119  \n",
       "225            225    Kindae, Zambia   0.014323  \n",
       "226            226    Kindae, Zambia   0.014964  \n",
       "\n",
       "[218 rows x 13 columns]"
      ]
     },
     "execution_count": 3,
     "metadata": {},
     "output_type": "execute_result"
    }
   ],
   "source": [
    "meta_data_samples[9:]"
   ]
  },
  {
   "cell_type": "code",
   "execution_count": 4,
   "metadata": {},
   "outputs": [
    {
     "data": {
      "text/plain": [
       "225"
      ]
     },
     "execution_count": 4,
     "metadata": {},
     "output_type": "execute_result"
    }
   ],
   "source": [
    "sum(meta_data_samples.Origin != \"captive\")"
   ]
  },
  {
   "cell_type": "code",
   "execution_count": 5,
   "metadata": {},
   "outputs": [
    {
     "data": {
      "text/plain": [
       "array(['Roos', 'Knauf/Chuma/Roos', 'Zinner/Fischer',\n",
       "       'Rogers/Jolly/Phillips-Conroy', 'Jolly/Phillips-Conroy', 'Rogers '],\n",
       "      dtype=object)"
      ]
     },
     "execution_count": 5,
     "metadata": {},
     "output_type": "execute_result"
    }
   ],
   "source": [
    "meta_data_samples.iloc[9:,:].Provider.unique()"
   ]
  },
  {
   "cell_type": "markdown",
   "metadata": {},
   "source": [
    "Archaic blocks in papio"
   ]
  },
  {
   "cell_type": "code",
   "execution_count": 6,
   "metadata": {},
   "outputs": [],
   "source": [
    "ingroup_ids = meta_data_samples.loc[meta_data_samples.Species == \"papio\"].callset_index.values\n",
    "ingroup_names = meta_data_samples.loc[meta_data_samples.Species == \"papio\"].PGDP_ID.values\n",
    "outgroup_ids = meta_data_samples.loc[(meta_data_samples.Species != \"papio\") &\n",
    "                                     (meta_data_samples.Species != \"gelada\")].callset_index.values\n",
    "dir_name = \"papio_intro/\""
   ]
  },
  {
   "cell_type": "code",
   "execution_count": 7,
   "metadata": {},
   "outputs": [
    {
     "name": "stdout",
     "output_type": "stream",
     "text": [
      "1\n",
      "2\n",
      "3\n",
      "4\n",
      "5\n",
      "6\n",
      "7\n",
      "8\n",
      "9\n",
      "10\n",
      "11\n",
      "12\n",
      "13\n",
      "14\n",
      "15\n",
      "16\n",
      "17\n",
      "18\n",
      "19\n",
      "20\n",
      "X\n"
     ]
    }
   ],
   "source": [
    "path = \"../\"+dir_name+\"chr{}/{}_chr{}_decoded.Summary.txt\"\n",
    "archaic_lengths = 0\n",
    "normal_lengths = 0\n",
    "id_list = []\n",
    "percentage_list = []\n",
    "chrom_list = []\n",
    "for chrom in chromosome_numbers:\n",
    "    for ID in ingroup_names:\n",
    "        summary_file = pd.read_csv(path.format(chrom, ID, chrom), sep = \"\\t\")\n",
    "        archaic_lengths += summary_file.loc[summary_file.state == \"Archaic\"].length.sum()\n",
    "        normal_lengths += summary_file.loc[summary_file.state == \"Baboon\"].length.sum()\n",
    "        id_list.append(ID)\n",
    "        percentage_list.append(summary_file.loc[summary_file.state == \"Archaic\"].length.sum()/summary_file.length.sum())\n",
    "        chrom_list.append(chrom)\n",
    "    print(chrom)"
   ]
  },
  {
   "cell_type": "code",
   "execution_count": 8,
   "metadata": {},
   "outputs": [
    {
     "data": {
      "text/plain": [
       "0.08189774418988072"
      ]
     },
     "execution_count": 8,
     "metadata": {},
     "output_type": "execute_result"
    }
   ],
   "source": [
    "archaic_lengths/(normal_lengths+archaic_lengths)"
   ]
  },
  {
   "cell_type": "code",
   "execution_count": 9,
   "metadata": {},
   "outputs": [],
   "source": [
    "d = {\"PGDP_ID\": id_list, \"Archaic_percentage\": percentage_list, \"chrom\": chrom_list}\n",
    "df_papio = pd.DataFrame(data=d)"
   ]
  },
  {
   "cell_type": "code",
   "execution_count": 10,
   "metadata": {},
   "outputs": [
    {
     "data": {
      "text/plain": [
       "<AxesSubplot:xlabel='Archaic_percentage', ylabel='Count'>"
      ]
     },
     "execution_count": 10,
     "metadata": {},
     "output_type": "execute_result"
    },
    {
     "data": {
      "image/png": "[encoded data removed]",
      "text/plain": [
       "<Figure size 432x288 with 1 Axes>"
      ]
     },
     "metadata": {},
     "output_type": "display_data"
    }
   ],
   "source": [
    "sns.histplot(df_papio, x=\"Archaic_percentage\")"
   ]
  },
  {
   "cell_type": "code",
   "execution_count": 11,
   "metadata": {},
   "outputs": [
    {
     "data": {
      "text/html": [
       "<div>\n",
       "<style scoped>\n",
       "    .dataframe tbody tr th:only-of-type {\n",
       "        vertical-align: middle;\n",
       "    }\n",
       "\n",
       "    .dataframe tbody tr th {\n",
       "        vertical-align: top;\n",
       "    }\n",
       "\n",
       "    .dataframe thead th {\n",
       "        text-align: right;\n",
       "    }\n",
       "</style>\n",
       "<table border=\"1\" class=\"dataframe\">\n",
       "  <thead>\n",
       "    <tr style=\"text-align: right;\">\n",
       "      <th></th>\n",
       "      <th>Archaic_percentage</th>\n",
       "    </tr>\n",
       "    <tr>\n",
       "      <th>PGDP_ID</th>\n",
       "      <th></th>\n",
       "    </tr>\n",
       "  </thead>\n",
       "  <tbody>\n",
       "    <tr>\n",
       "      <th>PD_0390</th>\n",
       "      <td>0.089719</td>\n",
       "    </tr>\n",
       "    <tr>\n",
       "      <th>PD_0391</th>\n",
       "      <td>0.079784</td>\n",
       "    </tr>\n",
       "    <tr>\n",
       "      <th>PD_0392</th>\n",
       "      <td>0.082030</td>\n",
       "    </tr>\n",
       "    <tr>\n",
       "      <th>PD_0393</th>\n",
       "      <td>0.079981</td>\n",
       "    </tr>\n",
       "    <tr>\n",
       "      <th>PD_0394</th>\n",
       "      <td>0.079612</td>\n",
       "    </tr>\n",
       "    <tr>\n",
       "      <th>PD_0395</th>\n",
       "      <td>0.083312</td>\n",
       "    </tr>\n",
       "    <tr>\n",
       "      <th>PD_0396</th>\n",
       "      <td>0.075040</td>\n",
       "    </tr>\n",
       "    <tr>\n",
       "      <th>PD_0397</th>\n",
       "      <td>0.088822</td>\n",
       "    </tr>\n",
       "    <tr>\n",
       "      <th>PD_0398</th>\n",
       "      <td>0.082612</td>\n",
       "    </tr>\n",
       "    <tr>\n",
       "      <th>PD_0399</th>\n",
       "      <td>0.075247</td>\n",
       "    </tr>\n",
       "    <tr>\n",
       "      <th>PD_0400</th>\n",
       "      <td>0.068856</td>\n",
       "    </tr>\n",
       "    <tr>\n",
       "      <th>PD_0401</th>\n",
       "      <td>0.068992</td>\n",
       "    </tr>\n",
       "  </tbody>\n",
       "</table>\n",
       "</div>"
      ],
      "text/plain": [
       "         Archaic_percentage\n",
       "PGDP_ID                    \n",
       "PD_0390            0.089719\n",
       "PD_0391            0.079784\n",
       "PD_0392            0.082030\n",
       "PD_0393            0.079981\n",
       "PD_0394            0.079612\n",
       "PD_0395            0.083312\n",
       "PD_0396            0.075040\n",
       "PD_0397            0.088822\n",
       "PD_0398            0.082612\n",
       "PD_0399            0.075247\n",
       "PD_0400            0.068856\n",
       "PD_0401            0.068992"
      ]
     },
     "execution_count": 11,
     "metadata": {},
     "output_type": "execute_result"
    }
   ],
   "source": [
    "df_papio.groupby(\"PGDP_ID\").mean()"
   ]
  },
  {
   "cell_type": "code",
   "execution_count": 12,
   "metadata": {},
   "outputs": [
    {
     "data": {
      "text/html": [
       "<div>\n",
       "<style scoped>\n",
       "    .dataframe tbody tr th:only-of-type {\n",
       "        vertical-align: middle;\n",
       "    }\n",
       "\n",
       "    .dataframe tbody tr th {\n",
       "        vertical-align: top;\n",
       "    }\n",
       "\n",
       "    .dataframe thead th {\n",
       "        text-align: right;\n",
       "    }\n",
       "</style>\n",
       "<table border=\"1\" class=\"dataframe\">\n",
       "  <thead>\n",
       "    <tr style=\"text-align: right;\">\n",
       "      <th></th>\n",
       "      <th>Archaic_percentage</th>\n",
       "    </tr>\n",
       "    <tr>\n",
       "      <th>chrom</th>\n",
       "      <th></th>\n",
       "    </tr>\n",
       "  </thead>\n",
       "  <tbody>\n",
       "    <tr>\n",
       "      <th>1</th>\n",
       "      <td>0.176071</td>\n",
       "    </tr>\n",
       "    <tr>\n",
       "      <th>10</th>\n",
       "      <td>0.061771</td>\n",
       "    </tr>\n",
       "    <tr>\n",
       "      <th>11</th>\n",
       "      <td>0.096906</td>\n",
       "    </tr>\n",
       "    <tr>\n",
       "      <th>12</th>\n",
       "      <td>0.092785</td>\n",
       "    </tr>\n",
       "    <tr>\n",
       "      <th>13</th>\n",
       "      <td>0.125131</td>\n",
       "    </tr>\n",
       "    <tr>\n",
       "      <th>14</th>\n",
       "      <td>0.105319</td>\n",
       "    </tr>\n",
       "    <tr>\n",
       "      <th>15</th>\n",
       "      <td>0.183323</td>\n",
       "    </tr>\n",
       "    <tr>\n",
       "      <th>16</th>\n",
       "      <td>0.044846</td>\n",
       "    </tr>\n",
       "    <tr>\n",
       "      <th>17</th>\n",
       "      <td>0.015390</td>\n",
       "    </tr>\n",
       "    <tr>\n",
       "      <th>18</th>\n",
       "      <td>0.051221</td>\n",
       "    </tr>\n",
       "    <tr>\n",
       "      <th>19</th>\n",
       "      <td>0.092728</td>\n",
       "    </tr>\n",
       "    <tr>\n",
       "      <th>2</th>\n",
       "      <td>0.075828</td>\n",
       "    </tr>\n",
       "    <tr>\n",
       "      <th>20</th>\n",
       "      <td>0.022940</td>\n",
       "    </tr>\n",
       "    <tr>\n",
       "      <th>3</th>\n",
       "      <td>0.042500</td>\n",
       "    </tr>\n",
       "    <tr>\n",
       "      <th>4</th>\n",
       "      <td>0.015005</td>\n",
       "    </tr>\n",
       "    <tr>\n",
       "      <th>5</th>\n",
       "      <td>0.062429</td>\n",
       "    </tr>\n",
       "    <tr>\n",
       "      <th>6</th>\n",
       "      <td>0.027798</td>\n",
       "    </tr>\n",
       "    <tr>\n",
       "      <th>7</th>\n",
       "      <td>0.107636</td>\n",
       "    </tr>\n",
       "    <tr>\n",
       "      <th>8</th>\n",
       "      <td>0.016532</td>\n",
       "    </tr>\n",
       "    <tr>\n",
       "      <th>9</th>\n",
       "      <td>0.143301</td>\n",
       "    </tr>\n",
       "    <tr>\n",
       "      <th>X</th>\n",
       "      <td>0.110057</td>\n",
       "    </tr>\n",
       "  </tbody>\n",
       "</table>\n",
       "</div>"
      ],
      "text/plain": [
       "       Archaic_percentage\n",
       "chrom                    \n",
       "1                0.176071\n",
       "10               0.061771\n",
       "11               0.096906\n",
       "12               0.092785\n",
       "13               0.125131\n",
       "14               0.105319\n",
       "15               0.183323\n",
       "16               0.044846\n",
       "17               0.015390\n",
       "18               0.051221\n",
       "19               0.092728\n",
       "2                0.075828\n",
       "20               0.022940\n",
       "3                0.042500\n",
       "4                0.015005\n",
       "5                0.062429\n",
       "6                0.027798\n",
       "7                0.107636\n",
       "8                0.016532\n",
       "9                0.143301\n",
       "X                0.110057"
      ]
     },
     "execution_count": 12,
     "metadata": {},
     "output_type": "execute_result"
    }
   ],
   "source": [
    "df_papio.groupby(\"chrom\").mean()"
   ]
  },
  {
   "cell_type": "code",
   "execution_count": 13,
   "metadata": {},
   "outputs": [
    {
     "data": {
      "text/html": [
       "<div>\n",
       "<style scoped>\n",
       "    .dataframe tbody tr th:only-of-type {\n",
       "        vertical-align: middle;\n",
       "    }\n",
       "\n",
       "    .dataframe tbody tr th {\n",
       "        vertical-align: top;\n",
       "    }\n",
       "\n",
       "    .dataframe thead th {\n",
       "        text-align: right;\n",
       "    }\n",
       "</style>\n",
       "<table border=\"1\" class=\"dataframe\">\n",
       "  <thead>\n",
       "    <tr style=\"text-align: right;\">\n",
       "      <th></th>\n",
       "      <th>PGDP_ID</th>\n",
       "      <th>Archaic_percentage</th>\n",
       "      <th>chrom</th>\n",
       "    </tr>\n",
       "  </thead>\n",
       "  <tbody>\n",
       "    <tr>\n",
       "      <th>240</th>\n",
       "      <td>PD_0390</td>\n",
       "      <td>0.295403</td>\n",
       "      <td>X</td>\n",
       "    </tr>\n",
       "    <tr>\n",
       "      <th>241</th>\n",
       "      <td>PD_0391</td>\n",
       "      <td>0.254997</td>\n",
       "      <td>X</td>\n",
       "    </tr>\n",
       "    <tr>\n",
       "      <th>242</th>\n",
       "      <td>PD_0392</td>\n",
       "      <td>0.222044</td>\n",
       "      <td>X</td>\n",
       "    </tr>\n",
       "    <tr>\n",
       "      <th>243</th>\n",
       "      <td>PD_0393</td>\n",
       "      <td>0.182877</td>\n",
       "      <td>X</td>\n",
       "    </tr>\n",
       "    <tr>\n",
       "      <th>244</th>\n",
       "      <td>PD_0394</td>\n",
       "      <td>0.183768</td>\n",
       "      <td>X</td>\n",
       "    </tr>\n",
       "    <tr>\n",
       "      <th>245</th>\n",
       "      <td>PD_0395</td>\n",
       "      <td>0.025777</td>\n",
       "      <td>X</td>\n",
       "    </tr>\n",
       "    <tr>\n",
       "      <th>246</th>\n",
       "      <td>PD_0396</td>\n",
       "      <td>0.023822</td>\n",
       "      <td>X</td>\n",
       "    </tr>\n",
       "    <tr>\n",
       "      <th>247</th>\n",
       "      <td>PD_0397</td>\n",
       "      <td>0.029090</td>\n",
       "      <td>X</td>\n",
       "    </tr>\n",
       "    <tr>\n",
       "      <th>248</th>\n",
       "      <td>PD_0398</td>\n",
       "      <td>0.026926</td>\n",
       "      <td>X</td>\n",
       "    </tr>\n",
       "    <tr>\n",
       "      <th>249</th>\n",
       "      <td>PD_0399</td>\n",
       "      <td>0.029584</td>\n",
       "      <td>X</td>\n",
       "    </tr>\n",
       "    <tr>\n",
       "      <th>250</th>\n",
       "      <td>PD_0400</td>\n",
       "      <td>0.029473</td>\n",
       "      <td>X</td>\n",
       "    </tr>\n",
       "    <tr>\n",
       "      <th>251</th>\n",
       "      <td>PD_0401</td>\n",
       "      <td>0.016918</td>\n",
       "      <td>X</td>\n",
       "    </tr>\n",
       "  </tbody>\n",
       "</table>\n",
       "</div>"
      ],
      "text/plain": [
       "     PGDP_ID  Archaic_percentage chrom\n",
       "240  PD_0390            0.295403     X\n",
       "241  PD_0391            0.254997     X\n",
       "242  PD_0392            0.222044     X\n",
       "243  PD_0393            0.182877     X\n",
       "244  PD_0394            0.183768     X\n",
       "245  PD_0395            0.025777     X\n",
       "246  PD_0396            0.023822     X\n",
       "247  PD_0397            0.029090     X\n",
       "248  PD_0398            0.026926     X\n",
       "249  PD_0399            0.029584     X\n",
       "250  PD_0400            0.029473     X\n",
       "251  PD_0401            0.016918     X"
      ]
     },
     "execution_count": 13,
     "metadata": {},
     "output_type": "execute_result"
    }
   ],
   "source": [
    "df_papio.loc[df_papio.chrom==\"X\"]"
   ]
  },
  {
   "cell_type": "markdown",
   "metadata": {},
   "source": [
    "Block stats"
   ]
  },
  {
   "cell_type": "code",
   "execution_count": null,
   "metadata": {},
   "outputs": [
    {
     "name": "stdout",
     "output_type": "stream",
     "text": [
      "1\n",
      "2\n",
      "3\n",
      "4\n",
      "5\n",
      "6\n",
      "7\n",
      "8\n",
      "9\n"
     ]
    }
   ],
   "source": [
    "path = \"../\"+dir_name+\"chr{}/{}_chr{}_decoded.All_posterior_probs.txt\"\n",
    "df_start = None\n",
    "total_df = pd.DataFrame()\n",
    "df_list = []\n",
    "for chrom in chromosome_numbers:\n",
    "    for ID in ingroup_names:\n",
    "        total_file = pd.read_csv(path.format(chrom, ID, chrom), sep = \"\\t\")\n",
    "        if df_start == None:\n",
    "            total_df = total_file\n",
    "            df_start = True\n",
    "        total_df[ID] = total_file[\"Mostlikely\"]\n",
    "    df_list.append(total_df)\n",
    "    df_start = None\n",
    "    print(chrom)\n",
    "all_chromosomes = pd.concat(df_list)"
   ]
  },
  {
   "cell_type": "code",
   "execution_count": null,
   "metadata": {},
   "outputs": [],
   "source": [
    "sns.histplot((total_df.iloc[:,7:] == \"Archaic\").sum(axis=1))"
   ]
  },
  {
   "cell_type": "code",
   "execution_count": null,
   "metadata": {},
   "outputs": [],
   "source": [
    "chrom_blocks = (all_chromosomes.iloc[:,7:] == \"Archaic\").sum(axis=1)"
   ]
  },
  {
   "cell_type": "code",
   "execution_count": null,
   "metadata": {},
   "outputs": [],
   "source": [
    "sns.histplot(chrom_blocks.loc[(chrom_blocks > 1)]).set_title(\"Number of archaic blocks per window, removing 0\")"
   ]
  },
  {
   "cell_type": "code",
   "execution_count": null,
   "metadata": {},
   "outputs": [],
   "source": [
    "sns.histplot((all_chromosomes.iloc[:,7:] == \"Archaic\").sum(axis=1)).set_title(\"Number of archaic blocks per window\")"
   ]
  },
  {
   "cell_type": "markdown",
   "metadata": {},
   "source": [
    "Archaic blocks in anubis"
   ]
  },
  {
   "cell_type": "code",
   "execution_count": null,
   "metadata": {},
   "outputs": [],
   "source": [
    "ingroup_ids = meta_data_samples.loc[meta_data_samples.Species == \"anubis\"].callset_index.values\n",
    "ingroup_names = meta_data_samples.loc[meta_data_samples.Species == \"anubis\"].PGDP_ID.values\n",
    "outgroup_ids = meta_data_samples.loc[(meta_data_samples.Species != \"anubis\") &\n",
    "                                     (meta_data_samples.Species != \"gelada\")].callset_index.values\n",
    "dir_name = \"anubis_intro/\""
   ]
  },
  {
   "cell_type": "code",
   "execution_count": null,
   "metadata": {},
   "outputs": [],
   "source": [
    "path = \"../\"+dir_name+\"chr{}/{}_chr{}_decoded.Summary.txt\"\n",
    "archaic_lengths = 0\n",
    "normal_lengths = 0\n",
    "id_list = []\n",
    "percentage_list = []\n",
    "chrom_list = []\n",
    "for chrom in chromosome_numbers:\n",
    "    for ID in ingroup_names:\n",
    "        summary_file = pd.read_csv(path.format(chrom, ID, chrom), sep = \"\\t\")\n",
    "        archaic_lengths += summary_file.loc[summary_file.state == \"Archaic\"].length.sum()\n",
    "        normal_lengths += summary_file.loc[summary_file.state == \"Baboon\"].length.sum()\n",
    "        id_list.append(ID)\n",
    "        percentage_list.append(summary_file.loc[summary_file.state == \"Archaic\"].length.sum()/summary_file.length.sum())\n",
    "        chrom_list.append(chrom)\n",
    "    print(chrom)"
   ]
  },
  {
   "cell_type": "code",
   "execution_count": null,
   "metadata": {},
   "outputs": [],
   "source": [
    "archaic_lengths/(normal_lengths+archaic_lengths)"
   ]
  },
  {
   "cell_type": "markdown",
   "metadata": {},
   "source": [
    "Block stats, anubis"
   ]
  },
  {
   "cell_type": "code",
   "execution_count": null,
   "metadata": {},
   "outputs": [],
   "source": [
    "path = \"../\"+dir_name+\"chr{}/{}_chr{}_decoded.All_posterior_probs.txt\"\n",
    "df_start = None\n",
    "total_df = pd.DataFrame()\n",
    "df_list = []\n",
    "for chrom in chromosome_numbers:\n",
    "    for ID in ingroup_names:\n",
    "        total_file = pd.read_csv(path.format(chrom, ID, chrom), sep = \"\\t\")\n",
    "        if df_start == None:\n",
    "            total_df = total_file\n",
    "            df_start = True\n",
    "        total_df[ID] = total_file[\"Mostlikely\"]\n",
    "    df_list.append(total_df)\n",
    "    df_start = None\n",
    "    print(chrom)\n",
    "all_chromosomes = pd.concat(df_list)"
   ]
  },
  {
   "cell_type": "code",
   "execution_count": null,
   "metadata": {},
   "outputs": [],
   "source": [
    "sns.histplot((total_df.iloc[:,7:] == \"Archaic\").sum(axis=1))"
   ]
  },
  {
   "cell_type": "markdown",
   "metadata": {},
   "source": [
    "Hmm model investigation"
   ]
  },
  {
   "cell_type": "code",
   "execution_count": null,
   "metadata": {},
   "outputs": [],
   "source": [
    "ingroup_ids = meta_data_samples.loc[meta_data_samples.Species == \"papio\"].callset_index.values\n",
    "ingroup_names = meta_data_samples.loc[meta_data_samples.Species == \"papio\"].PGDP_ID.values\n",
    "outgroup_ids = meta_data_samples.loc[(meta_data_samples.Species != \"papio\") &\n",
    "                                     (meta_data_samples.Species != \"gelada\")].callset_index.values\n",
    "dir_name = \"papio_intro/\""
   ]
  },
  {
   "cell_type": "code",
   "execution_count": null,
   "metadata": {},
   "outputs": [],
   "source": [
    "path = \"../\"+dir_name+\"chr{}/{}.chr{}_trained.hmm\"\n",
    "t1, t2, t3, t4, e1, e2 = [], [], [], [], [], []\n",
    "for ID in ingroup_names:\n",
    "    for chromosome in chromosome_numbers:\n",
    "        with open(path.format(chromosome, ID, chromosome)) as f:\n",
    "            lines = f.readlines()\n",
    "        hmm_t = []\n",
    "        for l in lines[7].strip()[14:].split(\",\"):\n",
    "            hmm_t.append(l.strip(\"][\"))\n",
    "        t1.append(hmm_t[0]), t2.append(hmm_t[1]), t3.append(hmm_t[2]), t4.append(hmm_t[3])\n",
    "        hmm_e = (lines[10].strip()[12:].strip(\"[]\").split(\",\"))\n",
    "        e1.append(hmm_e[0]), e2.append(hmm_e[1])\n",
    "        \n",
    "d = {\"t1\": t1, \"t2\": t2,\"t3\": t3,\"t4\": t4,\"e1\": e1,\"e2\": e2}\n",
    "hmm_df = pd.DataFrame(data=d)\n",
    "hmm_df = hmm_df.astype(\"float\")"
   ]
  },
  {
   "cell_type": "code",
   "execution_count": null,
   "metadata": {},
   "outputs": [],
   "source": [
    "sns.histplot(hmm_df.e2/hmm_df.e1)"
   ]
  }
 ],
 "metadata": {
  "kernelspec": {
   "display_name": "Python 3",
   "language": "python",
   "name": "python3"
  },
  "language_info": {
   "codemirror_mode": {
    "name": "ipython",
    "version": 3
   },
   "file_extension": ".py",
   "mimetype": "text/x-python",
   "name": "python",
   "nbconvert_exporter": "python",
   "pygments_lexer": "ipython3",
   "version": "3.7.9"
  }
 },
 "nbformat": 4,
 "nbformat_minor": 4
}
