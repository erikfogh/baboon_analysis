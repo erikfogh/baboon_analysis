{
 "cells": [
  {
   "cell_type": "code",
   "execution_count": 1,
   "metadata": {},
   "outputs": [],
   "source": [
    "#Initial configuration, probably overkill in imports.\n",
    "import sys, os, re\n",
    "import numpy as np\n",
    "import allel\n",
    "import zarr\n",
    "import dask\n",
    "import numcodecs\n",
    "import warnings\n",
    "from pathlib import Path\n",
    "\n",
    "#os.environ[\"MODIN_ENGINE\"] = \"ray\"\n",
    "\n",
    "#import modin.pandas as pd\n",
    "import pandas as pd\n",
    "\n",
    "%matplotlib inline\n",
    "from IPython.display import set_matplotlib_formats\n",
    "set_matplotlib_formats('retina', 'png')\n",
    "import matplotlib\n",
    "import matplotlib.pyplot as plt\n",
    "from matplotlib.colors import ListedColormap\n",
    "from horizonplot import horizonplot\n",
    "import seaborn as sns\n",
    "sns.set()\n",
    "sns.set_theme()\n",
    "sns.set_style(\"white\")\n",
    "sns.set_context(\"notebook\")"
   ]
  },
  {
   "cell_type": "code",
   "execution_count": 2,
   "metadata": {},
   "outputs": [],
   "source": [
    "meta_data_samples = pd.read_table(\"../data/meta_data_samples.txt\", sep = \" \")\n"
   ]
  },
  {
   "cell_type": "code",
   "execution_count": 3,
   "metadata": {},
   "outputs": [
    {
     "name": "stdout",
     "output_type": "stream",
     "text": [
      "PD_0201\n",
      "PD_0202\n",
      "PD_0203\n",
      "PD_0204\n",
      "PD_0205\n",
      "PD_0206\n",
      "PD_0207\n",
      "PD_0208\n"
     ]
    }
   ],
   "source": [
    "IDs = [\"PD_0201\",\"PD_0202\",\"PD_0203\",\"PD_0204\",\"PD_0205\",\"PD_0206\",\"PD_0207\",\"PD_0208\"]\n",
    "#Opening the original vcf filesvcf files \n",
    "vcf_dir = \"/faststorage/project/primatediversity/data/variants/\"\n",
    "vcf_suffix = \".variable.filtered.HF.snps.vcf.gz\"\n",
    "\n",
    "original_vcf = []\n",
    "\n",
    "for ID in IDs:\n",
    "\n",
    "    #vcf_original\n",
    "    vcf_callset = allel.read_vcf(vcf_dir+ID+vcf_suffix, region=\"chrX\")\n",
    "    vcf_gt = allel.GenotypeArray(vcf_callset[\"calldata/GT\"])\n",
    "    original_vcf.append(vcf_gt.count_het())\n",
    "    print(ID)"
   ]
  },
  {
   "cell_type": "code",
   "execution_count": 4,
   "metadata": {},
   "outputs": [
    {
     "data": {
      "text/plain": [
       "[61000, 70870, 131604, 68557, 126916, 136070, 66940, 114893]"
      ]
     },
     "execution_count": 4,
     "metadata": {},
     "output_type": "execute_result"
    }
   ],
   "source": [
    "original_vcf"
   ]
  },
  {
   "cell_type": "code",
   "execution_count": 5,
   "metadata": {},
   "outputs": [
    {
     "name": "stderr",
     "output_type": "stream",
     "text": [
      "/home/eriks/miniconda3/envs/baboondiversity/lib/python3.7/site-packages/allel/io/vcf_read.py:1048: UserWarning: error occurred attempting tabix ([E::idx_find_and_load] Could not retrieve index file for '/faststorage/project/primatediversity/data/transfer_request/vcfsPloidy/PD_0201_X_ploidy_2.vcf.gz'\n",
      "Could not load .tbi/.csi index of /faststorage/project/primatediversity/data/transfer_request/vcfsPloidy/PD_0201_X_ploidy_2.vcf.gz); falling back to scanning to region\n",
      "  'scanning to region' % e)\n"
     ]
    },
    {
     "name": "stdout",
     "output_type": "stream",
     "text": [
      "PD_0201\n"
     ]
    },
    {
     "name": "stderr",
     "output_type": "stream",
     "text": [
      "/home/eriks/miniconda3/envs/baboondiversity/lib/python3.7/site-packages/allel/io/vcf_read.py:1048: UserWarning: error occurred attempting tabix ([E::idx_find_and_load] Could not retrieve index file for '/faststorage/project/primatediversity/data/transfer_request/vcfsPloidy/PD_0202_X_ploidy_2.vcf.gz'\n",
      "Could not load .tbi/.csi index of /faststorage/project/primatediversity/data/transfer_request/vcfsPloidy/PD_0202_X_ploidy_2.vcf.gz); falling back to scanning to region\n",
      "  'scanning to region' % e)\n"
     ]
    },
    {
     "name": "stdout",
     "output_type": "stream",
     "text": [
      "PD_0202\n"
     ]
    },
    {
     "name": "stderr",
     "output_type": "stream",
     "text": [
      "/home/eriks/miniconda3/envs/baboondiversity/lib/python3.7/site-packages/allel/io/vcf_read.py:1048: UserWarning: error occurred attempting tabix ([E::idx_find_and_load] Could not retrieve index file for '/faststorage/project/primatediversity/data/transfer_request/vcfsPloidy/PD_0203_X_ploidy_2.vcf.gz'\n",
      "Could not load .tbi/.csi index of /faststorage/project/primatediversity/data/transfer_request/vcfsPloidy/PD_0203_X_ploidy_2.vcf.gz); falling back to scanning to region\n",
      "  'scanning to region' % e)\n"
     ]
    },
    {
     "name": "stdout",
     "output_type": "stream",
     "text": [
      "PD_0203\n"
     ]
    },
    {
     "name": "stderr",
     "output_type": "stream",
     "text": [
      "/home/eriks/miniconda3/envs/baboondiversity/lib/python3.7/site-packages/allel/io/vcf_read.py:1048: UserWarning: error occurred attempting tabix ([E::idx_find_and_load] Could not retrieve index file for '/faststorage/project/primatediversity/data/transfer_request/vcfsPloidy/PD_0204_X_ploidy_2.vcf.gz'\n",
      "Could not load .tbi/.csi index of /faststorage/project/primatediversity/data/transfer_request/vcfsPloidy/PD_0204_X_ploidy_2.vcf.gz); falling back to scanning to region\n",
      "  'scanning to region' % e)\n"
     ]
    },
    {
     "name": "stdout",
     "output_type": "stream",
     "text": [
      "PD_0204\n"
     ]
    },
    {
     "name": "stderr",
     "output_type": "stream",
     "text": [
      "/home/eriks/miniconda3/envs/baboondiversity/lib/python3.7/site-packages/allel/io/vcf_read.py:1048: UserWarning: error occurred attempting tabix ([E::idx_find_and_load] Could not retrieve index file for '/faststorage/project/primatediversity/data/transfer_request/vcfsPloidy/PD_0205_X_ploidy_2.vcf.gz'\n",
      "Could not load .tbi/.csi index of /faststorage/project/primatediversity/data/transfer_request/vcfsPloidy/PD_0205_X_ploidy_2.vcf.gz); falling back to scanning to region\n",
      "  'scanning to region' % e)\n"
     ]
    },
    {
     "name": "stdout",
     "output_type": "stream",
     "text": [
      "PD_0205\n"
     ]
    },
    {
     "name": "stderr",
     "output_type": "stream",
     "text": [
      "/home/eriks/miniconda3/envs/baboondiversity/lib/python3.7/site-packages/allel/io/vcf_read.py:1048: UserWarning: error occurred attempting tabix ([E::idx_find_and_load] Could not retrieve index file for '/faststorage/project/primatediversity/data/transfer_request/vcfsPloidy/PD_0206_X_ploidy_2.vcf.gz'\n",
      "Could not load .tbi/.csi index of /faststorage/project/primatediversity/data/transfer_request/vcfsPloidy/PD_0206_X_ploidy_2.vcf.gz); falling back to scanning to region\n",
      "  'scanning to region' % e)\n"
     ]
    },
    {
     "name": "stdout",
     "output_type": "stream",
     "text": [
      "PD_0206\n"
     ]
    },
    {
     "name": "stderr",
     "output_type": "stream",
     "text": [
      "/home/eriks/miniconda3/envs/baboondiversity/lib/python3.7/site-packages/allel/io/vcf_read.py:1048: UserWarning: error occurred attempting tabix ([E::idx_find_and_load] Could not retrieve index file for '/faststorage/project/primatediversity/data/transfer_request/vcfsPloidy/PD_0207_X_ploidy_2.vcf.gz'\n",
      "Could not load .tbi/.csi index of /faststorage/project/primatediversity/data/transfer_request/vcfsPloidy/PD_0207_X_ploidy_2.vcf.gz); falling back to scanning to region\n",
      "  'scanning to region' % e)\n"
     ]
    },
    {
     "name": "stdout",
     "output_type": "stream",
     "text": [
      "PD_0207\n"
     ]
    },
    {
     "name": "stderr",
     "output_type": "stream",
     "text": [
      "/home/eriks/miniconda3/envs/baboondiversity/lib/python3.7/site-packages/allel/io/vcf_read.py:1048: UserWarning: error occurred attempting tabix ([E::idx_find_and_load] Could not retrieve index file for '/faststorage/project/primatediversity/data/transfer_request/vcfsPloidy/PD_0208_X_ploidy_2.vcf.gz'\n",
      "Could not load .tbi/.csi index of /faststorage/project/primatediversity/data/transfer_request/vcfsPloidy/PD_0208_X_ploidy_2.vcf.gz); falling back to scanning to region\n",
      "  'scanning to region' % e)\n"
     ]
    },
    {
     "name": "stdout",
     "output_type": "stream",
     "text": [
      "PD_0208\n"
     ]
    }
   ],
   "source": [
    "IDs = [\"PD_0201\",\"PD_0202\",\"PD_0203\",\"PD_0204\",\"PD_0205\",\"PD_0206\",\"PD_0207\",\"PD_0208\"]\n",
    "#Opening the original vcf filesvcf files \n",
    "vcf_dir = \"/faststorage/project/primatediversity/data/transfer_request/vcfsPloidy/\"\n",
    "vcf_suffix = \"_X_ploidy_2.vcf.gz\"\n",
    "\n",
    "ploidy_2_vcfs = []\n",
    "for ID in IDs:\n",
    "    vcf_callset = allel.read_vcf(vcf_dir+ID+vcf_suffix, region=\"chrX\")\n",
    "    vcf_gt = allel.GenotypeArray(vcf_callset[\"calldata/GT\"])\n",
    "    ploidy_2_vcfs.append(vcf_gt.count_het())\n",
    "    print(ID)"
   ]
  },
  {
   "cell_type": "code",
   "execution_count": 6,
   "metadata": {},
   "outputs": [
    {
     "data": {
      "text/plain": [
       "[125060, 136560, 231379, 133706, 230561, 241514, 132882, 212566]"
      ]
     },
     "execution_count": 6,
     "metadata": {},
     "output_type": "execute_result"
    }
   ],
   "source": [
    "ploidy_2_vcfs"
   ]
  },
  {
   "cell_type": "code",
   "execution_count": 7,
   "metadata": {},
   "outputs": [
    {
     "name": "stdout",
     "output_type": "stream",
     "text": [
      "PD_0201\n",
      "PD_0202\n",
      "PD_0203\n",
      "PD_0204\n",
      "PD_0205\n",
      "PD_0206\n",
      "PD_0207\n",
      "PD_0208\n"
     ]
    }
   ],
   "source": [
    "IDs = [\"PD_0201\",\"PD_0202\",\"PD_0203\",\"PD_0204\",\"PD_0205\",\"PD_0206\",\"PD_0207\",\"PD_0208\"]\n",
    "#Opening the original vcf filesvcf files \n",
    "vcf_dir = \"/faststorage/project/primatediversity/data/transfer_request/vcfsPloidy/\"\n",
    "vcf_suffix = \"_X_ploidy_1.vcf\"\n",
    "\n",
    "ploidy_1_vcfs = []\n",
    "for ID in IDs:\n",
    "    vcf_callset = allel.read_vcf(vcf_dir+ID+vcf_suffix, region=\"chrX\")\n",
    "    vcf_gt = allel.GenotypeArray(vcf_callset[\"calldata/GT\"])\n",
    "    ploidy_1_vcfs.append(vcf_gt.count_het())\n",
    "    print(ID)"
   ]
  },
  {
   "cell_type": "code",
   "execution_count": 8,
   "metadata": {},
   "outputs": [
    {
     "data": {
      "text/plain": [
       "[0, 0, 0, 0, 0, 0, 0, 0]"
      ]
     },
     "execution_count": 8,
     "metadata": {},
     "output_type": "execute_result"
    }
   ],
   "source": [
    "ploidy_1_vcfs"
   ]
  },
  {
   "cell_type": "code",
   "execution_count": 9,
   "metadata": {},
   "outputs": [],
   "source": [
    "vcf_callset = allel.read_vcf(vcf_dir+\"PD_0201\"+vcf_suffix, region=\"chrX\")\n",
    "vcf_gt = allel.GenotypeArray(vcf_callset[\"calldata/GT\"])"
   ]
  },
  {
   "cell_type": "code",
   "execution_count": 10,
   "metadata": {},
   "outputs": [
    {
     "data": {
      "text/html": [
       "<div class=\"allel allel-DisplayAs2D\"><span>&lt;GenotypeArray shape=(1700772, 1, 2) dtype=int8&gt;</span><table><thead><tr><th></th><th style=\"text-align: center\">0</th></tr></thead><tbody><tr><th style=\"text-align: center; background-color: white; border-right: 1px solid black; \">0</th><td style=\"text-align: center\">1/.</td></tr><tr><th style=\"text-align: center; background-color: white; border-right: 1px solid black; \">1</th><td style=\"text-align: center\">1/.</td></tr><tr><th style=\"text-align: center; background-color: white; border-right: 1px solid black; \">2</th><td style=\"text-align: center\">1/.</td></tr><tr><th style=\"text-align: center; background-color: white; border-right: 1px solid black; \">...</th><td style=\"text-align: center\" colspan=\"2\">...</td></tr><tr><th style=\"text-align: center; background-color: white; border-right: 1px solid black; \">1700769</th><td style=\"text-align: center\">1/.</td></tr><tr><th style=\"text-align: center; background-color: white; border-right: 1px solid black; \">1700770</th><td style=\"text-align: center\">1/.</td></tr><tr><th style=\"text-align: center; background-color: white; border-right: 1px solid black; \">1700771</th><td style=\"text-align: center\">1/.</td></tr></tbody></table></div>"
      ],
      "text/plain": [
       "<GenotypeArray shape=(1700772, 1, 2) dtype=int8>\n",
       "1/.\n",
       "1/.\n",
       "1/.\n",
       "...\n",
       "1/.\n",
       "1/.\n",
       "1/."
      ]
     },
     "execution_count": 10,
     "metadata": {},
     "output_type": "execute_result"
    }
   ],
   "source": [
    "vcf_gt"
   ]
  }
 ],
 "metadata": {
  "kernelspec": {
   "display_name": "Python 3",
   "language": "python",
   "name": "python3"
  },
  "language_info": {
   "codemirror_mode": {
    "name": "ipython",
    "version": 3
   },
   "file_extension": ".py",
   "mimetype": "text/x-python",
   "name": "python",
   "nbconvert_exporter": "python",
   "pygments_lexer": "ipython3",
   "version": "3.7.9"
  }
 },
 "nbformat": 4,
 "nbformat_minor": 4
}
