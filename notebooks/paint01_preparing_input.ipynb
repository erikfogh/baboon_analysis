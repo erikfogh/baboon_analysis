{
 "cells": [
  {
   "cell_type": "markdown",
   "metadata": {},
   "source": [
    "In this notebook, I will check the input to chromopainter/finestructure, as well as create some supporting files. "
   ]
  },
  {
   "cell_type": "code",
   "execution_count": 1,
   "metadata": {},
   "outputs": [],
   "source": [
    "%run ../scripts/notebook_settings.py"
   ]
  },
  {
   "cell_type": "code",
   "execution_count": 2,
   "metadata": {},
   "outputs": [],
   "source": [
    "meta_data_samples = pd.read_table(\"../data/metadata_with_x_missing.txt\", sep=\" \")\n",
    "vcf = \"/faststorage/project/baboondiversity/data/haploidified_chrX_males/hap_chrX_males.vcf.gz\""
   ]
  },
  {
   "cell_type": "code",
   "execution_count": 3,
   "metadata": {},
   "outputs": [],
   "source": [
    "callset = allel.read_vcf(vcf)"
   ]
  },
  {
   "cell_type": "code",
   "execution_count": 4,
   "metadata": {},
   "outputs": [],
   "source": [
    "individuals = callset[\"samples\"]"
   ]
  },
  {
   "cell_type": "code",
   "execution_count": 5,
   "metadata": {},
   "outputs": [
    {
     "data": {
      "text/plain": [
       "array(['PD_0215', 'PD_0217', 'PD_0223', 'PD_0227', 'PD_0228', 'PD_0229',\n",
       "       'PD_0230', 'PD_0231', 'PD_0233', 'PD_0234', 'PD_0235', 'PD_0236',\n",
       "       'PD_0268', 'PD_0269', 'PD_0637', 'PD_0658', 'PD_0687', 'PD_0688',\n",
       "       'PD_0689', 'PD_0690', 'PD_0691', 'PD_0746', 'PD_0747', 'PD_0748',\n",
       "       'PD_0752', 'PD_0753', 'PD_0755', 'PD_0756', 'PD_0757', 'PD_0761',\n",
       "       'PD_0762', 'PD_0763', 'PD_0764', 'PD_0766', 'PD_0767', 'PD_0768',\n",
       "       'PD_0771', 'PD_0775', 'Sci_30877', 'PD_0201', 'PD_0202', 'PD_0204',\n",
       "       'PD_0207', 'PD_0218', 'PD_0220', 'PD_0242', 'PD_0266', 'PD_0267',\n",
       "       'PD_0493', 'PD_0494', 'PD_0496', 'PD_0497', 'PD_0498', 'PD_0502',\n",
       "       'PD_0504', 'PD_0505', 'PD_0508', 'PD_0642', 'PD_0650', 'PD_0654',\n",
       "       'PD_0679', 'PD_0681', 'PD_0684', 'PD_0720', 'PD_0722', 'PD_0723',\n",
       "       'PD_0725', 'PD_0727', 'PD_0728', 'PD_0729', 'PD_0731', 'PD_0732',\n",
       "       'PD_0733', 'PD_0734', 'PD_0735', 'PD_0739', 'PD_0740', 'PD_0741',\n",
       "       'PD_0742', 'PD_0743', 'PD_0749', 'PD_0750', 'PD_0751', 'PD_0758',\n",
       "       'PD_0759', 'PD_0776', 'PD_0777', 'PD_0778', 'PD_0779', 'PD_0780',\n",
       "       'PD_0782', 'PD_0783', 'PD_0784', 'PD_0785', 'PD_0786', 'PD_0787',\n",
       "       'PD_0793', 'PD_0794_BAB', 'Sci_97124', 'PD_0696', 'PD_0697',\n",
       "       'PD_0699', 'PD_0702', 'PD_0703', 'PD_0704', 'PD_0705', 'PD_0706',\n",
       "       'PD_0707', 'PD_0709', 'PD_0711', 'PD_0712', 'PD_0713', 'PD_0714',\n",
       "       'PD_0715', 'PD_0716', 'PD_0717', 'PD_0718', 'PD_0719', 'PD_0395',\n",
       "       'PD_0396', 'PD_0397', 'PD_0398', 'PD_0399', 'PD_0400', 'PD_0401',\n",
       "       'PD_0692'], dtype=object)"
      ]
     },
     "execution_count": 5,
     "metadata": {},
     "output_type": "execute_result"
    }
   ],
   "source": [
    "individuals"
   ]
  },
  {
   "cell_type": "code",
   "execution_count": 12,
   "metadata": {},
   "outputs": [],
   "source": [
    "pop_list = []\n",
    "inclusion_list = []\n",
    "for i in individuals:\n",
    "    if i[0] == \"S\":\n",
    "        i = i[4:]\n",
    "    if meta_data_samples.loc[meta_data_samples.PGDP_ID == i][\"Species\"].values[0] == \"ursinus (grayfoot)\":\n",
    "        pop_list.append(\"ursinus\")\n",
    "    else:\n",
    "        pop_list.append(meta_data_samples.loc[meta_data_samples.PGDP_ID == i][\"Species\"].values[0])\n",
    "    inclusion_list.append(1)"
   ]
  },
  {
   "cell_type": "code",
   "execution_count": 13,
   "metadata": {},
   "outputs": [],
   "source": [
    "pop_df = pd.DataFrame()\n",
    "pop_df[\"ID\"] = individuals\n",
    "pop_df[\"population\"] = pop_list\n",
    "pop_df[\"inclusion\"] = inclusion_list"
   ]
  },
  {
   "cell_type": "code",
   "execution_count": 15,
   "metadata": {},
   "outputs": [
    {
     "data": {
      "text/html": [
       "<div>\n",
       "<style scoped>\n",
       "    .dataframe tbody tr th:only-of-type {\n",
       "        vertical-align: middle;\n",
       "    }\n",
       "\n",
       "    .dataframe tbody tr th {\n",
       "        vertical-align: top;\n",
       "    }\n",
       "\n",
       "    .dataframe thead th {\n",
       "        text-align: right;\n",
       "    }\n",
       "</style>\n",
       "<table border=\"1\" class=\"dataframe\">\n",
       "  <thead>\n",
       "    <tr style=\"text-align: right;\">\n",
       "      <th></th>\n",
       "      <th>ID</th>\n",
       "      <th>population</th>\n",
       "      <th>inclusion</th>\n",
       "    </tr>\n",
       "  </thead>\n",
       "  <tbody>\n",
       "    <tr>\n",
       "      <th>0</th>\n",
       "      <td>PD_0215</td>\n",
       "      <td>cynocephalus</td>\n",
       "      <td>1</td>\n",
       "    </tr>\n",
       "    <tr>\n",
       "      <th>1</th>\n",
       "      <td>PD_0217</td>\n",
       "      <td>cynocephalus</td>\n",
       "      <td>1</td>\n",
       "    </tr>\n",
       "    <tr>\n",
       "      <th>2</th>\n",
       "      <td>PD_0223</td>\n",
       "      <td>cynocephalus</td>\n",
       "      <td>1</td>\n",
       "    </tr>\n",
       "    <tr>\n",
       "      <th>3</th>\n",
       "      <td>PD_0227</td>\n",
       "      <td>cynocephalus</td>\n",
       "      <td>1</td>\n",
       "    </tr>\n",
       "    <tr>\n",
       "      <th>4</th>\n",
       "      <td>PD_0228</td>\n",
       "      <td>cynocephalus</td>\n",
       "      <td>1</td>\n",
       "    </tr>\n",
       "    <tr>\n",
       "      <th>...</th>\n",
       "      <td>...</td>\n",
       "      <td>...</td>\n",
       "      <td>...</td>\n",
       "    </tr>\n",
       "    <tr>\n",
       "      <th>121</th>\n",
       "      <td>PD_0398</td>\n",
       "      <td>papio</td>\n",
       "      <td>1</td>\n",
       "    </tr>\n",
       "    <tr>\n",
       "      <th>122</th>\n",
       "      <td>PD_0399</td>\n",
       "      <td>papio</td>\n",
       "      <td>1</td>\n",
       "    </tr>\n",
       "    <tr>\n",
       "      <th>123</th>\n",
       "      <td>PD_0400</td>\n",
       "      <td>papio</td>\n",
       "      <td>1</td>\n",
       "    </tr>\n",
       "    <tr>\n",
       "      <th>124</th>\n",
       "      <td>PD_0401</td>\n",
       "      <td>papio</td>\n",
       "      <td>1</td>\n",
       "    </tr>\n",
       "    <tr>\n",
       "      <th>125</th>\n",
       "      <td>PD_0692</td>\n",
       "      <td>ursinus</td>\n",
       "      <td>1</td>\n",
       "    </tr>\n",
       "  </tbody>\n",
       "</table>\n",
       "<p>126 rows × 3 columns</p>\n",
       "</div>"
      ],
      "text/plain": [
       "          ID    population  inclusion\n",
       "0    PD_0215  cynocephalus          1\n",
       "1    PD_0217  cynocephalus          1\n",
       "2    PD_0223  cynocephalus          1\n",
       "3    PD_0227  cynocephalus          1\n",
       "4    PD_0228  cynocephalus          1\n",
       "..       ...           ...        ...\n",
       "121  PD_0398         papio          1\n",
       "122  PD_0399         papio          1\n",
       "123  PD_0400         papio          1\n",
       "124  PD_0401         papio          1\n",
       "125  PD_0692       ursinus          1\n",
       "\n",
       "[126 rows x 3 columns]"
      ]
     },
     "execution_count": 15,
     "metadata": {},
     "output_type": "execute_result"
    }
   ],
   "source": [
    "pop_df"
   ]
  },
  {
   "cell_type": "code",
   "execution_count": 16,
   "metadata": {},
   "outputs": [],
   "source": [
    "pop_df.to_csv(\"/faststorage/project/baboondiversity/data/haploidified_chrX_males/idfile.ids\",\n",
    "              sep=\" \", header=False, index=False)"
   ]
  },
  {
   "cell_type": "code",
   "execution_count": 12,
   "metadata": {},
   "outputs": [],
   "source": [
    "meta_data_samples_Sci = meta_data_samples.copy()\n",
    "for i, row in meta_data_samples_Sci.iterrows():\n",
    "    if row.PGDP_ID[0] != \"P\":\n",
    "        meta_data_samples_Sci.at[i, \"PGDP_ID\"] = \"Sci_\"+str(row.PGDP_ID)"
   ]
  },
  {
   "cell_type": "code",
   "execution_count": 22,
   "metadata": {},
   "outputs": [
    {
     "data": {
      "text/html": [
       "<div>\n",
       "<style scoped>\n",
       "    .dataframe tbody tr th:only-of-type {\n",
       "        vertical-align: middle;\n",
       "    }\n",
       "\n",
       "    .dataframe tbody tr th {\n",
       "        vertical-align: top;\n",
       "    }\n",
       "\n",
       "    .dataframe thead th {\n",
       "        text-align: right;\n",
       "    }\n",
       "</style>\n",
       "<table border=\"1\" class=\"dataframe\">\n",
       "  <thead>\n",
       "    <tr style=\"text-align: right;\">\n",
       "      <th></th>\n",
       "      <th>PGDP_ID</th>\n",
       "      <th>Provider_ID</th>\n",
       "      <th>Provider</th>\n",
       "      <th>Genus</th>\n",
       "      <th>Species</th>\n",
       "      <th>Origin</th>\n",
       "      <th>Sex</th>\n",
       "      <th>address</th>\n",
       "      <th>longitude</th>\n",
       "      <th>latitude</th>\n",
       "      <th>callset_index</th>\n",
       "      <th>C_origin</th>\n",
       "      <th>x_missing</th>\n",
       "    </tr>\n",
       "  </thead>\n",
       "  <tbody>\n",
       "    <tr>\n",
       "      <th>8</th>\n",
       "      <td>Sci_97124</td>\n",
       "      <td>97124</td>\n",
       "      <td>Jolly/Phillips-Conroy</td>\n",
       "      <td>Papio</td>\n",
       "      <td>hamadryas</td>\n",
       "      <td>Awash, Ethiopia</td>\n",
       "      <td>M</td>\n",
       "      <td>አዋሽ / Awash, Zone 3, አፋር ክልል / Afar, ኢትዮጵያ</td>\n",
       "      <td>40.167674</td>\n",
       "      <td>8.992496</td>\n",
       "      <td>8</td>\n",
       "      <td>Hamadryas, Ethiopia</td>\n",
       "      <td>0.021821</td>\n",
       "    </tr>\n",
       "    <tr>\n",
       "      <th>9</th>\n",
       "      <td>PD_0067</td>\n",
       "      <td>1043</td>\n",
       "      <td>Roos</td>\n",
       "      <td>Theropithecus</td>\n",
       "      <td>gelada</td>\n",
       "      <td>captive</td>\n",
       "      <td>M</td>\n",
       "      <td>SDSU Captive Wildlife Research Facility, Brook...</td>\n",
       "      <td>-96.793280</td>\n",
       "      <td>44.334031</td>\n",
       "      <td>9</td>\n",
       "      <td>Gelada, Captive</td>\n",
       "      <td>0.024995</td>\n",
       "    </tr>\n",
       "    <tr>\n",
       "      <th>10</th>\n",
       "      <td>PD_0199</td>\n",
       "      <td>09SNF1101115</td>\n",
       "      <td>Knauf/Chuma/Roos</td>\n",
       "      <td>Papio</td>\n",
       "      <td>anubis</td>\n",
       "      <td>Serengeti, Tanzania</td>\n",
       "      <td>F</td>\n",
       "      <td>Serengeti, Mara, Lake Zone, Tanzania</td>\n",
       "      <td>34.742544</td>\n",
       "      <td>-1.996626</td>\n",
       "      <td>10</td>\n",
       "      <td>Anubis, Tanzania</td>\n",
       "      <td>0.003591</td>\n",
       "    </tr>\n",
       "  </tbody>\n",
       "</table>\n",
       "</div>"
      ],
      "text/plain": [
       "      PGDP_ID   Provider_ID               Provider          Genus    Species  \\\n",
       "8   Sci_97124         97124  Jolly/Phillips-Conroy          Papio  hamadryas   \n",
       "9     PD_0067          1043                   Roos  Theropithecus     gelada   \n",
       "10    PD_0199  09SNF1101115       Knauf/Chuma/Roos          Papio     anubis   \n",
       "\n",
       "                 Origin Sex  \\\n",
       "8       Awash, Ethiopia   M   \n",
       "9               captive   M   \n",
       "10  Serengeti, Tanzania   F   \n",
       "\n",
       "                                              address  longitude   latitude  \\\n",
       "8          አዋሽ / Awash, Zone 3, አፋር ክልል / Afar, ኢትዮጵያ  40.167674   8.992496   \n",
       "9   SDSU Captive Wildlife Research Facility, Brook... -96.793280  44.334031   \n",
       "10               Serengeti, Mara, Lake Zone, Tanzania  34.742544  -1.996626   \n",
       "\n",
       "    callset_index             C_origin  x_missing  \n",
       "8               8  Hamadryas, Ethiopia   0.021821  \n",
       "9               9      Gelada, Captive   0.024995  \n",
       "10             10     Anubis, Tanzania   0.003591  "
      ]
     },
     "execution_count": 22,
     "metadata": {},
     "output_type": "execute_result"
    }
   ],
   "source": [
    "meta_data_samples_Sci.to_csv(\"../data/metadata_Sci_included.txt\",\n",
    "              sep=\" \", header=False, index=False)\n",
    "meta_data_samples_Sci.iloc[8:11]"
   ]
  }
 ],
 "metadata": {
  "kernelspec": {
   "display_name": "Python 3",
   "language": "python",
   "name": "python3"
  },
  "language_info": {
   "codemirror_mode": {
    "name": "ipython",
    "version": 3
   },
   "file_extension": ".py",
   "mimetype": "text/x-python",
   "name": "python",
   "nbconvert_exporter": "python",
   "pygments_lexer": "ipython3",
   "version": "3.7.9"
  }
 },
 "nbformat": 4,
 "nbformat_minor": 4
}
