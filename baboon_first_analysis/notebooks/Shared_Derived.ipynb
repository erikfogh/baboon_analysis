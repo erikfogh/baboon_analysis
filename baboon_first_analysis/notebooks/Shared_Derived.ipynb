{
 "cells": [
  {
   "cell_type": "code",
   "execution_count": 2,
   "metadata": {},
   "outputs": [],
   "source": [
    "#Initial configuration, probably overkill in imports.\n",
    "import sys, os, re\n",
    "import numpy as np\n",
    "import allel\n",
    "import zarr\n",
    "import dask\n",
    "import numcodecs\n",
    "import warnings\n",
    "from pathlib import Path\n",
    "\n",
    "#os.environ[\"MODIN_ENGINE\"] = \"ray\"\n",
    "\n",
    "#import modin.pandas as pd\n",
    "import pandas as pd\n",
    "\n",
    "%matplotlib widget\n",
    "from IPython.display import set_matplotlib_formats\n",
    "set_matplotlib_formats('retina', 'png')\n",
    "import matplotlib\n",
    "import matplotlib.pyplot as plt\n",
    "from matplotlib.colors import ListedColormap\n",
    "import seaborn as sns\n",
    "sns.set()\n",
    "sns.set_theme()\n",
    "sns.set_style(\"white\")\n",
    "sns.set_context(\"notebook\")"
   ]
  },
  {
   "cell_type": "code",
   "execution_count": 3,
   "metadata": {},
   "outputs": [
    {
     "data": {
      "application/vnd.jupyter.widget-view+json": {
       "model_id": "3637b5738460449f82b9b7552700458f",
       "version_major": 2,
       "version_minor": 0
      },
      "text/plain": [
       "Tree(nodes=(Node(disabled=True, name='/', nodes=(Node(disabled=True, name='chr1', nodes=(Node(disabled=True, n…"
      ]
     },
     "metadata": {},
     "output_type": "display_data"
    }
   ],
   "source": [
    "meta_data_samples = pd.read_table(\"../data/meta_data_samples.txt\", sep = \" \")\n",
    "#Opening the zarr data\n",
    "callset = zarr.open_group('/faststorage/project/primatediversity/people/kmt/baboon_flagship/steps/callset.zarr', mode='r')\n",
    "callset.tree(expand=False)"
   ]
  }
 ],
 "metadata": {
  "kernelspec": {
   "display_name": "Python 3",
   "language": "python",
   "name": "python3"
  },
  "language_info": {
   "codemirror_mode": {
    "name": "ipython",
    "version": 3
   },
   "file_extension": ".py",
   "mimetype": "text/x-python",
   "name": "python",
   "nbconvert_exporter": "python",
   "pygments_lexer": "ipython3",
   "version": "3.7.9"
  }
 },
 "nbformat": 4,
 "nbformat_minor": 4
}
