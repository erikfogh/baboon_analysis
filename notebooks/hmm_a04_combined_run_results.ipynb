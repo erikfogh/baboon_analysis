{
 "cells": [
  {
   "cell_type": "markdown",
   "metadata": {},
   "source": [
    "Batch calculation of archaic introgression in papio and anubis"
   ]
  },
  {
   "cell_type": "code",
   "execution_count": 1,
   "metadata": {},
   "outputs": [],
   "source": [
    "%run ../scripts/notebook_settings.py"
   ]
  },
  {
   "cell_type": "code",
   "execution_count": 2,
   "metadata": {},
   "outputs": [],
   "source": [
    "meta_data_samples = pd.read_table(\"../data/metadata_with_x_missing.txt\", sep=\" \")\n",
    "chromosome_numbers = ['{}'.format(x) for x in range(1, 21)] + ['X']"
   ]
  },
  {
   "cell_type": "markdown",
   "metadata": {},
   "source": [
    "Archaic blocks in papio"
   ]
  },
  {
   "cell_type": "code",
   "execution_count": 3,
   "metadata": {},
   "outputs": [],
   "source": [
    "ingroup_ids = meta_data_samples.loc[meta_data_samples.Species == \"papio\"].callset_index.values\n",
    "ingroup_names = meta_data_samples.loc[meta_data_samples.Species == \"papio\"].PGDP_ID.values\n",
    "outgroup_ids = meta_data_samples.loc[(meta_data_samples.Species != \"papio\") &\n",
    "                                     (meta_data_samples.Species != \"gelada\")].callset_index.values\n",
    "dir_name = \"steps/papio_intro/\""
   ]
  },
  {
   "cell_type": "code",
   "execution_count": 4,
   "metadata": {},
   "outputs": [
    {
     "name": "stdout",
     "output_type": "stream",
     "text": [
      "PD_0390\n",
      "PD_0391\n",
      "PD_0392\n",
      "PD_0393\n",
      "PD_0394\n",
      "PD_0395\n",
      "PD_0396\n",
      "PD_0397\n",
      "PD_0398\n",
      "PD_0399\n",
      "PD_0400\n",
      "PD_0401\n"
     ]
    }
   ],
   "source": [
    "path = \"../\"+dir_name+\"{}.Summary.txt\"\n",
    "archaic_lengths = 0\n",
    "normal_lengths = 0\n",
    "id_list = []\n",
    "percentage_list = []\n",
    "for ID in ingroup_names:\n",
    "    summary_file = pd.read_csv(path.format(ID), sep = \"\\t\")\n",
    "    archaic_lengths += summary_file.loc[summary_file.state == \"Archaic\"].length.sum()\n",
    "    normal_lengths += summary_file.loc[summary_file.state == \"Baboon\"].length.sum()\n",
    "    id_list.append(ID)\n",
    "    percentage_list.append(summary_file.loc[summary_file.state == \"Archaic\"].length.sum()/summary_file.length.sum())\n",
    "    print(ID)"
   ]
  },
  {
   "cell_type": "code",
   "execution_count": 5,
   "metadata": {},
   "outputs": [
    {
     "data": {
      "text/plain": [
       "0.056258996975579366"
      ]
     },
     "execution_count": 5,
     "metadata": {},
     "output_type": "execute_result"
    }
   ],
   "source": [
    "archaic_lengths/(normal_lengths+archaic_lengths)"
   ]
  },
  {
   "cell_type": "code",
   "execution_count": 6,
   "metadata": {},
   "outputs": [],
   "source": [
    "d = {\"PGDP_ID\": id_list, \"Archaic_percentage\": percentage_list}\n",
    "df_papio = pd.DataFrame(data=d)"
   ]
  },
  {
   "cell_type": "code",
   "execution_count": 7,
   "metadata": {},
   "outputs": [
    {
     "data": {
      "text/plain": [
       "<AxesSubplot:xlabel='Archaic_percentage', ylabel='Count'>"
      ]
     },
     "execution_count": 7,
     "metadata": {},
     "output_type": "execute_result"
    },
    {
     "data": {
      "image/png": "[encoded data removed]",
      "text/plain": [
       "<Figure size 432x288 with 1 Axes>"
      ]
     },
     "metadata": {},
     "output_type": "display_data"
    }
   ],
   "source": [
    "sns.histplot(df_papio, x=\"Archaic_percentage\")"
   ]
  },
  {
   "cell_type": "code",
   "execution_count": 8,
   "metadata": {},
   "outputs": [
    {
     "data": {
      "text/html": [
       "<div>\n",
       "<style scoped>\n",
       "    .dataframe tbody tr th:only-of-type {\n",
       "        vertical-align: middle;\n",
       "    }\n",
       "\n",
       "    .dataframe tbody tr th {\n",
       "        vertical-align: top;\n",
       "    }\n",
       "\n",
       "    .dataframe thead th {\n",
       "        text-align: right;\n",
       "    }\n",
       "</style>\n",
       "<table border=\"1\" class=\"dataframe\">\n",
       "  <thead>\n",
       "    <tr style=\"text-align: right;\">\n",
       "      <th></th>\n",
       "      <th>Archaic_percentage</th>\n",
       "    </tr>\n",
       "    <tr>\n",
       "      <th>PGDP_ID</th>\n",
       "      <th></th>\n",
       "    </tr>\n",
       "  </thead>\n",
       "  <tbody>\n",
       "    <tr>\n",
       "      <th>PD_0390</th>\n",
       "      <td>0.065964</td>\n",
       "    </tr>\n",
       "    <tr>\n",
       "      <th>PD_0391</th>\n",
       "      <td>0.077934</td>\n",
       "    </tr>\n",
       "    <tr>\n",
       "      <th>PD_0392</th>\n",
       "      <td>0.063047</td>\n",
       "    </tr>\n",
       "    <tr>\n",
       "      <th>PD_0393</th>\n",
       "      <td>0.065233</td>\n",
       "    </tr>\n",
       "    <tr>\n",
       "      <th>PD_0394</th>\n",
       "      <td>0.061221</td>\n",
       "    </tr>\n",
       "    <tr>\n",
       "      <th>PD_0395</th>\n",
       "      <td>0.047973</td>\n",
       "    </tr>\n",
       "    <tr>\n",
       "      <th>PD_0396</th>\n",
       "      <td>0.048643</td>\n",
       "    </tr>\n",
       "    <tr>\n",
       "      <th>PD_0397</th>\n",
       "      <td>0.057403</td>\n",
       "    </tr>\n",
       "    <tr>\n",
       "      <th>PD_0398</th>\n",
       "      <td>0.049032</td>\n",
       "    </tr>\n",
       "    <tr>\n",
       "      <th>PD_0399</th>\n",
       "      <td>0.050500</td>\n",
       "    </tr>\n",
       "    <tr>\n",
       "      <th>PD_0400</th>\n",
       "      <td>0.043627</td>\n",
       "    </tr>\n",
       "    <tr>\n",
       "      <th>PD_0401</th>\n",
       "      <td>0.044529</td>\n",
       "    </tr>\n",
       "  </tbody>\n",
       "</table>\n",
       "</div>"
      ],
      "text/plain": [
       "         Archaic_percentage\n",
       "PGDP_ID                    \n",
       "PD_0390            0.065964\n",
       "PD_0391            0.077934\n",
       "PD_0392            0.063047\n",
       "PD_0393            0.065233\n",
       "PD_0394            0.061221\n",
       "PD_0395            0.047973\n",
       "PD_0396            0.048643\n",
       "PD_0397            0.057403\n",
       "PD_0398            0.049032\n",
       "PD_0399            0.050500\n",
       "PD_0400            0.043627\n",
       "PD_0401            0.044529"
      ]
     },
     "execution_count": 8,
     "metadata": {},
     "output_type": "execute_result"
    }
   ],
   "source": [
    "df_papio.groupby(\"PGDP_ID\").mean()"
   ]
  },
  {
   "cell_type": "markdown",
   "metadata": {},
   "source": [
    "Block stats"
   ]
  },
  {
   "cell_type": "code",
   "execution_count": 9,
   "metadata": {},
   "outputs": [
    {
     "name": "stdout",
     "output_type": "stream",
     "text": [
      "PD_0390\n",
      "PD_0391\n",
      "PD_0392\n",
      "PD_0393\n",
      "PD_0394\n",
      "PD_0395\n",
      "PD_0396\n",
      "PD_0397\n",
      "PD_0398\n",
      "PD_0399\n",
      "PD_0400\n",
      "PD_0401\n"
     ]
    }
   ],
   "source": [
    "path = \"../\"+dir_name+\"{}.All_posterior_probs.txt\"\n",
    "df_start = None\n",
    "total_df = pd.DataFrame()\n",
    "df_list = []\n",
    "for ID in ingroup_names:\n",
    "    total_file = pd.read_csv(path.format(ID), sep = \"\\t\")\n",
    "    if df_start == None:\n",
    "        total_df = total_file\n",
    "        df_start = True\n",
    "    total_df[ID] = total_file[\"Mostlikely\"]\n",
    "    print(ID)"
   ]
  },
  {
   "cell_type": "code",
   "execution_count": 10,
   "metadata": {},
   "outputs": [
    {
     "data": {
      "text/plain": [
       "<AxesSubplot:ylabel='Count'>"
      ]
     },
     "execution_count": 10,
     "metadata": {},
     "output_type": "execute_result"
    },
    {
     "data": {
      "image/png": "[encoded data removed]",
      "text/plain": [
       "<Figure size 432x288 with 1 Axes>"
      ]
     },
     "metadata": {},
     "output_type": "display_data"
    }
   ],
   "source": [
    "sns.histplot((total_df.iloc[:,7:] == \"Archaic\").sum(axis=1))"
   ]
  },
  {
   "cell_type": "code",
   "execution_count": 11,
   "metadata": {},
   "outputs": [],
   "source": [
    "chrom_blocks = (total_df.iloc[:,7:] == \"Archaic\").sum(axis=1)"
   ]
  },
  {
   "cell_type": "code",
   "execution_count": 12,
   "metadata": {},
   "outputs": [
    {
     "data": {
      "text/plain": [
       "Text(0.5, 1.0, 'Number of archaic blocks per window, removing 0')"
      ]
     },
     "execution_count": 12,
     "metadata": {},
     "output_type": "execute_result"
    },
    {
     "data": {
      "image/png": "[encoded data removed]",
      "text/plain": [
       "<Figure size 432x288 with 1 Axes>"
      ]
     },
     "metadata": {},
     "output_type": "display_data"
    }
   ],
   "source": [
    "sns.histplot(chrom_blocks.loc[(chrom_blocks > 1)]).set_title(\"Number of archaic blocks per window, removing 0\")"
   ]
  },
  {
   "cell_type": "markdown",
   "metadata": {},
   "source": [
    "Generalized descriptions of the block stats, set up to run on each combination"
   ]
  },
  {
   "cell_type": "code",
   "execution_count": 13,
   "metadata": {},
   "outputs": [],
   "source": [
    "name_l_l = [meta_data_samples.loc[meta_data_samples.Species == \"papio\"].PGDP_ID.values,\n",
    "           meta_data_samples.loc[meta_data_samples.Species == \"anubis\"].PGDP_ID.values,\n",
    "           meta_data_samples.loc[meta_data_samples.Origin == \"Udzungwa, Tanzania\"].PGDP_ID.values]\n",
    "dir_l = [\"steps/papio_intro/\", \"steps/anubis_intro/\", \"steps/subcynocephalus_intro/\"]"
   ]
  },
  {
   "cell_type": "code",
   "execution_count": 14,
   "metadata": {},
   "outputs": [],
   "source": [
    "def percentage_check(ingroup_ids, dir_name):\n",
    "    path = \"../\"+dir_name+\"{}.Summary.txt\"\n",
    "    archaic_lengths = 0\n",
    "    normal_lengths = 0\n",
    "    id_list = []\n",
    "    percentage_list = []\n",
    "    for ID in ingroup_ids:\n",
    "        summary_file = pd.read_csv(path.format(ID), sep = \"\\t\")\n",
    "        archaic_lengths += summary_file.loc[summary_file.state == \"Archaic\"].length.sum()\n",
    "        normal_lengths += summary_file.loc[summary_file.state == \"Baboon\"].length.sum()\n",
    "        id_list.append(ID)\n",
    "        percentage_list.append(summary_file.loc[summary_file.state == \"Archaic\"].length.sum()/summary_file.length.sum())\n",
    "    return pd.DataFrame(data={\"ID\": id_list, \"percentage_archaic\": percentage_list})"
   ]
  },
  {
   "cell_type": "code",
   "execution_count": 15,
   "metadata": {},
   "outputs": [
    {
     "data": {
      "text/html": [
       "<div>\n",
       "<style scoped>\n",
       "    .dataframe tbody tr th:only-of-type {\n",
       "        vertical-align: middle;\n",
       "    }\n",
       "\n",
       "    .dataframe tbody tr th {\n",
       "        vertical-align: top;\n",
       "    }\n",
       "\n",
       "    .dataframe thead th {\n",
       "        text-align: right;\n",
       "    }\n",
       "</style>\n",
       "<table border=\"1\" class=\"dataframe\">\n",
       "  <thead>\n",
       "    <tr style=\"text-align: right;\">\n",
       "      <th></th>\n",
       "      <th>ID</th>\n",
       "      <th>percentage_archaic</th>\n",
       "    </tr>\n",
       "  </thead>\n",
       "  <tbody>\n",
       "    <tr>\n",
       "      <th>0</th>\n",
       "      <td>PD_0223</td>\n",
       "      <td>0.136263</td>\n",
       "    </tr>\n",
       "    <tr>\n",
       "      <th>1</th>\n",
       "      <td>PD_0224</td>\n",
       "      <td>0.112581</td>\n",
       "    </tr>\n",
       "    <tr>\n",
       "      <th>2</th>\n",
       "      <td>PD_0225</td>\n",
       "      <td>0.141226</td>\n",
       "    </tr>\n",
       "    <tr>\n",
       "      <th>3</th>\n",
       "      <td>PD_0226</td>\n",
       "      <td>0.126508</td>\n",
       "    </tr>\n",
       "    <tr>\n",
       "      <th>4</th>\n",
       "      <td>PD_0227</td>\n",
       "      <td>0.123819</td>\n",
       "    </tr>\n",
       "  </tbody>\n",
       "</table>\n",
       "</div>"
      ],
      "text/plain": [
       "        ID  percentage_archaic\n",
       "0  PD_0223            0.136263\n",
       "1  PD_0224            0.112581\n",
       "2  PD_0225            0.141226\n",
       "3  PD_0226            0.126508\n",
       "4  PD_0227            0.123819"
      ]
     },
     "execution_count": 15,
     "metadata": {},
     "output_type": "execute_result"
    }
   ],
   "source": [
    "percentage_check(meta_data_samples.loc[meta_data_samples.Origin == \"Udzungwa, Tanzania\"].PGDP_ID.values, \"steps/subcynocephalus_intro/\")"
   ]
  },
  {
   "cell_type": "code",
   "execution_count": 16,
   "metadata": {},
   "outputs": [],
   "source": [
    "def block_overlap(ingroup_ids, dir_name):\n",
    "    path = \"../\"+dir_name+\"{}.All_posterior_probs.txt\"\n",
    "    df_start = None\n",
    "    total_df = pd.DataFrame()\n",
    "    df_list = []\n",
    "    for ID in ingroup_ids:\n",
    "        total_file = pd.read_csv(path.format(ID), sep = \"\\t\")\n",
    "        if df_start == None:\n",
    "            total_df = total_file\n",
    "            df_start = True\n",
    "        total_df[ID] = total_file[\"Mostlikely\"]\n",
    "    return total_df"
   ]
  },
  {
   "cell_type": "code",
   "execution_count": 17,
   "metadata": {},
   "outputs": [],
   "source": [
    "block_df = block_overlap(meta_data_samples.loc[meta_data_samples.Species == \"anubis\"].PGDP_ID.values, \"steps/anubis_intro/\")"
   ]
  },
  {
   "cell_type": "code",
   "execution_count": 18,
   "metadata": {},
   "outputs": [
    {
     "data": {
      "text/plain": [
       "<AxesSubplot:ylabel='Count'>"
      ]
     },
     "execution_count": 18,
     "metadata": {},
     "output_type": "execute_result"
    },
    {
     "data": {
      "image/png": "[encoded data removed]",
      "text/plain": [
       "<Figure size 432x288 with 1 Axes>"
      ]
     },
     "metadata": {},
     "output_type": "display_data"
    }
   ],
   "source": [
    "sns.histplot((block_df.iloc[:,7:] == \"Archaic\").sum(axis=1))"
   ]
  },
  {
   "cell_type": "code",
   "execution_count": 19,
   "metadata": {},
   "outputs": [],
   "source": [
    "chrom_blocks = (block_df.iloc[:,7:] == \"Archaic\").sum(axis=1)"
   ]
  },
  {
   "cell_type": "code",
   "execution_count": 20,
   "metadata": {},
   "outputs": [
    {
     "data": {
      "text/plain": [
       "Text(0.5, 1.0, 'Number of archaic blocks per window, removing 0')"
      ]
     },
     "execution_count": 20,
     "metadata": {},
     "output_type": "execute_result"
    },
    {
     "data": {
      "image/png": "[encoded data removed]",
      "text/plain": [
       "<Figure size 432x288 with 1 Axes>"
      ]
     },
     "metadata": {},
     "output_type": "display_data"
    }
   ],
   "source": [
    "sns.histplot(chrom_blocks.loc[(chrom_blocks >= 1)]).set_title(\"Number of archaic blocks per window, removing 0\")"
   ]
  },
  {
   "cell_type": "code",
   "execution_count": 21,
   "metadata": {},
   "outputs": [],
   "source": [
    "def block_lengths(ingroup_ids, dir_name):\n",
    "    path = \"../\"+dir_name+\"{}.Summary.txt\"\n",
    "    df_list = []\n",
    "    for ID in ingroup_ids:\n",
    "        summary_file = pd.read_csv(path.format(ID), sep = \"\\t\")\n",
    "        df = pd.DataFrame()\n",
    "        archaic_df = summary_file.loc[summary_file.state == \"Archaic\"]\n",
    "        df[\"a_length\"] = archaic_df.length.values\n",
    "        df[\"ID\"] = ID\n",
    "        df[\"chrom\"] = archaic_df.chrom.values\n",
    "        df_list.append(df)\n",
    "    return pd.concat(df_list)"
   ]
  },
  {
   "cell_type": "markdown",
   "metadata": {},
   "source": [
    "Checking all combinations"
   ]
  },
  {
   "cell_type": "code",
   "execution_count": 22,
   "metadata": {},
   "outputs": [],
   "source": [
    "df_list = []\n",
    "for i in range(len(dir_l)):\n",
    "    df_list.append(percentage_check(name_l_l[i], dir_l[i]))"
   ]
  },
  {
   "cell_type": "code",
   "execution_count": 23,
   "metadata": {},
   "outputs": [
    {
     "data": {
      "text/plain": [
       "Text(0.5, 1.0, 'Papio')"
      ]
     },
     "execution_count": 23,
     "metadata": {},
     "output_type": "execute_result"
    },
    {
     "data": {
      "image/png": "[encoded data removed]",
      "text/plain": [
       "<Figure size 432x288 with 1 Axes>"
      ]
     },
     "metadata": {},
     "output_type": "display_data"
    }
   ],
   "source": [
    "df = df_list[0]\n",
    "sns.histplot(df, x=\"percentage_archaic\").set_title(\"Papio\")"
   ]
  },
  {
   "cell_type": "code",
   "execution_count": 24,
   "metadata": {},
   "outputs": [
    {
     "data": {
      "text/plain": [
       "Text(0.5, 1.0, 'Anubis')"
      ]
     },
     "execution_count": 24,
     "metadata": {},
     "output_type": "execute_result"
    },
    {
     "data": {
      "image/png": "[encoded data removed]",
      "text/plain": [
       "<Figure size 432x288 with 1 Axes>"
      ]
     },
     "metadata": {},
     "output_type": "display_data"
    }
   ],
   "source": [
    "df = df_list[1]\n",
    "sns.histplot(df, x=\"percentage_archaic\").set_title(\"Anubis\")"
   ]
  },
  {
   "cell_type": "code",
   "execution_count": 25,
   "metadata": {},
   "outputs": [
    {
     "data": {
      "text/html": [
       "<div>\n",
       "<style scoped>\n",
       "    .dataframe tbody tr th:only-of-type {\n",
       "        vertical-align: middle;\n",
       "    }\n",
       "\n",
       "    .dataframe tbody tr th {\n",
       "        vertical-align: top;\n",
       "    }\n",
       "\n",
       "    .dataframe thead th {\n",
       "        text-align: right;\n",
       "    }\n",
       "</style>\n",
       "<table border=\"1\" class=\"dataframe\">\n",
       "  <thead>\n",
       "    <tr style=\"text-align: right;\">\n",
       "      <th></th>\n",
       "      <th>ID</th>\n",
       "      <th>percentage_archaic</th>\n",
       "    </tr>\n",
       "  </thead>\n",
       "  <tbody>\n",
       "    <tr>\n",
       "      <th>69</th>\n",
       "      <td>PD_0720</td>\n",
       "      <td>0.375317</td>\n",
       "    </tr>\n",
       "    <tr>\n",
       "      <th>70</th>\n",
       "      <td>PD_0721</td>\n",
       "      <td>0.368704</td>\n",
       "    </tr>\n",
       "    <tr>\n",
       "      <th>71</th>\n",
       "      <td>PD_0722</td>\n",
       "      <td>0.369746</td>\n",
       "    </tr>\n",
       "    <tr>\n",
       "      <th>72</th>\n",
       "      <td>PD_0723</td>\n",
       "      <td>0.366946</td>\n",
       "    </tr>\n",
       "    <tr>\n",
       "      <th>73</th>\n",
       "      <td>PD_0724</td>\n",
       "      <td>0.364043</td>\n",
       "    </tr>\n",
       "    <tr>\n",
       "      <th>74</th>\n",
       "      <td>PD_0725</td>\n",
       "      <td>0.377834</td>\n",
       "    </tr>\n",
       "    <tr>\n",
       "      <th>75</th>\n",
       "      <td>PD_0726</td>\n",
       "      <td>0.361336</td>\n",
       "    </tr>\n",
       "    <tr>\n",
       "      <th>76</th>\n",
       "      <td>PD_0727</td>\n",
       "      <td>0.378253</td>\n",
       "    </tr>\n",
       "    <tr>\n",
       "      <th>77</th>\n",
       "      <td>PD_0728</td>\n",
       "      <td>0.367571</td>\n",
       "    </tr>\n",
       "    <tr>\n",
       "      <th>78</th>\n",
       "      <td>PD_0729</td>\n",
       "      <td>0.377566</td>\n",
       "    </tr>\n",
       "    <tr>\n",
       "      <th>79</th>\n",
       "      <td>PD_0730</td>\n",
       "      <td>0.369799</td>\n",
       "    </tr>\n",
       "    <tr>\n",
       "      <th>80</th>\n",
       "      <td>PD_0731</td>\n",
       "      <td>0.367497</td>\n",
       "    </tr>\n",
       "    <tr>\n",
       "      <th>81</th>\n",
       "      <td>PD_0732</td>\n",
       "      <td>0.380086</td>\n",
       "    </tr>\n",
       "    <tr>\n",
       "      <th>82</th>\n",
       "      <td>PD_0733</td>\n",
       "      <td>0.388456</td>\n",
       "    </tr>\n",
       "    <tr>\n",
       "      <th>83</th>\n",
       "      <td>PD_0734</td>\n",
       "      <td>0.382810</td>\n",
       "    </tr>\n",
       "    <tr>\n",
       "      <th>84</th>\n",
       "      <td>PD_0735</td>\n",
       "      <td>0.371173</td>\n",
       "    </tr>\n",
       "    <tr>\n",
       "      <th>85</th>\n",
       "      <td>PD_0736</td>\n",
       "      <td>0.364292</td>\n",
       "    </tr>\n",
       "    <tr>\n",
       "      <th>86</th>\n",
       "      <td>PD_0737</td>\n",
       "      <td>0.354935</td>\n",
       "    </tr>\n",
       "    <tr>\n",
       "      <th>87</th>\n",
       "      <td>PD_0738</td>\n",
       "      <td>0.362425</td>\n",
       "    </tr>\n",
       "    <tr>\n",
       "      <th>88</th>\n",
       "      <td>PD_0739</td>\n",
       "      <td>0.381931</td>\n",
       "    </tr>\n",
       "    <tr>\n",
       "      <th>89</th>\n",
       "      <td>PD_0740</td>\n",
       "      <td>0.381778</td>\n",
       "    </tr>\n",
       "    <tr>\n",
       "      <th>90</th>\n",
       "      <td>PD_0741</td>\n",
       "      <td>0.369553</td>\n",
       "    </tr>\n",
       "    <tr>\n",
       "      <th>91</th>\n",
       "      <td>PD_0742</td>\n",
       "      <td>0.385992</td>\n",
       "    </tr>\n",
       "    <tr>\n",
       "      <th>92</th>\n",
       "      <td>PD_0743</td>\n",
       "      <td>0.393392</td>\n",
       "    </tr>\n",
       "    <tr>\n",
       "      <th>93</th>\n",
       "      <td>PD_0744</td>\n",
       "      <td>0.365818</td>\n",
       "    </tr>\n",
       "  </tbody>\n",
       "</table>\n",
       "</div>"
      ],
      "text/plain": [
       "         ID  percentage_archaic\n",
       "69  PD_0720            0.375317\n",
       "70  PD_0721            0.368704\n",
       "71  PD_0722            0.369746\n",
       "72  PD_0723            0.366946\n",
       "73  PD_0724            0.364043\n",
       "74  PD_0725            0.377834\n",
       "75  PD_0726            0.361336\n",
       "76  PD_0727            0.378253\n",
       "77  PD_0728            0.367571\n",
       "78  PD_0729            0.377566\n",
       "79  PD_0730            0.369799\n",
       "80  PD_0731            0.367497\n",
       "81  PD_0732            0.380086\n",
       "82  PD_0733            0.388456\n",
       "83  PD_0734            0.382810\n",
       "84  PD_0735            0.371173\n",
       "85  PD_0736            0.364292\n",
       "86  PD_0737            0.354935\n",
       "87  PD_0738            0.362425\n",
       "88  PD_0739            0.381931\n",
       "89  PD_0740            0.381778\n",
       "90  PD_0741            0.369553\n",
       "91  PD_0742            0.385992\n",
       "92  PD_0743            0.393392\n",
       "93  PD_0744            0.365818"
      ]
     },
     "execution_count": 25,
     "metadata": {},
     "output_type": "execute_result"
    }
   ],
   "source": [
    "df.loc[df.percentage_archaic < 0.4] #Ethiopian anubis"
   ]
  },
  {
   "cell_type": "code",
   "execution_count": 26,
   "metadata": {},
   "outputs": [
    {
     "data": {
      "text/plain": [
       "Text(0.5, 1.0, 'Subcynocephalus')"
      ]
     },
     "execution_count": 26,
     "metadata": {},
     "output_type": "execute_result"
    },
    {
     "data": {
      "image/png": "[encoded data removed]",
      "text/plain": [
       "<Figure size 432x288 with 1 Axes>"
      ]
     },
     "metadata": {},
     "output_type": "display_data"
    }
   ],
   "source": [
    "df = df_list[2]\n",
    "sns.histplot(df, x=\"percentage_archaic\").set_title(\"Subcynocephalus\")"
   ]
  },
  {
   "cell_type": "code",
   "execution_count": 27,
   "metadata": {},
   "outputs": [],
   "source": [
    "df_list = []\n",
    "for i in range(len(dir_l)):\n",
    "    df_list.append(block_lengths(name_l_l[i], dir_l[i]))"
   ]
  },
  {
   "cell_type": "code",
   "execution_count": 28,
   "metadata": {},
   "outputs": [
    {
     "data": {
      "text/plain": [
       "Text(0.5, 1.0, 'Papio')"
      ]
     },
     "execution_count": 28,
     "metadata": {},
     "output_type": "execute_result"
    },
    {
     "data": {
      "image/png": "[encoded data removed]",
      "text/plain": [
       "<Figure size 432x288 with 1 Axes>"
      ]
     },
     "metadata": {},
     "output_type": "display_data"
    }
   ],
   "source": [
    "df = df_list[0]\n",
    "sns.histplot(df.loc[df.a_length < 100000], x=\"a_length\").set_title(\"Papio\")"
   ]
  },
  {
   "cell_type": "code",
   "execution_count": 29,
   "metadata": {},
   "outputs": [
    {
     "data": {
      "text/plain": [
       "Text(0.5, 1.0, 'Anubis')"
      ]
     },
     "execution_count": 29,
     "metadata": {},
     "output_type": "execute_result"
    },
    {
     "data": {
      "image/png": "[encoded data removed]",
      "text/plain": [
       "<Figure size 432x288 with 1 Axes>"
      ]
     },
     "metadata": {},
     "output_type": "display_data"
    }
   ],
   "source": [
    "df = df_list[1]\n",
    "sns.histplot(df.loc[df.a_length < 100000], x=\"a_length\").set_title(\"Anubis\")"
   ]
  },
  {
   "cell_type": "code",
   "execution_count": 30,
   "metadata": {},
   "outputs": [
    {
     "data": {
      "text/plain": [
       "Text(0.5, 1.0, 'Subcynocephalus')"
      ]
     },
     "execution_count": 30,
     "metadata": {},
     "output_type": "execute_result"
    },
    {
     "data": {
      "image/png": "[encoded data removed]",
      "text/plain": [
       "<Figure size 432x288 with 1 Axes>"
      ]
     },
     "metadata": {},
     "output_type": "display_data"
    }
   ],
   "source": [
    "df = df_list[2]\n",
    "sns.histplot(df.loc[df.a_length < 100000], x=\"a_length\").set_title(\"Subcynocephalus\")"
   ]
  },
  {
   "cell_type": "code",
   "execution_count": 44,
   "metadata": {},
   "outputs": [],
   "source": [
    "def hmm_models(ingroup_ids, dir_name):\n",
    "    path = \"../\"+dir_name+\"{}.hmm\"\n",
    "    t1, t2, t3, t4, e1, e2, ID_l, chrom_l = [], [], [], [], [], [], [], []\n",
    "    for ID in ingroup_ids:\n",
    "        with open(path.format(ID)) as f:\n",
    "            lines = f.readlines()\n",
    "        hmm_t = []\n",
    "        for l in lines[7].strip()[14:].split(\",\"):\n",
    "            hmm_t.append(l.strip(\"][\"))\n",
    "        t1.append(hmm_t[0]), t2.append(hmm_t[1]), t3.append(hmm_t[2]), t4.append(hmm_t[3])\n",
    "        hmm_e = (lines[10].strip()[12:].strip(\"[]\").split(\",\"))\n",
    "        e1.append(hmm_e[0]), e2.append(hmm_e[1])\n",
    "        ID_l.append(ID)\n",
    "        \n",
    "    d = {\"t1\": t1, \"t2\": t2,\"t3\": t3,\"t4\": t4,\"e1\": e1,\"e2\": e2}\n",
    "    hmm_df = pd.DataFrame(data=d)\n",
    "    hmm_df = hmm_df.astype(\"float\")\n",
    "    hmm_df[\"ID\"] = ID_l\n",
    "    return hmm_df"
   ]
  },
  {
   "cell_type": "code",
   "execution_count": 45,
   "metadata": {},
   "outputs": [],
   "source": [
    "df_list = []\n",
    "for i in range(len(dir_l)):\n",
    "    df_list.append(hmm_models(name_l_l[i], dir_l[i]))"
   ]
  },
  {
   "cell_type": "code",
   "execution_count": 53,
   "metadata": {},
   "outputs": [
    {
     "data": {
      "text/plain": [
       "Text(0.5, 1.0, 'Papio')"
      ]
     },
     "execution_count": 53,
     "metadata": {},
     "output_type": "execute_result"
    },
    {
     "data": {
      "image/png": "[encoded data removed]",
      "text/plain": [
       "<Figure size 432x288 with 1 Axes>"
      ]
     },
     "metadata": {},
     "output_type": "display_data"
    }
   ],
   "source": [
    "hmm_df = df_list[0]\n",
    "sns.scatterplot(data=hmm_df, x=\"e1\", y=\"e2\").set_title(\"Papio\")"
   ]
  },
  {
   "cell_type": "code",
   "execution_count": 54,
   "metadata": {},
   "outputs": [
    {
     "data": {
      "text/plain": [
       "Text(0.5, 1.0, 'Anubis')"
      ]
     },
     "execution_count": 54,
     "metadata": {},
     "output_type": "execute_result"
    },
    {
     "data": {
      "image/png": "[encoded data removed]",
      "text/plain": [
       "<Figure size 432x288 with 1 Axes>"
      ]
     },
     "metadata": {},
     "output_type": "display_data"
    }
   ],
   "source": [
    "hmm_df = df_list[1]\n",
    "sns.scatterplot(data=hmm_df, x=\"e1\", y=\"e2\").set_title(\"Anubis\")"
   ]
  },
  {
   "cell_type": "code",
   "execution_count": 55,
   "metadata": {},
   "outputs": [
    {
     "data": {
      "text/plain": [
       "Text(0.5, 1.0, 'Subcynocephalus')"
      ]
     },
     "execution_count": 55,
     "metadata": {},
     "output_type": "execute_result"
    },
    {
     "data": {
      "image/png": "[encoded data removed]",
      "text/plain": [
       "<Figure size 432x288 with 1 Axes>"
      ]
     },
     "metadata": {},
     "output_type": "display_data"
    }
   ],
   "source": [
    "hmm_df = df_list[2]\n",
    "sns.scatterplot(data=hmm_df, x=\"e1\", y=\"e2\").set_title(\"Subcynocephalus\")"
   ]
  },
  {
   "cell_type": "markdown",
   "metadata": {},
   "source": [
    "Archaic blocks in anubis"
   ]
  },
  {
   "cell_type": "code",
   "execution_count": 32,
   "metadata": {},
   "outputs": [],
   "source": [
    "ingroup_ids = meta_data_samples.loc[meta_data_samples.Species == \"anubis\"].callset_index.values\n",
    "ingroup_names = meta_data_samples.loc[meta_data_samples.Species == \"anubis\"].PGDP_ID.values\n",
    "outgroup_ids = meta_data_samples.loc[(meta_data_samples.Species != \"anubis\") &\n",
    "                                     (meta_data_samples.Species != \"gelada\")].callset_index.values\n",
    "dir_name = \"anubis_intro/\""
   ]
  },
  {
   "cell_type": "code",
   "execution_count": 33,
   "metadata": {},
   "outputs": [
    {
     "name": "stdout",
     "output_type": "stream",
     "text": [
      "1\n",
      "2\n",
      "3\n",
      "4\n",
      "5\n",
      "6\n",
      "7\n",
      "8\n",
      "9\n",
      "10\n",
      "11\n",
      "12\n",
      "13\n",
      "14\n",
      "15\n",
      "16\n",
      "17\n",
      "18\n",
      "19\n",
      "20\n",
      "X\n"
     ]
    }
   ],
   "source": [
    "path = \"../\"+dir_name+\"chr{}/{}_chr{}_decoded.Summary.txt\"\n",
    "archaic_lengths = 0\n",
    "normal_lengths = 0\n",
    "id_list = []\n",
    "percentage_list = []\n",
    "chrom_list = []\n",
    "for chrom in chromosome_numbers:\n",
    "    for ID in ingroup_names:\n",
    "        summary_file = pd.read_csv(path.format(chrom, ID, chrom), sep = \"\\t\")\n",
    "        archaic_lengths += summary_file.loc[summary_file.state == \"Archaic\"].length.sum()\n",
    "        normal_lengths += summary_file.loc[summary_file.state == \"Baboon\"].length.sum()\n",
    "        id_list.append(ID)\n",
    "        percentage_list.append(summary_file.loc[summary_file.state == \"Archaic\"].length.sum()/summary_file.length.sum())\n",
    "        chrom_list.append(chrom)\n",
    "    print(chrom)"
   ]
  },
  {
   "cell_type": "code",
   "execution_count": 34,
   "metadata": {},
   "outputs": [
    {
     "data": {
      "text/plain": [
       "0.444183827920641"
      ]
     },
     "execution_count": 34,
     "metadata": {},
     "output_type": "execute_result"
    }
   ],
   "source": [
    "archaic_lengths/(normal_lengths+archaic_lengths)"
   ]
  },
  {
   "cell_type": "markdown",
   "metadata": {},
   "source": [
    "#This and later code is outdated, and is currently kept for the sake posteriority\n",
    "Block stats, anubis"
   ]
  },
  {
   "cell_type": "code",
   "execution_count": 35,
   "metadata": {},
   "outputs": [
    {
     "name": "stdout",
     "output_type": "stream",
     "text": [
      "1\n",
      "2\n"
     ]
    },
    {
     "ename": "KeyboardInterrupt",
     "evalue": "",
     "output_type": "error",
     "traceback": [
      "\u001b[0;31m---------------------------------------------------------------------------\u001b[0m",
      "\u001b[0;31mKeyboardInterrupt\u001b[0m                         Traceback (most recent call last)",
      "\u001b[0;32m<ipython-input-35-119954463af5>\u001b[0m in \u001b[0;36m<module>\u001b[0;34m\u001b[0m\n\u001b[1;32m      5\u001b[0m \u001b[0;32mfor\u001b[0m \u001b[0mchrom\u001b[0m \u001b[0;32min\u001b[0m \u001b[0mchromosome_numbers\u001b[0m\u001b[0;34m:\u001b[0m\u001b[0;34m\u001b[0m\u001b[0;34m\u001b[0m\u001b[0m\n\u001b[1;32m      6\u001b[0m     \u001b[0;32mfor\u001b[0m \u001b[0mID\u001b[0m \u001b[0;32min\u001b[0m \u001b[0mingroup_names\u001b[0m\u001b[0;34m:\u001b[0m\u001b[0;34m\u001b[0m\u001b[0;34m\u001b[0m\u001b[0m\n\u001b[0;32m----> 7\u001b[0;31m         \u001b[0mtotal_file\u001b[0m \u001b[0;34m=\u001b[0m \u001b[0mpd\u001b[0m\u001b[0;34m.\u001b[0m\u001b[0mread_csv\u001b[0m\u001b[0;34m(\u001b[0m\u001b[0mpath\u001b[0m\u001b[0;34m.\u001b[0m\u001b[0mformat\u001b[0m\u001b[0;34m(\u001b[0m\u001b[0mchrom\u001b[0m\u001b[0;34m,\u001b[0m \u001b[0mID\u001b[0m\u001b[0;34m,\u001b[0m \u001b[0mchrom\u001b[0m\u001b[0;34m)\u001b[0m\u001b[0;34m,\u001b[0m \u001b[0msep\u001b[0m \u001b[0;34m=\u001b[0m \u001b[0;34m\"\\t\"\u001b[0m\u001b[0;34m)\u001b[0m\u001b[0;34m\u001b[0m\u001b[0;34m\u001b[0m\u001b[0m\n\u001b[0m\u001b[1;32m      8\u001b[0m         \u001b[0;32mif\u001b[0m \u001b[0mdf_start\u001b[0m \u001b[0;34m==\u001b[0m \u001b[0;32mNone\u001b[0m\u001b[0;34m:\u001b[0m\u001b[0;34m\u001b[0m\u001b[0;34m\u001b[0m\u001b[0m\n\u001b[1;32m      9\u001b[0m             \u001b[0mtotal_df\u001b[0m \u001b[0;34m=\u001b[0m \u001b[0mtotal_file\u001b[0m\u001b[0;34m\u001b[0m\u001b[0;34m\u001b[0m\u001b[0m\n",
      "\u001b[0;32m~/miniconda3/envs/baboondiversity/lib/python3.7/site-packages/pandas/io/parsers.py\u001b[0m in \u001b[0;36mread_csv\u001b[0;34m(filepath_or_buffer, sep, delimiter, header, names, index_col, usecols, squeeze, prefix, mangle_dupe_cols, dtype, engine, converters, true_values, false_values, skipinitialspace, skiprows, skipfooter, nrows, na_values, keep_default_na, na_filter, verbose, skip_blank_lines, parse_dates, infer_datetime_format, keep_date_col, date_parser, dayfirst, cache_dates, iterator, chunksize, compression, thousands, decimal, lineterminator, quotechar, quoting, doublequote, escapechar, comment, encoding, dialect, error_bad_lines, warn_bad_lines, delim_whitespace, low_memory, memory_map, float_precision)\u001b[0m\n\u001b[1;32m    686\u001b[0m     )\n\u001b[1;32m    687\u001b[0m \u001b[0;34m\u001b[0m\u001b[0m\n\u001b[0;32m--> 688\u001b[0;31m     \u001b[0;32mreturn\u001b[0m \u001b[0m_read\u001b[0m\u001b[0;34m(\u001b[0m\u001b[0mfilepath_or_buffer\u001b[0m\u001b[0;34m,\u001b[0m \u001b[0mkwds\u001b[0m\u001b[0;34m)\u001b[0m\u001b[0;34m\u001b[0m\u001b[0;34m\u001b[0m\u001b[0m\n\u001b[0m\u001b[1;32m    689\u001b[0m \u001b[0;34m\u001b[0m\u001b[0m\n\u001b[1;32m    690\u001b[0m \u001b[0;34m\u001b[0m\u001b[0m\n",
      "\u001b[0;32m~/miniconda3/envs/baboondiversity/lib/python3.7/site-packages/pandas/io/parsers.py\u001b[0m in \u001b[0;36m_read\u001b[0;34m(filepath_or_buffer, kwds)\u001b[0m\n\u001b[1;32m    458\u001b[0m \u001b[0;34m\u001b[0m\u001b[0m\n\u001b[1;32m    459\u001b[0m     \u001b[0;32mtry\u001b[0m\u001b[0;34m:\u001b[0m\u001b[0;34m\u001b[0m\u001b[0;34m\u001b[0m\u001b[0m\n\u001b[0;32m--> 460\u001b[0;31m         \u001b[0mdata\u001b[0m \u001b[0;34m=\u001b[0m \u001b[0mparser\u001b[0m\u001b[0;34m.\u001b[0m\u001b[0mread\u001b[0m\u001b[0;34m(\u001b[0m\u001b[0mnrows\u001b[0m\u001b[0;34m)\u001b[0m\u001b[0;34m\u001b[0m\u001b[0;34m\u001b[0m\u001b[0m\n\u001b[0m\u001b[1;32m    461\u001b[0m     \u001b[0;32mfinally\u001b[0m\u001b[0;34m:\u001b[0m\u001b[0;34m\u001b[0m\u001b[0;34m\u001b[0m\u001b[0m\n\u001b[1;32m    462\u001b[0m         \u001b[0mparser\u001b[0m\u001b[0;34m.\u001b[0m\u001b[0mclose\u001b[0m\u001b[0;34m(\u001b[0m\u001b[0;34m)\u001b[0m\u001b[0;34m\u001b[0m\u001b[0;34m\u001b[0m\u001b[0m\n",
      "\u001b[0;32m~/miniconda3/envs/baboondiversity/lib/python3.7/site-packages/pandas/io/parsers.py\u001b[0m in \u001b[0;36mread\u001b[0;34m(self, nrows)\u001b[0m\n\u001b[1;32m   1196\u001b[0m     \u001b[0;32mdef\u001b[0m \u001b[0mread\u001b[0m\u001b[0;34m(\u001b[0m\u001b[0mself\u001b[0m\u001b[0;34m,\u001b[0m \u001b[0mnrows\u001b[0m\u001b[0;34m=\u001b[0m\u001b[0;32mNone\u001b[0m\u001b[0;34m)\u001b[0m\u001b[0;34m:\u001b[0m\u001b[0;34m\u001b[0m\u001b[0;34m\u001b[0m\u001b[0m\n\u001b[1;32m   1197\u001b[0m         \u001b[0mnrows\u001b[0m \u001b[0;34m=\u001b[0m \u001b[0m_validate_integer\u001b[0m\u001b[0;34m(\u001b[0m\u001b[0;34m\"nrows\"\u001b[0m\u001b[0;34m,\u001b[0m \u001b[0mnrows\u001b[0m\u001b[0;34m)\u001b[0m\u001b[0;34m\u001b[0m\u001b[0;34m\u001b[0m\u001b[0m\n\u001b[0;32m-> 1198\u001b[0;31m         \u001b[0mret\u001b[0m \u001b[0;34m=\u001b[0m \u001b[0mself\u001b[0m\u001b[0;34m.\u001b[0m\u001b[0m_engine\u001b[0m\u001b[0;34m.\u001b[0m\u001b[0mread\u001b[0m\u001b[0;34m(\u001b[0m\u001b[0mnrows\u001b[0m\u001b[0;34m)\u001b[0m\u001b[0;34m\u001b[0m\u001b[0;34m\u001b[0m\u001b[0m\n\u001b[0m\u001b[1;32m   1199\u001b[0m \u001b[0;34m\u001b[0m\u001b[0m\n\u001b[1;32m   1200\u001b[0m         \u001b[0;31m# May alter columns / col_dict\u001b[0m\u001b[0;34m\u001b[0m\u001b[0;34m\u001b[0m\u001b[0;34m\u001b[0m\u001b[0m\n",
      "\u001b[0;32m~/miniconda3/envs/baboondiversity/lib/python3.7/site-packages/pandas/io/parsers.py\u001b[0m in \u001b[0;36mread\u001b[0;34m(self, nrows)\u001b[0m\n\u001b[1;32m   2155\u001b[0m     \u001b[0;32mdef\u001b[0m \u001b[0mread\u001b[0m\u001b[0;34m(\u001b[0m\u001b[0mself\u001b[0m\u001b[0;34m,\u001b[0m \u001b[0mnrows\u001b[0m\u001b[0;34m=\u001b[0m\u001b[0;32mNone\u001b[0m\u001b[0;34m)\u001b[0m\u001b[0;34m:\u001b[0m\u001b[0;34m\u001b[0m\u001b[0;34m\u001b[0m\u001b[0m\n\u001b[1;32m   2156\u001b[0m         \u001b[0;32mtry\u001b[0m\u001b[0;34m:\u001b[0m\u001b[0;34m\u001b[0m\u001b[0;34m\u001b[0m\u001b[0m\n\u001b[0;32m-> 2157\u001b[0;31m             \u001b[0mdata\u001b[0m \u001b[0;34m=\u001b[0m \u001b[0mself\u001b[0m\u001b[0;34m.\u001b[0m\u001b[0m_reader\u001b[0m\u001b[0;34m.\u001b[0m\u001b[0mread\u001b[0m\u001b[0;34m(\u001b[0m\u001b[0mnrows\u001b[0m\u001b[0;34m)\u001b[0m\u001b[0;34m\u001b[0m\u001b[0;34m\u001b[0m\u001b[0m\n\u001b[0m\u001b[1;32m   2158\u001b[0m         \u001b[0;32mexcept\u001b[0m \u001b[0mStopIteration\u001b[0m\u001b[0;34m:\u001b[0m\u001b[0;34m\u001b[0m\u001b[0;34m\u001b[0m\u001b[0m\n\u001b[1;32m   2159\u001b[0m             \u001b[0;32mif\u001b[0m \u001b[0mself\u001b[0m\u001b[0;34m.\u001b[0m\u001b[0m_first_chunk\u001b[0m\u001b[0;34m:\u001b[0m\u001b[0;34m\u001b[0m\u001b[0;34m\u001b[0m\u001b[0m\n",
      "\u001b[0;32mpandas/_libs/parsers.pyx\u001b[0m in \u001b[0;36mpandas._libs.parsers.TextReader.read\u001b[0;34m()\u001b[0m\n",
      "\u001b[0;32mpandas/_libs/parsers.pyx\u001b[0m in \u001b[0;36mpandas._libs.parsers.TextReader._read_low_memory\u001b[0;34m()\u001b[0m\n",
      "\u001b[0;32mpandas/_libs/parsers.pyx\u001b[0m in \u001b[0;36mpandas._libs.parsers.TextReader._read_rows\u001b[0;34m()\u001b[0m\n",
      "\u001b[0;32mpandas/_libs/parsers.pyx\u001b[0m in \u001b[0;36mpandas._libs.parsers.TextReader._convert_column_data\u001b[0;34m()\u001b[0m\n",
      "\u001b[0;32mpandas/_libs/parsers.pyx\u001b[0m in \u001b[0;36mpandas._libs.parsers.TextReader._convert_tokens\u001b[0;34m()\u001b[0m\n",
      "\u001b[0;32mpandas/_libs/parsers.pyx\u001b[0m in \u001b[0;36mpandas._libs.parsers.TextReader._convert_with_dtype\u001b[0;34m()\u001b[0m\n",
      "\u001b[0;32m~/miniconda3/envs/baboondiversity/lib/python3.7/site-packages/pandas/core/dtypes/common.py\u001b[0m in \u001b[0;36mis_categorical_dtype\u001b[0;34m(arr_or_dtype)\u001b[0m\n\u001b[1;32m    528\u001b[0m \u001b[0;34m\u001b[0m\u001b[0m\n\u001b[1;32m    529\u001b[0m \u001b[0;34m\u001b[0m\u001b[0m\n\u001b[0;32m--> 530\u001b[0;31m \u001b[0;32mdef\u001b[0m \u001b[0mis_categorical_dtype\u001b[0m\u001b[0;34m(\u001b[0m\u001b[0marr_or_dtype\u001b[0m\u001b[0;34m)\u001b[0m \u001b[0;34m->\u001b[0m \u001b[0mbool\u001b[0m\u001b[0;34m:\u001b[0m\u001b[0;34m\u001b[0m\u001b[0;34m\u001b[0m\u001b[0m\n\u001b[0m\u001b[1;32m    531\u001b[0m     \"\"\"\n\u001b[1;32m    532\u001b[0m     \u001b[0mCheck\u001b[0m \u001b[0mwhether\u001b[0m \u001b[0man\u001b[0m \u001b[0marray\u001b[0m\u001b[0;34m-\u001b[0m\u001b[0mlike\u001b[0m \u001b[0;32mor\u001b[0m \u001b[0mdtype\u001b[0m \u001b[0;32mis\u001b[0m \u001b[0mof\u001b[0m \u001b[0mthe\u001b[0m \u001b[0mCategorical\u001b[0m \u001b[0mdtype\u001b[0m\u001b[0;34m.\u001b[0m\u001b[0;34m\u001b[0m\u001b[0;34m\u001b[0m\u001b[0m\n",
      "\u001b[0;31mKeyboardInterrupt\u001b[0m: "
     ]
    }
   ],
   "source": [
    "path = \"../\"+dir_name+\"chr{}/{}_chr{}_decoded.All_posterior_probs.txt\"\n",
    "df_start = None\n",
    "total_df = pd.DataFrame()\n",
    "df_list = []\n",
    "for chrom in chromosome_numbers:\n",
    "    for ID in ingroup_names:\n",
    "        total_file = pd.read_csv(path.format(chrom, ID, chrom), sep = \"\\t\")\n",
    "        if df_start == None:\n",
    "            total_df = total_file\n",
    "            df_start = True\n",
    "        total_df[ID] = total_file[\"Mostlikely\"]\n",
    "    df_list.append(total_df)\n",
    "    df_start = None\n",
    "    print(chrom)\n",
    "all_chromosomes = pd.concat(df_list)"
   ]
  },
  {
   "cell_type": "code",
   "execution_count": null,
   "metadata": {},
   "outputs": [],
   "source": [
    "sns.histplot((total_df.iloc[:,7:] == \"Archaic\").sum(axis=1))"
   ]
  },
  {
   "cell_type": "markdown",
   "metadata": {},
   "source": [
    "Hmm model investigation"
   ]
  },
  {
   "cell_type": "code",
   "execution_count": null,
   "metadata": {},
   "outputs": [],
   "source": [
    "ingroup_ids = meta_data_samples.loc[meta_data_samples.Species == \"papio\"].callset_index.values\n",
    "ingroup_names = meta_data_samples.loc[meta_data_samples.Species == \"papio\"].PGDP_ID.values\n",
    "outgroup_ids = meta_data_samples.loc[(meta_data_samples.Species != \"papio\") &\n",
    "                                     (meta_data_samples.Species != \"gelada\")].callset_index.values\n",
    "dir_name = \"papio_intro/\""
   ]
  },
  {
   "cell_type": "code",
   "execution_count": null,
   "metadata": {},
   "outputs": [],
   "source": [
    "path = \"../\"+dir_name+\"chr{}/{}.chr{}_trained.hmm\"\n",
    "t1, t2, t3, t4, e1, e2, ID_l, chrom_l = [], [], [], [], [], [], [], []\n",
    "for ID in ingroup_names:\n",
    "    for chromosome in chromosome_numbers:\n",
    "        with open(path.format(chromosome, ID, chromosome)) as f:\n",
    "            lines = f.readlines()\n",
    "        hmm_t = []\n",
    "        for l in lines[7].strip()[14:].split(\",\"):\n",
    "            hmm_t.append(l.strip(\"][\"))\n",
    "        t1.append(hmm_t[0]), t2.append(hmm_t[1]), t3.append(hmm_t[2]), t4.append(hmm_t[3])\n",
    "        hmm_e = (lines[10].strip()[12:].strip(\"[]\").split(\",\"))\n",
    "        e1.append(hmm_e[0]), e2.append(hmm_e[1])\n",
    "        ID_l.append(ID)\n",
    "        chrom_l.append(chromosome)\n",
    "        \n",
    "d = {\"t1\": t1, \"t2\": t2,\"t3\": t3,\"t4\": t4,\"e1\": e1,\"e2\": e2}\n",
    "hmm_df = pd.DataFrame(data=d)\n",
    "hmm_df = hmm_df.astype(\"float\")\n",
    "hmm_df[\"ID\"] = ID_l\n",
    "hmm_df[\"chrom\"] = chrom_l"
   ]
  },
  {
   "cell_type": "code",
   "execution_count": null,
   "metadata": {},
   "outputs": [],
   "source": [
    "sns.histplot(data=hmm_df, x=hmm_df.e2/hmm_df.e1)"
   ]
  },
  {
   "cell_type": "code",
   "execution_count": null,
   "metadata": {},
   "outputs": [],
   "source": [
    "sns.scatterplot(data=hmm_df, x=\"e1\", y=\"e2\")"
   ]
  },
  {
   "cell_type": "code",
   "execution_count": null,
   "metadata": {},
   "outputs": [],
   "source": [
    "sns.scatterplot(data=hmm_df, x=\"t4\", y=\"e2\")"
   ]
  },
  {
   "cell_type": "code",
   "execution_count": null,
   "metadata": {},
   "outputs": [],
   "source": [
    "ingroup_ids = meta_data_samples.loc[meta_data_samples.Species == \"anubis\"].callset_index.values\n",
    "ingroup_names = meta_data_samples.loc[meta_data_samples.Species == \"anubis\"].PGDP_ID.values\n",
    "outgroup_ids = meta_data_samples.loc[(meta_data_samples.Species != \"anubis\") &\n",
    "                                     (meta_data_samples.Species != \"gelada\")].callset_index.values\n",
    "dir_name = \"anubis_intro/\""
   ]
  },
  {
   "cell_type": "code",
   "execution_count": null,
   "metadata": {},
   "outputs": [],
   "source": [
    "path = \"../\"+dir_name+\"chr{}/{}.chr{}_trained.hmm\"\n",
    "t1, t2, t3, t4, e1, e2, ID_l, chrom_l = [], [], [], [], [], [], [], []\n",
    "for ID in ingroup_names:\n",
    "    for chromosome in chromosome_numbers:\n",
    "        with open(path.format(chromosome, ID, chromosome)) as f:\n",
    "            lines = f.readlines()\n",
    "        hmm_t = []\n",
    "        for l in lines[7].strip()[14:].split(\",\"):\n",
    "            hmm_t.append(l.strip(\"][\"))\n",
    "        t1.append(hmm_t[0]), t2.append(hmm_t[1]), t3.append(hmm_t[2]), t4.append(hmm_t[3])\n",
    "        hmm_e = (lines[10].strip()[12:].strip(\"[]\").split(\",\"))\n",
    "        e1.append(hmm_e[0]), e2.append(hmm_e[1])\n",
    "        ID_l.append(ID)\n",
    "        chrom_l.append(chromosome)\n",
    "        \n",
    "d = {\"t1\": t1, \"t2\": t2,\"t3\": t3,\"t4\": t4,\"e1\": e1,\"e2\": e2}\n",
    "hmm_df_a = pd.DataFrame(data=d)\n",
    "hmm_df_a = hmm_df_a.astype(\"float\")\n",
    "hmm_df_a[\"ID\"] = ID_l\n",
    "hmm_df_a[\"chrom\"] = chrom_l"
   ]
  },
  {
   "cell_type": "code",
   "execution_count": null,
   "metadata": {},
   "outputs": [],
   "source": [
    "g = sns.histplot(data=hmm_df_a, x=hmm_df_a.e2/hmm_df_a.e1)\n",
    "g.set(xlim=(None, 8))"
   ]
  },
  {
   "cell_type": "code",
   "execution_count": null,
   "metadata": {},
   "outputs": [],
   "source": [
    "sns.scatterplot(data=hmm_df_a, x=\"e1\", y=\"e2\")"
   ]
  }
 ],
 "metadata": {
  "kernelspec": {
   "display_name": "Python 3",
   "language": "python",
   "name": "python3"
  },
  "language_info": {
   "codemirror_mode": {
    "name": "ipython",
    "version": 3
   },
   "file_extension": ".py",
   "mimetype": "text/x-python",
   "name": "python",
   "nbconvert_exporter": "python",
   "pygments_lexer": "ipython3",
   "version": "3.7.9"
  }
 },
 "nbformat": 4,
 "nbformat_minor": 4
}
