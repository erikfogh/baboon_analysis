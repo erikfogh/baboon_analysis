{
 "cells": [
  {
   "cell_type": "markdown",
   "metadata": {},
   "source": [
    "First, I will look at the f3 statistic for the two anubis clusters and hamadryas"
   ]
  },
  {
   "cell_type": "code",
   "execution_count": 1,
   "metadata": {},
   "outputs": [],
   "source": [
    "%run ../scripts/notebook_settings.py"
   ]
  },
  {
   "cell_type": "code",
   "execution_count": 2,
   "metadata": {},
   "outputs": [],
   "source": [
    "meta_data_samples = pd.read_table(\"../data/metadata_with_x_missing.txt\", sep=\" \")"
   ]
  },
  {
   "cell_type": "code",
   "execution_count": 3,
   "metadata": {},
   "outputs": [],
   "source": [
    "zarr_dir = \"/faststorage/project/baboondiversity/data/PG_panu3_zarr_01_03_2021/callset.zarr/chrX\"\n",
    "#Opening the zarr data\n",
    "callset = zarr.open_group(zarr_dir, mode=\"r\")\n",
    "gt = allel.GenotypeArray(callset[\"calldata/GT\"])"
   ]
  },
  {
   "cell_type": "markdown",
   "metadata": {},
   "source": [
    "Picking the ID values, and then extracting the allele counts."
   ]
  },
  {
   "cell_type": "code",
   "execution_count": 4,
   "metadata": {},
   "outputs": [],
   "source": [
    "meta_data_samples_f = meta_data_samples.loc[meta_data_samples.Sex==\"F\"]\n",
    "anubis_t = meta_data_samples_f.loc[meta_data_samples_f.C_origin==\"Anubis, Tanzania\"].callset_index.values\n",
    "anubis_e = meta_data_samples_f.loc[meta_data_samples_f.C_origin==\"Anubis, Ethiopia\"].callset_index.values\n",
    "hamadryas = meta_data_samples_f.loc[meta_data_samples_f.C_origin==\"Hamadryas, Ethiopia\"].callset_index.values"
   ]
  },
  {
   "cell_type": "code",
   "execution_count": 5,
   "metadata": {},
   "outputs": [],
   "source": [
    "a_t_gt = gt.take(anubis_t, axis=1)\n",
    "a_e_gt = gt.take(anubis_e, axis=1)\n",
    "h_gt = gt.take(hamadryas, axis=1)"
   ]
  },
  {
   "cell_type": "code",
   "execution_count": 6,
   "metadata": {},
   "outputs": [],
   "source": [
    "a_t_ac = a_t_gt.count_alleles(max_allele=1)\n",
    "a_e_ac = a_e_gt.count_alleles(max_allele=1)\n",
    "h_ac = h_gt.count_alleles(max_allele=1)"
   ]
  },
  {
   "cell_type": "markdown",
   "metadata": {},
   "source": [
    "If there is no data in one species, f3 seems to fail (division by zero), so I remove all sites which has at least one part failing."
   ]
  },
  {
   "cell_type": "code",
   "execution_count": 8,
   "metadata": {},
   "outputs": [],
   "source": [
    "passing_sites = (a_t_ac.max_allele() >= 0) & (a_e_ac.max_allele() >= 0) & (h_ac.max_allele() >= 0)"
   ]
  },
  {
   "cell_type": "code",
   "execution_count": 9,
   "metadata": {},
   "outputs": [
    {
     "data": {
      "text/plain": [
       "(2911612, 2923212)"
      ]
     },
     "execution_count": 9,
     "metadata": {},
     "output_type": "execute_result"
    }
   ],
   "source": [
    "passing_sites.sum(), len(passing_sites)"
   ]
  },
  {
   "cell_type": "code",
   "execution_count": 12,
   "metadata": {},
   "outputs": [],
   "source": [
    "a_tanza = a_t_ac.compress(passing_sites)\n",
    "a_ethio = a_e_ac.compress(passing_sites)\n",
    "hama = h_ac.compress(passing_sites)"
   ]
  },
  {
   "cell_type": "code",
   "execution_count": 14,
   "metadata": {},
   "outputs": [
    {
     "name": "stderr",
     "output_type": "stream",
     "text": [
      "/home/eriks/miniconda3/envs/baboondiversity/lib/python3.7/site-packages/allel/stats/admixture.py:38: RuntimeWarning: invalid value encountered in true_divide\n",
      "  x = (ac[:, 0] * ac[:, 1]) / (an * (an - 1))\n"
     ]
    }
   ],
   "source": [
    "result = allel.patterson_f3(a_ethio, a_tanza, hama)"
   ]
  },
  {
   "cell_type": "code",
   "execution_count": 20,
   "metadata": {},
   "outputs": [
    {
     "data": {
      "text/plain": [
       "array([0.5       , 0.        , 0.        , ..., 0.        , 0.        ,\n",
       "       0.23333333])"
      ]
     },
     "execution_count": 20,
     "metadata": {},
     "output_type": "execute_result"
    }
   ],
   "source": [
    "result[1]"
   ]
  },
  {
   "cell_type": "code",
   "execution_count": null,
   "metadata": {},
   "outputs": [],
   "source": []
  }
 ],
 "metadata": {
  "kernelspec": {
   "display_name": "Python 3",
   "language": "python",
   "name": "python3"
  },
  "language_info": {
   "codemirror_mode": {
    "name": "ipython",
    "version": 3
   },
   "file_extension": ".py",
   "mimetype": "text/x-python",
   "name": "python",
   "nbconvert_exporter": "python",
   "pygments_lexer": "ipython3",
   "version": "3.7.9"
  }
 },
 "nbformat": 4,
 "nbformat_minor": 4
}
