{
 "cells": [
  {
   "cell_type": "code",
   "execution_count": 1,
   "metadata": {},
   "outputs": [],
   "source": [
    "#Initial configuration, probably overkill in imports.\n",
    "import sys, os, re\n",
    "import numpy as np\n",
    "import allel\n",
    "import zarr\n",
    "import dask\n",
    "import numcodecs\n",
    "import warnings\n",
    "from pathlib import Path\n",
    "\n",
    "#os.environ[\"MODIN_ENGINE\"] = \"ray\"\n",
    "\n",
    "#import modin.pandas as pd\n",
    "import pandas as pd\n",
    "\n",
    "%matplotlib inline\n",
    "from IPython.display import set_matplotlib_formats\n",
    "set_matplotlib_formats('retina', 'png')\n",
    "import matplotlib\n",
    "import matplotlib.pyplot as plt\n",
    "from matplotlib.colors import ListedColormap\n",
    "from horizonplot import horizonplot\n",
    "import seaborn as sns\n",
    "sns.set()\n",
    "sns.set_theme()\n",
    "sns.set_style(\"white\")\n",
    "sns.set_context(\"notebook\")"
   ]
  },
  {
   "cell_type": "code",
   "execution_count": 2,
   "metadata": {},
   "outputs": [],
   "source": [
    "meta_data_samples = pd.read_table(\"../data/meta_data_samples.txt\", sep = \" \")"
   ]
  },
  {
   "cell_type": "code",
   "execution_count": 3,
   "metadata": {},
   "outputs": [
    {
     "data": {
      "application/vnd.jupyter.widget-view+json": {
       "model_id": "2a7d11dc75ab4ab7a77012b215f3fb92",
       "version_major": 2,
       "version_minor": 0
      },
      "text/plain": [
       "Tree(nodes=(Node(disabled=True, name='/', nodes=(Node(disabled=True, name='chr1', nodes=(Node(disabled=True, n…"
      ]
     },
     "metadata": {},
     "output_type": "display_data"
    }
   ],
   "source": [
    "#Opening the zarr data\n",
    "callset = zarr.open_group('/faststorage/project/primatediversity/people/kmt/baboon_flagship/steps/callset.zarr', mode='r')\n",
    "callset.tree(expand=False)"
   ]
  },
  {
   "cell_type": "code",
   "execution_count": 4,
   "metadata": {},
   "outputs": [],
   "source": [
    "females = meta_data_samples.loc[(meta_data_samples.Sex == \"F\")& (meta_data_samples.PGDP_ID != \"PD_0202\")].callset_index.values\n",
    "males = meta_data_samples.loc[(meta_data_samples.Sex == \"M\")].callset_index.values"
   ]
  },
  {
   "cell_type": "code",
   "execution_count": 5,
   "metadata": {},
   "outputs": [
    {
     "name": "stdout",
     "output_type": "stream",
     "text": [
      "96 63\n"
     ]
    }
   ],
   "source": [
    "print(len(males), len(females))"
   ]
  },
  {
   "cell_type": "code",
   "execution_count": 18,
   "metadata": {},
   "outputs": [],
   "source": [
    "pos = allel.SortedIndex(callset['chrX/variants/POS'])\n",
    "loc_region = pos.locate_range(3000000, 152000000)"
   ]
  },
  {
   "cell_type": "code",
   "execution_count": 19,
   "metadata": {},
   "outputs": [],
   "source": [
    "gt_zarr = callset[\"chrX/calldata/GT\"]\n",
    "gt = allel.GenotypeArray(gt_zarr[loc_region])"
   ]
  },
  {
   "cell_type": "code",
   "execution_count": 20,
   "metadata": {},
   "outputs": [],
   "source": [
    "gt_females = (gt.take(females, axis=1))\n",
    "gt_males = (gt.take(males, axis=1))\n",
    "ac_female = gt_females.count_alleles(max_allele=1)[:]\n",
    "ac_male = gt_males.count_alleles(max_allele=1)[:]"
   ]
  },
  {
   "cell_type": "code",
   "execution_count": 21,
   "metadata": {},
   "outputs": [],
   "source": [
    "het_females = allel.GenotypeAlleleCounts(ac_female).is_het()\n",
    "het_males = allel.GenotypeAlleleCounts(ac_male).is_het()"
   ]
  },
  {
   "cell_type": "code",
   "execution_count": 22,
   "metadata": {},
   "outputs": [
    {
     "name": "stdout",
     "output_type": "stream",
     "text": [
      "3411081 3411081\n"
     ]
    }
   ],
   "source": [
    "print(len(het_males), len(het_females))"
   ]
  },
  {
   "cell_type": "code",
   "execution_count": 23,
   "metadata": {},
   "outputs": [],
   "source": [
    "union = np.logical_and(\n",
    "    np.logical_and(het_males != False, het_females != False),\n",
    "    het_males == het_females).sum()"
   ]
  },
  {
   "cell_type": "code",
   "execution_count": 24,
   "metadata": {},
   "outputs": [
    {
     "name": "stdout",
     "output_type": "stream",
     "text": [
      "2098496 1967201 1527420\n"
     ]
    }
   ],
   "source": [
    "#Number of het sites on the X\n",
    "print(het_males.sum(), het_females.sum(), union)\n",
    "# 2256621 and 2106141"
   ]
  },
  {
   "cell_type": "code",
   "execution_count": 25,
   "metadata": {},
   "outputs": [
    {
     "name": "stdout",
     "output_type": "stream",
     "text": [
      "410490 81273\n",
      "0.20866703504115747 0.03872916603129098\n"
     ]
    }
   ],
   "source": [
    "#Number of singletons\n",
    "print(ac_female.count_singleton(), ac_male.count_singleton())\n",
    "print(ac_female.count_singleton()/het_females.sum(), ac_male.count_singleton()/het_males.sum())"
   ]
  },
  {
   "cell_type": "code",
   "execution_count": 26,
   "metadata": {},
   "outputs": [
    {
     "name": "stdout",
     "output_type": "stream",
     "text": [
      "237653 441792\n",
      "0.12080768564066408 0.21052792094909878\n"
     ]
    }
   ],
   "source": [
    "#Number of doubletons\n",
    "print(ac_female.count_doubleton(), ac_male.count_doubleton())\n",
    "print(ac_female.count_doubleton()/het_females.sum(), ac_male.count_doubleton()/het_males.sum())"
   ]
  },
  {
   "cell_type": "code",
   "execution_count": 27,
   "metadata": {},
   "outputs": [
    {
     "name": "stdout",
     "output_type": "stream",
     "text": [
      "3411081\n"
     ]
    }
   ],
   "source": [
    "#male_list = het_males.tolist()\n",
    "#female_list = het_females.tolist()\n",
    "print(len(het_males))"
   ]
  },
  {
   "cell_type": "code",
   "execution_count": 28,
   "metadata": {},
   "outputs": [],
   "source": [
    "union = 0\n",
    "male_unique = 0\n",
    "female_unique = 0\n",
    "no_het = 0\n",
    "for i in range(len(het_females)):\n",
    "    if het_males[i] == True and het_females[i] == True:\n",
    "        union += 1\n",
    "    elif het_females[i] == True:\n",
    "        female_unique += 1\n",
    "    elif het_males[i] == True:\n",
    "        male_unique += 1\n",
    "    else:\n",
    "        no_het += 1"
   ]
  },
  {
   "cell_type": "code",
   "execution_count": 29,
   "metadata": {},
   "outputs": [
    {
     "name": "stdout",
     "output_type": "stream",
     "text": [
      "1527420 571076 439781 872804\n"
     ]
    }
   ],
   "source": [
    "print(union, male_unique, female_unique, no_het)"
   ]
  },
  {
   "cell_type": "code",
   "execution_count": 30,
   "metadata": {},
   "outputs": [
    {
     "name": "stdout",
     "output_type": "stream",
     "text": [
      "0.7278641465125499 % of male het calls are not male unique\n",
      "0.27213585348745006 % of male het calls are male unique\n",
      "0.2235567184034575 % of female het calls are female unique\n"
     ]
    }
   ],
   "source": [
    "print(\"{} % of male het calls are not male unique\".format(union/het_males.sum()))\n",
    "print(\"{} % of male het calls are male unique\".format(male_unique/het_males.sum()))\n",
    "print(\"{} % of female het calls are female unique\".format(female_unique/het_females.sum()))"
   ]
  }
 ],
 "metadata": {
  "kernelspec": {
   "display_name": "Python 3",
   "language": "python",
   "name": "python3"
  },
  "language_info": {
   "codemirror_mode": {
    "name": "ipython",
    "version": 3
   },
   "file_extension": ".py",
   "mimetype": "text/x-python",
   "name": "python",
   "nbconvert_exporter": "python",
   "pygments_lexer": "ipython3",
   "version": "3.7.9"
  }
 },
 "nbformat": 4,
 "nbformat_minor": 4
}
